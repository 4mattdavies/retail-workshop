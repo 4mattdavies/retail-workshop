{
  "paragraphs": [
    {
      "text": "import scala.collection.mutable.ListBuffer\nimport org.apache.spark.sql._\nimport org.apache.spark.ml.feature.{RegexTokenizer, Tokenizer}\nimport org.apache.spark.sql.functions._\nimport org.apache.spark.ml.feature.StopWordsRemover\nimport scala.collection.mutable.WrappedArray\n//import org.apache.spark.ml.feature.{HashingTF, IDF}\n//import org.apache.spark.ml.feature.NGram\nimport org.apache.spark.ml.feature._\nimport org.apache.spark.ml.Pipeline\nimport org.apache.spark.ml.classification.LogisticRegression\nimport org.apache.spark.ml.evaluation.BinaryClassificationEvaluator\nimport org.apache.spark.ml.feature.{HashingTF, Tokenizer}\nimport org.apache.spark.ml.linalg.Vector\nimport org.apache.spark.ml.tuning.{CrossValidator, ParamGridBuilder}\nimport org.apache.spark.sql.Row\nimport org.apache.spark.ml.feature.QuantileDiscretizer\nimport org.apache.spark.ml.feature.Bucketizer\nimport org.apache.spark.ml.linalg._\nimport org.apache.spark.mllib.linalg.distributed._",
      "user": "davidgillen@precocityllc.com",
      "dateUpdated": "Jan 11, 2018 6:50:09 PM",
      "config": {
        "colWidth": 12.0,
        "graph": {
          "mode": "table",
          "height": 300.0,
          "optionOpen": false,
          "keys": [],
          "values": [],
          "groups": [],
          "scatter": {}
        },
        "enabled": true,
        "editorMode": "ace/mode/scala"
      },
      "settings": {
        "params": {},
        "forms": {}
      },
      "paragraphProgress": {
        "jobs": [],
        "numCompletedTasks": 0,
        "numTasks": 0,
        "truncated": false
      },
      "jobName": "paragraph_1513310993398_-1922442312",
      "id": "20171215-040953_335028120_q_8YVGJMASEQ1515692831",
      "result": {
        "code": "SUCCESS",
        "type": "TEXT",
        "msg": "\nimport scala.collection.mutable.ListBuffer\n\nimport org.apache.spark.sql._\n\nimport org.apache.spark.ml.feature.{RegexTokenizer, Tokenizer}\n\nimport org.apache.spark.sql.functions._\n\nimport org.apache.spark.ml.feature.StopWordsRemover\n\nimport scala.collection.mutable.WrappedArray\n\nimport org.apache.spark.ml.feature._\n\nimport org.apache.spark.ml.Pipeline\n\nimport org.apache.spark.ml.classification.LogisticRegression\n\nimport org.apache.spark.ml.evaluation.BinaryClassificationEvaluator\n\nimport org.apache.spark.ml.feature.{HashingTF, Tokenizer}\n\nimport org.apache.spark.ml.linalg.Vector\n\nimport org.apache.spark.ml.tuning.{CrossValidator, ParamGridBuilder}\n\nimport org.apache.spark.sql.Row\n\nimport org.apache.spark.ml.feature.QuantileDiscretizer\n\nimport org.apache.spark.ml.feature.Bucketizer\n\nimport org.apache.spark.ml.linalg._\n\nimport org.apache.spark.mllib.linalg.distributed._\n"
      },
      "dateCreated": "Dec 15, 2017 4:09:53 AM",
      "dateStarted": "Jan 11, 2018 6:50:09 PM",
      "dateFinished": "Jan 11, 2018 6:51:03 PM",
      "status": "FINISHED",
      "progressUpdateIntervalMs": 500
    },
    {
      "text": "%md\n# Ingestion from Azure Blob into Quoble/Spark Dataframe\n\n* Parse the file name to create a new `Category` column\n* Issue the createOrReplaceTempView command registers our `inputDf` dataframe as the Spark.SQL table `all_reviews` so that we can query it with normal SQL later",
      "user": "davidgillen@precocityllc.com",
      "dateUpdated": "Jan 11, 2018 12:20:11 PM",
      "config": {
        "colWidth": 12.0,
        "graph": {
          "mode": "table",
          "height": 300.0,
          "optionOpen": false,
          "keys": [],
          "values": [],
          "groups": [],
          "scatter": {}
        },
        "enabled": true,
        "editorMode": "ace/mode/markdown",
        "editorHide": true
      },
      "settings": {
        "params": {},
        "forms": {}
      },
      "jobName": "paragraph_1515012617693_-1628484423",
      "id": "20180103-205017_99358902_q_8YVGJMASEQ1515692831",
      "result": {
        "code": "SUCCESS",
        "type": "HTML",
        "msg": "\u003cdiv class\u003d\"markdown-body\"\u003e\n\u003ch1\u003eIngestion from Azure Blob into Quoble/Spark Dataframe\u003c/h1\u003e\n\u003cul\u003e\n  \u003cli\u003eParse the file name to create a new \u003ccode\u003eCategory\u003c/code\u003e column\u003c/li\u003e\n  \u003cli\u003eIssue the createOrReplaceTempView command registers our \u003ccode\u003einputDf\u003c/code\u003e dataframe as the Spark.SQL table \u003ccode\u003eall_reviews\u003c/code\u003e so that we can query it with normal SQL later\u003c/li\u003e\n\u003c/ul\u003e\n\u003c/div\u003e"
      },
      "dateCreated": "Jan 3, 2018 8:50:17 PM",
      "dateStarted": "Jan 11, 2018 12:20:11 PM",
      "dateFinished": "Jan 11, 2018 12:20:13 PM",
      "status": "FINISHED",
      "progressUpdateIntervalMs": 500
    },
    {
      "text": "var inputDf \u003d sqlContext.read.json(\"wasb://product-reviews@precocityquboleout.blob.core.windows.net/reviews_Electronics_5.json\") \ninputDf \u003d inputDf.withColumn(\"Category\",lit(\"Electronics\"))\ninputDf.createOrReplaceTempView(\"all_reviews\")",
      "user": "davidgillen@precocityllc.com",
      "dateUpdated": "Jan 11, 2018 6:52:18 PM",
      "config": {
        "colWidth": 12.0,
        "graph": {
          "mode": "table",
          "height": 300.0,
          "optionOpen": false,
          "keys": [],
          "values": [],
          "groups": [],
          "scatter": {}
        },
        "enabled": true,
        "editorMode": "ace/mode/scala"
      },
      "settings": {
        "params": {},
        "forms": {}
      },
      "paragraphProgress": {
        "jobs": [
          {
            "id": 0,
            "jobUrl": "https://azure.qubole.com/cluster-proxy?encodedUrl\u003dhttp%3A%2F%2F10.0.0.4%3A8088%2Fproxy%2Fapplication_1515672864099_0012/jobs/job?spark\u003dtrue\u0026id\u003d0",
            "numTasks": 3,
            "numCompletedTasks": 3,
            "stages": [
              {
                "id": 0,
                "completed": true,
                "stageUrl": "https://azure.qubole.com/cluster-proxy?encodedUrl\u003dhttp%3A%2F%2F10.0.0.4%3A8088%2Fproxy%2Fapplication_1515672864099_0012/stages/stage/?id\u003d0\u0026attempt\u003d0",
                "numCompleteTasks": 3,
                "numActiveTasks": 0,
                "numFailedTasks": 0,
                "numTotalTasks": 3
              }
            ],
            "status": "Success"
          }
        ],
        "numCompletedTasks": 3,
        "numTasks": 3,
        "truncated": false
      },
      "jobName": "paragraph_1515592490982_-348148161",
      "id": "20180110-135450_333212547_q_8YVGJMASEQ1515692831",
      "result": {
        "code": "SUCCESS",
        "type": "TEXT",
        "msg": "\ninputDf: org.apache.spark.sql.DataFrame \u003d [asin: string, helpful: array\u003cbigint\u003e ... 7 more fields]\n\ninputDf: org.apache.spark.sql.DataFrame \u003d [asin: string, helpful: array\u003cbigint\u003e ... 8 more fields]\n"
      },
      "dateCreated": "Jan 10, 2018 1:54:50 PM",
      "dateStarted": "Jan 11, 2018 6:52:18 PM",
      "dateFinished": "Jan 11, 2018 6:52:44 PM",
      "status": "FINISHED",
      "progressUpdateIntervalMs": 500
    },
    {
      "text": "%md\n# Let\u0027s look at the schema of the data",
      "user": "davidgillen@precocityllc.com",
      "dateUpdated": "Jan 10, 2018 2:00:14 PM",
      "config": {
        "colWidth": 12.0,
        "graph": {
          "mode": "table",
          "height": 300.0,
          "optionOpen": false,
          "keys": [],
          "values": [],
          "groups": [],
          "scatter": {}
        },
        "enabled": true,
        "editorMode": "ace/mode/markdown",
        "editorHide": true
      },
      "settings": {
        "params": {},
        "forms": {}
      },
      "jobName": "paragraph_1515592760157_-921440991",
      "id": "20180110-135920_249521663_q_8YVGJMASEQ1515692831",
      "result": {
        "code": "SUCCESS",
        "type": "HTML",
        "msg": "\u003cdiv class\u003d\"markdown-body\"\u003e\n\u003ch1\u003eLet\u0026rsquo;s look at the schema of the data\u003c/h1\u003e\n\u003c/div\u003e"
      },
      "dateCreated": "Jan 10, 2018 1:59:20 PM",
      "dateStarted": "Jan 10, 2018 2:00:12 PM",
      "dateFinished": "Jan 10, 2018 2:00:12 PM",
      "status": "FINISHED",
      "progressUpdateIntervalMs": 500
    },
    {
      "text": "inputDf.printSchema",
      "user": "davidgillen@precocityllc.com",
      "dateUpdated": "Jan 10, 2018 2:05:57 PM",
      "config": {
        "colWidth": 12.0,
        "graph": {
          "mode": "table",
          "height": 300.0,
          "optionOpen": false,
          "keys": [],
          "values": [],
          "groups": [],
          "scatter": {}
        },
        "enabled": true,
        "editorMode": "ace/mode/scala"
      },
      "settings": {
        "params": {},
        "forms": {}
      },
      "paragraphProgress": {
        "jobs": [],
        "numCompletedTasks": 0,
        "numTasks": 0,
        "truncated": false
      },
      "jobName": "paragraph_1515592817112_1923685180",
      "id": "20180110-140017_1364279757_q_8YVGJMASEQ1515692831",
      "result": {
        "code": "SUCCESS",
        "type": "TEXT",
        "msg": "root\n |-- asin: string (nullable \u003d true)\n |-- helpful: array (nullable \u003d true)\n |    |-- element: long (containsNull \u003d true)\n |-- overall: double (nullable \u003d true)\n |-- reviewText: string (nullable \u003d true)\n |-- reviewTime: string (nullable \u003d true)\n |-- reviewerID: string (nullable \u003d true)\n |-- reviewerName: string (nullable \u003d true)\n |-- summary: string (nullable \u003d true)\n |-- unixReviewTime: long (nullable \u003d true)\n |-- Category: string (nullable \u003d false)\n\n"
      },
      "dateCreated": "Jan 10, 2018 2:00:17 PM",
      "dateStarted": "Jan 10, 2018 2:05:57 PM",
      "dateFinished": "Jan 10, 2018 2:05:58 PM",
      "status": "FINISHED",
      "progressUpdateIntervalMs": 500
    },
    {
      "text": "%md\n* **asin**: Product ID\n* **helpful**: Array of 2 values. 1st value is # of times this review was voted helpful (upVotes), 2nd value is the total # of votes on this review\n* **overall**: The 1 to 5 star rating of the product\n* **reviewText**: The raw text of the actual review itself",
      "user": "davidgillen@precocityllc.com",
      "dateUpdated": "Jan 11, 2018 12:20:24 PM",
      "config": {
        "colWidth": 12.0,
        "graph": {
          "mode": "table",
          "height": 300.0,
          "optionOpen": false,
          "keys": [],
          "values": [],
          "groups": [],
          "scatter": {}
        },
        "enabled": true,
        "editorMode": "ace/mode/markdown",
        "editorHide": true
      },
      "settings": {
        "params": {},
        "forms": {}
      },
      "jobName": "paragraph_1515592844615_-610225104",
      "id": "20180110-140044_1561032633_q_8YVGJMASEQ1515692831",
      "result": {
        "code": "SUCCESS",
        "type": "HTML",
        "msg": "\u003cdiv class\u003d\"markdown-body\"\u003e\n\u003cul\u003e\n  \u003cli\u003e\u003cstrong\u003easin\u003c/strong\u003e: Product ID\u003c/li\u003e\n  \u003cli\u003e\u003cstrong\u003ehelpful\u003c/strong\u003e: Array of 2 values. 1st value is # of times this review was voted helpful (upVotes), 2nd value is the total # of votes on this review\u003c/li\u003e\n  \u003cli\u003e\u003cstrong\u003eoverall\u003c/strong\u003e: The 1 to 5 star rating of the product\u003c/li\u003e\n  \u003cli\u003e\u003cstrong\u003ereviewText\u003c/strong\u003e: The raw text of the actual review itself\u003c/li\u003e\n\u003c/ul\u003e\n\u003c/div\u003e"
      },
      "dateCreated": "Jan 10, 2018 2:00:44 PM",
      "dateStarted": "Jan 10, 2018 2:04:22 PM",
      "dateFinished": "Jan 10, 2018 2:04:22 PM",
      "status": "FINISHED",
      "progressUpdateIntervalMs": 500
    },
    {
      "text": "%md\n# Let\u0027s look at few rows of raw data",
      "user": "davidgillen@precocityllc.com",
      "dateUpdated": "Jan 10, 2018 1:58:55 PM",
      "config": {
        "colWidth": 12.0,
        "graph": {
          "mode": "table",
          "height": 300.0,
          "optionOpen": false,
          "keys": [],
          "values": [],
          "groups": [],
          "scatter": {}
        },
        "enabled": true,
        "editorMode": "ace/mode/markdown",
        "editorHide": true
      },
      "settings": {
        "params": {},
        "forms": {}
      },
      "jobName": "paragraph_1515592715793_1023602616",
      "id": "20180110-135835_584406976_q_8YVGJMASEQ1515692831",
      "result": {
        "code": "SUCCESS",
        "type": "HTML",
        "msg": "\u003cdiv class\u003d\"markdown-body\"\u003e\n\u003ch1\u003eLet\u0026rsquo;s look at few rows of raw data\u003c/h1\u003e\n\u003c/div\u003e"
      },
      "dateCreated": "Jan 10, 2018 1:58:35 PM",
      "dateStarted": "Jan 10, 2018 1:58:51 PM",
      "dateFinished": "Jan 10, 2018 1:58:53 PM",
      "status": "FINISHED",
      "progressUpdateIntervalMs": 500
    },
    {
      "text": "%spark.sql\nselect * from all_reviews limit 10",
      "user": "davidgillen@precocityllc.com",
      "dateUpdated": "Jan 10, 2018 1:58:16 PM",
      "config": {
        "colWidth": 12.0,
        "graph": {
          "mode": "table",
          "height": 300.0,
          "optionOpen": false,
          "keys": [],
          "values": [],
          "groups": [],
          "scatter": {}
        },
        "enabled": true,
        "editorMode": "ace/mode/scala"
      },
      "settings": {
        "params": {},
        "forms": {}
      },
      "paragraphProgress": {
        "jobs": [
          {
            "id": 2654,
            "jobUrl": "https://azure.qubole.com/cluster-proxy?encodedUrl\u003dhttp%3A%2F%2F10.0.0.4%3A8088%2Fproxy%2Fapplication_1515502980890_0003/jobs/job?spark\u003dtrue\u0026id\u003d2654",
            "numTasks": 1,
            "numCompletedTasks": 1,
            "stages": [
              {
                "id": 5410,
                "completed": true,
                "stageUrl": "https://azure.qubole.com/cluster-proxy?encodedUrl\u003dhttp%3A%2F%2F10.0.0.4%3A8088%2Fproxy%2Fapplication_1515502980890_0003/stages/stage/?id\u003d5410\u0026attempt\u003d0",
                "numCompleteTasks": 1,
                "numActiveTasks": 0,
                "numFailedTasks": 0,
                "numTotalTasks": 1
              }
            ],
            "status": "Success"
          }
        ],
        "numCompletedTasks": 1,
        "numTasks": 1,
        "truncated": false
      },
      "jobName": "paragraph_1515592671269_495849719",
      "id": "20180110-135751_1855020246_q_8YVGJMASEQ1515692831",
      "result": {
        "code": "SUCCESS",
        "type": "TABLE",
        "msg": "asin\thelpful\toverall\treviewText\treviewTime\treviewerID\treviewerName\tsummary\tunixReviewTime\n0528881469\tWrappedArray(0, 0)\t5.0\tWe got this GPS for my husband who is an (OTR) over the road trucker.  Very Impressed with the shipping time, it arrived a few days earlier than expected...  within a week of use however it started freezing up... could of just been a glitch in that unit.  Worked great when it worked!  Will work great for the normal person as well but does have the \"trucker\" option. (the big truck routes - tells you when a scale is coming up ect...)  Love the bigger screen, the ease of use, the ease of putting addresses into memory.  Nothing really bad to say about the unit with the exception of it freezing which is probably one in a million and that\u0027s just my luck.  I contacted the seller and within minutes of my email I received a email back with instructions for an exchange! VERY impressed all the way around!\t06 2, 2013\tAO94DHGC771SJ\tamazdnu\tGotta have GPS!\t1370131200\n0528881469\tWrappedArray(12, 15)\t1.0\tI\u0027m a professional OTR truck driver, and I bought a TND 700 at a truck stop hoping to make my life easier.  Rand McNally, are you listening?First thing I did after charging it was connect it to my laptop and install the software and then attempt to update it.  The software detected a problem with my update and wanted my home address so I could be sent a patch on an SD card.  Hello?  I don\u0027t think I\u0027m all that unusual; my home address is a PO box that a friend checks weekly and that I might get to check every six months or so.  I live in my truck and at truck stops.  If you need to make a patch available on an SD card then you should send the SD cards to the truck stops where the devices are sold.  I ran the update program multiple times until the program said that the TND 700 was completely updated.I programmed in the height (13\u00276\"), the length (53\u0027) and the weight (80,000#) of my rig and told it that I preferred highways.  I was parked at a truck stop in the Cincinnati OH area.  My next pickup was about 15 miles down the same freeway but on the other side of it a couple of blocks.  My cell phone GPS (Sprint) said to get on the freeway to get to my pickup.  The TND 700 routed me thru 23 miles of residential streets before finally getting me to my pickup.  Very exciting, especially since every time I refused to turn down a street posted \"No Trucks\" the TND 700 took almost 5 minutes to figure a re-route, and it happened multiple times on that short trip.I decided to give it another chance.  After my pickup on the north side of Cincinnati just off of I-75 I needed to head to Phoenix AZ via I-71.  Easy route is to just hop on I-75 and drive west and south to the intersection of I-71.  Indeed, that is what my cell phone advised.  The TND 700, however, wanted to route me over surface streets across the city and pick up I-75 on the other side of the city.  I turned it off and the next time I passed a truck stop of the same chain I purchased it at I returned it and got my money back.I then spent $30 on a cheap printer.  Now I take a minute to set up my route on Google and print it out.  Hasn\u0027t gotten me lost yet over several cross country trips.\t11 25, 2010\tAMO214LNFCEI4\tAmazon Customer\tVery Disappointed\t1290643200\n0528881469\tWrappedArray(43, 45)\t3.0\tWell, what can I say.  I\u0027ve had this unit in my truck for about four days now.  Prior to that I had a Garmin 755T non-truck GPS.  One of my favorite features in that unit was the ability to plan a route by determining mileage using the stop or via feature.  What I would do is using a map I would route myself several different ways forcing the unit by putting in stops or vias at different locations along the route, otherwise, like most GPS \u0027s, it determines what it thinks is the best route.  I could add up to 10 Via\u0027s or stop points for each route and then based on mileage and other factors determine which is the best route to take.  Multiple stops and the ability to route was the most important reason for having the Garmin.  However it was not truck specific.  And considering I am now hauling strictly hazmat I wanted something that would take that into consideration.  After perusing various forums, review sites, and word-of-mouth my choices boiled down to the Garmin 465T or the RAND McNally Intelliroute TND 700.  Even though it was quite a bit more than the Garmin I chose the TND 700 for several reasons.  The main one being the extra screen size, and its ability to coordinate with the RAND McNally truck atlas and also its ease of updating.Now on to my first impression of the TND 700.  It seems to be an aesthetically pleasing and durably built unit.  The first thing I noticed was it\u0027s very slow to boot compared to my old Garmin.  Whether this is unique to the TND 700 or is common amongst all truck specific gps units I cannot tell, but it\u0027s really not that big of a deal.  The second thing I noticed was the overwhelming wealth of information put forth.  That might explain why the manual (available via the TND dock) is well over 100 pages long.....  There is somewhat of a learning curve with this unit.  The next thing I noticed was the complexity of entering routes.  As previously mentioned I like to force it into my preferred routing by the use of stops or vias.  That was a big no go with this unit.  While you can enter multiple stops or vias it is nowhere near as user-friendly as my old Garmin.  Furthermore there is no way you can determine total mileage on the route that you have chosen, as I could with the Garmin.  Totally flummoxed by what appeared to be an omission of one of the best routing tools a trucker could have I went online and verified through an expert source connected with RAND McNally that no, that feature was a couple updates down the line and was not available at this point.  Unbelievable.  Also forcing the unit to follow a specific route can be very challenging.  For a unit of this price, and feature laden, I find this totally unacceptable.  I am still mulling over selling this unit  and buying the Garmin 465T.  I really do like this GPS, the screen is magnificent, and the volume is awesome.Another thing I\u0027ve noticed, which I do not think is unique to this unit, is some of the weird routing that it does.  I\u0027ve never owned a truck specific GPS before but after playing with this one for a couple of days I get the impression that what RAND MacNally (and the others that use Navteq) has done is take a plain old car specific Navteq map and a road atlas with truck restrictions and made notifications on the map.  In most databases there is not a 100% thorough listing of every road in the country.  What I mean is that this unit will route you down roads you don\u0027t belong on.  Today while coming home it tried routing me on several  9 ton County roads.  What that means is that a truck is limited to 73280 unless the road is posted at 10 tons.  County roads do not have that restriction listed in the RAND McNally road atlas, so I believe that is why it is not listed.....  Also unacceptable in a unit of this price and sold as truck specific.  However I\u0027d be willing to bet the other truck specific units are the same way as no one has ever done a truck specific version of NavTeq.Another bone I have to pick is the POI\u0027s. Not only the truck specific ones but the others all seem to be somewhat outdated.  I think the Garmin, at least the ones that I have used, are more current.  It would also be nice if I could add my own POI\u0027sTo sum it up I will keep this unit a little longer to see if I can make it workable.  If not I will go back to Garmin.  I like the concept and I like the unit but at this point I\u0027ll have to say I am somewhat unimpressed.pros:Large screenterrific imagesoutstanding volumecons:inability to determine route mileage by multiple stops and viasa somewhat outdated POI information.Non-truck specific routings.Cost.\t09 9, 2010\tA3N7T0DY83Y4IG\tC. A. Freeman\t1st impression\t1283990400\n0528881469\tWrappedArray(9, 10)\t2.0\tNot going to write a long review, even thought this unit deserves one. I\u0027ve driven well over 1-mil miles and done most of my own routing so I pretty know whats the fastest and shortest. Have been using a basic garmin for the past three years and with ANY Gps unit they\u0027ll ALL get you in trouble if you let them. I was really excited about this unit, due to the size and the features. Allot of great grafics and on screen info thats usefull. But the most basic item that it was lacking was the gps tracking. I gave this unit allot of leadway on its mistakes due to the fact that it had allot of cool stuff that it did, but its ability to track you and route you was not even close to what the basic garmin could due. Its like the prossesor that they installed in the TND 700 was 10 years old. Example if I needed to make a simple route change I.E. in town down to the next street due to the fact that I couldn\u0027t make the turn or the street was blocked off, it would take the TND 700 upwards of 45 seconds to a minute and a half to reroute me. Here I\u0027m sitting at a stop light waiting for directions and waiting that long with cars on my backside didn\u0027t make me happy. This is a problem that happened evertime you had to reroute, weather it was a simple street change or a major highway change. Also from the time you turned the unit on it would take twice as long to boot itself up. At least a dozen times with in a week it put me on the wrong roads and when I made a wrong turn it got it self lost....I.E. take left on xyz street, and it was some ones drive way. Or turn left in 800 yards and the turn was less than 10 feet away. You might think in a conjested city situation I might get a little mixed up, but this is out in the country. Twice it put me under 12\u00276\" bridges when I\u0027m 13\u00276\". Of course I made sure all my truck setting where they were supposed to be. I also updated the OS version,via Rand McNally. All in all I expected alot out of this unit and got a unit that should of been field tested with some people that drive allot. It just had to many route mistakes. Going back to the basic garmin. This isn\u0027t just my complaints, I have three friends that bought the same unit and have the same complaints. All of us returned the units.\t11 24, 2010\tA1H8PY3QHMQQA0\tDave M. Shaw \"mack dave\"\tGreat grafics, POOR GPS\t1290556800\n0528881469\tWrappedArray(0, 0)\t1.0\tI\u0027ve had mine for a year and here\u0027s what we got. It tries to route be down non truck routes while telling me the truck route is illegal for me. This is such a bad problem that even Interstate 25 in Denver Colorado is listed (according to this GPS) as a non- truck route and will route you through the city instead. There are several drivers within our company who own one and more than half (of about 50) have crashed to an un-recoverable state. Our company representative said that Rand McNally informed them that the GPS was not designed to say on for a long period of time. Really? it\u0027s a truck driver GPS. We have one driver with a $2400 dollar ticket due to this GPS routing him down the wrong road. The companies response was to update the unit. I\u0027ve had mine for a year, I never noticed one update that corrected functionality, they only seem to keep messing the tools. I want a GPS that routes, if I wanted tools I\u0027d buy software for my computer.My suggestion is to by a nice Garmen. My one rated for cars actually routes me better than this one rated for trucks.Wayne\t09 29, 2011\tA24EV6RXELQZ63\tWayne Smith\tMajor issues, only excuses for support\t1317254400\n0594451647\tWrappedArray(3, 3)\t5.0\tI am using this with a Nook HD+. It works as described. The HD picture on my Samsung 52\u0026#34; TV is excellent.\t01 3, 2014\tA2JXAZZI9PHK9Z\tBilly G. Noland \"Bill Noland\"\tHDMI Nook adapter cable\t1388707200\n0594451647\tWrappedArray(0, 0)\t2.0\tThe cable is very wobbly and sometimes disconnects itself.The price is completely unfair and only works with the Nook HD and HD+\t04 27, 2014\tA2P5U7BDKKT7FW\tChristian\tCheap proprietary scam\t1398556800\n0594451647\tWrappedArray(0, 0)\t5.0\tThis adaptor is real easy to setup and use right out of the box. I had not problem with it at all, it is well worth the purchase. I recommend this adaptor very much for viewing your Nook videos on your HDTV. I just disagree with other reviews on the length of the adaptor, I found it to be fairly adequate as to how and where it is connected to my TV. For me it was just right not too long or too short, I was able to place my Nook right below the connection on the TV stand, it did not fall or anything else, it is fine. Use your own judgement, I\u0027m too busy watching my movies :)\t05 4, 2014\tAAZ084UMH8VZ2\tD. L. Brown \"A Knower Of Good Things\"\tA Perfdect Nook HD+ hook up\t1399161600\n0594451647\tWrappedArray(0, 0)\t4.0\tThis adapter easily connects my Nook HD 7\u0026#34; to my HDTV through the HDMI cable.  This is good for traveling because it makes any hotel TV a potential smart TV so long as there is an accessible HDMI port.  It is also good for sharing photos from FB on a bigger screen. A bit pricey, but a good accessory to have.  Be sure to note that this is ONLY for the Nook HD and HD+ series.  It will not work with a standard Nook.\t07 11, 2014\tAEZ3CR6BKIROJ\tMark Dietter\tA nice easy to use accessory.\t1405036800\n0594451647\tWrappedArray(3, 3)\t5.0\tThis product really works great but I found the following items you need to keep in mind:- You must have your power adapter connected for it to work...it plugs in the the bottom. It appears it needs power from the nook power adapter to operate.- The plug fits in loosely and you cannot move the Nook around much without holding the adapter in place.- On initial plugin it seems you need to rock it around to get the connection but then it seems solid.- It works with a 25ft high quality HDMI cable so you can put the NOOK across the room with you. Not tested with cheap cables.Warning...I found that my LG SmartTV 3D from a few years back does not work with this adapter but it does not seem to work with many things...bad software. This adapter works fine with other HDMI devices I have used like monitors and I am sure other TVs.Gave it five stars because it really is nice to extend the screen and use your Nook as a streaming server to your TV. Nice they made such a device.\t01 20, 2014\tA3BY5KCNQZXV5U\tMatenai\tThis works great but read the details...\t1390176000\n"
      },
      "dateCreated": "Jan 10, 2018 1:57:51 PM",
      "dateStarted": "Jan 10, 2018 1:58:17 PM",
      "dateFinished": "Jan 10, 2018 1:58:17 PM",
      "status": "FINISHED",
      "progressUpdateIntervalMs": 500
    },
    {
      "text": "%md\n# Derived Features\nLet\u0027s compute some additional columns that will be helpful for machine learning\n\n* **upVotes**: Extract out the 1st value in helpful column\n* **totalVotes**: 2nd value in helpful column\n* **fullReview**: Concatenate the summary \u0026 reviewText features into one column\n* **score**: Compute a measure of helpfulness as the ratio of upVotes to totalVotes",
      "user": "davidgillen@precocityllc.com",
      "dateUpdated": "Jan 10, 2018 2:17:51 PM",
      "config": {
        "colWidth": 12.0,
        "graph": {
          "mode": "table",
          "height": 300.0,
          "optionOpen": false,
          "keys": [],
          "values": [],
          "groups": [],
          "scatter": {}
        },
        "enabled": true,
        "editorMode": "ace/mode/markdown",
        "editorHide": true
      },
      "settings": {
        "params": {},
        "forms": {}
      },
      "jobName": "paragraph_1515593657604_-2017884532",
      "id": "20180110-141417_656842185_q_8YVGJMASEQ1515692831",
      "result": {
        "code": "SUCCESS",
        "type": "HTML",
        "msg": "\u003cdiv class\u003d\"markdown-body\"\u003e\n\u003ch1\u003eDerived Features\u003c/h1\u003e\n\u003cp\u003eLet\u0026rsquo;s compute some additional columns that will be helpful for machine learning\u003c/p\u003e\n\u003cul\u003e\n  \u003cli\u003e\u003cstrong\u003eupVotes\u003c/strong\u003e: Extract out the 1st value in helpful column\u003c/li\u003e\n  \u003cli\u003e\u003cstrong\u003etotalVotes\u003c/strong\u003e: 2nd value in helpful column\u003c/li\u003e\n  \u003cli\u003e\u003cstrong\u003efullReview\u003c/strong\u003e: Concatenate the summary \u0026amp; reviewText features into one column\u003c/li\u003e\n  \u003cli\u003e\u003cstrong\u003escore\u003c/strong\u003e: Compute a measure of helpfulness as the ratio of upVotes to totalVotes\u003c/li\u003e\n\u003c/ul\u003e\n\u003c/div\u003e"
      },
      "dateCreated": "Jan 10, 2018 2:14:17 PM",
      "dateStarted": "Jan 10, 2018 2:17:36 PM",
      "dateFinished": "Jan 10, 2018 2:17:36 PM",
      "status": "FINISHED",
      "progressUpdateIntervalMs": 500
    },
    {
      "text": "inputDf \u003d inputDf.withColumn(\"upVotes\", $\"helpful\".getItem(0))\ninputDf \u003d inputDf.withColumn(\"totalVotes\", $\"helpful\".getItem(1))\ninputDf \u003d inputDf.withColumn(\"fullReview\", concat(inputDf(\"summary\"), lit(\" \"), inputDf(\"reviewText\")))\ninputDf \u003d inputDf.withColumn(\"score\",inputDf(\"upVotes\")/inputDf(\"totalVotes\"))\ninputDf.createOrReplaceTempView(\"all_reviews\")\ninputDf \u003d sqlContext.sql(\"select *,from_unixtime(unixReviewTime,\u0027YYYY-MM-dd\u0027) as reviewDate, case when score \u003c\u003d 0.8 then 0 else 1 end as label from all_reviews\")\ninputDf.createOrReplaceTempView(\"all_reviews\")\nvar df \u003d inputDf.filter(\"totalVotes \u003e 10\")\ndf.createOrReplaceTempView(\"reviews\")",
      "user": "davidgillen@precocityllc.com",
      "dateUpdated": "Jan 11, 2018 6:53:00 PM",
      "config": {
        "colWidth": 12.0,
        "graph": {
          "mode": "table",
          "height": 300.0,
          "optionOpen": false,
          "keys": [],
          "values": [],
          "groups": [],
          "scatter": {}
        },
        "enabled": true,
        "editorMode": "ace/mode/scala"
      },
      "settings": {
        "params": {},
        "forms": {}
      },
      "paragraphProgress": {
        "jobs": [],
        "numCompletedTasks": 0,
        "numTasks": 0,
        "truncated": false
      },
      "jobName": "paragraph_1515599944425_254605507",
      "id": "20180110-155904_1749793674_q_8YVGJMASEQ1515692831",
      "result": {
        "code": "SUCCESS",
        "type": "TEXT",
        "msg": "\ninputDf: org.apache.spark.sql.DataFrame \u003d [asin: string, helpful: array\u003cbigint\u003e ... 9 more fields]\n\ninputDf: org.apache.spark.sql.DataFrame \u003d [asin: string, helpful: array\u003cbigint\u003e ... 10 more fields]\n\ninputDf: org.apache.spark.sql.DataFrame \u003d [asin: string, helpful: array\u003cbigint\u003e ... 11 more fields]\n\ninputDf: org.apache.spark.sql.DataFrame \u003d [asin: string, helpful: array\u003cbigint\u003e ... 12 more fields]\n\ninputDf: org.apache.spark.sql.DataFrame \u003d [asin: string, helpful: array\u003cbigint\u003e ... 14 more fields]\n\ndf: org.apache.spark.sql.Dataset[org.apache.spark.sql.Row] \u003d [asin: string, helpful: array\u003cbigint\u003e ... 14 more fields]\n"
      },
      "dateCreated": "Jan 10, 2018 3:59:04 PM",
      "dateStarted": "Jan 11, 2018 6:53:00 PM",
      "dateFinished": "Jan 11, 2018 6:53:02 PM",
      "status": "FINISHED",
      "progressUpdateIntervalMs": 500
    },
    {
      "text": "%md\n# Filter\nReviews with less then 10 totalVotes are likely to have insufficent feedback to be considered meaningful.  Let\u0027s filter those out\n",
      "user": "davidgillen@precocityllc.com",
      "dateUpdated": "Jan 10, 2018 2:20:27 PM",
      "config": {
        "colWidth": 12.0,
        "graph": {
          "mode": "table",
          "height": 300.0,
          "optionOpen": false,
          "keys": [],
          "values": [],
          "groups": [],
          "scatter": {}
        },
        "enabled": true,
        "editorMode": "ace/mode/markdown",
        "editorHide": true
      },
      "settings": {
        "params": {},
        "forms": {}
      },
      "jobName": "paragraph_1515593898988_-1445441110",
      "id": "20180110-141818_1223639840_q_8YVGJMASEQ1515692831",
      "result": {
        "code": "SUCCESS",
        "type": "HTML",
        "msg": "\u003cdiv class\u003d\"markdown-body\"\u003e\n\u003ch1\u003eFilter\u003c/h1\u003e\n\u003cp\u003eReviews with less then 10 totalVotes are likely to have insufficent feedback to be considered meaningful. Let\u0026rsquo;s filter those out\u003c/p\u003e\n\u003c/div\u003e"
      },
      "dateCreated": "Jan 10, 2018 2:18:18 PM",
      "dateStarted": "Jan 10, 2018 2:20:25 PM",
      "dateFinished": "Jan 10, 2018 2:20:25 PM",
      "status": "FINISHED",
      "progressUpdateIntervalMs": 500
    },
    {
      "text": "var df \u003d inputDf.filter(\"totalVotes \u003e 10\")\ndf.createOrReplaceTempView(\"reviews\")",
      "user": "davidgillen@precocityllc.com",
      "dateUpdated": "Jan 11, 2018 6:53:22 PM",
      "config": {
        "colWidth": 12.0,
        "graph": {
          "mode": "table",
          "height": 300.0,
          "optionOpen": false,
          "keys": [],
          "values": [],
          "groups": [],
          "scatter": {}
        },
        "enabled": true,
        "editorMode": "ace/mode/scala"
      },
      "settings": {
        "params": {},
        "forms": {}
      },
      "paragraphProgress": {
        "jobs": [],
        "numCompletedTasks": 0,
        "numTasks": 0,
        "truncated": false
      },
      "jobName": "paragraph_1515594030062_1307801238",
      "id": "20180110-142030_358578607_q_8YVGJMASEQ1515692831",
      "result": {
        "code": "SUCCESS",
        "type": "TEXT",
        "msg": "\ndf: org.apache.spark.sql.Dataset[org.apache.spark.sql.Row] \u003d [asin: string, helpful: array\u003cbigint\u003e ... 14 more fields]\n"
      },
      "dateCreated": "Jan 10, 2018 2:20:30 PM",
      "dateStarted": "Jan 11, 2018 6:53:22 PM",
      "dateFinished": "Jan 11, 2018 6:53:23 PM",
      "status": "FINISHED",
      "progressUpdateIntervalMs": 500
    },
    {
      "text": "%md\n# Tokenize\nLet\u0027s tokenize our single long `fullReview` columnn into an array of lower case strings",
      "user": "davidgillen@precocityllc.com",
      "dateUpdated": "Jan 11, 2018 12:26:22 PM",
      "config": {
        "colWidth": 12.0,
        "graph": {
          "mode": "table",
          "height": 300.0,
          "optionOpen": false,
          "keys": [],
          "values": [],
          "groups": [],
          "scatter": {}
        },
        "enabled": true,
        "editorMode": "ace/mode/markdown",
        "editorHide": true
      },
      "settings": {
        "params": {},
        "forms": {}
      },
      "jobName": "paragraph_1515594249165_-1855129170",
      "id": "20180110-142409_503381931_q_8YVGJMASEQ1515692831",
      "result": {
        "code": "SUCCESS",
        "type": "HTML",
        "msg": "\u003cdiv class\u003d\"markdown-body\"\u003e\n\u003ch1\u003eTokenize\u003c/h1\u003e\n\u003cp\u003eLet\u0026rsquo;s tokenize our single long \u003ccode\u003efullReview\u003c/code\u003e columnn into an array of lower case strings\u003c/p\u003e\n\u003c/div\u003e"
      },
      "dateCreated": "Jan 10, 2018 2:24:09 PM",
      "dateStarted": "Jan 11, 2018 12:26:19 PM",
      "dateFinished": "Jan 11, 2018 12:26:19 PM",
      "status": "FINISHED",
      "progressUpdateIntervalMs": 500
    },
    {
      "text": "val regexTokenizer \u003d new RegexTokenizer()\n  .setInputCol(\"fullReview\")\n  .setOutputCol(\"regexOutput\")\n  .setPattern(\"\\\\W\")\nvar tokenizedDF \u003d regexTokenizer.transform(df)\ntokenizedDF.createOrReplaceTempView(\"reviews\")",
      "user": "davidgillen@precocityllc.com",
      "dateUpdated": "Jan 11, 2018 6:53:27 PM",
      "config": {
        "colWidth": 12.0,
        "graph": {
          "mode": "table",
          "height": 300.0,
          "optionOpen": false,
          "keys": [],
          "values": [],
          "groups": [],
          "scatter": {}
        },
        "enabled": true,
        "editorMode": "ace/mode/scala"
      },
      "settings": {
        "params": {},
        "forms": {}
      },
      "paragraphProgress": {
        "jobs": [],
        "numCompletedTasks": 0,
        "numTasks": 0,
        "truncated": false
      },
      "jobName": "paragraph_1515594275729_1287746678",
      "id": "20180110-142435_197011591_q_8YVGJMASEQ1515692831",
      "result": {
        "code": "SUCCESS",
        "type": "TEXT",
        "msg": "\nregexTokenizer: org.apache.spark.ml.feature.RegexTokenizer \u003d regexTok_c39acbb2f755\n\ntokenizedDF: org.apache.spark.sql.DataFrame \u003d [asin: string, helpful: array\u003cbigint\u003e ... 15 more fields]\n"
      },
      "dateCreated": "Jan 10, 2018 2:24:35 PM",
      "dateStarted": "Jan 11, 2018 6:53:27 PM",
      "dateFinished": "Jan 11, 2018 6:53:27 PM",
      "status": "FINISHED",
      "progressUpdateIntervalMs": 500
    },
    {
      "text": "%spark.sql\nselect asin,fullReview,regexOutput from reviews limit 10",
      "user": "davidgillen@precocityllc.com",
      "dateUpdated": "Jan 11, 2018 12:34:15 PM",
      "config": {
        "colWidth": 12.0,
        "graph": {
          "mode": "table",
          "height": 300.0,
          "optionOpen": false,
          "keys": [],
          "values": [],
          "groups": [],
          "scatter": {}
        },
        "enabled": true,
        "editorMode": "ace/mode/sql"
      },
      "settings": {
        "params": {},
        "forms": {}
      },
      "paragraphProgress": {
        "jobs": [
          {
            "id": 2,
            "jobUrl": "https://azure.qubole.com/cluster-proxy?encodedUrl\u003dhttp%3A%2F%2F10.0.0.4%3A8088%2Fproxy%2Fapplication_1515672864099_0001/jobs/job?spark\u003dtrue\u0026id\u003d2",
            "numTasks": 1,
            "numCompletedTasks": 1,
            "stages": [
              {
                "id": 2,
                "completed": true,
                "stageUrl": "https://azure.qubole.com/cluster-proxy?encodedUrl\u003dhttp%3A%2F%2F10.0.0.4%3A8088%2Fproxy%2Fapplication_1515672864099_0001/stages/stage/?id\u003d2\u0026attempt\u003d0",
                "numCompleteTasks": 1,
                "numActiveTasks": 0,
                "numFailedTasks": 0,
                "numTotalTasks": 1
              }
            ],
            "status": "Success"
          }
        ],
        "numCompletedTasks": 1,
        "numTasks": 1,
        "truncated": false
      },
      "jobName": "paragraph_1515673965993_88720355",
      "id": "20180111-123245_1488720114_q_8YVGJMASEQ1515692831",
      "result": {
        "code": "SUCCESS",
        "type": "TABLE",
        "msg": "asin\tfullReview\tregexOutput\n0528881469\tVery Disappointed I\u0027m a professional OTR truck driver, and I bought a TND 700 at a truck stop hoping to make my life easier.  Rand McNally, are you listening?First thing I did after charging it was connect it to my laptop and install the software and then attempt to update it.  The software detected a problem with my update and wanted my home address so I could be sent a patch on an SD card.  Hello?  I don\u0027t think I\u0027m all that unusual; my home address is a PO box that a friend checks weekly and that I might get to check every six months or so.  I live in my truck and at truck stops.  If you need to make a patch available on an SD card then you should send the SD cards to the truck stops where the devices are sold.  I ran the update program multiple times until the program said that the TND 700 was completely updated.I programmed in the height (13\u00276\"), the length (53\u0027) and the weight (80,000#) of my rig and told it that I preferred highways.  I was parked at a truck stop in the Cincinnati OH area.  My next pickup was about 15 miles down the same freeway but on the other side of it a couple of blocks.  My cell phone GPS (Sprint) said to get on the freeway to get to my pickup.  The TND 700 routed me thru 23 miles of residential streets before finally getting me to my pickup.  Very exciting, especially since every time I refused to turn down a street posted \"No Trucks\" the TND 700 took almost 5 minutes to figure a re-route, and it happened multiple times on that short trip.I decided to give it another chance.  After my pickup on the north side of Cincinnati just off of I-75 I needed to head to Phoenix AZ via I-71.  Easy route is to just hop on I-75 and drive west and south to the intersection of I-71.  Indeed, that is what my cell phone advised.  The TND 700, however, wanted to route me over surface streets across the city and pick up I-75 on the other side of the city.  I turned it off and the next time I passed a truck stop of the same chain I purchased it at I returned it and got my money back.I then spent $30 on a cheap printer.  Now I take a minute to set up my route on Google and print it out.  Hasn\u0027t gotten me lost yet over several cross country trips.\tWrappedArray(very, disappointed, i, m, a, professional, otr, truck, driver, and, i, bought, a, tnd, 700, at, a, truck, stop, hoping, to, make, my, life, easier, rand, mcnally, are, you, listening, first, thing, i, did, after, charging, it, was, connect, it, to, my, laptop, and, install, the, software, and, then, attempt, to, update, it, the, software, detected, a, problem, with, my, update, and, wanted, my, home, address, so, i, could, be, sent, a, patch, on, an, sd, card, hello, i, don, t, think, i, m, all, that, unusual, my, home, address, is, a, po, box, that, a, friend, checks, weekly, and, that, i, might, get, to, check, every, six, months, or, so, i, live, in, my, truck, and, at, truck, stops, if, you, need, to, make, a, patch, available, on, an, sd, card, then, you, should, send, the, sd, cards, to, the, truck, stops, where, the, devices, are, sold, i, ran, the, update, program, multiple, times, until, the, program, said, that, the, tnd, 700, was, completely, updated, i, programmed, in, the, height, 13, 6, the, length, 53, and, the, weight, 80, 000, of, my, rig, and, told, it, that, i, preferred, highways, i, was, parked, at, a, truck, stop, in, the, cincinnati, oh, area, my, next, pickup, was, about, 15, miles, down, the, same, freeway, but, on, the, other, side, of, it, a, couple, of, blocks, my, cell, phone, gps, sprint, said, to, get, on, the, freeway, to, get, to, my, pickup, the, tnd, 700, routed, me, thru, 23, miles, of, residential, streets, before, finally, getting, me, to, my, pickup, very, exciting, especially, since, every, time, i, refused, to, turn, down, a, street, posted, no, trucks, the, tnd, 700, took, almost, 5, minutes, to, figure, a, re, route, and, it, happened, multiple, times, on, that, short, trip, i, decided, to, give, it, another, chance, after, my, pickup, on, the, north, side, of, cincinnati, just, off, of, i, 75, i, needed, to, head, to, phoenix, az, via, i, 71, easy, route, is, to, just, hop, on, i, 75, and, drive, west, and, south, to, the, intersection, of, i, 71, indeed, that, is, what, my, cell, phone, advised, the, tnd, 700, however, wanted, to, route, me, over, surface, streets, across, the, city, and, pick, up, i, 75, on, the, other, side, of, the, city, i, turned, it, off, and, the, next, time, i, passed, a, truck, stop, of, the, same, chain, i, purchased, it, at, i, returned, it, and, got, my, money, back, i, then, spent, 30, on, a, cheap, printer, now, i, take, a, minute, to, set, up, my, route, on, google, and, print, it, out, hasn, t, gotten, me, lost, yet, over, several, cross, country, trips)\n0528881469\t1st impression Well, what can I say.  I\u0027ve had this unit in my truck for about four days now.  Prior to that I had a Garmin 755T non-truck GPS.  One of my favorite features in that unit was the ability to plan a route by determining mileage using the stop or via feature.  What I would do is using a map I would route myself several different ways forcing the unit by putting in stops or vias at different locations along the route, otherwise, like most GPS \u0027s, it determines what it thinks is the best route.  I could add up to 10 Via\u0027s or stop points for each route and then based on mileage and other factors determine which is the best route to take.  Multiple stops and the ability to route was the most important reason for having the Garmin.  However it was not truck specific.  And considering I am now hauling strictly hazmat I wanted something that would take that into consideration.  After perusing various forums, review sites, and word-of-mouth my choices boiled down to the Garmin 465T or the RAND McNally Intelliroute TND 700.  Even though it was quite a bit more than the Garmin I chose the TND 700 for several reasons.  The main one being the extra screen size, and its ability to coordinate with the RAND McNally truck atlas and also its ease of updating.Now on to my first impression of the TND 700.  It seems to be an aesthetically pleasing and durably built unit.  The first thing I noticed was it\u0027s very slow to boot compared to my old Garmin.  Whether this is unique to the TND 700 or is common amongst all truck specific gps units I cannot tell, but it\u0027s really not that big of a deal.  The second thing I noticed was the overwhelming wealth of information put forth.  That might explain why the manual (available via the TND dock) is well over 100 pages long.....  There is somewhat of a learning curve with this unit.  The next thing I noticed was the complexity of entering routes.  As previously mentioned I like to force it into my preferred routing by the use of stops or vias.  That was a big no go with this unit.  While you can enter multiple stops or vias it is nowhere near as user-friendly as my old Garmin.  Furthermore there is no way you can determine total mileage on the route that you have chosen, as I could with the Garmin.  Totally flummoxed by what appeared to be an omission of one of the best routing tools a trucker could have I went online and verified through an expert source connected with RAND McNally that no, that feature was a couple updates down the line and was not available at this point.  Unbelievable.  Also forcing the unit to follow a specific route can be very challenging.  For a unit of this price, and feature laden, I find this totally unacceptable.  I am still mulling over selling this unit  and buying the Garmin 465T.  I really do like this GPS, the screen is magnificent, and the volume is awesome.Another thing I\u0027ve noticed, which I do not think is unique to this unit, is some of the weird routing that it does.  I\u0027ve never owned a truck specific GPS before but after playing with this one for a couple of days I get the impression that what RAND MacNally (and the others that use Navteq) has done is take a plain old car specific Navteq map and a road atlas with truck restrictions and made notifications on the map.  In most databases there is not a 100% thorough listing of every road in the country.  What I mean is that this unit will route you down roads you don\u0027t belong on.  Today while coming home it tried routing me on several  9 ton County roads.  What that means is that a truck is limited to 73280 unless the road is posted at 10 tons.  County roads do not have that restriction listed in the RAND McNally road atlas, so I believe that is why it is not listed.....  Also unacceptable in a unit of this price and sold as truck specific.  However I\u0027d be willing to bet the other truck specific units are the same way as no one has ever done a truck specific version of NavTeq.Another bone I have to pick is the POI\u0027s. Not only the truck specific ones but the others all seem to be somewhat outdated.  I think the Garmin, at least the ones that I have used, are more current.  It would also be nice if I could add my own POI\u0027sTo sum it up I will keep this unit a little longer to see if I can make it workable.  If not I will go back to Garmin.  I like the concept and I like the unit but at this point I\u0027ll have to say I am somewhat unimpressed.pros:Large screenterrific imagesoutstanding volumecons:inability to determine route mileage by multiple stops and viasa somewhat outdated POI information.Non-truck specific routings.Cost.\tWrappedArray(1st, impression, well, what, can, i, say, i, ve, had, this, unit, in, my, truck, for, about, four, days, now, prior, to, that, i, had, a, garmin, 755t, non, truck, gps, one, of, my, favorite, features, in, that, unit, was, the, ability, to, plan, a, route, by, determining, mileage, using, the, stop, or, via, feature, what, i, would, do, is, using, a, map, i, would, route, myself, several, different, ways, forcing, the, unit, by, putting, in, stops, or, vias, at, different, locations, along, the, route, otherwise, like, most, gps, s, it, determines, what, it, thinks, is, the, best, route, i, could, add, up, to, 10, via, s, or, stop, points, for, each, route, and, then, based, on, mileage, and, other, factors, determine, which, is, the, best, route, to, take, multiple, stops, and, the, ability, to, route, was, the, most, important, reason, for, having, the, garmin, however, it, was, not, truck, specific, and, considering, i, am, now, hauling, strictly, hazmat, i, wanted, something, that, would, take, that, into, consideration, after, perusing, various, forums, review, sites, and, word, of, mouth, my, choices, boiled, down, to, the, garmin, 465t, or, the, rand, mcnally, intelliroute, tnd, 700, even, though, it, was, quite, a, bit, more, than, the, garmin, i, chose, the, tnd, 700, for, several, reasons, the, main, one, being, the, extra, screen, size, and, its, ability, to, coordinate, with, the, rand, mcnally, truck, atlas, and, also, its, ease, of, updating, now, on, to, my, first, impression, of, the, tnd, 700, it, seems, to, be, an, aesthetically, pleasing, and, durably, built, unit, the, first, thing, i, noticed, was, it, s, very, slow, to, boot, compared, to, my, old, garmin, whether, this, is, unique, to, the, tnd, 700, or, is, common, amongst, all, truck, specific, gps, units, i, cannot, tell, but, it, s, really, not, that, big, of, a, deal, the, second, thing, i, noticed, was, the, overwhelming, wealth, of, information, put, forth, that, might, explain, why, the, manual, available, via, the, tnd, dock, is, well, over, 100, pages, long, there, is, somewhat, of, a, learning, curve, with, this, unit, the, next, thing, i, noticed, was, the, complexity, of, entering, routes, as, previously, mentioned, i, like, to, force, it, into, my, preferred, routing, by, the, use, of, stops, or, vias, that, was, a, big, no, go, with, this, unit, while, you, can, enter, multiple, stops, or, vias, it, is, nowhere, near, as, user, friendly, as, my, old, garmin, furthermore, there, is, no, way, you, can, determine, total, mileage, on, the, route, that, you, have, chosen, as, i, could, with, the, garmin, totally, flummoxed, by, what, appeared, to, be, an, omission, of, one, of, the, best, routing, tools, a, trucker, could, have, i, went, online, and, verified, through, an, expert, source, connected, with, rand, mcnally, that, no, that, feature, was, a, couple, updates, down, the, line, and, was, not, available, at, this, point, unbelievable, also, forcing, the, unit, to, follow, a, specific, route, can, be, very, challenging, for, a, unit, of, this, price, and, feature, laden, i, find, this, totally, unacceptable, i, am, still, mulling, over, selling, this, unit, and, buying, the, garmin, 465t, i, really, do, like, this, gps, the, screen, is, magnificent, and, the, volume, is, awesome, another, thing, i, ve, noticed, which, i, do, not, think, is, unique, to, this, unit, is, some, of, the, weird, routing, that, it, does, i, ve, never, owned, a, truck, specific, gps, before, but, after, playing, with, this, one, for, a, couple, of, days, i, get, the, impression, that, what, rand, macnally, and, the, others, that, use, navteq, has, done, is, take, a, plain, old, car, specific, navteq, map, and, a, road, atlas, with, truck, restrictions, and, made, notifications, on, the, map, in, most, databases, there, is, not, a, 100, thorough, listing, of, every, road, in, the, country, what, i, mean, is, that, this, unit, will, route, you, down, roads, you, don, t, belong, on, today, while, coming, home, it, tried, routing, me, on, several, 9, ton, county, roads, what, that, means, is, that, a, truck, is, limited, to, 73280, unless, the, road, is, posted, at, 10, tons, county, roads, do, not, have, that, restriction, listed, in, the, rand, mcnally, road, atlas, so, i, believe, that, is, why, it, is, not, listed, also, unacceptable, in, a, unit, of, this, price, and, sold, as, truck, specific, however, i, d, be, willing, to, bet, the, other, truck, specific, units, are, the, same, way, as, no, one, has, ever, done, a, truck, specific, version, of, navteq, another, bone, i, have, to, pick, is, the, poi, s, not, only, the, truck, specific, ones, but, the, others, all, seem, to, be, somewhat, outdated, i, think, the, garmin, at, least, the, ones, that, i, have, used, are, more, current, it, would, also, be, nice, if, i, could, add, my, own, poi, sto, sum, it, up, i, will, keep, this, unit, a, little, longer, to, see, if, i, can, make, it, workable, if, not, i, will, go, back, to, garmin, i, like, the, concept, and, i, like, the, unit, but, at, this, point, i, ll, have, to, say, i, am, somewhat, unimpressed, pros, large, screenterrific, imagesoutstanding, volumecons, inability, to, determine, route, mileage, by, multiple, stops, and, viasa, somewhat, outdated, poi, information, non, truck, specific, routings, cost)\n0972683275\tReal value for the money Quality was excellent. Instructions were clear. It was not clear about a tilt feature, but there was enough to level it when I finished. Be careful to get the wall bracket real vertical. (I was using it for a 23 inch computer screen so I really need it to be level for reading.) Everything I needed plus lots of extra hardware for different situations.\tWrappedArray(real, value, for, the, money, quality, was, excellent, instructions, were, clear, it, was, not, clear, about, a, tilt, feature, but, there, was, enough, to, level, it, when, i, finished, be, careful, to, get, the, wall, bracket, real, vertical, i, was, using, it, for, a, 23, inch, computer, screen, so, i, really, need, it, to, be, level, for, reading, everything, i, needed, plus, lots, of, extra, hardware, for, different, situations)\n0972683275\tWhat a piece of junk! I checked around Amazon as well as some other sites, and decided these were what I needed.  I read the reviews, looked at the pictures and bought two of these.  I received them today.  I unpacked one of them, read the instructions and immediately filled out the return request for Amazon.  These mounts are very, very heavy and require 6, yes SIX, screws to mount to the wall.  Are you kidding me?  The TVs are only 22 lbs!  Two screws in the studs and then more damage to the wall than is necessary.  What a joke!  And Lag bolts?  Ever heard of screws?  The other issue is that these are very hard to move.  I bought an articulating wall mount for a reason, and I expect them to be able to move without a wrench in my hand.\tWrappedArray(what, a, piece, of, junk, i, checked, around, amazon, as, well, as, some, other, sites, and, decided, these, were, what, i, needed, i, read, the, reviews, looked, at, the, pictures, and, bought, two, of, these, i, received, them, today, i, unpacked, one, of, them, read, the, instructions, and, immediately, filled, out, the, return, request, for, amazon, these, mounts, are, very, very, heavy, and, require, 6, yes, six, screws, to, mount, to, the, wall, are, you, kidding, me, the, tvs, are, only, 22, lbs, two, screws, in, the, studs, and, then, more, damage, to, the, wall, than, is, necessary, what, a, joke, and, lag, bolts, ever, heard, of, screws, the, other, issue, is, that, these, are, very, hard, to, move, i, bought, an, articulating, wall, mount, for, a, reason, and, i, expect, them, to, be, able, to, move, without, a, wrench, in, my, hand)\n0972683275\tExcellent, at any price I mounted this in my RV and it holds a 26\" LCD TV / DVD combo.  Installation was very easy and the mount works GREAT!  I was prepared to pay 5 times the price for a mount that would work as I wanted.  I couldn\u0027t be happier.\tWrappedArray(excellent, at, any, price, i, mounted, this, in, my, rv, and, it, holds, a, 26, lcd, tv, dvd, combo, installation, was, very, easy, and, the, mount, works, great, i, was, prepared, to, pay, 5, times, the, price, for, a, mount, that, would, work, as, i, wanted, i, couldn, t, be, happier)\n0972683275\tIt Works But Could Be Better I purchased this mount for my 37 inch LCD TV.  Installation was easy...  The trouble I encountered was due to a bad wall stud finder.  Make sure you have one when you install this mount because you need to screw the mount into a wall stud or at least have one screw into a wall stud.The arm of the mount sags after I hooked up my 37in. LCD TV to the mount.  My TV is within the weight limit of this mount (less than 55lbs.) but the arm still sags due to the weight of the TV.  I guess as long as it supports my TV, the sagging shouldn\u0027t be an issue.  It just looks funny from the side.  I do retract the arm inward towards the wall to minimize the sagging and it also gives me the warm fuzzy feeling that the arm will be less likely to break off.Overall, for the price this mount is a great deal and works but I would suggest purchasing it for flat screen TVs less than 37 inches.  I would not hesitate to buy this mount again but for a 32 inch TV at most.\tWrappedArray(it, works, but, could, be, better, i, purchased, this, mount, for, my, 37, inch, lcd, tv, installation, was, easy, the, trouble, i, encountered, was, due, to, a, bad, wall, stud, finder, make, sure, you, have, one, when, you, install, this, mount, because, you, need, to, screw, the, mount, into, a, wall, stud, or, at, least, have, one, screw, into, a, wall, stud, the, arm, of, the, mount, sags, after, i, hooked, up, my, 37in, lcd, tv, to, the, mount, my, tv, is, within, the, weight, limit, of, this, mount, less, than, 55lbs, but, the, arm, still, sags, due, to, the, weight, of, the, tv, i, guess, as, long, as, it, supports, my, tv, the, sagging, shouldn, t, be, an, issue, it, just, looks, funny, from, the, side, i, do, retract, the, arm, inward, towards, the, wall, to, minimize, the, sagging, and, it, also, gives, me, the, warm, fuzzy, feeling, that, the, arm, will, be, less, likely, to, break, off, overall, for, the, price, this, mount, is, a, great, deal, and, works, but, i, would, suggest, purchasing, it, for, flat, screen, tvs, less, than, 37, inches, i, would, not, hesitate, to, buy, this, mount, again, but, for, a, 32, inch, tv, at, most)\n0972683275\tExcellent mount Do not listen to other reviewers, screws that this came with are concrete only, there are no wood or dry wall screws. You will!!!! need a stud finder!!! There are 8 holes in total on a mounting plate, so it is plenty enough if you hit the center of a stud. Sturdy,good looking. There is a whole set of machine screws for(my guess)all TV types plus couple of tools that you will need.\tWrappedArray(excellent, mount, do, not, listen, to, other, reviewers, screws, that, this, came, with, are, concrete, only, there, are, no, wood, or, dry, wall, screws, you, will, need, a, stud, finder, there, are, 8, holes, in, total, on, a, mounting, plate, so, it, is, plenty, enough, if, you, hit, the, center, of, a, stud, sturdy, good, looking, there, is, a, whole, set, of, machine, screws, for, my, guess, all, tv, types, plus, couple, of, tools, that, you, will, need)\n0972683275\tPoor Quality Control, May Block the Ports on Your TV Unfortunately, I\u0027m returning this mount.Though I like the look of it, particularly the two part plastic piece that clips to the wall mount portion to cover the bolts, I feel that the one I ordered wasn\u0027t well made.I purchased it to mount aLG 26LE5300 26-Inch 720p 60Hz LED LCD HDTVin our kitchen.The mount arrived quickly and was well packaged. Unfortunately, the arm was welded to the wall bracket at a slight angle, meaning that regardless of how it would mount it and the LCD would never be level.Also, the powder coating near one of the bolts had come off and I could see some rust already forming.I decided to see if the mount would be the right fit for the tv before returning, figuring I would just get a replacement and hope for the best. I\u0027m glad I did because this led me to find two other issues.The first one I blame on the manufacturers, the second I would consider a design flaw of the LG lcd.The first issue is that the screws supplied to attach the bracket to the tv are too few and two short. The screws are only 12mm long, and would barely catch in the threads of the TV if they weren\u0027t recessed at all. Most mounting threads on lcds and plasmas are partially recessed. I stopped by my local Lowes and picked up two packs of similar screws (M4-70 or something to that affect). $0.80 a packet so not much of an expenditure, just a big hassle. I needed 20mm long screws to mount this to the tv, so a pretty fair difference over what was supplied. The manufacturer supplies several different thread and gauge options, but only one shallow length of each set.The second issue is that this universal mount covered the power and HDMI ports on the back of the 26le5300. Again, I think this is more of an issue with the tv then the mount, as they\u0027re situated rather high and central. Either way, it\u0027s something you\u0027ll want to check on your tv before ordering this product.I actually returned this and in its stead purchased a similar mount from the same company. TheVideoSecu Swing LCD Wall Mount 20 inch Extension 55 lb loading capacity for LCD TV Monitor Flat Screen VESA 75mm/100 mm 1USgets very high marks from me. It\u0027s basically the same arm with a 75x75 to 100x100 VESA head on it. This second arm did not have any of the manufacturing errors of the previous model and fit the back of my tv perfectly.I understand that it\u0027s a very affordable mount, and that most of my issues may have been resolved with a replacement. However, I just can\u0027t give this mount any higher rating than I have.\tWrappedArray(poor, quality, control, may, block, the, ports, on, your, tv, unfortunately, i, m, returning, this, mount, though, i, like, the, look, of, it, particularly, the, two, part, plastic, piece, that, clips, to, the, wall, mount, portion, to, cover, the, bolts, i, feel, that, the, one, i, ordered, wasn, t, well, made, i, purchased, it, to, mount, alg, 26le5300, 26, inch, 720p, 60hz, led, lcd, hdtvin, our, kitchen, the, mount, arrived, quickly, and, was, well, packaged, unfortunately, the, arm, was, welded, to, the, wall, bracket, at, a, slight, angle, meaning, that, regardless, of, how, it, would, mount, it, and, the, lcd, would, never, be, level, also, the, powder, coating, near, one, of, the, bolts, had, come, off, and, i, could, see, some, rust, already, forming, i, decided, to, see, if, the, mount, would, be, the, right, fit, for, the, tv, before, returning, figuring, i, would, just, get, a, replacement, and, hope, for, the, best, i, m, glad, i, did, because, this, led, me, to, find, two, other, issues, the, first, one, i, blame, on, the, manufacturers, the, second, i, would, consider, a, design, flaw, of, the, lg, lcd, the, first, issue, is, that, the, screws, supplied, to, attach, the, bracket, to, the, tv, are, too, few, and, two, short, the, screws, are, only, 12mm, long, and, would, barely, catch, in, the, threads, of, the, tv, if, they, weren, t, recessed, at, all, most, mounting, threads, on, lcds, and, plasmas, are, partially, recessed, i, stopped, by, my, local, lowes, and, picked, up, two, packs, of, similar, screws, m4, 70, or, something, to, that, affect, 0, 80, a, packet, so, not, much, of, an, expenditure, just, a, big, hassle, i, needed, 20mm, long, screws, to, mount, this, to, the, tv, so, a, pretty, fair, difference, over, what, was, supplied, the, manufacturer, supplies, several, different, thread, and, gauge, options, but, only, one, shallow, length, of, each, set, the, second, issue, is, that, this, universal, mount, covered, the, power, and, hdmi, ports, on, the, back, of, the, 26le5300, again, i, think, this, is, more, of, an, issue, with, the, tv, then, the, mount, as, they, re, situated, rather, high, and, central, either, way, it, s, something, you, ll, want, to, check, on, your, tv, before, ordering, this, product, i, actually, returned, this, and, in, its, stead, purchased, a, similar, mount, from, the, same, company, thevideosecu, swing, lcd, wall, mount, 20, inch, extension, 55, lb, loading, capacity, for, lcd, tv, monitor, flat, screen, vesa, 75mm, 100, mm, 1usgets, very, high, marks, from, me, it, s, basically, the, same, arm, with, a, 75x75, to, 100x100, vesa, head, on, it, this, second, arm, did, not, have, any, of, the, manufacturing, errors, of, the, previous, model, and, fit, the, back, of, my, tv, perfectly, i, understand, that, it, s, a, very, affordable, mount, and, that, most, of, my, issues, may, have, been, resolved, with, a, replacement, however, i, just, can, t, give, this, mount, any, higher, rating, than, i, have)\n0972683275\tJunk, sags, wobbles, crooked, Rusted If less money had been spent on packaging and more on quality, it might be a good product.The product was double-boxed.  The included level was broken. I would prefer to use my own level and have good hardware instead of junk on both counts.  One of the pivots on the arm was so badly rusted out of the box it seemed to compromise the whole system.  Despite 6 huge lag screws and strong arms, the joints are not strong enough to keep the mount level as it extends and articulates.  Each time I moved it it had to be re-adjusted to be level.  The hardware had to be tightened so much to keep it from wobbling, it made moving it very difficult.  I used a 26\" tv.The whole thing went back in the box for a refund.\tWrappedArray(junk, sags, wobbles, crooked, rusted, if, less, money, had, been, spent, on, packaging, and, more, on, quality, it, might, be, a, good, product, the, product, was, double, boxed, the, included, level, was, broken, i, would, prefer, to, use, my, own, level, and, have, good, hardware, instead, of, junk, on, both, counts, one, of, the, pivots, on, the, arm, was, so, badly, rusted, out, of, the, box, it, seemed, to, compromise, the, whole, system, despite, 6, huge, lag, screws, and, strong, arms, the, joints, are, not, strong, enough, to, keep, the, mount, level, as, it, extends, and, articulates, each, time, i, moved, it, it, had, to, be, re, adjusted, to, be, level, the, hardware, had, to, be, tightened, so, much, to, keep, it, from, wobbling, it, made, moving, it, very, difficult, i, used, a, 26, tv, the, whole, thing, went, back, in, the, box, for, a, refund)\n1400501466\tExcellent hardware, boot from SD for full tablet functionality I bought this for my husband for his birthday after trying it out in BN and seeing how amazingly responsive it is. I did a lot of research and put a lot of thought into it, almost buying him a kindle fire because I thought it was more \"manly\" looking. After much consideration and comparison of hardware, I opted to get this one. The big selling point for me the fact that it can boot from the SD card. I have seen the N2A (Nook2Android) SD cards here on Amazon and wanted him to have that functionality but didn\u0027t want to pay that much for one, so I did some googling and figured out how to make one myself. I purchased a 16GB micro SD card and in about an hour and a half, had the thing booting to CM7 from the SD card, and now it has full tablet functionality. It runs AWESOME, super smooth and very responsive, full tablet capabilities including running 3rd party apps and access to the google play store, and all without rooting or voiding the warranty. All he has to do to put it back to stock is remove the SD card (which he never does! It is pretty much useless in its stock form unless you only do light web browsing and read ebooks) My husband LOVES it and couldn\u0027t be happier with it. He uses it every day. The only thing it doesn\u0027t have that I consider a negative is a camera. MY tablet (Acer Picasso) has a camera and I do actually use it quite a bit, but my husband says he wouldn\u0027t use one  on a tablet so it doesn\u0027t bother him anyway. He also dowloaded Kingsoft Office and now uses this for work as well. Unbeatable hardware at an unbeatable price.... and don\u0027t let the restrictive stock software stop you from buying it... just go around it!!!\tWrappedArray(excellent, hardware, boot, from, sd, for, full, tablet, functionality, i, bought, this, for, my, husband, for, his, birthday, after, trying, it, out, in, bn, and, seeing, how, amazingly, responsive, it, is, i, did, a, lot, of, research, and, put, a, lot, of, thought, into, it, almost, buying, him, a, kindle, fire, because, i, thought, it, was, more, manly, looking, after, much, consideration, and, comparison, of, hardware, i, opted, to, get, this, one, the, big, selling, point, for, me, the, fact, that, it, can, boot, from, the, sd, card, i, have, seen, the, n2a, nook2android, sd, cards, here, on, amazon, and, wanted, him, to, have, that, functionality, but, didn, t, want, to, pay, that, much, for, one, so, i, did, some, googling, and, figured, out, how, to, make, one, myself, i, purchased, a, 16gb, micro, sd, card, and, in, about, an, hour, and, a, half, had, the, thing, booting, to, cm7, from, the, sd, card, and, now, it, has, full, tablet, functionality, it, runs, awesome, super, smooth, and, very, responsive, full, tablet, capabilities, including, running, 3rd, party, apps, and, access, to, the, google, play, store, and, all, without, rooting, or, voiding, the, warranty, all, he, has, to, do, to, put, it, back, to, stock, is, remove, the, sd, card, which, he, never, does, it, is, pretty, much, useless, in, its, stock, form, unless, you, only, do, light, web, browsing, and, read, ebooks, my, husband, loves, it, and, couldn, t, be, happier, with, it, he, uses, it, every, day, the, only, thing, it, doesn, t, have, that, i, consider, a, negative, is, a, camera, my, tablet, acer, picasso, has, a, camera, and, i, do, actually, use, it, quite, a, bit, but, my, husband, says, he, wouldn, t, use, one, on, a, tablet, so, it, doesn, t, bother, him, anyway, he, also, dowloaded, kingsoft, office, and, now, uses, this, for, work, as, well, unbeatable, hardware, at, an, unbeatable, price, and, don, t, let, the, restrictive, stock, software, stop, you, from, buying, it, just, go, around, it)\n"
      },
      "dateCreated": "Jan 11, 2018 12:32:45 PM",
      "dateStarted": "Jan 11, 2018 12:34:15 PM",
      "dateFinished": "Jan 11, 2018 12:34:15 PM",
      "status": "FINISHED",
      "progressUpdateIntervalMs": 500
    },
    {
      "text": "%md\n# StopWord Removal\nLet\u0027s remove some common stop words that provide no signal or infomrmation for our predictive task",
      "user": "davidgillen@precocityllc.com",
      "dateUpdated": "Jan 11, 2018 12:27:24 PM",
      "config": {
        "colWidth": 12.0,
        "graph": {
          "mode": "table",
          "height": 300.0,
          "optionOpen": false,
          "keys": [],
          "values": [],
          "groups": [],
          "scatter": {}
        },
        "enabled": true,
        "editorMode": "ace/mode/markdown",
        "editorHide": true
      },
      "settings": {
        "params": {},
        "forms": {}
      },
      "jobName": "paragraph_1515594478576_85866090",
      "id": "20180110-142758_1907212191_q_8YVGJMASEQ1515692831",
      "result": {
        "code": "SUCCESS",
        "type": "HTML",
        "msg": "\u003cdiv class\u003d\"markdown-body\"\u003e\n\u003ch1\u003eStopWord Removal\u003c/h1\u003e\n\u003cp\u003eLet\u0026rsquo;s remove some common stop words that provide no signal or infomrmation for our predictive task\u003c/p\u003e\n\u003c/div\u003e"
      },
      "dateCreated": "Jan 10, 2018 2:27:58 PM",
      "dateStarted": "Jan 11, 2018 12:27:19 PM",
      "dateFinished": "Jan 11, 2018 12:27:19 PM",
      "status": "FINISHED",
      "progressUpdateIntervalMs": 500
    },
    {
      "text": "var remover \u003d new StopWordsRemover()\n  .setInputCol(\"regexOutput\")\n  .setOutputCol(\"stopWordsOutput\")\n  \nvar stopWords \u003d Array(\"lens\",\"tv\",\"drive\",\"one\",\"case\",\"2\",\"video\",\"battery\",\"1\",\"screen\",\"unit\",\"camera\",\"usb\",\"3\",\"would\",\"also\",\"card\",\"sound\",\"use\") ++ remover.getStopWords\nremover \u003d remover.setStopWords(stopWords)\nvar filteredDF \u003d remover.transform(tokenizedDF)\nfilteredDF.select(\"asin\",\"regexOutput\",\"stopWordsOutput\").show()",
      "user": "davidgillen@precocityllc.com",
      "dateUpdated": "Jan 11, 2018 6:53:33 PM",
      "config": {
        "colWidth": 12.0,
        "graph": {
          "mode": "table",
          "height": 300.0,
          "optionOpen": false,
          "keys": [],
          "values": [],
          "groups": [],
          "scatter": {}
        },
        "enabled": true,
        "editorMode": "ace/mode/scala"
      },
      "settings": {
        "params": {},
        "forms": {}
      },
      "paragraphProgress": {
        "jobs": [
          {
            "id": 1,
            "jobUrl": "https://azure.qubole.com/cluster-proxy?encodedUrl\u003dhttp%3A%2F%2F10.0.0.4%3A8088%2Fproxy%2Fapplication_1515672864099_0012/jobs/job?spark\u003dtrue\u0026id\u003d1",
            "numTasks": 1,
            "numCompletedTasks": 1,
            "stages": [
              {
                "id": 1,
                "completed": true,
                "stageUrl": "https://azure.qubole.com/cluster-proxy?encodedUrl\u003dhttp%3A%2F%2F10.0.0.4%3A8088%2Fproxy%2Fapplication_1515672864099_0012/stages/stage/?id\u003d1\u0026attempt\u003d0",
                "numCompleteTasks": 1,
                "numActiveTasks": 0,
                "numFailedTasks": 0,
                "numTotalTasks": 1
              }
            ],
            "status": "Success"
          }
        ],
        "numCompletedTasks": 1,
        "numTasks": 1,
        "truncated": false
      },
      "jobName": "paragraph_1515594490437_652631868",
      "id": "20180110-142810_931867535_q_8YVGJMASEQ1515692831",
      "result": {
        "code": "SUCCESS",
        "type": "TEXT",
        "msg": "\nremover: org.apache.spark.ml.feature.StopWordsRemover \u003d stopWords_aa1e26714286\nstopWords: Array[String] \u003d Array(lens, tv, drive, one, case, 2, video, battery, 1, screen, unit, camera, usb, 3, would, also, card, sound, use, i, me, my, myself, we, our, ours, ourselves, you, your, yours, yourself, yourselves, he, him, his, himself, she, her, hers, herself, it, its, itself, they, them, their, theirs, themselves, what, which, who, whom, this, that, these, those, am, is, are, was, were, be, been, being, have, has, had, having, do, does, did, doing, a, an, the, and, but, if, or, because, as, until, while, of, at, by, for, with, about, against, between, into, through, during, before, after, above, below, to, from, up, down, in, out, on, off, over, under, again, further, then, once, here, there, when, where, why, how, all, any, both, each, few, more, most, other, some, suc...\nremover: org.apache.spark.ml.feature.StopWordsRemover \u003d stopWords_aa1e26714286\n\nfilteredDF: org.apache.spark.sql.DataFrame \u003d [asin: string, helpful: array\u003cbigint\u003e ... 16 more fields]\n+----------+--------------------+--------------------+\n|      asin|         regexOutput|     stopWordsOutput|\n+----------+--------------------+--------------------+\n|0528881469|[very, disappoint...|[disappointed, pr...|\n|0528881469|[1st, impression,...|[1st, impression,...|\n|0972683275|[real, value, for...|[real, value, mon...|\n|0972683275|[what, a, piece, ...|[piece, junk, che...|\n|0972683275|[excellent, at, a...|[excellent, price...|\n|0972683275|[it, works, but, ...|[works, could, be...|\n|0972683275|[excellent, mount...|[excellent, mount...|\n|0972683275|[poor, quality, c...|[poor, quality, c...|\n|0972683275|[junk, sags, wobb...|[junk, sags, wobb...|\n|1400501466|[excellent, hardw...|[excellent, hardw...|\n|1400501466|[outstanding, 7, ...|[outstanding, 7, ...|\n|1400501466|[nook, tablet, th...|[nook, tablet, no...|\n|1400501466|[tablet, good, su...|[tablet, good, su...|\n|1400501466|[very, limited, u...|[limited, unless,...|\n|1400501466|[memory, card, is...|[memory, issues, ...|\n|1400501520|[great, little, d...|[great, little, d...|\n|1400501520|[best, screen, ou...|[best, 7, tablets...|\n|1400501520|[initially, liked...|[initially, liked...|\n|1400501520|[great, product, ...|[great, product, ...|\n|1400501520|[best, tablet, on...|[best, tablet, bu...|\n+----------+--------------------+--------------------+\nonly showing top 20 rows\n\n"
      },
      "dateCreated": "Jan 10, 2018 2:28:10 PM",
      "dateStarted": "Jan 11, 2018 6:53:33 PM",
      "dateFinished": "Jan 11, 2018 6:53:36 PM",
      "status": "FINISHED",
      "progressUpdateIntervalMs": 500
    },
    {
      "text": "%md\n# Compute number of words",
      "user": "davidgillen@precocityllc.com",
      "dateUpdated": "Jan 10, 2018 8:36:42 PM",
      "config": {
        "colWidth": 12.0,
        "graph": {
          "mode": "table",
          "height": 300.0,
          "optionOpen": false,
          "keys": [],
          "values": [],
          "groups": [],
          "scatter": {}
        },
        "enabled": true,
        "editorMode": "ace/mode/markdown",
        "editorHide": true
      },
      "settings": {
        "params": {},
        "forms": {}
      },
      "jobName": "paragraph_1515616088408_-1598597337",
      "id": "20180110-202808_1151525844_q_8YVGJMASEQ1515692831",
      "result": {
        "code": "SUCCESS",
        "type": "HTML",
        "msg": "\u003cdiv class\u003d\"markdown-body\"\u003e\n\u003ch1\u003eCompute number of words\u003c/h1\u003e\n\u003c/div\u003e"
      },
      "dateCreated": "Jan 10, 2018 8:28:08 PM",
      "dateStarted": "Jan 10, 2018 8:36:39 PM",
      "dateFinished": "Jan 10, 2018 8:36:39 PM",
      "status": "FINISHED",
      "progressUpdateIntervalMs": 500
    },
    {
      "text": "filteredDF.createOrReplaceTempView(\"reviews\")\nval filterByLengthUDF \u003d sqlContext.udf.register(\"NumWords\", (x:WrappedArray[String]) \u003d\u003e x.length)\nfilteredDF \u003d sqlContext.sql(\"select *, NumWords(stopWordsOutput) as numWords from reviews\")\nfilteredDF.createOrReplaceTempView(\"reviews\")",
      "user": "davidgillen@precocityllc.com",
      "dateUpdated": "Jan 11, 2018 6:53:59 PM",
      "config": {
        "colWidth": 12.0,
        "graph": {
          "mode": "table",
          "height": 300.0,
          "optionOpen": false,
          "keys": [],
          "values": [],
          "groups": [],
          "scatter": {}
        },
        "enabled": true,
        "editorMode": "ace/mode/scala"
      },
      "settings": {
        "params": {},
        "forms": {}
      },
      "paragraphProgress": {
        "jobs": [],
        "numCompletedTasks": 0,
        "numTasks": 0,
        "truncated": false
      },
      "jobName": "paragraph_1515595029921_550427102",
      "id": "20180110-143709_254528079_q_8YVGJMASEQ1515692831",
      "result": {
        "code": "SUCCESS",
        "type": "TEXT",
        "msg": "\nfilterByLengthUDF: org.apache.spark.sql.expressions.UserDefinedFunction \u003d UserDefinedFunction(\u003cfunction1\u003e,IntegerType,Some(List(ArrayType(StringType,true))))\n\nfilteredDF: org.apache.spark.sql.DataFrame \u003d [asin: string, helpful: array\u003cbigint\u003e ... 17 more fields]\n"
      },
      "dateCreated": "Jan 10, 2018 2:37:09 PM",
      "dateStarted": "Jan 11, 2018 6:53:59 PM",
      "dateFinished": "Jan 11, 2018 6:54:01 PM",
      "status": "FINISHED",
      "progressUpdateIntervalMs": 500
    },
    {
      "text": "%md\n# BiGrams\nBigrams are 2 consecutive tokens/words and can better capture the sequential nature of reviews than just single words.  ",
      "user": "davidgillen@precocityllc.com",
      "dateUpdated": "Jan 10, 2018 8:04:45 PM",
      "config": {
        "colWidth": 12.0,
        "graph": {
          "mode": "table",
          "height": 300.0,
          "optionOpen": false,
          "keys": [],
          "values": [],
          "groups": [],
          "scatter": {}
        },
        "enabled": true,
        "editorMode": "ace/mode/markdown",
        "editorHide": true
      },
      "settings": {
        "params": {},
        "forms": {}
      },
      "jobName": "paragraph_1515614600712_-183019646",
      "id": "20180110-200320_2022445575_q_8YVGJMASEQ1515692831",
      "result": {
        "code": "SUCCESS",
        "type": "HTML",
        "msg": "\u003cdiv class\u003d\"markdown-body\"\u003e\n\u003ch1\u003eBiGrams\u003c/h1\u003e\n\u003cp\u003eBigrams are 2 consecutive tokens/words and can better capture the sequential nature of reviews than just single words.\u003c/p\u003e\n\u003c/div\u003e"
      },
      "dateCreated": "Jan 10, 2018 8:03:20 PM",
      "dateStarted": "Jan 10, 2018 8:04:42 PM",
      "dateFinished": "Jan 10, 2018 8:04:42 PM",
      "status": "FINISHED",
      "progressUpdateIntervalMs": 500
    },
    {
      "text": "import scala.collection.mutable.WrappedArray\nval bigramTF \u003d new NGram().setN(2).setInputCol(\"stopWordsOutput\").setOutputCol(\"bigrams\")\nval bigramDf \u003d bigramTF.transform(filteredDF)\nval concat2ArraysUDF \u003d udf { (uni: WrappedArray[String],bi:WrappedArray[String]) \u003d\u003e uni ++ bi }\n//concat words \u0026 bigrams into one column called uniAndBi\nvar newTF \u003d bigramDf.withColumn(\"uniAndBi\",concat2ArraysUDF(bigramDf(\"stopWordsOutput\"), bigramDf(\"bigrams\")))\nnewTF.createOrReplaceTempView(\"reviews\")",
      "user": "davidgillen@precocityllc.com",
      "dateUpdated": "Jan 11, 2018 6:54:11 PM",
      "config": {
        "colWidth": 12.0,
        "graph": {
          "mode": "table",
          "height": 300.0,
          "optionOpen": false,
          "keys": [],
          "values": [],
          "groups": [],
          "scatter": {}
        },
        "enabled": true,
        "editorMode": "ace/mode/scala"
      },
      "settings": {
        "params": {},
        "forms": {}
      },
      "paragraphProgress": {
        "jobs": [],
        "numCompletedTasks": 0,
        "numTasks": 0,
        "truncated": false
      },
      "jobName": "paragraph_1515601095577_-1568115310",
      "id": "20180110-161815_1524737661_q_8YVGJMASEQ1515692831",
      "result": {
        "code": "SUCCESS",
        "type": "TEXT",
        "msg": "\nimport scala.collection.mutable.WrappedArray\n\nbigramTF: org.apache.spark.ml.feature.NGram \u003d ngram_d85fa866675c\n\nbigramDf: org.apache.spark.sql.DataFrame \u003d [asin: string, helpful: array\u003cbigint\u003e ... 18 more fields]\n\nconcat2ArraysUDF: org.apache.spark.sql.expressions.UserDefinedFunction \u003d UserDefinedFunction(\u003cfunction2\u003e,ArrayType(StringType,true),Some(List(ArrayType(StringType,true), ArrayType(StringType,true))))\n\nnewTF: org.apache.spark.sql.DataFrame \u003d [asin: string, helpful: array\u003cbigint\u003e ... 19 more fields]\n"
      },
      "dateCreated": "Jan 10, 2018 4:18:15 PM",
      "dateStarted": "Jan 11, 2018 6:54:11 PM",
      "dateFinished": "Jan 11, 2018 6:54:12 PM",
      "status": "FINISHED",
      "progressUpdateIntervalMs": 500
    },
    {
      "text": "%spark.sql\nselect asin, stopWordsOutput,bigrams from reviews where numWords \u003c 50 limit 5",
      "user": "davidgillen@precocityllc.com",
      "dateUpdated": "Jan 11, 2018 12:55:44 PM",
      "config": {
        "colWidth": 12.0,
        "graph": {
          "mode": "table",
          "height": 300.0,
          "optionOpen": false,
          "keys": [
            {
              "name": "asin",
              "index": 0.0,
              "aggr": "sum"
            }
          ],
          "values": [
            {
              "name": "stopWordsOutput",
              "index": 1.0,
              "aggr": "sum"
            }
          ],
          "groups": [],
          "scatter": {
            "xAxis": {
              "name": "asin",
              "index": 0.0,
              "aggr": "sum"
            },
            "yAxis": {
              "name": "stopWordsOutput",
              "index": 1.0,
              "aggr": "sum"
            }
          }
        },
        "enabled": true,
        "editorMode": "ace/mode/sql"
      },
      "settings": {
        "params": {},
        "forms": {}
      },
      "paragraphProgress": {
        "jobs": [
          {
            "id": 4,
            "jobUrl": "https://azure.qubole.com/cluster-proxy?encodedUrl\u003dhttp%3A%2F%2F10.0.0.4%3A8088%2Fproxy%2Fapplication_1515672864099_0001/jobs/job?spark\u003dtrue\u0026id\u003d4",
            "numTasks": 1,
            "numCompletedTasks": 1,
            "stages": [
              {
                "id": 4,
                "completed": true,
                "stageUrl": "https://azure.qubole.com/cluster-proxy?encodedUrl\u003dhttp%3A%2F%2F10.0.0.4%3A8088%2Fproxy%2Fapplication_1515672864099_0001/stages/stage/?id\u003d4\u0026attempt\u003d0",
                "numCompleteTasks": 1,
                "numActiveTasks": 0,
                "numFailedTasks": 0,
                "numTotalTasks": 1
              }
            ],
            "status": "Success"
          }
        ],
        "numCompletedTasks": 1,
        "numTasks": 1,
        "truncated": false
      },
      "jobName": "paragraph_1515617109581_2109879651",
      "id": "20180110-204509_888879914_q_8YVGJMASEQ1515692831",
      "result": {
        "code": "SUCCESS",
        "type": "TABLE",
        "msg": "asin\tstopWordsOutput\tbigrams\nB00000J08Q\tWrappedArray(voice, fax, modems, need, add, phone, extension, without, cables, need, hook, fax, machine, product, ok, modems, internet, connections, speed, go, dooooooown, 9600, even, less)\tWrappedArray(voice fax, fax modems, modems need, need add, add phone, phone extension, extension without, without cables, cables need, need hook, hook fax, fax machine, machine product, product ok, ok modems, modems internet, internet connections, connections speed, speed go, go dooooooown, dooooooown 9600, 9600 even, even less)\nB00000J0AR\tWrappedArray(works, great, little, gizmo, works, fine, phones, work, phones, caller, id, keep, mind, considering, purchase, works, great, others, overall, nifty, little, device)\tWrappedArray(works great, great little, little gizmo, gizmo works, works fine, fine phones, phones work, work phones, phones caller, caller id, id keep, keep mind, mind considering, considering purchase, purchase works, works great, great others, others overall, overall nifty, nifty little, little device)\nB00000J1GA\tWrappedArray(advent, aw770, wireless, headphones, overall, pleased, product, phones, lightweight, comfortable, quality, good, anywhere, house, amp, yard, quality, construction, phones, base, good, ample, supply, cables, amp, adapters, e, plugging, computer, soundcard)\tWrappedArray(advent aw770, aw770 wireless, wireless headphones, headphones overall, overall pleased, pleased product, product phones, phones lightweight, lightweight comfortable, comfortable quality, quality good, good anywhere, anywhere house, house amp, amp yard, yard quality, quality construction, construction phones, phones base, base good, good ample, ample supply, supply cables, cables amp, amp adapters, adapters e, e plugging, plugging computer, computer soundcard)\nB00000J3Q1\tWrappedArray(elegant, practical, slim, give, palm, quite, elegant, touch, lightweight, compact, store, palm, well, business, cards, credit, cards, personally, preffer, hard, cover, modern, look, protects, palm, better, nonetheless, slim, leather, go, elegant, social, events, slimmer, less, heavy, easier, carry, coat, pocket)\tWrappedArray(elegant practical, practical slim, slim give, give palm, palm quite, quite elegant, elegant touch, touch lightweight, lightweight compact, compact store, store palm, palm well, well business, business cards, cards credit, credit cards, cards personally, personally preffer, preffer hard, hard cover, cover modern, modern look, look protects, protects palm, palm better, better nonetheless, nonetheless slim, slim leather, leather go, go elegant, elegant social, social events, events slimmer, slimmer less, less heavy, heavy easier, easier carry, carry coat, coat pocket)\nB00000J3Q1\tWrappedArray(nice, could, better, nice, features, palm, v, slim, size, manufacturer, leave, credit, cash, pockets, definitely, plus, accidental, turn, problems, others, think, softens, bit, could, serious, issue, got, friends, switched, hard, quot, sumptuous, quot, fits, well, accidently, push, buttons, bit, thinner)\tWrappedArray(nice could, could better, better nice, nice features, features palm, palm v, v slim, slim size, size manufacturer, manufacturer leave, leave credit, credit cash, cash pockets, pockets definitely, definitely plus, plus accidental, accidental turn, turn problems, problems others, others think, think softens, softens bit, bit could, could serious, serious issue, issue got, got friends, friends switched, switched hard, hard quot, quot sumptuous, sumptuous quot, quot fits, fits well, well accidently, accidently push, push buttons, buttons bit, bit thinner)\nB00000J4VK\tWrappedArray(ok, fits, bought, kodak, dc280, ok, guess, realized, ithat, wanted, larger, style, bag, though, worked, wanted, bring, along, extra, memory, never, thrilled, purchased, new, canon, g1, fit, realized, good, life, could, larger, bag, want, small, carry, small, accessories, 4, aa, batteris, memory, two, might, right)\tWrappedArray(ok fits, fits bought, bought kodak, kodak dc280, dc280 ok, ok guess, guess realized, realized ithat, ithat wanted, wanted larger, larger style, style bag, bag though, though worked, worked wanted, wanted bring, bring along, along extra, extra memory, memory never, never thrilled, thrilled purchased, purchased new, new canon, canon g1, g1 fit, fit realized, realized good, good life, life could, could larger, larger bag, bag want, want small, small carry, carry small, small accessories, accessories 4, 4 aa, aa batteris, batteris memory, memory two, two might, might right)\nB00000JBLJ\tWrappedArray(excellent, value, better, alternatives, first, headset, plan, heavyuse, good, gets, quality, goodand, relatively, comfortable, however, going, spend, time, plantronics, m175, far, worth, additional, expense, much, invisible, stand, point, user, completely, forget, head, listener, end, switch, plantronics, know, going, long, call, going, moving)\tWrappedArray(excellent value, value better, better alternatives, alternatives first, first headset, headset plan, plan heavyuse, heavyuse good, good gets, gets quality, quality goodand, goodand relatively, relatively comfortable, comfortable however, however going, going spend, spend time, time plantronics, plantronics m175, m175 far, far worth, worth additional, additional expense, expense much, much invisible, invisible stand, stand point, point user, user completely, completely forget, forget head, head listener, listener end, end switch, switch plantronics, plantronics know, know going, going long, long call, call going, going moving)\nB00000JCTO\tWrappedArray(good, product, short, wire, product, exactly, supposed, understand, people, expected, product, support, vox, say, anything, vox, product, description, personally, like, vox, want, children, hear, saying, fall, skiing, anyway, product, ok, problem, short, wire, gave, 4, stars)\tWrappedArray(good product, product short, short wire, wire product, product exactly, exactly supposed, supposed understand, understand people, people expected, expected product, product support, support vox, vox say, say anything, anything vox, vox product, product description, description personally, personally like, like vox, vox want, want children, children hear, hear saying, saying fall, fall skiing, skiing anyway, anyway product, product ok, ok problem, problem short, short wire, wire gave, gave 4, 4 stars)\nB00000JCTO\tWrappedArray(recommended, accessory, frs, radios, complaint, earbud, mic, cord, short, otherwise, quality, good, built, mic, ptt, works, fine, 5mm, extension, cord, radio, shack, meant, phone, headsets, 43, 2003, alleviates, cord, problem, however, earbud, cushion, comfortable, discreet, excellent, accessory, motorola, frs, radio)\tWrappedArray(recommended accessory, accessory frs, frs radios, radios complaint, complaint earbud, earbud mic, mic cord, cord short, short otherwise, otherwise quality, quality good, good built, built mic, mic ptt, ptt works, works fine, fine 5mm, 5mm extension, extension cord, cord radio, radio shack, shack meant, meant phone, phone headsets, headsets 43, 43 2003, 2003 alleviates, alleviates cord, cord problem, problem however, however earbud, earbud cushion, cushion comfortable, comfortable discreet, discreet excellent, excellent accessory, accessory motorola, motorola frs, frs radio)\nB00000JD34\tWrappedArray(works, well, works, well, talkabout, radios, drawback, clip, started, break, 10, days, daily, florida, parks, clip, breaks, gets, annoying, carry, hand)\tWrappedArray(works well, well works, works well, well talkabout, talkabout radios, radios drawback, drawback clip, clip started, started break, break 10, 10 days, days daily, daily florida, florida parks, parks clip, clip breaks, breaks gets, gets annoying, annoying carry, carry hand)\n"
      },
      "dateCreated": "Jan 10, 2018 8:45:09 PM",
      "dateStarted": "Jan 11, 2018 12:55:05 PM",
      "dateFinished": "Jan 11, 2018 12:55:06 PM",
      "status": "FINISHED",
      "progressUpdateIntervalMs": 500
    },
    {
      "text": "%md\n## Featurization\nBefore applying Machine Learning (ML) models, we\u0027ll need to featurize our bigrams into numeric values. \n**Term Frequency - Inverse Document Frequency (TF-IDF)** is a very popular featurization method that scales well to large datasets. \n\nSpark\u0027s CountVectorizer applies a TF algorithm to in InputCol \u0026 returns a SparseVector that contains the word indices \u0026 their counts\n",
      "user": "davidgillen@precocityllc.com",
      "dateUpdated": "Jan 11, 2018 3:04:21 PM",
      "config": {
        "colWidth": 12.0,
        "graph": {
          "mode": "table",
          "height": 300.0,
          "optionOpen": false,
          "keys": [],
          "values": [],
          "groups": [],
          "scatter": {}
        },
        "enabled": true,
        "editorMode": "ace/mode/markdown",
        "editorHide": true
      },
      "settings": {
        "params": {},
        "forms": {}
      },
      "jobName": "paragraph_1515676750187_298409029",
      "id": "20180111-131910_263021081_q_8YVGJMASEQ1515692831",
      "result": {
        "code": "SUCCESS",
        "type": "HTML",
        "msg": "\u003cdiv class\u003d\"markdown-body\"\u003e\n\u003ch2\u003eFeaturization\u003c/h2\u003e\n\u003cp\u003eBefore applying Machine Learning (ML) models, we\u0026rsquo;ll need to featurize our bigrams into numeric values.\u003cbr/\u003e\u003cstrong\u003eTerm Frequency - Inverse Document Frequency (TF-IDF)\u003c/strong\u003e is a very popular featurization method that scales well to large datasets. \u003c/p\u003e\n\u003cp\u003eSpark\u0026rsquo;s CountVectorizer applies a TF algorithm to in InputCol \u0026amp; returns a SparseVector that contains the word indices \u0026amp; their counts\u003c/p\u003e\n\u003c/div\u003e"
      },
      "dateCreated": "Jan 11, 2018 1:19:10 PM",
      "dateStarted": "Jan 11, 2018 2:38:43 PM",
      "dateFinished": "Jan 11, 2018 2:38:44 PM",
      "status": "FINISHED",
      "progressUpdateIntervalMs": 500
    },
    {
      "text": "var countTF \u003d new CountVectorizer().setInputCol(\"bigrams\").setOutputCol(\"countFeatures\")\nvar badProducts \u003d newTF.filter(\"overall \u003c 2\")\nvar countModel \u003d countTF.fit(badProducts)\nvar featurizedData \u003d countModel.transform(badProducts)\nfeaturizedData.filter(\"numWords \u003c 50\").select(\"asin\",\"Category\",\"countFeatures\").show(false)",
      "user": "davidgillen@precocityllc.com",
      "dateUpdated": "Jan 11, 2018 6:54:23 PM",
      "config": {
        "colWidth": 12.0,
        "graph": {
          "mode": "table",
          "height": 300.0,
          "optionOpen": false,
          "keys": [],
          "values": [],
          "groups": [],
          "scatter": {}
        },
        "enabled": true,
        "editorMode": "ace/mode/scala"
      },
      "settings": {
        "params": {},
        "forms": {}
      },
      "paragraphProgress": {
        "jobs": [
          {
            "id": 2,
            "jobUrl": "https://azure.qubole.com/cluster-proxy?encodedUrl\u003dhttp%3A%2F%2F10.0.0.4%3A8088%2Fproxy%2Fapplication_1515672864099_0012/jobs/job?spark\u003dtrue\u0026id\u003d2",
            "numTasks": 24,
            "numCompletedTasks": 24,
            "stages": [
              {
                "id": 2,
                "completed": true,
                "stageUrl": "https://azure.qubole.com/cluster-proxy?encodedUrl\u003dhttp%3A%2F%2F10.0.0.4%3A8088%2Fproxy%2Fapplication_1515672864099_0012/stages/stage/?id\u003d2\u0026attempt\u003d0",
                "numCompleteTasks": 12,
                "numActiveTasks": 0,
                "numFailedTasks": 0,
                "numTotalTasks": 12
              },
              {
                "id": 3,
                "completed": true,
                "stageUrl": "https://azure.qubole.com/cluster-proxy?encodedUrl\u003dhttp%3A%2F%2F10.0.0.4%3A8088%2Fproxy%2Fapplication_1515672864099_0012/stages/stage/?id\u003d3\u0026attempt\u003d0",
                "numCompleteTasks": 12,
                "numActiveTasks": 0,
                "numFailedTasks": 0,
                "numTotalTasks": 12
              }
            ],
            "status": "Success"
          },
          {
            "id": 3,
            "jobUrl": "https://azure.qubole.com/cluster-proxy?encodedUrl\u003dhttp%3A%2F%2F10.0.0.4%3A8088%2Fproxy%2Fapplication_1515672864099_0012/jobs/job?spark\u003dtrue\u0026id\u003d3",
            "numTasks": 24,
            "numCompletedTasks": 12,
            "stages": [
              {
                "id": 5,
                "completed": true,
                "stageUrl": "https://azure.qubole.com/cluster-proxy?encodedUrl\u003dhttp%3A%2F%2F10.0.0.4%3A8088%2Fproxy%2Fapplication_1515672864099_0012/stages/stage/?id\u003d5\u0026attempt\u003d0",
                "numCompleteTasks": 12,
                "numActiveTasks": 0,
                "numFailedTasks": 0,
                "numTotalTasks": 12
              },
              {
                "id": 4,
                "completed": true,
                "stageUrl": "https://azure.qubole.com/cluster-proxy?encodedUrl\u003dhttp%3A%2F%2F10.0.0.4%3A8088%2Fproxy%2Fapplication_1515672864099_0012/stages/stage/?id\u003d4\u0026attempt\u003d0",
                "numCompleteTasks": 0,
                "numActiveTasks": 0,
                "numFailedTasks": 0,
                "numTotalTasks": 0
              }
            ],
            "status": "Success"
          },
          {
            "id": 4,
            "jobUrl": "https://azure.qubole.com/cluster-proxy?encodedUrl\u003dhttp%3A%2F%2F10.0.0.4%3A8088%2Fproxy%2Fapplication_1515672864099_0012/jobs/job?spark\u003dtrue\u0026id\u003d4",
            "numTasks": 1,
            "numCompletedTasks": 1,
            "stages": [
              {
                "id": 6,
                "completed": true,
                "stageUrl": "https://azure.qubole.com/cluster-proxy?encodedUrl\u003dhttp%3A%2F%2F10.0.0.4%3A8088%2Fproxy%2Fapplication_1515672864099_0012/stages/stage/?id\u003d6\u0026attempt\u003d0",
                "numCompleteTasks": 1,
                "numActiveTasks": 0,
                "numFailedTasks": 0,
                "numTotalTasks": 1
              }
            ],
            "status": "Success"
          }
        ],
        "numCompletedTasks": 37,
        "numTasks": 49,
        "truncated": false
      },
      "jobName": "paragraph_1515594859879_-1776919518",
      "id": "20180110-143419_95178827_q_8YVGJMASEQ1515692831",
      "result": {
        "code": "SUCCESS",
        "type": "TEXT",
        "msg": "\ncountTF: org.apache.spark.ml.feature.CountVectorizer \u003d cntVec_296b712f7e4a\n\nbadProducts: org.apache.spark.sql.Dataset[org.apache.spark.sql.Row] \u003d [asin: string, helpful: array\u003cbigint\u003e ... 19 more fields]\n\ncountModel: org.apache.spark.ml.feature.CountVectorizerModel \u003d cntVec_296b712f7e4a\n\nfeaturizedData: org.apache.spark.sql.DataFrame \u003d [asin: string, helpful: array\u003cbigint\u003e ... 20 more fields]\n+----------+-----------+--------------------------------------------------------------------------------------------------------------------------------------------------------------------------------------------------------------------------------------------------------------------------------------------------------------------------------------------------------------------------------------------------------------------------------------------------------------------------------------------------------------+\n|asin      |Category   |countFeatures                                                                                                                                                                                                                                                                                                                                                                                                                                                                                                 |\n+----------+-----------+--------------------------------------------------------------------------------------------------------------------------------------------------------------------------------------------------------------------------------------------------------------------------------------------------------------------------------------------------------------------------------------------------------------------------------------------------------------------------------------------------------------+\n|1400501466|Electronics|(262144,[12,976,1477,1857,4468,8022,8490,18069,49812,140038,168885],[1.0,1.0,1.0,1.0,1.0,1.0,1.0,1.0,1.0,1.0,1.0])                                                                                                                                                                                                                                                                                                                                                                                            |\n|1400532620|Electronics|(262144,[781,1590,1763,3794,12320,15963,16635,25245,37124,37958,40351,40913,51316,63531,77758,81161,83727,90395,97717,101091,105331,109979,111530,113035,121617,122489,124533,136059,150019,153135,153950,154446,158964,161956,162859,163113,165614,167270,170269,174072,175948,176630,178899,178969,184101,187146],[1.0,1.0,1.0,1.0,2.0,1.0,1.0,1.0,1.0,1.0,1.0,1.0,1.0,1.0,1.0,1.0,1.0,1.0,1.0,1.0,1.0,1.0,1.0,1.0,1.0,1.0,1.0,1.0,1.0,1.0,1.0,1.0,1.0,1.0,1.0,1.0,1.0,1.0,1.0,1.0,1.0,1.0,1.0,1.0,1.0,1.0])|\n|1400532655|Electronics|(262144,[190,1174,1857,4584,4807,8490,8975,27738,44186,46630,59865,62218,62345,63326,84263,104424,105662,106216,115476,152205,170280,194054,239443,254571,261690],[1.0,1.0,1.0,1.0,1.0,1.0,1.0,1.0,1.0,1.0,1.0,1.0,1.0,1.0,1.0,1.0,1.0,1.0,1.0,1.0,1.0,1.0,1.0,1.0,1.0])                                                                                                                                                                                                                                      |\n|1400698987|Electronics|(262144,[1253,1857,2114,2637,2957,4232,10201,11909,18032,21792,35925,47816,49103,49548,58923,69544,84821,98059,98971,128698,129489,135034,139800,155496,158249,181700],[2.0,1.0,2.0,1.0,1.0,2.0,1.0,1.0,1.0,1.0,1.0,2.0,1.0,2.0,1.0,1.0,1.0,1.0,1.0,1.0,1.0,1.0,1.0,1.0,1.0,1.0])                                                                                                                                                                                                                             |\n|6301977173|Electronics|(262144,[366,19697,29180,44192,52263,77838,146826,153482,179755,195110,220163],[1.0,1.0,1.0,2.0,1.0,1.0,1.0,1.0,1.0,1.0,1.0])                                                                                                                                                                                                                                                                                                                                                                                 |\n|9573212919|Electronics|(262144,[716,2566,5115,6414,15028,17736,23403,24094,28708,31021,35941,36865,47419,84466,114613,156540,170290],[1.0,1.0,1.0,2.0,1.0,1.0,1.0,1.0,1.0,1.0,1.0,2.0,1.0,1.0,1.0,1.0,1.0])                                                                                                                                                                                                                                                                                                                          |\n|9575871979|Electronics|(262144,[0,1260,1477,4926,9552,9592,18361,21128,21707,41105,43701,55589,76617,84891,87531,112903,155997,158303,170281,186884,231786,242658,257901],[1.0,1.0,1.0,1.0,1.0,1.0,1.0,1.0,1.0,1.0,1.0,1.0,1.0,1.0,1.0,1.0,1.0,1.0,1.0,1.0,1.0,1.0,1.0])                                                                                                                                                                                                                                                             |\n|B000001OMT|Electronics|(262144,[266,328,2219,2372,4362,10830,15335,19275,44020,118244,149146,149308,151735,154381,173082,176653,179545],[1.0,1.0,1.0,1.0,1.0,1.0,1.0,1.0,1.0,2.0,1.0,1.0,1.0,2.0,2.0,2.0,2.0])                                                                                                                                                                                                                                                                                                                       |\n|B00000J08Q|Electronics|(262144,[2,53,360,361,4578,5223,8318,9259,12415,24226,62444,79997,119078],[1.0,1.0,1.0,1.0,1.0,1.0,1.0,1.0,1.0,1.0,1.0,1.0,1.0])                                                                                                                                                                                                                                                                                                                                                                              |\n|B00000J0AR|Electronics|(262144,[11098,25642,53369,69241,94266,100897,109494,117890,153428,218258,229249],[1.0,1.0,1.0,3.0,2.0,1.0,1.0,1.0,1.0,1.0,1.0])                                                                                                                                                                                                                                                                                                                                                                              |\n|B00000J1V5|Electronics|(262144,[669,1726,3292,4154,4949,6007,10926,12961,16695,20633,20668,34961,87038,121781,140005],[1.0,1.0,1.0,1.0,1.0,1.0,1.0,1.0,1.0,1.0,1.0,1.0,1.0,1.0,1.0])                                                                                                                                                                                                                                                                                                                                                 |\n|B00000JBIA|Electronics|(262144,[250,857,1201,1282,5229,13225,16052,33924,35141,56086,62761,79969,112160,126110,130522,134611,136146,156750,219147,254769],[1.0,1.0,1.0,1.0,1.0,1.0,1.0,1.0,1.0,1.0,1.0,1.0,1.0,1.0,1.0,1.0,1.0,1.0,1.0,1.0])                                                                                                                                                                                                                                                                                         |\n|B00000JBLJ|Electronics|(262144,[3265,5625,6586,8327,11536,15503,114634,121640,134243,252364],[1.0,1.0,1.0,1.0,1.0,1.0,1.0,1.0,1.0,1.0])                                                                                                                                                                                                                                                                                                                                                                                              |\n|B00000JDF6|Electronics|(262144,[21,59,3484,3996,5290,6342,8347,13159,13992,14312,23713,28014,56043,56979,63125,76082,79309,107169,113168,122202,123095,125182,134571,175663,184823,198416,201183],[1.0,1.0,1.0,1.0,1.0,1.0,1.0,1.0,2.0,1.0,1.0,1.0,1.0,1.0,2.0,1.0,1.0,1.0,1.0,1.0,1.0,1.0,1.0,1.0,1.0,1.0,1.0])                                                                                                                                                                                                                     |\n|B00000JGN9|Electronics|(262144,[9,43,280,1105,4406,7524,9802,24526,29266,35514,35904,46664,59457,61188,161296,187924,204058,248715],[1.0,1.0,1.0,1.0,1.0,1.0,1.0,1.0,1.0,1.0,1.0,1.0,1.0,1.0,1.0,1.0,1.0,1.0])                                                                                                                                                                                                                                                                                                                       |\n|B00000JSGF|Electronics|(262144,[13,213,1888,2482,3799,4624,25317,31611,95898,109419,150393,154206,162940],[1.0,1.0,1.0,1.0,1.0,1.0,1.0,1.0,1.0,1.0,1.0,1.0,1.0])                                                                                                                                                                                                                                                                                                                                                                     |\n|B00000JYWQ|Electronics|(262144,[152,752,1511,1559,1865,2623,4279,16673,19467,38064,46046,46141,47603,50179,52213,98433,105148,105906,119683,141620,154663,167851,180761],[1.0,1.0,1.0,1.0,1.0,1.0,1.0,1.0,1.0,1.0,1.0,1.0,1.0,1.0,1.0,1.0,1.0,1.0,1.0,1.0,1.0,1.0,1.0])                                                                                                                                                                                                                                                              |\n|B00000K2YR|Electronics|(262144,[3476,6587,43353,160736,163810],[1.0,1.0,1.0,1.0,1.0])                                                                                                                                                                                                                                                                                                                                                                                                                                                |\n|B00000K2YR|Electronics|(262144,[2,18,1065,2843,3372,3464,3640,10731,17835,19183,20261,20485,22544,32534,37919,54138,59852,61681,65568,74307,79800,81540,96075,100237,135073,143421,185660,253513],[1.0,1.0,1.0,1.0,1.0,1.0,1.0,1.0,1.0,1.0,1.0,1.0,1.0,1.0,1.0,1.0,1.0,1.0,1.0,1.0,1.0,1.0,1.0,1.0,1.0,1.0,1.0,1.0])                                                                                                                                                                                                                 |\n|B00001P4XH|Electronics|(262144,[30,112,6288,8874,11349,36356,45389,71546,83201,108677,117835,135871,158043,170166,238806],[1.0,1.0,1.0,1.0,1.0,1.0,1.0,1.0,1.0,1.0,1.0,1.0,1.0,1.0,1.0])                                                                                                                                                                                                                                                                                                                                             |\n+----------+-----------+--------------------------------------------------------------------------------------------------------------------------------------------------------------------------------------------------------------------------------------------------------------------------------------------------------------------------------------------------------------------------------------------------------------------------------------------------------------------------------------------------------------+\nonly showing top 20 rows\n\n"
      },
      "dateCreated": "Jan 10, 2018 2:34:19 PM",
      "dateStarted": "Jan 11, 2018 6:54:23 PM",
      "dateFinished": "Jan 11, 2018 6:54:43 PM",
      "status": "FINISHED",
      "progressUpdateIntervalMs": 500
    },
    {
      "text": "%md\nSee out we\u0027ve now featurized our text into a numeric features represented in the `countFeatures` column.  This column contains SparseVector in the form (totalSize,[wordIndicesForThisReview],[wordCountsForThisReview])",
      "user": "davidgillen@precocityllc.com",
      "dateUpdated": "Jan 11, 2018 2:57:03 PM",
      "config": {
        "colWidth": 12.0,
        "graph": {
          "mode": "table",
          "height": 300.0,
          "optionOpen": false,
          "keys": [],
          "values": [],
          "groups": [],
          "scatter": {}
        },
        "enabled": true,
        "editorMode": "ace/mode/markdown",
        "editorHide": true
      },
      "settings": {
        "params": {},
        "forms": {}
      },
      "jobName": "paragraph_1515682444285_1152855829",
      "id": "20180111-145404_1950049737_q_8YVGJMASEQ1515692831",
      "result": {
        "code": "SUCCESS",
        "type": "HTML",
        "msg": "\u003cdiv class\u003d\"markdown-body\"\u003e\n\u003cp\u003eSee out we\u0026rsquo;ve now featurized our text into a numeric features represented in the \u003ccode\u003ecountFeatures\u003c/code\u003e column. This column contains SparseVector in the form (totalSize,[wordIndicesForThisReview],[wordCountsForThisReview])\u003c/p\u003e\n\u003c/div\u003e"
      },
      "dateCreated": "Jan 11, 2018 2:54:04 PM",
      "dateStarted": "Jan 11, 2018 2:56:52 PM",
      "dateFinished": "Jan 11, 2018 2:56:53 PM",
      "status": "FINISHED",
      "progressUpdateIntervalMs": 500
    },
    {
      "text": "%md\n# Most Common Bigrams of Bad Products\nThe `countModel` contains a vocabulary in descending count order, so let\u0027s view the most common bigrams first",
      "user": "davidgillen@precocityllc.com",
      "dateUpdated": "Jan 11, 2018 6:55:01 PM",
      "config": {
        "colWidth": 12.0,
        "graph": {
          "mode": "table",
          "height": 300.0,
          "optionOpen": false,
          "keys": [],
          "values": [],
          "groups": [],
          "scatter": {}
        },
        "enabled": true,
        "editorMode": "ace/mode/markdown",
        "editorHide": true
      },
      "settings": {
        "params": {},
        "forms": {}
      },
      "jobName": "paragraph_1515682669292_1414806889",
      "id": "20180111-145749_998476415_q_8YVGJMASEQ1515692831",
      "result": {
        "code": "SUCCESS",
        "type": "HTML",
        "msg": "\u003cdiv class\u003d\"markdown-body\"\u003e\n\u003ch1\u003eMost Common Bigrams of Bad Products\u003c/h1\u003e\n\u003cp\u003eThe \u003ccode\u003ecountModel\u003c/code\u003e contains a vocabulary in descending count order, so let\u0026rsquo;s view the most common bigrams first\u003c/p\u003e\n\u003c/div\u003e"
      },
      "dateCreated": "Jan 11, 2018 2:57:49 PM",
      "dateStarted": "Jan 11, 2018 3:06:55 PM",
      "dateFinished": "Jan 11, 2018 3:06:55 PM",
      "status": "FINISHED",
      "progressUpdateIntervalMs": 500
    },
    {
      "text": "var wordsRDD \u003d sc.parallelize(countModel.vocabulary)\nvar wordDF \u003d wordsRDD.zipWithIndex().toDF(\"word\",\"index\")\nwordDF.show(40,false)",
      "user": "davidgillen@precocityllc.com",
      "dateUpdated": "Jan 11, 2018 6:55:15 PM",
      "config": {
        "colWidth": 12.0,
        "graph": {
          "mode": "table",
          "height": 300.0,
          "optionOpen": false,
          "keys": [],
          "values": [],
          "groups": [],
          "scatter": {}
        },
        "enabled": true,
        "editorMode": "ace/mode/scala"
      },
      "settings": {
        "params": {},
        "forms": {}
      },
      "paragraphProgress": {
        "jobs": [
          {
            "id": 5,
            "jobUrl": "https://azure.qubole.com/cluster-proxy?encodedUrl\u003dhttp%3A%2F%2F10.0.0.4%3A8088%2Fproxy%2Fapplication_1515672864099_0012/jobs/job?spark\u003dtrue\u0026id\u003d5",
            "numTasks": 7,
            "numCompletedTasks": 7,
            "stages": [
              {
                "id": 7,
                "completed": true,
                "stageUrl": "https://azure.qubole.com/cluster-proxy?encodedUrl\u003dhttp%3A%2F%2F10.0.0.4%3A8088%2Fproxy%2Fapplication_1515672864099_0012/stages/stage/?id\u003d7\u0026attempt\u003d0",
                "numCompleteTasks": 7,
                "numActiveTasks": 0,
                "numFailedTasks": 0,
                "numTotalTasks": 7
              }
            ],
            "status": "Success"
          },
          {
            "id": 6,
            "jobUrl": "https://azure.qubole.com/cluster-proxy?encodedUrl\u003dhttp%3A%2F%2F10.0.0.4%3A8088%2Fproxy%2Fapplication_1515672864099_0012/jobs/job?spark\u003dtrue\u0026id\u003d6",
            "numTasks": 1,
            "numCompletedTasks": 1,
            "stages": [
              {
                "id": 8,
                "completed": true,
                "stageUrl": "https://azure.qubole.com/cluster-proxy?encodedUrl\u003dhttp%3A%2F%2F10.0.0.4%3A8088%2Fproxy%2Fapplication_1515672864099_0012/stages/stage/?id\u003d8\u0026attempt\u003d0",
                "numCompleteTasks": 1,
                "numActiveTasks": 0,
                "numFailedTasks": 0,
                "numTotalTasks": 1
              }
            ],
            "status": "Success"
          }
        ],
        "numCompletedTasks": 8,
        "numTasks": 8,
        "truncated": false
      },
      "jobName": "paragraph_1515595679847_-1770226666",
      "id": "20180110-144759_1956047491_q_8YVGJMASEQ1515692831",
      "result": {
        "code": "SUCCESS",
        "type": "TEXT",
        "msg": "\nwordsRDD: org.apache.spark.rdd.RDD[String] \u003d ParallelCollectionRDD[28] at parallelize at \u003cconsole\u003e:84\n\nwordDF: org.apache.spark.sql.DataFrame \u003d [word: string, index: bigint]\n+-----------------+-----+\n|word             |index|\n+-----------------+-----+\n|customer service |0    |\n|tech support     |1    |\n|waste money      |2    |\n|even though      |3    |\n|windows 7        |4    |\n|blu ray          |5    |\n|much better      |6    |\n|windows 8        |7    |\n|every time       |8    |\n|stay away        |9    |\n|stopped working  |10   |\n|piece junk       |11   |\n|customer support |12   |\n|brand new        |13   |\n|going back       |14   |\n|make sure        |15   |\n|looks like       |16   |\n|picture quality  |17   |\n|poor quality     |18   |\n|dvd player       |19   |\n|send back        |20   |\n|buyer beware     |21   |\n|save money       |22   |\n|sent back        |23   |\n|could get        |24   |\n|year old         |25   |\n|quality control  |26   |\n|first time       |27   |\n|waste time       |28   |\n|buy another      |29   |\n|worked fine      |30   |\n|amazon com       |31   |\n|bottom line      |32   |\n|web site         |33   |\n|something else   |34   |\n|never buy        |35   |\n|technical support|36   |\n|5 stars          |37   |\n|get work         |38   |\n|operating system |39   |\n+-----------------+-----+\nonly showing top 40 rows\n\n"
      },
      "dateCreated": "Jan 10, 2018 2:47:59 PM",
      "dateStarted": "Jan 11, 2018 6:55:15 PM",
      "dateFinished": "Jan 11, 2018 6:55:17 PM",
      "status": "FINISHED",
      "progressUpdateIntervalMs": 500
    },
    {
      "text": "%md\nRecall we filtered on reviews of just the bad products rated \u003c 1, so it is intuitive that bigrams such as `customer service`, `waste money`, `stopped working`, \u0026 `piece junk` are among the most frequent",
      "user": "davidgillen@precocityllc.com",
      "dateUpdated": "Jan 11, 2018 3:05:52 PM",
      "config": {
        "colWidth": 12.0,
        "graph": {
          "mode": "table",
          "height": 300.0,
          "optionOpen": false,
          "keys": [],
          "values": [],
          "groups": [],
          "scatter": {}
        },
        "enabled": true,
        "editorMode": "ace/mode/markdown",
        "editorHide": true
      },
      "settings": {
        "params": {},
        "forms": {}
      },
      "jobName": "paragraph_1515682850787_-1572555426",
      "id": "20180111-150050_1147079889_q_8YVGJMASEQ1515692831",
      "result": {
        "code": "SUCCESS",
        "type": "HTML",
        "msg": "\u003cdiv class\u003d\"markdown-body\"\u003e\n\u003cp\u003eRecall we filtered on reviews of just the bad products rated \u0026lt; 1, so it is intuitive that bigrams such as \u003ccode\u003ecustomer service\u003c/code\u003e, \u003ccode\u003ewaste money\u003c/code\u003e, \u003ccode\u003estopped working\u003c/code\u003e, \u0026amp; \u003ccode\u003epiece junk\u003c/code\u003e are among the most frequent\u003c/p\u003e\n\u003c/div\u003e"
      },
      "dateCreated": "Jan 11, 2018 3:00:50 PM",
      "dateStarted": "Jan 11, 2018 3:02:50 PM",
      "dateFinished": "Jan 11, 2018 3:02:50 PM",
      "status": "FINISHED",
      "progressUpdateIntervalMs": 500
    },
    {
      "text": "%md\n# Most Common Bigrams of Good Products\nNow let\u0027s compute the Term Frequency of reviews of good products",
      "user": "davidgillen@precocityllc.com",
      "dateUpdated": "Jan 11, 2018 6:55:24 PM",
      "config": {
        "colWidth": 12.0,
        "graph": {
          "mode": "table",
          "height": 300.0,
          "optionOpen": false,
          "keys": [],
          "values": [],
          "groups": [],
          "scatter": {}
        },
        "enabled": true,
        "editorMode": "ace/mode/markdown",
        "editorHide": true
      },
      "settings": {
        "params": {},
        "forms": {}
      },
      "jobName": "paragraph_1515683224901_-793498032",
      "id": "20180111-150704_2032838349_q_8YVGJMASEQ1515692831",
      "result": {
        "code": "SUCCESS",
        "type": "HTML",
        "msg": "\u003cdiv class\u003d\"markdown-body\"\u003e\n\u003ch1\u003eMost Common Bigrams of Good Products\u003c/h1\u003e\n\u003cp\u003eNow let\u0026rsquo;s compute the Term Frequency of reviews of good products\u003c/p\u003e\n\u003c/div\u003e"
      },
      "dateCreated": "Jan 11, 2018 3:07:04 PM",
      "dateStarted": "Jan 11, 2018 3:07:54 PM",
      "dateFinished": "Jan 11, 2018 3:07:54 PM",
      "status": "FINISHED",
      "progressUpdateIntervalMs": 500
    },
    {
      "text": "var goodTF \u003d new CountVectorizer().setInputCol(\"bigrams\").setOutputCol(\"countFeatures\")\nvar goodProducts \u003d newTF.filter(\"overall \u003e 4\")\nvar goodTFModel \u003d goodTF.fit(goodProducts)\nvar bigramsRDD \u003d sc.parallelize(goodTFModel.vocabulary)\nvar bigramDF \u003d bigramsRDD.zipWithIndex().toDF(\"bigram\",\"index\")\nbigramDF.show(20,false)",
      "user": "davidgillen@precocityllc.com",
      "dateUpdated": "Jan 11, 2018 6:55:27 PM",
      "config": {
        "colWidth": 12.0,
        "graph": {
          "mode": "table",
          "height": 300.0,
          "optionOpen": false,
          "keys": [],
          "values": [],
          "groups": [],
          "scatter": {}
        },
        "enabled": true,
        "editorMode": "ace/mode/scala"
      },
      "settings": {
        "params": {},
        "forms": {}
      },
      "paragraphProgress": {
        "jobs": [
          {
            "id": 7,
            "jobUrl": "https://azure.qubole.com/cluster-proxy?encodedUrl\u003dhttp%3A%2F%2F10.0.0.4%3A8088%2Fproxy%2Fapplication_1515672864099_0012/jobs/job?spark\u003dtrue\u0026id\u003d7",
            "numTasks": 24,
            "numCompletedTasks": 24,
            "stages": [
              {
                "id": 9,
                "completed": true,
                "stageUrl": "https://azure.qubole.com/cluster-proxy?encodedUrl\u003dhttp%3A%2F%2F10.0.0.4%3A8088%2Fproxy%2Fapplication_1515672864099_0012/stages/stage/?id\u003d9\u0026attempt\u003d0",
                "numCompleteTasks": 12,
                "numActiveTasks": 0,
                "numFailedTasks": 0,
                "numTotalTasks": 12
              },
              {
                "id": 10,
                "completed": true,
                "stageUrl": "https://azure.qubole.com/cluster-proxy?encodedUrl\u003dhttp%3A%2F%2F10.0.0.4%3A8088%2Fproxy%2Fapplication_1515672864099_0012/stages/stage/?id\u003d10\u0026attempt\u003d0",
                "numCompleteTasks": 12,
                "numActiveTasks": 0,
                "numFailedTasks": 0,
                "numTotalTasks": 12
              }
            ],
            "status": "Success"
          },
          {
            "id": 8,
            "jobUrl": "https://azure.qubole.com/cluster-proxy?encodedUrl\u003dhttp%3A%2F%2F10.0.0.4%3A8088%2Fproxy%2Fapplication_1515672864099_0012/jobs/job?spark\u003dtrue\u0026id\u003d8",
            "numTasks": 24,
            "numCompletedTasks": 12,
            "stages": [
              {
                "id": 12,
                "completed": true,
                "stageUrl": "https://azure.qubole.com/cluster-proxy?encodedUrl\u003dhttp%3A%2F%2F10.0.0.4%3A8088%2Fproxy%2Fapplication_1515672864099_0012/stages/stage/?id\u003d12\u0026attempt\u003d0",
                "numCompleteTasks": 12,
                "numActiveTasks": 0,
                "numFailedTasks": 0,
                "numTotalTasks": 12
              },
              {
                "id": 11,
                "completed": true,
                "stageUrl": "https://azure.qubole.com/cluster-proxy?encodedUrl\u003dhttp%3A%2F%2F10.0.0.4%3A8088%2Fproxy%2Fapplication_1515672864099_0012/stages/stage/?id\u003d11\u0026attempt\u003d0",
                "numCompleteTasks": 0,
                "numActiveTasks": 0,
                "numFailedTasks": 0,
                "numTotalTasks": 0
              }
            ],
            "status": "Success"
          },
          {
            "id": 9,
            "jobUrl": "https://azure.qubole.com/cluster-proxy?encodedUrl\u003dhttp%3A%2F%2F10.0.0.4%3A8088%2Fproxy%2Fapplication_1515672864099_0012/jobs/job?spark\u003dtrue\u0026id\u003d9",
            "numTasks": 7,
            "numCompletedTasks": 7,
            "stages": [
              {
                "id": 13,
                "completed": true,
                "stageUrl": "https://azure.qubole.com/cluster-proxy?encodedUrl\u003dhttp%3A%2F%2F10.0.0.4%3A8088%2Fproxy%2Fapplication_1515672864099_0012/stages/stage/?id\u003d13\u0026attempt\u003d0",
                "numCompleteTasks": 7,
                "numActiveTasks": 0,
                "numFailedTasks": 0,
                "numTotalTasks": 7
              }
            ],
            "status": "Success"
          },
          {
            "id": 10,
            "jobUrl": "https://azure.qubole.com/cluster-proxy?encodedUrl\u003dhttp%3A%2F%2F10.0.0.4%3A8088%2Fproxy%2Fapplication_1515672864099_0012/jobs/job?spark\u003dtrue\u0026id\u003d10",
            "numTasks": 1,
            "numCompletedTasks": 1,
            "stages": [
              {
                "id": 14,
                "completed": true,
                "stageUrl": "https://azure.qubole.com/cluster-proxy?encodedUrl\u003dhttp%3A%2F%2F10.0.0.4%3A8088%2Fproxy%2Fapplication_1515672864099_0012/stages/stage/?id\u003d14\u0026attempt\u003d0",
                "numCompleteTasks": 1,
                "numActiveTasks": 0,
                "numFailedTasks": 0,
                "numTotalTasks": 1
              }
            ],
            "status": "Success"
          }
        ],
        "numCompletedTasks": 44,
        "numTasks": 56,
        "truncated": false
      },
      "jobName": "paragraph_1515683277484_384895904",
      "id": "20180111-150757_504976278_q_8YVGJMASEQ1515692831",
      "result": {
        "code": "SUCCESS",
        "type": "TEXT",
        "msg": "\ngoodTF: org.apache.spark.ml.feature.CountVectorizer \u003d cntVec_7ba1b48bd2aa\n\ngoodProducts: org.apache.spark.sql.Dataset[org.apache.spark.sql.Row] \u003d [asin: string, helpful: array\u003cbigint\u003e ... 19 more fields]\n\ngoodTFModel: org.apache.spark.ml.feature.CountVectorizerModel \u003d cntVec_7ba1b48bd2aa\n\nbigramsRDD: org.apache.spark.rdd.RDD[String] \u003d ParallelCollectionRDD[43] at parallelize at \u003cconsole\u003e:84\n\nbigramDF: org.apache.spark.sql.DataFrame \u003d [bigram: string, index: bigint]\n+----------------+-----+\n|bigram          |index|\n+----------------+-----+\n|blu ray         |0    |\n|low light       |1    |\n|much better     |2    |\n|works great     |3    |\n|picture quality |4    |\n|highly recommend|5    |\n|image quality   |6    |\n|make sure       |7    |\n|works well      |8    |\n|high quality    |9    |\n|point shoot     |10   |\n|even though     |11   |\n|windows 7       |12   |\n|dvd player      |13   |\n|5 stars         |14   |\n|f 8             |15   |\n|high end        |16   |\n|build quality   |17   |\n|wide angle      |18   |\n|windows 8       |19   |\n+----------------+-----+\nonly showing top 20 rows\n\n"
      },
      "dateCreated": "Jan 11, 2018 3:07:57 PM",
      "dateStarted": "Jan 11, 2018 6:55:27 PM",
      "dateFinished": "Jan 11, 2018 6:55:53 PM",
      "status": "FINISHED",
      "progressUpdateIntervalMs": 500
    },
    {
      "text": "%md\nFor the **good** products, it is also intuitive that bigrams such as `much better`, `works great`, `highly recommend`, \u0026 `works well` are among the most common",
      "user": "davidgillen@precocityllc.com",
      "dateUpdated": "Jan 11, 2018 6:56:54 PM",
      "config": {
        "colWidth": 12.0,
        "graph": {
          "mode": "table",
          "height": 300.0,
          "optionOpen": false,
          "keys": [],
          "values": [],
          "groups": [],
          "scatter": {}
        },
        "enabled": true,
        "editorMode": "ace/mode/markdown",
        "editorHide": true
      },
      "settings": {
        "params": {},
        "forms": {}
      },
      "jobName": "paragraph_1515696937382_913521314",
      "id": "20180111-185537_1951062752_q_8YVGJMASEQ1515692831",
      "result": {
        "code": "SUCCESS",
        "type": "HTML",
        "msg": "\u003cdiv class\u003d\"markdown-body\"\u003e\n\u003cp\u003eFor the \u003cstrong\u003egood\u003c/strong\u003e products, it is also intuitive that bigrams such as \u003ccode\u003emuch better\u003c/code\u003e, \u003ccode\u003eworks great\u003c/code\u003e, \u003ccode\u003ehighly recommend\u003c/code\u003e, \u0026amp; \u003ccode\u003eworks well\u003c/code\u003e are among the most common\u003c/p\u003e\n\u003c/div\u003e"
      },
      "dateCreated": "Jan 11, 2018 6:55:37 PM",
      "dateStarted": "Jan 11, 2018 6:56:51 PM",
      "dateFinished": "Jan 11, 2018 6:56:51 PM",
      "status": "FINISHED",
      "progressUpdateIntervalMs": 500
    },
    {
      "text": "var goodTF \u003d new CountVectorizer().setInputCol(\"bigrams\").setOutputCol(\"countFeatures\")\nvar goodProducts \u003d newTF.filter(\"overall \u003e 4\")\nvar goodTFModel \u003d goodTF.fit(goodProducts)\nvar featurizedData \u003d goodTFModel.transform(goodProducts)\nvar idf \u003d new IDF().setInputCol(\"countFeatures\").setOutputCol(\"idfFeatures\")\nvar idfModel \u003d idf.fit(featurizedData)\nvar rescaledData \u003d idfModel.transform(featurizedData)\nfeaturizedData.take(3)\nrescaledData.take(3)\n",
      "user": "davidgillen@precocityllc.com",
      "dateUpdated": "Jan 11, 2018 7:29:30 PM",
      "config": {
        "colWidth": 12.0,
        "graph": {
          "mode": "table",
          "height": 300.0,
          "optionOpen": false,
          "keys": [],
          "values": [],
          "groups": [],
          "scatter": {}
        },
        "enabled": true,
        "editorMode": "ace/mode/scala"
      },
      "settings": {
        "params": {},
        "forms": {}
      },
      "paragraphProgress": {
        "jobs": [
          {
            "id": 11,
            "jobUrl": "https://azure.qubole.com/cluster-proxy?encodedUrl\u003dhttp%3A%2F%2F10.0.0.4%3A8088%2Fproxy%2Fapplication_1515672864099_0012/jobs/job?spark\u003dtrue\u0026id\u003d11",
            "numTasks": 24,
            "numCompletedTasks": 24,
            "stages": [
              {
                "id": 15,
                "completed": true,
                "stageUrl": "https://azure.qubole.com/cluster-proxy?encodedUrl\u003dhttp%3A%2F%2F10.0.0.4%3A8088%2Fproxy%2Fapplication_1515672864099_0012/stages/stage/?id\u003d15\u0026attempt\u003d0",
                "numCompleteTasks": 12,
                "numActiveTasks": 0,
                "numFailedTasks": 0,
                "numTotalTasks": 12
              },
              {
                "id": 16,
                "completed": true,
                "stageUrl": "https://azure.qubole.com/cluster-proxy?encodedUrl\u003dhttp%3A%2F%2F10.0.0.4%3A8088%2Fproxy%2Fapplication_1515672864099_0012/stages/stage/?id\u003d16\u0026attempt\u003d0",
                "numCompleteTasks": 12,
                "numActiveTasks": 0,
                "numFailedTasks": 0,
                "numTotalTasks": 12
              }
            ],
            "status": "Success"
          },
          {
            "id": 12,
            "jobUrl": "https://azure.qubole.com/cluster-proxy?encodedUrl\u003dhttp%3A%2F%2F10.0.0.4%3A8088%2Fproxy%2Fapplication_1515672864099_0012/jobs/job?spark\u003dtrue\u0026id\u003d12",
            "numTasks": 24,
            "numCompletedTasks": 12,
            "stages": [
              {
                "id": 17,
                "completed": true,
                "stageUrl": "https://azure.qubole.com/cluster-proxy?encodedUrl\u003dhttp%3A%2F%2F10.0.0.4%3A8088%2Fproxy%2Fapplication_1515672864099_0012/stages/stage/?id\u003d17\u0026attempt\u003d0",
                "numCompleteTasks": 0,
                "numActiveTasks": 0,
                "numFailedTasks": 0,
                "numTotalTasks": 0
              },
              {
                "id": 18,
                "completed": true,
                "stageUrl": "https://azure.qubole.com/cluster-proxy?encodedUrl\u003dhttp%3A%2F%2F10.0.0.4%3A8088%2Fproxy%2Fapplication_1515672864099_0012/stages/stage/?id\u003d18\u0026attempt\u003d0",
                "numCompleteTasks": 12,
                "numActiveTasks": 0,
                "numFailedTasks": 0,
                "numTotalTasks": 12
              }
            ],
            "status": "Success"
          },
          {
            "id": 13,
            "jobUrl": "https://azure.qubole.com/cluster-proxy?encodedUrl\u003dhttp%3A%2F%2F10.0.0.4%3A8088%2Fproxy%2Fapplication_1515672864099_0012/jobs/job?spark\u003dtrue\u0026id\u003d13",
            "numTasks": 15,
            "numCompletedTasks": 15,
            "stages": [
              {
                "id": 19,
                "completed": true,
                "stageUrl": "https://azure.qubole.com/cluster-proxy?encodedUrl\u003dhttp%3A%2F%2F10.0.0.4%3A8088%2Fproxy%2Fapplication_1515672864099_0012/stages/stage/?id\u003d19\u0026attempt\u003d0",
                "numCompleteTasks": 12,
                "numActiveTasks": 0,
                "numFailedTasks": 0,
                "numTotalTasks": 12
              },
              {
                "id": 20,
                "completed": true,
                "stageUrl": "https://azure.qubole.com/cluster-proxy?encodedUrl\u003dhttp%3A%2F%2F10.0.0.4%3A8088%2Fproxy%2Fapplication_1515672864099_0012/stages/stage/?id\u003d20\u0026attempt\u003d0",
                "numCompleteTasks": 3,
                "numActiveTasks": 0,
                "numFailedTasks": 0,
                "numTotalTasks": 3
              }
            ],
            "status": "Success"
          },
          {
            "id": 14,
            "jobUrl": "https://azure.qubole.com/cluster-proxy?encodedUrl\u003dhttp%3A%2F%2F10.0.0.4%3A8088%2Fproxy%2Fapplication_1515672864099_0012/jobs/job?spark\u003dtrue\u0026id\u003d14",
            "numTasks": 1,
            "numCompletedTasks": 1,
            "stages": [
              {
                "id": 21,
                "completed": true,
                "stageUrl": "https://azure.qubole.com/cluster-proxy?encodedUrl\u003dhttp%3A%2F%2F10.0.0.4%3A8088%2Fproxy%2Fapplication_1515672864099_0012/stages/stage/?id\u003d21\u0026attempt\u003d0",
                "numCompleteTasks": 1,
                "numActiveTasks": 0,
                "numFailedTasks": 0,
                "numTotalTasks": 1
              }
            ],
            "status": "Success"
          },
          {
            "id": 15,
            "jobUrl": "https://azure.qubole.com/cluster-proxy?encodedUrl\u003dhttp%3A%2F%2F10.0.0.4%3A8088%2Fproxy%2Fapplication_1515672864099_0012/jobs/job?spark\u003dtrue\u0026id\u003d15",
            "numTasks": 1,
            "numCompletedTasks": 1,
            "stages": [
              {
                "id": 22,
                "completed": true,
                "stageUrl": "https://azure.qubole.com/cluster-proxy?encodedUrl\u003dhttp%3A%2F%2F10.0.0.4%3A8088%2Fproxy%2Fapplication_1515672864099_0012/stages/stage/?id\u003d22\u0026attempt\u003d0",
                "numCompleteTasks": 1,
                "numActiveTasks": 0,
                "numFailedTasks": 0,
                "numTotalTasks": 1
              }
            ],
            "status": "Success"
          }
        ],
        "numCompletedTasks": 53,
        "numTasks": 65,
        "truncated": false
      },
      "jobName": "paragraph_1515697341010_630712259",
      "id": "20180111-190221_966772062_q_8YVGJMASEQ1515692831",
      "result": {
        "code": "SUCCESS",
        "type": "TEXT",
        "msg": "\ngoodTF: org.apache.spark.ml.feature.CountVectorizer \u003d cntVec_a0f6034be315\n\ngoodProducts: org.apache.spark.sql.Dataset[org.apache.spark.sql.Row] \u003d [asin: string, helpful: array\u003cbigint\u003e ... 19 more fields]\n\ngoodTFModel: org.apache.spark.ml.feature.CountVectorizerModel \u003d cntVec_a0f6034be315\n\nfeaturizedData: org.apache.spark.sql.DataFrame \u003d [asin: string, helpful: array\u003cbigint\u003e ... 20 more fields]\n\nidf: org.apache.spark.ml.feature.IDF \u003d idf_c29955b786cd\n\nidfModel: org.apache.spark.ml.feature.IDFModel \u003d idf_c29955b786cd\n\nrescaledData: org.apache.spark.sql.DataFrame \u003d [asin: string, helpful: array\u003cbigint\u003e ... 21 more fields]\nres24: Array[org.apache.spark.sql.Row] \u003d Array([0972683275,WrappedArray(15, 19),5.0,Quality was excellent. Instructions were clear. It was not clear about a tilt feature, but there was enough to level it when I finished. Be careful to get the wall bracket real vertical. (I was using it for a 23 inch computer screen so I really need it to be level for reading.) Everything I needed plus lots of extra hardware for different situations.,10 5, 2010,A3QH8VQDE7HZCR,costaricachris,Real value for the money,1286236800,Electronics,15,19,Real value for the money Quality was excellent. Instructions were clear. It was not clear about a tilt feature, but there was enough to level it when I finished. Be careful to get the wall bracket real vertical. (I was using it for a 23 inch computer screen so I re...res25: Array[org.apache.spark.sql.Row] \u003d Array([0972683275,WrappedArray(15, 19),5.0,Quality was excellent. Instructions were clear. It was not clear about a tilt feature, but there was enough to level it when I finished. Be careful to get the wall bracket real vertical. (I was using it for a 23 inch computer screen so I really need it to be level for reading.) Everything I needed plus lots of extra hardware for different situations.,10 5, 2010,A3QH8VQDE7HZCR,costaricachris,Real value for the money,1286236800,Electronics,15,19,Real value for the money Quality was excellent. Instructions were clear. It was not clear about a tilt feature, but there was enough to level it when I finished. Be careful to get the wall bracket real vertical. (I was using it for a 23 inch computer screen so I re..."
      },
      "dateCreated": "Jan 11, 2018 7:02:21 PM",
      "dateStarted": "Jan 11, 2018 7:26:59 PM",
      "dateFinished": "Jan 11, 2018 7:27:39 PM",
      "status": "FINISHED",
      "progressUpdateIntervalMs": 500
    },
    {
      "text": "var rdd \u003d rescaledData.rdd.map(row \u003d\u003e (row.getAs[SparseVector](\"countFeatures\").indices,row.getAs[SparseVector](\"countFeatures\").values,row.getAs[SparseVector](\"idfFeatures\").values))\nvar newRdd \u003d rdd.flatMap{case (as,bs,cs) \u003d\u003e (as zip bs zip cs).map{case ((a,b), c) \u003d\u003e (a,b,c)}}\nvar combDF \u003d newRdd.toDF(\"index\",\"count\",\"tfidf\")\nvar aggDF \u003d combDF.groupBy(\"index\").agg(sum(\"count\").alias(\"tf\"),avg(\"tfidf\").alias(\"meanTFIDF\"))\naggDF \u003d bigramDF.join(aggDF,\"index\")\n",
      "user": "davidgillen@precocityllc.com",
      "dateUpdated": "Jan 11, 2018 8:14:59 PM",
      "config": {
        "colWidth": 12.0,
        "graph": {
          "mode": "table",
          "height": 300.0,
          "optionOpen": false,
          "keys": [],
          "values": [],
          "groups": [],
          "scatter": {}
        },
        "enabled": true,
        "editorMode": "ace/mode/scala"
      },
      "settings": {
        "params": {},
        "forms": {}
      },
      "paragraphProgress": {
        "jobs": [
          {
            "id": 36,
            "jobUrl": "https://azure.qubole.com/cluster-proxy?encodedUrl\u003dhttp%3A%2F%2F10.0.0.4%3A8088%2Fproxy%2Fapplication_1515672864099_0012/jobs/job?spark\u003dtrue\u0026id\u003d36",
            "numTasks": 221,
            "numCompletedTasks": 221,
            "stages": [
              {
                "id": 45,
                "completed": true,
                "stageUrl": "https://azure.qubole.com/cluster-proxy?encodedUrl\u003dhttp%3A%2F%2F10.0.0.4%3A8088%2Fproxy%2Fapplication_1515672864099_0012/stages/stage/?id\u003d45\u0026attempt\u003d0",
                "numCompleteTasks": 12,
                "numActiveTasks": 0,
                "numFailedTasks": 0,
                "numTotalTasks": 12
              },
              {
                "id": 46,
                "completed": true,
                "stageUrl": "https://azure.qubole.com/cluster-proxy?encodedUrl\u003dhttp%3A%2F%2F10.0.0.4%3A8088%2Fproxy%2Fapplication_1515672864099_0012/stages/stage/?id\u003d46\u0026attempt\u003d0",
                "numCompleteTasks": 200,
                "numActiveTasks": 0,
                "numFailedTasks": 0,
                "numTotalTasks": 200
              },
              {
                "id": 47,
                "completed": true,
                "stageUrl": "https://azure.qubole.com/cluster-proxy?encodedUrl\u003dhttp%3A%2F%2F10.0.0.4%3A8088%2Fproxy%2Fapplication_1515672864099_0012/stages/stage/?id\u003d47\u0026attempt\u003d0",
                "numCompleteTasks": 1,
                "numActiveTasks": 0,
                "numFailedTasks": 0,
                "numTotalTasks": 1
              },
              {
                "id": 44,
                "completed": true,
                "stageUrl": "https://azure.qubole.com/cluster-proxy?encodedUrl\u003dhttp%3A%2F%2F10.0.0.4%3A8088%2Fproxy%2Fapplication_1515672864099_0012/stages/stage/?id\u003d44\u0026attempt\u003d0",
                "numCompleteTasks": 8,
                "numActiveTasks": 0,
                "numFailedTasks": 0,
                "numTotalTasks": 8
              }
            ],
            "status": "Success"
          }
        ],
        "numCompletedTasks": 221,
        "numTasks": 221,
        "truncated": false
      },
      "jobName": "paragraph_1515699436862_-847536819",
      "id": "20180111-193716_1469014608_q_8YVGJMASEQ1515692831",
      "result": {
        "code": "SUCCESS",
        "type": "TEXT",
        "msg": "\nrdd: org.apache.spark.rdd.RDD[(Array[Int], Array[Double], Array[Double])] \u003d MapPartitionsRDD[158] at map at \u003cconsole\u003e:90\n\nnewRdd: org.apache.spark.rdd.RDD[(Int, Double, Double)] \u003d MapPartitionsRDD[159] at flatMap at \u003cconsole\u003e:92\n\ncombDF: org.apache.spark.sql.DataFrame \u003d [index: int, count: double ... 1 more field]\n\naggDF: org.apache.spark.sql.DataFrame \u003d [index: int, tf: double ... 1 more field]\n\naggDF: org.apache.spark.sql.DataFrame \u003d [index: bigint, bigram: string ... 2 more fields]\n+-----+-----------------+------+------------------+\n|index|           bigram|    tf|         meanTFIDF|\n+-----+-----------------+------+------------------+\n|   26|   remote control|1427.0| 5.034299145602189|\n|   29|      macbook pro|1338.0|7.3820020584287525|\n|  474|       focus ring| 319.0| 6.073946486101175|\n|  964|aperture priority| 207.0| 9.527798913306661|\n| 1677|           6 feet| 151.0| 5.902605994139182|\n| 1697|     able connect| 150.0| 6.057827557447977|\n| 1806|    moving around| 144.0| 6.946706001763171|\n| 1950| personally think| 138.0|1380.6128401635985|\n| 2040|     using remote| 134.0| 5.895227391620558|\n| 2214|       always get| 127.0| 6.246069026880566|\n| 2250|        even high| 126.0|  5.96394002875043|\n| 2453|     system works| 118.0| 6.934730718019183|\n| 2509|       may better| 116.0| 6.382243041468958|\n| 2529|    much research| 116.0| 5.995684798119116|\n| 2927|     around edges| 106.0| 9.432717120516672|\n| 3091|   pictures great| 102.0|6.1327401413731835|\n| 3506|       used using|  94.0|6.2204684654819555|\n| 3764|          got two|  90.0| 7.411417275531119|\n| 4590|      light meter|  79.0|  8.19932845187505|\n| 4823|  slightly higher|  76.0| 6.451746107171321|\n+-----+-----------------+------+------------------+\nonly showing top 20 rows\n\n"
      },
      "dateCreated": "Jan 11, 2018 7:37:16 PM",
      "dateStarted": "Jan 11, 2018 8:13:36 PM",
      "dateFinished": "Jan 11, 2018 8:14:14 PM",
      "status": "FINISHED",
      "progressUpdateIntervalMs": 500
    },
    {
      "text": "aggDF.sort($\"index\".asc).show()",
      "user": "davidgillen@precocityllc.com",
      "dateUpdated": "Jan 11, 2018 8:14:50 PM",
      "config": {
        "colWidth": 12.0,
        "graph": {
          "mode": "table",
          "height": 300.0,
          "optionOpen": false,
          "keys": [],
          "values": [],
          "groups": [],
          "scatter": {}
        },
        "enabled": true,
        "editorMode": "ace/mode/scala"
      },
      "settings": {
        "params": {},
        "forms": {}
      },
      "paragraphProgress": {
        "jobs": [
          {
            "id": 37,
            "jobUrl": "https://azure.qubole.com/cluster-proxy?encodedUrl\u003dhttp%3A%2F%2F10.0.0.4%3A8088%2Fproxy%2Fapplication_1515672864099_0012/jobs/job?spark\u003dtrue\u0026id\u003d37",
            "numTasks": 420,
            "numCompletedTasks": 420,
            "stages": [
              {
                "id": 51,
                "completed": true,
                "stageUrl": "https://azure.qubole.com/cluster-proxy?encodedUrl\u003dhttp%3A%2F%2F10.0.0.4%3A8088%2Fproxy%2Fapplication_1515672864099_0012/stages/stage/?id\u003d51\u0026attempt\u003d0",
                "numCompleteTasks": 200,
                "numActiveTasks": 0,
                "numFailedTasks": 0,
                "numTotalTasks": 200
              },
              {
                "id": 48,
                "completed": true,
                "stageUrl": "https://azure.qubole.com/cluster-proxy?encodedUrl\u003dhttp%3A%2F%2F10.0.0.4%3A8088%2Fproxy%2Fapplication_1515672864099_0012/stages/stage/?id\u003d48\u0026attempt\u003d0",
                "numCompleteTasks": 8,
                "numActiveTasks": 0,
                "numFailedTasks": 0,
                "numTotalTasks": 8
              },
              {
                "id": 49,
                "completed": true,
                "stageUrl": "https://azure.qubole.com/cluster-proxy?encodedUrl\u003dhttp%3A%2F%2F10.0.0.4%3A8088%2Fproxy%2Fapplication_1515672864099_0012/stages/stage/?id\u003d49\u0026attempt\u003d0",
                "numCompleteTasks": 12,
                "numActiveTasks": 0,
                "numFailedTasks": 0,
                "numTotalTasks": 12
              },
              {
                "id": 50,
                "completed": true,
                "stageUrl": "https://azure.qubole.com/cluster-proxy?encodedUrl\u003dhttp%3A%2F%2F10.0.0.4%3A8088%2Fproxy%2Fapplication_1515672864099_0012/stages/stage/?id\u003d50\u0026attempt\u003d0",
                "numCompleteTasks": 200,
                "numActiveTasks": 0,
                "numFailedTasks": 0,
                "numTotalTasks": 200
              }
            ],
            "status": "Success"
          }
        ],
        "numCompletedTasks": 420,
        "numTasks": 420,
        "truncated": false
      },
      "jobName": "paragraph_1515701688628_1479625911",
      "id": "20180111-201448_1347370878_q_8YVGJMASEQ1515692831",
      "result": {
        "code": "SUCCESS",
        "type": "TEXT",
        "msg": "+-----+----------------+------+------------------+\n|index|          bigram|    tf|         meanTFIDF|\n+-----+----------------+------+------------------+\n|    0|         blu ray|3689.0| 7.615657245379419|\n|    1|       low light|3623.0| 4.950968708204617|\n|    2|     much better|3379.0| 3.095701759122797|\n|    3|     works great|3256.0|3.1328009142343225|\n|    4| picture quality|3104.0|  4.34682448337923|\n|    5|highly recommend|2944.0|2.8877313389002643|\n|    6|   image quality|2886.0| 5.228081071949939|\n|    7|       make sure|2678.0|3.5199260320085335|\n|    8|      works well|2612.0| 3.375201059240233|\n|    9|    high quality|2576.0|3.6342942107399376|\n|   10|     point shoot|2190.0| 5.548580235028727|\n|   11|     even though|2126.0|3.5340810656579738|\n|   12|       windows 7|2108.0| 5.596773305755315|\n|   13|      dvd player|1985.0| 5.804846903834027|\n|   14|         5 stars|1900.0|3.8814531092402893|\n|   15|             f 8|1829.0|  9.61982663714269|\n|   16|        high end|1823.0| 4.370563775687827|\n|   17|   build quality|1820.0|4.0949449601979895|\n|   18|      wide angle|1663.0| 5.749466402334315|\n|   19|       windows 8|1544.0|10.540364429536293|\n+-----+----------------+------+------------------+\nonly showing top 20 rows\n\n"
      },
      "dateCreated": "Jan 11, 2018 8:14:48 PM",
      "dateStarted": "Jan 11, 2018 8:14:50 PM",
      "dateFinished": "Jan 11, 2018 8:15:27 PM",
      "status": "FINISHED",
      "progressUpdateIntervalMs": 500
    },
    {
      "text": "aggDF.sort($\"meanTFIDF\".asc).show()",
      "user": "davidgillen@precocityllc.com",
      "dateUpdated": "Jan 11, 2018 8:18:07 PM",
      "config": {
        "colWidth": 12.0,
        "graph": {
          "mode": "table",
          "height": 300.0,
          "optionOpen": false,
          "keys": [],
          "values": [],
          "groups": [],
          "scatter": {}
        },
        "enabled": true,
        "editorMode": "ace/mode/scala"
      },
      "settings": {
        "params": {},
        "forms": {}
      },
      "paragraphProgress": {
        "jobs": [
          {
            "id": 39,
            "jobUrl": "https://azure.qubole.com/cluster-proxy?encodedUrl\u003dhttp%3A%2F%2F10.0.0.4%3A8088%2Fproxy%2Fapplication_1515672864099_0012/jobs/job?spark\u003dtrue\u0026id\u003d39",
            "numTasks": 420,
            "numCompletedTasks": 420,
            "stages": [
              {
                "id": 56,
                "completed": true,
                "stageUrl": "https://azure.qubole.com/cluster-proxy?encodedUrl\u003dhttp%3A%2F%2F10.0.0.4%3A8088%2Fproxy%2Fapplication_1515672864099_0012/stages/stage/?id\u003d56\u0026attempt\u003d0",
                "numCompleteTasks": 12,
                "numActiveTasks": 0,
                "numFailedTasks": 0,
                "numTotalTasks": 12
              },
              {
                "id": 57,
                "completed": true,
                "stageUrl": "https://azure.qubole.com/cluster-proxy?encodedUrl\u003dhttp%3A%2F%2F10.0.0.4%3A8088%2Fproxy%2Fapplication_1515672864099_0012/stages/stage/?id\u003d57\u0026attempt\u003d0",
                "numCompleteTasks": 200,
                "numActiveTasks": 0,
                "numFailedTasks": 0,
                "numTotalTasks": 200
              },
              {
                "id": 58,
                "completed": true,
                "stageUrl": "https://azure.qubole.com/cluster-proxy?encodedUrl\u003dhttp%3A%2F%2F10.0.0.4%3A8088%2Fproxy%2Fapplication_1515672864099_0012/stages/stage/?id\u003d58\u0026attempt\u003d0",
                "numCompleteTasks": 8,
                "numActiveTasks": 0,
                "numFailedTasks": 0,
                "numTotalTasks": 8
              },
              {
                "id": 59,
                "completed": true,
                "stageUrl": "https://azure.qubole.com/cluster-proxy?encodedUrl\u003dhttp%3A%2F%2F10.0.0.4%3A8088%2Fproxy%2Fapplication_1515672864099_0012/stages/stage/?id\u003d59\u0026attempt\u003d0",
                "numCompleteTasks": 200,
                "numActiveTasks": 0,
                "numFailedTasks": 0,
                "numTotalTasks": 200
              }
            ],
            "status": "Success"
          }
        ],
        "numCompletedTasks": 420,
        "numTasks": 420,
        "truncated": false
      },
      "jobName": "paragraph_1515701759067_-14045940",
      "id": "20180111-201559_1654212914_q_8YVGJMASEQ1515692831",
      "result": {
        "code": "SUCCESS",
        "type": "TEXT",
        "msg": "+-----+------------------+------+------------------+\n|index|            bigram|    tf|         meanTFIDF|\n+-----+------------------+------+------------------+\n|    5|  highly recommend|2944.0| 2.887731338900264|\n|    2|       much better|3379.0| 3.095701759122797|\n|    3|       works great|3256.0| 3.132800914234323|\n|    8|        works well|2612.0| 3.375201059240233|\n|    7|         make sure|2678.0|3.5199260320085335|\n|   11|       even though|2126.0|3.5340810656579738|\n|   24|highly recommended|1486.0|3.5884998999138236|\n|    9|      high quality|2576.0|3.6342942107399376|\n|   22|      home theater|1509.0| 3.680717820082741|\n|   33|       bottom line|1282.0| 3.733440321960813|\n|   27|       great price|1360.0| 3.790127928234735|\n|   31|         years ago|1298.0| 3.839800208594521|\n|   35|        looks like|1267.0|3.8655290329175016|\n|   30|        first time|1308.0|3.8693826447162087|\n|   38|       even better|1226.0|3.8731958034340996|\n|   14|           5 stars|1900.0|3.8814531092402893|\n|   56|        well worth|1066.0| 3.914731626603142|\n|   25|       pretty good|1456.0| 3.922770928914588|\n|   28|       really like|1355.0| 3.925607708511775|\n|   36|         work well|1260.0|3.9413952992298316|\n+-----+------------------+------+------------------+\nonly showing top 20 rows\n\n"
      },
      "dateCreated": "Jan 11, 2018 8:15:59 PM",
      "dateStarted": "Jan 11, 2018 8:18:08 PM",
      "dateFinished": "Jan 11, 2018 8:18:50 PM",
      "status": "FINISHED",
      "progressUpdateIntervalMs": 500
    },
    {
      "text": "var idf \u003d new IDF().setInputCol(\"countFeatures\").setOutputCol(\"idfFeatures\")\nvar idfModel \u003d idf.fit(featurizedData)\nvar rescaledData \u003d idfModel.transform(featurizedData)\nrescaledData.createOrReplaceTempView(\"rescaledData\")\nvar rdd \u003d rescaledData.rdd.map(row \u003d\u003e org.apache.spark.mllib.linalg.Vectors.fromML(row.getAs[org.apache.spark.ml.linalg.SparseVector](\"idfFeatures\")))\nvar newRDD \u003d rdd.zipWithIndex()\nvar ir \u003d newRDD.map(x \u003d\u003e new IndexedRow(x._2,x._1))\nval mat: IndexedRowMatrix \u003d new IndexedRowMatrix(ir)\nvar corMat \u003d mat.toCoordinateMatrix()\nvar corMatT \u003d corMat.transpose()\n//println(\"mat.numCols() \u003d \" + mat.numCols())\n//println(\"mat.numRows() \u003d \" + mat.numRows())\nprintln(\"corMatT.numCols() \u003d \" + corMatT.numCols())\nprintln(\"corMatT.numRows() \u003d \" + corMatT.numRows())\nprintln(\"countModel.vocabulary.length \u003d \" + countModel.vocabulary.length)\nval rowSums \u003d corMatT.entries.map{case MatrixEntry(row, _, value) \u003d\u003e (row, value)}.reduceByKey(_ + _)\nvar rowMeans \u003d rowSums.map{case (index,sum) \u003d\u003e (index, sum / countModel.vocabulary.length)}\n//rowMeans.take(3)\nvar rowMeansDF \u003d rowMeans.toDF(\"wordIndex\",\"meanIDF\")\n//rowMeansDF.show()\nvar wordsRDD \u003d sc.parallelize(countModel.vocabulary)\nvar wordDF \u003d wordsRDD.zipWithIndex().toDF(\"word\",\"wordIndex\")\n\nrowMeansDF.join(wordDF,\"wordIndex\").sort($\"meanIDF\".desc).show()",
      "user": "davidgillen@precocityllc.com",
      "dateUpdated": "Jan 11, 2018 12:41:52 AM",
      "config": {
        "colWidth": 12.0,
        "graph": {
          "mode": "table",
          "height": 300.0,
          "optionOpen": false,
          "keys": [],
          "values": [],
          "groups": [],
          "scatter": {}
        },
        "enabled": true,
        "editorMode": "ace/mode/scala"
      },
      "settings": {
        "params": {},
        "forms": {}
      },
      "paragraphProgress": {
        "jobs": [
          {
            "id": 2764,
            "jobUrl": "https://azure.qubole.com/cluster-proxy?encodedUrl\u003dhttp%3A%2F%2F10.0.0.4%3A8088%2Fproxy%2Fapplication_1515502980890_0003/jobs/job?spark\u003dtrue\u0026id\u003d2764",
            "numTasks": 24,
            "numCompletedTasks": 24,
            "stages": [
              {
                "id": 5554,
                "completed": true,
                "stageUrl": "https://azure.qubole.com/cluster-proxy?encodedUrl\u003dhttp%3A%2F%2F10.0.0.4%3A8088%2Fproxy%2Fapplication_1515502980890_0003/stages/stage/?id\u003d5554\u0026attempt\u003d0",
                "numCompleteTasks": 4,
                "numActiveTasks": 0,
                "numFailedTasks": 0,
                "numTotalTasks": 4
              },
              {
                "id": 5553,
                "completed": true,
                "stageUrl": "https://azure.qubole.com/cluster-proxy?encodedUrl\u003dhttp%3A%2F%2F10.0.0.4%3A8088%2Fproxy%2Fapplication_1515502980890_0003/stages/stage/?id\u003d5553\u0026attempt\u003d0",
                "numCompleteTasks": 20,
                "numActiveTasks": 0,
                "numFailedTasks": 0,
                "numTotalTasks": 20
              }
            ],
            "status": "Success"
          },
          {
            "id": 2765,
            "jobUrl": "https://azure.qubole.com/cluster-proxy?encodedUrl\u003dhttp%3A%2F%2F10.0.0.4%3A8088%2Fproxy%2Fapplication_1515502980890_0003/jobs/job?spark\u003dtrue\u0026id\u003d2765",
            "numTasks": 19,
            "numCompletedTasks": 19,
            "stages": [
              {
                "id": 5555,
                "completed": true,
                "stageUrl": "https://azure.qubole.com/cluster-proxy?encodedUrl\u003dhttp%3A%2F%2F10.0.0.4%3A8088%2Fproxy%2Fapplication_1515502980890_0003/stages/stage/?id\u003d5555\u0026attempt\u003d0",
                "numCompleteTasks": 19,
                "numActiveTasks": 0,
                "numFailedTasks": 0,
                "numTotalTasks": 19
              }
            ],
            "status": "Success"
          },
          {
            "id": 2766,
            "jobUrl": "https://azure.qubole.com/cluster-proxy?encodedUrl\u003dhttp%3A%2F%2F10.0.0.4%3A8088%2Fproxy%2Fapplication_1515502980890_0003/jobs/job?spark\u003dtrue\u0026id\u003d2766",
            "numTasks": 20,
            "numCompletedTasks": 20,
            "stages": [
              {
                "id": 5556,
                "completed": true,
                "stageUrl": "https://azure.qubole.com/cluster-proxy?encodedUrl\u003dhttp%3A%2F%2F10.0.0.4%3A8088%2Fproxy%2Fapplication_1515502980890_0003/stages/stage/?id\u003d5556\u0026attempt\u003d0",
                "numCompleteTasks": 20,
                "numActiveTasks": 0,
                "numFailedTasks": 0,
                "numTotalTasks": 20
              }
            ],
            "status": "Success"
          },
          {
            "id": 2767,
            "jobUrl": "https://azure.qubole.com/cluster-proxy?encodedUrl\u003dhttp%3A%2F%2F10.0.0.4%3A8088%2Fproxy%2Fapplication_1515502980890_0003/jobs/job?spark\u003dtrue\u0026id\u003d2767",
            "numTasks": 1,
            "numCompletedTasks": 1,
            "stages": [
              {
                "id": 5557,
                "completed": true,
                "stageUrl": "https://azure.qubole.com/cluster-proxy?encodedUrl\u003dhttp%3A%2F%2F10.0.0.4%3A8088%2Fproxy%2Fapplication_1515502980890_0003/stages/stage/?id\u003d5557\u0026attempt\u003d0",
                "numCompleteTasks": 1,
                "numActiveTasks": 0,
                "numFailedTasks": 0,
                "numTotalTasks": 1
              }
            ],
            "status": "Success"
          },
          {
            "id": 2768,
            "jobUrl": "https://azure.qubole.com/cluster-proxy?encodedUrl\u003dhttp%3A%2F%2F10.0.0.4%3A8088%2Fproxy%2Fapplication_1515502980890_0003/jobs/job?spark\u003dtrue\u0026id\u003d2768",
            "numTasks": 19,
            "numCompletedTasks": 19,
            "stages": [
              {
                "id": 5558,
                "completed": true,
                "stageUrl": "https://azure.qubole.com/cluster-proxy?encodedUrl\u003dhttp%3A%2F%2F10.0.0.4%3A8088%2Fproxy%2Fapplication_1515502980890_0003/stages/stage/?id\u003d5558\u0026attempt\u003d0",
                "numCompleteTasks": 19,
                "numActiveTasks": 0,
                "numFailedTasks": 0,
                "numTotalTasks": 19
              }
            ],
            "status": "Success"
          },
          {
            "id": 2769,
            "jobUrl": "https://azure.qubole.com/cluster-proxy?encodedUrl\u003dhttp%3A%2F%2F10.0.0.4%3A8088%2Fproxy%2Fapplication_1515502980890_0003/jobs/job?spark\u003dtrue\u0026id\u003d2769",
            "numTasks": 260,
            "numCompletedTasks": 260,
            "stages": [
              {
                "id": 5562,
                "completed": true,
                "stageUrl": "https://azure.qubole.com/cluster-proxy?encodedUrl\u003dhttp%3A%2F%2F10.0.0.4%3A8088%2Fproxy%2Fapplication_1515502980890_0003/stages/stage/?id\u003d5562\u0026attempt\u003d0",
                "numCompleteTasks": 200,
                "numActiveTasks": 0,
                "numFailedTasks": 0,
                "numTotalTasks": 200
              },
              {
                "id": 5559,
                "completed": true,
                "stageUrl": "https://azure.qubole.com/cluster-proxy?encodedUrl\u003dhttp%3A%2F%2F10.0.0.4%3A8088%2Fproxy%2Fapplication_1515502980890_0003/stages/stage/?id\u003d5559\u0026attempt\u003d0",
                "numCompleteTasks": 20,
                "numActiveTasks": 0,
                "numFailedTasks": 0,
                "numTotalTasks": 20
              },
              {
                "id": 5560,
                "completed": true,
                "stageUrl": "https://azure.qubole.com/cluster-proxy?encodedUrl\u003dhttp%3A%2F%2F10.0.0.4%3A8088%2Fproxy%2Fapplication_1515502980890_0003/stages/stage/?id\u003d5560\u0026attempt\u003d0",
                "numCompleteTasks": 20,
                "numActiveTasks": 0,
                "numFailedTasks": 0,
                "numTotalTasks": 20
              },
              {
                "id": 5561,
                "completed": true,
                "stageUrl": "https://azure.qubole.com/cluster-proxy?encodedUrl\u003dhttp%3A%2F%2F10.0.0.4%3A8088%2Fproxy%2Fapplication_1515502980890_0003/stages/stage/?id\u003d5561\u0026attempt\u003d0",
                "numCompleteTasks": 20,
                "numActiveTasks": 0,
                "numFailedTasks": 0,
                "numTotalTasks": 20
              }
            ],
            "status": "Success"
          }
        ],
        "numCompletedTasks": 343,
        "numTasks": 343,
        "truncated": false
      },
      "jobName": "paragraph_1515602340141_1622583772",
      "id": "20180110-163900_1826288297_q_8YVGJMASEQ1515692831",
      "result": {
        "code": "SUCCESS",
        "type": "TEXT",
        "msg": "\nidf: org.apache.spark.ml.feature.IDF \u003d idf_7d0dbb09ebb7\n\nidfModel: org.apache.spark.ml.feature.IDFModel \u003d idf_7d0dbb09ebb7\n\nrescaledData: org.apache.spark.sql.DataFrame \u003d [asin: string, helpful: array\u003cbigint\u003e ... 21 more fields]\n\nrdd: org.apache.spark.rdd.RDD[org.apache.spark.mllib.linalg.Vector] \u003d MapPartitionsRDD[12568] at map at \u003cconsole\u003e:273\n\nnewRDD: org.apache.spark.rdd.RDD[(org.apache.spark.mllib.linalg.Vector, Long)] \u003d ZippedWithIndexRDD[12569] at zipWithIndex at \u003cconsole\u003e:275\n\nir: org.apache.spark.rdd.RDD[org.apache.spark.mllib.linalg.distributed.IndexedRow] \u003d MapPartitionsRDD[12570] at map at \u003cconsole\u003e:277\n\nmat: org.apache.spark.mllib.linalg.distributed.IndexedRowMatrix \u003d org.apache.spark.mllib.linalg.distributed.IndexedRowMatrix@567df12d\n\ncorMat: org.apache.spark.mllib.linalg.distributed.CoordinateMatrix \u003d org.apache.spark.mllib.linalg.distributed.CoordinateMatrix@1c92182c\n\ncorMatT: org.apache.spark.mllib.linalg.distributed.CoordinateMatrix \u003d org.apache.spark.mllib.linalg.distributed.CoordinateMatrix@3f2a996a\ncorMatT.numCols() \u003d 26446\ncorMatT.numRows() \u003d 262144\ncountModel.vocabulary.length \u003d 262144\n\nrowSums: org.apache.spark.rdd.RDD[(Long, Double)] \u003d ShuffledRDD[12575] at reduceByKey at \u003cconsole\u003e:285\n\nrowMeans: org.apache.spark.rdd.RDD[(Long, Double)] \u003d MapPartitionsRDD[12576] at map at \u003cconsole\u003e:287\n\nrowMeansDF: org.apache.spark.sql.DataFrame \u003d [wordIndex: bigint, meanIDF: double]\n\nwordsRDD: org.apache.spark.rdd.RDD[String] \u003d ParallelCollectionRDD[12577] at parallelize at \u003cconsole\u003e:267\n\nwordDF: org.apache.spark.sql.DataFrame \u003d [word: string, wordIndex: bigint]\n+---------+--------------------+---------------+\n|wordIndex|             meanIDF|           word|\n+---------+--------------------+---------------+\n|        1| 0.02845991925026369|      low light|\n|        4|0.026576455715192855|        blu ray|\n|        0|0.024568215574599015|    much better|\n|        3|0.024086911299757437|  image quality|\n|        5|0.022195224877000524|picture quality|\n|        2|0.021570196513745636|     works well|\n|        6| 0.02015677641274478|      make sure|\n|        7|0.018933025273537837|        5 stars|\n|        8| 0.01888251280992046|    even though|\n|        9|0.018480605912496523|    pretty good|\n|       22|0.017657527509430986|      windows 8|\n|       13|0.017571468215032412|      windows 7|\n|       10| 0.01742675371465209|  build quality|\n|       14|0.017390269683314134|    point shoot|\n|       15|0.016469912014048963|     dvd player|\n|       20|0.015871222001559954|     mp3 player|\n|       12|0.015837420709375626|    works great|\n|       11|0.015810108621096067|        4 stars|\n|       19|0.015050275346595454| remote control|\n|       17|0.014584844451615954|   high quality|\n+---------+--------------------+---------------+\nonly showing top 20 rows\n\n"
      },
      "dateCreated": "Jan 10, 2018 4:39:00 PM",
      "dateStarted": "Jan 10, 2018 7:43:26 PM",
      "dateFinished": "Jan 10, 2018 7:45:21 PM",
      "status": "FINISHED",
      "progressUpdateIntervalMs": 500
    },
    {
      "text": "%spark.pyspark\nfrom pyspark.ml.feature import HashingTF, IDF, Tokenizer\nfrom pyspark.ml.feature import CountVectorizer\nfrom pyspark.ml import Pipeline\nimport pandas as pd\n\nnewTF \u003d sqlContext.sql(\"select * from reviews where asin \u003d \u0027B00DR0PDNE\u0027\")\ncountTF \u003d CountVectorizer(inputCol\u003d\u0027bigrams\u0027, outputCol\u003d\u0027countFeatures\u0027)\ncountModel \u003d countTF.fit(newTF)\nfeaturizedData \u003d countModel.transform(newTF)\nprint \"VocabSize \u003d %d\" % len(countModel.vocabulary)\nidf \u003d IDF(inputCol\u003d\"countFeatures\", outputCol\u003d\"idfFeatures\")\nidfModel \u003d idf.fit(featurizedData)\nrescaledData \u003d idfModel.transform(featurizedData)",
      "user": "davidgillen@precocityllc.com",
      "dateUpdated": "Jan 11, 2018 1:08:39 AM",
      "config": {
        "colWidth": 12.0,
        "graph": {
          "mode": "table",
          "height": 300.0,
          "optionOpen": false,
          "keys": [],
          "values": [],
          "groups": [],
          "scatter": {}
        },
        "enabled": true,
        "editorMode": "ace/mode/scala"
      },
      "settings": {
        "params": {},
        "forms": {}
      },
      "paragraphProgress": {
        "jobs": [
          {
            "id": 2869,
            "jobUrl": "https://azure.qubole.com/cluster-proxy?encodedUrl\u003dhttp%3A%2F%2F10.0.0.4%3A8088%2Fproxy%2Fapplication_1515502980890_0003/jobs/job?spark\u003dtrue\u0026id\u003d2869",
            "numTasks": 40,
            "numCompletedTasks": 40,
            "stages": [
              {
                "id": 7882,
                "completed": true,
                "stageUrl": "https://azure.qubole.com/cluster-proxy?encodedUrl\u003dhttp%3A%2F%2F10.0.0.4%3A8088%2Fproxy%2Fapplication_1515502980890_0003/stages/stage/?id\u003d7882\u0026attempt\u003d0",
                "numCompleteTasks": 20,
                "numActiveTasks": 0,
                "numFailedTasks": 0,
                "numTotalTasks": 20
              },
              {
                "id": 7883,
                "completed": true,
                "stageUrl": "https://azure.qubole.com/cluster-proxy?encodedUrl\u003dhttp%3A%2F%2F10.0.0.4%3A8088%2Fproxy%2Fapplication_1515502980890_0003/stages/stage/?id\u003d7883\u0026attempt\u003d0",
                "numCompleteTasks": 20,
                "numActiveTasks": 0,
                "numFailedTasks": 0,
                "numTotalTasks": 20
              }
            ],
            "status": "Success"
          },
          {
            "id": 2870,
            "jobUrl": "https://azure.qubole.com/cluster-proxy?encodedUrl\u003dhttp%3A%2F%2F10.0.0.4%3A8088%2Fproxy%2Fapplication_1515502980890_0003/jobs/job?spark\u003dtrue\u0026id\u003d2870",
            "numTasks": 40,
            "numCompletedTasks": 20,
            "stages": [
              {
                "id": 7885,
                "completed": true,
                "stageUrl": "https://azure.qubole.com/cluster-proxy?encodedUrl\u003dhttp%3A%2F%2F10.0.0.4%3A8088%2Fproxy%2Fapplication_1515502980890_0003/stages/stage/?id\u003d7885\u0026attempt\u003d0",
                "numCompleteTasks": 20,
                "numActiveTasks": 0,
                "numFailedTasks": 0,
                "numTotalTasks": 20
              },
              {
                "id": 7884,
                "completed": true,
                "stageUrl": "https://azure.qubole.com/cluster-proxy?encodedUrl\u003dhttp%3A%2F%2F10.0.0.4%3A8088%2Fproxy%2Fapplication_1515502980890_0003/stages/stage/?id\u003d7884\u0026attempt\u003d0",
                "numCompleteTasks": 0,
                "numActiveTasks": 0,
                "numFailedTasks": 0,
                "numTotalTasks": 0
              }
            ],
            "status": "Success"
          },
          {
            "id": 2871,
            "jobUrl": "https://azure.qubole.com/cluster-proxy?encodedUrl\u003dhttp%3A%2F%2F10.0.0.4%3A8088%2Fproxy%2Fapplication_1515502980890_0003/jobs/job?spark\u003dtrue\u0026id\u003d2871",
            "numTasks": 24,
            "numCompletedTasks": 24,
            "stages": [
              {
                "id": 7886,
                "completed": true,
                "stageUrl": "https://azure.qubole.com/cluster-proxy?encodedUrl\u003dhttp%3A%2F%2F10.0.0.4%3A8088%2Fproxy%2Fapplication_1515502980890_0003/stages/stage/?id\u003d7886\u0026attempt\u003d0",
                "numCompleteTasks": 20,
                "numActiveTasks": 0,
                "numFailedTasks": 0,
                "numTotalTasks": 20
              },
              {
                "id": 7887,
                "completed": true,
                "stageUrl": "https://azure.qubole.com/cluster-proxy?encodedUrl\u003dhttp%3A%2F%2F10.0.0.4%3A8088%2Fproxy%2Fapplication_1515502980890_0003/stages/stage/?id\u003d7887\u0026attempt\u003d0",
                "numCompleteTasks": 4,
                "numActiveTasks": 0,
                "numFailedTasks": 0,
                "numTotalTasks": 4
              }
            ],
            "status": "Success"
          }
        ],
        "numCompletedTasks": 84,
        "numTasks": 104,
        "truncated": false
      },
      "jobName": "paragraph_1515625633085_1543590722",
      "id": "20180110-230713_1432935154_q_8YVGJMASEQ1515692831",
      "result": {
        "code": "SUCCESS",
        "type": "TEXT",
        "msg": "VocabSize \u003d 663\n"
      },
      "dateCreated": "Jan 10, 2018 11:07:13 PM",
      "dateStarted": "Jan 11, 2018 1:08:40 AM",
      "dateFinished": "Jan 11, 2018 1:08:51 AM",
      "status": "FINISHED",
      "progressUpdateIntervalMs": 500
    },
    {
      "text": "%spark.pyspark\nfrom pyspark.ml.clustering import LDA\nlda \u003d LDA(k\u003d5, seed\u003d123, optimizer\u003d\"em\", featuresCol\u003d\"idfFeatures\")\nldamodel \u003d lda.fit(rescaledData)\nldatopics \u003d ldamodel.describeTopics()",
      "user": "davidgillen@precocityllc.com",
      "dateUpdated": "Jan 11, 2018 1:08:59 AM",
      "config": {
        "colWidth": 12.0,
        "graph": {
          "mode": "table",
          "height": 300.0,
          "optionOpen": false,
          "keys": [],
          "values": [],
          "groups": [],
          "scatter": {}
        },
        "enabled": true,
        "editorMode": "ace/mode/scala"
      },
      "settings": {
        "params": {},
        "forms": {}
      },
      "jobName": "paragraph_1515625621456_-1330498886",
      "id": "20180110-230701_1521254895_q_8YVGJMASEQ1515692831",
      "result": {
        "code": "SUCCESS",
        "type": "TEXT",
        "msg": ""
      },
      "dateCreated": "Jan 10, 2018 11:07:01 PM",
      "dateStarted": "Jan 11, 2018 1:08:59 AM",
      "dateFinished": "Jan 11, 2018 1:09:46 AM",
      "status": "FINISHED",
      "progressUpdateIntervalMs": 500
    },
    {
      "text": "%spark.pyspark\nfrom operator import itemgetter\nvocablist \u003d countModel.vocabulary\ntermsRDD \u003d ldatopics.rdd.map(lambda topic: itemgetter(*topic[1])(vocablist))\ntermsRDD \u003d termsRDD.zipWithIndex()\ntermDF \u003d termsRDD.toDF([\u0027topicIndex\u0027, \u0027terms\u0027])\ntermDF.show(truncate\u003dFalse)",
      "user": "davidgillen@precocityllc.com",
      "dateUpdated": "Jan 11, 2018 1:16:18 AM",
      "config": {
        "colWidth": 12.0,
        "graph": {
          "mode": "table",
          "height": 300.0,
          "optionOpen": false,
          "keys": [],
          "values": [],
          "groups": [],
          "scatter": {}
        },
        "enabled": true,
        "editorMode": "ace/mode/scala"
      },
      "settings": {
        "params": {},
        "forms": {}
      },
      "paragraphProgress": {
        "jobs": [
          {
            "id": 2897,
            "jobUrl": "https://azure.qubole.com/cluster-proxy?encodedUrl\u003dhttp%3A%2F%2F10.0.0.4%3A8088%2Fproxy%2Fapplication_1515502980890_0003/jobs/job?spark\u003dtrue\u0026id\u003d2897",
            "numTasks": 5,
            "numCompletedTasks": 5,
            "stages": [
              {
                "id": 8691,
                "completed": true,
                "stageUrl": "https://azure.qubole.com/cluster-proxy?encodedUrl\u003dhttp%3A%2F%2F10.0.0.4%3A8088%2Fproxy%2Fapplication_1515502980890_0003/stages/stage/?id\u003d8691\u0026attempt\u003d0",
                "numCompleteTasks": 5,
                "numActiveTasks": 0,
                "numFailedTasks": 0,
                "numTotalTasks": 5
              }
            ],
            "status": "Success"
          },
          {
            "id": 2898,
            "jobUrl": "https://azure.qubole.com/cluster-proxy?encodedUrl\u003dhttp%3A%2F%2F10.0.0.4%3A8088%2Fproxy%2Fapplication_1515502980890_0003/jobs/job?spark\u003dtrue\u0026id\u003d2898",
            "numTasks": 1,
            "numCompletedTasks": 1,
            "stages": [
              {
                "id": 8692,
                "completed": true,
                "stageUrl": "https://azure.qubole.com/cluster-proxy?encodedUrl\u003dhttp%3A%2F%2F10.0.0.4%3A8088%2Fproxy%2Fapplication_1515502980890_0003/stages/stage/?id\u003d8692\u0026attempt\u003d0",
                "numCompleteTasks": 1,
                "numActiveTasks": 0,
                "numFailedTasks": 0,
                "numTotalTasks": 1
              }
            ],
            "status": "Success"
          },
          {
            "id": 2899,
            "jobUrl": "https://azure.qubole.com/cluster-proxy?encodedUrl\u003dhttp%3A%2F%2F10.0.0.4%3A8088%2Fproxy%2Fapplication_1515502980890_0003/jobs/job?spark\u003dtrue\u0026id\u003d2899",
            "numTasks": 1,
            "numCompletedTasks": 1,
            "stages": [
              {
                "id": 8693,
                "completed": true,
                "stageUrl": "https://azure.qubole.com/cluster-proxy?encodedUrl\u003dhttp%3A%2F%2F10.0.0.4%3A8088%2Fproxy%2Fapplication_1515502980890_0003/stages/stage/?id\u003d8693\u0026attempt\u003d0",
                "numCompleteTasks": 1,
                "numActiveTasks": 0,
                "numFailedTasks": 0,
                "numTotalTasks": 1
              }
            ],
            "status": "Success"
          },
          {
            "id": 2900,
            "jobUrl": "https://azure.qubole.com/cluster-proxy?encodedUrl\u003dhttp%3A%2F%2F10.0.0.4%3A8088%2Fproxy%2Fapplication_1515502980890_0003/jobs/job?spark\u003dtrue\u0026id\u003d2900",
            "numTasks": 4,
            "numCompletedTasks": 4,
            "stages": [
              {
                "id": 8694,
                "completed": true,
                "stageUrl": "https://azure.qubole.com/cluster-proxy?encodedUrl\u003dhttp%3A%2F%2F10.0.0.4%3A8088%2Fproxy%2Fapplication_1515502980890_0003/stages/stage/?id\u003d8694\u0026attempt\u003d0",
                "numCompleteTasks": 4,
                "numActiveTasks": 0,
                "numFailedTasks": 0,
                "numTotalTasks": 4
              }
            ],
            "status": "Success"
          }
        ],
        "numCompletedTasks": 11,
        "numTasks": 11,
        "truncated": false
      },
      "jobName": "paragraph_1515625696672_393050304",
      "id": "20180110-230816_1951835917_q_8YVGJMASEQ1515692831",
      "result": {
        "code": "SUCCESS",
        "type": "TEXT",
        "msg": "+------------------------------------------------------------------------------------------------------------------------------------------------+-----+\n|topicIndex                                                                                                                                      |terms|\n+------------------------------------------------------------------------------------------------------------------------------------------------+-----+\n|[power adapter,like apple,wi fi,watching netflix,honest review,web based,looking icon,expect see,couple weeks,show exactly]                     |0    |\n|[buy roku,roku apple,time important,roku hardware,setup downloading,software phone,stream programming,money buy,important time,services netflix]|1    |\n|[macbook 5,excited purchased,set 5,right hopefully,runs perfect,starbetter apple,show soon,hopefully support,5 starfree,expected excited]       |2    |\n|[netflix youtube,android tablet,mainly using,nice little,browser fan,fan fact,family travel,youtube casting,music music,copyright issues]       |3    |\n|[power adapter,web based,honest review,watching netflix,wi fi,like apple,27 monitor,contacted fellow,streaming services,streaming works]        |4    |\n+------------------------------------------------------------------------------------------------------------------------------------------------+-----+\n\n"
      },
      "dateCreated": "Jan 10, 2018 11:08:16 PM",
      "dateStarted": "Jan 11, 2018 1:16:19 AM",
      "dateFinished": "Jan 11, 2018 1:16:19 AM",
      "status": "FINISHED",
      "progressUpdateIntervalMs": 500
    },
    {
      "text": "%md\n# Exploratory Data Analysis\nLet\u0027s look at how a retailer might be able to utilize this unstructured raw text to glean insights\n\nwhich products have the most negative reviews?",
      "user": "davidgillen@precocityllc.com",
      "dateUpdated": "Jan 10, 2018 2:08:38 PM",
      "config": {
        "colWidth": 12.0,
        "graph": {
          "mode": "table",
          "height": 300.0,
          "optionOpen": false,
          "keys": [],
          "values": [],
          "groups": [],
          "scatter": {}
        },
        "enabled": true,
        "editorMode": "ace/mode/markdown",
        "editorHide": false
      },
      "settings": {
        "params": {},
        "forms": {}
      },
      "jobName": "paragraph_1515012774745_662708957",
      "id": "20180103-205254_887302214_q_8YVGJMASEQ1515692831",
      "result": {
        "code": "SUCCESS",
        "type": "HTML",
        "msg": "\u003cdiv class\u003d\"markdown-body\"\u003e\n\u003ch1\u003eExploratory Data Analysis\u003c/h1\u003e\n\u003cp\u003eLet\u0026rsquo;s get a feel for the data with some interfactive queries\u003c/p\u003e\n\u003c/div\u003e"
      },
      "dateCreated": "Jan 3, 2018 8:52:54 PM",
      "dateStarted": "Jan 3, 2018 8:53:33 PM",
      "dateFinished": "Jan 3, 2018 8:53:33 PM",
      "status": "FINISHED",
      "progressUpdateIntervalMs": 500
    },
    {
      "text": "%spark.sql\nselect asin,count(*) as numNegativeReviews from all_reviews where overall \u003c\u003d 2 group by asin order by numNegativeReviews desc",
      "user": "davidgillen@precocityllc.com",
      "dateUpdated": "Jan 10, 2018 2:09:32 PM",
      "config": {
        "colWidth": 12.0,
        "graph": {
          "mode": "table",
          "height": 300.0,
          "optionOpen": false,
          "keys": [],
          "values": [],
          "groups": [],
          "scatter": {}
        },
        "enabled": true,
        "editorMode": "ace/mode/sql"
      },
      "settings": {
        "params": {},
        "forms": {}
      },
      "paragraphProgress": {
        "jobs": [
          {
            "id": 2656,
            "jobUrl": "https://azure.qubole.com/cluster-proxy?encodedUrl\u003dhttp%3A%2F%2F10.0.0.4%3A8088%2Fproxy%2Fapplication_1515502980890_0003/jobs/job?spark\u003dtrue\u0026id\u003d2656",
            "numTasks": 220,
            "numCompletedTasks": 220,
            "stages": [
              {
                "id": 5413,
                "completed": true,
                "stageUrl": "https://azure.qubole.com/cluster-proxy?encodedUrl\u003dhttp%3A%2F%2F10.0.0.4%3A8088%2Fproxy%2Fapplication_1515502980890_0003/stages/stage/?id\u003d5413\u0026attempt\u003d0",
                "numCompleteTasks": 200,
                "numActiveTasks": 0,
                "numFailedTasks": 0,
                "numTotalTasks": 200
              },
              {
                "id": 5412,
                "completed": true,
                "stageUrl": "https://azure.qubole.com/cluster-proxy?encodedUrl\u003dhttp%3A%2F%2F10.0.0.4%3A8088%2Fproxy%2Fapplication_1515502980890_0003/stages/stage/?id\u003d5412\u0026attempt\u003d0",
                "numCompleteTasks": 20,
                "numActiveTasks": 0,
                "numFailedTasks": 0,
                "numTotalTasks": 20
              }
            ],
            "status": "Success"
          }
        ],
        "numCompletedTasks": 220,
        "numTasks": 220,
        "truncated": false
      },
      "jobName": "paragraph_1515593189376_876104749",
      "id": "20180110-140629_1402641463_q_8YVGJMASEQ1515692831",
      "result": {
        "code": "SUCCESS",
        "type": "TABLE",
        "msg": "asin\tnumNegativeReviews\nB00DR0PDNE\t558\nB007WTAJTO\t324\nB000I68BD4\t211\nB004QK7HI8\t211\nB003ELYQGG\t207\nB009SYZ8OC\t206\nB004T9RR6I\t198\nB00B46XUQU\t188\nB006ZP8UOW\t186\nB00BGGDVOO\t179\nB0001FTVEK\t179\nB005CLPP84\t179\nB002MAPRYU\t174\nB0044YU60M\t174\nB00A3YN0Z0\t168\nB005CT56F8\t168\nB0002L5R78\t153\nB004OB0EBQ\t146\nB002SZEOLG\t144\nB003UE52ME\t144\nB002UT42UI\t143\nB002QEBMAK\t141\nB009A5204K\t139\nB004HT6TS2\t136\nB002WE6D44\t136\nB000A6PPOK\t135\nB006GWO5WK\t134\nB005HMKKH4\t133\nB0038W0K2K\t131\nB005KOZNBW\t128\nB0015DYMVO\t126\nB00622AG6S\t124\nB002BH3I9U\t124\nB0053NBLFW\t123\nB0007MXZB2\t122\nB003D8GAA0\t122\nB0040IUI46\t121\nB00004ZCJE\t120\nB002HWRJY4\t119\nB001XURP7W\t119\nB005DKZTMG\t117\nB001V9LPT4\t116\nB0053DDNW6\t114\nB004G6002M\t113\nB004OVECU0\t113\nB001EBE1LI\t113\nB005FVNGRI\t112\nB002HWRJBM\t111\nB0088LYCZC\t111\nB0041Q38NU\t109\nB00BGA9WK2\t108\nB002TLTGM6\t105\nB002FFT8Z6\t104\nB00007KDVI\t104\nB0047T79VS\t104\nB0027VT6V4\t104\nB00429N16A\t102\nB00829THK0\t101\nB006QB1RPY\t101\nB0016BVDIK\t99\nB000R9AAJA\t99\nB000S5Q9CA\t98\nB0049YQVHE\t97\nB0018DQYQ2\t97\nB004N6259G\t97\nB007B31IAK\t96\nB002FFZGCU\t96\nB001B077PO\t96\nB0041OSQB6\t95\nB007I5JT4S\t94\nB0088CJT4U\t93\nB005CPGHAA\t93\nB00E98O7GC\t93\nB00834SJNA\t92\nB005FYNSPK\t91\nB0094NY3R0\t91\nB0040QE98O\t90\nB008OHNZI0\t90\nB003NR57BY\t89\nB001OORMVQ\t89\nB003GIJTR8\t88\nB00093IIRA\t88\nB004GF8TIK\t88\nB004E10KFG\t87\nB0052YFYFK\t87\nB00007M1TZ\t87\nB005FDXMJS\t87\nB000JMJWV2\t86\nB004J4VYEY\t86\nB00008SCFL\t86\nB00466X9SY\t85\nB008KVUAGU\t85\nB0012S4APK\t83\nB008GVM9K4\t81\nB00DVFLJDS\t81\nB003ES5ZSW\t81\nB0097BEFYA\t80\nB000Y7T5UU\t79\nB002RL875A\t79\nB004OF9XGO\t78\nB0074BW614\t78\nB009LL9VDG\t77\nB00428N9OK\t77\nB00EVVGAC6\t76\nB0019EHU8G\t76\nB000VX6XL6\t76\nB002SGATH8\t76\nB0027FGW3K\t75\nB005CLPP8E\t75\nB003ZX8B2S\t74\nB005FVNHBI\t73\nB0019EQ1RW\t72\nB008NMCPTQ\t72\nB0081H8TRA\t72\nB002HGFKR8\t72\nB0038JE07O\t72\nB002HMWQE2\t72\nB006W8U2MU\t72\nB000VM60I8\t72\nB0057OCDQS\t71\nB003B3P2CY\t71\nB0062P7ISY\t71\nB008ABOJKS\t71\nB004MF11MU\t70\nB00426C57O\t70\nB004W2JKWG\t70\nB000UWX70S\t70\nB002JQNXZC\t69\nB0077BB3VA\t69\nB003WD2SLQ\t69\nB009IBX7Z2\t69\nB00904JILO\t69\nB00066IJPQ\t68\nB0043T7FXE\t68\nB008CS5T76\t68\nB00006B7DA\t68\nB002HU629E\t68\nB004GCJEZU\t67\nB004XC6GJ0\t67\nB00021XIJW\t67\nB000TG4BA0\t67\nB005DIBHA6\t67\nB006JWMOOI\t67\nB0034XRDUA\t67\nB0087NZ31S\t66\nB003XU6H8I\t66\nB002RM08RE\t66\nB001D7REIK\t65\nB00CMQTVK0\t65\nB002VJL0OS\t64\nB005KG44V0\t64\nB000IJY8DS\t64\nB008I21EA2\t64\nB007Q45EF4\t64\nB0012MMW7E\t64\nB004LNXO28\t64\nB008CXTX7S\t64\nB000HKGK8Y\t63\nB001FW9QGQ\t63\nB00752R4PK\t63\nB003SWLRLS\t63\nB004HYGU18\t63\nB003LR7ME6\t63\nB005DOK8NW\t63\nB00568BV68\t63\nB0030AZ44O\t63\nB0058UUR6E\t63\nB0041OSQ9I\t62\nB006TT91TW\t62\nB000ZH98LU\t62\nB003MTTJOY\t62\nB002WE4HE2\t62\nB002V88HFE\t62\nB0015AARJI\t61\nB0030MITDK\t61\nB0061R1XI4\t61\nB0001F22PA\t61\nB004RDWVUS\t61\nB005ARQV6U\t61\nB004SBBD8U\t61\nB005QX7KYU\t61\nB008GVL9YQ\t60\nB008CS5QTW\t60\nB001GS8FZ2\t60\nB0018O9JIG\t60\nB000BTL0OA\t60\nB004UL34EY\t59\nB008F4NL04\t59\nB0015YRMXI\t59\nB00F0DD0I6\t58\nB00264GYMG\t58\nB00AWKC0JM\t58\nB00DIFIM36\t58\nB001VMAYAM\t58\nB0057WXF6C\t58\nB008AJNF78\t57\nB000Q8UAWY\t57\nB000652M6Y\t57\nB00BT7RAPG\t57\nB0014J07R2\t57\nB005D5M136\t56\nB0015TJNEY\t56\nB000NWIOM6\t56\nB004K1EZDS\t56\nB002DW92IE\t56\nB003Y60DZO\t56\nB000FKP7TY\t55\nB002ZCXJZE\t55\nB006P88VSE\t55\nB0045DMA42\t55\nB003VAM32E\t55\nB0052RM8T2\t55\nB002MAPS6W\t55\nB000EYRLXQ\t55\nB006ZS5ATM\t54\nB004YAYM06\t54\nB004NY9UV4\t54\nB000E6G9RI\t54\nB0026ZPFCK\t54\nB00007EDM8\t54\nB003ES5ZUU\t54\nB001CEYYFK\t53\nB003VOW5WI\t53\nB0035PBHX6\t53\nB003ZX8B3W\t53\nB003B48UQ8\t53\nB003EO1H7E\t53\nB004S7Q8CA\t53\nB001EYU3L2\t53\nB002LARRDK\t53\nB005IA843W\t53\nB003CJTR82\t52\nB002TUC64W\t52\nB002HHLOWC\t52\nB00475WJEY\t52\nB001DMEYCY\t52\nB0017U0WM8\t52\nB0056YNA1Q\t52\nB001AAVA08\t52\nB0069R7FFQ\t52\nB003LLEG00\t51\nB001TK3D4A\t51\nB007SM7O2U\t51\nB003LNZ1L6\t51\nB001O9X9EU\t51\nB002DPUUKK\t51\nB003OC6LWM\t51\nB004G8HXXO\t51\nB00DSJA3G6\t50\nB0068RKK18\t50\nB009PK9S90\t50\nB000WL6YY8\t50\nB001FA1NK0\t50\nB001AZ01EO\t50\nB00DIOALPE\t50\nB005JE3VYY\t50\nB00007IFED\t50\nB001078FV8\t50\nB003STVG80\t50\nB001KC08A4\t50\nB000EPLP3C\t49\nB0041LYY6K\t49\nB000YM2OIK\t49\nB00365EVW4\t49\nB0049LBJ56\t49\nB002SRNS7A\t49\nB000J01I1G\t49\nB0093H4WT6\t49\nB001UI2FPE\t49\nB001G1ZPV6\t49\nB003VAGXZC\t49\nB002KC55OM\t49\nB0002CPBWI\t48\nB00EDSI7QO\t48\nB002TPL260\t48\nB001ELJER4\t48\nB005C31HC0\t48\nB007P4VOWC\t48\nB0096YOQRY\t48\nB001F51G16\t48\nB003B1ITFS\t48\nB0002AHT0M\t47\nB002RWJD7A\t47\nB0007RV3IE\t47\nB002YU83YO\t47\nB000C1Z0HA\t47\nB002C7481G\t47\nB0067PLM5E\t47\nB006OBGEHW\t47\nB000EVSLRO\t47\nB000UY3NR8\t47\nB004HHICKC\t47\nB004Q3R9AQ\t47\nB000FBK3QK\t47\nB000O5N5AI\t47\nB005ONMDYE\t46\nB005S1CYO6\t46\nB007P4YAPK\t46\nB00119T6NQ\t46\nB005UBNGY6\t46\nB001AZP8EW\t46\nB00452V66G\t46\nB007PTCFFW\t46\nB006U1YUZE\t46\nB00CH643A8\t46\nB000LRMS66\t46\nB000FOYMKU\t46\nB00B9996LA\t46\nB000ANOY7M\t46\nB004CADY9I\t45\nB0034CL2ZI\t45\nB006I5MKZY\t45\nB00794RDVY\t45\nB000QUUFRW\t45\nB009VV56TY\t45\nB004PGMFG2\t45\nB0015A6YN6\t45\nB005CG2ATQ\t45\nB00009KH63\t45\nB0028ACYEK\t45\nB004HCO4GI\t45\nB0071BTJPI\t45\nB001TOD7ME\t45\nB00E055H5O\t44\nB004U78J1G\t44\nB000Z4AQFU\t44\nB00006RVPW\t44\nB003P92D9Y\t44\nB0098F5W0Q\t44\nB000V1MLBE\t44\nB004T9RR4A\t44\nB000JLG5ZY\t44\nB008AST7R6\t44\nB005INJ4ZG\t44\nB000FVDD30\t44\nB003WGJYCY\t43\nB005HMO6A6\t43\nB005UFZ7F8\t43\nB008UHK3KM\t43\nB0007XJSQC\t43\nB001F7HLRC\t43\nB00AIRUOI8\t43\nB004P8K24W\t43\nB006R2N8VS\t43\nB003VWZE7S\t43\nB000204SWE\t43\nB002SQK2F2\t43\nB003LRY9Q0\t43\nB0017JY5FE\t42\nB000095SB4\t42\nB00CAFPF26\t42\nB001SJVU6K\t42\nB000UF3FT8\t42\nB0000645RH\t42\nB0055D66V4\t42\nB005QFH86S\t42\nB000ENRQ3M\t42\nB00426C56U\t42\nB000CC6I5W\t42\nB003MVZ60I\t42\nB007KEZMX4\t41\nB004VM1T5S\t41\nB00ARB5FLQ\t41\nB00D02AG7C\t41\nB0088PUEPK\t41\nB002RWJDB6\t41\nB001UEBN42\t41\nB003Y06336\t41\nB00E0EY7Z6\t41\nB008Z2661W\t41\nB004J4VYG2\t41\nB0018LX0DY\t41\nB001FWBUUG\t41\nB002EPF6YO\t41\nB0036OR910\t40\nB00FEE7B1I\t40\nB007CO5DZ4\t40\nB004N625AK\t40\nB00005N6KG\t40\nB005CLMJLU\t40\nB0000AAAPF\t40\nB0009MIP8I\t40\nB00DMJI9TA\t40\nB00BFIJQ10\t40\nB001D60LG8\t40\nB0058NN6CS\t40\nB007PJ4Q4A\t40\nB003ELOSIW\t40\nB00CL8F98W\t40\nB003NE5JCE\t40\nB001CJOLBW\t40\nB000065BP9\t39\nB000CS1TLE\t39\nB001F42MKG\t39\nB000BI7NHY\t39\nB007S642BW\t39\nB004WB8EYM\t39\nB003NSBF32\t39\nB00166EUI0\t39\nB0097BEF1S\t39\nB0073FE1F0\t39\nB004WIUDGM\t39\nB00007E7JU\t39\nB0001FTVEA\t39\nB003VGUGBS\t39\nB000Q6UZBM\t39\nB001EZYMF4\t39\nB00006HYKM\t39\nB001V9KG0I\t39\nB003VAHYNC\t39\nB003UT6C9G\t39\nB00FFJ0HUE\t39\nB0051G5SBY\t39\nB000SEQGT2\t39\nB00006HYPV\t39\nB00BQ5RYI4\t39\nB005GM1Q1O\t39\nB008DWCRQW\t38\nB008THTWIW\t38\nB0013FRNKG\t38\nB0092U3TKC\t38\nB000SE6IV8\t38\nB000UXZQ42\t38\nB001E1X67I\t38\nB00022OBO2\t38\nB0094NXBZ0\t38\nB000092YQW\t38\nB000FMJLQC\t38\nB004K1EOCA\t38\nB0029Z9UNC\t38\nB002Y2NI4M\t38\nB000UHQVOW\t38\nB002LPV6LY\t38\nB00DQEB1V4\t38\nB00007FGU7\t38\nB00AWKC0EC\t38\nB000X24ISU\t38\nB008ZGKWQI\t38\nB00CTUIT20\t38\nB003X26VV4\t38\nB00004SB92\t38\nB002HJ9PTO\t38\nB004Z0S7K6\t38\nB001M56DI0\t38\nB001ELJ9QK\t38\nB00B588HY2\t38\nB004VM0SE6\t38\nB004TIIBMS\t38\nB000VXKD8K\t37\nB005Z3GINK\t37\nB006GQIIEM\t37\nB001F7AHOG\t37\nB0016P392O\t37\nB0012Y02CE\t37\nB001LNO722\t37\nB004MU8VCS\t37\nB002PN8B1A\t37\nB000UVD8B2\t37\nB001E78UQY\t37\nB0045371FU\t37\nB005O74J7O\t37\nB000092YPR\t37\nB0045FM6SU\t37\nB008GGB342\t37\nB00ASLSQHK\t37\nB00AXX0I88\t37\nB001PIBE8I\t37\nB00931DHKM\t37\nB001IYCUM8\t37\nB003M0NURK\t37\nB001EQ0HAW\t37\nB00FB45SI4\t37\nB000BQ7GW8\t37\nB001DVZXC0\t37\nB001CZ9ZEE\t37\nB00AJHDZSI\t37\nB002EOVDII\t37\nB0014H16V0\t37\nB0019SSSMY\t37\nB003YUEF0E\t37\nB00DTZYHX4\t37\nB0019SHZU0\t37\nB009OZUPUC\t37\nB00316263Y\t37\nB000OTF6G0\t37\nB004NBZ98K\t36\nB003VAGXWK\t36\nB00001P4XA\t36\nB000QD7B6W\t36\nB002MYQTEI\t36\nB00DY3J8VM\t36\nB003M5IQLU\t36\nB004WR125O\t36\nB008R7EVE4\t36\nB0006B486K\t36\nB004PA2B6C\t36\nB006EKIQYM\t36\nB002HWJT1A\t36\nB008KL8LFC\t36\nB0036Q7MV0\t36\nB003BLQHN4\t36\nB005HJWWW8\t36\nB001M5U5AC\t36\nB002JPITXY\t36\nB001PKY2J4\t36\nB004Q0PT3I\t36\nB002IUG14O\t36\nB003SGCO3E\t36\nB004O0TRCO\t36\nB001O2T43M\t36\nB008I646WG\t36\nB000HCT12O\t36\nB0049P6OTI\t36\nB00449U3K0\t36\nB004GK0GKO\t36\nB0001PFQ08\t36\nB005VEZ550\t36\nB0007R4LI8\t35\nB000BV8604\t35\nB007IMPMW4\t35\nB00426FEL8\t35\nB005FUNYSA\t35\nB003SVSJ1K\t35\nB003ZX8B0U\t35\nB00F3KWZW8\t35\nB0080CXSOU\t35\nB007HQR710\t35\nB001SJVU24\t35\nB002EUCU3O\t35\nB0041UJVI2\t35\nB000HPV3RW\t35\nB0001D3K8A\t35\nB004T9RR7C\t35\nB005QWH4QA\t35\nB0000BVYTV\t35\nB0067XVNTG\t35\nB003MX4D0U\t35\nB002LITI7K\t35\nB005IGVY6K\t35\nB000067RC4\t35\nB002YAOS7A\t35\nB000WN00FK\t35\nB00077AA5Q\t35\nB004NQMCDK\t35\nB001HN6CVA\t35\nB005RFOJT6\t35\nB004I43F9C\t35\nB005B28DOM\t34\nB001T9NUJE\t34\nB005S0BYQ6\t34\nB00AQRUW4Q\t34\nB000RK89M4\t34\nB003VANO7C\t34\nB000RQSGYO\t34\nB0090XWU8S\t34\nB004RKQM8I\t34\nB002AH8T3Q\t34\nB003VWU79I\t34\nB005PC7VG4\t34\nB001CIREXA\t34\nB001L1H0SC\t34\nB002IC0YL8\t34\nB00004SABB\t34\nB0077EVNY4\t34\nB00007LTBA\t34\nB0049SCB2Y\t34\nB003Y5T464\t34\nB00829TIEK\t34\nB007P8I3K4\t34\nB001OMGVII\t34\nB0051PGX2I\t34\nB008CS9M9C\t33\nB002FFG6JC\t33\nB004EPV7TK\t33\nB0036E8V08\t33\nB009XNBFJK\t33\nB005058B56\t33\nB007GFX0PY\t33\nB00698WP50\t33\nB0036WT1RW\t33\nB00004T8R2\t33\nB0075W8E4A\t33\nB000Z80ICM\t33\nB00387G6R8\t33\nB0032R6CPK\t33\nB0000CE1UO\t33\nB007PA1K84\t33\nB0019WF4FE\t33\nB006JH8T3S\t33\nB002RYYZZS\t33\nB000ND75C0\t33\nB003CJTR8M\t33\nB00INNP5VU\t33\nB005MR6CNK\t33\nB003XIJ3MW\t33\nB004CGHDEO\t33\nB001SH2AVQ\t33\nB000JV9NL2\t33\nB00AWC51DW\t33\nB009X3UW2G\t33\nB00AAU54TW\t33\nB005GTNZUM\t33\nB002RL9WDQ\t33\nB0025ZH43O\t33\nB007M50PTM\t33\nB00081A2KY\t33\nB003LPTAYI\t33\nB0097BEDOC\t33\nB007XOQ3BQ\t33\nB000067RT6\t32\nB000F7857S\t32\nB002LITI70\t32\nB0042BUXG4\t32\nB001C4ETU0\t32\nB007WAWHD4\t32\nB002MRMCKU\t32\nB005J7YA4G\t32\nB000PCEFXQ\t32\nB004SPVZKW\t32\nB005M21TBA\t32\nB000L4D42Q\t32\nB00007EDZG\t32\nB004NBL9WK\t32\nB001G0WPLK\t32\nB000EUGX70\t32\nB00834SJSK\t32\nB003C2QS90\t32\nB002SSM5AU\t32\nB000XHS4SK\t32\nB0014II9F0\t32\nB003B4AVRE\t32\nB005J7YA3W\t32\nB005GCSZD6\t32\nB008MDSWI4\t32\nB001NJ0D0Y\t32\nB004WYA852\t32\nB0099XGZXA\t32\nB003DZ165W\t32\nB0054JJ0QW\t32\nB000629GES\t32\nB0030MIU16\t32\nB0017H4EBG\t32\nB00007056H\t31\nB0054YQO5C\t31\nB00AHBKW2S\t31\nB006TZM6XO\t31\nB003S6AXVO\t31\nB003X26PMO\t31\nB002SP2X5U\t31\nB00372YKMM\t31\nB005HSG3TC\t31\nB000RZDBM2\t31\nB005OFFH5Y\t31\nB005DIBH10\t31\nB000EXRSVM\t31\nB003RAE19Q\t31\nB00005ARK3\t31\nB008EO263I\t31\nB001T6K7G6\t31\nB00020S7XK\t31\nB003VX3S3Y\t31\nB002ZAVVHY\t31\nB0015AHRFK\t31\nB002WE0QN8\t31\nB002CSRF9M\t31\nB000I1X6PM\t31\nB008DW95NA\t31\nB0092HP3GS\t31\nB002I8MUJG\t31\nB004MYFOE2\t31\nB002U6KT8U\t31\nB009EIUH6G\t31\nB001QUA6RA\t30\nB001769K3O\t30\nB004I4YPB4\t30\nB000812QC6\t30\nB002S53LJ2\t30\nB008BFXOZE\t30\nB000M2TAN4\t30\nB0023B14TK\t30\nB003ZBZ64Q\t30\nB002V8C3W2\t30\nB0049S6ZUS\t30\nB0076POAI0\t30\nB004QK8FBG\t30\nB000V7AF8E\t30\nB000J43HJ8\t30\nB006I0KL6Y\t30\nB000BWACX2\t30\nB0019RGQVU\t30\nB0002HA7FY\t30\nB002Y6CJJ8\t30\nB0009ZBRS0\t30\nB004FLL5AY\t30\nB00DB3SH2G\t30\nB001E0JH5E\t30\nB00BWF5U0M\t30\nB002OHDFOA\t30\nB003IZFCFW\t30\nB001ELK2NY\t30\nB002M3SHXA\t30\nB0042SDDXM\t30\nB005KN1YV6\t30\nB004MYFTD8\t30\nB005L38VPC\t30\nB00BW6LTG0\t30\nB0000C0XS0\t30\nB001PA94NS\t30\nB007PRHNHO\t29\nB0015ACUKC\t29\nB002HQWN28\t29\nB007IV7KRU\t29\nB0030BZ7HM\t29\nB005HTIWF4\t29\nB0002ZW5W4\t29\nB0002344GG\t29\nB005972X3Q\t29\nB00902SFC4\t29\nB008D2POAS\t29\nB0011FCV8W\t29\nB000A6NV0U\t29\nB0015EWMX8\t29\nB000VW2QRM\t29\nB003M6FDS8\t29\nB005E7KMH0\t29\nB004D8NZ52\t29\nB00DBV28TG\t29\nB005Y1CYSQ\t29\nB002L6HE9G\t29\nB004YHVNWO\t29\nB001SEQN3U\t29\nB009A6CZYO\t29\nB00006JN3G\t29\nB003VYH1UE\t29\nB007BJHETS\t29\nB004CQGAYS\t29\nB004XIT4NO\t29\nB001GTT0VO\t29\nB00439G3W8\t29\nB000N35A0Y\t29\nB00008NJEP\t29\nB001TODUXA\t29\nB0034L3G8U\t29\nB000UV4EU6\t29\nB0000BYDKO\t29\nB006V72AHC\t29\nB004HBK4T0\t29\nB002NU5O9C\t29\nB004R7A9NU\t29\nB004CAJU8W\t29\nB007YUISN0\t29\nB000WBQOZW\t29\nB003UH0Z9Q\t28\nB0074FGLUM\t28\nB00EL93M3S\t28\nB004JQN670\t28\nB00263D7A4\t28\nB000095SB6\t28\nB005B9G79I\t28\nB0029631VI\t28\nB003CYKYVG\t28\nB002BFLALA\t28\nB002BW6DBU\t28\nB001FA1O0O\t28\nB004M8RWCK\t28\nB001TH7GSW\t28\nB001PHLMAE\t28\nB004O0TRD8\t28\nB000AP05BO\t28\nB003SX0OU2\t28\nB002U1ZBG0\t28\nB002BU0DPE\t28\nB0092HP3EA\t28\nB0015S8PGW\t28\nB000BKJZ9Q\t28\nB0015YJOK2\t28\nB000MX48VM\t28\nB00511PS3C\t28\nB0018P7WZ2\t28\nB00B99JU5M\t28\nB00461E7JE\t28\nB003ZUIHY8\t28\nB003CKC8W8\t28\nB007PE3FC4\t28\nB0071LSAR6\t28\nB001EZRJZE\t28\nB00009R6TA\t28\nB008HO9DK4\t28\nB00081A2DQ\t28\nB00456V6WG\t28\nB007PLL4CK\t28\nB002WP2QGM\t28\nB0038BZ8W8\t28\nB003ZUXXWO\t28\nB000HZDF8W\t28\nB0082YEH8M\t28\nB000CRFOMK\t28\nB002IC0YLS\t28\nB000BP50AY\t28\nB002CSRFD8\t27\nB00109Y2DQ\t27\nB003GTSHY8\t27\nB007LOLVLU\t27\nB000V0ETA6\t27\nB003TFEHMU\t27\nB0023B1364\t27\nB001A4HAFS\t27\nB004TS1IFK\t27\nB0021AFWL4\t27\nB00AEKEA48\t27\nB007KZQMO6\t27\nB002GYPS3M\t27\nB00B0CQCCC\t27\nB001LYX3MQ\t27\nB00829THH8\t27\nB005Y8BYOE\t27\nB001AO4MWW\t27\nB00EXK14S0\t27\nB003QH2MY6\t27\nB0014IYZDK\t27\nB007PPYXOC\t27\nB00182CIB8\t27\nB004I5BUSO\t27\nB000TUDOQ8\t27\nB004S5H30I\t27\nB001GPCBPU\t27\nB0057ODG6Y\t27\nB004RORMF6\t27\nB0001FV36E\t27\nB008LURQ76\t27\nB005O81U8Y\t27\nB004LPY204\t27\nB0049MPQA4\t27\nB002M3SO0G\t27\nB0007U9KAY\t27\nB004J3ZV62\t27\nB003M2YT96\t27\nB003PJI9II\t27\nB0035ERKYW\t27\nB000VWOKRG\t27\nB003QA5LA0\t27\nB003CGMQ38\t27\nB002OB49SC\t27\nB001KN6WL2\t27\nB000QHOB4S\t27\nB001CBFTFM\t27\nB007R1FH3K\t27\nB000UVM0ES\t27\nB000062VUO\t27\nB009OBCAW2\t27\nB004HO6HYS\t27\nB00067LYFW\t27\nB0013G8PTS\t27\nB003TYDBYQ\t27\nB004SBI2MU\t27\nB000BI2180\t27\nB001OC5JM2\t26\nB0077V88W2\t26\nB008F05Q2E\t26\nB006SOLITY\t26\nB0074703CM\t26\nB000067O5G\t26\nB00832NCWU\t26\nB00BQ4F9ZA\t26\nB002UOUQ08\t26\nB003B20F54\t26\nB00F3F0EIU\t26\nB003CH1SJU\t26\nB007QIXSVM\t26\nB003RRY8ZG\t26\nB00825BZUY\t26\nB004I3VZJK\t26\nB004XZHY34\t26\nB005U0M9B8\t26\nB000I23TTE\t26\nB000SEN9U6\t26\nB000IF4788\t26\nB006W41W7S\t26\nB0051FWA7U\t26\nB000R9BMVU\t26\nB003VAHYTG\t26\nB002782LTG\t26\nB005GI2VMG\t26\nB001FA1O18\t26\nB0011TS8LM\t26\nB000FGI970\t26\nB00I2ZBD1U\t26\nB00BZC31WQ\t26\nB0039BPG1A\t26\nB008OHRJ32\t26\nB003YKFKR6\t26\nB005DIRI6I\t26\nB003V42O6K\t26\nB000065BPB\t26\nB00BQ5RY1G\t26\nB00BWLL9N8\t26\nB0036WS4D4\t26\nB000II6YEA\t26\nB0099SMFVQ\t26\nB0011U65F2\t26\nB001CGXM6K\t26\nB0038JECKY\t26\nB001CB0RSG\t26\nB000NU4OTA\t26\nB005X9XVNQ\t26\nB0027EMHM6\t26\nB008EQZ25K\t26\nB002KKFP9Y\t26\nB002ZUI68G\t26\nB004PNZFZ8\t26\nB002WUVAVE\t26\nB003WUBIZQ\t26\nB000026D8E\t26\nB001P9EQH8\t25\nB008RZ0EQ0\t25\nB0089VO7MY\t25\nB000EVM5DK\t25\nB002OOWB3O\t25\nB00519RW1U\t25\nB00F9FCW7K\t25\nB004FPQJGK\t25\nB003Z5CX3E\t25\nB005C6CVAE\t25\nB000MFG44Y\t25\nB00009XVCZ\t25\nB001E2KAOO\t25\nB004LTEUDO\t25\nB003KPBRRW\t25\nB000MS3VGA\t25\nB001GE6T9A\t25\nB001RQ2YF0\t25\nB00689F764\t25\nB008YDUTRO\t25\nB000ES8EG0\t25\nB00F3ZN2W0\t25\nB0038W0K1G\t25\nB009M27MB2\t25\nB00691WMJG\t25\nB009PHSDBM\t25\nB007PY3ZPG\t25\nB00746LVOM\t25\nB002669XKY\t25\nB003FSTAGY\t25\nB001L6LG5K\t25\nB003B3P2CO\t25\nB002XVBAKI\t25\nB000P8AUMU\t25\nB003BYRGJU\t25\nB0015EY5RE\t25\nB0076POAJE\t25\nB000WR3Z3A\t25\nB0015C30J0\t25\nB004LU1CA2\t25\nB000VSWHIE\t25\nB0007N55NM\t25\nB003C1AO2I\t25\nB0007VMROE\t25\nB006U1YVZ8\t25\nB000JVCPEY\t25\nB000E43GOO\t25\nB002ONSZPI\t25\nB003EWNXFU\t25\nB003DNSJPE\t25\nB00C87D0XM\t25\nB0041MY32Y\t25\nB003ELVLKU\t25\nB0058AH2US\t25\nB005IQRMN4\t25\nB000B60H0G\t25\nB000WYVBR0\t25\nB0054YF0C0\t24\nB001SER460\t24\nB005CI7V1Q\t24\nB002G1YPH0\t24\nB004M5H660\t24\nB002HOPUPC\t24\nB0002KVQBA\t24\nB005QCDY50\t24\nB0028Y4F4S\t24\nB00AO1XFM0\t24\nB0014KOB6Y\t24\nB002VX0GJY\t24\nB005G8CKEU\t24\nB0001BVXI6\t24\nB002MMY4WY\t24\nB000NSFLM6\t24\nB0036J1S1W\t24\nB000056SSM\t24\nB00029U1DK\t24\nB0064XAIZY\t24\nB003L62T7W\t24\nB000CH3IIW\t24\nB004MSI7UQ\t24\nB000WAT79S\t24\nB002VPE1WK\t24\nB000W9DJ1Q\t24\nB0018MCGVU\t24\nB004YW7WCY\t24\nB002W4RPD2\t24\nB00B5Q79D4\t24\n\n\u003cfont color\u003dred\u003eResults are limited by 1000.\u003c/font\u003e"
      },
      "dateCreated": "Jan 10, 2018 2:06:29 PM",
      "dateStarted": "Jan 10, 2018 2:09:32 PM",
      "dateFinished": "Jan 10, 2018 2:09:36 PM",
      "status": "FINISHED",
      "progressUpdateIntervalMs": 500
    },
    {
      "text": "import org.apache.spark.ml.feature._\nimport org.apache.spark.ml.Pipeline\nval regexTokenizer \u003d new RegexTokenizer()\n  .setInputCol(\"fullReview\")\n  .setOutputCol(\"regexOutput\")\n  .setPattern(\"\\\\W\")\n\nvar remover \u003d new StopWordsRemover()\n  .setInputCol(\"regexOutput\")\n  .setOutputCol(\"stopWordsOutput\")\n  \nvar stopWords \u003d Array(\"lens\",\"tv\",\"drive\",\"one\",\"case\",\"2\",\"video\",\"battery\",\"1\",\"screen\",\"unit\",\"camera\",\"usb\",\"3\",\"would\",\"also\",\"card\",\"sound\",\"use\") ++ remover.getStopWords\nremover \u003d remover.setStopWords(stopWords)\n    \n//val countTF \u003d new CountVectorizer()\n//    .setInputCol(\"stopWordsOutput\")\n//    .setOutputCol(\"countFeatures\")\n\n//combine bigram \u0026 unigram features into 1 vector    \n//val assembler \u003d new VectorAssembler()\n//    .setInputCols(Array(\"bigramFeatures\", \"unigramFeatures\"))\n//    .setOutputCol(\"allGramFeatures\")\n\nvar shortPipeline \u003d new Pipeline().setStages(Array(regexTokenizer,remover))",
      "user": "davidgillen@precocityllc.com",
      "dateUpdated": "Jan 9, 2018 2:21:54 PM",
      "config": {
        "colWidth": 12.0,
        "graph": {
          "mode": "table",
          "height": 300.0,
          "optionOpen": false,
          "keys": [],
          "values": [],
          "groups": [],
          "scatter": {}
        },
        "enabled": true,
        "editorMode": "ace/mode/scala"
      },
      "settings": {
        "params": {},
        "forms": {}
      },
      "paragraphProgress": {
        "jobs": [],
        "numCompletedTasks": 0,
        "numTasks": 0,
        "truncated": false
      },
      "jobName": "paragraph_1515015159027_1761950244",
      "id": "20180103-213239_1617981999_q_8YVGJMASEQ1515692831",
      "result": {
        "code": "SUCCESS",
        "type": "TEXT",
        "msg": "\nimport org.apache.spark.ml.feature._\n\nimport org.apache.spark.ml.Pipeline\n\nregexTokenizer: org.apache.spark.ml.feature.RegexTokenizer \u003d regexTok_8ec85ffc5f46\n\nremover: org.apache.spark.ml.feature.StopWordsRemover \u003d stopWords_c524d2ffb42a\nstopWords: Array[String] \u003d Array(lens, tv, drive, one, case, 2, video, battery, 1, screen, unit, camera, usb, 3, would, also, card, i, me, my, myself, we, our, ours, ourselves, you, your, yours, yourself, yourselves, he, him, his, himself, she, her, hers, herself, it, its, itself, they, them, their, theirs, themselves, what, which, who, whom, this, that, these, those, am, is, are, was, were, be, been, being, have, has, had, having, do, does, did, doing, a, an, the, and, but, if, or, because, as, until, while, of, at, by, for, with, about, against, between, into, through, during, before, after, above, below, to, from, up, down, in, out, on, off, over, under, again, further, then, once, here, there, when, where, why, how, all, any, both, each, few, more, most, other, some, such, no, nor, ...\nremover: org.apache.spark.ml.feature.StopWordsRemover \u003d stopWords_c524d2ffb42a\n\nshortPipeline: org.apache.spark.ml.Pipeline \u003d pipeline_9fc515150e3f\n"
      },
      "dateCreated": "Jan 3, 2018 9:32:39 PM",
      "dateStarted": "Jan 9, 2018 2:19:12 PM",
      "dateFinished": "Jan 9, 2018 2:19:14 PM",
      "status": "FINISHED",
      "progressUpdateIntervalMs": 500
    },
    {
      "text": "var model \u003d shortPipeline.fit(df)\ndf \u003d model.transform(df)\ndf.createOrReplaceTempView(\"reviews\")",
      "user": "davidgillen@precocityllc.com",
      "dateUpdated": "Jan 9, 2018 2:19:36 PM",
      "config": {
        "colWidth": 12.0,
        "graph": {
          "mode": "table",
          "height": 300.0,
          "optionOpen": false,
          "keys": [],
          "values": [],
          "groups": [],
          "scatter": {}
        },
        "enabled": true,
        "editorMode": "ace/mode/scala"
      },
      "settings": {
        "params": {},
        "forms": {}
      },
      "paragraphProgress": {
        "jobs": [],
        "numCompletedTasks": 0,
        "numTasks": 0,
        "truncated": false
      },
      "jobName": "paragraph_1515161013469_1641808152",
      "id": "20180105-140333_1212026308_q_8YVGJMASEQ1515692831",
      "result": {
        "code": "SUCCESS",
        "type": "TEXT",
        "msg": "\nmodel: org.apache.spark.ml.PipelineModel \u003d pipeline_9fc515150e3f\n\ndf: org.apache.spark.sql.DataFrame \u003d [asin: string, helpful: array\u003cbigint\u003e ... 15 more fields]\n"
      },
      "dateCreated": "Jan 5, 2018 2:03:33 PM",
      "dateStarted": "Jan 9, 2018 2:19:36 PM",
      "dateFinished": "Jan 9, 2018 2:19:38 PM",
      "status": "FINISHED",
      "progressUpdateIntervalMs": 500
    },
    {
      "text": "import scala.collection.mutable.WrappedArray\nval bigramTF \u003d new NGram().setN(2).setInputCol(\"stopWordsOutput\").setOutputCol(\"bigrams\")\nval bigramDf \u003d bigramTF.transform(df)\nval concat2ArraysUDF \u003d udf { (uni: WrappedArray[String],bi:WrappedArray[String]) \u003d\u003e uni ++ bi }\nvar newTF \u003d bigramDf.withColumn(\"uniAndBi\",concat2ArraysUDF(bigramDf(\"stopWordsOutput\"), bigramDf(\"bigrams\")))\nnewTF.createOrReplaceTempView(\"reviews\")",
      "user": "davidgillen@precocityllc.com",
      "dateUpdated": "Jan 9, 2018 2:06:51 PM",
      "config": {
        "colWidth": 12.0,
        "graph": {
          "mode": "table",
          "height": 300.0,
          "optionOpen": false,
          "keys": [],
          "values": [],
          "groups": [],
          "scatter": {}
        },
        "enabled": true,
        "editorMode": "ace/mode/scala"
      },
      "settings": {
        "params": {},
        "forms": {}
      },
      "paragraphProgress": {
        "jobs": [],
        "numCompletedTasks": 0,
        "numTasks": 0,
        "truncated": false
      },
      "jobName": "paragraph_1515474304288_-96858332",
      "id": "20180109-050504_778899753_q_8YVGJMASEQ1515692831",
      "result": {
        "code": "SUCCESS",
        "type": "TEXT",
        "msg": "\nimport scala.collection.mutable.WrappedArray\n\nbigramTF: org.apache.spark.ml.feature.NGram \u003d ngram_8464ba081af4\n\nbigramDf: org.apache.spark.sql.DataFrame \u003d [asin: string, helpful: array\u003cbigint\u003e ... 16 more fields]\n\nconcat2ArraysUDF: org.apache.spark.sql.expressions.UserDefinedFunction \u003d UserDefinedFunction(\u003cfunction2\u003e,ArrayType(StringType,true),Some(List(ArrayType(StringType,true), ArrayType(StringType,true))))\n\nnewTF: org.apache.spark.sql.DataFrame \u003d [asin: string, helpful: array\u003cbigint\u003e ... 17 more fields]\n"
      },
      "dateCreated": "Jan 9, 2018 5:05:04 AM",
      "dateStarted": "Jan 9, 2018 2:06:51 PM",
      "dateFinished": "Jan 9, 2018 2:06:53 PM",
      "status": "FINISHED",
      "progressUpdateIntervalMs": 500
    },
    {
      "text": "import org.apache.spark.ml.feature._\nimport org.apache.spark.ml.classification._\nval regexTokenizer \u003d new RegexTokenizer()\n  .setInputCol(\"fullReview\")\n  .setOutputCol(\"regexOutput\")\n  .setPattern(\"\\\\W\")\n\nvar remover \u003d new StopWordsRemover()\n  .setInputCol(\"regexOutput\")\n  .setOutputCol(\"stopWordsOutput\")\n  \nvar stopWords \u003d Array(\"lens\",\"tv\",\"drive\",\"one\",\"case\",\"2\",\"video\",\"battery\",\"1\",\"screen\",\"unit\",\"camera\",\"usb\",\"3\",\"would\",\"also\",\"card\",\"sound\",\"use\") ++ remover.getStopWords\nremover \u003d remover.setStopWords(stopWords)\n\nval bigram \u003d new NGram()\n    .setN(2)\n    .setInputCol(\"stopWordsOutput\")\n    .setOutputCol(\"bigrams\")\n    \nval biGramHasher \u003d new HashingTF()\n    .setInputCol(\"bigrams\")\n    .setOutputCol(\"bigramFeatures\")\n    .setNumFeatures(512)\n    \nval uniGramHasher \u003d new HashingTF()\n    .setInputCol(\"stopWordsOutput\")\n    .setOutputCol(\"unigramFeatures\")\n    .setNumFeatures(512)\n    \nvar uniGramCounter \u003d new CountVectorizer()\n    .setInputCol(\"stopWordsOutput\")\n    .setOutputCol(\"unigramFeatures\")\n    .setMinTF(1.0)\n    \nvar biGramCounter \u003d new CountVectorizer()\n    .setInputCol(\"bigrams\")\n    .setOutputCol(\"bigramsFeatures\")\n    .setMinTF(1.0)    \n    \n\nval assembler \u003d new VectorAssembler()\n    .setInputCols(Array(\"bigramFeatures\", \"unigramFeatures\"))\n    .setOutputCol(\"allGramFeatures\")\n\nval idf \u003d new IDF()\n    .setInputCol(\"allGramFeatures\")\n    .setOutputCol(\"features\")\n    \nvar word2vec \u003d new Word2Vec()\n    .setInputCol(\"stopWordsOutput\")\n    .setOutputCol(\"features\")\n    .setVectorSize(300)\n    .setMinCount(5)\n    .setNumPartitions(16)\n\nvar rf \u003d new RandomForestClassifier()\n\n//to train a lr model we need 2 columns \n//1. features column we just built using pipeline\n//2. label column which we built above\nvar lr \u003d new LogisticRegression()\n//var lr \u003d new LogisticRegression().setWeightCol(\"classWeightCol\")\n\n//var pipeline \u003d new Pipeline().setStages(Array(regexTokenizer,remover,bigram,biGramHasher,uniGramHasher,assembler,idf,lr))\nvar pipeline \u003d new Pipeline().setStages(Array(regexTokenizer,remover,word2vec,lr))",
      "user": "davidgillen@precocityllc.com",
      "dateUpdated": "Jan 10, 2018 2:20:28 AM",
      "config": {
        "colWidth": 12.0,
        "graph": {
          "mode": "table",
          "height": 300.0,
          "optionOpen": false,
          "keys": [],
          "values": [],
          "groups": [],
          "scatter": {}
        },
        "enabled": true,
        "editorMode": "ace/mode/scala"
      },
      "settings": {
        "params": {},
        "forms": {}
      },
      "paragraphProgress": {
        "jobs": [],
        "numCompletedTasks": 0,
        "numTasks": 0,
        "truncated": false
      },
      "jobName": "paragraph_1515507493214_1704893637",
      "id": "20180109-141813_2142625319_q_8YVGJMASEQ1515692831",
      "result": {
        "code": "SUCCESS",
        "type": "TEXT",
        "msg": "\nimport org.apache.spark.ml.feature._\n\nimport org.apache.spark.ml.classification._\n\nregexTokenizer: org.apache.spark.ml.feature.RegexTokenizer \u003d regexTok_880869bae448\n\nremover: org.apache.spark.ml.feature.StopWordsRemover \u003d stopWords_22558903f8bb\nstopWords: Array[String] \u003d Array(lens, tv, drive, one, case, 2, video, battery, 1, screen, unit, camera, usb, 3, would, also, card, sound, use, i, me, my, myself, we, our, ours, ourselves, you, your, yours, yourself, yourselves, he, him, his, himself, she, her, hers, herself, it, its, itself, they, them, their, theirs, themselves, what, which, who, whom, this, that, these, those, am, is, are, was, were, be, been, being, have, has, had, having, do, does, did, doing, a, an, the, and, but, if, or, because, as, until, while, of, at, by, for, with, about, against, between, into, through, during, before, after, above, below, to, from, up, down, in, out, on, off, over, under, again, further, then, once, here, there, when, where, why, how, all, any, both, each, few, more, most, other, some, suc...\nremover: org.apache.spark.ml.feature.StopWordsRemover \u003d stopWords_22558903f8bb\n\nbigram: org.apache.spark.ml.feature.NGram \u003d ngram_d341ef47c5db\n\nbiGramHasher: org.apache.spark.ml.feature.HashingTF \u003d hashingTF_a0182a66db11\n\nuniGramHasher: org.apache.spark.ml.feature.HashingTF \u003d hashingTF_3c57be7fa0ae\n\nuniGramCounter: org.apache.spark.ml.feature.CountVectorizer \u003d cntVec_914c7a2b9df1\n\nbiGramCounter: org.apache.spark.ml.feature.CountVectorizer \u003d cntVec_931218041a0f\n\nassembler: org.apache.spark.ml.feature.VectorAssembler \u003d vecAssembler_a2ef19df4fc9\n\nidf: org.apache.spark.ml.feature.IDF \u003d idf_bc53d1897374\n\nword2vec: org.apache.spark.ml.feature.Word2Vec \u003d w2v_660d9a4579d8\n\nrf: org.apache.spark.ml.classification.RandomForestClassifier \u003d rfc_294ccb96b100\n\nlr: org.apache.spark.ml.classification.LogisticRegression \u003d logreg_30823d9a1fba\n\npipeline: org.apache.spark.ml.Pipeline \u003d pipeline_ea0a19962633\n"
      },
      "dateCreated": "Jan 9, 2018 2:18:13 PM",
      "dateStarted": "Jan 10, 2018 2:20:28 AM",
      "dateFinished": "Jan 10, 2018 2:20:35 AM",
      "status": "FINISHED",
      "progressUpdateIntervalMs": 500
    },
    {
      "text": "def balanceDataset(df: DataFrame): DataFrame \u003d {\n\n    // Re-balancing (weighting) of records to be used in the logistic loss objective function\n    val numNegatives \u003d df.filter(\"label \u003d\u003d 0\").count\n    val datasetSize \u003d df.count\n    val balancingRatio \u003d (datasetSize - numNegatives).toDouble / datasetSize\n\n    val calculateWeights \u003d udf { d: Double \u003d\u003e\n      if (d \u003d\u003d 0.0) {\n        1 * balancingRatio\n      }\n      else {\n        (1 * (1.0 - balancingRatio))\n      }\n    }\n\n    val weightedDataset \u003d df.withColumn(\"classWeightCol\", calculateWeights(df(\"label\")))\n    weightedDataset\n  }",
      "user": "davidgillen@precocityllc.com",
      "dateUpdated": "Jan 9, 2018 7:53:06 PM",
      "config": {
        "colWidth": 12.0,
        "graph": {
          "mode": "table",
          "height": 300.0,
          "optionOpen": false,
          "keys": [],
          "values": [],
          "groups": [],
          "scatter": {}
        },
        "enabled": true,
        "editorMode": "ace/mode/scala"
      },
      "settings": {
        "params": {},
        "forms": {}
      },
      "paragraphProgress": {
        "jobs": [],
        "numCompletedTasks": 0,
        "numTasks": 0,
        "truncated": false
      },
      "jobName": "paragraph_1515527584319_-880259333",
      "id": "20180109-195304_1305074845_q_8YVGJMASEQ1515692831",
      "result": {
        "code": "SUCCESS",
        "type": "TEXT",
        "msg": "\nbalanceDataset: (df: org.apache.spark.sql.DataFrame)org.apache.spark.sql.DataFrame\n"
      },
      "dateCreated": "Jan 9, 2018 7:53:04 PM",
      "dateStarted": "Jan 9, 2018 7:53:06 PM",
      "dateFinished": "Jan 9, 2018 7:53:06 PM",
      "status": "FINISHED",
      "progressUpdateIntervalMs": 500
    },
    {
      "text": "var bdf \u003d balanceDataset(df)\n//val labeledSplits \u003d df.randomSplit(Array(0.8, 0.2), seed \u003d 11L)\nval labeledSplits \u003d df.randomSplit(Array(0.8, 0.2), seed \u003d 11L)\nval labeledTrain \u003d labeledSplits(0).cache()\nval labeledTest \u003d labeledSplits(1)",
      "user": "davidgillen@precocityllc.com",
      "dateUpdated": "Jan 10, 2018 2:18:38 AM",
      "config": {
        "colWidth": 12.0,
        "graph": {
          "mode": "table",
          "height": 300.0,
          "optionOpen": false,
          "keys": [],
          "values": [],
          "groups": [],
          "scatter": {}
        },
        "enabled": true,
        "editorMode": "ace/mode/scala"
      },
      "settings": {
        "params": {},
        "forms": {}
      },
      "paragraphProgress": {
        "jobs": [],
        "numCompletedTasks": 0,
        "numTasks": 0,
        "truncated": false
      },
      "jobName": "paragraph_1515516206482_1499664224",
      "id": "20180109-164326_1852785302_q_8YVGJMASEQ1515692831",
      "result": {
        "code": "ERROR",
        "type": "TEXT",
        "msg": "\n\n\n\n\n\n\n\n\n\n\n\n\n\n\n\n\n\n\n\n\n\n\n\n\n\n\n\n\n\n\n\n\n\n\n\n\n\n\n\n\n\n\n\n\n\n\n\n\n\norg.apache.spark.sql.AnalysisException: Reference \u0027label\u0027 is ambiguous, could be: label#91, label#28896.; line 1 pos 0\n  at org.apache.spark.sql.catalyst.plans.logical.LogicalPlan.resolve(LogicalPlan.scala:264)\n  at org.apache.spark.sql.catalyst.plans.logical.LogicalPlan.resolveChildren(LogicalPlan.scala:148)\n  at org.apache.spark.sql.catalyst.analysis.Analyzer$ResolveReferences$$anonfun$apply$10$$anonfun$applyOrElse$5$$anonfun$34.apply(Analyzer.scala:661)\n  at org.apache.spark.sql.catalyst.analysis.Analyzer$ResolveReferences$$anonfun$apply$10$$anonfun$applyOrElse$5$$anonfun$34.apply(Analyzer.scala:661)\n  at org.apache.spark.sql.catalyst.analysis.package$.withPosition(package.scala:48)\n  at org.apache.spark.sql.catalyst.analysis.Analyzer$ResolveReferences$$anonfun$apply$10$$anonfun$applyOrElse$5.applyOrElse(Analyzer.scala:661)\n  at org.apache.spark.sql.catalyst.analysis.Analyzer$ResolveReferences$$anonfun$apply$10$$anonfun$applyOrElse$5.applyOrElse(Analyzer.scala:657)\n  at org.apache.spark.sql.catalyst.trees.TreeNode$$anonfun$transformUp$1.apply(TreeNode.scala:310)\n  at org.apache.spark.sql.catalyst.trees.TreeNode$$anonfun$transformUp$1.apply(TreeNode.scala:310)\n  at org.apache.spark.sql.catalyst.trees.CurrentOrigin$.withOrigin(TreeNode.scala:70)\n  at org.apache.spark.sql.catalyst.trees.TreeNode.transformUp(TreeNode.scala:309)\n  at org.apache.spark.sql.catalyst.trees.TreeNode$$anonfun$4.apply(TreeNode.scala:307)\n  at org.apache.spark.sql.catalyst.trees.TreeNode$$anonfun$4.apply(TreeNode.scala:307)\n  at org.apache.spark.sql.catalyst.trees.TreeNode$$anonfun$5.apply(TreeNode.scala:331)\n  at org.apache.spark.sql.catalyst.trees.TreeNode.mapProductIterator(TreeNode.scala:188)\n  at org.apache.spark.sql.catalyst.trees.TreeNode.transformChildren(TreeNode.scala:329)\n  at org.apache.spark.sql.catalyst.trees.TreeNode.transformUp(TreeNode.scala:307)\n  at org.apache.spark.sql.catalyst.plans.QueryPlan.transformExpressionUp$1(QueryPlan.scala:282)\n  at org.apache.spark.sql.catalyst.plans.QueryPlan.org$apache$spark$sql$catalyst$plans$QueryPlan$$recursiveTransform$2(QueryPlan.scala:292)\n  at org.apache.spark.sql.catalyst.plans.QueryPlan$$anonfun$7.apply(QueryPlan.scala:301)\n  at org.apache.spark.sql.catalyst.trees.TreeNode.mapProductIterator(TreeNode.scala:188)\n  at org.apache.spark.sql.catalyst.plans.QueryPlan.transformExpressionsUp(QueryPlan.scala:301)\n  at org.apache.spark.sql.catalyst.analysis.Analyzer$ResolveReferences$$anonfun$apply$10.applyOrElse(Analyzer.scala:657)\n  at org.apache.spark.sql.catalyst.analysis.Analyzer$ResolveReferences$$anonfun$apply$10.applyOrElse(Analyzer.scala:599)\n  at org.apache.spark.sql.catalyst.plans.logical.LogicalPlan$$anonfun$resolveOperators$1.apply(LogicalPlan.scala:61)\n  at org.apache.spark.sql.catalyst.plans.logical.LogicalPlan$$anonfun$resolveOperators$1.apply(LogicalPlan.scala:61)\n  at org.apache.spark.sql.catalyst.trees.CurrentOrigin$.withOrigin(TreeNode.scala:70)\n  at org.apache.spark.sql.catalyst.plans.logical.LogicalPlan.resolveOperators(LogicalPlan.scala:60)\n  at org.apache.spark.sql.catalyst.analysis.Analyzer$ResolveReferences$.apply(Analyzer.scala:599)\n  at org.apache.spark.sql.catalyst.analysis.Analyzer$ResolveReferences$.apply(Analyzer.scala:536)\n  at org.apache.spark.sql.catalyst.rules.RuleExecutor$$anonfun$execute$1$$anonfun$apply$1.apply(RuleExecutor.scala:85)\n  at org.apache.spark.sql.catalyst.rules.RuleExecutor$$anonfun$execute$1$$anonfun$apply$1.apply(RuleExecutor.scala:82)\n  at scala.collection.LinearSeqOptimized$class.foldLeft(LinearSeqOptimized.scala:124)\n  at scala.collection.immutable.List.foldLeft(List.scala:84)\n  at org.apache.spark.sql.catalyst.rules.RuleExecutor$$anonfun$execute$1.apply(RuleExecutor.scala:82)\n  at org.apache.spark.sql.catalyst.rules.RuleExecutor$$anonfun$execute$1.apply(RuleExecutor.scala:74)\n  at scala.collection.immutable.List.foreach(List.scala:381)\n  at org.apache.spark.sql.catalyst.rules.RuleExecutor.execute(RuleExecutor.scala:74)\n  at org.apache.spark.sql.execution.QueryExecution.analyzed$lzycompute(QueryExecution.scala:64)\n  at org.apache.spark.sql.execution.QueryExecution.analyzed(QueryExecution.scala:62)\n  at org.apache.spark.sql.execution.QueryExecution.assertAnalyzed(QueryExecution.scala:50)\n  at org.apache.spark.sql.Dataset.\u003cinit\u003e(Dataset.scala:161)\n  at org.apache.spark.sql.Dataset.\u003cinit\u003e(Dataset.scala:167)\n  at org.apache.spark.sql.Dataset$.apply(Dataset.scala:58)\n  at org.apache.spark.sql.Dataset.withTypedPlan(Dataset.scala:2827)\n  at org.apache.spark.sql.Dataset.filter(Dataset.scala:1272)\n  at org.apache.spark.sql.Dataset.filter(Dataset.scala:1286)\n  at balanceDataset(\u003cconsole\u003e:65)\n  ... 96 elided\n"
      },
      "dateCreated": "Jan 9, 2018 4:43:26 PM",
      "dateStarted": "Jan 10, 2018 2:18:39 AM",
      "dateFinished": "Jan 10, 2018 2:18:39 AM",
      "status": "ERROR",
      "progressUpdateIntervalMs": 500
    },
    {
      "text": "var evaluator \u003d new BinaryClassificationEvaluator()\nval paramGrid \u003d new ParamGridBuilder()\n             .addGrid(lr.regParam, Array(0.01, 0.1))\n             .build()\nval cv \u003d new CrossValidator()\n  .setEstimator(pipeline)\n  .setEvaluator(evaluator)\n  .setEstimatorParamMaps(paramGrid)\n  .setNumFolds(3)  // Use 3+ in practice\nval cvModel \u003d cv.fit(labeledTrain)\nvar predictions \u003d cvModel.transform(labeledTest)\nevaluator.evaluate(predictions)",
      "user": "davidgillen@precocityllc.com",
      "dateUpdated": "Jan 10, 2018 2:20:48 AM",
      "config": {
        "colWidth": 12.0,
        "graph": {
          "mode": "table",
          "height": 300.0,
          "optionOpen": false,
          "keys": [],
          "values": [],
          "groups": [],
          "scatter": {}
        },
        "enabled": true,
        "editorMode": "ace/mode/scala"
      },
      "settings": {
        "params": {},
        "forms": {}
      },
      "paragraphProgress": {
        "jobs": [
          {
            "id": 2609,
            "jobUrl": "https://azure.qubole.com/cluster-proxy?encodedUrl\u003dhttp%3A%2F%2F10.0.0.4%3A8088%2Fproxy%2Fapplication_1515502980890_0003/jobs/job?spark\u003dtrue\u0026id\u003d2609",
            "numTasks": 24,
            "numCompletedTasks": 24,
            "stages": [
              {
                "id": 5311,
                "completed": true,
                "stageUrl": "https://azure.qubole.com/cluster-proxy?encodedUrl\u003dhttp%3A%2F%2F10.0.0.4%3A8088%2Fproxy%2Fapplication_1515502980890_0003/stages/stage/?id\u003d5311\u0026attempt\u003d0",
                "numCompleteTasks": 20,
                "numActiveTasks": 0,
                "numFailedTasks": 0,
                "numTotalTasks": 20
              },
              {
                "id": 5312,
                "completed": true,
                "stageUrl": "https://azure.qubole.com/cluster-proxy?encodedUrl\u003dhttp%3A%2F%2F10.0.0.4%3A8088%2Fproxy%2Fapplication_1515502980890_0003/stages/stage/?id\u003d5312\u0026attempt\u003d0",
                "numCompleteTasks": 4,
                "numActiveTasks": 0,
                "numFailedTasks": 0,
                "numTotalTasks": 4
              }
            ],
            "status": "Success"
          },
          {
            "id": 2610,
            "jobUrl": "https://azure.qubole.com/cluster-proxy?encodedUrl\u003dhttp%3A%2F%2F10.0.0.4%3A8088%2Fproxy%2Fapplication_1515502980890_0003/jobs/job?spark\u003dtrue\u0026id\u003d2610",
            "numTasks": 24,
            "numCompletedTasks": 24,
            "stages": [
              {
                "id": 5313,
                "completed": true,
                "stageUrl": "https://azure.qubole.com/cluster-proxy?encodedUrl\u003dhttp%3A%2F%2F10.0.0.4%3A8088%2Fproxy%2Fapplication_1515502980890_0003/stages/stage/?id\u003d5313\u0026attempt\u003d0",
                "numCompleteTasks": 20,
                "numActiveTasks": 0,
                "numFailedTasks": 0,
                "numTotalTasks": 20
              },
              {
                "id": 5314,
                "completed": true,
                "stageUrl": "https://azure.qubole.com/cluster-proxy?encodedUrl\u003dhttp%3A%2F%2F10.0.0.4%3A8088%2Fproxy%2Fapplication_1515502980890_0003/stages/stage/?id\u003d5314\u0026attempt\u003d0",
                "numCompleteTasks": 4,
                "numActiveTasks": 0,
                "numFailedTasks": 0,
                "numTotalTasks": 4
              }
            ],
            "status": "Success"
          },
          {
            "id": 2611,
            "jobUrl": "https://azure.qubole.com/cluster-proxy?encodedUrl\u003dhttp%3A%2F%2F10.0.0.4%3A8088%2Fproxy%2Fapplication_1515502980890_0003/jobs/job?spark\u003dtrue\u0026id\u003d2611",
            "numTasks": 24,
            "numCompletedTasks": 24,
            "stages": [
              {
                "id": 5315,
                "completed": true,
                "stageUrl": "https://azure.qubole.com/cluster-proxy?encodedUrl\u003dhttp%3A%2F%2F10.0.0.4%3A8088%2Fproxy%2Fapplication_1515502980890_0003/stages/stage/?id\u003d5315\u0026attempt\u003d0",
                "numCompleteTasks": 20,
                "numActiveTasks": 0,
                "numFailedTasks": 0,
                "numTotalTasks": 20
              },
              {
                "id": 5316,
                "completed": true,
                "stageUrl": "https://azure.qubole.com/cluster-proxy?encodedUrl\u003dhttp%3A%2F%2F10.0.0.4%3A8088%2Fproxy%2Fapplication_1515502980890_0003/stages/stage/?id\u003d5316\u0026attempt\u003d0",
                "numCompleteTasks": 4,
                "numActiveTasks": 0,
                "numFailedTasks": 0,
                "numTotalTasks": 4
              }
            ],
            "status": "Success"
          },
          {
            "id": 2612,
            "jobUrl": "https://azure.qubole.com/cluster-proxy?encodedUrl\u003dhttp%3A%2F%2F10.0.0.4%3A8088%2Fproxy%2Fapplication_1515502980890_0003/jobs/job?spark\u003dtrue\u0026id\u003d2612",
            "numTasks": 24,
            "numCompletedTasks": 24,
            "stages": [
              {
                "id": 5318,
                "completed": true,
                "stageUrl": "https://azure.qubole.com/cluster-proxy?encodedUrl\u003dhttp%3A%2F%2F10.0.0.4%3A8088%2Fproxy%2Fapplication_1515502980890_0003/stages/stage/?id\u003d5318\u0026attempt\u003d0",
                "numCompleteTasks": 4,
                "numActiveTasks": 0,
                "numFailedTasks": 0,
                "numTotalTasks": 4
              },
              {
                "id": 5317,
                "completed": true,
                "stageUrl": "https://azure.qubole.com/cluster-proxy?encodedUrl\u003dhttp%3A%2F%2F10.0.0.4%3A8088%2Fproxy%2Fapplication_1515502980890_0003/stages/stage/?id\u003d5317\u0026attempt\u003d0",
                "numCompleteTasks": 20,
                "numActiveTasks": 0,
                "numFailedTasks": 0,
                "numTotalTasks": 20
              }
            ],
            "status": "Success"
          },
          {
            "id": 2613,
            "jobUrl": "https://azure.qubole.com/cluster-proxy?encodedUrl\u003dhttp%3A%2F%2F10.0.0.4%3A8088%2Fproxy%2Fapplication_1515502980890_0003/jobs/job?spark\u003dtrue\u0026id\u003d2613",
            "numTasks": 24,
            "numCompletedTasks": 24,
            "stages": [
              {
                "id": 5319,
                "completed": true,
                "stageUrl": "https://azure.qubole.com/cluster-proxy?encodedUrl\u003dhttp%3A%2F%2F10.0.0.4%3A8088%2Fproxy%2Fapplication_1515502980890_0003/stages/stage/?id\u003d5319\u0026attempt\u003d0",
                "numCompleteTasks": 20,
                "numActiveTasks": 0,
                "numFailedTasks": 0,
                "numTotalTasks": 20
              },
              {
                "id": 5320,
                "completed": true,
                "stageUrl": "https://azure.qubole.com/cluster-proxy?encodedUrl\u003dhttp%3A%2F%2F10.0.0.4%3A8088%2Fproxy%2Fapplication_1515502980890_0003/stages/stage/?id\u003d5320\u0026attempt\u003d0",
                "numCompleteTasks": 4,
                "numActiveTasks": 0,
                "numFailedTasks": 0,
                "numTotalTasks": 4
              }
            ],
            "status": "Success"
          },
          {
            "id": 2614,
            "jobUrl": "https://azure.qubole.com/cluster-proxy?encodedUrl\u003dhttp%3A%2F%2F10.0.0.4%3A8088%2Fproxy%2Fapplication_1515502980890_0003/jobs/job?spark\u003dtrue\u0026id\u003d2614",
            "numTasks": 24,
            "numCompletedTasks": 24,
            "stages": [
              {
                "id": 5321,
                "completed": true,
                "stageUrl": "https://azure.qubole.com/cluster-proxy?encodedUrl\u003dhttp%3A%2F%2F10.0.0.4%3A8088%2Fproxy%2Fapplication_1515502980890_0003/stages/stage/?id\u003d5321\u0026attempt\u003d0",
                "numCompleteTasks": 20,
                "numActiveTasks": 0,
                "numFailedTasks": 0,
                "numTotalTasks": 20
              },
              {
                "id": 5322,
                "completed": true,
                "stageUrl": "https://azure.qubole.com/cluster-proxy?encodedUrl\u003dhttp%3A%2F%2F10.0.0.4%3A8088%2Fproxy%2Fapplication_1515502980890_0003/stages/stage/?id\u003d5322\u0026attempt\u003d0",
                "numCompleteTasks": 4,
                "numActiveTasks": 0,
                "numFailedTasks": 0,
                "numTotalTasks": 4
              }
            ],
            "status": "Success"
          },
          {
            "id": 2615,
            "jobUrl": "https://azure.qubole.com/cluster-proxy?encodedUrl\u003dhttp%3A%2F%2F10.0.0.4%3A8088%2Fproxy%2Fapplication_1515502980890_0003/jobs/job?spark\u003dtrue\u0026id\u003d2615",
            "numTasks": 24,
            "numCompletedTasks": 24,
            "stages": [
              {
                "id": 5323,
                "completed": true,
                "stageUrl": "https://azure.qubole.com/cluster-proxy?encodedUrl\u003dhttp%3A%2F%2F10.0.0.4%3A8088%2Fproxy%2Fapplication_1515502980890_0003/stages/stage/?id\u003d5323\u0026attempt\u003d0",
                "numCompleteTasks": 20,
                "numActiveTasks": 0,
                "numFailedTasks": 0,
                "numTotalTasks": 20
              },
              {
                "id": 5324,
                "completed": true,
                "stageUrl": "https://azure.qubole.com/cluster-proxy?encodedUrl\u003dhttp%3A%2F%2F10.0.0.4%3A8088%2Fproxy%2Fapplication_1515502980890_0003/stages/stage/?id\u003d5324\u0026attempt\u003d0",
                "numCompleteTasks": 4,
                "numActiveTasks": 0,
                "numFailedTasks": 0,
                "numTotalTasks": 4
              }
            ],
            "status": "Success"
          },
          {
            "id": 2616,
            "jobUrl": "https://azure.qubole.com/cluster-proxy?encodedUrl\u003dhttp%3A%2F%2F10.0.0.4%3A8088%2Fproxy%2Fapplication_1515502980890_0003/jobs/job?spark\u003dtrue\u0026id\u003d2616",
            "numTasks": 24,
            "numCompletedTasks": 24,
            "stages": [
              {
                "id": 5326,
                "completed": true,
                "stageUrl": "https://azure.qubole.com/cluster-proxy?encodedUrl\u003dhttp%3A%2F%2F10.0.0.4%3A8088%2Fproxy%2Fapplication_1515502980890_0003/stages/stage/?id\u003d5326\u0026attempt\u003d0",
                "numCompleteTasks": 4,
                "numActiveTasks": 0,
                "numFailedTasks": 0,
                "numTotalTasks": 4
              },
              {
                "id": 5325,
                "completed": true,
                "stageUrl": "https://azure.qubole.com/cluster-proxy?encodedUrl\u003dhttp%3A%2F%2F10.0.0.4%3A8088%2Fproxy%2Fapplication_1515502980890_0003/stages/stage/?id\u003d5325\u0026attempt\u003d0",
                "numCompleteTasks": 20,
                "numActiveTasks": 0,
                "numFailedTasks": 0,
                "numTotalTasks": 20
              }
            ],
            "status": "Success"
          },
          {
            "id": 2617,
            "jobUrl": "https://azure.qubole.com/cluster-proxy?encodedUrl\u003dhttp%3A%2F%2F10.0.0.4%3A8088%2Fproxy%2Fapplication_1515502980890_0003/jobs/job?spark\u003dtrue\u0026id\u003d2617",
            "numTasks": 24,
            "numCompletedTasks": 24,
            "stages": [
              {
                "id": 5327,
                "completed": true,
                "stageUrl": "https://azure.qubole.com/cluster-proxy?encodedUrl\u003dhttp%3A%2F%2F10.0.0.4%3A8088%2Fproxy%2Fapplication_1515502980890_0003/stages/stage/?id\u003d5327\u0026attempt\u003d0",
                "numCompleteTasks": 20,
                "numActiveTasks": 0,
                "numFailedTasks": 0,
                "numTotalTasks": 20
              },
              {
                "id": 5328,
                "completed": true,
                "stageUrl": "https://azure.qubole.com/cluster-proxy?encodedUrl\u003dhttp%3A%2F%2F10.0.0.4%3A8088%2Fproxy%2Fapplication_1515502980890_0003/stages/stage/?id\u003d5328\u0026attempt\u003d0",
                "numCompleteTasks": 4,
                "numActiveTasks": 0,
                "numFailedTasks": 0,
                "numTotalTasks": 4
              }
            ],
            "status": "Success"
          },
          {
            "id": 2618,
            "jobUrl": "https://azure.qubole.com/cluster-proxy?encodedUrl\u003dhttp%3A%2F%2F10.0.0.4%3A8088%2Fproxy%2Fapplication_1515502980890_0003/jobs/job?spark\u003dtrue\u0026id\u003d2618",
            "numTasks": 24,
            "numCompletedTasks": 24,
            "stages": [
              {
                "id": 5329,
                "completed": true,
                "stageUrl": "https://azure.qubole.com/cluster-proxy?encodedUrl\u003dhttp%3A%2F%2F10.0.0.4%3A8088%2Fproxy%2Fapplication_1515502980890_0003/stages/stage/?id\u003d5329\u0026attempt\u003d0",
                "numCompleteTasks": 20,
                "numActiveTasks": 0,
                "numFailedTasks": 0,
                "numTotalTasks": 20
              },
              {
                "id": 5330,
                "completed": true,
                "stageUrl": "https://azure.qubole.com/cluster-proxy?encodedUrl\u003dhttp%3A%2F%2F10.0.0.4%3A8088%2Fproxy%2Fapplication_1515502980890_0003/stages/stage/?id\u003d5330\u0026attempt\u003d0",
                "numCompleteTasks": 4,
                "numActiveTasks": 0,
                "numFailedTasks": 0,
                "numTotalTasks": 4
              }
            ],
            "status": "Success"
          },
          {
            "id": 2619,
            "jobUrl": "https://azure.qubole.com/cluster-proxy?encodedUrl\u003dhttp%3A%2F%2F10.0.0.4%3A8088%2Fproxy%2Fapplication_1515502980890_0003/jobs/job?spark\u003dtrue\u0026id\u003d2619",
            "numTasks": 24,
            "numCompletedTasks": 24,
            "stages": [
              {
                "id": 5331,
                "completed": true,
                "stageUrl": "https://azure.qubole.com/cluster-proxy?encodedUrl\u003dhttp%3A%2F%2F10.0.0.4%3A8088%2Fproxy%2Fapplication_1515502980890_0003/stages/stage/?id\u003d5331\u0026attempt\u003d0",
                "numCompleteTasks": 20,
                "numActiveTasks": 0,
                "numFailedTasks": 0,
                "numTotalTasks": 20
              },
              {
                "id": 5332,
                "completed": true,
                "stageUrl": "https://azure.qubole.com/cluster-proxy?encodedUrl\u003dhttp%3A%2F%2F10.0.0.4%3A8088%2Fproxy%2Fapplication_1515502980890_0003/stages/stage/?id\u003d5332\u0026attempt\u003d0",
                "numCompleteTasks": 4,
                "numActiveTasks": 0,
                "numFailedTasks": 0,
                "numTotalTasks": 4
              }
            ],
            "status": "Success"
          },
          {
            "id": 2620,
            "jobUrl": "https://azure.qubole.com/cluster-proxy?encodedUrl\u003dhttp%3A%2F%2F10.0.0.4%3A8088%2Fproxy%2Fapplication_1515502980890_0003/jobs/job?spark\u003dtrue\u0026id\u003d2620",
            "numTasks": 24,
            "numCompletedTasks": 24,
            "stages": [
              {
                "id": 5333,
                "completed": true,
                "stageUrl": "https://azure.qubole.com/cluster-proxy?encodedUrl\u003dhttp%3A%2F%2F10.0.0.4%3A8088%2Fproxy%2Fapplication_1515502980890_0003/stages/stage/?id\u003d5333\u0026attempt\u003d0",
                "numCompleteTasks": 20,
                "numActiveTasks": 0,
                "numFailedTasks": 0,
                "numTotalTasks": 20
              },
              {
                "id": 5334,
                "completed": true,
                "stageUrl": "https://azure.qubole.com/cluster-proxy?encodedUrl\u003dhttp%3A%2F%2F10.0.0.4%3A8088%2Fproxy%2Fapplication_1515502980890_0003/stages/stage/?id\u003d5334\u0026attempt\u003d0",
                "numCompleteTasks": 4,
                "numActiveTasks": 0,
                "numFailedTasks": 0,
                "numTotalTasks": 4
              }
            ],
            "status": "Success"
          },
          {
            "id": 2621,
            "jobUrl": "https://azure.qubole.com/cluster-proxy?encodedUrl\u003dhttp%3A%2F%2F10.0.0.4%3A8088%2Fproxy%2Fapplication_1515502980890_0003/jobs/job?spark\u003dtrue\u0026id\u003d2621",
            "numTasks": 24,
            "numCompletedTasks": 24,
            "stages": [
              {
                "id": 5335,
                "completed": true,
                "stageUrl": "https://azure.qubole.com/cluster-proxy?encodedUrl\u003dhttp%3A%2F%2F10.0.0.4%3A8088%2Fproxy%2Fapplication_1515502980890_0003/stages/stage/?id\u003d5335\u0026attempt\u003d0",
                "numCompleteTasks": 20,
                "numActiveTasks": 0,
                "numFailedTasks": 0,
                "numTotalTasks": 20
              },
              {
                "id": 5336,
                "completed": true,
                "stageUrl": "https://azure.qubole.com/cluster-proxy?encodedUrl\u003dhttp%3A%2F%2F10.0.0.4%3A8088%2Fproxy%2Fapplication_1515502980890_0003/stages/stage/?id\u003d5336\u0026attempt\u003d0",
                "numCompleteTasks": 4,
                "numActiveTasks": 0,
                "numFailedTasks": 0,
                "numTotalTasks": 4
              }
            ],
            "status": "Success"
          },
          {
            "id": 2622,
            "jobUrl": "https://azure.qubole.com/cluster-proxy?encodedUrl\u003dhttp%3A%2F%2F10.0.0.4%3A8088%2Fproxy%2Fapplication_1515502980890_0003/jobs/job?spark\u003dtrue\u0026id\u003d2622",
            "numTasks": 24,
            "numCompletedTasks": 24,
            "stages": [
              {
                "id": 5337,
                "completed": true,
                "stageUrl": "https://azure.qubole.com/cluster-proxy?encodedUrl\u003dhttp%3A%2F%2F10.0.0.4%3A8088%2Fproxy%2Fapplication_1515502980890_0003/stages/stage/?id\u003d5337\u0026attempt\u003d0",
                "numCompleteTasks": 20,
                "numActiveTasks": 0,
                "numFailedTasks": 0,
                "numTotalTasks": 20
              },
              {
                "id": 5338,
                "completed": true,
                "stageUrl": "https://azure.qubole.com/cluster-proxy?encodedUrl\u003dhttp%3A%2F%2F10.0.0.4%3A8088%2Fproxy%2Fapplication_1515502980890_0003/stages/stage/?id\u003d5338\u0026attempt\u003d0",
                "numCompleteTasks": 4,
                "numActiveTasks": 0,
                "numFailedTasks": 0,
                "numTotalTasks": 4
              }
            ],
            "status": "Success"
          },
          {
            "id": 2623,
            "jobUrl": "https://azure.qubole.com/cluster-proxy?encodedUrl\u003dhttp%3A%2F%2F10.0.0.4%3A8088%2Fproxy%2Fapplication_1515502980890_0003/jobs/job?spark\u003dtrue\u0026id\u003d2623",
            "numTasks": 24,
            "numCompletedTasks": 24,
            "stages": [
              {
                "id": 5339,
                "completed": true,
                "stageUrl": "https://azure.qubole.com/cluster-proxy?encodedUrl\u003dhttp%3A%2F%2F10.0.0.4%3A8088%2Fproxy%2Fapplication_1515502980890_0003/stages/stage/?id\u003d5339\u0026attempt\u003d0",
                "numCompleteTasks": 20,
                "numActiveTasks": 0,
                "numFailedTasks": 0,
                "numTotalTasks": 20
              },
              {
                "id": 5340,
                "completed": true,
                "stageUrl": "https://azure.qubole.com/cluster-proxy?encodedUrl\u003dhttp%3A%2F%2F10.0.0.4%3A8088%2Fproxy%2Fapplication_1515502980890_0003/stages/stage/?id\u003d5340\u0026attempt\u003d0",
                "numCompleteTasks": 4,
                "numActiveTasks": 0,
                "numFailedTasks": 0,
                "numTotalTasks": 4
              }
            ],
            "status": "Success"
          },
          {
            "id": 2624,
            "jobUrl": "https://azure.qubole.com/cluster-proxy?encodedUrl\u003dhttp%3A%2F%2F10.0.0.4%3A8088%2Fproxy%2Fapplication_1515502980890_0003/jobs/job?spark\u003dtrue\u0026id\u003d2624",
            "numTasks": 24,
            "numCompletedTasks": 24,
            "stages": [
              {
                "id": 5341,
                "completed": true,
                "stageUrl": "https://azure.qubole.com/cluster-proxy?encodedUrl\u003dhttp%3A%2F%2F10.0.0.4%3A8088%2Fproxy%2Fapplication_1515502980890_0003/stages/stage/?id\u003d5341\u0026attempt\u003d0",
                "numCompleteTasks": 20,
                "numActiveTasks": 0,
                "numFailedTasks": 0,
                "numTotalTasks": 20
              },
              {
                "id": 5342,
                "completed": true,
                "stageUrl": "https://azure.qubole.com/cluster-proxy?encodedUrl\u003dhttp%3A%2F%2F10.0.0.4%3A8088%2Fproxy%2Fapplication_1515502980890_0003/stages/stage/?id\u003d5342\u0026attempt\u003d0",
                "numCompleteTasks": 4,
                "numActiveTasks": 0,
                "numFailedTasks": 0,
                "numTotalTasks": 4
              }
            ],
            "status": "Success"
          },
          {
            "id": 2625,
            "jobUrl": "https://azure.qubole.com/cluster-proxy?encodedUrl\u003dhttp%3A%2F%2F10.0.0.4%3A8088%2Fproxy%2Fapplication_1515502980890_0003/jobs/job?spark\u003dtrue\u0026id\u003d2625",
            "numTasks": 24,
            "numCompletedTasks": 24,
            "stages": [
              {
                "id": 5344,
                "completed": true,
                "stageUrl": "https://azure.qubole.com/cluster-proxy?encodedUrl\u003dhttp%3A%2F%2F10.0.0.4%3A8088%2Fproxy%2Fapplication_1515502980890_0003/stages/stage/?id\u003d5344\u0026attempt\u003d0",
                "numCompleteTasks": 4,
                "numActiveTasks": 0,
                "numFailedTasks": 0,
                "numTotalTasks": 4
              },
              {
                "id": 5343,
                "completed": true,
                "stageUrl": "https://azure.qubole.com/cluster-proxy?encodedUrl\u003dhttp%3A%2F%2F10.0.0.4%3A8088%2Fproxy%2Fapplication_1515502980890_0003/stages/stage/?id\u003d5343\u0026attempt\u003d0",
                "numCompleteTasks": 20,
                "numActiveTasks": 0,
                "numFailedTasks": 0,
                "numTotalTasks": 20
              }
            ],
            "status": "Success"
          },
          {
            "id": 2626,
            "jobUrl": "https://azure.qubole.com/cluster-proxy?encodedUrl\u003dhttp%3A%2F%2F10.0.0.4%3A8088%2Fproxy%2Fapplication_1515502980890_0003/jobs/job?spark\u003dtrue\u0026id\u003d2626",
            "numTasks": 24,
            "numCompletedTasks": 24,
            "stages": [
              {
                "id": 5345,
                "completed": true,
                "stageUrl": "https://azure.qubole.com/cluster-proxy?encodedUrl\u003dhttp%3A%2F%2F10.0.0.4%3A8088%2Fproxy%2Fapplication_1515502980890_0003/stages/stage/?id\u003d5345\u0026attempt\u003d0",
                "numCompleteTasks": 20,
                "numActiveTasks": 0,
                "numFailedTasks": 0,
                "numTotalTasks": 20
              },
              {
                "id": 5346,
                "completed": true,
                "stageUrl": "https://azure.qubole.com/cluster-proxy?encodedUrl\u003dhttp%3A%2F%2F10.0.0.4%3A8088%2Fproxy%2Fapplication_1515502980890_0003/stages/stage/?id\u003d5346\u0026attempt\u003d0",
                "numCompleteTasks": 4,
                "numActiveTasks": 0,
                "numFailedTasks": 0,
                "numTotalTasks": 4
              }
            ],
            "status": "Success"
          },
          {
            "id": 2627,
            "jobUrl": "https://azure.qubole.com/cluster-proxy?encodedUrl\u003dhttp%3A%2F%2F10.0.0.4%3A8088%2Fproxy%2Fapplication_1515502980890_0003/jobs/job?spark\u003dtrue\u0026id\u003d2627",
            "numTasks": 24,
            "numCompletedTasks": 24,
            "stages": [
              {
                "id": 5347,
                "completed": true,
                "stageUrl": "https://azure.qubole.com/cluster-proxy?encodedUrl\u003dhttp%3A%2F%2F10.0.0.4%3A8088%2Fproxy%2Fapplication_1515502980890_0003/stages/stage/?id\u003d5347\u0026attempt\u003d0",
                "numCompleteTasks": 20,
                "numActiveTasks": 0,
                "numFailedTasks": 0,
                "numTotalTasks": 20
              },
              {
                "id": 5348,
                "completed": true,
                "stageUrl": "https://azure.qubole.com/cluster-proxy?encodedUrl\u003dhttp%3A%2F%2F10.0.0.4%3A8088%2Fproxy%2Fapplication_1515502980890_0003/stages/stage/?id\u003d5348\u0026attempt\u003d0",
                "numCompleteTasks": 4,
                "numActiveTasks": 0,
                "numFailedTasks": 0,
                "numTotalTasks": 4
              }
            ],
            "status": "Success"
          },
          {
            "id": 2628,
            "jobUrl": "https://azure.qubole.com/cluster-proxy?encodedUrl\u003dhttp%3A%2F%2F10.0.0.4%3A8088%2Fproxy%2Fapplication_1515502980890_0003/jobs/job?spark\u003dtrue\u0026id\u003d2628",
            "numTasks": 24,
            "numCompletedTasks": 24,
            "stages": [
              {
                "id": 5349,
                "completed": true,
                "stageUrl": "https://azure.qubole.com/cluster-proxy?encodedUrl\u003dhttp%3A%2F%2F10.0.0.4%3A8088%2Fproxy%2Fapplication_1515502980890_0003/stages/stage/?id\u003d5349\u0026attempt\u003d0",
                "numCompleteTasks": 20,
                "numActiveTasks": 0,
                "numFailedTasks": 0,
                "numTotalTasks": 20
              },
              {
                "id": 5350,
                "completed": true,
                "stageUrl": "https://azure.qubole.com/cluster-proxy?encodedUrl\u003dhttp%3A%2F%2F10.0.0.4%3A8088%2Fproxy%2Fapplication_1515502980890_0003/stages/stage/?id\u003d5350\u0026attempt\u003d0",
                "numCompleteTasks": 4,
                "numActiveTasks": 0,
                "numFailedTasks": 0,
                "numTotalTasks": 4
              }
            ],
            "status": "Success"
          },
          {
            "id": 2629,
            "jobUrl": "https://azure.qubole.com/cluster-proxy?encodedUrl\u003dhttp%3A%2F%2F10.0.0.4%3A8088%2Fproxy%2Fapplication_1515502980890_0003/jobs/job?spark\u003dtrue\u0026id\u003d2629",
            "numTasks": 24,
            "numCompletedTasks": 24,
            "stages": [
              {
                "id": 5351,
                "completed": true,
                "stageUrl": "https://azure.qubole.com/cluster-proxy?encodedUrl\u003dhttp%3A%2F%2F10.0.0.4%3A8088%2Fproxy%2Fapplication_1515502980890_0003/stages/stage/?id\u003d5351\u0026attempt\u003d0",
                "numCompleteTasks": 20,
                "numActiveTasks": 0,
                "numFailedTasks": 0,
                "numTotalTasks": 20
              },
              {
                "id": 5352,
                "completed": true,
                "stageUrl": "https://azure.qubole.com/cluster-proxy?encodedUrl\u003dhttp%3A%2F%2F10.0.0.4%3A8088%2Fproxy%2Fapplication_1515502980890_0003/stages/stage/?id\u003d5352\u0026attempt\u003d0",
                "numCompleteTasks": 4,
                "numActiveTasks": 0,
                "numFailedTasks": 0,
                "numTotalTasks": 4
              }
            ],
            "status": "Success"
          },
          {
            "id": 2630,
            "jobUrl": "https://azure.qubole.com/cluster-proxy?encodedUrl\u003dhttp%3A%2F%2F10.0.0.4%3A8088%2Fproxy%2Fapplication_1515502980890_0003/jobs/job?spark\u003dtrue\u0026id\u003d2630",
            "numTasks": 24,
            "numCompletedTasks": 24,
            "stages": [
              {
                "id": 5353,
                "completed": true,
                "stageUrl": "https://azure.qubole.com/cluster-proxy?encodedUrl\u003dhttp%3A%2F%2F10.0.0.4%3A8088%2Fproxy%2Fapplication_1515502980890_0003/stages/stage/?id\u003d5353\u0026attempt\u003d0",
                "numCompleteTasks": 20,
                "numActiveTasks": 0,
                "numFailedTasks": 0,
                "numTotalTasks": 20
              },
              {
                "id": 5354,
                "completed": true,
                "stageUrl": "https://azure.qubole.com/cluster-proxy?encodedUrl\u003dhttp%3A%2F%2F10.0.0.4%3A8088%2Fproxy%2Fapplication_1515502980890_0003/stages/stage/?id\u003d5354\u0026attempt\u003d0",
                "numCompleteTasks": 4,
                "numActiveTasks": 0,
                "numFailedTasks": 0,
                "numTotalTasks": 4
              }
            ],
            "status": "Success"
          },
          {
            "id": 2631,
            "jobUrl": "https://azure.qubole.com/cluster-proxy?encodedUrl\u003dhttp%3A%2F%2F10.0.0.4%3A8088%2Fproxy%2Fapplication_1515502980890_0003/jobs/job?spark\u003dtrue\u0026id\u003d2631",
            "numTasks": 24,
            "numCompletedTasks": 24,
            "stages": [
              {
                "id": 5355,
                "completed": true,
                "stageUrl": "https://azure.qubole.com/cluster-proxy?encodedUrl\u003dhttp%3A%2F%2F10.0.0.4%3A8088%2Fproxy%2Fapplication_1515502980890_0003/stages/stage/?id\u003d5355\u0026attempt\u003d0",
                "numCompleteTasks": 20,
                "numActiveTasks": 0,
                "numFailedTasks": 0,
                "numTotalTasks": 20
              },
              {
                "id": 5356,
                "completed": true,
                "stageUrl": "https://azure.qubole.com/cluster-proxy?encodedUrl\u003dhttp%3A%2F%2F10.0.0.4%3A8088%2Fproxy%2Fapplication_1515502980890_0003/stages/stage/?id\u003d5356\u0026attempt\u003d0",
                "numCompleteTasks": 4,
                "numActiveTasks": 0,
                "numFailedTasks": 0,
                "numTotalTasks": 4
              }
            ],
            "status": "Success"
          },
          {
            "id": 2632,
            "jobUrl": "https://azure.qubole.com/cluster-proxy?encodedUrl\u003dhttp%3A%2F%2F10.0.0.4%3A8088%2Fproxy%2Fapplication_1515502980890_0003/jobs/job?spark\u003dtrue\u0026id\u003d2632",
            "numTasks": 24,
            "numCompletedTasks": 24,
            "stages": [
              {
                "id": 5357,
                "completed": true,
                "stageUrl": "https://azure.qubole.com/cluster-proxy?encodedUrl\u003dhttp%3A%2F%2F10.0.0.4%3A8088%2Fproxy%2Fapplication_1515502980890_0003/stages/stage/?id\u003d5357\u0026attempt\u003d0",
                "numCompleteTasks": 20,
                "numActiveTasks": 0,
                "numFailedTasks": 0,
                "numTotalTasks": 20
              },
              {
                "id": 5358,
                "completed": true,
                "stageUrl": "https://azure.qubole.com/cluster-proxy?encodedUrl\u003dhttp%3A%2F%2F10.0.0.4%3A8088%2Fproxy%2Fapplication_1515502980890_0003/stages/stage/?id\u003d5358\u0026attempt\u003d0",
                "numCompleteTasks": 4,
                "numActiveTasks": 0,
                "numFailedTasks": 0,
                "numTotalTasks": 4
              }
            ],
            "status": "Success"
          },
          {
            "id": 2633,
            "jobUrl": "https://azure.qubole.com/cluster-proxy?encodedUrl\u003dhttp%3A%2F%2F10.0.0.4%3A8088%2Fproxy%2Fapplication_1515502980890_0003/jobs/job?spark\u003dtrue\u0026id\u003d2633",
            "numTasks": 24,
            "numCompletedTasks": 24,
            "stages": [
              {
                "id": 5359,
                "completed": true,
                "stageUrl": "https://azure.qubole.com/cluster-proxy?encodedUrl\u003dhttp%3A%2F%2F10.0.0.4%3A8088%2Fproxy%2Fapplication_1515502980890_0003/stages/stage/?id\u003d5359\u0026attempt\u003d0",
                "numCompleteTasks": 20,
                "numActiveTasks": 0,
                "numFailedTasks": 0,
                "numTotalTasks": 20
              },
              {
                "id": 5360,
                "completed": true,
                "stageUrl": "https://azure.qubole.com/cluster-proxy?encodedUrl\u003dhttp%3A%2F%2F10.0.0.4%3A8088%2Fproxy%2Fapplication_1515502980890_0003/stages/stage/?id\u003d5360\u0026attempt\u003d0",
                "numCompleteTasks": 4,
                "numActiveTasks": 0,
                "numFailedTasks": 0,
                "numTotalTasks": 4
              }
            ],
            "status": "Success"
          },
          {
            "id": 2634,
            "jobUrl": "https://azure.qubole.com/cluster-proxy?encodedUrl\u003dhttp%3A%2F%2F10.0.0.4%3A8088%2Fproxy%2Fapplication_1515502980890_0003/jobs/job?spark\u003dtrue\u0026id\u003d2634",
            "numTasks": 24,
            "numCompletedTasks": 24,
            "stages": [
              {
                "id": 5362,
                "completed": true,
                "stageUrl": "https://azure.qubole.com/cluster-proxy?encodedUrl\u003dhttp%3A%2F%2F10.0.0.4%3A8088%2Fproxy%2Fapplication_1515502980890_0003/stages/stage/?id\u003d5362\u0026attempt\u003d0",
                "numCompleteTasks": 4,
                "numActiveTasks": 0,
                "numFailedTasks": 0,
                "numTotalTasks": 4
              },
              {
                "id": 5361,
                "completed": true,
                "stageUrl": "https://azure.qubole.com/cluster-proxy?encodedUrl\u003dhttp%3A%2F%2F10.0.0.4%3A8088%2Fproxy%2Fapplication_1515502980890_0003/stages/stage/?id\u003d5361\u0026attempt\u003d0",
                "numCompleteTasks": 20,
                "numActiveTasks": 0,
                "numFailedTasks": 0,
                "numTotalTasks": 20
              }
            ],
            "status": "Success"
          },
          {
            "id": 2635,
            "jobUrl": "https://azure.qubole.com/cluster-proxy?encodedUrl\u003dhttp%3A%2F%2F10.0.0.4%3A8088%2Fproxy%2Fapplication_1515502980890_0003/jobs/job?spark\u003dtrue\u0026id\u003d2635",
            "numTasks": 24,
            "numCompletedTasks": 24,
            "stages": [
              {
                "id": 5363,
                "completed": true,
                "stageUrl": "https://azure.qubole.com/cluster-proxy?encodedUrl\u003dhttp%3A%2F%2F10.0.0.4%3A8088%2Fproxy%2Fapplication_1515502980890_0003/stages/stage/?id\u003d5363\u0026attempt\u003d0",
                "numCompleteTasks": 20,
                "numActiveTasks": 0,
                "numFailedTasks": 0,
                "numTotalTasks": 20
              },
              {
                "id": 5364,
                "completed": true,
                "stageUrl": "https://azure.qubole.com/cluster-proxy?encodedUrl\u003dhttp%3A%2F%2F10.0.0.4%3A8088%2Fproxy%2Fapplication_1515502980890_0003/stages/stage/?id\u003d5364\u0026attempt\u003d0",
                "numCompleteTasks": 4,
                "numActiveTasks": 0,
                "numFailedTasks": 0,
                "numTotalTasks": 4
              }
            ],
            "status": "Success"
          },
          {
            "id": 2636,
            "jobUrl": "https://azure.qubole.com/cluster-proxy?encodedUrl\u003dhttp%3A%2F%2F10.0.0.4%3A8088%2Fproxy%2Fapplication_1515502980890_0003/jobs/job?spark\u003dtrue\u0026id\u003d2636",
            "numTasks": 24,
            "numCompletedTasks": 24,
            "stages": [
              {
                "id": 5365,
                "completed": true,
                "stageUrl": "https://azure.qubole.com/cluster-proxy?encodedUrl\u003dhttp%3A%2F%2F10.0.0.4%3A8088%2Fproxy%2Fapplication_1515502980890_0003/stages/stage/?id\u003d5365\u0026attempt\u003d0",
                "numCompleteTasks": 20,
                "numActiveTasks": 0,
                "numFailedTasks": 0,
                "numTotalTasks": 20
              },
              {
                "id": 5366,
                "completed": true,
                "stageUrl": "https://azure.qubole.com/cluster-proxy?encodedUrl\u003dhttp%3A%2F%2F10.0.0.4%3A8088%2Fproxy%2Fapplication_1515502980890_0003/stages/stage/?id\u003d5366\u0026attempt\u003d0",
                "numCompleteTasks": 4,
                "numActiveTasks": 0,
                "numFailedTasks": 0,
                "numTotalTasks": 4
              }
            ],
            "status": "Success"
          },
          {
            "id": 2637,
            "jobUrl": "https://azure.qubole.com/cluster-proxy?encodedUrl\u003dhttp%3A%2F%2F10.0.0.4%3A8088%2Fproxy%2Fapplication_1515502980890_0003/jobs/job?spark\u003dtrue\u0026id\u003d2637",
            "numTasks": 24,
            "numCompletedTasks": 24,
            "stages": [
              {
                "id": 5367,
                "completed": true,
                "stageUrl": "https://azure.qubole.com/cluster-proxy?encodedUrl\u003dhttp%3A%2F%2F10.0.0.4%3A8088%2Fproxy%2Fapplication_1515502980890_0003/stages/stage/?id\u003d5367\u0026attempt\u003d0",
                "numCompleteTasks": 20,
                "numActiveTasks": 0,
                "numFailedTasks": 0,
                "numTotalTasks": 20
              },
              {
                "id": 5368,
                "completed": true,
                "stageUrl": "https://azure.qubole.com/cluster-proxy?encodedUrl\u003dhttp%3A%2F%2F10.0.0.4%3A8088%2Fproxy%2Fapplication_1515502980890_0003/stages/stage/?id\u003d5368\u0026attempt\u003d0",
                "numCompleteTasks": 4,
                "numActiveTasks": 0,
                "numFailedTasks": 0,
                "numTotalTasks": 4
              }
            ],
            "status": "Success"
          },
          {
            "id": 2638,
            "jobUrl": "https://azure.qubole.com/cluster-proxy?encodedUrl\u003dhttp%3A%2F%2F10.0.0.4%3A8088%2Fproxy%2Fapplication_1515502980890_0003/jobs/job?spark\u003dtrue\u0026id\u003d2638",
            "numTasks": 40,
            "numCompletedTasks": 40,
            "stages": [
              {
                "id": 5369,
                "completed": true,
                "stageUrl": "https://azure.qubole.com/cluster-proxy?encodedUrl\u003dhttp%3A%2F%2F10.0.0.4%3A8088%2Fproxy%2Fapplication_1515502980890_0003/stages/stage/?id\u003d5369\u0026attempt\u003d0",
                "numCompleteTasks": 20,
                "numActiveTasks": 0,
                "numFailedTasks": 0,
                "numTotalTasks": 20
              },
              {
                "id": 5370,
                "completed": true,
                "stageUrl": "https://azure.qubole.com/cluster-proxy?encodedUrl\u003dhttp%3A%2F%2F10.0.0.4%3A8088%2Fproxy%2Fapplication_1515502980890_0003/stages/stage/?id\u003d5370\u0026attempt\u003d0",
                "numCompleteTasks": 20,
                "numActiveTasks": 0,
                "numFailedTasks": 0,
                "numTotalTasks": 20
              }
            ],
            "status": "Success"
          },
          {
            "id": 2639,
            "jobUrl": "https://azure.qubole.com/cluster-proxy?encodedUrl\u003dhttp%3A%2F%2F10.0.0.4%3A8088%2Fproxy%2Fapplication_1515502980890_0003/jobs/job?spark\u003dtrue\u0026id\u003d2639",
            "numTasks": 60,
            "numCompletedTasks": 40,
            "stages": [
              {
                "id": 5373,
                "completed": true,
                "stageUrl": "https://azure.qubole.com/cluster-proxy?encodedUrl\u003dhttp%3A%2F%2F10.0.0.4%3A8088%2Fproxy%2Fapplication_1515502980890_0003/stages/stage/?id\u003d5373\u0026attempt\u003d0",
                "numCompleteTasks": 20,
                "numActiveTasks": 0,
                "numFailedTasks": 0,
                "numTotalTasks": 20
              },
              {
                "id": 5371,
                "completed": true,
                "stageUrl": "https://azure.qubole.com/cluster-proxy?encodedUrl\u003dhttp%3A%2F%2F10.0.0.4%3A8088%2Fproxy%2Fapplication_1515502980890_0003/stages/stage/?id\u003d5371\u0026attempt\u003d0",
                "numCompleteTasks": 0,
                "numActiveTasks": 0,
                "numFailedTasks": 0,
                "numTotalTasks": 0
              },
              {
                "id": 5372,
                "completed": true,
                "stageUrl": "https://azure.qubole.com/cluster-proxy?encodedUrl\u003dhttp%3A%2F%2F10.0.0.4%3A8088%2Fproxy%2Fapplication_1515502980890_0003/stages/stage/?id\u003d5372\u0026attempt\u003d0",
                "numCompleteTasks": 20,
                "numActiveTasks": 0,
                "numFailedTasks": 0,
                "numTotalTasks": 20
              }
            ],
            "status": "Success"
          },
          {
            "id": 2640,
            "jobUrl": "https://azure.qubole.com/cluster-proxy?encodedUrl\u003dhttp%3A%2F%2F10.0.0.4%3A8088%2Fproxy%2Fapplication_1515502980890_0003/jobs/job?spark\u003dtrue\u0026id\u003d2640",
            "numTasks": 62,
            "numCompletedTasks": 22,
            "stages": [
              {
                "id": 5374,
                "completed": true,
                "stageUrl": "https://azure.qubole.com/cluster-proxy?encodedUrl\u003dhttp%3A%2F%2F10.0.0.4%3A8088%2Fproxy%2Fapplication_1515502980890_0003/stages/stage/?id\u003d5374\u0026attempt\u003d0",
                "numCompleteTasks": 0,
                "numActiveTasks": 0,
                "numFailedTasks": 0,
                "numTotalTasks": 0
              },
              {
                "id": 5375,
                "completed": true,
                "stageUrl": "https://azure.qubole.com/cluster-proxy?encodedUrl\u003dhttp%3A%2F%2F10.0.0.4%3A8088%2Fproxy%2Fapplication_1515502980890_0003/stages/stage/?id\u003d5375\u0026attempt\u003d0",
                "numCompleteTasks": 0,
                "numActiveTasks": 0,
                "numFailedTasks": 0,
                "numTotalTasks": 0
              },
              {
                "id": 5376,
                "completed": true,
                "stageUrl": "https://azure.qubole.com/cluster-proxy?encodedUrl\u003dhttp%3A%2F%2F10.0.0.4%3A8088%2Fproxy%2Fapplication_1515502980890_0003/stages/stage/?id\u003d5376\u0026attempt\u003d0",
                "numCompleteTasks": 22,
                "numActiveTasks": 0,
                "numFailedTasks": 0,
                "numTotalTasks": 22
              }
            ],
            "status": "Success"
          },
          {
            "id": 2641,
            "jobUrl": "https://azure.qubole.com/cluster-proxy?encodedUrl\u003dhttp%3A%2F%2F10.0.0.4%3A8088%2Fproxy%2Fapplication_1515502980890_0003/jobs/job?spark\u003dtrue\u0026id\u003d2641",
            "numTasks": 61,
            "numCompletedTasks": 21,
            "stages": [
              {
                "id": 5377,
                "completed": true,
                "stageUrl": "https://azure.qubole.com/cluster-proxy?encodedUrl\u003dhttp%3A%2F%2F10.0.0.4%3A8088%2Fproxy%2Fapplication_1515502980890_0003/stages/stage/?id\u003d5377\u0026attempt\u003d0",
                "numCompleteTasks": 0,
                "numActiveTasks": 0,
                "numFailedTasks": 0,
                "numTotalTasks": 0
              },
              {
                "id": 5378,
                "completed": true,
                "stageUrl": "https://azure.qubole.com/cluster-proxy?encodedUrl\u003dhttp%3A%2F%2F10.0.0.4%3A8088%2Fproxy%2Fapplication_1515502980890_0003/stages/stage/?id\u003d5378\u0026attempt\u003d0",
                "numCompleteTasks": 0,
                "numActiveTasks": 0,
                "numFailedTasks": 0,
                "numTotalTasks": 0
              },
              {
                "id": 5379,
                "completed": true,
                "stageUrl": "https://azure.qubole.com/cluster-proxy?encodedUrl\u003dhttp%3A%2F%2F10.0.0.4%3A8088%2Fproxy%2Fapplication_1515502980890_0003/stages/stage/?id\u003d5379\u0026attempt\u003d0",
                "numCompleteTasks": 21,
                "numActiveTasks": 0,
                "numFailedTasks": 0,
                "numTotalTasks": 21
              }
            ],
            "status": "Success"
          }
        ],
        "numCompletedTasks": 819,
        "numTasks": 919,
        "truncated": false
      },
      "jobName": "paragraph_1515517450730_615472381",
      "id": "20180109-170410_322078799_q_8YVGJMASEQ1515692831",
      "result": {
        "code": "SUCCESS",
        "type": "TEXT",
        "msg": "\nevaluator: org.apache.spark.ml.evaluation.BinaryClassificationEvaluator \u003d binEval_78c27dc6eedc\n\n\n\n\n\n\nparamGrid: Array[org.apache.spark.ml.param.ParamMap] \u003d\nArray({\n\tlogreg_30823d9a1fba-regParam: 0.01\n}, {\n\tlogreg_30823d9a1fba-regParam: 0.1\n})\n\ncv: org.apache.spark.ml.tuning.CrossValidator \u003d cv_c39885824799\n\ncvModel: org.apache.spark.ml.tuning.CrossValidatorModel \u003d cv_c39885824799\n\npredictions: org.apache.spark.sql.DataFrame \u003d [asin: string, helpful: array\u003cbigint\u003e ... 20 more fields]\n\nres120: Double \u003d 0.6875963027586451\n"
      },
      "dateCreated": "Jan 9, 2018 5:04:10 PM",
      "dateStarted": "Jan 10, 2018 2:20:48 AM",
      "dateFinished": "Jan 10, 2018 2:32:33 AM",
      "status": "FINISHED",
      "progressUpdateIntervalMs": 500
    },
    {
      "text": "val getPOne \u003d udf((v: org.apache.spark.ml.linalg.Vector) \u003d\u003e v(1))\nvar predictions \u003d cvModel.transform(inputDf)\nvar pred \u003d predictions.withColumn(\"predScore\",getPOne($\"probability\"))",
      "user": "davidgillen@precocityllc.com",
      "dateUpdated": "Jan 10, 2018 4:26:23 AM",
      "config": {
        "colWidth": 12.0,
        "graph": {
          "mode": "table",
          "height": 300.0,
          "optionOpen": false,
          "keys": [],
          "values": [],
          "groups": [],
          "scatter": {}
        },
        "enabled": true,
        "editorMode": "ace/mode/scala"
      },
      "settings": {
        "params": {},
        "forms": {}
      },
      "paragraphProgress": {
        "jobs": [],
        "numCompletedTasks": 0,
        "numTasks": 0,
        "truncated": false
      },
      "jobName": "paragraph_1515517695222_385913560",
      "id": "20180109-170815_985100198_q_8YVGJMASEQ1515692831",
      "result": {
        "code": "SUCCESS",
        "type": "TEXT",
        "msg": "\ngetPOne: org.apache.spark.sql.expressions.UserDefinedFunction \u003d UserDefinedFunction(\u003cfunction1\u003e,DoubleType,Some(List(org.apache.spark.ml.linalg.VectorUDT@3bfc3ba7)))\n\npredictions: org.apache.spark.sql.DataFrame \u003d [asin: string, helpful: array\u003cbigint\u003e ... 20 more fields]\n\npred: org.apache.spark.sql.DataFrame \u003d [asin: string, helpful: array\u003cbigint\u003e ... 21 more fields]\n"
      },
      "dateCreated": "Jan 9, 2018 5:08:15 PM",
      "dateStarted": "Jan 10, 2018 4:26:23 AM",
      "dateFinished": "Jan 10, 2018 4:26:27 AM",
      "status": "FINISHED",
      "progressUpdateIntervalMs": 500
    },
    {
      "text": "pred.cache().count()",
      "user": "davidgillen@precocityllc.com",
      "dateUpdated": "Jan 9, 2018 8:52:44 PM",
      "config": {
        "colWidth": 12.0,
        "graph": {
          "mode": "table",
          "height": 300.0,
          "optionOpen": false,
          "keys": [],
          "values": [],
          "groups": [],
          "scatter": {}
        },
        "enabled": true,
        "editorMode": "ace/mode/scala"
      },
      "settings": {
        "params": {},
        "forms": {}
      },
      "paragraphProgress": {
        "jobs": [
          {
            "id": 1088,
            "jobUrl": "https://azure.qubole.com/cluster-proxy?encodedUrl\u003dhttp%3A%2F%2F10.0.0.4%3A8088%2Fproxy%2Fapplication_1515502980890_0003/jobs/job?spark\u003dtrue\u0026id\u003d1088",
            "numTasks": 21,
            "numCompletedTasks": 21,
            "stages": [
              {
                "id": 2219,
                "completed": true,
                "stageUrl": "https://azure.qubole.com/cluster-proxy?encodedUrl\u003dhttp%3A%2F%2F10.0.0.4%3A8088%2Fproxy%2Fapplication_1515502980890_0003/stages/stage/?id\u003d2219\u0026attempt\u003d0",
                "numCompleteTasks": 20,
                "numActiveTasks": 0,
                "numFailedTasks": 0,
                "numTotalTasks": 20
              },
              {
                "id": 2220,
                "completed": true,
                "stageUrl": "https://azure.qubole.com/cluster-proxy?encodedUrl\u003dhttp%3A%2F%2F10.0.0.4%3A8088%2Fproxy%2Fapplication_1515502980890_0003/stages/stage/?id\u003d2220\u0026attempt\u003d0",
                "numCompleteTasks": 1,
                "numActiveTasks": 0,
                "numFailedTasks": 0,
                "numTotalTasks": 1
              }
            ],
            "status": "Success"
          }
        ],
        "numCompletedTasks": 21,
        "numTasks": 21,
        "truncated": false
      },
      "jobName": "paragraph_1515520524294_-373444266",
      "id": "20180109-175524_876781018_q_8YVGJMASEQ1515692831",
      "result": {
        "code": "SUCCESS",
        "type": "TEXT",
        "msg": "\nres65: Long \u003d 207965\n"
      },
      "dateCreated": "Jan 9, 2018 5:55:24 PM",
      "dateStarted": "Jan 9, 2018 8:52:44 PM",
      "dateFinished": "Jan 9, 2018 8:54:07 PM",
      "status": "FINISHED",
      "progressUpdateIntervalMs": 500
    },
    {
      "text": "import org.apache.spark.sql.functions._\npred \u003d pred.withColumn(\"absErr\",abs($\"predScore\"-$\"score\"))\npred.createOrReplaceTempView(\"pred\")\n//var newPred \u003d sqlContext.sql(\"select asin,count(*) as numReviews,min(score) as minScore,min(predScore) as minPredScore,max(score) as maxScore, max(predScore) as maxPredScore,mean(absErr) as meanAbsErr,mean(overall) as meanOverall,mean(score) as meanScore from pred group by asin\")\nvar newPred \u003d sqlContext.sql(\"select asin,count(*) as numReviews,mean(absErr) as meanAbsErr,mean(overall) as meanOverall,mean(score) as meanScore,max(score) as maxScore, max(predScore) as maxPredScore,max(upVotes) as maxUpVotes,sum(totalVotes) as sumTotalVotes from pred group by asin\")\nnewPred.createOrReplaceTempView(\"newPred\")\nvar unHelpfulCounts \u003d sqlContext.sql(\"select asin,count(*) as unHelpful from pred where score \u003c 0.8 group by asin\")\nvar helpfulCounts \u003d sqlContext.sql(\"select asin,count(*) as helpful,max(predScore) as maxHelpfulScore from pred where predScore \u003e\u003d 0.8 and totalVotes \u003d 0 group by asin\")\nvar joined \u003d newPred.join(unHelpfulCounts,\"asin\")\njoined \u003d joined.join(helpfulCounts,\"asin\")\njoined.filter(\"numReviews \u003c\u003d 20 and unHelpful \u003e 8 and helpful \u003c 3 and meanAbsErr \u003c 0.3\").sort($\"sumTotalVotes\".desc).show()",
      "user": "davidgillen@precocityllc.com",
      "dateUpdated": "Jan 10, 2018 4:37:06 AM",
      "config": {
        "colWidth": 12.0,
        "graph": {
          "mode": "table",
          "height": 300.0,
          "optionOpen": false,
          "keys": [],
          "values": [],
          "groups": [],
          "scatter": {}
        },
        "enabled": true,
        "editorMode": "ace/mode/scala"
      },
      "settings": {
        "params": {},
        "forms": {}
      },
      "paragraphProgress": {
        "jobs": [
          {
            "id": 2650,
            "jobUrl": "https://azure.qubole.com/cluster-proxy?encodedUrl\u003dhttp%3A%2F%2F10.0.0.4%3A8088%2Fproxy%2Fapplication_1515502980890_0003/jobs/job?spark\u003dtrue\u0026id\u003d2650",
            "numTasks": 260,
            "numCompletedTasks": 260,
            "stages": [
              {
                "id": 5406,
                "completed": true,
                "stageUrl": "https://azure.qubole.com/cluster-proxy?encodedUrl\u003dhttp%3A%2F%2F10.0.0.4%3A8088%2Fproxy%2Fapplication_1515502980890_0003/stages/stage/?id\u003d5406\u0026attempt\u003d0",
                "numCompleteTasks": 200,
                "numActiveTasks": 0,
                "numFailedTasks": 0,
                "numTotalTasks": 200
              },
              {
                "id": 5403,
                "completed": true,
                "stageUrl": "https://azure.qubole.com/cluster-proxy?encodedUrl\u003dhttp%3A%2F%2F10.0.0.4%3A8088%2Fproxy%2Fapplication_1515502980890_0003/stages/stage/?id\u003d5403\u0026attempt\u003d0",
                "numCompleteTasks": 20,
                "numActiveTasks": 0,
                "numFailedTasks": 0,
                "numTotalTasks": 20
              },
              {
                "id": 5404,
                "completed": true,
                "stageUrl": "https://azure.qubole.com/cluster-proxy?encodedUrl\u003dhttp%3A%2F%2F10.0.0.4%3A8088%2Fproxy%2Fapplication_1515502980890_0003/stages/stage/?id\u003d5404\u0026attempt\u003d0",
                "numCompleteTasks": 20,
                "numActiveTasks": 0,
                "numFailedTasks": 0,
                "numTotalTasks": 20
              },
              {
                "id": 5405,
                "completed": true,
                "stageUrl": "https://azure.qubole.com/cluster-proxy?encodedUrl\u003dhttp%3A%2F%2F10.0.0.4%3A8088%2Fproxy%2Fapplication_1515502980890_0003/stages/stage/?id\u003d5405\u0026attempt\u003d0",
                "numCompleteTasks": 20,
                "numActiveTasks": 0,
                "numFailedTasks": 0,
                "numTotalTasks": 20
              }
            ],
            "status": "Success"
          }
        ],
        "numCompletedTasks": 260,
        "numTasks": 260,
        "truncated": false
      },
      "jobName": "paragraph_1515517743866_2035224826",
      "id": "20180109-170903_1655168559_q_8YVGJMASEQ1515692831",
      "result": {
        "code": "SUCCESS",
        "type": "TEXT",
        "msg": "\nimport org.apache.spark.sql.functions._\n\npred: org.apache.spark.sql.DataFrame \u003d [asin: string, helpful: array\u003cbigint\u003e ... 22 more fields]\n\nnewPred: org.apache.spark.sql.DataFrame \u003d [asin: string, numReviews: bigint ... 7 more fields]\n\nunHelpfulCounts: org.apache.spark.sql.DataFrame \u003d [asin: string, unHelpful: bigint]\n\nhelpfulCounts: org.apache.spark.sql.DataFrame \u003d [asin: string, helpful: bigint ... 1 more field]\n\njoined: org.apache.spark.sql.DataFrame \u003d [asin: string, numReviews: bigint ... 8 more fields]\n\njoined: org.apache.spark.sql.DataFrame \u003d [asin: string, numReviews: bigint ... 10 more fields]\n+----------+----------+-------------------+------------------+-------------------+------------------+------------------+----------+-------------+---------+-------+------------------+\n|      asin|numReviews|         meanAbsErr|       meanOverall|          meanScore|          maxScore|      maxPredScore|maxUpVotes|sumTotalVotes|unHelpful|helpful|   maxHelpfulScore|\n+----------+----------+-------------------+------------------+-------------------+------------------+------------------+----------+-------------+---------+-------+------------------+\n|B00AQT653G|        19|0.23601046644023546| 4.315789473684211| 0.6890006692946588|               1.0|0.8772397515121151|       532|          758|       10|      1|0.8772397515121151|\n|B00005T3NH|        20| 0.2783362244787444|              3.35| 0.5913260340021176|               1.0|0.8072641388747906|        48|          253|       12|      1|0.8072641388747906|\n|B001B8RSAK|        19| 0.2425375948582769|3.9473684210526314| 0.6944321579283985|               1.0|0.8260660226320439|        47|          167|        9|      1|0.8231714745698496|\n|B00A02N3VQ|        20|  0.254296277334308|               4.2| 0.5051793468628146|0.9230769230769231| 0.833035020726571|        36|          147|       13|      1| 0.833035020726571|\n|B003X1EOHS|        16|0.20962831282407687|             4.375|  0.626882185622787|               1.0|0.8489601831619062|        49|          147|        9|      1|0.8489601831619062|\n|B00JM59JPG|        17|0.29453536081220244| 4.411764705882353| 0.5567728036990331|               1.0|0.8163367625972644|        59|          139|       10|      1|0.8163367625972644|\n|B00CW8YACW|        20|0.28645446947212094|               4.4|0.49771600948071537|               1.0|0.8280992355232087|        76|          131|       10|      1|0.8101816458704179|\n|B001E2UKSU|        18|0.23835987109033913| 3.888888888888889|  0.685923141186299|               1.0|0.9146571197264959|        40|           99|        9|      1|0.9146571197264959|\n|B005I59102|        18|0.29893632957067967| 4.444444444444445| 0.5666363864893277|               1.0|0.8282813620980537|        12|           85|        9|      1|0.8282813620980537|\n|B00DHBDY8Y|        11|0.19665726005177925|3.4545454545454546|0.39309216192937124|              0.72|0.8199591857830137|        28|           83|        9|      1|0.8199591857830137|\n|B001EYU8FI|        18| 0.2795836592589768|3.0555555555555554| 0.5514814814814815|               1.0|0.8174516319591469|         8|           62|       11|      1|0.8174516319591469|\n|B004VSTYI6|        19| 0.2480864732736781| 4.421052631578948| 0.4051160960251869|               1.0| 0.821841137577451|         9|           58|        9|      1| 0.821841137577451|\n|B00FE690DI|        17| 0.2603597151970901| 3.235294117647059| 0.5226495726495726|               1.0|0.8562408807289652|         5|           57|        9|      1|0.8562408807289652|\n|B0043CWU22|        14|0.23502420305495653|               4.0| 0.6164835164835165|               1.0|0.8844374086013549|         6|           56|       10|      1|0.8844374086013549|\n|B001S2R8V8|        20|0.23884535900839488|              3.85| 0.5445756263938083|               1.0|0.9474090054843107|         7|           52|        9|      2|0.9474090054843107|\n|B005ODHJFM|        15|0.28845933686284225|3.6666666666666665| 0.5846153846153845|               1.0|0.8976657685197246|        14|           45|       11|      1|0.8976657685197246|\n|B00D94X4DO|        17| 0.2666182419415468|4.0588235294117645| 0.3806390977443609|0.8421052631578947| 0.832224748442161|        16|           44|        9|      1| 0.832224748442161|\n|B003UCGDSS|        20| 0.2416940891371358|              4.45| 0.6395604395604396|               1.0|0.8511980192551176|         5|           44|        9|      2|0.8511980192551176|\n|B006VHF9TI|        14|0.13920062947791878| 4.214285714285714| 0.5515873015873016|              0.75|0.8683657492300234|        12|           43|        9|      1|0.8683657492300234|\n|B00AI6L1CW|        17| 0.2393339464056438|4.0588235294117645|0.49166666666666664|               1.0|0.8584487934022144|         5|           41|       10|      1|0.8584487934022144|\n+----------+----------+-------------------+------------------+-------------------+------------------+------------------+----------+-------------+---------+-------+------------------+\nonly showing top 20 rows\n\n"
      },
      "dateCreated": "Jan 9, 2018 5:09:03 PM",
      "dateStarted": "Jan 10, 2018 4:37:06 AM",
      "dateFinished": "Jan 10, 2018 4:37:56 AM",
      "status": "FINISHED",
      "progressUpdateIntervalMs": 500
    },
    {
      "text": "var testAsin \u003d sqlContext.sql(\"select reviewerName,summary,overall,upVotes,totalVotes,score,predScore,prediction from pred where asin \u003d \u0027B006VHF9TI\u0027 order by score asc\")\ntestAsin.show(false)",
      "user": "davidgillen@precocityllc.com",
      "dateUpdated": "Jan 10, 2018 4:40:39 AM",
      "config": {
        "colWidth": 12.0,
        "graph": {
          "mode": "table",
          "height": 300.0,
          "optionOpen": false,
          "keys": [],
          "values": [],
          "groups": [],
          "scatter": {}
        },
        "enabled": true,
        "editorMode": "ace/mode/scala"
      },
      "settings": {
        "params": {},
        "forms": {}
      },
      "paragraphProgress": {
        "jobs": [
          {
            "id": 2652,
            "jobUrl": "https://azure.qubole.com/cluster-proxy?encodedUrl\u003dhttp%3A%2F%2F10.0.0.4%3A8088%2Fproxy%2Fapplication_1515502980890_0003/jobs/job?spark\u003dtrue\u0026id\u003d2652",
            "numTasks": 20,
            "numCompletedTasks": 20,
            "stages": [
              {
                "id": 5408,
                "completed": true,
                "stageUrl": "https://azure.qubole.com/cluster-proxy?encodedUrl\u003dhttp%3A%2F%2F10.0.0.4%3A8088%2Fproxy%2Fapplication_1515502980890_0003/stages/stage/?id\u003d5408\u0026attempt\u003d0",
                "numCompleteTasks": 20,
                "numActiveTasks": 0,
                "numFailedTasks": 0,
                "numTotalTasks": 20
              }
            ],
            "status": "Success"
          }
        ],
        "numCompletedTasks": 20,
        "numTasks": 20,
        "truncated": false
      },
      "jobName": "paragraph_1515549070046_-1219441391",
      "id": "20180110-015110_1383311752_q_8YVGJMASEQ1515692831",
      "result": {
        "code": "SUCCESS",
        "type": "TEXT",
        "msg": "\ntestAsin: org.apache.spark.sql.DataFrame \u003d [reviewerName: string, summary: string ... 6 more fields]\n+----------------------------------+-----------------------------------------------------+-------+-------+----------+------------------+------------------+----------+\n|reviewerName                      |summary                                              |overall|upVotes|totalVotes|score             |predScore         |prediction|\n+----------------------------------+-----------------------------------------------------+-------+-------+----------+------------------+------------------+----------+\n|Spurlock \"seaduner\"               |Tracks the car great                                 |4.0    |0      |0         |null              |0.6480709756408689|1.0       |\n|nadeem a ansari                   |Works good                                           |4.0    |0      |0         |null              |0.6110728502765502|1.0       |\n|T-Bone                            |Excellent Product                                    |5.0    |0      |0         |null              |0.8683657492300234|1.0       |\n|Roman Diaz                        |A good solution for tracking and notification        |4.0    |0      |0         |null              |0.6353954344895726|1.0       |\n|JVelvet                           |Seconds to install, works great!!!                   |5.0    |0      |0         |null              |0.7751368684154685|1.0       |\n|uncle-buck                        |Needs a better web interface, had issues logging in. |2.0    |0      |2         |0.0               |0.5045125308623721|1.0       |\n|SmallBizOwner \"Focused on Results\"|Finally a GPS Tracker that Works!  Highly Recommended|5.0    |1      |2         |0.5               |0.7437915017733374|1.0       |\n|Elliott                           |Works great when it works                            |4.0    |1      |2         |0.5               |0.6034481286489103|1.0       |\n|Guten Tag                         |As advertised                                        |5.0    |1      |2         |0.5               |0.5980269857037109|1.0       |\n|John M. Palamaro                  |Finally, What We\u0027ve All Been Waiting For             |5.0    |2      |3         |0.6666666666666666|0.5688239180144763|1.0       |\n|Walter J Scheiderich              |Simple install and great online tools                |5.0    |2      |3         |0.6666666666666666|0.6291790650291383|1.0       |\n|James R. Brown \"Dad and consumer\" |Works well. Needs better interface.                  |2.0    |12     |18        |0.6666666666666666|0.5487257291163027|1.0       |\n|movlyguy                          |IMMEDIATE RESULTS!                                   |5.0    |5      |7         |0.7142857142857143|0.6665577144257288|1.0       |\n|mike                              |Delivers!                                            |4.0    |3      |4         |0.75              |0.7479727693871299|1.0       |\n+----------------------------------+-----------------------------------------------------+-------+-------+----------+------------------+------------------+----------+\n\n"
      },
      "dateCreated": "Jan 10, 2018 1:51:10 AM",
      "dateStarted": "Jan 10, 2018 4:40:39 AM",
      "dateFinished": "Jan 10, 2018 4:40:45 AM",
      "status": "FINISHED",
      "progressUpdateIntervalMs": 500
    },
    {
      "text": "var evaluator \u003d new BinaryClassificationEvaluator()\nval paramGrid \u003d new ParamGridBuilder()\n             .addGrid(rf.maxDepth, Array(3, 4, 5))//# maximum depth\n             .addGrid(rf.numTrees, Array(50, 100, 200))// # number of trees\n             .build()\nval cv \u003d new CrossValidator()\n  .setEstimator(pipeline)\n  .setEvaluator(evaluator)\n  .setEstimatorParamMaps(paramGrid)\n  .setNumFolds(3)  // Use 3+ in practice\nval cvModel \u003d cv.fit(labeledTrain)\nvar predictions \u003d cvModel.transform(labeledTest)\nevaluator.evaluate(predictions)",
      "user": "davidgillen@precocityllc.com",
      "dateUpdated": "Jan 9, 2018 4:45:56 PM",
      "config": {
        "colWidth": 12.0,
        "graph": {
          "mode": "table",
          "height": 300.0,
          "optionOpen": false,
          "keys": [],
          "values": [],
          "groups": [],
          "scatter": {}
        },
        "enabled": true,
        "editorMode": "ace/mode/scala"
      },
      "settings": {
        "params": {},
        "forms": {}
      },
      "paragraphProgress": {
        "jobs": [
          {
            "id": 363,
            "jobUrl": "https://azure.qubole.com/cluster-proxy?encodedUrl\u003dhttp%3A%2F%2F10.0.0.4%3A8088%2Fproxy%2Fapplication_1515502980890_0002/jobs/job?spark\u003dtrue\u0026id\u003d363",
            "numTasks": 62,
            "numCompletedTasks": 22,
            "stages": [
              {
                "id": 712,
                "completed": true,
                "stageUrl": "https://azure.qubole.com/cluster-proxy?encodedUrl\u003dhttp%3A%2F%2F10.0.0.4%3A8088%2Fproxy%2Fapplication_1515502980890_0002/stages/stage/?id\u003d712\u0026attempt\u003d0",
                "numCompleteTasks": 22,
                "numActiveTasks": 0,
                "numFailedTasks": 0,
                "numTotalTasks": 22
              },
              {
                "id": 710,
                "completed": true,
                "stageUrl": "https://azure.qubole.com/cluster-proxy?encodedUrl\u003dhttp%3A%2F%2F10.0.0.4%3A8088%2Fproxy%2Fapplication_1515502980890_0002/stages/stage/?id\u003d710\u0026attempt\u003d0",
                "numCompleteTasks": 0,
                "numActiveTasks": 0,
                "numFailedTasks": 0,
                "numTotalTasks": 0
              },
              {
                "id": 711,
                "completed": true,
                "stageUrl": "https://azure.qubole.com/cluster-proxy?encodedUrl\u003dhttp%3A%2F%2F10.0.0.4%3A8088%2Fproxy%2Fapplication_1515502980890_0002/stages/stage/?id\u003d711\u0026attempt\u003d0",
                "numCompleteTasks": 0,
                "numActiveTasks": 0,
                "numFailedTasks": 0,
                "numTotalTasks": 0
              }
            ],
            "status": "Success"
          },
          {
            "id": 364,
            "jobUrl": "https://azure.qubole.com/cluster-proxy?encodedUrl\u003dhttp%3A%2F%2F10.0.0.4%3A8088%2Fproxy%2Fapplication_1515502980890_0002/jobs/job?spark\u003dtrue\u0026id\u003d364",
            "numTasks": 61,
            "numCompletedTasks": 21,
            "stages": [
              {
                "id": 713,
                "completed": true,
                "stageUrl": "https://azure.qubole.com/cluster-proxy?encodedUrl\u003dhttp%3A%2F%2F10.0.0.4%3A8088%2Fproxy%2Fapplication_1515502980890_0002/stages/stage/?id\u003d713\u0026attempt\u003d0",
                "numCompleteTasks": 0,
                "numActiveTasks": 0,
                "numFailedTasks": 0,
                "numTotalTasks": 0
              },
              {
                "id": 714,
                "completed": true,
                "stageUrl": "https://azure.qubole.com/cluster-proxy?encodedUrl\u003dhttp%3A%2F%2F10.0.0.4%3A8088%2Fproxy%2Fapplication_1515502980890_0002/stages/stage/?id\u003d714\u0026attempt\u003d0",
                "numCompleteTasks": 0,
                "numActiveTasks": 0,
                "numFailedTasks": 0,
                "numTotalTasks": 0
              },
              {
                "id": 715,
                "completed": true,
                "stageUrl": "https://azure.qubole.com/cluster-proxy?encodedUrl\u003dhttp%3A%2F%2F10.0.0.4%3A8088%2Fproxy%2Fapplication_1515502980890_0002/stages/stage/?id\u003d715\u0026attempt\u003d0",
                "numCompleteTasks": 21,
                "numActiveTasks": 0,
                "numFailedTasks": 0,
                "numTotalTasks": 21
              }
            ],
            "status": "Success"
          },
          {
            "id": 365,
            "jobUrl": "https://azure.qubole.com/cluster-proxy?encodedUrl\u003dhttp%3A%2F%2F10.0.0.4%3A8088%2Fproxy%2Fapplication_1515502980890_0002/jobs/job?spark\u003dtrue\u0026id\u003d365",
            "numTasks": 40,
            "numCompletedTasks": 40,
            "stages": [
              {
                "id": 716,
                "completed": true,
                "stageUrl": "https://azure.qubole.com/cluster-proxy?encodedUrl\u003dhttp%3A%2F%2F10.0.0.4%3A8088%2Fproxy%2Fapplication_1515502980890_0002/stages/stage/?id\u003d716\u0026attempt\u003d0",
                "numCompleteTasks": 20,
                "numActiveTasks": 0,
                "numFailedTasks": 0,
                "numTotalTasks": 20
              },
              {
                "id": 717,
                "completed": true,
                "stageUrl": "https://azure.qubole.com/cluster-proxy?encodedUrl\u003dhttp%3A%2F%2F10.0.0.4%3A8088%2Fproxy%2Fapplication_1515502980890_0002/stages/stage/?id\u003d717\u0026attempt\u003d0",
                "numCompleteTasks": 20,
                "numActiveTasks": 0,
                "numFailedTasks": 0,
                "numTotalTasks": 20
              }
            ],
            "status": "Success"
          },
          {
            "id": 366,
            "jobUrl": "https://azure.qubole.com/cluster-proxy?encodedUrl\u003dhttp%3A%2F%2F10.0.0.4%3A8088%2Fproxy%2Fapplication_1515502980890_0002/jobs/job?spark\u003dtrue\u0026id\u003d366",
            "numTasks": 60,
            "numCompletedTasks": 40,
            "stages": [
              {
                "id": 718,
                "completed": true,
                "stageUrl": "https://azure.qubole.com/cluster-proxy?encodedUrl\u003dhttp%3A%2F%2F10.0.0.4%3A8088%2Fproxy%2Fapplication_1515502980890_0002/stages/stage/?id\u003d718\u0026attempt\u003d0",
                "numCompleteTasks": 0,
                "numActiveTasks": 0,
                "numFailedTasks": 0,
                "numTotalTasks": 0
              },
              {
                "id": 719,
                "completed": true,
                "stageUrl": "https://azure.qubole.com/cluster-proxy?encodedUrl\u003dhttp%3A%2F%2F10.0.0.4%3A8088%2Fproxy%2Fapplication_1515502980890_0002/stages/stage/?id\u003d719\u0026attempt\u003d0",
                "numCompleteTasks": 20,
                "numActiveTasks": 0,
                "numFailedTasks": 0,
                "numTotalTasks": 20
              },
              {
                "id": 720,
                "completed": true,
                "stageUrl": "https://azure.qubole.com/cluster-proxy?encodedUrl\u003dhttp%3A%2F%2F10.0.0.4%3A8088%2Fproxy%2Fapplication_1515502980890_0002/stages/stage/?id\u003d720\u0026attempt\u003d0",
                "numCompleteTasks": 20,
                "numActiveTasks": 0,
                "numFailedTasks": 0,
                "numTotalTasks": 20
              }
            ],
            "status": "Success"
          },
          {
            "id": 367,
            "jobUrl": "https://azure.qubole.com/cluster-proxy?encodedUrl\u003dhttp%3A%2F%2F10.0.0.4%3A8088%2Fproxy%2Fapplication_1515502980890_0002/jobs/job?spark\u003dtrue\u0026id\u003d367",
            "numTasks": 62,
            "numCompletedTasks": 22,
            "stages": [
              {
                "id": 721,
                "completed": true,
                "stageUrl": "https://azure.qubole.com/cluster-proxy?encodedUrl\u003dhttp%3A%2F%2F10.0.0.4%3A8088%2Fproxy%2Fapplication_1515502980890_0002/stages/stage/?id\u003d721\u0026attempt\u003d0",
                "numCompleteTasks": 0,
                "numActiveTasks": 0,
                "numFailedTasks": 0,
                "numTotalTasks": 0
              },
              {
                "id": 722,
                "completed": true,
                "stageUrl": "https://azure.qubole.com/cluster-proxy?encodedUrl\u003dhttp%3A%2F%2F10.0.0.4%3A8088%2Fproxy%2Fapplication_1515502980890_0002/stages/stage/?id\u003d722\u0026attempt\u003d0",
                "numCompleteTasks": 0,
                "numActiveTasks": 0,
                "numFailedTasks": 0,
                "numTotalTasks": 0
              },
              {
                "id": 723,
                "completed": true,
                "stageUrl": "https://azure.qubole.com/cluster-proxy?encodedUrl\u003dhttp%3A%2F%2F10.0.0.4%3A8088%2Fproxy%2Fapplication_1515502980890_0002/stages/stage/?id\u003d723\u0026attempt\u003d0",
                "numCompleteTasks": 22,
                "numActiveTasks": 0,
                "numFailedTasks": 0,
                "numTotalTasks": 22
              }
            ],
            "status": "Success"
          },
          {
            "id": 368,
            "jobUrl": "https://azure.qubole.com/cluster-proxy?encodedUrl\u003dhttp%3A%2F%2F10.0.0.4%3A8088%2Fproxy%2Fapplication_1515502980890_0002/jobs/job?spark\u003dtrue\u0026id\u003d368",
            "numTasks": 61,
            "numCompletedTasks": 21,
            "stages": [
              {
                "id": 724,
                "completed": true,
                "stageUrl": "https://azure.qubole.com/cluster-proxy?encodedUrl\u003dhttp%3A%2F%2F10.0.0.4%3A8088%2Fproxy%2Fapplication_1515502980890_0002/stages/stage/?id\u003d724\u0026attempt\u003d0",
                "numCompleteTasks": 0,
                "numActiveTasks": 0,
                "numFailedTasks": 0,
                "numTotalTasks": 0
              },
              {
                "id": 725,
                "completed": true,
                "stageUrl": "https://azure.qubole.com/cluster-proxy?encodedUrl\u003dhttp%3A%2F%2F10.0.0.4%3A8088%2Fproxy%2Fapplication_1515502980890_0002/stages/stage/?id\u003d725\u0026attempt\u003d0",
                "numCompleteTasks": 0,
                "numActiveTasks": 0,
                "numFailedTasks": 0,
                "numTotalTasks": 0
              },
              {
                "id": 726,
                "completed": true,
                "stageUrl": "https://azure.qubole.com/cluster-proxy?encodedUrl\u003dhttp%3A%2F%2F10.0.0.4%3A8088%2Fproxy%2Fapplication_1515502980890_0002/stages/stage/?id\u003d726\u0026attempt\u003d0",
                "numCompleteTasks": 21,
                "numActiveTasks": 0,
                "numFailedTasks": 0,
                "numTotalTasks": 21
              }
            ],
            "status": "Success"
          },
          {
            "id": 369,
            "jobUrl": "https://azure.qubole.com/cluster-proxy?encodedUrl\u003dhttp%3A%2F%2F10.0.0.4%3A8088%2Fproxy%2Fapplication_1515502980890_0002/jobs/job?spark\u003dtrue\u0026id\u003d369",
            "numTasks": 40,
            "numCompletedTasks": 40,
            "stages": [
              {
                "id": 727,
                "completed": true,
                "stageUrl": "https://azure.qubole.com/cluster-proxy?encodedUrl\u003dhttp%3A%2F%2F10.0.0.4%3A8088%2Fproxy%2Fapplication_1515502980890_0002/stages/stage/?id\u003d727\u0026attempt\u003d0",
                "numCompleteTasks": 20,
                "numActiveTasks": 0,
                "numFailedTasks": 0,
                "numTotalTasks": 20
              },
              {
                "id": 728,
                "completed": true,
                "stageUrl": "https://azure.qubole.com/cluster-proxy?encodedUrl\u003dhttp%3A%2F%2F10.0.0.4%3A8088%2Fproxy%2Fapplication_1515502980890_0002/stages/stage/?id\u003d728\u0026attempt\u003d0",
                "numCompleteTasks": 20,
                "numActiveTasks": 0,
                "numFailedTasks": 0,
                "numTotalTasks": 20
              }
            ],
            "status": "Success"
          },
          {
            "id": 370,
            "jobUrl": "https://azure.qubole.com/cluster-proxy?encodedUrl\u003dhttp%3A%2F%2F10.0.0.4%3A8088%2Fproxy%2Fapplication_1515502980890_0002/jobs/job?spark\u003dtrue\u0026id\u003d370",
            "numTasks": 60,
            "numCompletedTasks": 40,
            "stages": [
              {
                "id": 730,
                "completed": true,
                "stageUrl": "https://azure.qubole.com/cluster-proxy?encodedUrl\u003dhttp%3A%2F%2F10.0.0.4%3A8088%2Fproxy%2Fapplication_1515502980890_0002/stages/stage/?id\u003d730\u0026attempt\u003d0",
                "numCompleteTasks": 20,
                "numActiveTasks": 0,
                "numFailedTasks": 0,
                "numTotalTasks": 20
              },
              {
                "id": 731,
                "completed": true,
                "stageUrl": "https://azure.qubole.com/cluster-proxy?encodedUrl\u003dhttp%3A%2F%2F10.0.0.4%3A8088%2Fproxy%2Fapplication_1515502980890_0002/stages/stage/?id\u003d731\u0026attempt\u003d0",
                "numCompleteTasks": 20,
                "numActiveTasks": 0,
                "numFailedTasks": 0,
                "numTotalTasks": 20
              },
              {
                "id": 729,
                "completed": true,
                "stageUrl": "https://azure.qubole.com/cluster-proxy?encodedUrl\u003dhttp%3A%2F%2F10.0.0.4%3A8088%2Fproxy%2Fapplication_1515502980890_0002/stages/stage/?id\u003d729\u0026attempt\u003d0",
                "numCompleteTasks": 0,
                "numActiveTasks": 0,
                "numFailedTasks": 0,
                "numTotalTasks": 0
              }
            ],
            "status": "Success"
          },
          {
            "id": 371,
            "jobUrl": "https://azure.qubole.com/cluster-proxy?encodedUrl\u003dhttp%3A%2F%2F10.0.0.4%3A8088%2Fproxy%2Fapplication_1515502980890_0002/jobs/job?spark\u003dtrue\u0026id\u003d371",
            "numTasks": 62,
            "numCompletedTasks": 22,
            "stages": [
              {
                "id": 734,
                "completed": true,
                "stageUrl": "https://azure.qubole.com/cluster-proxy?encodedUrl\u003dhttp%3A%2F%2F10.0.0.4%3A8088%2Fproxy%2Fapplication_1515502980890_0002/stages/stage/?id\u003d734\u0026attempt\u003d0",
                "numCompleteTasks": 22,
                "numActiveTasks": 0,
                "numFailedTasks": 0,
                "numTotalTasks": 22
              },
              {
                "id": 732,
                "completed": true,
                "stageUrl": "https://azure.qubole.com/cluster-proxy?encodedUrl\u003dhttp%3A%2F%2F10.0.0.4%3A8088%2Fproxy%2Fapplication_1515502980890_0002/stages/stage/?id\u003d732\u0026attempt\u003d0",
                "numCompleteTasks": 0,
                "numActiveTasks": 0,
                "numFailedTasks": 0,
                "numTotalTasks": 0
              },
              {
                "id": 733,
                "completed": true,
                "stageUrl": "https://azure.qubole.com/cluster-proxy?encodedUrl\u003dhttp%3A%2F%2F10.0.0.4%3A8088%2Fproxy%2Fapplication_1515502980890_0002/stages/stage/?id\u003d733\u0026attempt\u003d0",
                "numCompleteTasks": 0,
                "numActiveTasks": 0,
                "numFailedTasks": 0,
                "numTotalTasks": 0
              }
            ],
            "status": "Success"
          },
          {
            "id": 372,
            "jobUrl": "https://azure.qubole.com/cluster-proxy?encodedUrl\u003dhttp%3A%2F%2F10.0.0.4%3A8088%2Fproxy%2Fapplication_1515502980890_0002/jobs/job?spark\u003dtrue\u0026id\u003d372",
            "numTasks": 61,
            "numCompletedTasks": 21,
            "stages": [
              {
                "id": 735,
                "completed": true,
                "stageUrl": "https://azure.qubole.com/cluster-proxy?encodedUrl\u003dhttp%3A%2F%2F10.0.0.4%3A8088%2Fproxy%2Fapplication_1515502980890_0002/stages/stage/?id\u003d735\u0026attempt\u003d0",
                "numCompleteTasks": 0,
                "numActiveTasks": 0,
                "numFailedTasks": 0,
                "numTotalTasks": 0
              },
              {
                "id": 736,
                "completed": true,
                "stageUrl": "https://azure.qubole.com/cluster-proxy?encodedUrl\u003dhttp%3A%2F%2F10.0.0.4%3A8088%2Fproxy%2Fapplication_1515502980890_0002/stages/stage/?id\u003d736\u0026attempt\u003d0",
                "numCompleteTasks": 0,
                "numActiveTasks": 0,
                "numFailedTasks": 0,
                "numTotalTasks": 0
              },
              {
                "id": 737,
                "completed": true,
                "stageUrl": "https://azure.qubole.com/cluster-proxy?encodedUrl\u003dhttp%3A%2F%2F10.0.0.4%3A8088%2Fproxy%2Fapplication_1515502980890_0002/stages/stage/?id\u003d737\u0026attempt\u003d0",
                "numCompleteTasks": 21,
                "numActiveTasks": 0,
                "numFailedTasks": 0,
                "numTotalTasks": 21
              }
            ],
            "status": "Success"
          },
          {
            "id": 373,
            "jobUrl": "https://azure.qubole.com/cluster-proxy?encodedUrl\u003dhttp%3A%2F%2F10.0.0.4%3A8088%2Fproxy%2Fapplication_1515502980890_0002/jobs/job?spark\u003dtrue\u0026id\u003d373",
            "numTasks": 40,
            "numCompletedTasks": 40,
            "stages": [
              {
                "id": 739,
                "completed": true,
                "stageUrl": "https://azure.qubole.com/cluster-proxy?encodedUrl\u003dhttp%3A%2F%2F10.0.0.4%3A8088%2Fproxy%2Fapplication_1515502980890_0002/stages/stage/?id\u003d739\u0026attempt\u003d0",
                "numCompleteTasks": 20,
                "numActiveTasks": 0,
                "numFailedTasks": 0,
                "numTotalTasks": 20
              },
              {
                "id": 738,
                "completed": true,
                "stageUrl": "https://azure.qubole.com/cluster-proxy?encodedUrl\u003dhttp%3A%2F%2F10.0.0.4%3A8088%2Fproxy%2Fapplication_1515502980890_0002/stages/stage/?id\u003d738\u0026attempt\u003d0",
                "numCompleteTasks": 20,
                "numActiveTasks": 0,
                "numFailedTasks": 0,
                "numTotalTasks": 20
              }
            ],
            "status": "Success"
          },
          {
            "id": 374,
            "jobUrl": "https://azure.qubole.com/cluster-proxy?encodedUrl\u003dhttp%3A%2F%2F10.0.0.4%3A8088%2Fproxy%2Fapplication_1515502980890_0002/jobs/job?spark\u003dtrue\u0026id\u003d374",
            "numTasks": 60,
            "numCompletedTasks": 40,
            "stages": [
              {
                "id": 742,
                "completed": true,
                "stageUrl": "https://azure.qubole.com/cluster-proxy?encodedUrl\u003dhttp%3A%2F%2F10.0.0.4%3A8088%2Fproxy%2Fapplication_1515502980890_0002/stages/stage/?id\u003d742\u0026attempt\u003d0",
                "numCompleteTasks": 20,
                "numActiveTasks": 0,
                "numFailedTasks": 0,
                "numTotalTasks": 20
              },
              {
                "id": 740,
                "completed": true,
                "stageUrl": "https://azure.qubole.com/cluster-proxy?encodedUrl\u003dhttp%3A%2F%2F10.0.0.4%3A8088%2Fproxy%2Fapplication_1515502980890_0002/stages/stage/?id\u003d740\u0026attempt\u003d0",
                "numCompleteTasks": 0,
                "numActiveTasks": 0,
                "numFailedTasks": 0,
                "numTotalTasks": 0
              },
              {
                "id": 741,
                "completed": true,
                "stageUrl": "https://azure.qubole.com/cluster-proxy?encodedUrl\u003dhttp%3A%2F%2F10.0.0.4%3A8088%2Fproxy%2Fapplication_1515502980890_0002/stages/stage/?id\u003d741\u0026attempt\u003d0",
                "numCompleteTasks": 20,
                "numActiveTasks": 0,
                "numFailedTasks": 0,
                "numTotalTasks": 20
              }
            ],
            "status": "Success"
          },
          {
            "id": 375,
            "jobUrl": "https://azure.qubole.com/cluster-proxy?encodedUrl\u003dhttp%3A%2F%2F10.0.0.4%3A8088%2Fproxy%2Fapplication_1515502980890_0002/jobs/job?spark\u003dtrue\u0026id\u003d375",
            "numTasks": 62,
            "numCompletedTasks": 22,
            "stages": [
              {
                "id": 745,
                "completed": true,
                "stageUrl": "https://azure.qubole.com/cluster-proxy?encodedUrl\u003dhttp%3A%2F%2F10.0.0.4%3A8088%2Fproxy%2Fapplication_1515502980890_0002/stages/stage/?id\u003d745\u0026attempt\u003d0",
                "numCompleteTasks": 22,
                "numActiveTasks": 0,
                "numFailedTasks": 0,
                "numTotalTasks": 22
              },
              {
                "id": 743,
                "completed": true,
                "stageUrl": "https://azure.qubole.com/cluster-proxy?encodedUrl\u003dhttp%3A%2F%2F10.0.0.4%3A8088%2Fproxy%2Fapplication_1515502980890_0002/stages/stage/?id\u003d743\u0026attempt\u003d0",
                "numCompleteTasks": 0,
                "numActiveTasks": 0,
                "numFailedTasks": 0,
                "numTotalTasks": 0
              },
              {
                "id": 744,
                "completed": true,
                "stageUrl": "https://azure.qubole.com/cluster-proxy?encodedUrl\u003dhttp%3A%2F%2F10.0.0.4%3A8088%2Fproxy%2Fapplication_1515502980890_0002/stages/stage/?id\u003d744\u0026attempt\u003d0",
                "numCompleteTasks": 0,
                "numActiveTasks": 0,
                "numFailedTasks": 0,
                "numTotalTasks": 0
              }
            ],
            "status": "Success"
          },
          {
            "id": 376,
            "jobUrl": "https://azure.qubole.com/cluster-proxy?encodedUrl\u003dhttp%3A%2F%2F10.0.0.4%3A8088%2Fproxy%2Fapplication_1515502980890_0002/jobs/job?spark\u003dtrue\u0026id\u003d376",
            "numTasks": 61,
            "numCompletedTasks": 21,
            "stages": [
              {
                "id": 748,
                "completed": true,
                "stageUrl": "https://azure.qubole.com/cluster-proxy?encodedUrl\u003dhttp%3A%2F%2F10.0.0.4%3A8088%2Fproxy%2Fapplication_1515502980890_0002/stages/stage/?id\u003d748\u0026attempt\u003d0",
                "numCompleteTasks": 21,
                "numActiveTasks": 0,
                "numFailedTasks": 0,
                "numTotalTasks": 21
              },
              {
                "id": 746,
                "completed": true,
                "stageUrl": "https://azure.qubole.com/cluster-proxy?encodedUrl\u003dhttp%3A%2F%2F10.0.0.4%3A8088%2Fproxy%2Fapplication_1515502980890_0002/stages/stage/?id\u003d746\u0026attempt\u003d0",
                "numCompleteTasks": 0,
                "numActiveTasks": 0,
                "numFailedTasks": 0,
                "numTotalTasks": 0
              },
              {
                "id": 747,
                "completed": true,
                "stageUrl": "https://azure.qubole.com/cluster-proxy?encodedUrl\u003dhttp%3A%2F%2F10.0.0.4%3A8088%2Fproxy%2Fapplication_1515502980890_0002/stages/stage/?id\u003d747\u0026attempt\u003d0",
                "numCompleteTasks": 0,
                "numActiveTasks": 0,
                "numFailedTasks": 0,
                "numTotalTasks": 0
              }
            ],
            "status": "Success"
          },
          {
            "id": 377,
            "jobUrl": "https://azure.qubole.com/cluster-proxy?encodedUrl\u003dhttp%3A%2F%2F10.0.0.4%3A8088%2Fproxy%2Fapplication_1515502980890_0002/jobs/job?spark\u003dtrue\u0026id\u003d377",
            "numTasks": 40,
            "numCompletedTasks": 40,
            "stages": [
              {
                "id": 749,
                "completed": true,
                "stageUrl": "https://azure.qubole.com/cluster-proxy?encodedUrl\u003dhttp%3A%2F%2F10.0.0.4%3A8088%2Fproxy%2Fapplication_1515502980890_0002/stages/stage/?id\u003d749\u0026attempt\u003d0",
                "numCompleteTasks": 20,
                "numActiveTasks": 0,
                "numFailedTasks": 0,
                "numTotalTasks": 20
              },
              {
                "id": 750,
                "completed": true,
                "stageUrl": "https://azure.qubole.com/cluster-proxy?encodedUrl\u003dhttp%3A%2F%2F10.0.0.4%3A8088%2Fproxy%2Fapplication_1515502980890_0002/stages/stage/?id\u003d750\u0026attempt\u003d0",
                "numCompleteTasks": 20,
                "numActiveTasks": 0,
                "numFailedTasks": 0,
                "numTotalTasks": 20
              }
            ],
            "status": "Success"
          },
          {
            "id": 378,
            "jobUrl": "https://azure.qubole.com/cluster-proxy?encodedUrl\u003dhttp%3A%2F%2F10.0.0.4%3A8088%2Fproxy%2Fapplication_1515502980890_0002/jobs/job?spark\u003dtrue\u0026id\u003d378",
            "numTasks": 60,
            "numCompletedTasks": 40,
            "stages": [
              {
                "id": 753,
                "completed": true,
                "stageUrl": "https://azure.qubole.com/cluster-proxy?encodedUrl\u003dhttp%3A%2F%2F10.0.0.4%3A8088%2Fproxy%2Fapplication_1515502980890_0002/stages/stage/?id\u003d753\u0026attempt\u003d0",
                "numCompleteTasks": 20,
                "numActiveTasks": 0,
                "numFailedTasks": 0,
                "numTotalTasks": 20
              },
              {
                "id": 751,
                "completed": true,
                "stageUrl": "https://azure.qubole.com/cluster-proxy?encodedUrl\u003dhttp%3A%2F%2F10.0.0.4%3A8088%2Fproxy%2Fapplication_1515502980890_0002/stages/stage/?id\u003d751\u0026attempt\u003d0",
                "numCompleteTasks": 0,
                "numActiveTasks": 0,
                "numFailedTasks": 0,
                "numTotalTasks": 0
              },
              {
                "id": 752,
                "completed": true,
                "stageUrl": "https://azure.qubole.com/cluster-proxy?encodedUrl\u003dhttp%3A%2F%2F10.0.0.4%3A8088%2Fproxy%2Fapplication_1515502980890_0002/stages/stage/?id\u003d752\u0026attempt\u003d0",
                "numCompleteTasks": 20,
                "numActiveTasks": 0,
                "numFailedTasks": 0,
                "numTotalTasks": 20
              }
            ],
            "status": "Success"
          },
          {
            "id": 379,
            "jobUrl": "https://azure.qubole.com/cluster-proxy?encodedUrl\u003dhttp%3A%2F%2F10.0.0.4%3A8088%2Fproxy%2Fapplication_1515502980890_0002/jobs/job?spark\u003dtrue\u0026id\u003d379",
            "numTasks": 62,
            "numCompletedTasks": 22,
            "stages": [
              {
                "id": 754,
                "completed": true,
                "stageUrl": "https://azure.qubole.com/cluster-proxy?encodedUrl\u003dhttp%3A%2F%2F10.0.0.4%3A8088%2Fproxy%2Fapplication_1515502980890_0002/stages/stage/?id\u003d754\u0026attempt\u003d0",
                "numCompleteTasks": 0,
                "numActiveTasks": 0,
                "numFailedTasks": 0,
                "numTotalTasks": 0
              },
              {
                "id": 755,
                "completed": true,
                "stageUrl": "https://azure.qubole.com/cluster-proxy?encodedUrl\u003dhttp%3A%2F%2F10.0.0.4%3A8088%2Fproxy%2Fapplication_1515502980890_0002/stages/stage/?id\u003d755\u0026attempt\u003d0",
                "numCompleteTasks": 0,
                "numActiveTasks": 0,
                "numFailedTasks": 0,
                "numTotalTasks": 0
              },
              {
                "id": 756,
                "completed": true,
                "stageUrl": "https://azure.qubole.com/cluster-proxy?encodedUrl\u003dhttp%3A%2F%2F10.0.0.4%3A8088%2Fproxy%2Fapplication_1515502980890_0002/stages/stage/?id\u003d756\u0026attempt\u003d0",
                "numCompleteTasks": 22,
                "numActiveTasks": 0,
                "numFailedTasks": 0,
                "numTotalTasks": 22
              }
            ],
            "status": "Success"
          },
          {
            "id": 380,
            "jobUrl": "https://azure.qubole.com/cluster-proxy?encodedUrl\u003dhttp%3A%2F%2F10.0.0.4%3A8088%2Fproxy%2Fapplication_1515502980890_0002/jobs/job?spark\u003dtrue\u0026id\u003d380",
            "numTasks": 61,
            "numCompletedTasks": 21,
            "stages": [
              {
                "id": 757,
                "completed": true,
                "stageUrl": "https://azure.qubole.com/cluster-proxy?encodedUrl\u003dhttp%3A%2F%2F10.0.0.4%3A8088%2Fproxy%2Fapplication_1515502980890_0002/stages/stage/?id\u003d757\u0026attempt\u003d0",
                "numCompleteTasks": 0,
                "numActiveTasks": 0,
                "numFailedTasks": 0,
                "numTotalTasks": 0
              },
              {
                "id": 758,
                "completed": true,
                "stageUrl": "https://azure.qubole.com/cluster-proxy?encodedUrl\u003dhttp%3A%2F%2F10.0.0.4%3A8088%2Fproxy%2Fapplication_1515502980890_0002/stages/stage/?id\u003d758\u0026attempt\u003d0",
                "numCompleteTasks": 0,
                "numActiveTasks": 0,
                "numFailedTasks": 0,
                "numTotalTasks": 0
              },
              {
                "id": 759,
                "completed": true,
                "stageUrl": "https://azure.qubole.com/cluster-proxy?encodedUrl\u003dhttp%3A%2F%2F10.0.0.4%3A8088%2Fproxy%2Fapplication_1515502980890_0002/stages/stage/?id\u003d759\u0026attempt\u003d0",
                "numCompleteTasks": 21,
                "numActiveTasks": 0,
                "numFailedTasks": 0,
                "numTotalTasks": 21
              }
            ],
            "status": "Success"
          },
          {
            "id": 381,
            "jobUrl": "https://azure.qubole.com/cluster-proxy?encodedUrl\u003dhttp%3A%2F%2F10.0.0.4%3A8088%2Fproxy%2Fapplication_1515502980890_0002/jobs/job?spark\u003dtrue\u0026id\u003d381",
            "numTasks": 24,
            "numCompletedTasks": 24,
            "stages": [
              {
                "id": 760,
                "completed": true,
                "stageUrl": "https://azure.qubole.com/cluster-proxy?encodedUrl\u003dhttp%3A%2F%2F10.0.0.4%3A8088%2Fproxy%2Fapplication_1515502980890_0002/stages/stage/?id\u003d760\u0026attempt\u003d0",
                "numCompleteTasks": 20,
                "numActiveTasks": 0,
                "numFailedTasks": 0,
                "numTotalTasks": 20
              },
              {
                "id": 761,
                "completed": true,
                "stageUrl": "https://azure.qubole.com/cluster-proxy?encodedUrl\u003dhttp%3A%2F%2F10.0.0.4%3A8088%2Fproxy%2Fapplication_1515502980890_0002/stages/stage/?id\u003d761\u0026attempt\u003d0",
                "numCompleteTasks": 4,
                "numActiveTasks": 0,
                "numFailedTasks": 0,
                "numTotalTasks": 4
              }
            ],
            "status": "Success"
          },
          {
            "id": 382,
            "jobUrl": "https://azure.qubole.com/cluster-proxy?encodedUrl\u003dhttp%3A%2F%2F10.0.0.4%3A8088%2Fproxy%2Fapplication_1515502980890_0002/jobs/job?spark\u003dtrue\u0026id\u003d382",
            "numTasks": 21,
            "numCompletedTasks": 21,
            "stages": [
              {
                "id": 763,
                "completed": true,
                "stageUrl": "https://azure.qubole.com/cluster-proxy?encodedUrl\u003dhttp%3A%2F%2F10.0.0.4%3A8088%2Fproxy%2Fapplication_1515502980890_0002/stages/stage/?id\u003d763\u0026attempt\u003d0",
                "numCompleteTasks": 1,
                "numActiveTasks": 0,
                "numFailedTasks": 0,
                "numTotalTasks": 1
              },
              {
                "id": 762,
                "completed": true,
                "stageUrl": "https://azure.qubole.com/cluster-proxy?encodedUrl\u003dhttp%3A%2F%2F10.0.0.4%3A8088%2Fproxy%2Fapplication_1515502980890_0002/stages/stage/?id\u003d762\u0026attempt\u003d0",
                "numCompleteTasks": 20,
                "numActiveTasks": 0,
                "numFailedTasks": 0,
                "numTotalTasks": 20
              }
            ],
            "status": "Success"
          },
          {
            "id": 383,
            "jobUrl": "https://azure.qubole.com/cluster-proxy?encodedUrl\u003dhttp%3A%2F%2F10.0.0.4%3A8088%2Fproxy%2Fapplication_1515502980890_0002/jobs/job?spark\u003dtrue\u0026id\u003d383",
            "numTasks": 1,
            "numCompletedTasks": 1,
            "stages": [
              {
                "id": 764,
                "completed": true,
                "stageUrl": "https://azure.qubole.com/cluster-proxy?encodedUrl\u003dhttp%3A%2F%2F10.0.0.4%3A8088%2Fproxy%2Fapplication_1515502980890_0002/stages/stage/?id\u003d764\u0026attempt\u003d0",
                "numCompleteTasks": 1,
                "numActiveTasks": 0,
                "numFailedTasks": 0,
                "numTotalTasks": 1
              }
            ],
            "status": "Success"
          },
          {
            "id": 384,
            "jobUrl": "https://azure.qubole.com/cluster-proxy?encodedUrl\u003dhttp%3A%2F%2F10.0.0.4%3A8088%2Fproxy%2Fapplication_1515502980890_0002/jobs/job?spark\u003dtrue\u0026id\u003d384",
            "numTasks": 20,
            "numCompletedTasks": 20,
            "stages": [
              {
                "id": 765,
                "completed": true,
                "stageUrl": "https://azure.qubole.com/cluster-proxy?encodedUrl\u003dhttp%3A%2F%2F10.0.0.4%3A8088%2Fproxy%2Fapplication_1515502980890_0002/stages/stage/?id\u003d765\u0026attempt\u003d0",
                "numCompleteTasks": 20,
                "numActiveTasks": 0,
                "numFailedTasks": 0,
                "numTotalTasks": 20
              }
            ],
            "status": "Success"
          },
          {
            "id": 385,
            "jobUrl": "https://azure.qubole.com/cluster-proxy?encodedUrl\u003dhttp%3A%2F%2F10.0.0.4%3A8088%2Fproxy%2Fapplication_1515502980890_0002/jobs/job?spark\u003dtrue\u0026id\u003d385",
            "numTasks": 40,
            "numCompletedTasks": 40,
            "stages": [
              {
                "id": 767,
                "completed": true,
                "stageUrl": "https://azure.qubole.com/cluster-proxy?encodedUrl\u003dhttp%3A%2F%2F10.0.0.4%3A8088%2Fproxy%2Fapplication_1515502980890_0002/stages/stage/?id\u003d767\u0026attempt\u003d0",
                "numCompleteTasks": 20,
                "numActiveTasks": 0,
                "numFailedTasks": 0,
                "numTotalTasks": 20
              },
              {
                "id": 766,
                "completed": true,
                "stageUrl": "https://azure.qubole.com/cluster-proxy?encodedUrl\u003dhttp%3A%2F%2F10.0.0.4%3A8088%2Fproxy%2Fapplication_1515502980890_0002/stages/stage/?id\u003d766\u0026attempt\u003d0",
                "numCompleteTasks": 20,
                "numActiveTasks": 0,
                "numFailedTasks": 0,
                "numTotalTasks": 20
              }
            ],
            "status": "Success"
          },
          {
            "id": 386,
            "jobUrl": "https://azure.qubole.com/cluster-proxy?encodedUrl\u003dhttp%3A%2F%2F10.0.0.4%3A8088%2Fproxy%2Fapplication_1515502980890_0002/jobs/job?spark\u003dtrue\u0026id\u003d386",
            "numTasks": 40,
            "numCompletedTasks": 40,
            "stages": [
              {
                "id": 768,
                "completed": true,
                "stageUrl": "https://azure.qubole.com/cluster-proxy?encodedUrl\u003dhttp%3A%2F%2F10.0.0.4%3A8088%2Fproxy%2Fapplication_1515502980890_0002/stages/stage/?id\u003d768\u0026attempt\u003d0",
                "numCompleteTasks": 20,
                "numActiveTasks": 0,
                "numFailedTasks": 0,
                "numTotalTasks": 20
              },
              {
                "id": 769,
                "completed": true,
                "stageUrl": "https://azure.qubole.com/cluster-proxy?encodedUrl\u003dhttp%3A%2F%2F10.0.0.4%3A8088%2Fproxy%2Fapplication_1515502980890_0002/stages/stage/?id\u003d769\u0026attempt\u003d0",
                "numCompleteTasks": 20,
                "numActiveTasks": 0,
                "numFailedTasks": 0,
                "numTotalTasks": 20
              }
            ],
            "status": "Success"
          },
          {
            "id": 387,
            "jobUrl": "https://azure.qubole.com/cluster-proxy?encodedUrl\u003dhttp%3A%2F%2F10.0.0.4%3A8088%2Fproxy%2Fapplication_1515502980890_0002/jobs/job?spark\u003dtrue\u0026id\u003d387",
            "numTasks": 40,
            "numCompletedTasks": 40,
            "stages": [
              {
                "id": 771,
                "completed": true,
                "stageUrl": "https://azure.qubole.com/cluster-proxy?encodedUrl\u003dhttp%3A%2F%2F10.0.0.4%3A8088%2Fproxy%2Fapplication_1515502980890_0002/stages/stage/?id\u003d771\u0026attempt\u003d0",
                "numCompleteTasks": 20,
                "numActiveTasks": 0,
                "numFailedTasks": 0,
                "numTotalTasks": 20
              },
              {
                "id": 770,
                "completed": true,
                "stageUrl": "https://azure.qubole.com/cluster-proxy?encodedUrl\u003dhttp%3A%2F%2F10.0.0.4%3A8088%2Fproxy%2Fapplication_1515502980890_0002/stages/stage/?id\u003d770\u0026attempt\u003d0",
                "numCompleteTasks": 20,
                "numActiveTasks": 0,
                "numFailedTasks": 0,
                "numTotalTasks": 20
              }
            ],
            "status": "Success"
          },
          {
            "id": 388,
            "jobUrl": "https://azure.qubole.com/cluster-proxy?encodedUrl\u003dhttp%3A%2F%2F10.0.0.4%3A8088%2Fproxy%2Fapplication_1515502980890_0002/jobs/job?spark\u003dtrue\u0026id\u003d388",
            "numTasks": 40,
            "numCompletedTasks": 40,
            "stages": [
              {
                "id": 772,
                "completed": true,
                "stageUrl": "https://azure.qubole.com/cluster-proxy?encodedUrl\u003dhttp%3A%2F%2F10.0.0.4%3A8088%2Fproxy%2Fapplication_1515502980890_0002/stages/stage/?id\u003d772\u0026attempt\u003d0",
                "numCompleteTasks": 20,
                "numActiveTasks": 0,
                "numFailedTasks": 0,
                "numTotalTasks": 20
              },
              {
                "id": 773,
                "completed": true,
                "stageUrl": "https://azure.qubole.com/cluster-proxy?encodedUrl\u003dhttp%3A%2F%2F10.0.0.4%3A8088%2Fproxy%2Fapplication_1515502980890_0002/stages/stage/?id\u003d773\u0026attempt\u003d0",
                "numCompleteTasks": 20,
                "numActiveTasks": 0,
                "numFailedTasks": 0,
                "numTotalTasks": 20
              }
            ],
            "status": "Success"
          },
          {
            "id": 389,
            "jobUrl": "https://azure.qubole.com/cluster-proxy?encodedUrl\u003dhttp%3A%2F%2F10.0.0.4%3A8088%2Fproxy%2Fapplication_1515502980890_0002/jobs/job?spark\u003dtrue\u0026id\u003d389",
            "numTasks": 40,
            "numCompletedTasks": 40,
            "stages": [
              {
                "id": 775,
                "completed": true,
                "stageUrl": "https://azure.qubole.com/cluster-proxy?encodedUrl\u003dhttp%3A%2F%2F10.0.0.4%3A8088%2Fproxy%2Fapplication_1515502980890_0002/stages/stage/?id\u003d775\u0026attempt\u003d0",
                "numCompleteTasks": 20,
                "numActiveTasks": 0,
                "numFailedTasks": 0,
                "numTotalTasks": 20
              },
              {
                "id": 774,
                "completed": true,
                "stageUrl": "https://azure.qubole.com/cluster-proxy?encodedUrl\u003dhttp%3A%2F%2F10.0.0.4%3A8088%2Fproxy%2Fapplication_1515502980890_0002/stages/stage/?id\u003d774\u0026attempt\u003d0",
                "numCompleteTasks": 20,
                "numActiveTasks": 0,
                "numFailedTasks": 0,
                "numTotalTasks": 20
              }
            ],
            "status": "Success"
          },
          {
            "id": 390,
            "jobUrl": "https://azure.qubole.com/cluster-proxy?encodedUrl\u003dhttp%3A%2F%2F10.0.0.4%3A8088%2Fproxy%2Fapplication_1515502980890_0002/jobs/job?spark\u003dtrue\u0026id\u003d390",
            "numTasks": 40,
            "numCompletedTasks": 40,
            "stages": [
              {
                "id": 776,
                "completed": true,
                "stageUrl": "https://azure.qubole.com/cluster-proxy?encodedUrl\u003dhttp%3A%2F%2F10.0.0.4%3A8088%2Fproxy%2Fapplication_1515502980890_0002/stages/stage/?id\u003d776\u0026attempt\u003d0",
                "numCompleteTasks": 20,
                "numActiveTasks": 0,
                "numFailedTasks": 0,
                "numTotalTasks": 20
              },
              {
                "id": 777,
                "completed": true,
                "stageUrl": "https://azure.qubole.com/cluster-proxy?encodedUrl\u003dhttp%3A%2F%2F10.0.0.4%3A8088%2Fproxy%2Fapplication_1515502980890_0002/stages/stage/?id\u003d777\u0026attempt\u003d0",
                "numCompleteTasks": 20,
                "numActiveTasks": 0,
                "numFailedTasks": 0,
                "numTotalTasks": 20
              }
            ],
            "status": "Success"
          },
          {
            "id": 391,
            "jobUrl": "https://azure.qubole.com/cluster-proxy?encodedUrl\u003dhttp%3A%2F%2F10.0.0.4%3A8088%2Fproxy%2Fapplication_1515502980890_0002/jobs/job?spark\u003dtrue\u0026id\u003d391",
            "numTasks": 1,
            "numCompletedTasks": 1,
            "stages": [
              {
                "id": 778,
                "completed": true,
                "stageUrl": "https://azure.qubole.com/cluster-proxy?encodedUrl\u003dhttp%3A%2F%2F10.0.0.4%3A8088%2Fproxy%2Fapplication_1515502980890_0002/stages/stage/?id\u003d778\u0026attempt\u003d0",
                "numCompleteTasks": 1,
                "numActiveTasks": 0,
                "numFailedTasks": 0,
                "numTotalTasks": 1
              }
            ],
            "status": "Success"
          },
          {
            "id": 392,
            "jobUrl": "https://azure.qubole.com/cluster-proxy?encodedUrl\u003dhttp%3A%2F%2F10.0.0.4%3A8088%2Fproxy%2Fapplication_1515502980890_0002/jobs/job?spark\u003dtrue\u0026id\u003d392",
            "numTasks": 40,
            "numCompletedTasks": 40,
            "stages": [
              {
                "id": 779,
                "completed": true,
                "stageUrl": "https://azure.qubole.com/cluster-proxy?encodedUrl\u003dhttp%3A%2F%2F10.0.0.4%3A8088%2Fproxy%2Fapplication_1515502980890_0002/stages/stage/?id\u003d779\u0026attempt\u003d0",
                "numCompleteTasks": 20,
                "numActiveTasks": 0,
                "numFailedTasks": 0,
                "numTotalTasks": 20
              },
              {
                "id": 780,
                "completed": true,
                "stageUrl": "https://azure.qubole.com/cluster-proxy?encodedUrl\u003dhttp%3A%2F%2F10.0.0.4%3A8088%2Fproxy%2Fapplication_1515502980890_0002/stages/stage/?id\u003d780\u0026attempt\u003d0",
                "numCompleteTasks": 20,
                "numActiveTasks": 0,
                "numFailedTasks": 0,
                "numTotalTasks": 20
              }
            ],
            "status": "Success"
          },
          {
            "id": 393,
            "jobUrl": "https://azure.qubole.com/cluster-proxy?encodedUrl\u003dhttp%3A%2F%2F10.0.0.4%3A8088%2Fproxy%2Fapplication_1515502980890_0002/jobs/job?spark\u003dtrue\u0026id\u003d393",
            "numTasks": 60,
            "numCompletedTasks": 40,
            "stages": [
              {
                "id": 781,
                "completed": true,
                "stageUrl": "https://azure.qubole.com/cluster-proxy?encodedUrl\u003dhttp%3A%2F%2F10.0.0.4%3A8088%2Fproxy%2Fapplication_1515502980890_0002/stages/stage/?id\u003d781\u0026attempt\u003d0",
                "numCompleteTasks": 0,
                "numActiveTasks": 0,
                "numFailedTasks": 0,
                "numTotalTasks": 0
              },
              {
                "id": 782,
                "completed": true,
                "stageUrl": "https://azure.qubole.com/cluster-proxy?encodedUrl\u003dhttp%3A%2F%2F10.0.0.4%3A8088%2Fproxy%2Fapplication_1515502980890_0002/stages/stage/?id\u003d782\u0026attempt\u003d0",
                "numCompleteTasks": 20,
                "numActiveTasks": 0,
                "numFailedTasks": 0,
                "numTotalTasks": 20
              },
              {
                "id": 783,
                "completed": true,
                "stageUrl": "https://azure.qubole.com/cluster-proxy?encodedUrl\u003dhttp%3A%2F%2F10.0.0.4%3A8088%2Fproxy%2Fapplication_1515502980890_0002/stages/stage/?id\u003d783\u0026attempt\u003d0",
                "numCompleteTasks": 20,
                "numActiveTasks": 0,
                "numFailedTasks": 0,
                "numTotalTasks": 20
              }
            ],
            "status": "Success"
          },
          {
            "id": 394,
            "jobUrl": "https://azure.qubole.com/cluster-proxy?encodedUrl\u003dhttp%3A%2F%2F10.0.0.4%3A8088%2Fproxy%2Fapplication_1515502980890_0002/jobs/job?spark\u003dtrue\u0026id\u003d394",
            "numTasks": 62,
            "numCompletedTasks": 22,
            "stages": [
              {
                "id": 785,
                "completed": true,
                "stageUrl": "https://azure.qubole.com/cluster-proxy?encodedUrl\u003dhttp%3A%2F%2F10.0.0.4%3A8088%2Fproxy%2Fapplication_1515502980890_0002/stages/stage/?id\u003d785\u0026attempt\u003d0",
                "numCompleteTasks": 0,
                "numActiveTasks": 0,
                "numFailedTasks": 0,
                "numTotalTasks": 0
              },
              {
                "id": 786,
                "completed": true,
                "stageUrl": "https://azure.qubole.com/cluster-proxy?encodedUrl\u003dhttp%3A%2F%2F10.0.0.4%3A8088%2Fproxy%2Fapplication_1515502980890_0002/stages/stage/?id\u003d786\u0026attempt\u003d0",
                "numCompleteTasks": 22,
                "numActiveTasks": 0,
                "numFailedTasks": 0,
                "numTotalTasks": 22
              },
              {
                "id": 784,
                "completed": true,
                "stageUrl": "https://azure.qubole.com/cluster-proxy?encodedUrl\u003dhttp%3A%2F%2F10.0.0.4%3A8088%2Fproxy%2Fapplication_1515502980890_0002/stages/stage/?id\u003d784\u0026attempt\u003d0",
                "numCompleteTasks": 0,
                "numActiveTasks": 0,
                "numFailedTasks": 0,
                "numTotalTasks": 0
              }
            ],
            "status": "Success"
          },
          {
            "id": 395,
            "jobUrl": "https://azure.qubole.com/cluster-proxy?encodedUrl\u003dhttp%3A%2F%2F10.0.0.4%3A8088%2Fproxy%2Fapplication_1515502980890_0002/jobs/job?spark\u003dtrue\u0026id\u003d395",
            "numTasks": 61,
            "numCompletedTasks": 21,
            "stages": [
              {
                "id": 789,
                "completed": true,
                "stageUrl": "https://azure.qubole.com/cluster-proxy?encodedUrl\u003dhttp%3A%2F%2F10.0.0.4%3A8088%2Fproxy%2Fapplication_1515502980890_0002/stages/stage/?id\u003d789\u0026attempt\u003d0",
                "numCompleteTasks": 21,
                "numActiveTasks": 0,
                "numFailedTasks": 0,
                "numTotalTasks": 21
              },
              {
                "id": 787,
                "completed": true,
                "stageUrl": "https://azure.qubole.com/cluster-proxy?encodedUrl\u003dhttp%3A%2F%2F10.0.0.4%3A8088%2Fproxy%2Fapplication_1515502980890_0002/stages/stage/?id\u003d787\u0026attempt\u003d0",
                "numCompleteTasks": 0,
                "numActiveTasks": 0,
                "numFailedTasks": 0,
                "numTotalTasks": 0
              },
              {
                "id": 788,
                "completed": true,
                "stageUrl": "https://azure.qubole.com/cluster-proxy?encodedUrl\u003dhttp%3A%2F%2F10.0.0.4%3A8088%2Fproxy%2Fapplication_1515502980890_0002/stages/stage/?id\u003d788\u0026attempt\u003d0",
                "numCompleteTasks": 0,
                "numActiveTasks": 0,
                "numFailedTasks": 0,
                "numTotalTasks": 0
              }
            ],
            "status": "Success"
          }
        ],
        "numCompletedTasks": 965,
        "numTasks": 1545,
        "truncated": false
      },
      "jobName": "paragraph_1515516135647_744494078",
      "id": "20180109-164215_657922449_q_8YVGJMASEQ1515692831",
      "result": {
        "code": "SUCCESS",
        "type": "TEXT",
        "msg": "\nevaluator: org.apache.spark.ml.evaluation.BinaryClassificationEvaluator \u003d binEval_a8f23ba583d8\n\n\n\n\n\n\n\n\n\n\n\n\n\n\n\n\n\n\n\n\n\n\n\n\n\n\n\n\n\nparamGrid: Array[org.apache.spark.ml.param.ParamMap] \u003d\nArray({\n\trfc_2aac755f401c-maxDepth: 3,\n\trfc_2aac755f401c-numTrees: 50\n}, {\n\trfc_2aac755f401c-maxDepth: 3,\n\trfc_2aac755f401c-numTrees: 100\n}, {\n\trfc_2aac755f401c-maxDepth: 3,\n\trfc_2aac755f401c-numTrees: 200\n}, {\n\trfc_2aac755f401c-maxDepth: 4,\n\trfc_2aac755f401c-numTrees: 50\n}, {\n\trfc_2aac755f401c-maxDepth: 4,\n\trfc_2aac755f401c-numTrees: 100\n}, {\n\trfc_2aac755f401c-maxDepth: 4,\n\trfc_2aac755f401c-numTrees: 200\n}, {\n\trfc_2aac755f401c-maxDepth: 5,\n\trfc_2aac755f401c-numTrees: 50\n}, {\n\trfc_2aac755f401c-maxDepth: 5,\n\trfc_2aac755f401c-numTrees: 100\n}, {\n\trfc_2aac755f401c-maxDepth: 5,\n\trfc_2aac755f401c-numTrees: 200\n})\n\ncv: org.apache.spark.ml.tuning.CrossValidator \u003d cv_b2a83181bd3f\n\ncvModel: org.apache.spark.ml.tuning.CrossValidatorModel \u003d cv_b2a83181bd3f\n\npredictions: org.apache.spark.sql.DataFrame \u003d [asin: string, helpful: array\u003cbigint\u003e ... 23 more fields]\n\nres22: Double \u003d 0.666510488024605\n"
      },
      "dateCreated": "Jan 9, 2018 4:42:15 PM",
      "dateStarted": "Jan 9, 2018 4:45:56 PM",
      "dateFinished": "Jan 9, 2018 4:58:36 PM",
      "status": "FINISHED",
      "progressUpdateIntervalMs": 500
    },
    {
      "text": "val rfModel \u003d cvModel",
      "user": "davidgillen@precocityllc.com",
      "dateUpdated": "Jan 9, 2018 6:49:19 PM",
      "config": {
        "colWidth": 12.0,
        "graph": {
          "mode": "table",
          "height": 300.0,
          "optionOpen": false,
          "keys": [],
          "values": [],
          "groups": [],
          "scatter": {}
        },
        "enabled": true,
        "editorMode": "ace/mode/scala"
      },
      "settings": {
        "params": {},
        "forms": {}
      },
      "paragraphProgress": {
        "jobs": [],
        "numCompletedTasks": 0,
        "numTasks": 0,
        "truncated": false
      },
      "jobName": "paragraph_1515508982838_-470132935",
      "id": "20180109-144302_827365804_q_8YVGJMASEQ1515692831",
      "result": {
        "code": "ERROR",
        "type": "TEXT",
        "msg": "\n\njava.lang.ClassCastException: org.apache.spark.ml.PipelineModel cannot be cast to org.apache.spark.ml.classification.RandomForestClassifier\n  ... 102 elided\n"
      },
      "dateCreated": "Jan 9, 2018 2:43:02 PM",
      "dateStarted": "Jan 9, 2018 6:48:12 PM",
      "dateFinished": "Jan 9, 2018 6:48:14 PM",
      "status": "ERROR",
      "progressUpdateIntervalMs": 500
    },
    {
      "text": "import org.apache.spark.ml.linalg._\nimport org.apache.spark.mllib.linalg.distributed._\nvar ptf \u003d sqlContext.sql(\"select * from reviews where score \u003e\u003d 0.8\")\nvar countTF \u003d new CountVectorizer().setMinTF(1.0).setInputCol(\"stopWordsOutput\").setOutputCol(\"countFeatures\")\nvar countModel \u003d countTF.fit(ptf)\nvar featurizedData \u003d countModel.transform(ptf)\nvar idf \u003d new IDF().setInputCol(\"countFeatures\").setOutputCol(\"idfFeatures\")\nvar idfModel \u003d idf.fit(featurizedData)\nvar rescaledData \u003d idfModel.transform(featurizedData)\nvar rdd \u003d rescaledData.rdd.map(row \u003d\u003e org.apache.spark.mllib.linalg.Vectors.fromML(row.getAs[org.apache.spark.ml.linalg.SparseVector](\"idfFeatures\")))\nvar newRDD \u003d rdd.zipWithIndex()\nvar ir \u003d newRDD.map(x \u003d\u003e new IndexedRow(x._2,x._1))\nval mat: IndexedRowMatrix \u003d new IndexedRowMatrix(ir)\nvar corMat \u003d mat.toCoordinateMatrix()\nvar corMatT \u003d corMat.transpose()\n//println(\"mat.numCols() \u003d \" + mat.numCols())\n//println(\"mat.numRows() \u003d \" + mat.numRows())\nprintln(\"corMatT.numCols() \u003d \" + corMatT.numCols())\nprintln(\"corMatT.numRows() \u003d \" + corMatT.numRows())\nprintln(\"countModel.vocabulary.length \u003d \" + countModel.vocabulary.length)\nval rowSums \u003d corMatT.entries.map{case MatrixEntry(row, _, value) \u003d\u003e (row, value)}.reduceByKey(_ + _)\nvar rowMeans \u003d rowSums.map{case (index,sum) \u003d\u003e (index, sum / countModel.vocabulary.length)}\n//rowMeans.take(3)\nvar rowMeansDF \u003d rowMeans.toDF(\"wordIndex\",\"meanIDF\")\n//rowMeansDF.show()\nvar wordsRDD \u003d sc.parallelize(countModel.vocabulary)\nvar wordDF \u003d wordsRDD.zipWithIndex().toDF(\"word\",\"wordIndex\")\nrowMeansDF.join(wordDF,\"wordIndex\").sort($\"meanIDF\".desc).show()",
      "user": "davidgillen@precocityllc.com",
      "dateUpdated": "Jan 9, 2018 2:19:48 PM",
      "config": {
        "colWidth": 12.0,
        "graph": {
          "mode": "table",
          "height": 300.0,
          "optionOpen": false,
          "keys": [],
          "values": [],
          "groups": [],
          "scatter": {}
        },
        "enabled": true,
        "editorMode": "ace/mode/scala"
      },
      "settings": {
        "params": {},
        "forms": {}
      },
      "paragraphProgress": {
        "jobs": [
          {
            "id": 52,
            "jobUrl": "https://azure.qubole.com/cluster-proxy?encodedUrl\u003dhttp%3A%2F%2F10.0.0.4%3A8088%2Fproxy%2Fapplication_1515502980890_0001/jobs/job?spark\u003dtrue\u0026id\u003d52",
            "numTasks": 40,
            "numCompletedTasks": 40,
            "stages": [
              {
                "id": 82,
                "completed": true,
                "stageUrl": "https://azure.qubole.com/cluster-proxy?encodedUrl\u003dhttp%3A%2F%2F10.0.0.4%3A8088%2Fproxy%2Fapplication_1515502980890_0001/stages/stage/?id\u003d82\u0026attempt\u003d0",
                "numCompleteTasks": 20,
                "numActiveTasks": 0,
                "numFailedTasks": 0,
                "numTotalTasks": 20
              },
              {
                "id": 83,
                "completed": true,
                "stageUrl": "https://azure.qubole.com/cluster-proxy?encodedUrl\u003dhttp%3A%2F%2F10.0.0.4%3A8088%2Fproxy%2Fapplication_1515502980890_0001/stages/stage/?id\u003d83\u0026attempt\u003d0",
                "numCompleteTasks": 20,
                "numActiveTasks": 0,
                "numFailedTasks": 0,
                "numTotalTasks": 20
              }
            ],
            "status": "Success"
          },
          {
            "id": 53,
            "jobUrl": "https://azure.qubole.com/cluster-proxy?encodedUrl\u003dhttp%3A%2F%2F10.0.0.4%3A8088%2Fproxy%2Fapplication_1515502980890_0001/jobs/job?spark\u003dtrue\u0026id\u003d53",
            "numTasks": 40,
            "numCompletedTasks": 20,
            "stages": [
              {
                "id": 84,
                "completed": true,
                "stageUrl": "https://azure.qubole.com/cluster-proxy?encodedUrl\u003dhttp%3A%2F%2F10.0.0.4%3A8088%2Fproxy%2Fapplication_1515502980890_0001/stages/stage/?id\u003d84\u0026attempt\u003d0",
                "numCompleteTasks": 0,
                "numActiveTasks": 0,
                "numFailedTasks": 0,
                "numTotalTasks": 0
              },
              {
                "id": 85,
                "completed": true,
                "stageUrl": "https://azure.qubole.com/cluster-proxy?encodedUrl\u003dhttp%3A%2F%2F10.0.0.4%3A8088%2Fproxy%2Fapplication_1515502980890_0001/stages/stage/?id\u003d85\u0026attempt\u003d0",
                "numCompleteTasks": 20,
                "numActiveTasks": 0,
                "numFailedTasks": 0,
                "numTotalTasks": 20
              }
            ],
            "status": "Success"
          },
          {
            "id": 54,
            "jobUrl": "https://azure.qubole.com/cluster-proxy?encodedUrl\u003dhttp%3A%2F%2F10.0.0.4%3A8088%2Fproxy%2Fapplication_1515502980890_0001/jobs/job?spark\u003dtrue\u0026id\u003d54",
            "numTasks": 24,
            "numCompletedTasks": 24,
            "stages": [
              {
                "id": 86,
                "completed": true,
                "stageUrl": "https://azure.qubole.com/cluster-proxy?encodedUrl\u003dhttp%3A%2F%2F10.0.0.4%3A8088%2Fproxy%2Fapplication_1515502980890_0001/stages/stage/?id\u003d86\u0026attempt\u003d0",
                "numCompleteTasks": 20,
                "numActiveTasks": 0,
                "numFailedTasks": 0,
                "numTotalTasks": 20
              },
              {
                "id": 87,
                "completed": true,
                "stageUrl": "https://azure.qubole.com/cluster-proxy?encodedUrl\u003dhttp%3A%2F%2F10.0.0.4%3A8088%2Fproxy%2Fapplication_1515502980890_0001/stages/stage/?id\u003d87\u0026attempt\u003d0",
                "numCompleteTasks": 4,
                "numActiveTasks": 0,
                "numFailedTasks": 0,
                "numTotalTasks": 4
              }
            ],
            "status": "Success"
          },
          {
            "id": 55,
            "jobUrl": "https://azure.qubole.com/cluster-proxy?encodedUrl\u003dhttp%3A%2F%2F10.0.0.4%3A8088%2Fproxy%2Fapplication_1515502980890_0001/jobs/job?spark\u003dtrue\u0026id\u003d55",
            "numTasks": 19,
            "numCompletedTasks": 19,
            "stages": [
              {
                "id": 88,
                "completed": true,
                "stageUrl": "https://azure.qubole.com/cluster-proxy?encodedUrl\u003dhttp%3A%2F%2F10.0.0.4%3A8088%2Fproxy%2Fapplication_1515502980890_0001/stages/stage/?id\u003d88\u0026attempt\u003d0",
                "numCompleteTasks": 19,
                "numActiveTasks": 0,
                "numFailedTasks": 0,
                "numTotalTasks": 19
              }
            ],
            "status": "Success"
          },
          {
            "id": 56,
            "jobUrl": "https://azure.qubole.com/cluster-proxy?encodedUrl\u003dhttp%3A%2F%2F10.0.0.4%3A8088%2Fproxy%2Fapplication_1515502980890_0001/jobs/job?spark\u003dtrue\u0026id\u003d56",
            "numTasks": 20,
            "numCompletedTasks": 20,
            "stages": [
              {
                "id": 89,
                "completed": true,
                "stageUrl": "https://azure.qubole.com/cluster-proxy?encodedUrl\u003dhttp%3A%2F%2F10.0.0.4%3A8088%2Fproxy%2Fapplication_1515502980890_0001/stages/stage/?id\u003d89\u0026attempt\u003d0",
                "numCompleteTasks": 20,
                "numActiveTasks": 0,
                "numFailedTasks": 0,
                "numTotalTasks": 20
              }
            ],
            "status": "Success"
          },
          {
            "id": 57,
            "jobUrl": "https://azure.qubole.com/cluster-proxy?encodedUrl\u003dhttp%3A%2F%2F10.0.0.4%3A8088%2Fproxy%2Fapplication_1515502980890_0001/jobs/job?spark\u003dtrue\u0026id\u003d57",
            "numTasks": 1,
            "numCompletedTasks": 1,
            "stages": [
              {
                "id": 90,
                "completed": true,
                "stageUrl": "https://azure.qubole.com/cluster-proxy?encodedUrl\u003dhttp%3A%2F%2F10.0.0.4%3A8088%2Fproxy%2Fapplication_1515502980890_0001/stages/stage/?id\u003d90\u0026attempt\u003d0",
                "numCompleteTasks": 1,
                "numActiveTasks": 0,
                "numFailedTasks": 0,
                "numTotalTasks": 1
              }
            ],
            "status": "Success"
          },
          {
            "id": 58,
            "jobUrl": "https://azure.qubole.com/cluster-proxy?encodedUrl\u003dhttp%3A%2F%2F10.0.0.4%3A8088%2Fproxy%2Fapplication_1515502980890_0001/jobs/job?spark\u003dtrue\u0026id\u003d58",
            "numTasks": 19,
            "numCompletedTasks": 19,
            "stages": [
              {
                "id": 91,
                "completed": true,
                "stageUrl": "https://azure.qubole.com/cluster-proxy?encodedUrl\u003dhttp%3A%2F%2F10.0.0.4%3A8088%2Fproxy%2Fapplication_1515502980890_0001/stages/stage/?id\u003d91\u0026attempt\u003d0",
                "numCompleteTasks": 19,
                "numActiveTasks": 0,
                "numFailedTasks": 0,
                "numTotalTasks": 19
              }
            ],
            "status": "Success"
          },
          {
            "id": 59,
            "jobUrl": "https://azure.qubole.com/cluster-proxy?encodedUrl\u003dhttp%3A%2F%2F10.0.0.4%3A8088%2Fproxy%2Fapplication_1515502980890_0001/jobs/job?spark\u003dtrue\u0026id\u003d59",
            "numTasks": 260,
            "numCompletedTasks": 260,
            "stages": [
              {
                "id": 93,
                "completed": true,
                "stageUrl": "https://azure.qubole.com/cluster-proxy?encodedUrl\u003dhttp%3A%2F%2F10.0.0.4%3A8088%2Fproxy%2Fapplication_1515502980890_0001/stages/stage/?id\u003d93\u0026attempt\u003d0",
                "numCompleteTasks": 20,
                "numActiveTasks": 0,
                "numFailedTasks": 0,
                "numTotalTasks": 20
              },
              {
                "id": 94,
                "completed": true,
                "stageUrl": "https://azure.qubole.com/cluster-proxy?encodedUrl\u003dhttp%3A%2F%2F10.0.0.4%3A8088%2Fproxy%2Fapplication_1515502980890_0001/stages/stage/?id\u003d94\u0026attempt\u003d0",
                "numCompleteTasks": 20,
                "numActiveTasks": 0,
                "numFailedTasks": 0,
                "numTotalTasks": 20
              },
              {
                "id": 95,
                "completed": true,
                "stageUrl": "https://azure.qubole.com/cluster-proxy?encodedUrl\u003dhttp%3A%2F%2F10.0.0.4%3A8088%2Fproxy%2Fapplication_1515502980890_0001/stages/stage/?id\u003d95\u0026attempt\u003d0",
                "numCompleteTasks": 200,
                "numActiveTasks": 0,
                "numFailedTasks": 0,
                "numTotalTasks": 200
              },
              {
                "id": 92,
                "completed": true,
                "stageUrl": "https://azure.qubole.com/cluster-proxy?encodedUrl\u003dhttp%3A%2F%2F10.0.0.4%3A8088%2Fproxy%2Fapplication_1515502980890_0001/stages/stage/?id\u003d92\u0026attempt\u003d0",
                "numCompleteTasks": 20,
                "numActiveTasks": 0,
                "numFailedTasks": 0,
                "numTotalTasks": 20
              }
            ],
            "status": "Success"
          }
        ],
        "numCompletedTasks": 403,
        "numTasks": 423,
        "truncated": false
      },
      "jobName": "paragraph_1515505206368_-1798492454",
      "id": "20180109-134006_1490274054_q_8YVGJMASEQ1515692831",
      "result": {
        "code": "SUCCESS",
        "type": "TEXT",
        "msg": "\nimport org.apache.spark.ml.linalg._\n\nimport org.apache.spark.mllib.linalg.distributed._\n\nptf: org.apache.spark.sql.DataFrame \u003d [asin: string, helpful: array\u003cbigint\u003e ... 15 more fields]\n\ncountTF: org.apache.spark.ml.feature.CountVectorizer \u003d cntVec_eaea92828b55\n\ncountModel: org.apache.spark.ml.feature.CountVectorizerModel \u003d cntVec_eaea92828b55\n\nfeaturizedData: org.apache.spark.sql.DataFrame \u003d [asin: string, helpful: array\u003cbigint\u003e ... 16 more fields]\n\nidf: org.apache.spark.ml.feature.IDF \u003d idf_35ecd93d5322\n\nidfModel: org.apache.spark.ml.feature.IDFModel \u003d idf_35ecd93d5322\n\nrescaledData: org.apache.spark.sql.DataFrame \u003d [asin: string, helpful: array\u003cbigint\u003e ... 17 more fields]\n\nrdd: org.apache.spark.rdd.RDD[org.apache.spark.mllib.linalg.Vector] \u003d MapPartitionsRDD[318] at map at \u003cconsole\u003e:158\n\nnewRDD: org.apache.spark.rdd.RDD[(org.apache.spark.mllib.linalg.Vector, Long)] \u003d ZippedWithIndexRDD[319] at zipWithIndex at \u003cconsole\u003e:160\n\nir: org.apache.spark.rdd.RDD[org.apache.spark.mllib.linalg.distributed.IndexedRow] \u003d MapPartitionsRDD[320] at map at \u003cconsole\u003e:162\n\nmat: org.apache.spark.mllib.linalg.distributed.IndexedRowMatrix \u003d org.apache.spark.mllib.linalg.distributed.IndexedRowMatrix@5d76cffc\n\ncorMat: org.apache.spark.mllib.linalg.distributed.CoordinateMatrix \u003d org.apache.spark.mllib.linalg.distributed.CoordinateMatrix@34fae7b4\n\ncorMatT: org.apache.spark.mllib.linalg.distributed.CoordinateMatrix \u003d org.apache.spark.mllib.linalg.distributed.CoordinateMatrix@24ab3a67\ncorMatT.numCols() \u003d 136788\ncorMatT.numRows() \u003d 207432\ncountModel.vocabulary.length \u003d 207432\n\nrowSums: org.apache.spark.rdd.RDD[(Long, Double)] \u003d ShuffledRDD[325] at reduceByKey at \u003cconsole\u003e:170\n\nrowMeans: org.apache.spark.rdd.RDD[(Long, Double)] \u003d MapPartitionsRDD[326] at map at \u003cconsole\u003e:172\n\nrowMeansDF: org.apache.spark.sql.DataFrame \u003d [wordIndex: bigint, meanIDF: double]\n\nwordsRDD: org.apache.spark.rdd.RDD[String] \u003d ParallelCollectionRDD[327] at parallelize at \u003cconsole\u003e:152\n\nwordDF: org.apache.spark.sql.DataFrame \u003d [word: string, wordIndex: bigint]\n+---------+-------------------+--------+\n|wordIndex|            meanIDF|    word|\n+---------+-------------------+--------+\n|        8| 0.5709832240277324|   sound|\n|        0| 0.4842486135256127|     use|\n|        1| 0.4768313405230626|    like|\n|        2|0.45943654988601396|    good|\n|        6|0.45922008430345757| quality|\n|        4| 0.4525469596501111|     get|\n|        3|0.42290157293376507|   great|\n|        7|0.41636288148524087|    time|\n|       33| 0.4124542907051163|   cable|\n|       11| 0.4101415768099766|  really|\n|        5|0.40637507536690726|    well|\n|       41| 0.4024840419319335|  device|\n|       12| 0.3991391332918295|  better|\n|       10| 0.3966313177152698|    much|\n|       32|  0.395564618635536|   power|\n|        9|  0.395370280951596|    even|\n|       58| 0.3942320866634757|  player|\n|       83|0.38867664962664406|keyboard|\n|       17| 0.3879956298714822|       5|\n|       13|0.38454667205682747|   using|\n+---------+-------------------+--------+\nonly showing top 20 rows\n\n"
      },
      "dateCreated": "Jan 9, 2018 1:40:06 PM",
      "dateStarted": "Jan 9, 2018 2:19:48 PM",
      "dateFinished": "Jan 9, 2018 2:21:00 PM",
      "status": "FINISHED",
      "progressUpdateIntervalMs": 500
    },
    {
      "text": "%md\n# Compute NumWords in Each Review",
      "user": "davidgillen@precocityllc.com",
      "dateUpdated": "Jan 4, 2018 7:44:22 PM",
      "config": {
        "colWidth": 12.0,
        "graph": {
          "mode": "table",
          "height": 300.0,
          "optionOpen": false,
          "keys": [],
          "values": [],
          "groups": [],
          "scatter": {}
        },
        "enabled": true,
        "editorMode": "ace/mode/markdown",
        "editorHide": true
      },
      "settings": {
        "params": {},
        "forms": {}
      },
      "jobName": "paragraph_1515095039365_-796112934",
      "id": "20180104-194359_818627649_q_8YVGJMASEQ1515692831",
      "result": {
        "code": "SUCCESS",
        "type": "HTML",
        "msg": "\u003cdiv class\u003d\"markdown-body\"\u003e\n\u003ch1\u003eCompute NumWords in Each Review\u003c/h1\u003e\n\u003c/div\u003e"
      },
      "dateCreated": "Jan 4, 2018 7:43:59 PM",
      "dateStarted": "Jan 4, 2018 7:44:19 PM",
      "dateFinished": "Jan 4, 2018 7:44:22 PM",
      "status": "FINISHED",
      "progressUpdateIntervalMs": 500
    },
    {
      "text": "val filterByLengthUDF \u003d sqlContext.udf.register(\"NumWords\", (x:WrappedArray[String]) \u003d\u003e x.length)\ndf \u003d sqlContext.sql(\"select *, NumWords(regexOutput) as numWords from reviews\")\ndf.createOrReplaceTempView(\"reviews\")",
      "user": "davidgillen@precocityllc.com",
      "dateUpdated": "Jan 8, 2018 1:35:12 PM",
      "config": {
        "colWidth": 12.0,
        "graph": {
          "mode": "table",
          "height": 300.0,
          "optionOpen": false,
          "keys": [],
          "values": [],
          "groups": [],
          "scatter": {}
        },
        "enabled": true,
        "editorMode": "ace/mode/scala"
      },
      "settings": {
        "params": {},
        "forms": {}
      },
      "paragraphProgress": {
        "jobs": [],
        "numCompletedTasks": 0,
        "numTasks": 0,
        "truncated": false
      },
      "jobName": "paragraph_1515014791768_-1954808974",
      "id": "20180103-212631_236952235_q_8YVGJMASEQ1515692831",
      "result": {
        "code": "SUCCESS",
        "type": "TEXT",
        "msg": "\nfilterByLengthUDF: org.apache.spark.sql.expressions.UserDefinedFunction \u003d UserDefinedFunction(\u003cfunction1\u003e,IntegerType,Some(List(ArrayType(StringType,true))))\n\ndf: org.apache.spark.sql.DataFrame \u003d [asin: string, helpful: array\u003cbigint\u003e ... 15 more fields]\n"
      },
      "dateCreated": "Jan 3, 2018 9:26:31 PM",
      "dateStarted": "Jan 8, 2018 1:35:12 PM",
      "dateFinished": "Jan 8, 2018 1:35:13 PM",
      "status": "FINISHED",
      "progressUpdateIntervalMs": 500
    },
    {
      "text": "%md\n# Convert UnixReviewTime to Date String",
      "user": "davidgillen@precocityllc.com",
      "dateUpdated": "Jan 4, 2018 7:44:55 PM",
      "config": {
        "colWidth": 12.0,
        "graph": {
          "mode": "table",
          "height": 300.0,
          "optionOpen": false,
          "keys": [],
          "values": [],
          "groups": [],
          "scatter": {}
        },
        "enabled": true,
        "editorMode": "ace/mode/markdown",
        "editorHide": true
      },
      "settings": {
        "params": {},
        "forms": {}
      },
      "jobName": "paragraph_1515095065304_525712431",
      "id": "20180104-194425_1436353087_q_8YVGJMASEQ1515692831",
      "result": {
        "code": "SUCCESS",
        "type": "HTML",
        "msg": "\u003cdiv class\u003d\"markdown-body\"\u003e\n\u003ch1\u003eConvert UnixReviewTime to Date String\u003c/h1\u003e\n\u003c/div\u003e"
      },
      "dateCreated": "Jan 4, 2018 7:44:25 PM",
      "dateStarted": "Jan 4, 2018 7:44:51 PM",
      "dateFinished": "Jan 4, 2018 7:44:51 PM",
      "status": "FINISHED",
      "progressUpdateIntervalMs": 500
    },
    {
      "text": "df \u003d sqlContext.sql(\"select *,from_unixtime(unixReviewTime,\u0027YYYY-MM-dd\u0027) as reviewDate from reviews\")\ndf.createOrReplaceTempView(\"reviews\")",
      "user": "davidgillen@precocityllc.com",
      "dateUpdated": "Jan 8, 2018 1:35:15 PM",
      "config": {
        "colWidth": 12.0,
        "graph": {
          "mode": "table",
          "height": 300.0,
          "optionOpen": false,
          "keys": [],
          "values": [],
          "groups": [],
          "scatter": {}
        },
        "enabled": true,
        "editorMode": "ace/mode/scala"
      },
      "settings": {
        "params": {},
        "forms": {}
      },
      "paragraphProgress": {
        "jobs": [],
        "numCompletedTasks": 0,
        "numTasks": 0,
        "truncated": false
      },
      "jobName": "paragraph_1515015723813_-1815632208",
      "id": "20180103-214203_1646196295_q_8YVGJMASEQ1515692831",
      "result": {
        "code": "SUCCESS",
        "type": "TEXT",
        "msg": "\ndf: org.apache.spark.sql.DataFrame \u003d [asin: string, helpful: array\u003cbigint\u003e ... 16 more fields]\n"
      },
      "dateCreated": "Jan 3, 2018 9:42:03 PM",
      "dateStarted": "Jan 8, 2018 1:35:15 PM",
      "dateFinished": "Jan 8, 2018 1:35:15 PM",
      "status": "FINISHED",
      "progressUpdateIntervalMs": 500
    },
    {
      "text": "def binTheScores(thisDF:DataFrame):DataFrame \u003d { \n    val bucketizer \u003d new Bucketizer()\n        .setInputCol(\"score\")\n        .setOutputCol(\"score_bin\")\n        .setSplits( Array(0.0, 0.20, 0.80, 1.0 ) )\n    var scoreDF3 \u003d thisDF.filter(\"score \u003e 0 and score \u003c\u003d 1\")\n    val binnedData \u003d bucketizer.transform(scoreDF3)\n    binnedData\n}",
      "user": "davidgillen@precocityllc.com",
      "dateUpdated": "Jan 8, 2018 1:35:18 PM",
      "config": {
        "colWidth": 12.0,
        "graph": {
          "mode": "table",
          "height": 300.0,
          "optionOpen": false,
          "keys": [],
          "values": [],
          "groups": [],
          "scatter": {}
        },
        "enabled": true,
        "editorMode": "ace/mode/scala"
      },
      "settings": {
        "params": {},
        "forms": {}
      },
      "paragraphProgress": {
        "jobs": [],
        "numCompletedTasks": 0,
        "numTasks": 0,
        "truncated": false
      },
      "jobName": "paragraph_1515176908653_389611570",
      "id": "20180105-182828_1986260017_q_8YVGJMASEQ1515692831",
      "result": {
        "code": "SUCCESS",
        "type": "TEXT",
        "msg": "\nbinTheScores: (thisDF: org.apache.spark.sql.DataFrame)org.apache.spark.sql.DataFrame\n"
      },
      "dateCreated": "Jan 5, 2018 6:28:28 PM",
      "dateStarted": "Jan 8, 2018 1:35:18 PM",
      "dateFinished": "Jan 8, 2018 1:35:19 PM",
      "status": "FINISHED",
      "progressUpdateIntervalMs": 500
    },
    {
      "text": "def sampleForGood(binnedDF:DataFrame):DataFrame \u003d { \n    var gbdf \u003d binnedDF.groupBy(\"score_bin\").count()\n    gbdf.show()\n    var minVal \u003d gbdf.agg(min(\"count\")).head.getLong(0)\n    var scaleVal \u003d 0.8 * minVal\n    gbdf \u003d gbdf.withColumn(\"ratio\",lit(scaleVal).divide(gbdf.col(\"count\")))\n    gbdf.createOrReplaceTempView(\"gbdf\")\n    var od \u003d sqlContext.sql(\"select score_bin,ratio from gbdf order by score_bin asc\")\n    var ar \u003d od.select(\"ratio\").collect()\n    var ar2 \u003d ar.map(x \u003d\u003e x.getDouble(0))\n    var ar3 \u003d Array(ar2(0),ar2(1),2*ar2(2))\n    var fractionKeyMap \u003d ar3.zipWithIndex.map(x \u003d\u003e (x._2,x._1)).toMap\n    var stratSampled \u003d binnedDF.stat.sampleBy(\"score_bin\", fractionKeyMap, 7L)\n    stratSampled.cache().count\n    stratSampled.groupBy(\"score_bin\").count().show()\n    stratSampled\n}",
      "user": "davidgillen@precocityllc.com",
      "dateUpdated": "Jan 8, 2018 1:35:21 PM",
      "config": {
        "colWidth": 12.0,
        "graph": {
          "mode": "table",
          "height": 300.0,
          "optionOpen": false,
          "keys": [],
          "values": [],
          "groups": [],
          "scatter": {}
        },
        "enabled": true,
        "editorMode": "ace/mode/scala"
      },
      "settings": {
        "params": {},
        "forms": {}
      },
      "paragraphProgress": {
        "jobs": [],
        "numCompletedTasks": 0,
        "numTasks": 0,
        "truncated": false
      },
      "jobName": "paragraph_1515177068269_1117250006",
      "id": "20180105-183108_1323897411_q_8YVGJMASEQ1515692831",
      "result": {
        "code": "SUCCESS",
        "type": "TEXT",
        "msg": "\nsampleForGood: (binnedDF: org.apache.spark.sql.DataFrame)org.apache.spark.sql.DataFrame\n"
      },
      "dateCreated": "Jan 5, 2018 6:31:08 PM",
      "dateStarted": "Jan 8, 2018 1:35:21 PM",
      "dateFinished": "Jan 8, 2018 1:35:21 PM",
      "status": "FINISHED",
      "progressUpdateIntervalMs": 500
    },
    {
      "text": "//var electronicsDF \u003d sqlContext.sql(\"select * from reviews where Category \u003d \u0027Electronics\u0027\")\nvar binnedDF \u003d binTheScores(df)\nvar sampledForGoodDF \u003d sampleForGood(binnedDF)",
      "user": "davidgillen@precocityllc.com",
      "dateUpdated": "Jan 8, 2018 1:35:30 PM",
      "config": {
        "colWidth": 12.0,
        "graph": {
          "mode": "table",
          "height": 300.0,
          "optionOpen": false,
          "keys": [],
          "values": [],
          "groups": [],
          "scatter": {}
        },
        "enabled": true,
        "editorMode": "ace/mode/scala"
      },
      "settings": {
        "params": {},
        "forms": {}
      },
      "paragraphProgress": {
        "jobs": [
          {
            "id": 27,
            "jobUrl": "https://azure.qubole.com/cluster-proxy?encodedUrl\u003dhttp%3A%2F%2F10.0.0.4%3A8088%2Fproxy%2Fapplication_1515416833021_0001/jobs/job?spark\u003dtrue\u0026id\u003d27",
            "numTasks": 21,
            "numCompletedTasks": 21,
            "stages": [
              {
                "id": 27,
                "completed": true,
                "stageUrl": "https://azure.qubole.com/cluster-proxy?encodedUrl\u003dhttp%3A%2F%2F10.0.0.4%3A8088%2Fproxy%2Fapplication_1515416833021_0001/stages/stage/?id\u003d27\u0026attempt\u003d0",
                "numCompleteTasks": 20,
                "numActiveTasks": 0,
                "numFailedTasks": 0,
                "numTotalTasks": 20
              },
              {
                "id": 28,
                "completed": true,
                "stageUrl": "https://azure.qubole.com/cluster-proxy?encodedUrl\u003dhttp%3A%2F%2F10.0.0.4%3A8088%2Fproxy%2Fapplication_1515416833021_0001/stages/stage/?id\u003d28\u0026attempt\u003d0",
                "numCompleteTasks": 1,
                "numActiveTasks": 0,
                "numFailedTasks": 0,
                "numTotalTasks": 1
              }
            ],
            "status": "Success"
          },
          {
            "id": 28,
            "jobUrl": "https://azure.qubole.com/cluster-proxy?encodedUrl\u003dhttp%3A%2F%2F10.0.0.4%3A8088%2Fproxy%2Fapplication_1515416833021_0001/jobs/job?spark\u003dtrue\u0026id\u003d28",
            "numTasks": 24,
            "numCompletedTasks": 4,
            "stages": [
              {
                "id": 30,
                "completed": true,
                "stageUrl": "https://azure.qubole.com/cluster-proxy?encodedUrl\u003dhttp%3A%2F%2F10.0.0.4%3A8088%2Fproxy%2Fapplication_1515416833021_0001/stages/stage/?id\u003d30\u0026attempt\u003d0",
                "numCompleteTasks": 4,
                "numActiveTasks": 0,
                "numFailedTasks": 0,
                "numTotalTasks": 4
              },
              {
                "id": 29,
                "completed": true,
                "stageUrl": "https://azure.qubole.com/cluster-proxy?encodedUrl\u003dhttp%3A%2F%2F10.0.0.4%3A8088%2Fproxy%2Fapplication_1515416833021_0001/stages/stage/?id\u003d29\u0026attempt\u003d0",
                "numCompleteTasks": 0,
                "numActiveTasks": 0,
                "numFailedTasks": 0,
                "numTotalTasks": 0
              }
            ],
            "status": "Success"
          },
          {
            "id": 29,
            "jobUrl": "https://azure.qubole.com/cluster-proxy?encodedUrl\u003dhttp%3A%2F%2F10.0.0.4%3A8088%2Fproxy%2Fapplication_1515416833021_0001/jobs/job?spark\u003dtrue\u0026id\u003d29",
            "numTasks": 40,
            "numCompletedTasks": 20,
            "stages": [
              {
                "id": 31,
                "completed": true,
                "stageUrl": "https://azure.qubole.com/cluster-proxy?encodedUrl\u003dhttp%3A%2F%2F10.0.0.4%3A8088%2Fproxy%2Fapplication_1515416833021_0001/stages/stage/?id\u003d31\u0026attempt\u003d0",
                "numCompleteTasks": 0,
                "numActiveTasks": 0,
                "numFailedTasks": 0,
                "numTotalTasks": 0
              },
              {
                "id": 32,
                "completed": true,
                "stageUrl": "https://azure.qubole.com/cluster-proxy?encodedUrl\u003dhttp%3A%2F%2F10.0.0.4%3A8088%2Fproxy%2Fapplication_1515416833021_0001/stages/stage/?id\u003d32\u0026attempt\u003d0",
                "numCompleteTasks": 20,
                "numActiveTasks": 0,
                "numFailedTasks": 0,
                "numTotalTasks": 20
              }
            ],
            "status": "Success"
          },
          {
            "id": 30,
            "jobUrl": "https://azure.qubole.com/cluster-proxy?encodedUrl\u003dhttp%3A%2F%2F10.0.0.4%3A8088%2Fproxy%2Fapplication_1515416833021_0001/jobs/job?spark\u003dtrue\u0026id\u003d30",
            "numTasks": 120,
            "numCompletedTasks": 100,
            "stages": [
              {
                "id": 33,
                "completed": true,
                "stageUrl": "https://azure.qubole.com/cluster-proxy?encodedUrl\u003dhttp%3A%2F%2F10.0.0.4%3A8088%2Fproxy%2Fapplication_1515416833021_0001/stages/stage/?id\u003d33\u0026attempt\u003d0",
                "numCompleteTasks": 0,
                "numActiveTasks": 0,
                "numFailedTasks": 0,
                "numTotalTasks": 0
              },
              {
                "id": 34,
                "completed": true,
                "stageUrl": "https://azure.qubole.com/cluster-proxy?encodedUrl\u003dhttp%3A%2F%2F10.0.0.4%3A8088%2Fproxy%2Fapplication_1515416833021_0001/stages/stage/?id\u003d34\u0026attempt\u003d0",
                "numCompleteTasks": 100,
                "numActiveTasks": 0,
                "numFailedTasks": 0,
                "numTotalTasks": 100
              }
            ],
            "status": "Success"
          },
          {
            "id": 31,
            "jobUrl": "https://azure.qubole.com/cluster-proxy?encodedUrl\u003dhttp%3A%2F%2F10.0.0.4%3A8088%2Fproxy%2Fapplication_1515416833021_0001/jobs/job?spark\u003dtrue\u0026id\u003d31",
            "numTasks": 95,
            "numCompletedTasks": 75,
            "stages": [
              {
                "id": 35,
                "completed": true,
                "stageUrl": "https://azure.qubole.com/cluster-proxy?encodedUrl\u003dhttp%3A%2F%2F10.0.0.4%3A8088%2Fproxy%2Fapplication_1515416833021_0001/stages/stage/?id\u003d35\u0026attempt\u003d0",
                "numCompleteTasks": 0,
                "numActiveTasks": 0,
                "numFailedTasks": 0,
                "numTotalTasks": 0
              },
              {
                "id": 36,
                "completed": true,
                "stageUrl": "https://azure.qubole.com/cluster-proxy?encodedUrl\u003dhttp%3A%2F%2F10.0.0.4%3A8088%2Fproxy%2Fapplication_1515416833021_0001/stages/stage/?id\u003d36\u0026attempt\u003d0",
                "numCompleteTasks": 75,
                "numActiveTasks": 0,
                "numFailedTasks": 0,
                "numTotalTasks": 75
              }
            ],
            "status": "Success"
          },
          {
            "id": 32,
            "jobUrl": "https://azure.qubole.com/cluster-proxy?encodedUrl\u003dhttp%3A%2F%2F10.0.0.4%3A8088%2Fproxy%2Fapplication_1515416833021_0001/jobs/job?spark\u003dtrue\u0026id\u003d32",
            "numTasks": 221,
            "numCompletedTasks": 221,
            "stages": [
              {
                "id": 37,
                "completed": true,
                "stageUrl": "https://azure.qubole.com/cluster-proxy?encodedUrl\u003dhttp%3A%2F%2F10.0.0.4%3A8088%2Fproxy%2Fapplication_1515416833021_0001/stages/stage/?id\u003d37\u0026attempt\u003d0",
                "numCompleteTasks": 20,
                "numActiveTasks": 0,
                "numFailedTasks": 0,
                "numTotalTasks": 20
              },
              {
                "id": 38,
                "completed": true,
                "stageUrl": "https://azure.qubole.com/cluster-proxy?encodedUrl\u003dhttp%3A%2F%2F10.0.0.4%3A8088%2Fproxy%2Fapplication_1515416833021_0001/stages/stage/?id\u003d38\u0026attempt\u003d0",
                "numCompleteTasks": 200,
                "numActiveTasks": 0,
                "numFailedTasks": 0,
                "numTotalTasks": 200
              },
              {
                "id": 39,
                "completed": true,
                "stageUrl": "https://azure.qubole.com/cluster-proxy?encodedUrl\u003dhttp%3A%2F%2F10.0.0.4%3A8088%2Fproxy%2Fapplication_1515416833021_0001/stages/stage/?id\u003d39\u0026attempt\u003d0",
                "numCompleteTasks": 1,
                "numActiveTasks": 0,
                "numFailedTasks": 0,
                "numTotalTasks": 1
              }
            ],
            "status": "Success"
          },
          {
            "id": 33,
            "jobUrl": "https://azure.qubole.com/cluster-proxy?encodedUrl\u003dhttp%3A%2F%2F10.0.0.4%3A8088%2Fproxy%2Fapplication_1515416833021_0001/jobs/job?spark\u003dtrue\u0026id\u003d33",
            "numTasks": 220,
            "numCompletedTasks": 220,
            "stages": [
              {
                "id": 40,
                "completed": true,
                "stageUrl": "https://azure.qubole.com/cluster-proxy?encodedUrl\u003dhttp%3A%2F%2F10.0.0.4%3A8088%2Fproxy%2Fapplication_1515416833021_0001/stages/stage/?id\u003d40\u0026attempt\u003d0",
                "numCompleteTasks": 20,
                "numActiveTasks": 0,
                "numFailedTasks": 0,
                "numTotalTasks": 20
              },
              {
                "id": 41,
                "completed": true,
                "stageUrl": "https://azure.qubole.com/cluster-proxy?encodedUrl\u003dhttp%3A%2F%2F10.0.0.4%3A8088%2Fproxy%2Fapplication_1515416833021_0001/stages/stage/?id\u003d41\u0026attempt\u003d0",
                "numCompleteTasks": 200,
                "numActiveTasks": 0,
                "numFailedTasks": 0,
                "numTotalTasks": 200
              }
            ],
            "status": "Success"
          },
          {
            "id": 34,
            "jobUrl": "https://azure.qubole.com/cluster-proxy?encodedUrl\u003dhttp%3A%2F%2F10.0.0.4%3A8088%2Fproxy%2Fapplication_1515416833021_0001/jobs/job?spark\u003dtrue\u0026id\u003d34",
            "numTasks": 224,
            "numCompletedTasks": 204,
            "stages": [
              {
                "id": 42,
                "completed": true,
                "stageUrl": "https://azure.qubole.com/cluster-proxy?encodedUrl\u003dhttp%3A%2F%2F10.0.0.4%3A8088%2Fproxy%2Fapplication_1515416833021_0001/stages/stage/?id\u003d42\u0026attempt\u003d0",
                "numCompleteTasks": 0,
                "numActiveTasks": 0,
                "numFailedTasks": 0,
                "numTotalTasks": 0
              },
              {
                "id": 43,
                "completed": true,
                "stageUrl": "https://azure.qubole.com/cluster-proxy?encodedUrl\u003dhttp%3A%2F%2F10.0.0.4%3A8088%2Fproxy%2Fapplication_1515416833021_0001/stages/stage/?id\u003d43\u0026attempt\u003d0",
                "numCompleteTasks": 200,
                "numActiveTasks": 0,
                "numFailedTasks": 0,
                "numTotalTasks": 200
              },
              {
                "id": 44,
                "completed": true,
                "stageUrl": "https://azure.qubole.com/cluster-proxy?encodedUrl\u003dhttp%3A%2F%2F10.0.0.4%3A8088%2Fproxy%2Fapplication_1515416833021_0001/stages/stage/?id\u003d44\u0026attempt\u003d0",
                "numCompleteTasks": 4,
                "numActiveTasks": 0,
                "numFailedTasks": 0,
                "numTotalTasks": 4
              }
            ],
            "status": "Success"
          },
          {
            "id": 35,
            "jobUrl": "https://azure.qubole.com/cluster-proxy?encodedUrl\u003dhttp%3A%2F%2F10.0.0.4%3A8088%2Fproxy%2Fapplication_1515416833021_0001/jobs/job?spark\u003dtrue\u0026id\u003d35",
            "numTasks": 21,
            "numCompletedTasks": 21,
            "stages": [
              {
                "id": 45,
                "completed": true,
                "stageUrl": "https://azure.qubole.com/cluster-proxy?encodedUrl\u003dhttp%3A%2F%2F10.0.0.4%3A8088%2Fproxy%2Fapplication_1515416833021_0001/stages/stage/?id\u003d45\u0026attempt\u003d0",
                "numCompleteTasks": 20,
                "numActiveTasks": 0,
                "numFailedTasks": 0,
                "numTotalTasks": 20
              },
              {
                "id": 46,
                "completed": true,
                "stageUrl": "https://azure.qubole.com/cluster-proxy?encodedUrl\u003dhttp%3A%2F%2F10.0.0.4%3A8088%2Fproxy%2Fapplication_1515416833021_0001/stages/stage/?id\u003d46\u0026attempt\u003d0",
                "numCompleteTasks": 1,
                "numActiveTasks": 0,
                "numFailedTasks": 0,
                "numTotalTasks": 1
              }
            ],
            "status": "Success"
          },
          {
            "id": 36,
            "jobUrl": "https://azure.qubole.com/cluster-proxy?encodedUrl\u003dhttp%3A%2F%2F10.0.0.4%3A8088%2Fproxy%2Fapplication_1515416833021_0001/jobs/job?spark\u003dtrue\u0026id\u003d36",
            "numTasks": 21,
            "numCompletedTasks": 21,
            "stages": [
              {
                "id": 48,
                "completed": true,
                "stageUrl": "https://azure.qubole.com/cluster-proxy?encodedUrl\u003dhttp%3A%2F%2F10.0.0.4%3A8088%2Fproxy%2Fapplication_1515416833021_0001/stages/stage/?id\u003d48\u0026attempt\u003d0",
                "numCompleteTasks": 1,
                "numActiveTasks": 0,
                "numFailedTasks": 0,
                "numTotalTasks": 1
              },
              {
                "id": 47,
                "completed": true,
                "stageUrl": "https://azure.qubole.com/cluster-proxy?encodedUrl\u003dhttp%3A%2F%2F10.0.0.4%3A8088%2Fproxy%2Fapplication_1515416833021_0001/stages/stage/?id\u003d47\u0026attempt\u003d0",
                "numCompleteTasks": 20,
                "numActiveTasks": 0,
                "numFailedTasks": 0,
                "numTotalTasks": 20
              }
            ],
            "status": "Success"
          },
          {
            "id": 37,
            "jobUrl": "https://azure.qubole.com/cluster-proxy?encodedUrl\u003dhttp%3A%2F%2F10.0.0.4%3A8088%2Fproxy%2Fapplication_1515416833021_0001/jobs/job?spark\u003dtrue\u0026id\u003d37",
            "numTasks": 24,
            "numCompletedTasks": 4,
            "stages": [
              {
                "id": 49,
                "completed": true,
                "stageUrl": "https://azure.qubole.com/cluster-proxy?encodedUrl\u003dhttp%3A%2F%2F10.0.0.4%3A8088%2Fproxy%2Fapplication_1515416833021_0001/stages/stage/?id\u003d49\u0026attempt\u003d0",
                "numCompleteTasks": 0,
                "numActiveTasks": 0,
                "numFailedTasks": 0,
                "numTotalTasks": 0
              },
              {
                "id": 50,
                "completed": true,
                "stageUrl": "https://azure.qubole.com/cluster-proxy?encodedUrl\u003dhttp%3A%2F%2F10.0.0.4%3A8088%2Fproxy%2Fapplication_1515416833021_0001/stages/stage/?id\u003d50\u0026attempt\u003d0",
                "numCompleteTasks": 4,
                "numActiveTasks": 0,
                "numFailedTasks": 0,
                "numTotalTasks": 4
              }
            ],
            "status": "Success"
          },
          {
            "id": 38,
            "jobUrl": "https://azure.qubole.com/cluster-proxy?encodedUrl\u003dhttp%3A%2F%2F10.0.0.4%3A8088%2Fproxy%2Fapplication_1515416833021_0001/jobs/job?spark\u003dtrue\u0026id\u003d38",
            "numTasks": 40,
            "numCompletedTasks": 20,
            "stages": [
              {
                "id": 51,
                "completed": true,
                "stageUrl": "https://azure.qubole.com/cluster-proxy?encodedUrl\u003dhttp%3A%2F%2F10.0.0.4%3A8088%2Fproxy%2Fapplication_1515416833021_0001/stages/stage/?id\u003d51\u0026attempt\u003d0",
                "numCompleteTasks": 0,
                "numActiveTasks": 0,
                "numFailedTasks": 0,
                "numTotalTasks": 0
              },
              {
                "id": 52,
                "completed": true,
                "stageUrl": "https://azure.qubole.com/cluster-proxy?encodedUrl\u003dhttp%3A%2F%2F10.0.0.4%3A8088%2Fproxy%2Fapplication_1515416833021_0001/stages/stage/?id\u003d52\u0026attempt\u003d0",
                "numCompleteTasks": 20,
                "numActiveTasks": 0,
                "numFailedTasks": 0,
                "numTotalTasks": 20
              }
            ],
            "status": "Success"
          },
          {
            "id": 39,
            "jobUrl": "https://azure.qubole.com/cluster-proxy?encodedUrl\u003dhttp%3A%2F%2F10.0.0.4%3A8088%2Fproxy%2Fapplication_1515416833021_0001/jobs/job?spark\u003dtrue\u0026id\u003d39",
            "numTasks": 120,
            "numCompletedTasks": 100,
            "stages": [
              {
                "id": 53,
                "completed": true,
                "stageUrl": "https://azure.qubole.com/cluster-proxy?encodedUrl\u003dhttp%3A%2F%2F10.0.0.4%3A8088%2Fproxy%2Fapplication_1515416833021_0001/stages/stage/?id\u003d53\u0026attempt\u003d0",
                "numCompleteTasks": 0,
                "numActiveTasks": 0,
                "numFailedTasks": 0,
                "numTotalTasks": 0
              },
              {
                "id": 54,
                "completed": true,
                "stageUrl": "https://azure.qubole.com/cluster-proxy?encodedUrl\u003dhttp%3A%2F%2F10.0.0.4%3A8088%2Fproxy%2Fapplication_1515416833021_0001/stages/stage/?id\u003d54\u0026attempt\u003d0",
                "numCompleteTasks": 100,
                "numActiveTasks": 0,
                "numFailedTasks": 0,
                "numTotalTasks": 100
              }
            ],
            "status": "Success"
          },
          {
            "id": 40,
            "jobUrl": "https://azure.qubole.com/cluster-proxy?encodedUrl\u003dhttp%3A%2F%2F10.0.0.4%3A8088%2Fproxy%2Fapplication_1515416833021_0001/jobs/job?spark\u003dtrue\u0026id\u003d40",
            "numTasks": 95,
            "numCompletedTasks": 75,
            "stages": [
              {
                "id": 56,
                "completed": true,
                "stageUrl": "https://azure.qubole.com/cluster-proxy?encodedUrl\u003dhttp%3A%2F%2F10.0.0.4%3A8088%2Fproxy%2Fapplication_1515416833021_0001/stages/stage/?id\u003d56\u0026attempt\u003d0",
                "numCompleteTasks": 75,
                "numActiveTasks": 0,
                "numFailedTasks": 0,
                "numTotalTasks": 75
              },
              {
                "id": 55,
                "completed": true,
                "stageUrl": "https://azure.qubole.com/cluster-proxy?encodedUrl\u003dhttp%3A%2F%2F10.0.0.4%3A8088%2Fproxy%2Fapplication_1515416833021_0001/stages/stage/?id\u003d55\u0026attempt\u003d0",
                "numCompleteTasks": 0,
                "numActiveTasks": 0,
                "numFailedTasks": 0,
                "numTotalTasks": 0
              }
            ],
            "status": "Success"
          }
        ],
        "numCompletedTasks": 1106,
        "numTasks": 1286,
        "truncated": false
      },
      "jobName": "paragraph_1515177278153_-783349908",
      "id": "20180105-183438_1951769726_q_8YVGJMASEQ1515692831",
      "result": {
        "code": "SUCCESS",
        "type": "TEXT",
        "msg": "\nbinnedDF: org.apache.spark.sql.DataFrame \u003d [asin: string, helpful: array\u003cbigint\u003e ... 17 more fields]\n+---------+------+\n|score_bin| count|\n+---------+------+\n|      0.0|  6589|\n|      1.0| 60305|\n|      2.0|136788|\n+---------+------+\n\n+---------+-----+\n|score_bin|count|\n+---------+-----+\n|      0.0| 5302|\n|      1.0| 5245|\n|      2.0|10708|\n+---------+-----+\n\n\nsampledForGoodDF: org.apache.spark.sql.DataFrame \u003d [asin: string, helpful: array\u003cbigint\u003e ... 17 more fields]\n"
      },
      "dateCreated": "Jan 5, 2018 6:34:38 PM",
      "dateStarted": "Jan 8, 2018 1:35:30 PM",
      "dateFinished": "Jan 8, 2018 1:35:52 PM",
      "status": "FINISHED",
      "progressUpdateIntervalMs": 500
    },
    {
      "text": "sampledForGoodDF.createOrReplaceTempView(\"sampledForGoodDF\")\nval labeledDF \u003d sqlContext.sql(\"select *, case when score \u003c\u003d 0.8 then 0 else 1 end as label from sampledForGoodDF\")\nval labeledSplits \u003d labeledDF.randomSplit(Array(0.8, 0.2), seed \u003d 11L)\nval labeledTrain \u003d labeledSplits(0).cache()\nval labeledTest \u003d labeledSplits(1)",
      "user": "davidgillen@precocityllc.com",
      "dateUpdated": "Jan 8, 2018 1:35:33 PM",
      "config": {
        "colWidth": 12.0,
        "graph": {
          "mode": "table",
          "height": 300.0,
          "optionOpen": false,
          "keys": [],
          "values": [],
          "groups": [],
          "scatter": {}
        },
        "enabled": true,
        "editorMode": "ace/mode/scala"
      },
      "settings": {
        "params": {},
        "forms": {}
      },
      "paragraphProgress": {
        "jobs": [],
        "numCompletedTasks": 0,
        "numTasks": 0,
        "truncated": false
      },
      "jobName": "paragraph_1515181002875_-2117341696",
      "id": "20180105-193642_824480378_q_8YVGJMASEQ1515692831",
      "result": {
        "code": "SUCCESS",
        "type": "TEXT",
        "msg": "\nlabeledDF: org.apache.spark.sql.DataFrame \u003d [asin: string, helpful: array\u003cbigint\u003e ... 18 more fields]\n\nlabeledSplits: Array[org.apache.spark.sql.Dataset[org.apache.spark.sql.Row]] \u003d Array([asin: string, helpful: array\u003cbigint\u003e ... 18 more fields], [asin: string, helpful: array\u003cbigint\u003e ... 18 more fields])\n\nlabeledTrain: org.apache.spark.sql.Dataset[org.apache.spark.sql.Row] \u003d [asin: string, helpful: array\u003cbigint\u003e ... 18 more fields]\n\nlabeledTest: org.apache.spark.sql.Dataset[org.apache.spark.sql.Row] \u003d [asin: string, helpful: array\u003cbigint\u003e ... 18 more fields]\n"
      },
      "dateCreated": "Jan 5, 2018 7:36:42 PM",
      "dateStarted": "Jan 8, 2018 1:35:34 PM",
      "dateFinished": "Jan 8, 2018 1:35:54 PM",
      "status": "FINISHED",
      "progressUpdateIntervalMs": 500
    },
    {
      "text": "def balanceDataset(df: DataFrame): DataFrame \u003d {\n\n    // Re-balancing (weighting) of records to be used in the logistic loss objective function\n    val numNegatives \u003d df.filter(\"label \u003d\u003d 0\").count\n    val datasetSize \u003d df.count\n    val balancingRatio \u003d (datasetSize - numNegatives).toDouble / datasetSize\n\n    val calculateWeights \u003d udf { d: Double \u003d\u003e\n      if (d \u003d\u003d 0.0) {\n        1 * balancingRatio\n      }\n      else {\n        (1 * (1.0 - balancingRatio))\n      }\n    }\n\n    val weightedDataset \u003d df.withColumn(\"classWeightCol\", calculateWeights(df(\"label\")))\n    weightedDataset\n  }",
      "user": "davidgillen@precocityllc.com",
      "dateUpdated": "Jan 9, 2018 5:02:58 PM",
      "config": {
        "colWidth": 12.0,
        "graph": {
          "mode": "table",
          "height": 300.0,
          "optionOpen": false,
          "keys": [],
          "values": [],
          "groups": [],
          "scatter": {}
        },
        "enabled": true,
        "editorMode": "ace/mode/scala"
      },
      "settings": {
        "params": {},
        "forms": {}
      },
      "paragraphProgress": {
        "jobs": [],
        "numCompletedTasks": 0,
        "numTasks": 0,
        "truncated": false
      },
      "jobName": "paragraph_1515421451971_434530428",
      "id": "20180108-142411_589673243_q_8YVGJMASEQ1515692831",
      "result": {
        "code": "SUCCESS",
        "type": "TEXT",
        "msg": "\nbalanceDataset: (df: org.apache.spark.sql.DataFrame)org.apache.spark.sql.DataFrame\n"
      },
      "dateCreated": "Jan 8, 2018 2:24:11 PM",
      "dateStarted": "Jan 9, 2018 5:02:58 PM",
      "dateFinished": "Jan 9, 2018 5:02:59 PM",
      "status": "FINISHED",
      "progressUpdateIntervalMs": 500
    },
    {
      "text": "var bdf \u003d balanceDataset(df)\nbdf.show()",
      "user": "davidgillen@precocityllc.com",
      "dateUpdated": "Jan 9, 2018 2:30:41 PM",
      "config": {
        "colWidth": 12.0,
        "graph": {
          "mode": "table",
          "height": 300.0,
          "optionOpen": false,
          "keys": [],
          "values": [],
          "groups": [],
          "scatter": {}
        },
        "enabled": true,
        "editorMode": "ace/mode/scala"
      },
      "settings": {
        "params": {},
        "forms": {}
      },
      "paragraphProgress": {
        "jobs": [
          {
            "id": 64,
            "jobUrl": "https://azure.qubole.com/cluster-proxy?encodedUrl\u003dhttp%3A%2F%2F10.0.0.4%3A8088%2Fproxy%2Fapplication_1515502980890_0001/jobs/job?spark\u003dtrue\u0026id\u003d64",
            "numTasks": 21,
            "numCompletedTasks": 21,
            "stages": [
              {
                "id": 102,
                "completed": true,
                "stageUrl": "https://azure.qubole.com/cluster-proxy?encodedUrl\u003dhttp%3A%2F%2F10.0.0.4%3A8088%2Fproxy%2Fapplication_1515502980890_0001/stages/stage/?id\u003d102\u0026attempt\u003d0",
                "numCompleteTasks": 20,
                "numActiveTasks": 0,
                "numFailedTasks": 0,
                "numTotalTasks": 20
              },
              {
                "id": 103,
                "completed": true,
                "stageUrl": "https://azure.qubole.com/cluster-proxy?encodedUrl\u003dhttp%3A%2F%2F10.0.0.4%3A8088%2Fproxy%2Fapplication_1515502980890_0001/stages/stage/?id\u003d103\u0026attempt\u003d0",
                "numCompleteTasks": 1,
                "numActiveTasks": 0,
                "numFailedTasks": 0,
                "numTotalTasks": 1
              }
            ],
            "status": "Success"
          },
          {
            "id": 65,
            "jobUrl": "https://azure.qubole.com/cluster-proxy?encodedUrl\u003dhttp%3A%2F%2F10.0.0.4%3A8088%2Fproxy%2Fapplication_1515502980890_0001/jobs/job?spark\u003dtrue\u0026id\u003d65",
            "numTasks": 21,
            "numCompletedTasks": 21,
            "stages": [
              {
                "id": 104,
                "completed": true,
                "stageUrl": "https://azure.qubole.com/cluster-proxy?encodedUrl\u003dhttp%3A%2F%2F10.0.0.4%3A8088%2Fproxy%2Fapplication_1515502980890_0001/stages/stage/?id\u003d104\u0026attempt\u003d0",
                "numCompleteTasks": 20,
                "numActiveTasks": 0,
                "numFailedTasks": 0,
                "numTotalTasks": 20
              },
              {
                "id": 105,
                "completed": true,
                "stageUrl": "https://azure.qubole.com/cluster-proxy?encodedUrl\u003dhttp%3A%2F%2F10.0.0.4%3A8088%2Fproxy%2Fapplication_1515502980890_0001/stages/stage/?id\u003d105\u0026attempt\u003d0",
                "numCompleteTasks": 1,
                "numActiveTasks": 0,
                "numFailedTasks": 0,
                "numTotalTasks": 1
              }
            ],
            "status": "Success"
          },
          {
            "id": 66,
            "jobUrl": "https://azure.qubole.com/cluster-proxy?encodedUrl\u003dhttp%3A%2F%2F10.0.0.4%3A8088%2Fproxy%2Fapplication_1515502980890_0001/jobs/job?spark\u003dtrue\u0026id\u003d66",
            "numTasks": 1,
            "numCompletedTasks": 1,
            "stages": [
              {
                "id": 106,
                "completed": true,
                "stageUrl": "https://azure.qubole.com/cluster-proxy?encodedUrl\u003dhttp%3A%2F%2F10.0.0.4%3A8088%2Fproxy%2Fapplication_1515502980890_0001/stages/stage/?id\u003d106\u0026attempt\u003d0",
                "numCompleteTasks": 1,
                "numActiveTasks": 0,
                "numFailedTasks": 0,
                "numTotalTasks": 1
              }
            ],
            "status": "Success"
          }
        ],
        "numCompletedTasks": 43,
        "numTasks": 43,
        "truncated": false
      },
      "jobName": "paragraph_1515422759974_-549606352",
      "id": "20180108-144559_272632623_q_8YVGJMASEQ1515692831",
      "result": {
        "code": "SUCCESS",
        "type": "TEXT",
        "msg": "\nbdf: org.apache.spark.sql.DataFrame \u003d [asin: string, helpful: array\u003cbigint\u003e ... 14 more fields]\n+----------+--------+-------+--------------------+-----------+--------------+--------------------+--------------------+--------------+-----------+-------+----------+--------------------+------------------+-----+------------------+\n|      asin| helpful|overall|          reviewText| reviewTime|    reviewerID|        reviewerName|             summary|unixReviewTime|   Category|upVotes|totalVotes|          fullReview|             score|label|    classWeightCol|\n+----------+--------+-------+--------------------+-----------+--------------+--------------------+--------------------+--------------+-----------+-------+----------+--------------------+------------------+-----+------------------+\n|0528881469|[12, 15]|    1.0|I\u0027m a professiona...|11 25, 2010| AMO214LNFCEI4|     Amazon Customer|   Very Disappointed|    1290643200|Electronics|     12|        15|Very Disappointed...|               0.8|    0|0.6014281249248672|\n|0528881469|[43, 45]|    3.0|Well, what can I ...| 09 9, 2010|A3N7T0DY83Y4IG|       C. A. Freeman|      1st impression|    1283990400|Electronics|     43|        45|1st impression We...|0.9555555555555556|    1|0.3985718750751328|\n|0528881469| [9, 10]|    2.0|Not going to writ...|11 24, 2010|A1H8PY3QHMQQA0|Dave M. Shaw \"mac...|Great grafics, PO...|    1290556800|Electronics|      9|        10|Great grafics, PO...|               0.9|    1|0.3985718750751328|\n|0594481813|  [3, 5]|    3.0|Go to Target or B...|09 18, 2013| AGAKHE014LQFU|           Nicodimus|$45 for a power c...|    1379462400|Electronics|      3|         5|$45 for a power c...|               0.6|    0|0.6014281249248672|\n|0972683275|  [7, 9]|    5.0|I used this for m...|02 21, 2013|A26QCCO0101CO1|Amazon Customer \"...| Just what I\u0027d hoped|    1361404800|Electronics|      7|         9|Just what I\u0027d hop...|0.7777777777777778|    0|0.6014281249248672|\n|0972683275|[15, 19]|    5.0|Quality was excel...| 10 5, 2010|A3QH8VQDE7HZCR|      costaricachris|Real value for th...|    1286236800|Electronics|     15|        19|Real value for th...|0.7894736842105263|    0|0.6014281249248672|\n|0972683275| [8, 18]|    1.0|I checked around ...| 12 1, 2010|A38FGQVJM18OWV|George S. Mitchel...|What a piece of j...|    1291161600|Electronics|      8|        18|What a piece of j...|0.4444444444444444|    0|0.6014281249248672|\n|0972683275|[14, 19]|    5.0|I mounted this in...|09 30, 2010| A7R4R9THNELTP|                  LG|Excellent, at any...|    1285804800|Electronics|     14|        19|Excellent, at any...|0.7368421052631579|    0|0.6014281249248672|\n|0972683275|  [5, 6]|    4.0|For the money you...|02 19, 2008|A3AKVALGT4Y02G|             MICHAEL|can\u0027t beat it for...|    1203379200|Electronics|      5|         6|can\u0027t beat it for...|0.8333333333333334|    1|0.3985718750751328|\n|0972683275|  [7, 9]|    5.0|I love this mount...|09 26, 2010|A2I8J6GW1H6LWU|             Michael|Great low cost mo...|    1285459200|Electronics|      7|         9|Great low cost mo...|0.7777777777777778|    0|0.6014281249248672|\n|0972683275|  [5, 7]|    1.0|I consider myself...|02 13, 2013|A15K7HV1XD6YWR|       Musawir Karim|Beware the TV wil...|    1360713600|Electronics|      5|         7|Beware the TV wil...|0.7142857142857143|    0|0.6014281249248672|\n|0972683275|  [1, 8]|    2.0|The fact that the...| 10 1, 2010|A11ZP93TJED4T6|                Ryan|poor manufacture ...|    1285891200|Electronics|      1|         8|poor manufacture ...|             0.125|    0|0.6014281249248672|\n|0972683275|[70, 92]|    3.0|I purchased this ...|12 11, 2010|A27K5RT7VDB7BU|             Stephan|It Works But Coul...|    1292025600|Electronics|     70|        92|It Works But Coul...|0.7608695652173914|    0|0.6014281249248672|\n|0972683275|[18, 23]|    5.0|Do not listen to ...|10 12, 2010| AGY0KH2D5G9WH|         Thomas \"TC\"|     Excellent mount|    1286841600|Electronics|     18|        23|Excellent mount D...| 0.782608695652174|    0|0.6014281249248672|\n|0972683275| [8, 15]|    2.0|Unfortunately, I\u0027...| 09 4, 2010|A25M2X8KHSS2NC|Ultimate Ducky \"U...|Poor Quality Cont...|    1283558400|Electronics|      8|        15|Poor Quality Cont...|0.5333333333333333|    0|0.6014281249248672|\n|0972683275|[14, 19]|    1.0|If less money had...| 06 9, 2011|A2ZMEHV9S4FXV5|        venividivici|Junk, sags, wobbl...|    1307577600|Electronics|     14|        19|Junk, sags, wobbl...|0.7368421052631579|    0|0.6014281249248672|\n|1400501466|  [4, 9]|    1.0|Have no idea why ...|03 24, 2012|A1A5KUIIIHFF4U|Anonymous \"Anonym...|This thing is a j...|    1332547200|Electronics|      4|         9|This thing is a j...|0.4444444444444444|    0|0.6014281249248672|\n|1400501466|[11, 11]|    5.0|I bought this for...|07 15, 2012|A2UL4M5SXL7L0A|         basieswings|Excellent hardwar...|    1342310400|Electronics|     11|        11|Excellent hardwar...|               1.0|    1|0.3985718750751328|\n|1400501466|[17, 19]|    5.0|Months later, I a...|02 16, 2012|A2FHM5FB0BXKGA|Dr. Elaine O. Cha...|Outstanding 7\" Ta...|    1329350400|Electronics|     17|        19|Outstanding 7\" Ta...|0.8947368421052632|    1|0.3985718750751328|\n|1400501466|  [5, 5]|    2.0|I pulled the trig...| 01 4, 2012| A6VFSC0BW75Y0|   Frederick J. Haab|People shouldn\u0027t ...|    1325635200|Electronics|      5|         5|People shouldn\u0027t ...|               1.0|    1|0.3985718750751328|\n+----------+--------+-------+--------------------+-----------+--------------+--------------------+--------------------+--------------+-----------+-------+----------+--------------------+------------------+-----+------------------+\nonly showing top 20 rows\n\n"
      },
      "dateCreated": "Jan 8, 2018 2:45:59 PM",
      "dateStarted": "Jan 9, 2018 2:30:41 PM",
      "dateFinished": "Jan 9, 2018 2:30:50 PM",
      "status": "FINISHED",
      "progressUpdateIntervalMs": 500
    },
    {
      "text": "import org.apache.spark.ml.feature.VectorAssembler\nval regexTokenizer \u003d new RegexTokenizer()\n  .setInputCol(\"fullReview\")\n  .setOutputCol(\"regexOutput\")\n  .setPattern(\"\\\\W\")\n\nval remover \u003d new StopWordsRemover()\n  .setInputCol(\"regexOutput\")\n  .setOutputCol(\"stopWordsOutput\")\n\nval bigram \u003d new NGram()\n    .setN(2)\n    .setInputCol(\"stopWordsOutput\")\n    .setOutputCol(\"bigrams\")\n    \nval biGramHasher \u003d new HashingTF()\n    .setInputCol(\"bigrams\")\n    .setOutputCol(\"bigramFeatures\")\n    .setNumFeatures(512)\n    \nval uniGramHasher \u003d new HashingTF()\n    .setInputCol(\"stopWordsOutput\")\n    .setOutputCol(\"unigramFeatures\")\n    .setNumFeatures(512)\n\n//combine bigram \u0026 unigram features into 1 vector    \nval assembler \u003d new VectorAssembler()\n    .setInputCols(Array(\"bigramFeatures\", \"unigramFeatures\"))\n    .setOutputCol(\"allGramFeatures\")\n\nval idf \u003d new IDF()\n    .setInputCol(\"allGramFeatures\")\n    .setOutputCol(\"features\")\n\n//to train a lr model we need 2 columns \n//1. features column we just built using pipeline\n//2. label column which we built above\n//var lr \u003d new LogisticRegression()\nvar lr \u003d new LogisticRegression().setWeightCol(\"classWeightCol\")\n\nvar pipeline \u003d new Pipeline().setStages(Array(regexTokenizer,remover,bigram,biGramHasher,uniGramHasher,assembler,idf,lr))\n//var pipeline \u003d new Pipeline().setStages(Array(bigram,biGramHasher,uniGramHasher,assembler,idf,lr))\n\n//val scoreUDF \u003d sqlContext.udf.register(\"score\", (x:WrappedArray[Long]) \u003d\u003e if(x(1) \u003d\u003d 0) 0 else 1.0*x(0)/(1.0*x(1)))\n//val scoredDf \u003d sqlContext.sql(\"select features, score(helpful) as score from rescaledData\")\n//scoredDf.createOrReplaceTempView(\"scoredDf\")\n//val goodDf \u003d sqlContext.sql(\"select features from rescaledData\")\n//val badDf \u003d sqlContext.sql(\"select features, case when score \u003e 0.2 then 0 else 1 end as label from rescaledData \")\n//goodDf\n ",
      "user": "davidgillen@precocityllc.com",
      "dateUpdated": "Jan 8, 2018 3:04:37 PM",
      "config": {
        "colWidth": 12.0,
        "graph": {
          "mode": "table",
          "height": 300.0,
          "optionOpen": false,
          "keys": [],
          "values": [],
          "groups": [],
          "scatter": {}
        },
        "enabled": true,
        "editorMode": "ace/mode/scala"
      },
      "settings": {
        "params": {},
        "forms": {}
      },
      "paragraphProgress": {
        "jobs": [],
        "numCompletedTasks": 0,
        "numTasks": 0,
        "truncated": false
      },
      "jobName": "paragraph_1514929199085_1645203800",
      "id": "20180102-213959_1584953968_q_8YVGJMASEQ1515692831",
      "result": {
        "code": "SUCCESS",
        "type": "TEXT",
        "msg": "\nimport org.apache.spark.ml.feature.VectorAssembler\n\nregexTokenizer: org.apache.spark.ml.feature.RegexTokenizer \u003d regexTok_03d6ab591987\n\nremover: org.apache.spark.ml.feature.StopWordsRemover \u003d stopWords_8fead87d46b9\n\nbigram: org.apache.spark.ml.feature.NGram \u003d ngram_ac8c3b6fd1ff\n\nbiGramHasher: org.apache.spark.ml.feature.HashingTF \u003d hashingTF_053e4fce35dd\n\nuniGramHasher: org.apache.spark.ml.feature.HashingTF \u003d hashingTF_84d09fa48223\n\nassembler: org.apache.spark.ml.feature.VectorAssembler \u003d vecAssembler_0fa7e54e21df\n\nidf: org.apache.spark.ml.feature.IDF \u003d idf_a138a0d9ce14\n\nlr: org.apache.spark.ml.classification.LogisticRegression \u003d logreg_8123e312bbad\n\npipeline: org.apache.spark.ml.Pipeline \u003d pipeline_f0d4d231950f\n"
      },
      "dateCreated": "Jan 2, 2018 9:39:59 PM",
      "dateStarted": "Jan 8, 2018 3:04:37 PM",
      "dateFinished": "Jan 8, 2018 3:04:41 PM",
      "status": "FINISHED",
      "progressUpdateIntervalMs": 500
    },
    {
      "text": "val labeledSplits \u003d bdf.randomSplit(Array(0.8, 0.2), seed \u003d 11L)\nval labeledTrain \u003d labeledSplits(0).cache()\nval labeledTest \u003d labeledSplits(1)",
      "user": "davidgillen@precocityllc.com",
      "dateUpdated": "Jan 9, 2018 2:31:04 PM",
      "config": {
        "colWidth": 12.0,
        "graph": {
          "mode": "table",
          "height": 300.0,
          "optionOpen": false,
          "keys": [],
          "values": [],
          "groups": [],
          "scatter": {}
        },
        "enabled": true,
        "editorMode": "ace/mode/scala"
      },
      "settings": {
        "params": {},
        "forms": {}
      },
      "paragraphProgress": {
        "jobs": [],
        "numCompletedTasks": 0,
        "numTasks": 0,
        "truncated": false
      },
      "jobName": "paragraph_1515423057167_1410921325",
      "id": "20180108-145057_975292454_q_8YVGJMASEQ1515692831",
      "result": {
        "code": "SUCCESS",
        "type": "TEXT",
        "msg": "\nlabeledSplits: Array[org.apache.spark.sql.Dataset[org.apache.spark.sql.Row]] \u003d Array([asin: string, helpful: array\u003cbigint\u003e ... 14 more fields], [asin: string, helpful: array\u003cbigint\u003e ... 14 more fields])\n\nlabeledTrain: org.apache.spark.sql.Dataset[org.apache.spark.sql.Row] \u003d [asin: string, helpful: array\u003cbigint\u003e ... 14 more fields]\n\nlabeledTest: org.apache.spark.sql.Dataset[org.apache.spark.sql.Row] \u003d [asin: string, helpful: array\u003cbigint\u003e ... 14 more fields]\n"
      },
      "dateCreated": "Jan 8, 2018 2:50:57 PM",
      "dateStarted": "Jan 9, 2018 2:31:04 PM",
      "dateFinished": "Jan 9, 2018 2:31:08 PM",
      "status": "FINISHED",
      "progressUpdateIntervalMs": 500
    },
    {
      "text": "labeledTrain.printSchema",
      "user": "davidgillen@precocityllc.com",
      "dateUpdated": "Jan 8, 2018 3:01:50 PM",
      "config": {
        "colWidth": 12.0,
        "graph": {
          "mode": "table",
          "height": 300.0,
          "optionOpen": false,
          "keys": [],
          "values": [],
          "groups": [],
          "scatter": {}
        },
        "enabled": true,
        "editorMode": "ace/mode/scala"
      },
      "settings": {
        "params": {},
        "forms": {}
      },
      "paragraphProgress": {
        "jobs": [],
        "numCompletedTasks": 0,
        "numTasks": 0,
        "truncated": false
      },
      "jobName": "paragraph_1515423090451_392353068",
      "id": "20180108-145130_1739126634_q_8YVGJMASEQ1515692831",
      "result": {
        "code": "SUCCESS",
        "type": "TEXT",
        "msg": "root\n |-- asin: string (nullable \u003d true)\n |-- helpful: array (nullable \u003d true)\n |    |-- element: long (containsNull \u003d true)\n |-- overall: double (nullable \u003d true)\n |-- reviewText: string (nullable \u003d true)\n |-- reviewTime: string (nullable \u003d true)\n |-- reviewerID: string (nullable \u003d true)\n |-- reviewerName: string (nullable \u003d true)\n |-- summary: string (nullable \u003d true)\n |-- unixReviewTime: long (nullable \u003d true)\n |-- Category: string (nullable \u003d false)\n |-- upVotes: long (nullable \u003d true)\n |-- totalVotes: long (nullable \u003d true)\n |-- fullReview: string (nullable \u003d true)\n |-- score: double (nullable \u003d true)\n |-- goodReview: integer (nullable \u003d false)\n |-- classWeightCol: double (nullable \u003d true)\n\n"
      },
      "dateCreated": "Jan 8, 2018 2:51:30 PM",
      "dateStarted": "Jan 8, 2018 3:01:50 PM",
      "dateFinished": "Jan 8, 2018 3:01:51 PM",
      "status": "FINISHED",
      "progressUpdateIntervalMs": 500
    },
    {
      "text": "var evaluator \u003d new BinaryClassificationEvaluator()\n//val pipeline \u003d new Pipeline().setStages(Array(lr))\n//val paramGrid \u003d new ParamGridBuilder().addGrid(lr.regParam, Array(0.01, 0.1, 1.0, 10, 100)).build()\nval paramGrid \u003d new ParamGridBuilder()\n             .addGrid(lr.regParam, Array(0.01, 0.1))\n             .build()\nval cv \u003d new CrossValidator()\n  .setEstimator(pipeline)\n  .setEvaluator(evaluator)\n  .setEstimatorParamMaps(paramGrid)\n  .setNumFolds(3)  // Use 3+ in practice\nval cvModel \u003d cv.fit(labeledTrain)\nvar predictions \u003d cvModel.transform(labeledTest)\nevaluator.evaluate(predictions)",
      "user": "davidgillen@precocityllc.com",
      "dateUpdated": "Jan 9, 2018 3:11:05 PM",
      "config": {
        "colWidth": 12.0,
        "graph": {
          "mode": "table",
          "height": 300.0,
          "optionOpen": false,
          "keys": [],
          "values": [],
          "groups": [],
          "scatter": {}
        },
        "enabled": true,
        "editorMode": "ace/mode/scala",
        "editorHide": false
      },
      "settings": {
        "params": {},
        "forms": {}
      },
      "paragraphProgress": {
        "jobs": [
          {
            "id": 699,
            "jobUrl": "https://azure.qubole.com/cluster-proxy?encodedUrl\u003dhttp%3A%2F%2F10.0.0.4%3A8088%2Fproxy%2Fapplication_1515502980890_0001/jobs/job?spark\u003dtrue\u0026id\u003d699",
            "numTasks": 24,
            "numCompletedTasks": 24,
            "stages": [
              {
                "id": 1395,
                "completed": true,
                "stageUrl": "https://azure.qubole.com/cluster-proxy?encodedUrl\u003dhttp%3A%2F%2F10.0.0.4%3A8088%2Fproxy%2Fapplication_1515502980890_0001/stages/stage/?id\u003d1395\u0026attempt\u003d0",
                "numCompleteTasks": 4,
                "numActiveTasks": 0,
                "numFailedTasks": 0,
                "numTotalTasks": 4
              },
              {
                "id": 1394,
                "completed": true,
                "stageUrl": "https://azure.qubole.com/cluster-proxy?encodedUrl\u003dhttp%3A%2F%2F10.0.0.4%3A8088%2Fproxy%2Fapplication_1515502980890_0001/stages/stage/?id\u003d1394\u0026attempt\u003d0",
                "numCompleteTasks": 20,
                "numActiveTasks": 0,
                "numFailedTasks": 0,
                "numTotalTasks": 20
              }
            ],
            "status": "Success"
          },
          {
            "id": 700,
            "jobUrl": "https://azure.qubole.com/cluster-proxy?encodedUrl\u003dhttp%3A%2F%2F10.0.0.4%3A8088%2Fproxy%2Fapplication_1515502980890_0001/jobs/job?spark\u003dtrue\u0026id\u003d700",
            "numTasks": 24,
            "numCompletedTasks": 24,
            "stages": [
              {
                "id": 1396,
                "completed": true,
                "stageUrl": "https://azure.qubole.com/cluster-proxy?encodedUrl\u003dhttp%3A%2F%2F10.0.0.4%3A8088%2Fproxy%2Fapplication_1515502980890_0001/stages/stage/?id\u003d1396\u0026attempt\u003d0",
                "numCompleteTasks": 20,
                "numActiveTasks": 0,
                "numFailedTasks": 0,
                "numTotalTasks": 20
              },
              {
                "id": 1397,
                "completed": true,
                "stageUrl": "https://azure.qubole.com/cluster-proxy?encodedUrl\u003dhttp%3A%2F%2F10.0.0.4%3A8088%2Fproxy%2Fapplication_1515502980890_0001/stages/stage/?id\u003d1397\u0026attempt\u003d0",
                "numCompleteTasks": 4,
                "numActiveTasks": 0,
                "numFailedTasks": 0,
                "numTotalTasks": 4
              }
            ],
            "status": "Success"
          },
          {
            "id": 701,
            "jobUrl": "https://azure.qubole.com/cluster-proxy?encodedUrl\u003dhttp%3A%2F%2F10.0.0.4%3A8088%2Fproxy%2Fapplication_1515502980890_0001/jobs/job?spark\u003dtrue\u0026id\u003d701",
            "numTasks": 24,
            "numCompletedTasks": 24,
            "stages": [
              {
                "id": 1399,
                "completed": true,
                "stageUrl": "https://azure.qubole.com/cluster-proxy?encodedUrl\u003dhttp%3A%2F%2F10.0.0.4%3A8088%2Fproxy%2Fapplication_1515502980890_0001/stages/stage/?id\u003d1399\u0026attempt\u003d0",
                "numCompleteTasks": 4,
                "numActiveTasks": 0,
                "numFailedTasks": 0,
                "numTotalTasks": 4
              },
              {
                "id": 1398,
                "completed": true,
                "stageUrl": "https://azure.qubole.com/cluster-proxy?encodedUrl\u003dhttp%3A%2F%2F10.0.0.4%3A8088%2Fproxy%2Fapplication_1515502980890_0001/stages/stage/?id\u003d1398\u0026attempt\u003d0",
                "numCompleteTasks": 20,
                "numActiveTasks": 0,
                "numFailedTasks": 0,
                "numTotalTasks": 20
              }
            ],
            "status": "Success"
          },
          {
            "id": 702,
            "jobUrl": "https://azure.qubole.com/cluster-proxy?encodedUrl\u003dhttp%3A%2F%2F10.0.0.4%3A8088%2Fproxy%2Fapplication_1515502980890_0001/jobs/job?spark\u003dtrue\u0026id\u003d702",
            "numTasks": 24,
            "numCompletedTasks": 24,
            "stages": [
              {
                "id": 1400,
                "completed": true,
                "stageUrl": "https://azure.qubole.com/cluster-proxy?encodedUrl\u003dhttp%3A%2F%2F10.0.0.4%3A8088%2Fproxy%2Fapplication_1515502980890_0001/stages/stage/?id\u003d1400\u0026attempt\u003d0",
                "numCompleteTasks": 20,
                "numActiveTasks": 0,
                "numFailedTasks": 0,
                "numTotalTasks": 20
              },
              {
                "id": 1401,
                "completed": true,
                "stageUrl": "https://azure.qubole.com/cluster-proxy?encodedUrl\u003dhttp%3A%2F%2F10.0.0.4%3A8088%2Fproxy%2Fapplication_1515502980890_0001/stages/stage/?id\u003d1401\u0026attempt\u003d0",
                "numCompleteTasks": 4,
                "numActiveTasks": 0,
                "numFailedTasks": 0,
                "numTotalTasks": 4
              }
            ],
            "status": "Success"
          },
          {
            "id": 703,
            "jobUrl": "https://azure.qubole.com/cluster-proxy?encodedUrl\u003dhttp%3A%2F%2F10.0.0.4%3A8088%2Fproxy%2Fapplication_1515502980890_0001/jobs/job?spark\u003dtrue\u0026id\u003d703",
            "numTasks": 24,
            "numCompletedTasks": 24,
            "stages": [
              {
                "id": 1403,
                "completed": true,
                "stageUrl": "https://azure.qubole.com/cluster-proxy?encodedUrl\u003dhttp%3A%2F%2F10.0.0.4%3A8088%2Fproxy%2Fapplication_1515502980890_0001/stages/stage/?id\u003d1403\u0026attempt\u003d0",
                "numCompleteTasks": 4,
                "numActiveTasks": 0,
                "numFailedTasks": 0,
                "numTotalTasks": 4
              },
              {
                "id": 1402,
                "completed": true,
                "stageUrl": "https://azure.qubole.com/cluster-proxy?encodedUrl\u003dhttp%3A%2F%2F10.0.0.4%3A8088%2Fproxy%2Fapplication_1515502980890_0001/stages/stage/?id\u003d1402\u0026attempt\u003d0",
                "numCompleteTasks": 20,
                "numActiveTasks": 0,
                "numFailedTasks": 0,
                "numTotalTasks": 20
              }
            ],
            "status": "Success"
          },
          {
            "id": 704,
            "jobUrl": "https://azure.qubole.com/cluster-proxy?encodedUrl\u003dhttp%3A%2F%2F10.0.0.4%3A8088%2Fproxy%2Fapplication_1515502980890_0001/jobs/job?spark\u003dtrue\u0026id\u003d704",
            "numTasks": 24,
            "numCompletedTasks": 24,
            "stages": [
              {
                "id": 1404,
                "completed": true,
                "stageUrl": "https://azure.qubole.com/cluster-proxy?encodedUrl\u003dhttp%3A%2F%2F10.0.0.4%3A8088%2Fproxy%2Fapplication_1515502980890_0001/stages/stage/?id\u003d1404\u0026attempt\u003d0",
                "numCompleteTasks": 20,
                "numActiveTasks": 0,
                "numFailedTasks": 0,
                "numTotalTasks": 20
              },
              {
                "id": 1405,
                "completed": true,
                "stageUrl": "https://azure.qubole.com/cluster-proxy?encodedUrl\u003dhttp%3A%2F%2F10.0.0.4%3A8088%2Fproxy%2Fapplication_1515502980890_0001/stages/stage/?id\u003d1405\u0026attempt\u003d0",
                "numCompleteTasks": 4,
                "numActiveTasks": 0,
                "numFailedTasks": 0,
                "numTotalTasks": 4
              }
            ],
            "status": "Success"
          },
          {
            "id": 705,
            "jobUrl": "https://azure.qubole.com/cluster-proxy?encodedUrl\u003dhttp%3A%2F%2F10.0.0.4%3A8088%2Fproxy%2Fapplication_1515502980890_0001/jobs/job?spark\u003dtrue\u0026id\u003d705",
            "numTasks": 24,
            "numCompletedTasks": 24,
            "stages": [
              {
                "id": 1406,
                "completed": true,
                "stageUrl": "https://azure.qubole.com/cluster-proxy?encodedUrl\u003dhttp%3A%2F%2F10.0.0.4%3A8088%2Fproxy%2Fapplication_1515502980890_0001/stages/stage/?id\u003d1406\u0026attempt\u003d0",
                "numCompleteTasks": 20,
                "numActiveTasks": 0,
                "numFailedTasks": 0,
                "numTotalTasks": 20
              },
              {
                "id": 1407,
                "completed": true,
                "stageUrl": "https://azure.qubole.com/cluster-proxy?encodedUrl\u003dhttp%3A%2F%2F10.0.0.4%3A8088%2Fproxy%2Fapplication_1515502980890_0001/stages/stage/?id\u003d1407\u0026attempt\u003d0",
                "numCompleteTasks": 4,
                "numActiveTasks": 0,
                "numFailedTasks": 0,
                "numTotalTasks": 4
              }
            ],
            "status": "Success"
          },
          {
            "id": 706,
            "jobUrl": "https://azure.qubole.com/cluster-proxy?encodedUrl\u003dhttp%3A%2F%2F10.0.0.4%3A8088%2Fproxy%2Fapplication_1515502980890_0001/jobs/job?spark\u003dtrue\u0026id\u003d706",
            "numTasks": 24,
            "numCompletedTasks": 24,
            "stages": [
              {
                "id": 1409,
                "completed": true,
                "stageUrl": "https://azure.qubole.com/cluster-proxy?encodedUrl\u003dhttp%3A%2F%2F10.0.0.4%3A8088%2Fproxy%2Fapplication_1515502980890_0001/stages/stage/?id\u003d1409\u0026attempt\u003d0",
                "numCompleteTasks": 4,
                "numActiveTasks": 0,
                "numFailedTasks": 0,
                "numTotalTasks": 4
              },
              {
                "id": 1408,
                "completed": true,
                "stageUrl": "https://azure.qubole.com/cluster-proxy?encodedUrl\u003dhttp%3A%2F%2F10.0.0.4%3A8088%2Fproxy%2Fapplication_1515502980890_0001/stages/stage/?id\u003d1408\u0026attempt\u003d0",
                "numCompleteTasks": 20,
                "numActiveTasks": 0,
                "numFailedTasks": 0,
                "numTotalTasks": 20
              }
            ],
            "status": "Success"
          },
          {
            "id": 707,
            "jobUrl": "https://azure.qubole.com/cluster-proxy?encodedUrl\u003dhttp%3A%2F%2F10.0.0.4%3A8088%2Fproxy%2Fapplication_1515502980890_0001/jobs/job?spark\u003dtrue\u0026id\u003d707",
            "numTasks": 24,
            "numCompletedTasks": 24,
            "stages": [
              {
                "id": 1410,
                "completed": true,
                "stageUrl": "https://azure.qubole.com/cluster-proxy?encodedUrl\u003dhttp%3A%2F%2F10.0.0.4%3A8088%2Fproxy%2Fapplication_1515502980890_0001/stages/stage/?id\u003d1410\u0026attempt\u003d0",
                "numCompleteTasks": 20,
                "numActiveTasks": 0,
                "numFailedTasks": 0,
                "numTotalTasks": 20
              },
              {
                "id": 1411,
                "completed": true,
                "stageUrl": "https://azure.qubole.com/cluster-proxy?encodedUrl\u003dhttp%3A%2F%2F10.0.0.4%3A8088%2Fproxy%2Fapplication_1515502980890_0001/stages/stage/?id\u003d1411\u0026attempt\u003d0",
                "numCompleteTasks": 4,
                "numActiveTasks": 0,
                "numFailedTasks": 0,
                "numTotalTasks": 4
              }
            ],
            "status": "Success"
          },
          {
            "id": 708,
            "jobUrl": "https://azure.qubole.com/cluster-proxy?encodedUrl\u003dhttp%3A%2F%2F10.0.0.4%3A8088%2Fproxy%2Fapplication_1515502980890_0001/jobs/job?spark\u003dtrue\u0026id\u003d708",
            "numTasks": 24,
            "numCompletedTasks": 24,
            "stages": [
              {
                "id": 1413,
                "completed": true,
                "stageUrl": "https://azure.qubole.com/cluster-proxy?encodedUrl\u003dhttp%3A%2F%2F10.0.0.4%3A8088%2Fproxy%2Fapplication_1515502980890_0001/stages/stage/?id\u003d1413\u0026attempt\u003d0",
                "numCompleteTasks": 4,
                "numActiveTasks": 0,
                "numFailedTasks": 0,
                "numTotalTasks": 4
              },
              {
                "id": 1412,
                "completed": true,
                "stageUrl": "https://azure.qubole.com/cluster-proxy?encodedUrl\u003dhttp%3A%2F%2F10.0.0.4%3A8088%2Fproxy%2Fapplication_1515502980890_0001/stages/stage/?id\u003d1412\u0026attempt\u003d0",
                "numCompleteTasks": 20,
                "numActiveTasks": 0,
                "numFailedTasks": 0,
                "numTotalTasks": 20
              }
            ],
            "status": "Success"
          },
          {
            "id": 709,
            "jobUrl": "https://azure.qubole.com/cluster-proxy?encodedUrl\u003dhttp%3A%2F%2F10.0.0.4%3A8088%2Fproxy%2Fapplication_1515502980890_0001/jobs/job?spark\u003dtrue\u0026id\u003d709",
            "numTasks": 24,
            "numCompletedTasks": 24,
            "stages": [
              {
                "id": 1414,
                "completed": true,
                "stageUrl": "https://azure.qubole.com/cluster-proxy?encodedUrl\u003dhttp%3A%2F%2F10.0.0.4%3A8088%2Fproxy%2Fapplication_1515502980890_0001/stages/stage/?id\u003d1414\u0026attempt\u003d0",
                "numCompleteTasks": 20,
                "numActiveTasks": 0,
                "numFailedTasks": 0,
                "numTotalTasks": 20
              },
              {
                "id": 1415,
                "completed": true,
                "stageUrl": "https://azure.qubole.com/cluster-proxy?encodedUrl\u003dhttp%3A%2F%2F10.0.0.4%3A8088%2Fproxy%2Fapplication_1515502980890_0001/stages/stage/?id\u003d1415\u0026attempt\u003d0",
                "numCompleteTasks": 4,
                "numActiveTasks": 0,
                "numFailedTasks": 0,
                "numTotalTasks": 4
              }
            ],
            "status": "Success"
          },
          {
            "id": 710,
            "jobUrl": "https://azure.qubole.com/cluster-proxy?encodedUrl\u003dhttp%3A%2F%2F10.0.0.4%3A8088%2Fproxy%2Fapplication_1515502980890_0001/jobs/job?spark\u003dtrue\u0026id\u003d710",
            "numTasks": 24,
            "numCompletedTasks": 24,
            "stages": [
              {
                "id": 1417,
                "completed": true,
                "stageUrl": "https://azure.qubole.com/cluster-proxy?encodedUrl\u003dhttp%3A%2F%2F10.0.0.4%3A8088%2Fproxy%2Fapplication_1515502980890_0001/stages/stage/?id\u003d1417\u0026attempt\u003d0",
                "numCompleteTasks": 4,
                "numActiveTasks": 0,
                "numFailedTasks": 0,
                "numTotalTasks": 4
              },
              {
                "id": 1416,
                "completed": true,
                "stageUrl": "https://azure.qubole.com/cluster-proxy?encodedUrl\u003dhttp%3A%2F%2F10.0.0.4%3A8088%2Fproxy%2Fapplication_1515502980890_0001/stages/stage/?id\u003d1416\u0026attempt\u003d0",
                "numCompleteTasks": 20,
                "numActiveTasks": 0,
                "numFailedTasks": 0,
                "numTotalTasks": 20
              }
            ],
            "status": "Success"
          },
          {
            "id": 711,
            "jobUrl": "https://azure.qubole.com/cluster-proxy?encodedUrl\u003dhttp%3A%2F%2F10.0.0.4%3A8088%2Fproxy%2Fapplication_1515502980890_0001/jobs/job?spark\u003dtrue\u0026id\u003d711",
            "numTasks": 24,
            "numCompletedTasks": 24,
            "stages": [
              {
                "id": 1418,
                "completed": true,
                "stageUrl": "https://azure.qubole.com/cluster-proxy?encodedUrl\u003dhttp%3A%2F%2F10.0.0.4%3A8088%2Fproxy%2Fapplication_1515502980890_0001/stages/stage/?id\u003d1418\u0026attempt\u003d0",
                "numCompleteTasks": 20,
                "numActiveTasks": 0,
                "numFailedTasks": 0,
                "numTotalTasks": 20
              },
              {
                "id": 1419,
                "completed": true,
                "stageUrl": "https://azure.qubole.com/cluster-proxy?encodedUrl\u003dhttp%3A%2F%2F10.0.0.4%3A8088%2Fproxy%2Fapplication_1515502980890_0001/stages/stage/?id\u003d1419\u0026attempt\u003d0",
                "numCompleteTasks": 4,
                "numActiveTasks": 0,
                "numFailedTasks": 0,
                "numTotalTasks": 4
              }
            ],
            "status": "Success"
          },
          {
            "id": 712,
            "jobUrl": "https://azure.qubole.com/cluster-proxy?encodedUrl\u003dhttp%3A%2F%2F10.0.0.4%3A8088%2Fproxy%2Fapplication_1515502980890_0001/jobs/job?spark\u003dtrue\u0026id\u003d712",
            "numTasks": 24,
            "numCompletedTasks": 24,
            "stages": [
              {
                "id": 1421,
                "completed": true,
                "stageUrl": "https://azure.qubole.com/cluster-proxy?encodedUrl\u003dhttp%3A%2F%2F10.0.0.4%3A8088%2Fproxy%2Fapplication_1515502980890_0001/stages/stage/?id\u003d1421\u0026attempt\u003d0",
                "numCompleteTasks": 4,
                "numActiveTasks": 0,
                "numFailedTasks": 0,
                "numTotalTasks": 4
              },
              {
                "id": 1420,
                "completed": true,
                "stageUrl": "https://azure.qubole.com/cluster-proxy?encodedUrl\u003dhttp%3A%2F%2F10.0.0.4%3A8088%2Fproxy%2Fapplication_1515502980890_0001/stages/stage/?id\u003d1420\u0026attempt\u003d0",
                "numCompleteTasks": 20,
                "numActiveTasks": 0,
                "numFailedTasks": 0,
                "numTotalTasks": 20
              }
            ],
            "status": "Success"
          },
          {
            "id": 713,
            "jobUrl": "https://azure.qubole.com/cluster-proxy?encodedUrl\u003dhttp%3A%2F%2F10.0.0.4%3A8088%2Fproxy%2Fapplication_1515502980890_0001/jobs/job?spark\u003dtrue\u0026id\u003d713",
            "numTasks": 24,
            "numCompletedTasks": 24,
            "stages": [
              {
                "id": 1422,
                "completed": true,
                "stageUrl": "https://azure.qubole.com/cluster-proxy?encodedUrl\u003dhttp%3A%2F%2F10.0.0.4%3A8088%2Fproxy%2Fapplication_1515502980890_0001/stages/stage/?id\u003d1422\u0026attempt\u003d0",
                "numCompleteTasks": 20,
                "numActiveTasks": 0,
                "numFailedTasks": 0,
                "numTotalTasks": 20
              },
              {
                "id": 1423,
                "completed": true,
                "stageUrl": "https://azure.qubole.com/cluster-proxy?encodedUrl\u003dhttp%3A%2F%2F10.0.0.4%3A8088%2Fproxy%2Fapplication_1515502980890_0001/stages/stage/?id\u003d1423\u0026attempt\u003d0",
                "numCompleteTasks": 4,
                "numActiveTasks": 0,
                "numFailedTasks": 0,
                "numTotalTasks": 4
              }
            ],
            "status": "Success"
          },
          {
            "id": 714,
            "jobUrl": "https://azure.qubole.com/cluster-proxy?encodedUrl\u003dhttp%3A%2F%2F10.0.0.4%3A8088%2Fproxy%2Fapplication_1515502980890_0001/jobs/job?spark\u003dtrue\u0026id\u003d714",
            "numTasks": 24,
            "numCompletedTasks": 24,
            "stages": [
              {
                "id": 1424,
                "completed": true,
                "stageUrl": "https://azure.qubole.com/cluster-proxy?encodedUrl\u003dhttp%3A%2F%2F10.0.0.4%3A8088%2Fproxy%2Fapplication_1515502980890_0001/stages/stage/?id\u003d1424\u0026attempt\u003d0",
                "numCompleteTasks": 20,
                "numActiveTasks": 0,
                "numFailedTasks": 0,
                "numTotalTasks": 20
              },
              {
                "id": 1425,
                "completed": true,
                "stageUrl": "https://azure.qubole.com/cluster-proxy?encodedUrl\u003dhttp%3A%2F%2F10.0.0.4%3A8088%2Fproxy%2Fapplication_1515502980890_0001/stages/stage/?id\u003d1425\u0026attempt\u003d0",
                "numCompleteTasks": 4,
                "numActiveTasks": 0,
                "numFailedTasks": 0,
                "numTotalTasks": 4
              }
            ],
            "status": "Success"
          },
          {
            "id": 715,
            "jobUrl": "https://azure.qubole.com/cluster-proxy?encodedUrl\u003dhttp%3A%2F%2F10.0.0.4%3A8088%2Fproxy%2Fapplication_1515502980890_0001/jobs/job?spark\u003dtrue\u0026id\u003d715",
            "numTasks": 24,
            "numCompletedTasks": 24,
            "stages": [
              {
                "id": 1427,
                "completed": true,
                "stageUrl": "https://azure.qubole.com/cluster-proxy?encodedUrl\u003dhttp%3A%2F%2F10.0.0.4%3A8088%2Fproxy%2Fapplication_1515502980890_0001/stages/stage/?id\u003d1427\u0026attempt\u003d0",
                "numCompleteTasks": 4,
                "numActiveTasks": 0,
                "numFailedTasks": 0,
                "numTotalTasks": 4
              },
              {
                "id": 1426,
                "completed": true,
                "stageUrl": "https://azure.qubole.com/cluster-proxy?encodedUrl\u003dhttp%3A%2F%2F10.0.0.4%3A8088%2Fproxy%2Fapplication_1515502980890_0001/stages/stage/?id\u003d1426\u0026attempt\u003d0",
                "numCompleteTasks": 20,
                "numActiveTasks": 0,
                "numFailedTasks": 0,
                "numTotalTasks": 20
              }
            ],
            "status": "Success"
          },
          {
            "id": 716,
            "jobUrl": "https://azure.qubole.com/cluster-proxy?encodedUrl\u003dhttp%3A%2F%2F10.0.0.4%3A8088%2Fproxy%2Fapplication_1515502980890_0001/jobs/job?spark\u003dtrue\u0026id\u003d716",
            "numTasks": 24,
            "numCompletedTasks": 24,
            "stages": [
              {
                "id": 1428,
                "completed": true,
                "stageUrl": "https://azure.qubole.com/cluster-proxy?encodedUrl\u003dhttp%3A%2F%2F10.0.0.4%3A8088%2Fproxy%2Fapplication_1515502980890_0001/stages/stage/?id\u003d1428\u0026attempt\u003d0",
                "numCompleteTasks": 20,
                "numActiveTasks": 0,
                "numFailedTasks": 0,
                "numTotalTasks": 20
              },
              {
                "id": 1429,
                "completed": true,
                "stageUrl": "https://azure.qubole.com/cluster-proxy?encodedUrl\u003dhttp%3A%2F%2F10.0.0.4%3A8088%2Fproxy%2Fapplication_1515502980890_0001/stages/stage/?id\u003d1429\u0026attempt\u003d0",
                "numCompleteTasks": 4,
                "numActiveTasks": 0,
                "numFailedTasks": 0,
                "numTotalTasks": 4
              }
            ],
            "status": "Success"
          },
          {
            "id": 717,
            "jobUrl": "https://azure.qubole.com/cluster-proxy?encodedUrl\u003dhttp%3A%2F%2F10.0.0.4%3A8088%2Fproxy%2Fapplication_1515502980890_0001/jobs/job?spark\u003dtrue\u0026id\u003d717",
            "numTasks": 24,
            "numCompletedTasks": 24,
            "stages": [
              {
                "id": 1431,
                "completed": true,
                "stageUrl": "https://azure.qubole.com/cluster-proxy?encodedUrl\u003dhttp%3A%2F%2F10.0.0.4%3A8088%2Fproxy%2Fapplication_1515502980890_0001/stages/stage/?id\u003d1431\u0026attempt\u003d0",
                "numCompleteTasks": 4,
                "numActiveTasks": 0,
                "numFailedTasks": 0,
                "numTotalTasks": 4
              },
              {
                "id": 1430,
                "completed": true,
                "stageUrl": "https://azure.qubole.com/cluster-proxy?encodedUrl\u003dhttp%3A%2F%2F10.0.0.4%3A8088%2Fproxy%2Fapplication_1515502980890_0001/stages/stage/?id\u003d1430\u0026attempt\u003d0",
                "numCompleteTasks": 20,
                "numActiveTasks": 0,
                "numFailedTasks": 0,
                "numTotalTasks": 20
              }
            ],
            "status": "Success"
          },
          {
            "id": 718,
            "jobUrl": "https://azure.qubole.com/cluster-proxy?encodedUrl\u003dhttp%3A%2F%2F10.0.0.4%3A8088%2Fproxy%2Fapplication_1515502980890_0001/jobs/job?spark\u003dtrue\u0026id\u003d718",
            "numTasks": 24,
            "numCompletedTasks": 24,
            "stages": [
              {
                "id": 1432,
                "completed": true,
                "stageUrl": "https://azure.qubole.com/cluster-proxy?encodedUrl\u003dhttp%3A%2F%2F10.0.0.4%3A8088%2Fproxy%2Fapplication_1515502980890_0001/stages/stage/?id\u003d1432\u0026attempt\u003d0",
                "numCompleteTasks": 20,
                "numActiveTasks": 0,
                "numFailedTasks": 0,
                "numTotalTasks": 20
              },
              {
                "id": 1433,
                "completed": true,
                "stageUrl": "https://azure.qubole.com/cluster-proxy?encodedUrl\u003dhttp%3A%2F%2F10.0.0.4%3A8088%2Fproxy%2Fapplication_1515502980890_0001/stages/stage/?id\u003d1433\u0026attempt\u003d0",
                "numCompleteTasks": 4,
                "numActiveTasks": 0,
                "numFailedTasks": 0,
                "numTotalTasks": 4
              }
            ],
            "status": "Success"
          },
          {
            "id": 719,
            "jobUrl": "https://azure.qubole.com/cluster-proxy?encodedUrl\u003dhttp%3A%2F%2F10.0.0.4%3A8088%2Fproxy%2Fapplication_1515502980890_0001/jobs/job?spark\u003dtrue\u0026id\u003d719",
            "numTasks": 24,
            "numCompletedTasks": 24,
            "stages": [
              {
                "id": 1435,
                "completed": true,
                "stageUrl": "https://azure.qubole.com/cluster-proxy?encodedUrl\u003dhttp%3A%2F%2F10.0.0.4%3A8088%2Fproxy%2Fapplication_1515502980890_0001/stages/stage/?id\u003d1435\u0026attempt\u003d0",
                "numCompleteTasks": 4,
                "numActiveTasks": 0,
                "numFailedTasks": 0,
                "numTotalTasks": 4
              },
              {
                "id": 1434,
                "completed": true,
                "stageUrl": "https://azure.qubole.com/cluster-proxy?encodedUrl\u003dhttp%3A%2F%2F10.0.0.4%3A8088%2Fproxy%2Fapplication_1515502980890_0001/stages/stage/?id\u003d1434\u0026attempt\u003d0",
                "numCompleteTasks": 20,
                "numActiveTasks": 0,
                "numFailedTasks": 0,
                "numTotalTasks": 20
              }
            ],
            "status": "Success"
          },
          {
            "id": 720,
            "jobUrl": "https://azure.qubole.com/cluster-proxy?encodedUrl\u003dhttp%3A%2F%2F10.0.0.4%3A8088%2Fproxy%2Fapplication_1515502980890_0001/jobs/job?spark\u003dtrue\u0026id\u003d720",
            "numTasks": 24,
            "numCompletedTasks": 24,
            "stages": [
              {
                "id": 1436,
                "completed": true,
                "stageUrl": "https://azure.qubole.com/cluster-proxy?encodedUrl\u003dhttp%3A%2F%2F10.0.0.4%3A8088%2Fproxy%2Fapplication_1515502980890_0001/stages/stage/?id\u003d1436\u0026attempt\u003d0",
                "numCompleteTasks": 20,
                "numActiveTasks": 0,
                "numFailedTasks": 0,
                "numTotalTasks": 20
              },
              {
                "id": 1437,
                "completed": true,
                "stageUrl": "https://azure.qubole.com/cluster-proxy?encodedUrl\u003dhttp%3A%2F%2F10.0.0.4%3A8088%2Fproxy%2Fapplication_1515502980890_0001/stages/stage/?id\u003d1437\u0026attempt\u003d0",
                "numCompleteTasks": 4,
                "numActiveTasks": 0,
                "numFailedTasks": 0,
                "numTotalTasks": 4
              }
            ],
            "status": "Success"
          },
          {
            "id": 721,
            "jobUrl": "https://azure.qubole.com/cluster-proxy?encodedUrl\u003dhttp%3A%2F%2F10.0.0.4%3A8088%2Fproxy%2Fapplication_1515502980890_0001/jobs/job?spark\u003dtrue\u0026id\u003d721",
            "numTasks": 24,
            "numCompletedTasks": 24,
            "stages": [
              {
                "id": 1439,
                "completed": true,
                "stageUrl": "https://azure.qubole.com/cluster-proxy?encodedUrl\u003dhttp%3A%2F%2F10.0.0.4%3A8088%2Fproxy%2Fapplication_1515502980890_0001/stages/stage/?id\u003d1439\u0026attempt\u003d0",
                "numCompleteTasks": 4,
                "numActiveTasks": 0,
                "numFailedTasks": 0,
                "numTotalTasks": 4
              },
              {
                "id": 1438,
                "completed": true,
                "stageUrl": "https://azure.qubole.com/cluster-proxy?encodedUrl\u003dhttp%3A%2F%2F10.0.0.4%3A8088%2Fproxy%2Fapplication_1515502980890_0001/stages/stage/?id\u003d1438\u0026attempt\u003d0",
                "numCompleteTasks": 20,
                "numActiveTasks": 0,
                "numFailedTasks": 0,
                "numTotalTasks": 20
              }
            ],
            "status": "Success"
          },
          {
            "id": 722,
            "jobUrl": "https://azure.qubole.com/cluster-proxy?encodedUrl\u003dhttp%3A%2F%2F10.0.0.4%3A8088%2Fproxy%2Fapplication_1515502980890_0001/jobs/job?spark\u003dtrue\u0026id\u003d722",
            "numTasks": 24,
            "numCompletedTasks": 24,
            "stages": [
              {
                "id": 1440,
                "completed": true,
                "stageUrl": "https://azure.qubole.com/cluster-proxy?encodedUrl\u003dhttp%3A%2F%2F10.0.0.4%3A8088%2Fproxy%2Fapplication_1515502980890_0001/stages/stage/?id\u003d1440\u0026attempt\u003d0",
                "numCompleteTasks": 20,
                "numActiveTasks": 0,
                "numFailedTasks": 0,
                "numTotalTasks": 20
              },
              {
                "id": 1441,
                "completed": true,
                "stageUrl": "https://azure.qubole.com/cluster-proxy?encodedUrl\u003dhttp%3A%2F%2F10.0.0.4%3A8088%2Fproxy%2Fapplication_1515502980890_0001/stages/stage/?id\u003d1441\u0026attempt\u003d0",
                "numCompleteTasks": 4,
                "numActiveTasks": 0,
                "numFailedTasks": 0,
                "numTotalTasks": 4
              }
            ],
            "status": "Success"
          },
          {
            "id": 723,
            "jobUrl": "https://azure.qubole.com/cluster-proxy?encodedUrl\u003dhttp%3A%2F%2F10.0.0.4%3A8088%2Fproxy%2Fapplication_1515502980890_0001/jobs/job?spark\u003dtrue\u0026id\u003d723",
            "numTasks": 24,
            "numCompletedTasks": 24,
            "stages": [
              {
                "id": 1442,
                "completed": true,
                "stageUrl": "https://azure.qubole.com/cluster-proxy?encodedUrl\u003dhttp%3A%2F%2F10.0.0.4%3A8088%2Fproxy%2Fapplication_1515502980890_0001/stages/stage/?id\u003d1442\u0026attempt\u003d0",
                "numCompleteTasks": 20,
                "numActiveTasks": 0,
                "numFailedTasks": 0,
                "numTotalTasks": 20
              },
              {
                "id": 1443,
                "completed": true,
                "stageUrl": "https://azure.qubole.com/cluster-proxy?encodedUrl\u003dhttp%3A%2F%2F10.0.0.4%3A8088%2Fproxy%2Fapplication_1515502980890_0001/stages/stage/?id\u003d1443\u0026attempt\u003d0",
                "numCompleteTasks": 4,
                "numActiveTasks": 0,
                "numFailedTasks": 0,
                "numTotalTasks": 4
              }
            ],
            "status": "Success"
          },
          {
            "id": 724,
            "jobUrl": "https://azure.qubole.com/cluster-proxy?encodedUrl\u003dhttp%3A%2F%2F10.0.0.4%3A8088%2Fproxy%2Fapplication_1515502980890_0001/jobs/job?spark\u003dtrue\u0026id\u003d724",
            "numTasks": 24,
            "numCompletedTasks": 24,
            "stages": [
              {
                "id": 1445,
                "completed": true,
                "stageUrl": "https://azure.qubole.com/cluster-proxy?encodedUrl\u003dhttp%3A%2F%2F10.0.0.4%3A8088%2Fproxy%2Fapplication_1515502980890_0001/stages/stage/?id\u003d1445\u0026attempt\u003d0",
                "numCompleteTasks": 4,
                "numActiveTasks": 0,
                "numFailedTasks": 0,
                "numTotalTasks": 4
              },
              {
                "id": 1444,
                "completed": true,
                "stageUrl": "https://azure.qubole.com/cluster-proxy?encodedUrl\u003dhttp%3A%2F%2F10.0.0.4%3A8088%2Fproxy%2Fapplication_1515502980890_0001/stages/stage/?id\u003d1444\u0026attempt\u003d0",
                "numCompleteTasks": 20,
                "numActiveTasks": 0,
                "numFailedTasks": 0,
                "numTotalTasks": 20
              }
            ],
            "status": "Success"
          },
          {
            "id": 725,
            "jobUrl": "https://azure.qubole.com/cluster-proxy?encodedUrl\u003dhttp%3A%2F%2F10.0.0.4%3A8088%2Fproxy%2Fapplication_1515502980890_0001/jobs/job?spark\u003dtrue\u0026id\u003d725",
            "numTasks": 24,
            "numCompletedTasks": 24,
            "stages": [
              {
                "id": 1446,
                "completed": true,
                "stageUrl": "https://azure.qubole.com/cluster-proxy?encodedUrl\u003dhttp%3A%2F%2F10.0.0.4%3A8088%2Fproxy%2Fapplication_1515502980890_0001/stages/stage/?id\u003d1446\u0026attempt\u003d0",
                "numCompleteTasks": 20,
                "numActiveTasks": 0,
                "numFailedTasks": 0,
                "numTotalTasks": 20
              },
              {
                "id": 1447,
                "completed": true,
                "stageUrl": "https://azure.qubole.com/cluster-proxy?encodedUrl\u003dhttp%3A%2F%2F10.0.0.4%3A8088%2Fproxy%2Fapplication_1515502980890_0001/stages/stage/?id\u003d1447\u0026attempt\u003d0",
                "numCompleteTasks": 4,
                "numActiveTasks": 0,
                "numFailedTasks": 0,
                "numTotalTasks": 4
              }
            ],
            "status": "Success"
          },
          {
            "id": 726,
            "jobUrl": "https://azure.qubole.com/cluster-proxy?encodedUrl\u003dhttp%3A%2F%2F10.0.0.4%3A8088%2Fproxy%2Fapplication_1515502980890_0001/jobs/job?spark\u003dtrue\u0026id\u003d726",
            "numTasks": 24,
            "numCompletedTasks": 24,
            "stages": [
              {
                "id": 1448,
                "completed": true,
                "stageUrl": "https://azure.qubole.com/cluster-proxy?encodedUrl\u003dhttp%3A%2F%2F10.0.0.4%3A8088%2Fproxy%2Fapplication_1515502980890_0001/stages/stage/?id\u003d1448\u0026attempt\u003d0",
                "numCompleteTasks": 20,
                "numActiveTasks": 0,
                "numFailedTasks": 0,
                "numTotalTasks": 20
              },
              {
                "id": 1449,
                "completed": true,
                "stageUrl": "https://azure.qubole.com/cluster-proxy?encodedUrl\u003dhttp%3A%2F%2F10.0.0.4%3A8088%2Fproxy%2Fapplication_1515502980890_0001/stages/stage/?id\u003d1449\u0026attempt\u003d0",
                "numCompleteTasks": 4,
                "numActiveTasks": 0,
                "numFailedTasks": 0,
                "numTotalTasks": 4
              }
            ],
            "status": "Success"
          },
          {
            "id": 727,
            "jobUrl": "https://azure.qubole.com/cluster-proxy?encodedUrl\u003dhttp%3A%2F%2F10.0.0.4%3A8088%2Fproxy%2Fapplication_1515502980890_0001/jobs/job?spark\u003dtrue\u0026id\u003d727",
            "numTasks": 24,
            "numCompletedTasks": 24,
            "stages": [
              {
                "id": 1450,
                "completed": true,
                "stageUrl": "https://azure.qubole.com/cluster-proxy?encodedUrl\u003dhttp%3A%2F%2F10.0.0.4%3A8088%2Fproxy%2Fapplication_1515502980890_0001/stages/stage/?id\u003d1450\u0026attempt\u003d0",
                "numCompleteTasks": 20,
                "numActiveTasks": 0,
                "numFailedTasks": 0,
                "numTotalTasks": 20
              },
              {
                "id": 1451,
                "completed": true,
                "stageUrl": "https://azure.qubole.com/cluster-proxy?encodedUrl\u003dhttp%3A%2F%2F10.0.0.4%3A8088%2Fproxy%2Fapplication_1515502980890_0001/stages/stage/?id\u003d1451\u0026attempt\u003d0",
                "numCompleteTasks": 4,
                "numActiveTasks": 0,
                "numFailedTasks": 0,
                "numTotalTasks": 4
              }
            ],
            "status": "Success"
          },
          {
            "id": 728,
            "jobUrl": "https://azure.qubole.com/cluster-proxy?encodedUrl\u003dhttp%3A%2F%2F10.0.0.4%3A8088%2Fproxy%2Fapplication_1515502980890_0001/jobs/job?spark\u003dtrue\u0026id\u003d728",
            "numTasks": 24,
            "numCompletedTasks": 24,
            "stages": [
              {
                "id": 1453,
                "completed": true,
                "stageUrl": "https://azure.qubole.com/cluster-proxy?encodedUrl\u003dhttp%3A%2F%2F10.0.0.4%3A8088%2Fproxy%2Fapplication_1515502980890_0001/stages/stage/?id\u003d1453\u0026attempt\u003d0",
                "numCompleteTasks": 4,
                "numActiveTasks": 0,
                "numFailedTasks": 0,
                "numTotalTasks": 4
              },
              {
                "id": 1452,
                "completed": true,
                "stageUrl": "https://azure.qubole.com/cluster-proxy?encodedUrl\u003dhttp%3A%2F%2F10.0.0.4%3A8088%2Fproxy%2Fapplication_1515502980890_0001/stages/stage/?id\u003d1452\u0026attempt\u003d0",
                "numCompleteTasks": 20,
                "numActiveTasks": 0,
                "numFailedTasks": 0,
                "numTotalTasks": 20
              }
            ],
            "status": "Success"
          },
          {
            "id": 729,
            "jobUrl": "https://azure.qubole.com/cluster-proxy?encodedUrl\u003dhttp%3A%2F%2F10.0.0.4%3A8088%2Fproxy%2Fapplication_1515502980890_0001/jobs/job?spark\u003dtrue\u0026id\u003d729",
            "numTasks": 24,
            "numCompletedTasks": 24,
            "stages": [
              {
                "id": 1454,
                "completed": true,
                "stageUrl": "https://azure.qubole.com/cluster-proxy?encodedUrl\u003dhttp%3A%2F%2F10.0.0.4%3A8088%2Fproxy%2Fapplication_1515502980890_0001/stages/stage/?id\u003d1454\u0026attempt\u003d0",
                "numCompleteTasks": 20,
                "numActiveTasks": 0,
                "numFailedTasks": 0,
                "numTotalTasks": 20
              },
              {
                "id": 1455,
                "completed": true,
                "stageUrl": "https://azure.qubole.com/cluster-proxy?encodedUrl\u003dhttp%3A%2F%2F10.0.0.4%3A8088%2Fproxy%2Fapplication_1515502980890_0001/stages/stage/?id\u003d1455\u0026attempt\u003d0",
                "numCompleteTasks": 4,
                "numActiveTasks": 0,
                "numFailedTasks": 0,
                "numTotalTasks": 4
              }
            ],
            "status": "Success"
          },
          {
            "id": 730,
            "jobUrl": "https://azure.qubole.com/cluster-proxy?encodedUrl\u003dhttp%3A%2F%2F10.0.0.4%3A8088%2Fproxy%2Fapplication_1515502980890_0001/jobs/job?spark\u003dtrue\u0026id\u003d730",
            "numTasks": 24,
            "numCompletedTasks": 24,
            "stages": [
              {
                "id": 1457,
                "completed": true,
                "stageUrl": "https://azure.qubole.com/cluster-proxy?encodedUrl\u003dhttp%3A%2F%2F10.0.0.4%3A8088%2Fproxy%2Fapplication_1515502980890_0001/stages/stage/?id\u003d1457\u0026attempt\u003d0",
                "numCompleteTasks": 4,
                "numActiveTasks": 0,
                "numFailedTasks": 0,
                "numTotalTasks": 4
              },
              {
                "id": 1456,
                "completed": true,
                "stageUrl": "https://azure.qubole.com/cluster-proxy?encodedUrl\u003dhttp%3A%2F%2F10.0.0.4%3A8088%2Fproxy%2Fapplication_1515502980890_0001/stages/stage/?id\u003d1456\u0026attempt\u003d0",
                "numCompleteTasks": 20,
                "numActiveTasks": 0,
                "numFailedTasks": 0,
                "numTotalTasks": 20
              }
            ],
            "status": "Success"
          },
          {
            "id": 731,
            "jobUrl": "https://azure.qubole.com/cluster-proxy?encodedUrl\u003dhttp%3A%2F%2F10.0.0.4%3A8088%2Fproxy%2Fapplication_1515502980890_0001/jobs/job?spark\u003dtrue\u0026id\u003d731",
            "numTasks": 40,
            "numCompletedTasks": 40,
            "stages": [
              {
                "id": 1458,
                "completed": true,
                "stageUrl": "https://azure.qubole.com/cluster-proxy?encodedUrl\u003dhttp%3A%2F%2F10.0.0.4%3A8088%2Fproxy%2Fapplication_1515502980890_0001/stages/stage/?id\u003d1458\u0026attempt\u003d0",
                "numCompleteTasks": 20,
                "numActiveTasks": 0,
                "numFailedTasks": 0,
                "numTotalTasks": 20
              },
              {
                "id": 1459,
                "completed": true,
                "stageUrl": "https://azure.qubole.com/cluster-proxy?encodedUrl\u003dhttp%3A%2F%2F10.0.0.4%3A8088%2Fproxy%2Fapplication_1515502980890_0001/stages/stage/?id\u003d1459\u0026attempt\u003d0",
                "numCompleteTasks": 20,
                "numActiveTasks": 0,
                "numFailedTasks": 0,
                "numTotalTasks": 20
              }
            ],
            "status": "Success"
          },
          {
            "id": 732,
            "jobUrl": "https://azure.qubole.com/cluster-proxy?encodedUrl\u003dhttp%3A%2F%2F10.0.0.4%3A8088%2Fproxy%2Fapplication_1515502980890_0001/jobs/job?spark\u003dtrue\u0026id\u003d732",
            "numTasks": 36,
            "numCompletedTasks": 32,
            "stages": [
              {
                "id": 1460,
                "completed": true,
                "stageUrl": "https://azure.qubole.com/cluster-proxy?encodedUrl\u003dhttp%3A%2F%2F10.0.0.4%3A8088%2Fproxy%2Fapplication_1515502980890_0001/stages/stage/?id\u003d1460\u0026attempt\u003d0",
                "numCompleteTasks": 20,
                "numActiveTasks": 0,
                "numFailedTasks": 0,
                "numTotalTasks": 20
              },
              {
                "id": 1461,
                "completed": true,
                "stageUrl": "https://azure.qubole.com/cluster-proxy?encodedUrl\u003dhttp%3A%2F%2F10.0.0.4%3A8088%2Fproxy%2Fapplication_1515502980890_0001/stages/stage/?id\u003d1461\u0026attempt\u003d0",
                "numCompleteTasks": 8,
                "numActiveTasks": 0,
                "numFailedTasks": 0,
                "numTotalTasks": 8
              },
              {
                "id": 1462,
                "completed": false,
                "stageUrl": "https://azure.qubole.com/cluster-proxy?encodedUrl\u003dhttp%3A%2F%2F10.0.0.4%3A8088%2Fproxy%2Fapplication_1515502980890_0001/stages/stage/?id\u003d1462\u0026attempt\u003d0",
                "numCompleteTasks": 4,
                "numActiveTasks": 4,
                "numFailedTasks": 0,
                "numTotalTasks": 8
              }
            ],
            "status": "Running"
          }
        ],
        "numCompletedTasks": 840,
        "numTasks": 844,
        "truncated": false
      },
      "jobName": "paragraph_1514929671111_-42246868",
      "id": "20180102-214751_1324467855_q_8YVGJMASEQ1515692831",
      "result": {
        "code": "ERROR",
        "type": "TEXT",
        "msg": "org.apache.thrift.transport.TTransportException\n\tat org.apache.thrift.transport.TIOStreamTransport.read(TIOStreamTransport.java:132)\n\tat org.apache.thrift.transport.TTransport.readAll(TTransport.java:86)\n\tat org.apache.thrift.protocol.TBinaryProtocol.readAll(TBinaryProtocol.java:429)\n\tat org.apache.thrift.protocol.TBinaryProtocol.readI32(TBinaryProtocol.java:318)\n\tat org.apache.thrift.protocol.TBinaryProtocol.readMessageBegin(TBinaryProtocol.java:219)\n\tat org.apache.thrift.TServiceClient.receiveBase(TServiceClient.java:69)\n\tat org.apache.zeppelin.interpreter.thrift.RemoteInterpreterService$Client.recv_interpret(RemoteInterpreterService.java:236)\n\tat org.apache.zeppelin.interpreter.thrift.RemoteInterpreterService$Client.interpret(RemoteInterpreterService.java:220)\n\tat org.apache.zeppelin.interpreter.remote.RemoteInterpreter.interpret(RemoteInterpreter.java:325)\n\tat org.apache.zeppelin.interpreter.LazyOpenInterpreter.interpret(LazyOpenInterpreter.java:105)\n\tat org.apache.zeppelin.notebook.Paragraph.jobRun(Paragraph.java:360)\n\tat org.apache.zeppelin.scheduler.Job.run(Job.java:200)\n\tat org.apache.zeppelin.scheduler.RemoteScheduler$JobRunner.run(RemoteScheduler.java:335)\n\tat java.util.concurrent.Executors$RunnableAdapter.call(Executors.java:511)\n\tat java.util.concurrent.FutureTask.run(FutureTask.java:266)\n\tat java.util.concurrent.ScheduledThreadPoolExecutor$ScheduledFutureTask.access$201(ScheduledThreadPoolExecutor.java:180)\n\tat java.util.concurrent.ScheduledThreadPoolExecutor$ScheduledFutureTask.run(ScheduledThreadPoolExecutor.java:293)\n\tat java.util.concurrent.ThreadPoolExecutor.runWorker(ThreadPoolExecutor.java:1142)\n\tat java.util.concurrent.ThreadPoolExecutor$Worker.run(ThreadPoolExecutor.java:617)\n\tat java.lang.Thread.run(Thread.java:745)\n"
      },
      "dateCreated": "Jan 2, 2018 9:47:51 PM",
      "dateStarted": "Jan 9, 2018 3:11:05 PM",
      "dateFinished": "Jan 9, 2018 3:25:42 PM",
      "status": "ERROR",
      "errorMessage": "org.apache.thrift.transport.TTransportException\n\tat org.apache.thrift.transport.TIOStreamTransport.read(TIOStreamTransport.java:132)\n\tat org.apache.thrift.transport.TTransport.readAll(TTransport.java:86)\n\tat org.apache.thrift.protocol.TBinaryProtocol.readAll(TBinaryProtocol.java:429)\n\tat org.apache.thrift.protocol.TBinaryProtocol.readI32(TBinaryProtocol.java:318)\n\tat org.apache.thrift.protocol.TBinaryProtocol.readMessageBegin(TBinaryProtocol.java:219)\n\tat org.apache.thrift.TServiceClient.receiveBase(TServiceClient.java:69)\n\tat org.apache.zeppelin.interpreter.thrift.RemoteInterpreterService$Client.recv_interpret(RemoteInterpreterService.java:236)\n\tat org.apache.zeppelin.interpreter.thrift.RemoteInterpreterService$Client.interpret(RemoteInterpreterService.java:220)\n\tat org.apache.zeppelin.interpreter.remote.RemoteInterpreter.interpret(RemoteInterpreter.java:325)\n\tat org.apache.zeppelin.interpreter.LazyOpenInterpreter.interpret(LazyOpenInterpreter.java:105)\n\tat org.apache.zeppelin.notebook.Paragraph.jobRun(Paragraph.java:360)\n\tat org.apache.zeppelin.scheduler.Job.run(Job.java:200)\n\tat org.apache.zeppelin.scheduler.RemoteScheduler$JobRunner.run(RemoteScheduler.java:335)\n\tat java.util.concurrent.Executors$RunnableAdapter.call(Executors.java:511)\n\tat java.util.concurrent.FutureTask.run(FutureTask.java:266)\n\tat java.util.concurrent.ScheduledThreadPoolExecutor$ScheduledFutureTask.access$201(ScheduledThreadPoolExecutor.java:180)\n\tat java.util.concurrent.ScheduledThreadPoolExecutor$ScheduledFutureTask.run(ScheduledThreadPoolExecutor.java:293)\n\tat java.util.concurrent.ThreadPoolExecutor.runWorker(ThreadPoolExecutor.java:1142)\n\tat java.util.concurrent.ThreadPoolExecutor$Worker.run(ThreadPoolExecutor.java:617)\n\tat java.lang.Thread.run(Thread.java:745)\n",
      "progressUpdateIntervalMs": 500
    },
    {
      "text": "cvModel.save(\"wasb://trained-model@precocityquboleout.blob.core.windows.net/cvModelElectronic\")",
      "user": "davidgillen@precocityllc.com",
      "dateUpdated": "Jan 8, 2018 8:28:36 PM",
      "config": {
        "colWidth": 12.0,
        "graph": {
          "mode": "table",
          "height": 300.0,
          "optionOpen": false,
          "keys": [],
          "values": [],
          "groups": [],
          "scatter": {}
        },
        "enabled": true,
        "editorMode": "ace/mode/scala"
      },
      "settings": {
        "params": {},
        "forms": {}
      },
      "paragraphProgress": {
        "jobs": [
          {
            "id": 1629,
            "jobUrl": "https://azure.qubole.com/cluster-proxy?encodedUrl\u003dhttp%3A%2F%2F10.0.0.4%3A8088%2Fproxy%2Fapplication_1515416833021_0001/jobs/job?spark\u003dtrue\u0026id\u003d1629",
            "numTasks": 1,
            "numCompletedTasks": 1,
            "stages": [
              {
                "id": 3160,
                "completed": true,
                "stageUrl": "https://azure.qubole.com/cluster-proxy?encodedUrl\u003dhttp%3A%2F%2F10.0.0.4%3A8088%2Fproxy%2Fapplication_1515416833021_0001/stages/stage/?id\u003d3160\u0026attempt\u003d0",
                "numCompleteTasks": 1,
                "numActiveTasks": 0,
                "numFailedTasks": 0,
                "numTotalTasks": 1
              }
            ],
            "status": "Success"
          },
          {
            "id": 1630,
            "jobUrl": "https://azure.qubole.com/cluster-proxy?encodedUrl\u003dhttp%3A%2F%2F10.0.0.4%3A8088%2Fproxy%2Fapplication_1515416833021_0001/jobs/job?spark\u003dtrue\u0026id\u003d1630",
            "numTasks": 1,
            "numCompletedTasks": 1,
            "stages": [
              {
                "id": 3161,
                "completed": true,
                "stageUrl": "https://azure.qubole.com/cluster-proxy?encodedUrl\u003dhttp%3A%2F%2F10.0.0.4%3A8088%2Fproxy%2Fapplication_1515416833021_0001/stages/stage/?id\u003d3161\u0026attempt\u003d0",
                "numCompleteTasks": 1,
                "numActiveTasks": 0,
                "numFailedTasks": 0,
                "numTotalTasks": 1
              }
            ],
            "status": "Success"
          },
          {
            "id": 1631,
            "jobUrl": "https://azure.qubole.com/cluster-proxy?encodedUrl\u003dhttp%3A%2F%2F10.0.0.4%3A8088%2Fproxy%2Fapplication_1515416833021_0001/jobs/job?spark\u003dtrue\u0026id\u003d1631",
            "numTasks": 1,
            "numCompletedTasks": 1,
            "stages": [
              {
                "id": 3162,
                "completed": true,
                "stageUrl": "https://azure.qubole.com/cluster-proxy?encodedUrl\u003dhttp%3A%2F%2F10.0.0.4%3A8088%2Fproxy%2Fapplication_1515416833021_0001/stages/stage/?id\u003d3162\u0026attempt\u003d0",
                "numCompleteTasks": 1,
                "numActiveTasks": 0,
                "numFailedTasks": 0,
                "numTotalTasks": 1
              }
            ],
            "status": "Success"
          },
          {
            "id": 1632,
            "jobUrl": "https://azure.qubole.com/cluster-proxy?encodedUrl\u003dhttp%3A%2F%2F10.0.0.4%3A8088%2Fproxy%2Fapplication_1515416833021_0001/jobs/job?spark\u003dtrue\u0026id\u003d1632",
            "numTasks": 1,
            "numCompletedTasks": 1,
            "stages": [
              {
                "id": 3163,
                "completed": true,
                "stageUrl": "https://azure.qubole.com/cluster-proxy?encodedUrl\u003dhttp%3A%2F%2F10.0.0.4%3A8088%2Fproxy%2Fapplication_1515416833021_0001/stages/stage/?id\u003d3163\u0026attempt\u003d0",
                "numCompleteTasks": 1,
                "numActiveTasks": 0,
                "numFailedTasks": 0,
                "numTotalTasks": 1
              }
            ],
            "status": "Success"
          },
          {
            "id": 1633,
            "jobUrl": "https://azure.qubole.com/cluster-proxy?encodedUrl\u003dhttp%3A%2F%2F10.0.0.4%3A8088%2Fproxy%2Fapplication_1515416833021_0001/jobs/job?spark\u003dtrue\u0026id\u003d1633",
            "numTasks": 1,
            "numCompletedTasks": 1,
            "stages": [
              {
                "id": 3164,
                "completed": true,
                "stageUrl": "https://azure.qubole.com/cluster-proxy?encodedUrl\u003dhttp%3A%2F%2F10.0.0.4%3A8088%2Fproxy%2Fapplication_1515416833021_0001/stages/stage/?id\u003d3164\u0026attempt\u003d0",
                "numCompleteTasks": 1,
                "numActiveTasks": 0,
                "numFailedTasks": 0,
                "numTotalTasks": 1
              }
            ],
            "status": "Success"
          },
          {
            "id": 1634,
            "jobUrl": "https://azure.qubole.com/cluster-proxy?encodedUrl\u003dhttp%3A%2F%2F10.0.0.4%3A8088%2Fproxy%2Fapplication_1515416833021_0001/jobs/job?spark\u003dtrue\u0026id\u003d1634",
            "numTasks": 1,
            "numCompletedTasks": 1,
            "stages": [
              {
                "id": 3165,
                "completed": true,
                "stageUrl": "https://azure.qubole.com/cluster-proxy?encodedUrl\u003dhttp%3A%2F%2F10.0.0.4%3A8088%2Fproxy%2Fapplication_1515416833021_0001/stages/stage/?id\u003d3165\u0026attempt\u003d0",
                "numCompleteTasks": 1,
                "numActiveTasks": 0,
                "numFailedTasks": 0,
                "numTotalTasks": 1
              }
            ],
            "status": "Success"
          },
          {
            "id": 1635,
            "jobUrl": "https://azure.qubole.com/cluster-proxy?encodedUrl\u003dhttp%3A%2F%2F10.0.0.4%3A8088%2Fproxy%2Fapplication_1515416833021_0001/jobs/job?spark\u003dtrue\u0026id\u003d1635",
            "numTasks": 1,
            "numCompletedTasks": 1,
            "stages": [
              {
                "id": 3166,
                "completed": true,
                "stageUrl": "https://azure.qubole.com/cluster-proxy?encodedUrl\u003dhttp%3A%2F%2F10.0.0.4%3A8088%2Fproxy%2Fapplication_1515416833021_0001/stages/stage/?id\u003d3166\u0026attempt\u003d0",
                "numCompleteTasks": 1,
                "numActiveTasks": 0,
                "numFailedTasks": 0,
                "numTotalTasks": 1
              }
            ],
            "status": "Success"
          },
          {
            "id": 1636,
            "jobUrl": "https://azure.qubole.com/cluster-proxy?encodedUrl\u003dhttp%3A%2F%2F10.0.0.4%3A8088%2Fproxy%2Fapplication_1515416833021_0001/jobs/job?spark\u003dtrue\u0026id\u003d1636",
            "numTasks": 1,
            "numCompletedTasks": 1,
            "stages": [
              {
                "id": 3167,
                "completed": true,
                "stageUrl": "https://azure.qubole.com/cluster-proxy?encodedUrl\u003dhttp%3A%2F%2F10.0.0.4%3A8088%2Fproxy%2Fapplication_1515416833021_0001/stages/stage/?id\u003d3167\u0026attempt\u003d0",
                "numCompleteTasks": 1,
                "numActiveTasks": 0,
                "numFailedTasks": 0,
                "numTotalTasks": 1
              }
            ],
            "status": "Success"
          },
          {
            "id": 1637,
            "jobUrl": "https://azure.qubole.com/cluster-proxy?encodedUrl\u003dhttp%3A%2F%2F10.0.0.4%3A8088%2Fproxy%2Fapplication_1515416833021_0001/jobs/job?spark\u003dtrue\u0026id\u003d1637",
            "numTasks": 1,
            "numCompletedTasks": 1,
            "stages": [
              {
                "id": 3168,
                "completed": true,
                "stageUrl": "https://azure.qubole.com/cluster-proxy?encodedUrl\u003dhttp%3A%2F%2F10.0.0.4%3A8088%2Fproxy%2Fapplication_1515416833021_0001/stages/stage/?id\u003d3168\u0026attempt\u003d0",
                "numCompleteTasks": 1,
                "numActiveTasks": 0,
                "numFailedTasks": 0,
                "numTotalTasks": 1
              }
            ],
            "status": "Success"
          },
          {
            "id": 1638,
            "jobUrl": "https://azure.qubole.com/cluster-proxy?encodedUrl\u003dhttp%3A%2F%2F10.0.0.4%3A8088%2Fproxy%2Fapplication_1515416833021_0001/jobs/job?spark\u003dtrue\u0026id\u003d1638",
            "numTasks": 1,
            "numCompletedTasks": 1,
            "stages": [
              {
                "id": 3169,
                "completed": true,
                "stageUrl": "https://azure.qubole.com/cluster-proxy?encodedUrl\u003dhttp%3A%2F%2F10.0.0.4%3A8088%2Fproxy%2Fapplication_1515416833021_0001/stages/stage/?id\u003d3169\u0026attempt\u003d0",
                "numCompleteTasks": 1,
                "numActiveTasks": 0,
                "numFailedTasks": 0,
                "numTotalTasks": 1
              }
            ],
            "status": "Success"
          },
          {
            "id": 1639,
            "jobUrl": "https://azure.qubole.com/cluster-proxy?encodedUrl\u003dhttp%3A%2F%2F10.0.0.4%3A8088%2Fproxy%2Fapplication_1515416833021_0001/jobs/job?spark\u003dtrue\u0026id\u003d1639",
            "numTasks": 1,
            "numCompletedTasks": 1,
            "stages": [
              {
                "id": 3170,
                "completed": true,
                "stageUrl": "https://azure.qubole.com/cluster-proxy?encodedUrl\u003dhttp%3A%2F%2F10.0.0.4%3A8088%2Fproxy%2Fapplication_1515416833021_0001/stages/stage/?id\u003d3170\u0026attempt\u003d0",
                "numCompleteTasks": 1,
                "numActiveTasks": 0,
                "numFailedTasks": 0,
                "numTotalTasks": 1
              }
            ],
            "status": "Success"
          },
          {
            "id": 1640,
            "jobUrl": "https://azure.qubole.com/cluster-proxy?encodedUrl\u003dhttp%3A%2F%2F10.0.0.4%3A8088%2Fproxy%2Fapplication_1515416833021_0001/jobs/job?spark\u003dtrue\u0026id\u003d1640",
            "numTasks": 1,
            "numCompletedTasks": 1,
            "stages": [
              {
                "id": 3171,
                "completed": true,
                "stageUrl": "https://azure.qubole.com/cluster-proxy?encodedUrl\u003dhttp%3A%2F%2F10.0.0.4%3A8088%2Fproxy%2Fapplication_1515416833021_0001/stages/stage/?id\u003d3171\u0026attempt\u003d0",
                "numCompleteTasks": 1,
                "numActiveTasks": 0,
                "numFailedTasks": 0,
                "numTotalTasks": 1
              }
            ],
            "status": "Success"
          },
          {
            "id": 1641,
            "jobUrl": "https://azure.qubole.com/cluster-proxy?encodedUrl\u003dhttp%3A%2F%2F10.0.0.4%3A8088%2Fproxy%2Fapplication_1515416833021_0001/jobs/job?spark\u003dtrue\u0026id\u003d1641",
            "numTasks": 1,
            "numCompletedTasks": 1,
            "stages": [
              {
                "id": 3172,
                "completed": true,
                "stageUrl": "https://azure.qubole.com/cluster-proxy?encodedUrl\u003dhttp%3A%2F%2F10.0.0.4%3A8088%2Fproxy%2Fapplication_1515416833021_0001/stages/stage/?id\u003d3172\u0026attempt\u003d0",
                "numCompleteTasks": 1,
                "numActiveTasks": 0,
                "numFailedTasks": 0,
                "numTotalTasks": 1
              }
            ],
            "status": "Success"
          },
          {
            "id": 1642,
            "jobUrl": "https://azure.qubole.com/cluster-proxy?encodedUrl\u003dhttp%3A%2F%2F10.0.0.4%3A8088%2Fproxy%2Fapplication_1515416833021_0001/jobs/job?spark\u003dtrue\u0026id\u003d1642",
            "numTasks": 1,
            "numCompletedTasks": 1,
            "stages": [
              {
                "id": 3173,
                "completed": true,
                "stageUrl": "https://azure.qubole.com/cluster-proxy?encodedUrl\u003dhttp%3A%2F%2F10.0.0.4%3A8088%2Fproxy%2Fapplication_1515416833021_0001/stages/stage/?id\u003d3173\u0026attempt\u003d0",
                "numCompleteTasks": 1,
                "numActiveTasks": 0,
                "numFailedTasks": 0,
                "numTotalTasks": 1
              }
            ],
            "status": "Success"
          },
          {
            "id": 1643,
            "jobUrl": "https://azure.qubole.com/cluster-proxy?encodedUrl\u003dhttp%3A%2F%2F10.0.0.4%3A8088%2Fproxy%2Fapplication_1515416833021_0001/jobs/job?spark\u003dtrue\u0026id\u003d1643",
            "numTasks": 1,
            "numCompletedTasks": 1,
            "stages": [
              {
                "id": 3174,
                "completed": true,
                "stageUrl": "https://azure.qubole.com/cluster-proxy?encodedUrl\u003dhttp%3A%2F%2F10.0.0.4%3A8088%2Fproxy%2Fapplication_1515416833021_0001/stages/stage/?id\u003d3174\u0026attempt\u003d0",
                "numCompleteTasks": 1,
                "numActiveTasks": 0,
                "numFailedTasks": 0,
                "numTotalTasks": 1
              }
            ],
            "status": "Success"
          },
          {
            "id": 1644,
            "jobUrl": "https://azure.qubole.com/cluster-proxy?encodedUrl\u003dhttp%3A%2F%2F10.0.0.4%3A8088%2Fproxy%2Fapplication_1515416833021_0001/jobs/job?spark\u003dtrue\u0026id\u003d1644",
            "numTasks": 1,
            "numCompletedTasks": 1,
            "stages": [
              {
                "id": 3175,
                "completed": true,
                "stageUrl": "https://azure.qubole.com/cluster-proxy?encodedUrl\u003dhttp%3A%2F%2F10.0.0.4%3A8088%2Fproxy%2Fapplication_1515416833021_0001/stages/stage/?id\u003d3175\u0026attempt\u003d0",
                "numCompleteTasks": 1,
                "numActiveTasks": 0,
                "numFailedTasks": 0,
                "numTotalTasks": 1
              }
            ],
            "status": "Success"
          },
          {
            "id": 1645,
            "jobUrl": "https://azure.qubole.com/cluster-proxy?encodedUrl\u003dhttp%3A%2F%2F10.0.0.4%3A8088%2Fproxy%2Fapplication_1515416833021_0001/jobs/job?spark\u003dtrue\u0026id\u003d1645",
            "numTasks": 1,
            "numCompletedTasks": 1,
            "stages": [
              {
                "id": 3176,
                "completed": true,
                "stageUrl": "https://azure.qubole.com/cluster-proxy?encodedUrl\u003dhttp%3A%2F%2F10.0.0.4%3A8088%2Fproxy%2Fapplication_1515416833021_0001/stages/stage/?id\u003d3176\u0026attempt\u003d0",
                "numCompleteTasks": 1,
                "numActiveTasks": 0,
                "numFailedTasks": 0,
                "numTotalTasks": 1
              }
            ],
            "status": "Success"
          },
          {
            "id": 1646,
            "jobUrl": "https://azure.qubole.com/cluster-proxy?encodedUrl\u003dhttp%3A%2F%2F10.0.0.4%3A8088%2Fproxy%2Fapplication_1515416833021_0001/jobs/job?spark\u003dtrue\u0026id\u003d1646",
            "numTasks": 1,
            "numCompletedTasks": 1,
            "stages": [
              {
                "id": 3177,
                "completed": true,
                "stageUrl": "https://azure.qubole.com/cluster-proxy?encodedUrl\u003dhttp%3A%2F%2F10.0.0.4%3A8088%2Fproxy%2Fapplication_1515416833021_0001/stages/stage/?id\u003d3177\u0026attempt\u003d0",
                "numCompleteTasks": 1,
                "numActiveTasks": 0,
                "numFailedTasks": 0,
                "numTotalTasks": 1
              }
            ],
            "status": "Success"
          },
          {
            "id": 1647,
            "jobUrl": "https://azure.qubole.com/cluster-proxy?encodedUrl\u003dhttp%3A%2F%2F10.0.0.4%3A8088%2Fproxy%2Fapplication_1515416833021_0001/jobs/job?spark\u003dtrue\u0026id\u003d1647",
            "numTasks": 1,
            "numCompletedTasks": 1,
            "stages": [
              {
                "id": 3178,
                "completed": true,
                "stageUrl": "https://azure.qubole.com/cluster-proxy?encodedUrl\u003dhttp%3A%2F%2F10.0.0.4%3A8088%2Fproxy%2Fapplication_1515416833021_0001/stages/stage/?id\u003d3178\u0026attempt\u003d0",
                "numCompleteTasks": 1,
                "numActiveTasks": 0,
                "numFailedTasks": 0,
                "numTotalTasks": 1
              }
            ],
            "status": "Success"
          },
          {
            "id": 1648,
            "jobUrl": "https://azure.qubole.com/cluster-proxy?encodedUrl\u003dhttp%3A%2F%2F10.0.0.4%3A8088%2Fproxy%2Fapplication_1515416833021_0001/jobs/job?spark\u003dtrue\u0026id\u003d1648",
            "numTasks": 2,
            "numCompletedTasks": 2,
            "stages": [
              {
                "id": 3179,
                "completed": true,
                "stageUrl": "https://azure.qubole.com/cluster-proxy?encodedUrl\u003dhttp%3A%2F%2F10.0.0.4%3A8088%2Fproxy%2Fapplication_1515416833021_0001/stages/stage/?id\u003d3179\u0026attempt\u003d0",
                "numCompleteTasks": 1,
                "numActiveTasks": 0,
                "numFailedTasks": 0,
                "numTotalTasks": 1
              },
              {
                "id": 3180,
                "completed": true,
                "stageUrl": "https://azure.qubole.com/cluster-proxy?encodedUrl\u003dhttp%3A%2F%2F10.0.0.4%3A8088%2Fproxy%2Fapplication_1515416833021_0001/stages/stage/?id\u003d3180\u0026attempt\u003d0",
                "numCompleteTasks": 1,
                "numActiveTasks": 0,
                "numFailedTasks": 0,
                "numTotalTasks": 1
              }
            ],
            "status": "Success"
          },
          {
            "id": 1649,
            "jobUrl": "https://azure.qubole.com/cluster-proxy?encodedUrl\u003dhttp%3A%2F%2F10.0.0.4%3A8088%2Fproxy%2Fapplication_1515416833021_0001/jobs/job?spark\u003dtrue\u0026id\u003d1649",
            "numTasks": 1,
            "numCompletedTasks": 1,
            "stages": [
              {
                "id": 3181,
                "completed": true,
                "stageUrl": "https://azure.qubole.com/cluster-proxy?encodedUrl\u003dhttp%3A%2F%2F10.0.0.4%3A8088%2Fproxy%2Fapplication_1515416833021_0001/stages/stage/?id\u003d3181\u0026attempt\u003d0",
                "numCompleteTasks": 1,
                "numActiveTasks": 0,
                "numFailedTasks": 0,
                "numTotalTasks": 1
              }
            ],
            "status": "Success"
          },
          {
            "id": 1650,
            "jobUrl": "https://azure.qubole.com/cluster-proxy?encodedUrl\u003dhttp%3A%2F%2F10.0.0.4%3A8088%2Fproxy%2Fapplication_1515416833021_0001/jobs/job?spark\u003dtrue\u0026id\u003d1650",
            "numTasks": 2,
            "numCompletedTasks": 2,
            "stages": [
              {
                "id": 3182,
                "completed": true,
                "stageUrl": "https://azure.qubole.com/cluster-proxy?encodedUrl\u003dhttp%3A%2F%2F10.0.0.4%3A8088%2Fproxy%2Fapplication_1515416833021_0001/stages/stage/?id\u003d3182\u0026attempt\u003d0",
                "numCompleteTasks": 1,
                "numActiveTasks": 0,
                "numFailedTasks": 0,
                "numTotalTasks": 1
              },
              {
                "id": 3183,
                "completed": true,
                "stageUrl": "https://azure.qubole.com/cluster-proxy?encodedUrl\u003dhttp%3A%2F%2F10.0.0.4%3A8088%2Fproxy%2Fapplication_1515416833021_0001/stages/stage/?id\u003d3183\u0026attempt\u003d0",
                "numCompleteTasks": 1,
                "numActiveTasks": 0,
                "numFailedTasks": 0,
                "numTotalTasks": 1
              }
            ],
            "status": "Success"
          }
        ],
        "numCompletedTasks": 24,
        "numTasks": 24,
        "truncated": false
      },
      "jobName": "paragraph_1515443301100_-1496042003",
      "id": "20180108-202821_1022832378_q_8YVGJMASEQ1515692831",
      "result": {
        "code": "SUCCESS",
        "type": "TEXT",
        "msg": ""
      },
      "dateCreated": "Jan 8, 2018 8:28:21 PM",
      "dateStarted": "Jan 8, 2018 8:28:36 PM",
      "dateFinished": "Jan 8, 2018 8:28:58 PM",
      "status": "FINISHED",
      "progressUpdateIntervalMs": 500
    },
    {
      "text": "import org.apache.spark.ml.{Pipeline, PipelineModel}\nval bestPipelineModel \u003d cvModel.bestModel.asInstanceOf[PipelineModel]\nbestPipelineModel.save(\"wasb://trained-model@precocityquboleout.blob.core.windows.net/cvModelElectronic2\")",
      "user": "davidgillen@precocityllc.com",
      "dateUpdated": "Jan 8, 2018 9:29:23 PM",
      "config": {
        "colWidth": 12.0,
        "graph": {
          "mode": "table",
          "height": 300.0,
          "optionOpen": false,
          "keys": [],
          "values": [],
          "groups": [],
          "scatter": {}
        },
        "enabled": true,
        "editorMode": "ace/mode/scala"
      },
      "settings": {
        "params": {},
        "forms": {}
      },
      "paragraphProgress": {
        "jobs": [
          {
            "id": 1652,
            "jobUrl": "https://azure.qubole.com/cluster-proxy?encodedUrl\u003dhttp%3A%2F%2F10.0.0.4%3A8088%2Fproxy%2Fapplication_1515416833021_0001/jobs/job?spark\u003dtrue\u0026id\u003d1652",
            "numTasks": 1,
            "numCompletedTasks": 1,
            "stages": [
              {
                "id": 3185,
                "completed": true,
                "stageUrl": "https://azure.qubole.com/cluster-proxy?encodedUrl\u003dhttp%3A%2F%2F10.0.0.4%3A8088%2Fproxy%2Fapplication_1515416833021_0001/stages/stage/?id\u003d3185\u0026attempt\u003d0",
                "numCompleteTasks": 1,
                "numActiveTasks": 0,
                "numFailedTasks": 0,
                "numTotalTasks": 1
              }
            ],
            "status": "Success"
          },
          {
            "id": 1653,
            "jobUrl": "https://azure.qubole.com/cluster-proxy?encodedUrl\u003dhttp%3A%2F%2F10.0.0.4%3A8088%2Fproxy%2Fapplication_1515416833021_0001/jobs/job?spark\u003dtrue\u0026id\u003d1653",
            "numTasks": 1,
            "numCompletedTasks": 1,
            "stages": [
              {
                "id": 3186,
                "completed": true,
                "stageUrl": "https://azure.qubole.com/cluster-proxy?encodedUrl\u003dhttp%3A%2F%2F10.0.0.4%3A8088%2Fproxy%2Fapplication_1515416833021_0001/stages/stage/?id\u003d3186\u0026attempt\u003d0",
                "numCompleteTasks": 1,
                "numActiveTasks": 0,
                "numFailedTasks": 0,
                "numTotalTasks": 1
              }
            ],
            "status": "Success"
          },
          {
            "id": 1654,
            "jobUrl": "https://azure.qubole.com/cluster-proxy?encodedUrl\u003dhttp%3A%2F%2F10.0.0.4%3A8088%2Fproxy%2Fapplication_1515416833021_0001/jobs/job?spark\u003dtrue\u0026id\u003d1654",
            "numTasks": 1,
            "numCompletedTasks": 1,
            "stages": [
              {
                "id": 3187,
                "completed": true,
                "stageUrl": "https://azure.qubole.com/cluster-proxy?encodedUrl\u003dhttp%3A%2F%2F10.0.0.4%3A8088%2Fproxy%2Fapplication_1515416833021_0001/stages/stage/?id\u003d3187\u0026attempt\u003d0",
                "numCompleteTasks": 1,
                "numActiveTasks": 0,
                "numFailedTasks": 0,
                "numTotalTasks": 1
              }
            ],
            "status": "Success"
          },
          {
            "id": 1655,
            "jobUrl": "https://azure.qubole.com/cluster-proxy?encodedUrl\u003dhttp%3A%2F%2F10.0.0.4%3A8088%2Fproxy%2Fapplication_1515416833021_0001/jobs/job?spark\u003dtrue\u0026id\u003d1655",
            "numTasks": 1,
            "numCompletedTasks": 1,
            "stages": [
              {
                "id": 3188,
                "completed": true,
                "stageUrl": "https://azure.qubole.com/cluster-proxy?encodedUrl\u003dhttp%3A%2F%2F10.0.0.4%3A8088%2Fproxy%2Fapplication_1515416833021_0001/stages/stage/?id\u003d3188\u0026attempt\u003d0",
                "numCompleteTasks": 1,
                "numActiveTasks": 0,
                "numFailedTasks": 0,
                "numTotalTasks": 1
              }
            ],
            "status": "Success"
          },
          {
            "id": 1656,
            "jobUrl": "https://azure.qubole.com/cluster-proxy?encodedUrl\u003dhttp%3A%2F%2F10.0.0.4%3A8088%2Fproxy%2Fapplication_1515416833021_0001/jobs/job?spark\u003dtrue\u0026id\u003d1656",
            "numTasks": 1,
            "numCompletedTasks": 1,
            "stages": [
              {
                "id": 3189,
                "completed": true,
                "stageUrl": "https://azure.qubole.com/cluster-proxy?encodedUrl\u003dhttp%3A%2F%2F10.0.0.4%3A8088%2Fproxy%2Fapplication_1515416833021_0001/stages/stage/?id\u003d3189\u0026attempt\u003d0",
                "numCompleteTasks": 1,
                "numActiveTasks": 0,
                "numFailedTasks": 0,
                "numTotalTasks": 1
              }
            ],
            "status": "Success"
          },
          {
            "id": 1657,
            "jobUrl": "https://azure.qubole.com/cluster-proxy?encodedUrl\u003dhttp%3A%2F%2F10.0.0.4%3A8088%2Fproxy%2Fapplication_1515416833021_0001/jobs/job?spark\u003dtrue\u0026id\u003d1657",
            "numTasks": 1,
            "numCompletedTasks": 1,
            "stages": [
              {
                "id": 3190,
                "completed": true,
                "stageUrl": "https://azure.qubole.com/cluster-proxy?encodedUrl\u003dhttp%3A%2F%2F10.0.0.4%3A8088%2Fproxy%2Fapplication_1515416833021_0001/stages/stage/?id\u003d3190\u0026attempt\u003d0",
                "numCompleteTasks": 1,
                "numActiveTasks": 0,
                "numFailedTasks": 0,
                "numTotalTasks": 1
              }
            ],
            "status": "Success"
          },
          {
            "id": 1658,
            "jobUrl": "https://azure.qubole.com/cluster-proxy?encodedUrl\u003dhttp%3A%2F%2F10.0.0.4%3A8088%2Fproxy%2Fapplication_1515416833021_0001/jobs/job?spark\u003dtrue\u0026id\u003d1658",
            "numTasks": 1,
            "numCompletedTasks": 1,
            "stages": [
              {
                "id": 3191,
                "completed": true,
                "stageUrl": "https://azure.qubole.com/cluster-proxy?encodedUrl\u003dhttp%3A%2F%2F10.0.0.4%3A8088%2Fproxy%2Fapplication_1515416833021_0001/stages/stage/?id\u003d3191\u0026attempt\u003d0",
                "numCompleteTasks": 1,
                "numActiveTasks": 0,
                "numFailedTasks": 0,
                "numTotalTasks": 1
              }
            ],
            "status": "Success"
          },
          {
            "id": 1659,
            "jobUrl": "https://azure.qubole.com/cluster-proxy?encodedUrl\u003dhttp%3A%2F%2F10.0.0.4%3A8088%2Fproxy%2Fapplication_1515416833021_0001/jobs/job?spark\u003dtrue\u0026id\u003d1659",
            "numTasks": 1,
            "numCompletedTasks": 1,
            "stages": [
              {
                "id": 3192,
                "completed": true,
                "stageUrl": "https://azure.qubole.com/cluster-proxy?encodedUrl\u003dhttp%3A%2F%2F10.0.0.4%3A8088%2Fproxy%2Fapplication_1515416833021_0001/stages/stage/?id\u003d3192\u0026attempt\u003d0",
                "numCompleteTasks": 1,
                "numActiveTasks": 0,
                "numFailedTasks": 0,
                "numTotalTasks": 1
              }
            ],
            "status": "Success"
          },
          {
            "id": 1660,
            "jobUrl": "https://azure.qubole.com/cluster-proxy?encodedUrl\u003dhttp%3A%2F%2F10.0.0.4%3A8088%2Fproxy%2Fapplication_1515416833021_0001/jobs/job?spark\u003dtrue\u0026id\u003d1660",
            "numTasks": 2,
            "numCompletedTasks": 2,
            "stages": [
              {
                "id": 3193,
                "completed": true,
                "stageUrl": "https://azure.qubole.com/cluster-proxy?encodedUrl\u003dhttp%3A%2F%2F10.0.0.4%3A8088%2Fproxy%2Fapplication_1515416833021_0001/stages/stage/?id\u003d3193\u0026attempt\u003d0",
                "numCompleteTasks": 1,
                "numActiveTasks": 0,
                "numFailedTasks": 0,
                "numTotalTasks": 1
              },
              {
                "id": 3194,
                "completed": true,
                "stageUrl": "https://azure.qubole.com/cluster-proxy?encodedUrl\u003dhttp%3A%2F%2F10.0.0.4%3A8088%2Fproxy%2Fapplication_1515416833021_0001/stages/stage/?id\u003d3194\u0026attempt\u003d0",
                "numCompleteTasks": 1,
                "numActiveTasks": 0,
                "numFailedTasks": 0,
                "numTotalTasks": 1
              }
            ],
            "status": "Success"
          },
          {
            "id": 1661,
            "jobUrl": "https://azure.qubole.com/cluster-proxy?encodedUrl\u003dhttp%3A%2F%2F10.0.0.4%3A8088%2Fproxy%2Fapplication_1515416833021_0001/jobs/job?spark\u003dtrue\u0026id\u003d1661",
            "numTasks": 1,
            "numCompletedTasks": 1,
            "stages": [
              {
                "id": 3195,
                "completed": true,
                "stageUrl": "https://azure.qubole.com/cluster-proxy?encodedUrl\u003dhttp%3A%2F%2F10.0.0.4%3A8088%2Fproxy%2Fapplication_1515416833021_0001/stages/stage/?id\u003d3195\u0026attempt\u003d0",
                "numCompleteTasks": 1,
                "numActiveTasks": 0,
                "numFailedTasks": 0,
                "numTotalTasks": 1
              }
            ],
            "status": "Success"
          },
          {
            "id": 1662,
            "jobUrl": "https://azure.qubole.com/cluster-proxy?encodedUrl\u003dhttp%3A%2F%2F10.0.0.4%3A8088%2Fproxy%2Fapplication_1515416833021_0001/jobs/job?spark\u003dtrue\u0026id\u003d1662",
            "numTasks": 2,
            "numCompletedTasks": 2,
            "stages": [
              {
                "id": 3196,
                "completed": true,
                "stageUrl": "https://azure.qubole.com/cluster-proxy?encodedUrl\u003dhttp%3A%2F%2F10.0.0.4%3A8088%2Fproxy%2Fapplication_1515416833021_0001/stages/stage/?id\u003d3196\u0026attempt\u003d0",
                "numCompleteTasks": 1,
                "numActiveTasks": 0,
                "numFailedTasks": 0,
                "numTotalTasks": 1
              },
              {
                "id": 3197,
                "completed": true,
                "stageUrl": "https://azure.qubole.com/cluster-proxy?encodedUrl\u003dhttp%3A%2F%2F10.0.0.4%3A8088%2Fproxy%2Fapplication_1515416833021_0001/stages/stage/?id\u003d3197\u0026attempt\u003d0",
                "numCompleteTasks": 1,
                "numActiveTasks": 0,
                "numFailedTasks": 0,
                "numTotalTasks": 1
              }
            ],
            "status": "Success"
          }
        ],
        "numCompletedTasks": 13,
        "numTasks": 13,
        "truncated": false
      },
      "jobName": "paragraph_1515446953234_1212033053",
      "id": "20180108-212913_919242137_q_8YVGJMASEQ1515692831",
      "result": {
        "code": "SUCCESS",
        "type": "TEXT",
        "msg": "\nimport org.apache.spark.ml.{Pipeline, PipelineModel}\n\nbestPipelineModel: org.apache.spark.ml.PipelineModel \u003d pipeline_f0d4d231950f\n"
      },
      "dateCreated": "Jan 8, 2018 9:29:13 PM",
      "dateStarted": "Jan 8, 2018 9:29:23 PM",
      "dateFinished": "Jan 8, 2018 9:29:34 PM",
      "status": "FINISHED",
      "progressUpdateIntervalMs": 500
    },
    {
      "text": "val getPOne \u003d udf((v: org.apache.spark.ml.linalg.Vector) \u003d\u003e v(1))\nval inputDf2 \u003d inputDf.withColumn(\"fullReview\", concat(inputDf(\"summary\"), lit(\" \"), inputDf(\"reviewText\")))\nvar predictions \u003d cvModel.transform(inputDf2)\nvar pred \u003d predictions.withColumn(\"predScore\",getPOne($\"probability\"))\npred.show()\n\n",
      "user": "davidgillen@precocityllc.com",
      "dateUpdated": "Jan 8, 2018 8:31:01 PM",
      "config": {
        "colWidth": 12.0,
        "graph": {
          "mode": "table",
          "height": 300.0,
          "optionOpen": false,
          "keys": [],
          "values": [],
          "groups": [],
          "scatter": {}
        },
        "enabled": true,
        "editorMode": "ace/mode/scala"
      },
      "settings": {
        "params": {},
        "forms": {}
      },
      "paragraphProgress": {
        "jobs": [
          {
            "id": 1651,
            "jobUrl": "https://azure.qubole.com/cluster-proxy?encodedUrl\u003dhttp%3A%2F%2F10.0.0.4%3A8088%2Fproxy%2Fapplication_1515416833021_0001/jobs/job?spark\u003dtrue\u0026id\u003d1651",
            "numTasks": 1,
            "numCompletedTasks": 1,
            "stages": [
              {
                "id": 3184,
                "completed": true,
                "stageUrl": "https://azure.qubole.com/cluster-proxy?encodedUrl\u003dhttp%3A%2F%2F10.0.0.4%3A8088%2Fproxy%2Fapplication_1515416833021_0001/stages/stage/?id\u003d3184\u0026attempt\u003d0",
                "numCompleteTasks": 1,
                "numActiveTasks": 0,
                "numFailedTasks": 0,
                "numTotalTasks": 1
              }
            ],
            "status": "Success"
          }
        ],
        "numCompletedTasks": 1,
        "numTasks": 1,
        "truncated": false
      },
      "jobName": "paragraph_1515196340851_-1960222856",
      "id": "20180105-235220_509213131_q_8YVGJMASEQ1515692831",
      "result": {
        "code": "SUCCESS",
        "type": "TEXT",
        "msg": "\ngetPOne: org.apache.spark.sql.expressions.UserDefinedFunction \u003d UserDefinedFunction(\u003cfunction1\u003e,DoubleType,Some(List(org.apache.spark.ml.linalg.VectorUDT@3bfc3ba7)))\n\ninputDf2: org.apache.spark.sql.DataFrame \u003d [asin: string, helpful: array\u003cbigint\u003e ... 9 more fields]\n\npredictions: org.apache.spark.sql.DataFrame \u003d [asin: string, helpful: array\u003cbigint\u003e ... 19 more fields]\n\npred: org.apache.spark.sql.DataFrame \u003d [asin: string, helpful: array\u003cbigint\u003e ... 20 more fields]\n+----------+--------+-------+--------------------+-----------+--------------+--------------------+--------------------+--------------+-----------+--------------------+--------------------+--------------------+--------------------+--------------------+--------------------+--------------------+--------------------+--------------------+--------------------+----------+-------------------+\n|      asin| helpful|overall|          reviewText| reviewTime|    reviewerID|        reviewerName|             summary|unixReviewTime|   Category|          fullReview|         regexOutput|     stopWordsOutput|             bigrams|      bigramFeatures|     unigramFeatures|     allGramFeatures|            features|       rawPrediction|         probability|prediction|          predScore|\n+----------+--------+-------+--------------------+-----------+--------------+--------------------+--------------------+--------------+-----------+--------------------+--------------------+--------------------+--------------------+--------------------+--------------------+--------------------+--------------------+--------------------+--------------------+----------+-------------------+\n|0528881469|  [0, 0]|    5.0|We got this GPS f...| 06 2, 2013| AO94DHGC771SJ|             amazdnu|     Gotta have GPS!|    1370131200|Electronics|Gotta have GPS! W...|[gotta, have, gps...|[gotta, gps, got,...|[gotta gps, gps g...|(512,[4,5,9,12,24...|(512,[14,22,24,39...|(1024,[4,5,9,12,2...|(1024,[4,5,9,12,2...|[0.25982689877416...|[0.56459373921156...|       0.0| 0.4354062607884345|\n|0528881469|[12, 15]|    1.0|I\u0027m a professiona...|11 25, 2010| AMO214LNFCEI4|     Amazon Customer|   Very Disappointed|    1290643200|Electronics|Very Disappointed...|[very, disappoint...|[disappointed, pr...|[disappointed pro...|(512,[3,4,10,12,1...|(512,[1,7,9,11,13...|(1024,[3,4,10,12,...|(1024,[3,4,10,12,...|[0.51214816364644...|[0.62530991900427...|       0.0| 0.3746900809957222|\n|0528881469|[43, 45]|    3.0|Well, what can I ...| 09 9, 2010|A3N7T0DY83Y4IG|       C. A. Freeman|      1st impression|    1283990400|Electronics|1st impression We...|[1st, impression,...|[1st, impression,...|[1st impression, ...|(512,[1,2,4,6,7,8...|(512,[1,4,11,12,1...|(1024,[1,2,4,6,7,...|(1024,[1,2,4,6,7,...|[-0.5721054014161...|[0.36075115653046...|       1.0| 0.6392488434695395|\n|0528881469| [9, 10]|    2.0|Not going to writ...|11 24, 2010|A1H8PY3QHMQQA0|Dave M. Shaw \"mac...|Great grafics, PO...|    1290556800|Electronics|Great grafics, PO...|[great, grafics, ...|[great, grafics, ...|[great grafics, g...|(512,[0,2,4,5,8,2...|(512,[6,7,8,10,14...|(1024,[0,2,4,5,8,...|(1024,[0,2,4,5,8,...|[0.10293257821188...|[0.52571044812955...|       0.0| 0.4742895518704405|\n|0528881469|  [0, 0]|    1.0|I\u0027ve had mine for...|09 29, 2011|A24EV6RXELQZ63|         Wayne Smith|Major issues, onl...|    1317254400|Electronics|Major issues, onl...|[major, issues, o...|[major, issues, e...|[major issues, is...|(512,[2,5,11,12,1...|(512,[0,1,3,5,7,1...|(1024,[2,5,11,12,...|(1024,[2,5,11,12,...|[1.04223237341153...|[0.73928051431314...|       0.0| 0.2607194856868595|\n|0594451647|  [3, 3]|    5.0|I am using this w...| 01 3, 2014|A2JXAZZI9PHK9Z|Billy G. Noland \"...|HDMI Nook adapter...|    1388707200|Electronics|HDMI Nook adapter...|[hdmi, nook, adap...|[hdmi, nook, adap...|[hdmi nook, nook ...|(512,[1,37,53,217...|(512,[44,56,86,88...|(1024,[1,37,53,21...|(1024,[1,37,53,21...|[0.26286428047893...|[0.56534026457561...|       0.0|0.43465973542438197|\n|0594451647|  [0, 0]|    2.0|The cable is very...|04 27, 2014|A2P5U7BDKKT7FW|           Christian|Cheap proprietary...|    1398556800|Electronics|Cheap proprietary...|[cheap, proprieta...|[cheap, proprieta...|[cheap proprietar...|(512,[51,125,172,...|(512,[1,47,51,80,...|(1024,[51,125,172...|(1024,[51,125,172...|[0.40622983369242...|[0.60018352009702...|       0.0| 0.3998164799029725|\n|0594451647|  [0, 0]|    5.0|This adaptor is r...| 05 4, 2014| AAZ084UMH8VZ2|D. L. Brown \"A Kn...|A Perfdect Nook H...|    1399161600|Electronics|A Perfdect Nook H...|[a, perfdect, noo...|[perfdect, nook, ...|[perfdect nook, n...|(512,[2,5,9,12,59...|(512,[2,45,72,77,...|(1024,[2,5,9,12,5...|(1024,[2,5,9,12,5...|[0.24274191749639...|[0.56038924069370...|       0.0| 0.4396107593062932|\n|0594451647|  [0, 0]|    4.0|This adapter easi...|07 11, 2014| AEZ3CR6BKIROJ|        Mark Dietter|A nice easy to us...|    1405036800|Electronics|A nice easy to us...|[a, nice, easy, t...|[nice, easy, use,...|[nice easy, easy ...|(512,[33,56,60,62...|(512,[30,39,44,99...|(1024,[33,56,60,6...|(1024,[33,56,60,6...|[0.04644644176176...|[0.51160952344053...|       0.0|0.48839047655946377|\n|0594451647|  [3, 3]|    5.0|This product real...|01 20, 2014|A3BY5KCNQZXV5U|             Matenai|This works great ...|    1390176000|Electronics|This works great ...|[this, works, gre...|[works, great, re...|[works great, gre...|(512,[6,11,14,17,...|(512,[4,14,18,30,...|(1024,[6,11,14,17...|(1024,[6,11,14,17...|[-0.6985573107521...|[0.33213216818594...|       1.0| 0.6678678318140598|\n|0594481813|  [2, 2]|    4.0|This item is just...|04 16, 2014| A7S2B0I67WNWB|              AllyMG|         As expected|    1397606400|Electronics|As expected This ...|[as, expected, th...|[expected, item, ...|[expected item, i...|(512,[15,29,88,14...|(512,[4,88,99,104...|(1024,[15,29,88,1...|(1024,[15,29,88,1...|[0.36848510482914...|[0.59109287569767...|       0.0| 0.4089071243023281|\n|0594481813|  [0, 0]|    5.0|bought for a spar...| 05 5, 2014|A3HICVLF4PFFMN|     Amazon Customer|           great fit|    1399248000|Electronics|great fit bought ...|[great, fit, boug...|[great, fit, boug...|[great fit, fit b...|(512,[4,42,171,17...|(512,[51,116,131,...|(1024,[4,42,171,1...|(1024,[4,42,171,1...|[0.29363978461447...|[0.57288697803865...|       0.0|0.42711302196134254|\n|0594481813|  [1, 1]|    5.0|My son crewed my ...|06 24, 2013| ANSKSPEEAKY7S|                Gena|         Works Great|    1372032000|Electronics|Works Great My so...|[works, great, my...|[works, great, so...|[works great, gre...|(512,[91,140,191,...|(512,[39,51,88,11...|(1024,[91,140,191...|(1024,[91,140,191...|[0.15952380195784...|[0.53979659147659...|       0.0| 0.4602034085234068|\n|0594481813|  [0, 1]|    3.0|This is a good be...|05 25, 2013|A2QBZA4S1ROX9Q|                Jake|            It Works|    1369440000|Electronics|It Works This is ...|[it, works, this,...|[works, good, bee...|[works good, good...|(512,[49,51,56,59...|(512,[33,39,85,87...|(1024,[49,51,56,5...|(1024,[49,51,56,5...|[0.30598932259312...|[0.57590599961730...|       0.0|0.42409400038269474|\n|0594481813|  [2, 2]|    5.0|I lost my B\u0026N ori...| 03 9, 2014| ANY6JUFM0GH8U|          J. Clement|Great replacement...|    1394323200|Electronics|Great replacement...|[great, replaceme...|[great, replaceme...|[great replacemen...|(512,[3,7,18,24,2...|(512,[1,44,49,51,...|(1024,[3,7,18,24,...|(1024,[3,7,18,24,...|[0.00656902711560...|[0.50164225087335...|       0.0| 0.4983577491266438|\n|0594481813|  [0, 0]|    3.0|It does 2A and ch...|08 31, 2013| AT09WGFUM934H|                John|This is the oem c...|    1377907200|Electronics|This is the oem c...|[this, is, the, o...|[oem, charger, ge...|[oem charger, cha...|(512,[12,15,17,22...|(512,[11,24,36,51...|(1024,[12,15,17,2...|(1024,[12,15,17,2...|[0.32419389711288...|[0.58034599560416...|       0.0|0.41965400439583517|\n|0594481813|  [3, 5]|    3.0|Go to Target or B...|09 18, 2013| AGAKHE014LQFU|           Nicodimus|$45 for a power c...|    1379462400|Electronics|$45 for a power c...|[45, for, a, powe...|[45, power, cord,...|[45 power, power ...|(512,[18,21,24,58...|(512,[3,51,114,11...|(1024,[18,21,24,5...|(1024,[18,21,24,5...|[0.43411608422898...|[0.60685612181363...|       0.0| 0.3931438781863662|\n|0594481813|  [2, 2]|    4.0|Works well, a lit...|06 27, 2013|A1S6B5QFWGVL5U|          T. Vaughan|    Good replacement|    1372291200|Electronics|Good replacement ...|[good, replacemen...|[good, replacemen...|[good replacement...|(512,[112,141,217...|(512,[11,45,88,14...|(1024,[112,141,21...|(1024,[112,141,21...|[0.20195120266581...|[0.55031690519963...|       0.0| 0.4496830948003644|\n|0972683275|  [0, 0]|    5.0|This is a great b...|07 12, 2014|A20XXTXWF2TCPY|                null|Excelant mount fo...|    1405123200|Electronics|Excelant mount fo...|[excelant, mount,...|[excelant, mount,...|[excelant mount, ...|(512,[41,57,184,2...|(512,[81,114,116,...|(1024,[41,57,184,...|(1024,[41,57,184,...|[0.41454796246530...|[0.60217789192553...|       0.0|0.39782210807446944|\n|0972683275|  [1, 1]|    5.0|This mount is jus...|04 30, 2013|A2IDCSC6NVONIZ|             2Cents!|             Perfect|    1367280000|Electronics|Perfect This moun...|[perfect, this, m...|[perfect, mount, ...|[perfect mount, m...|(512,[5,17,20,23,...|(512,[10,71,77,81...|(1024,[5,17,20,23...|(1024,[5,17,20,23...|[0.00601216220652...|[0.50150303602422...|       0.0| 0.4984969639757718|\n+----------+--------+-------+--------------------+-----------+--------------+--------------------+--------------------+--------------+-----------+--------------------+--------------------+--------------------+--------------------+--------------------+--------------------+--------------------+--------------------+--------------------+--------------------+----------+-------------------+\nonly showing top 20 rows\n\n"
      },
      "dateCreated": "Jan 5, 2018 11:52:20 PM",
      "dateStarted": "Jan 8, 2018 8:31:02 PM",
      "dateFinished": "Jan 8, 2018 8:31:05 PM",
      "status": "FINISHED",
      "progressUpdateIntervalMs": 500
    },
    {
      "text": "val filterByLengthUDF \u003d sqlContext.udf.register(\"NumWords\", (x:WrappedArray[String]) \u003d\u003e x.length)\npred \u003d sqlContext.sql(\"select *, NumWords(regexOutput) as numWords from pred\")\npred.createOrReplaceTempView(\"pred\")",
      "user": "davidgillen@precocityllc.com",
      "dateUpdated": "Jan 8, 2018 7:54:42 PM",
      "config": {
        "colWidth": 12.0,
        "graph": {
          "mode": "table",
          "height": 300.0,
          "optionOpen": false,
          "keys": [],
          "values": [],
          "groups": [],
          "scatter": {}
        },
        "enabled": true,
        "editorMode": "ace/mode/scala"
      },
      "settings": {
        "params": {},
        "forms": {}
      },
      "paragraphProgress": {
        "jobs": [],
        "numCompletedTasks": 0,
        "numTasks": 0,
        "truncated": false
      },
      "jobName": "paragraph_1515441247750_-1376695391",
      "id": "20180108-195407_1174964283_q_8YVGJMASEQ1515692831",
      "result": {
        "code": "SUCCESS",
        "type": "TEXT",
        "msg": "\nfilterByLengthUDF: org.apache.spark.sql.expressions.UserDefinedFunction \u003d UserDefinedFunction(\u003cfunction1\u003e,IntegerType,Some(List(ArrayType(StringType,true))))\n\npred: org.apache.spark.sql.DataFrame \u003d [asin: string, helpful: array\u003cbigint\u003e ... 27 more fields]\n"
      },
      "dateCreated": "Jan 8, 2018 7:54:07 PM",
      "dateStarted": "Jan 8, 2018 7:54:42 PM",
      "dateFinished": "Jan 8, 2018 7:54:44 PM",
      "status": "FINISHED",
      "progressUpdateIntervalMs": 500
    },
    {
      "text": "pred.show()",
      "user": "davidgillen@precocityllc.com",
      "dateUpdated": "Jan 8, 2018 7:56:35 PM",
      "config": {
        "colWidth": 12.0,
        "graph": {
          "mode": "table",
          "height": 300.0,
          "optionOpen": false,
          "keys": [],
          "values": [],
          "groups": [],
          "scatter": {}
        },
        "enabled": true,
        "editorMode": "ace/mode/scala"
      },
      "settings": {
        "params": {},
        "forms": {}
      },
      "paragraphProgress": {
        "jobs": [
          {
            "id": 1624,
            "jobUrl": "https://azure.qubole.com/cluster-proxy?encodedUrl\u003dhttp%3A%2F%2F10.0.0.4%3A8088%2Fproxy%2Fapplication_1515416833021_0001/jobs/job?spark\u003dtrue\u0026id\u003d1624",
            "numTasks": 1,
            "numCompletedTasks": 1,
            "stages": [
              {
                "id": 3151,
                "completed": true,
                "stageUrl": "https://azure.qubole.com/cluster-proxy?encodedUrl\u003dhttp%3A%2F%2F10.0.0.4%3A8088%2Fproxy%2Fapplication_1515416833021_0001/stages/stage/?id\u003d3151\u0026attempt\u003d0",
                "numCompleteTasks": 1,
                "numActiveTasks": 0,
                "numFailedTasks": 0,
                "numTotalTasks": 1
              }
            ],
            "status": "Success"
          }
        ],
        "numCompletedTasks": 1,
        "numTasks": 1,
        "truncated": false
      },
      "jobName": "paragraph_1515441391557_-1510021014",
      "id": "20180108-195631_348596686_q_8YVGJMASEQ1515692831",
      "result": {
        "code": "SUCCESS",
        "type": "TEXT",
        "msg": "+----------+--------+-------+--------------------+-----------+--------------+--------------------+--------------------+--------------+-----------+-------+----------+--------------------+------------------+-----+------------------+--------------------+--------------------+--------------------+--------------------+--------------------+--------------------+--------------------+--------------------+--------------------+----------+-------------------+--------------------+--------+\n|      asin| helpful|overall|          reviewText| reviewTime|    reviewerID|        reviewerName|             summary|unixReviewTime|   Category|upVotes|totalVotes|          fullReview|             score|label|    classWeightCol|         regexOutput|     stopWordsOutput|             bigrams|      bigramFeatures|     unigramFeatures|     allGramFeatures|            features|       rawPrediction|         probability|prediction|          predScore|              absErr|numWords|\n+----------+--------+-------+--------------------+-----------+--------------+--------------------+--------------------+--------------+-----------+-------+----------+--------------------+------------------+-----+------------------+--------------------+--------------------+--------------------+--------------------+--------------------+--------------------+--------------------+--------------------+--------------------+----------+-------------------+--------------------+--------+\n|0528881469|[12, 15]|    1.0|I\u0027m a professiona...|11 25, 2010| AMO214LNFCEI4|     Amazon Customer|   Very Disappointed|    1290643200|Electronics|     12|        15|Very Disappointed...|               0.8|    0|0.6014281249248672|[very, disappoint...|[disappointed, pr...|[disappointed pro...|(512,[3,4,10,12,1...|(512,[1,7,9,11,13...|(1024,[3,4,10,12,...|(1024,[3,4,10,12,...|[0.51214816364644...|[0.62530991900427...|       0.0| 0.3746900809957222| 0.42530991900427784|     445|\n|0528881469|[43, 45]|    3.0|Well, what can I ...| 09 9, 2010|A3N7T0DY83Y4IG|       C. A. Freeman|      1st impression|    1283990400|Electronics|     43|        45|1st impression We...|0.9555555555555556|    1|0.3985718750751328|[1st, impression,...|[1st, impression,...|[1st impression, ...|(512,[1,2,4,6,7,8...|(512,[1,4,11,12,1...|(1024,[1,2,4,6,7,...|(1024,[1,2,4,6,7,...|[-0.5721054014161...|[0.36075115653046...|       1.0| 0.6392488434695395| 0.31630671208601613|     872|\n|0528881469| [9, 10]|    2.0|Not going to writ...|11 24, 2010|A1H8PY3QHMQQA0|Dave M. Shaw \"mac...|Great grafics, PO...|    1290556800|Electronics|      9|        10|Great grafics, PO...|               0.9|    1|0.3985718750751328|[great, grafics, ...|[great, grafics, ...|[great grafics, g...|(512,[0,2,4,5,8,2...|(512,[6,7,8,10,14...|(1024,[0,2,4,5,8,...|(1024,[0,2,4,5,8,...|[0.10293257821188...|[0.52571044812955...|       0.0| 0.4742895518704405| 0.42571044812955955|     467|\n|0594481813|  [3, 5]|    3.0|Go to Target or B...|09 18, 2013| AGAKHE014LQFU|           Nicodimus|$45 for a power c...|    1379462400|Electronics|      3|         5|$45 for a power c...|               0.6|    0|0.6014281249248672|[45, for, a, powe...|[45, power, cord,...|[45 power, power ...|(512,[18,21,24,58...|(512,[3,51,114,11...|(1024,[18,21,24,5...|(1024,[18,21,24,5...|[0.43411608422898...|[0.60685612181363...|       0.0| 0.3931438781863662| 0.20685612181363378|      52|\n|0972683275|  [7, 9]|    5.0|I used this for m...|02 21, 2013|A26QCCO0101CO1|Amazon Customer \"...| Just what I\u0027d hoped|    1361404800|Electronics|      7|         9|Just what I\u0027d hop...|0.7777777777777778|    0|0.6014281249248672|[just, what, i, d...|[hoped, used, 47,...|[hoped used, used...|(512,[2,15,20,35,...|(512,[3,29,72,86,...|(1024,[2,15,20,35...|(1024,[2,15,20,35...|[0.03053636916887...|[0.50763349913412...|       0.0|0.49236650086587347|  0.2854112769119043|      87|\n|0972683275|[15, 19]|    5.0|Quality was excel...| 10 5, 2010|A3QH8VQDE7HZCR|      costaricachris|Real value for th...|    1286236800|Electronics|     15|        19|Real value for th...|0.7894736842105263|    0|0.6014281249248672|[real, value, for...|[real, value, mon...|[real value, valu...|(512,[21,40,47,69...|(512,[1,14,39,52,...|(1024,[21,40,47,6...|(1024,[21,40,47,6...|[0.22563942301309...|[0.55617173441362...|       0.0| 0.4438282655863786|  0.3456454186241477|      69|\n|0972683275| [8, 18]|    1.0|I checked around ...| 12 1, 2010|A38FGQVJM18OWV|George S. Mitchel...|What a piece of j...|    1291161600|Electronics|      8|        18|What a piece of j...|0.4444444444444444|    0|0.6014281249248672|[what, a, piece, ...|[piece, junk, che...|[piece junk, junk...|(512,[1,12,23,27,...|(512,[2,3,4,12,21...|(1024,[1,12,23,27...|(1024,[1,12,23,27...|[0.21487812045737...|[0.55351378249143...|       0.0|0.44648621750856476|0.002041773064120...|     143|\n|0972683275|[14, 19]|    5.0|I mounted this in...|09 30, 2010| A7R4R9THNELTP|                  LG|Excellent, at any...|    1285804800|Electronics|     14|        19|Excellent, at any...|0.7368421052631579|    0|0.6014281249248672|[excellent, at, a...|[excellent, price...|[excellent price,...|(512,[29,30,52,67...|(512,[39,51,81,88...|(1024,[29,30,52,6...|(1024,[29,30,52,6...|[-0.0098152754617...|[0.49754620083436...|       1.0|  0.502453799165635|  0.2343883060975228|      51|\n|0972683275|  [5, 6]|    4.0|For the money you...|02 19, 2008|A3AKVALGT4Y02G|             MICHAEL|can\u0027t beat it for...|    1203379200|Electronics|      5|         6|can\u0027t beat it for...|0.8333333333333334|    1|0.3985718750751328|[can, t, beat, it...|[beat, price, mon...|[beat price, pric...|(512,[19,25,42,56...|(512,[51,77,88,10...|(1024,[19,25,42,5...|(1024,[19,25,42,5...|[0.17409646216558...|[0.54341451459351...|       0.0| 0.4565854854064801|  0.3767478479268533|      52|\n|0972683275|  [7, 9]|    5.0|I love this mount...|09 26, 2010|A2I8J6GW1H6LWU|             Michael|Great low cost mo...|    1285459200|Electronics|      7|         9|Great low cost mo...|0.7777777777777778|    0|0.6014281249248672|[great, low, cost...|[great, low, cost...|[great low, low c...|(512,[7,46,87,90,...|(512,[1,63,81,102...|(1024,[7,46,87,90...|(1024,[7,46,87,90...|[0.29136775563195...|[0.57233094913334...|       0.0| 0.4276690508666544|  0.3501087269111234|      33|\n|0972683275|  [5, 7]|    1.0|I consider myself...|02 13, 2013|A15K7HV1XD6YWR|       Musawir Karim|Beware the TV wil...|    1360713600|Electronics|      5|         7|Beware the TV wil...|0.7142857142857143|    0|0.6014281249248672|[beware, the, tv,...|[beware, tv, cent...|[beware tv, tv ce...|(512,[2,5,10,22,2...|(512,[37,42,45,47...|(1024,[2,5,10,22,...|(1024,[2,5,10,22,...|[-0.0702250646786...|[0.48245094525523...|       1.0| 0.5175490547447605| 0.19673665954095376|     229|\n|0972683275|  [1, 8]|    2.0|The fact that the...| 10 1, 2010|A11ZP93TJED4T6|                Ryan|poor manufacture ...|    1285891200|Electronics|      1|         8|poor manufacture ...|             0.125|    0|0.6014281249248672|[poor, manufactur...|[poor, manufactur...|[poor manufacture...|(512,[2,3,27,50,8...|(512,[11,38,39,49...|(1024,[2,3,27,50,...|(1024,[2,3,27,50,...|[0.42404593384034...|[0.60445099979341...|       0.0|  0.395549000206582|   0.270549000206582|      82|\n|0972683275|[70, 92]|    3.0|I purchased this ...|12 11, 2010|A27K5RT7VDB7BU|             Stephan|It Works But Coul...|    1292025600|Electronics|     70|        92|It Works But Coul...|0.7608695652173914|    0|0.6014281249248672|[it, works, but, ...|[works, could, be...|[works could, cou...|(512,[0,2,7,10,11...|(512,[11,13,21,51...|(1024,[0,2,7,10,1...|(1024,[0,2,7,10,1...|[-0.3502992938177...|[0.41330984499353...|       1.0| 0.5866901550064626| 0.17417941021092875|     202|\n|0972683275|[18, 23]|    5.0|Do not listen to ...|10 12, 2010| AGY0KH2D5G9WH|         Thomas \"TC\"|     Excellent mount|    1286841600|Electronics|     18|        23|Excellent mount D...| 0.782608695652174|    0|0.6014281249248672|[excellent, mount...|[excellent, mount...|[excellent mount,...|(512,[0,20,22,34,...|(512,[11,18,23,44...|(1024,[0,20,22,34...|(1024,[0,20,22,34...|[0.07915921184094...|[0.51977947555788...|       0.0| 0.4802205244421179| 0.30238817121005607|      78|\n|0972683275| [8, 15]|    2.0|Unfortunately, I\u0027...| 09 4, 2010|A25M2X8KHSS2NC|Ultimate Ducky \"U...|Poor Quality Cont...|    1283558400|Electronics|      8|        15|Poor Quality Cont...|0.5333333333333333|    0|0.6014281249248672|[poor, quality, c...|[poor, quality, c...|[poor quality, qu...|(512,[1,2,4,5,6,8...|(512,[1,3,7,13,19...|(1024,[1,2,4,5,6,...|(1024,[1,2,4,5,6,...|[-0.3567187764495...|[0.41175408905229...|       1.0| 0.5882459109477058|0.054912577614372515|     491|\n|0972683275|[14, 19]|    1.0|If less money had...| 06 9, 2011|A2ZMEHV9S4FXV5|        venividivici|Junk, sags, wobbl...|    1307577600|Electronics|     14|        19|Junk, sags, wobbl...|0.7368421052631579|    0|0.6014281249248672|[junk, sags, wobb...|[junk, sags, wobb...|[junk sags, sags ...|(512,[10,12,21,30...|(512,[15,31,32,49...|(1024,[10,12,21,3...|(1024,[10,12,21,3...|[0.61926461560252...|[0.65005127840316...|       0.0| 0.3499487215968365| 0.38689338366632137|     146|\n|1400501466|  [4, 9]|    1.0|Have no idea why ...|03 24, 2012|A1A5KUIIIHFF4U|Anonymous \"Anonym...|This thing is a j...|    1332547200|Electronics|      4|         9|This thing is a j...|0.4444444444444444|    0|0.6014281249248672|[this, thing, is,...|[thing, junk, kid...|[thing junk, junk...|(512,[4,15,17,21,...|(512,[8,31,34,45,...|(1024,[4,15,17,21...|(1024,[4,15,17,21...|[0.61668814036608...|[0.64946494357422...|       0.0|0.35053505642577854| 0.09390938801866588|     122|\n|1400501466|[11, 11]|    5.0|I bought this for...|07 15, 2012|A2UL4M5SXL7L0A|         basieswings|Excellent hardwar...|    1342310400|Electronics|     11|        11|Excellent hardwar...|               1.0|    1|0.3985718750751328|[excellent, hardw...|[excellent, hardw...|[excellent hardwa...|(512,[2,8,12,18,2...|(512,[4,9,13,20,2...|(1024,[2,8,12,18,...|(1024,[2,8,12,18,...|[-0.0269723775214...|[0.49325731439513...|       1.0| 0.5067426856048602| 0.49325731439513976|     333|\n|1400501466|[17, 19]|    5.0|Months later, I a...|02 16, 2012|A2FHM5FB0BXKGA|Dr. Elaine O. Cha...|Outstanding 7\" Ta...|    1329350400|Electronics|     17|        19|Outstanding 7\" Ta...|0.8947368421052632|    1|0.3985718750751328|[outstanding, 7, ...|[outstanding, 7, ...|[outstanding 7, 7...|(512,[0,2,4,6,7,9...|(512,[1,2,3,4,5,6...|(1024,[0,2,4,6,7,...|(1024,[0,2,4,6,7,...|[-0.7611390626456...|[0.31839901448459...|       1.0| 0.6816009855154098| 0.21313585658985335|    1506|\n|1400501466|  [5, 5]|    2.0|I pulled the trig...| 01 4, 2012| A6VFSC0BW75Y0|   Frederick J. Haab|People shouldn\u0027t ...|    1325635200|Electronics|      5|         5|People shouldn\u0027t ...|               1.0|    1|0.3985718750751328|[people, shouldn,...|[people, surprise...|[people surprised...|(512,[2,4,6,7,8,9...|(512,[1,2,3,4,7,1...|(1024,[2,4,6,7,8,...|(1024,[2,4,6,7,8,...|[-0.3091550644347...|[0.42332099144155...|       1.0| 0.5766790085584494| 0.42332099144155055|    1311|\n+----------+--------+-------+--------------------+-----------+--------------+--------------------+--------------------+--------------+-----------+-------+----------+--------------------+------------------+-----+------------------+--------------------+--------------------+--------------------+--------------------+--------------------+--------------------+--------------------+--------------------+--------------------+----------+-------------------+--------------------+--------+\nonly showing top 20 rows\n\n"
      },
      "dateCreated": "Jan 8, 2018 7:56:31 PM",
      "dateStarted": "Jan 8, 2018 7:56:35 PM",
      "dateFinished": "Jan 8, 2018 7:56:37 PM",
      "status": "FINISHED",
      "progressUpdateIntervalMs": 500
    },
    {
      "text": "import org.apache.spark.sql.functions._\npred \u003d pred.withColumn(\"absErr\",abs($\"predScore\"-$\"score\"))\npred.createOrReplaceTempView(\"pred\")\n//var newPred \u003d sqlContext.sql(\"select asin,count(*) as numReviews,min(score) as minScore,min(predScore) as minPredScore,max(score) as maxScore, max(predScore) as maxPredScore,mean(absErr) as meanAbsErr,mean(overall) as meanOverall,mean(score) as meanScore from pred group by asin\")\nvar newPred \u003d sqlContext.sql(\"select asin,count(*) as numReviews,mean(absErr) as meanAbsErr,mean(overall) as meanOverall,mean(score) as meanScore,mean(numWords) as meanRevLength from pred group by asin\")\nnewPred.createOrReplaceTempView(\"newPred\")\nvar numHelp \u003d sqlContext.sql(\"select asin,count(*) as numHelpfulPredScores from pred where score \u003e 0.8 and absErr \u003c 0.2 group by asin\")\nvar joined \u003d newPred.join(numHelp,\"asin\")\njoined.filter(\"numReviews \u003e\u003d 5 and numReviews \u003c\u003d 20 and meanRevLength \u003c 200 and numHelpfulPredScores \u003c 3\").sort($\"meanScore\".asc).show()\n",
      "user": "davidgillen@precocityllc.com",
      "dateUpdated": "Jan 8, 2018 8:04:03 PM",
      "config": {
        "colWidth": 12.0,
        "graph": {
          "mode": "table",
          "height": 300.0,
          "optionOpen": false,
          "keys": [],
          "values": [],
          "groups": [],
          "scatter": {}
        },
        "enabled": true,
        "editorMode": "ace/mode/scala"
      },
      "settings": {
        "params": {},
        "forms": {}
      },
      "paragraphProgress": {
        "jobs": [
          {
            "id": 1626,
            "jobUrl": "https://azure.qubole.com/cluster-proxy?encodedUrl\u003dhttp%3A%2F%2F10.0.0.4%3A8088%2Fproxy%2Fapplication_1515416833021_0001/jobs/job?spark\u003dtrue\u0026id\u003d1626",
            "numTasks": 240,
            "numCompletedTasks": 240,
            "stages": [
              {
                "id": 3155,
                "completed": true,
                "stageUrl": "https://azure.qubole.com/cluster-proxy?encodedUrl\u003dhttp%3A%2F%2F10.0.0.4%3A8088%2Fproxy%2Fapplication_1515416833021_0001/stages/stage/?id\u003d3155\u0026attempt\u003d0",
                "numCompleteTasks": 20,
                "numActiveTasks": 0,
                "numFailedTasks": 0,
                "numTotalTasks": 20
              },
              {
                "id": 3156,
                "completed": true,
                "stageUrl": "https://azure.qubole.com/cluster-proxy?encodedUrl\u003dhttp%3A%2F%2F10.0.0.4%3A8088%2Fproxy%2Fapplication_1515416833021_0001/stages/stage/?id\u003d3156\u0026attempt\u003d0",
                "numCompleteTasks": 20,
                "numActiveTasks": 0,
                "numFailedTasks": 0,
                "numTotalTasks": 20
              },
              {
                "id": 3157,
                "completed": true,
                "stageUrl": "https://azure.qubole.com/cluster-proxy?encodedUrl\u003dhttp%3A%2F%2F10.0.0.4%3A8088%2Fproxy%2Fapplication_1515416833021_0001/stages/stage/?id\u003d3157\u0026attempt\u003d0",
                "numCompleteTasks": 200,
                "numActiveTasks": 0,
                "numFailedTasks": 0,
                "numTotalTasks": 200
              }
            ],
            "status": "Success"
          }
        ],
        "numCompletedTasks": 240,
        "numTasks": 240,
        "truncated": false
      },
      "jobName": "paragraph_1515196735399_-502807179",
      "id": "20180105-235855_1225385734_q_8YVGJMASEQ1515692831",
      "result": {
        "code": "SUCCESS",
        "type": "TEXT",
        "msg": "\nimport org.apache.spark.sql.functions._\n\npred: org.apache.spark.sql.DataFrame \u003d [asin: string, helpful: array\u003cbigint\u003e ... 27 more fields]\n\nnewPred: org.apache.spark.sql.DataFrame \u003d [asin: string, numReviews: bigint ... 4 more fields]\n\nnumHelp: org.apache.spark.sql.DataFrame \u003d [asin: string, numHelpfulPredScores: bigint]\n\njoined: org.apache.spark.sql.DataFrame \u003d [asin: string, numReviews: bigint ... 5 more fields]\n+----------+----------+-------------------+------------------+-------------------+------------------+--------------------+\n|      asin|numReviews|         meanAbsErr|       meanOverall|          meanScore|     meanRevLength|numHelpfulPredScores|\n+----------+----------+-------------------+------------------+-------------------+------------------+--------------------+\n|B006V386UG|         8|0.20986719522021674|             3.625| 0.3821218487394958|           188.875|                   1|\n|B005H3I38Q|         7|0.34939522910881066|2.7142857142857144|   0.47409517919722|167.85714285714286|                   1|\n|B0002Y5WXY|         8| 0.2513759628224673|               3.5|0.47554424741924745|           163.625|                   1|\n|B006EWUO22|        12|  0.252853131858205|               3.5| 0.4778454959888246|            145.25|                   1|\n|B006X2HD2M|        18| 0.2828922570271042| 4.222222222222222|0.48621564705376286|111.88888888888889|                   1|\n|B003TO56F8|         9|0.20617478539205167|2.3333333333333335|0.49181307646219924|197.44444444444446|                   1|\n|B003KP8VSK|         7|0.22956215146140507|3.2857142857142856| 0.4955453149001537|             196.0|                   1|\n|B000FITKK8|        16| 0.3077034794872883|            3.5625| 0.5048073563528676|          193.3125|                   1|\n|B000WYVBR0|        18|0.26097829153456126|3.0555555555555554|  0.516908126865664|199.16666666666666|                   2|\n|B009UNGYHG|         8|0.24427980586081302|              2.75| 0.5284836557713068|           164.625|                   1|\n|B005IQGNCU|        14| 0.2910266875418196|               3.5| 0.5286413221503607|194.35714285714286|                   1|\n|B006GLEZ8U|         7|0.22150960967347078| 4.857142857142857| 0.5301215568194491|184.14285714285714|                   1|\n|B004CJ8DKE|         7|0.13082142655090157|               3.0| 0.5311688311688313|166.14285714285714|                   1|\n|B008NF8998|         9| 0.1627266907392267| 4.111111111111111| 0.5320246782203304|             198.0|                   1|\n|B005S8ND9O|        17| 0.2422580094896659|4.0588235294117645| 0.5354022680025978|113.41176470588235|                   1|\n|B003XIM3QK|        14| 0.3177575849024019| 3.642857142857143| 0.5475150225714136|124.14285714285714|                   1|\n|B00BB9OOFG|        13| 0.2042920665156886|3.6923076923076925| 0.5507330969420193|             152.0|                   1|\n|B004BQTSKC|         5| 0.2045529364865974|               2.4| 0.5519375361480624|             159.4|                   1|\n|B0058GK55Q|         5| 0.2457197204639292|               4.0| 0.5589473684210526|             140.4|                   1|\n|B00AGABISW|         5| 0.2558909609446044|               3.4| 0.5657438169066076|             144.8|                   2|\n+----------+----------+-------------------+------------------+-------------------+------------------+--------------------+\nonly showing top 20 rows\n\n"
      },
      "dateCreated": "Jan 5, 2018 11:58:55 PM",
      "dateStarted": "Jan 8, 2018 7:58:23 PM",
      "dateFinished": "Jan 8, 2018 7:58:53 PM",
      "status": "FINISHED",
      "progressUpdateIntervalMs": 500
    },
    {
      "text": "var testAsin \u003d sqlContext.sql(\"select reviewerName,summary,overall,upVotes,totalVotes,score,predScore,prediction from pred where asin \u003d \u0027B004CJ8DKE\u0027 order by score asc\")\ntestAsin.show(false)",
      "user": "davidgillen@precocityllc.com",
      "dateUpdated": "Jan 8, 2018 8:11:46 PM",
      "config": {
        "colWidth": 12.0,
        "graph": {
          "mode": "table",
          "height": 300.0,
          "optionOpen": false,
          "keys": [],
          "values": [],
          "groups": [],
          "scatter": {}
        },
        "enabled": true,
        "editorMode": "ace/mode/scala"
      },
      "settings": {
        "params": {},
        "forms": {}
      },
      "paragraphProgress": {
        "jobs": [
          {
            "id": 1628,
            "jobUrl": "https://azure.qubole.com/cluster-proxy?encodedUrl\u003dhttp%3A%2F%2F10.0.0.4%3A8088%2Fproxy%2Fapplication_1515416833021_0001/jobs/job?spark\u003dtrue\u0026id\u003d1628",
            "numTasks": 20,
            "numCompletedTasks": 20,
            "stages": [
              {
                "id": 3159,
                "completed": true,
                "stageUrl": "https://azure.qubole.com/cluster-proxy?encodedUrl\u003dhttp%3A%2F%2F10.0.0.4%3A8088%2Fproxy%2Fapplication_1515416833021_0001/stages/stage/?id\u003d3159\u0026attempt\u003d0",
                "numCompleteTasks": 20,
                "numActiveTasks": 0,
                "numFailedTasks": 0,
                "numTotalTasks": 20
              }
            ],
            "status": "Success"
          }
        ],
        "numCompletedTasks": 20,
        "numTasks": 20,
        "truncated": false
      },
      "jobName": "paragraph_1515441595314_-1616472221",
      "id": "20180108-195955_1396572640_q_8YVGJMASEQ1515692831",
      "result": {
        "code": "SUCCESS",
        "type": "TEXT",
        "msg": "\ntestAsin: org.apache.spark.sql.DataFrame \u003d [reviewerName: string, summary: string ... 6 more fields]\n+------------------------------------------------+----------------------------------------------------------------------------------+-------+-------+----------+------------------+-------------------+----------+\n|reviewerName                                    |summary                                                                           |overall|upVotes|totalVotes|score             |predScore          |prediction|\n+------------------------------------------------+----------------------------------------------------------------------------------+-------+-------+----------+------------------+-------------------+----------+\n|Kathi Miller \"Kisserman\"                        |Not What Product Says It Is                                                       |1.0    |1      |5         |0.2               |0.3871554213979264 |0.0       |\n|Flaherty                                        |Not for the Ipad!                                                                 |2.0    |1      |5         |0.2               |0.42940009565183973|0.0       |\n|IAMSLICK                                        |This is not for iPad                                                              |1.0    |2      |5         |0.4               |0.4260055004637862 |0.0       |\n|N. Krumpe                                       |Perfect for the Kindle Fire!                                                      |5.0    |3      |5         |0.6               |0.4491742819632924 |0.0       |\n|Method2Madness \u0026#34;Alex\u0026#34;                   |Not for iPad (Amazon has since changed the title). But a good sleeve, nonetheless.|4.0    |3      |5         |0.6               |0.5832009539322802 |1.0       |\n|\u0026#131;\u0026#367;\u0026#142;\u0026#378;\u0026#376; \u0026#969;\u0026#364;\u0026#...|This will NOT fit an iPad, but it will fit a Galaxy Tab or Kindle quite nicely.   |5.0    |9      |11        |0.8181818181818182|0.780144265411821  |1.0       |\n|Matt David                                      |Nexus 7 (2013) owners - Go with Case Logic LAPST-107                              |3.0    |9      |10        |0.9               |0.6324733485316659 |1.0       |\n+------------------------------------------------+----------------------------------------------------------------------------------+-------+-------+----------+------------------+-------------------+----------+\n\n"
      },
      "dateCreated": "Jan 8, 2018 7:59:55 PM",
      "dateStarted": "Jan 8, 2018 8:11:46 PM",
      "dateFinished": "Jan 8, 2018 8:11:51 PM",
      "status": "FINISHED",
      "progressUpdateIntervalMs": 500
    },
    {
      "text": "var testAsin \u003d sqlContext.sql(\"select reviewerName,summary,overall,upVotes,totalVotes,score,predScore,prediction from pred where asin \u003d \u0027B00858I51U\u0027 order by score asc\")\ntestAsin.show(false)",
      "user": "davidgillen@precocityllc.com",
      "dateUpdated": "Jan 8, 2018 4:17:09 PM",
      "config": {
        "colWidth": 12.0,
        "graph": {
          "mode": "table",
          "height": 300.0,
          "optionOpen": false,
          "keys": [],
          "values": [],
          "groups": [],
          "scatter": {}
        },
        "enabled": true,
        "editorMode": "ace/mode/scala"
      },
      "settings": {
        "params": {},
        "forms": {}
      },
      "paragraphProgress": {
        "jobs": [
          {
            "id": 1585,
            "jobUrl": "https://azure.qubole.com/cluster-proxy?encodedUrl\u003dhttp%3A%2F%2F10.0.0.4%3A8088%2Fproxy%2Fapplication_1515416833021_0001/jobs/job?spark\u003dtrue\u0026id\u003d1585",
            "numTasks": 20,
            "numCompletedTasks": 20,
            "stages": [
              {
                "id": 3086,
                "completed": true,
                "stageUrl": "https://azure.qubole.com/cluster-proxy?encodedUrl\u003dhttp%3A%2F%2F10.0.0.4%3A8088%2Fproxy%2Fapplication_1515416833021_0001/stages/stage/?id\u003d3086\u0026attempt\u003d0",
                "numCompleteTasks": 20,
                "numActiveTasks": 0,
                "numFailedTasks": 0,
                "numTotalTasks": 20
              }
            ],
            "status": "Success"
          }
        ],
        "numCompletedTasks": 20,
        "numTasks": 20,
        "truncated": false
      },
      "jobName": "paragraph_1515419496326_800839861",
      "id": "20180108-135136_93312228_q_8YVGJMASEQ1515692831",
      "result": {
        "code": "SUCCESS",
        "type": "TEXT",
        "msg": "\ntestAsin: org.apache.spark.sql.DataFrame \u003d [reviewerName: string, summary: string ... 6 more fields]\n+-----------------------------------------------+-----------------------------------------------------------------+-------+-------+----------+------------------+-------------------+----------+\n|reviewerName                                   |summary                                                          |overall|upVotes|totalVotes|score             |predScore          |prediction|\n+-----------------------------------------------+-----------------------------------------------------------------+-------+-------+----------+------------------+-------------------+----------+\n|Elle  Pece                                     |Just Ok                                                          |3.0    |0      |6         |0.0               |0.4449322046769227 |0.0       |\n|Paul M. Provencher \"ppro\"                      |Great Over-ear Entertainment                                     |5.0    |0      |6         |0.0               |0.5556029540618793 |1.0       |\n|I\u0027m hungry. feed me                            |decent, not great                                                |3.0    |0      |5         |0.0               |0.4340316269854786 |0.0       |\n|Jessica Weissman \"poet and computer programmer\"|Big and boomy and complicated to use, but comfortable            |3.0    |1      |5         |0.2               |0.43013036903638546|0.0       |\n|C                                              |Perfect bass-heavy multipurpose headphones for your teen.        |3.0    |2      |5         |0.4               |0.3936495659994167 |0.0       |\n|CrimsonGirl \"homeschooling mom\"                |Batteries Seem to Wear Down A Bit Quickly But Otherwise Excellent|4.0    |3      |6         |0.5               |0.4754718274298355 |0.0       |\n|nguyen tran                                    |The headphones that rock your soul                               |5.0    |5      |9         |0.5555555555555556|0.46233808744355537|0.0       |\n|David Enzel                                    |Controls Overly Complicated and Sound Has Too Much Bass          |2.0    |7      |9         |0.7777777777777778|0.5253046948312948 |1.0       |\n|Dan Leithauser                                 |Premium headphone with a built in amp                            |4.0    |17     |21        |0.8095238095238095|0.7248657038547708 |1.0       |\n+-----------------------------------------------+-----------------------------------------------------------------+-------+-------+----------+------------------+-------------------+----------+\n\n"
      },
      "dateCreated": "Jan 8, 2018 1:51:36 PM",
      "dateStarted": "Jan 8, 2018 4:17:09 PM",
      "dateFinished": "Jan 8, 2018 4:17:16 PM",
      "status": "FINISHED",
      "progressUpdateIntervalMs": 500
    },
    {
      "text": "%spark.pyspark\nfrom pyspark.ml.feature import HashingTF, IDF, Tokenizer\nfrom pyspark.ml.feature import CountVectorizer\nfrom pyspark.ml import Pipeline\nimport pandas as pd\n\nptf \u003d sqlContext.sql(\"select * from pred\")\ncountTF \u003d CountVectorizer(minTF\u003d1.0, minDF\u003d1.0, vocabSize\u003d1000000, \n                                  inputCol\u003d\u0027stopWordsOutput\u0027, outputCol\u003d\u0027countFeatures\u0027)\ncountModel \u003d countTF.fit(ptf)\nfeaturizedData \u003d countModel.transform(ptf)\nprint \"VocabSize \u003d %d\" % len(countModel.vocabulary)\nidf \u003d IDF(inputCol\u003d\"countFeatures\", outputCol\u003d\"idfFeatures\")\nidfModel \u003d idf.fit(featurizedData)\nrescaledData \u003d idfModel.transform(featurizedData)\nidfArrays \u003d rescaledData.rdd.map(lambda x : x.idfFeatures.toArray())\nidfArrays.take(1)",
      "user": "davidgillen@precocityllc.com",
      "dateUpdated": "Jan 8, 2018 5:07:00 PM",
      "config": {
        "colWidth": 12.0,
        "graph": {
          "mode": "table",
          "height": 300.0,
          "optionOpen": false,
          "keys": [],
          "values": [],
          "groups": [],
          "scatter": {}
        },
        "enabled": true,
        "editorMode": "ace/mode/scala"
      },
      "settings": {
        "params": {},
        "forms": {}
      },
      "paragraphProgress": {
        "jobs": [
          {
            "id": 1588,
            "jobUrl": "https://azure.qubole.com/cluster-proxy?encodedUrl\u003dhttp%3A%2F%2F10.0.0.4%3A8088%2Fproxy%2Fapplication_1515416833021_0001/jobs/job?spark\u003dtrue\u0026id\u003d1588",
            "numTasks": 40,
            "numCompletedTasks": 40,
            "stages": [
              {
                "id": 3091,
                "completed": true,
                "stageUrl": "https://azure.qubole.com/cluster-proxy?encodedUrl\u003dhttp%3A%2F%2F10.0.0.4%3A8088%2Fproxy%2Fapplication_1515416833021_0001/stages/stage/?id\u003d3091\u0026attempt\u003d0",
                "numCompleteTasks": 20,
                "numActiveTasks": 0,
                "numFailedTasks": 0,
                "numTotalTasks": 20
              },
              {
                "id": 3092,
                "completed": true,
                "stageUrl": "https://azure.qubole.com/cluster-proxy?encodedUrl\u003dhttp%3A%2F%2F10.0.0.4%3A8088%2Fproxy%2Fapplication_1515416833021_0001/stages/stage/?id\u003d3092\u0026attempt\u003d0",
                "numCompleteTasks": 20,
                "numActiveTasks": 0,
                "numFailedTasks": 0,
                "numTotalTasks": 20
              }
            ],
            "status": "Success"
          },
          {
            "id": 1589,
            "jobUrl": "https://azure.qubole.com/cluster-proxy?encodedUrl\u003dhttp%3A%2F%2F10.0.0.4%3A8088%2Fproxy%2Fapplication_1515416833021_0001/jobs/job?spark\u003dtrue\u0026id\u003d1589",
            "numTasks": 40,
            "numCompletedTasks": 20,
            "stages": [
              {
                "id": 3093,
                "completed": true,
                "stageUrl": "https://azure.qubole.com/cluster-proxy?encodedUrl\u003dhttp%3A%2F%2F10.0.0.4%3A8088%2Fproxy%2Fapplication_1515416833021_0001/stages/stage/?id\u003d3093\u0026attempt\u003d0",
                "numCompleteTasks": 0,
                "numActiveTasks": 0,
                "numFailedTasks": 0,
                "numTotalTasks": 0
              },
              {
                "id": 3094,
                "completed": true,
                "stageUrl": "https://azure.qubole.com/cluster-proxy?encodedUrl\u003dhttp%3A%2F%2F10.0.0.4%3A8088%2Fproxy%2Fapplication_1515416833021_0001/stages/stage/?id\u003d3094\u0026attempt\u003d0",
                "numCompleteTasks": 20,
                "numActiveTasks": 0,
                "numFailedTasks": 0,
                "numTotalTasks": 20
              }
            ],
            "status": "Success"
          },
          {
            "id": 1590,
            "jobUrl": "https://azure.qubole.com/cluster-proxy?encodedUrl\u003dhttp%3A%2F%2F10.0.0.4%3A8088%2Fproxy%2Fapplication_1515416833021_0001/jobs/job?spark\u003dtrue\u0026id\u003d1590",
            "numTasks": 24,
            "numCompletedTasks": 24,
            "stages": [
              {
                "id": 3095,
                "completed": true,
                "stageUrl": "https://azure.qubole.com/cluster-proxy?encodedUrl\u003dhttp%3A%2F%2F10.0.0.4%3A8088%2Fproxy%2Fapplication_1515416833021_0001/stages/stage/?id\u003d3095\u0026attempt\u003d0",
                "numCompleteTasks": 20,
                "numActiveTasks": 0,
                "numFailedTasks": 0,
                "numTotalTasks": 20
              },
              {
                "id": 3096,
                "completed": true,
                "stageUrl": "https://azure.qubole.com/cluster-proxy?encodedUrl\u003dhttp%3A%2F%2F10.0.0.4%3A8088%2Fproxy%2Fapplication_1515416833021_0001/stages/stage/?id\u003d3096\u0026attempt\u003d0",
                "numCompleteTasks": 4,
                "numActiveTasks": 0,
                "numFailedTasks": 0,
                "numTotalTasks": 4
              }
            ],
            "status": "Success"
          },
          {
            "id": 1591,
            "jobUrl": "https://azure.qubole.com/cluster-proxy?encodedUrl\u003dhttp%3A%2F%2F10.0.0.4%3A8088%2Fproxy%2Fapplication_1515416833021_0001/jobs/job?spark\u003dtrue\u0026id\u003d1591",
            "numTasks": 1,
            "numCompletedTasks": 1,
            "stages": [
              {
                "id": 3097,
                "completed": true,
                "stageUrl": "https://azure.qubole.com/cluster-proxy?encodedUrl\u003dhttp%3A%2F%2F10.0.0.4%3A8088%2Fproxy%2Fapplication_1515416833021_0001/stages/stage/?id\u003d3097\u0026attempt\u003d0",
                "numCompleteTasks": 1,
                "numActiveTasks": 0,
                "numFailedTasks": 0,
                "numTotalTasks": 1
              }
            ],
            "status": "Success"
          }
        ],
        "numCompletedTasks": 85,
        "numTasks": 105,
        "truncated": false
      },
      "jobName": "paragraph_1515431077553_-336332942",
      "id": "20180108-170437_1728932957_q_8YVGJMASEQ1515692831",
      "result": {
        "code": "SUCCESS",
        "type": "TEXT",
        "msg": "VocabSize \u003d 257843\n[array([ 0.,  0.,  0., ...,  0.,  0.,  0.])]\n"
      },
      "dateCreated": "Jan 8, 2018 5:04:37 PM",
      "dateStarted": "Jan 8, 2018 5:07:00 PM",
      "dateFinished": "Jan 8, 2018 5:07:29 PM",
      "status": "FINISHED",
      "progressUpdateIntervalMs": 500
    },
    {
      "text": "%spark.pyspark\nsampledIDF \u003d rescaledData.sample(False,.01,11L)\nsampledIDF.count()",
      "user": "davidgillen@precocityllc.com",
      "dateUpdated": "Jan 8, 2018 7:11:29 PM",
      "config": {
        "colWidth": 12.0,
        "graph": {
          "mode": "table",
          "height": 300.0,
          "optionOpen": false,
          "keys": [],
          "values": [],
          "groups": [],
          "scatter": {}
        },
        "enabled": true,
        "editorMode": "ace/mode/scala"
      },
      "settings": {
        "params": {},
        "forms": {}
      },
      "paragraphProgress": {
        "jobs": [
          {
            "id": 1597,
            "jobUrl": "https://azure.qubole.com/cluster-proxy?encodedUrl\u003dhttp%3A%2F%2F10.0.0.4%3A8088%2Fproxy%2Fapplication_1515416833021_0001/jobs/job?spark\u003dtrue\u0026id\u003d1597",
            "numTasks": 21,
            "numCompletedTasks": 21,
            "stages": [
              {
                "id": 3104,
                "completed": true,
                "stageUrl": "https://azure.qubole.com/cluster-proxy?encodedUrl\u003dhttp%3A%2F%2F10.0.0.4%3A8088%2Fproxy%2Fapplication_1515416833021_0001/stages/stage/?id\u003d3104\u0026attempt\u003d0",
                "numCompleteTasks": 20,
                "numActiveTasks": 0,
                "numFailedTasks": 0,
                "numTotalTasks": 20
              },
              {
                "id": 3105,
                "completed": true,
                "stageUrl": "https://azure.qubole.com/cluster-proxy?encodedUrl\u003dhttp%3A%2F%2F10.0.0.4%3A8088%2Fproxy%2Fapplication_1515416833021_0001/stages/stage/?id\u003d3105\u0026attempt\u003d0",
                "numCompleteTasks": 1,
                "numActiveTasks": 0,
                "numFailedTasks": 0,
                "numTotalTasks": 1
              }
            ],
            "status": "Success"
          }
        ],
        "numCompletedTasks": 21,
        "numTasks": 21,
        "truncated": false
      },
      "jobName": "paragraph_1515438539963_-295040351",
      "id": "20180108-190859_1656272984_q_8YVGJMASEQ1515692831",
      "result": {
        "code": "SUCCESS",
        "type": "TEXT",
        "msg": "2128\n"
      },
      "dateCreated": "Jan 8, 2018 7:08:59 PM",
      "dateStarted": "Jan 8, 2018 7:11:29 PM",
      "dateFinished": "Jan 8, 2018 7:11:34 PM",
      "status": "FINISHED",
      "progressUpdateIntervalMs": 500
    },
    {
      "text": "%spark.pyspark\ndef rddTranspose(rdd):\n    rddT1 \u003d rdd.zipWithIndex().flatMap(lambda (x,i): [(i,j,e) for (j,e) in enumerate(x)])\n    rddT2 \u003d rddT1.map(lambda (i,j,e): (j, (i,e))).groupByKey().sortByKey()\n    rddT3 \u003d rddT2.map(lambda (i, x): sorted(list(x), cmp\u003dlambda (i1,e1),(i2,e2) : cmp(i1, i2)))\n    rddT4 \u003d rddT3.map(lambda x: map(lambda (i, y): y , x))\n    return rddT4.map(lambda x: np.asarray(x))",
      "user": "davidgillen@precocityllc.com",
      "dateUpdated": "Jan 8, 2018 5:11:52 PM",
      "config": {
        "colWidth": 12.0,
        "graph": {
          "mode": "table",
          "height": 300.0,
          "optionOpen": false,
          "keys": [],
          "values": [],
          "groups": [],
          "scatter": {}
        },
        "enabled": true,
        "editorMode": "ace/mode/scala"
      },
      "settings": {
        "params": {},
        "forms": {}
      },
      "paragraphProgress": {
        "jobs": [],
        "numCompletedTasks": 0,
        "numTasks": 0,
        "truncated": false
      },
      "jobName": "paragraph_1515431474745_-1276736995",
      "id": "20180108-171114_1223106526_q_8YVGJMASEQ1515692831",
      "result": {
        "code": "SUCCESS",
        "type": "TEXT",
        "msg": ""
      },
      "dateCreated": "Jan 8, 2018 5:11:14 PM",
      "dateStarted": "Jan 8, 2018 5:11:52 PM",
      "dateFinished": "Jan 8, 2018 5:11:52 PM",
      "status": "FINISHED",
      "progressUpdateIntervalMs": 500
    },
    {
      "text": "%spark.pyspark\nres \u003d idfArrays.flatMap(lambda line : line.zipWithIndex.map(lambda tuple : tuple.swap))\nres.take(2)",
      "user": "davidgillen@precocityllc.com",
      "dateUpdated": "Jan 8, 2018 7:17:46 PM",
      "config": {
        "colWidth": 12.0,
        "graph": {
          "mode": "table",
          "height": 300.0,
          "optionOpen": false,
          "keys": [],
          "values": [],
          "groups": [],
          "scatter": {}
        },
        "enabled": true,
        "editorMode": "ace/mode/scala"
      },
      "settings": {
        "params": {},
        "forms": {}
      },
      "paragraphProgress": {
        "jobs": [
          {
            "id": 1598,
            "jobUrl": "https://azure.qubole.com/cluster-proxy?encodedUrl\u003dhttp%3A%2F%2F10.0.0.4%3A8088%2Fproxy%2Fapplication_1515416833021_0001/jobs/job?spark\u003dtrue\u0026id\u003d1598",
            "numTasks": 1,
            "numCompletedTasks": 0,
            "stages": [
              {
                "id": 3106,
                "completed": false,
                "stageUrl": "https://azure.qubole.com/cluster-proxy?encodedUrl\u003dhttp%3A%2F%2F10.0.0.4%3A8088%2Fproxy%2Fapplication_1515416833021_0001/stages/stage/?id\u003d3106\u0026attempt\u003d0",
                "numCompleteTasks": 0,
                "numActiveTasks": 0,
                "numFailedTasks": 4,
                "numTotalTasks": 4
              }
            ],
            "status": "Failed"
          }
        ],
        "numCompletedTasks": 0,
        "numTasks": 1,
        "truncated": false
      },
      "jobName": "paragraph_1515431518496_397766839",
      "id": "20180108-171158_1656807604_q_8YVGJMASEQ1515692831",
      "result": {
        "code": "ERROR",
        "type": "TEXT",
        "msg": "Traceback (most recent call last):\n  File \"/tmp/zeppelin_pyspark-6406045840101156235.py\", line 299, in \u003cmodule\u003e\n    raise Exception(traceback.format_exc())\nException: Traceback (most recent call last):\n  File \"/tmp/zeppelin_pyspark-6406045840101156235.py\", line 297, in \u003cmodule\u003e\n    exec(code)\n  File \"\u003cstdin\u003e\", line 2, in \u003cmodule\u003e\n  File \"/usr/lib/spark/python/pyspark/rdd.py\", line 1343, in take\n    res \u003d self.context.runJob(self, takeUpToNumLeft, p)\n  File \"/usr/lib/spark/python/pyspark/context.py\", line 965, in runJob\n    port \u003d self._jvm.PythonRDD.runJob(self._jsc.sc(), mappedRDD._jrdd, partitions)\n  File \"/usr/lib/spark/python/lib/py4j-0.10.4-src.zip/py4j/java_gateway.py\", line 1133, in __call__\n    answer, self.gateway_client, self.target_id, self.name)\n  File \"/usr/lib/spark/python/pyspark/sql/utils.py\", line 63, in deco\n    return f(*a, **kw)\n  File \"/usr/lib/spark/python/lib/py4j-0.10.4-src.zip/py4j/protocol.py\", line 319, in get_return_value\n    format(target_id, \".\", name), value)\nPy4JJavaError: An error occurred while calling z:org.apache.spark.api.python.PythonRDD.runJob.\n: org.apache.spark.SparkException: Job aborted due to stage failure: Task 0 in stage 3106.0 failed 4 times, most recent failure: Lost task 0.3 in stage 3106.0 (TID 39134, 10.0.0.8, executor 19): org.apache.spark.api.python.PythonException: Traceback (most recent call last):\n  File \"/usr/lib/spark/python/pyspark/worker.py\", line 174, in main\n    process()\n  File \"/usr/lib/spark/python/pyspark/worker.py\", line 169, in process\n    serializer.dump_stream(func(split_index, iterator), outfile)\n  File \"/usr/lib/spark/python/pyspark/serializers.py\", line 268, in dump_stream\n    vs \u003d list(itertools.islice(iterator, batch))\n  File \"/usr/lib/spark/python/pyspark/rdd.py\", line 1339, in takeUpToNumLeft\n    yield next(iterator)\n  File \"\u003cstdin\u003e\", line 1, in \u003clambda\u003e\nAttributeError: \u0027numpy.ndarray\u0027 object has no attribute \u0027zipWithIndex\u0027\n\n\tat org.apache.spark.api.python.PythonRunner$$anon$1.read(PythonRDD.scala:193)\n\tat org.apache.spark.api.python.PythonRunner$$anon$1.\u003cinit\u003e(PythonRDD.scala:234)\n\tat org.apache.spark.api.python.PythonRunner.compute(PythonRDD.scala:152)\n\tat org.apache.spark.api.python.PythonRDD.compute(PythonRDD.scala:63)\n\tat org.apache.spark.rdd.RDD.computeOrReadCheckpoint(RDD.scala:323)\n\tat org.apache.spark.rdd.RDD.iterator(RDD.scala:287)\n\tat org.apache.spark.scheduler.ResultTask.runTask(ResultTask.scala:87)\n\tat org.apache.spark.scheduler.Task.run(Task.scala:99)\n\tat org.apache.spark.executor.Executor$TaskRunner.run(Executor.scala:282)\n\tat java.util.concurrent.ThreadPoolExecutor.runWorker(ThreadPoolExecutor.java:1142)\n\tat java.util.concurrent.ThreadPoolExecutor$Worker.run(ThreadPoolExecutor.java:617)\n\tat java.lang.Thread.run(Thread.java:745)\n\nDriver stacktrace:\n\tat org.apache.spark.scheduler.DAGScheduler.org$apache$spark$scheduler$DAGScheduler$$failJobAndIndependentStages(DAGScheduler.scala:1461)\n\tat org.apache.spark.scheduler.DAGScheduler$$anonfun$abortStage$1.apply(DAGScheduler.scala:1449)\n\tat org.apache.spark.scheduler.DAGScheduler$$anonfun$abortStage$1.apply(DAGScheduler.scala:1448)\n\tat scala.collection.mutable.ResizableArray$class.foreach(ResizableArray.scala:59)\n\tat scala.collection.mutable.ArrayBuffer.foreach(ArrayBuffer.scala:48)\n\tat org.apache.spark.scheduler.DAGScheduler.abortStage(DAGScheduler.scala:1448)\n\tat org.apache.spark.scheduler.DAGScheduler$$anonfun$handleTaskSetFailed$1.apply(DAGScheduler.scala:828)\n\tat org.apache.spark.scheduler.DAGScheduler$$anonfun$handleTaskSetFailed$1.apply(DAGScheduler.scala:828)\n\tat scala.Option.foreach(Option.scala:257)\n\tat org.apache.spark.scheduler.DAGScheduler.handleTaskSetFailed(DAGScheduler.scala:828)\n\tat org.apache.spark.scheduler.DAGSchedulerEventProcessLoop.doOnReceive(DAGScheduler.scala:1676)\n\tat org.apache.spark.scheduler.DAGSchedulerEventProcessLoop.onReceive(DAGScheduler.scala:1631)\n\tat org.apache.spark.scheduler.DAGSchedulerEventProcessLoop.onReceive(DAGScheduler.scala:1620)\n\tat org.apache.spark.util.EventLoop$$anon$1.run(EventLoop.scala:48)\n\tat org.apache.spark.scheduler.DAGScheduler.runJob(DAGScheduler.scala:633)\n\tat org.apache.spark.SparkContext.runJob(SparkContext.scala:2144)\n\tat org.apache.spark.SparkContext.runJob(SparkContext.scala:2157)\n\tat org.apache.spark.SparkContext.runJob(SparkContext.scala:2170)\n\tat org.apache.spark.api.python.PythonRDD$.runJob(PythonRDD.scala:441)\n\tat org.apache.spark.api.python.PythonRDD.runJob(PythonRDD.scala)\n\tat sun.reflect.NativeMethodAccessorImpl.invoke0(Native Method)\n\tat sun.reflect.NativeMethodAccessorImpl.invoke(NativeMethodAccessorImpl.java:62)\n\tat sun.reflect.DelegatingMethodAccessorImpl.invoke(DelegatingMethodAccessorImpl.java:43)\n\tat java.lang.reflect.Method.invoke(Method.java:497)\n\tat py4j.reflection.MethodInvoker.invoke(MethodInvoker.java:244)\n\tat py4j.reflection.ReflectionEngine.invoke(ReflectionEngine.java:357)\n\tat py4j.Gateway.invoke(Gateway.java:280)\n\tat py4j.commands.AbstractCommand.invokeMethod(AbstractCommand.java:132)\n\tat py4j.commands.CallCommand.execute(CallCommand.java:79)\n\tat py4j.GatewayConnection.run(GatewayConnection.java:214)\n\tat java.lang.Thread.run(Thread.java:745)\nCaused by: org.apache.spark.api.python.PythonException: Traceback (most recent call last):\n  File \"/usr/lib/spark/python/pyspark/worker.py\", line 174, in main\n    process()\n  File \"/usr/lib/spark/python/pyspark/worker.py\", line 169, in process\n    serializer.dump_stream(func(split_index, iterator), outfile)\n  File \"/usr/lib/spark/python/pyspark/serializers.py\", line 268, in dump_stream\n    vs \u003d list(itertools.islice(iterator, batch))\n  File \"/usr/lib/spark/python/pyspark/rdd.py\", line 1339, in takeUpToNumLeft\n    yield next(iterator)\n  File \"\u003cstdin\u003e\", line 1, in \u003clambda\u003e\nAttributeError: \u0027numpy.ndarray\u0027 object has no attribute \u0027zipWithIndex\u0027\n\n\tat org.apache.spark.api.python.PythonRunner$$anon$1.read(PythonRDD.scala:193)\n\tat org.apache.spark.api.python.PythonRunner$$anon$1.\u003cinit\u003e(PythonRDD.scala:234)\n\tat org.apache.spark.api.python.PythonRunner.compute(PythonRDD.scala:152)\n\tat org.apache.spark.api.python.PythonRDD.compute(PythonRDD.scala:63)\n\tat org.apache.spark.rdd.RDD.computeOrReadCheckpoint(RDD.scala:323)\n\tat org.apache.spark.rdd.RDD.iterator(RDD.scala:287)\n\tat org.apache.spark.scheduler.ResultTask.runTask(ResultTask.scala:87)\n\tat org.apache.spark.scheduler.Task.run(Task.scala:99)\n\tat org.apache.spark.executor.Executor$TaskRunner.run(Executor.scala:282)\n\tat java.util.concurrent.ThreadPoolExecutor.runWorker(ThreadPoolExecutor.java:1142)\n\tat java.util.concurrent.ThreadPoolExecutor$Worker.run(ThreadPoolExecutor.java:617)\n\t... 1 more\n\n\n"
      },
      "dateCreated": "Jan 8, 2018 5:11:58 PM",
      "dateStarted": "Jan 8, 2018 7:17:46 PM",
      "dateFinished": "Jan 8, 2018 7:17:48 PM",
      "status": "ERROR",
      "progressUpdateIntervalMs": 500
    },
    {
      "text": "%spark.pyspark\nrdd \u003d rescaledData.rdd.map(lambda x : x.idfFeatures.toArray\nres \u003d rdd.flatMap(lambda line : line.zipWithIndex.map(lambda tuple : tuple.swap))\nres.take(2)",
      "user": "davidgillen@precocityllc.com",
      "dateUpdated": "Jan 8, 2018 7:23:01 PM",
      "config": {
        "colWidth": 12.0,
        "graph": {
          "mode": "table",
          "height": 300.0,
          "optionOpen": false,
          "keys": [],
          "values": [],
          "groups": [],
          "scatter": {}
        },
        "enabled": true,
        "editorMode": "ace/mode/scala"
      },
      "settings": {
        "params": {},
        "forms": {}
      },
      "paragraphProgress": {
        "jobs": [
          {
            "id": 1601,
            "jobUrl": "https://azure.qubole.com/cluster-proxy?encodedUrl\u003dhttp%3A%2F%2F10.0.0.4%3A8088%2Fproxy%2Fapplication_1515416833021_0001/jobs/job?spark\u003dtrue\u0026id\u003d1601",
            "numTasks": 1,
            "numCompletedTasks": 0,
            "stages": [
              {
                "id": 3109,
                "completed": false,
                "stageUrl": "https://azure.qubole.com/cluster-proxy?encodedUrl\u003dhttp%3A%2F%2F10.0.0.4%3A8088%2Fproxy%2Fapplication_1515416833021_0001/stages/stage/?id\u003d3109\u0026attempt\u003d0",
                "numCompleteTasks": 0,
                "numActiveTasks": 0,
                "numFailedTasks": 4,
                "numTotalTasks": 4
              }
            ],
            "status": "Failed"
          }
        ],
        "numCompletedTasks": 0,
        "numTasks": 1,
        "truncated": false
      },
      "jobName": "paragraph_1515434642271_2132470458",
      "id": "20180108-180402_337838172_q_8YVGJMASEQ1515692831",
      "result": {
        "code": "ERROR",
        "type": "TEXT",
        "msg": "Traceback (most recent call last):\n  File \"/tmp/zeppelin_pyspark-6406045840101156235.py\", line 299, in \u003cmodule\u003e\n    raise Exception(traceback.format_exc())\nException: Traceback (most recent call last):\n  File \"/tmp/zeppelin_pyspark-6406045840101156235.py\", line 297, in \u003cmodule\u003e\n    exec(code)\n  File \"\u003cstdin\u003e\", line 3, in \u003cmodule\u003e\n  File \"/usr/lib/spark/python/pyspark/rdd.py\", line 1343, in take\n    res \u003d self.context.runJob(self, takeUpToNumLeft, p)\n  File \"/usr/lib/spark/python/pyspark/context.py\", line 965, in runJob\n    port \u003d self._jvm.PythonRDD.runJob(self._jsc.sc(), mappedRDD._jrdd, partitions)\n  File \"/usr/lib/spark/python/lib/py4j-0.10.4-src.zip/py4j/java_gateway.py\", line 1133, in __call__\n    answer, self.gateway_client, self.target_id, self.name)\n  File \"/usr/lib/spark/python/pyspark/sql/utils.py\", line 63, in deco\n    return f(*a, **kw)\n  File \"/usr/lib/spark/python/lib/py4j-0.10.4-src.zip/py4j/protocol.py\", line 319, in get_return_value\n    format(target_id, \".\", name), value)\nPy4JJavaError: An error occurred while calling z:org.apache.spark.api.python.PythonRDD.runJob.\n: org.apache.spark.SparkException: Job aborted due to stage failure: Task 0 in stage 3109.0 failed 4 times, most recent failure: Lost task 0.3 in stage 3109.0 (TID 39146, 10.0.0.6, executor 11): org.apache.spark.api.python.PythonException: Traceback (most recent call last):\n  File \"/usr/lib/spark/python/pyspark/worker.py\", line 174, in main\n    process()\n  File \"/usr/lib/spark/python/pyspark/worker.py\", line 169, in process\n    serializer.dump_stream(func(split_index, iterator), outfile)\n  File \"/usr/lib/spark/python/pyspark/serializers.py\", line 268, in dump_stream\n    vs \u003d list(itertools.islice(iterator, batch))\n  File \"/usr/lib/spark/python/pyspark/rdd.py\", line 1339, in takeUpToNumLeft\n    yield next(iterator)\n  File \"\u003cstdin\u003e\", line 1, in \u003clambda\u003e\nAttributeError: \u0027SparseVector\u0027 object has no attribute \u0027toList\u0027\n\n\tat org.apache.spark.api.python.PythonRunner$$anon$1.read(PythonRDD.scala:193)\n\tat org.apache.spark.api.python.PythonRunner$$anon$1.\u003cinit\u003e(PythonRDD.scala:234)\n\tat org.apache.spark.api.python.PythonRunner.compute(PythonRDD.scala:152)\n\tat org.apache.spark.api.python.PythonRDD.compute(PythonRDD.scala:63)\n\tat org.apache.spark.rdd.RDD.computeOrReadCheckpoint(RDD.scala:323)\n\tat org.apache.spark.rdd.RDD.iterator(RDD.scala:287)\n\tat org.apache.spark.scheduler.ResultTask.runTask(ResultTask.scala:87)\n\tat org.apache.spark.scheduler.Task.run(Task.scala:99)\n\tat org.apache.spark.executor.Executor$TaskRunner.run(Executor.scala:282)\n\tat java.util.concurrent.ThreadPoolExecutor.runWorker(ThreadPoolExecutor.java:1142)\n\tat java.util.concurrent.ThreadPoolExecutor$Worker.run(ThreadPoolExecutor.java:617)\n\tat java.lang.Thread.run(Thread.java:745)\n\nDriver stacktrace:\n\tat org.apache.spark.scheduler.DAGScheduler.org$apache$spark$scheduler$DAGScheduler$$failJobAndIndependentStages(DAGScheduler.scala:1461)\n\tat org.apache.spark.scheduler.DAGScheduler$$anonfun$abortStage$1.apply(DAGScheduler.scala:1449)\n\tat org.apache.spark.scheduler.DAGScheduler$$anonfun$abortStage$1.apply(DAGScheduler.scala:1448)\n\tat scala.collection.mutable.ResizableArray$class.foreach(ResizableArray.scala:59)\n\tat scala.collection.mutable.ArrayBuffer.foreach(ArrayBuffer.scala:48)\n\tat org.apache.spark.scheduler.DAGScheduler.abortStage(DAGScheduler.scala:1448)\n\tat org.apache.spark.scheduler.DAGScheduler$$anonfun$handleTaskSetFailed$1.apply(DAGScheduler.scala:828)\n\tat org.apache.spark.scheduler.DAGScheduler$$anonfun$handleTaskSetFailed$1.apply(DAGScheduler.scala:828)\n\tat scala.Option.foreach(Option.scala:257)\n\tat org.apache.spark.scheduler.DAGScheduler.handleTaskSetFailed(DAGScheduler.scala:828)\n\tat org.apache.spark.scheduler.DAGSchedulerEventProcessLoop.doOnReceive(DAGScheduler.scala:1676)\n\tat org.apache.spark.scheduler.DAGSchedulerEventProcessLoop.onReceive(DAGScheduler.scala:1631)\n\tat org.apache.spark.scheduler.DAGSchedulerEventProcessLoop.onReceive(DAGScheduler.scala:1620)\n\tat org.apache.spark.util.EventLoop$$anon$1.run(EventLoop.scala:48)\n\tat org.apache.spark.scheduler.DAGScheduler.runJob(DAGScheduler.scala:633)\n\tat org.apache.spark.SparkContext.runJob(SparkContext.scala:2144)\n\tat org.apache.spark.SparkContext.runJob(SparkContext.scala:2157)\n\tat org.apache.spark.SparkContext.runJob(SparkContext.scala:2170)\n\tat org.apache.spark.api.python.PythonRDD$.runJob(PythonRDD.scala:441)\n\tat org.apache.spark.api.python.PythonRDD.runJob(PythonRDD.scala)\n\tat sun.reflect.NativeMethodAccessorImpl.invoke0(Native Method)\n\tat sun.reflect.NativeMethodAccessorImpl.invoke(NativeMethodAccessorImpl.java:62)\n\tat sun.reflect.DelegatingMethodAccessorImpl.invoke(DelegatingMethodAccessorImpl.java:43)\n\tat java.lang.reflect.Method.invoke(Method.java:497)\n\tat py4j.reflection.MethodInvoker.invoke(MethodInvoker.java:244)\n\tat py4j.reflection.ReflectionEngine.invoke(ReflectionEngine.java:357)\n\tat py4j.Gateway.invoke(Gateway.java:280)\n\tat py4j.commands.AbstractCommand.invokeMethod(AbstractCommand.java:132)\n\tat py4j.commands.CallCommand.execute(CallCommand.java:79)\n\tat py4j.GatewayConnection.run(GatewayConnection.java:214)\n\tat java.lang.Thread.run(Thread.java:745)\nCaused by: org.apache.spark.api.python.PythonException: Traceback (most recent call last):\n  File \"/usr/lib/spark/python/pyspark/worker.py\", line 174, in main\n    process()\n  File \"/usr/lib/spark/python/pyspark/worker.py\", line 169, in process\n    serializer.dump_stream(func(split_index, iterator), outfile)\n  File \"/usr/lib/spark/python/pyspark/serializers.py\", line 268, in dump_stream\n    vs \u003d list(itertools.islice(iterator, batch))\n  File \"/usr/lib/spark/python/pyspark/rdd.py\", line 1339, in takeUpToNumLeft\n    yield next(iterator)\n  File \"\u003cstdin\u003e\", line 1, in \u003clambda\u003e\nAttributeError: \u0027SparseVector\u0027 object has no attribute \u0027toList\u0027\n\n\tat org.apache.spark.api.python.PythonRunner$$anon$1.read(PythonRDD.scala:193)\n\tat org.apache.spark.api.python.PythonRunner$$anon$1.\u003cinit\u003e(PythonRDD.scala:234)\n\tat org.apache.spark.api.python.PythonRunner.compute(PythonRDD.scala:152)\n\tat org.apache.spark.api.python.PythonRDD.compute(PythonRDD.scala:63)\n\tat org.apache.spark.rdd.RDD.computeOrReadCheckpoint(RDD.scala:323)\n\tat org.apache.spark.rdd.RDD.iterator(RDD.scala:287)\n\tat org.apache.spark.scheduler.ResultTask.runTask(ResultTask.scala:87)\n\tat org.apache.spark.scheduler.Task.run(Task.scala:99)\n\tat org.apache.spark.executor.Executor$TaskRunner.run(Executor.scala:282)\n\tat java.util.concurrent.ThreadPoolExecutor.runWorker(ThreadPoolExecutor.java:1142)\n\tat java.util.concurrent.ThreadPoolExecutor$Worker.run(ThreadPoolExecutor.java:617)\n\t... 1 more\n\n\n"
      },
      "dateCreated": "Jan 8, 2018 6:04:02 PM",
      "dateStarted": "Jan 8, 2018 7:21:50 PM",
      "dateFinished": "Jan 8, 2018 7:21:51 PM",
      "status": "ERROR",
      "progressUpdateIntervalMs": 500
    },
    {
      "text": "val rdd \u003d sc.parallelize(Seq(Seq(1, 2, 3), Seq(4, 5, 6), Seq(7, 8, 9)))\n// Split the matrix into one number per line.\nval byColumnAndRow \u003d rdd.zipWithIndex.flatMap {\n  case (row, rowIndex) \u003d\u003e row.zipWithIndex.map {\n    case (number, columnIndex) \u003d\u003e columnIndex -\u003e (rowIndex, number)\n  }\n}\n// Build up the transposed matrix. Group and sort by column index first.\nval byColumn \u003d byColumnAndRow.groupByKey.sortByKey().values\n// Then sort by row index.\nval transposed \u003d byColumn.map {\n  indexedRow \u003d\u003e indexedRow.toSeq.sortBy(_._1).map(_._2)\n}",
      "user": "davidgillen@precocityllc.com",
      "dateUpdated": "Jan 8, 2018 5:09:35 PM",
      "config": {
        "colWidth": 12.0,
        "graph": {
          "mode": "table",
          "height": 300.0,
          "optionOpen": false,
          "keys": [],
          "values": [],
          "groups": [],
          "scatter": {}
        },
        "enabled": true,
        "editorMode": "ace/mode/scala"
      },
      "settings": {
        "params": {},
        "forms": {}
      },
      "jobName": "paragraph_1515431363926_1251154700",
      "id": "20180108-170923_1926752500_q_8YVGJMASEQ1515692831",
      "dateCreated": "Jan 8, 2018 5:09:23 PM",
      "status": "READY",
      "progressUpdateIntervalMs": 500
    },
    {
      "text": "import org.apache.spark.ml.linalg._\nimport org.apache.spark.mllib.linalg.distributed._\nvar ptf \u003d sqlContext.sql(\"select * from reviews where score \u003e\u003d 0.8\")\nvar countTF \u003d new CountVectorizer().setMinTF(1.0).setVocabSize(1000000).setInputCol(\"uniAndBi\").setOutputCol(\"countFeatures\")\nvar countModel \u003d countTF.fit(ptf)\nvar featurizedData \u003d countModel.transform(ptf)\nvar idf \u003d new IDF().setInputCol(\"countFeatures\").setOutputCol(\"idfFeatures\")\nvar idfModel \u003d idf.fit(featurizedData)\nvar rescaledData \u003d idfModel.transform(featurizedData)\nvar rdd \u003d rescaledData.rdd.map(row \u003d\u003e org.apache.spark.mllib.linalg.Vectors.fromML(row.getAs[org.apache.spark.ml.linalg.SparseVector](\"idfFeatures\")))\nvar newRDD \u003d rdd.zipWithIndex()\nvar ir \u003d newRDD.map(x \u003d\u003e new IndexedRow(x._2,x._1))\nval mat: IndexedRowMatrix \u003d new IndexedRowMatrix(ir)\nvar corMat \u003d mat.toCoordinateMatrix()\nvar corMatT \u003d corMat.transpose()\n//println(\"mat.numCols() \u003d \" + mat.numCols())\n//println(\"mat.numRows() \u003d \" + mat.numRows())\nprintln(\"corMatT.numCols() \u003d \" + corMatT.numCols())\nprintln(\"corMatT.numRows() \u003d \" + corMatT.numRows())\nprintln(\"countModel.vocabulary.length \u003d \" + countModel.vocabulary.length)\nval rowSums \u003d corMatT.entries.map{case MatrixEntry(row, _, value) \u003d\u003e (row, value)}.reduceByKey(_ + _)\nvar rowMeans \u003d rowSums.map{case (index,sum) \u003d\u003e (index, sum / countModel.vocabulary.length)}\n//rowMeans.take(3)\nvar rowMeansDF \u003d rowMeans.toDF(\"wordIndex\",\"meanIDF\")\n//rowMeansDF.show()\nvar wordsRDD \u003d sc.parallelize(countModel.vocabulary)\nvar wordDF \u003d wordsRDD.zipWithIndex().toDF(\"word\",\"wordIndex\")\nrowMeansDF.join(wordDF,\"wordIndex\").sort($\"meanIDF\".desc).show()\n",
      "user": "davidgillen@precocityllc.com",
      "dateUpdated": "Jan 9, 2018 1:39:08 PM",
      "config": {
        "colWidth": 12.0,
        "graph": {
          "mode": "table",
          "height": 300.0,
          "optionOpen": false,
          "keys": [],
          "values": [],
          "groups": [],
          "scatter": {}
        },
        "enabled": true,
        "editorMode": "ace/mode/scala"
      },
      "settings": {
        "params": {},
        "forms": {}
      },
      "paragraphProgress": {
        "jobs": [],
        "numCompletedTasks": 0,
        "numTasks": 0,
        "truncated": false
      },
      "jobName": "paragraph_1515459405943_-1265296038",
      "id": "20180109-005645_533455047_q_8YVGJMASEQ1515692831",
      "result": {
        "code": "ERROR",
        "type": "TEXT",
        "msg": "\nimport org.apache.spark.ml.linalg._\n\nimport org.apache.spark.mllib.linalg.distributed._\n\nptf: org.apache.spark.sql.DataFrame \u003d [asin: string, helpful: array\u003cbigint\u003e ... 15 more fields]\n\ncountTF: org.apache.spark.ml.feature.CountVectorizer \u003d cntVec_40ff37ef30a0\n\n\n\n\n\n\n\n\n\n\n\n\n\njava.lang.IllegalArgumentException: Field \"uniAndBi\" does not exist.\n  at org.apache.spark.sql.types.StructType$$anonfun$apply$1.apply(StructType.scala:264)\n  at org.apache.spark.sql.types.StructType$$anonfun$apply$1.apply(StructType.scala:264)\n  at scala.collection.MapLike$class.getOrElse(MapLike.scala:128)\n  at scala.collection.AbstractMap.getOrElse(Map.scala:59)\n  at org.apache.spark.sql.types.StructType.apply(StructType.scala:263)\n  at org.apache.spark.ml.util.SchemaUtils$.checkColumnTypes(SchemaUtils.scala:56)\n  at org.apache.spark.ml.feature.CountVectorizerParams$class.validateAndTransformSchema(CountVectorizer.scala:75)\n  at org.apache.spark.ml.feature.CountVectorizer.validateAndTransformSchema(CountVectorizer.scala:123)\n  at org.apache.spark.ml.feature.CountVectorizer.transformSchema(CountVectorizer.scala:188)\n  at org.apache.spark.ml.PipelineStage.transformSchema(Pipeline.scala:74)\n  at org.apache.spark.ml.feature.CountVectorizer.fit(CountVectorizer.scala:155)\n  ... 60 elided\n"
      },
      "dateCreated": "Jan 9, 2018 12:56:45 AM",
      "dateStarted": "Jan 9, 2018 1:39:08 PM",
      "dateFinished": "Jan 9, 2018 1:39:09 PM",
      "status": "ERROR",
      "progressUpdateIntervalMs": 500
    },
    {
      "text": "var wordsRDD \u003d sc.parallelize(countModel.vocabulary)\nvar wordDF \u003d wordsRDD.zipWithIndex().toDF(\"word\",\"wordIndex\")\nwordDF.show()\n\n//pWordsSpark \u003d pWordsRDD.map(row).toDF()\n//pWordsSpark.show()",
      "user": "davidgillen@precocityllc.com",
      "dateUpdated": "Jan 9, 2018 3:36:46 AM",
      "config": {
        "colWidth": 12.0,
        "graph": {
          "mode": "table",
          "height": 300.0,
          "optionOpen": false,
          "keys": [],
          "values": [],
          "groups": [],
          "scatter": {}
        },
        "enabled": true,
        "editorMode": "ace/mode/scala"
      },
      "settings": {
        "params": {},
        "forms": {}
      },
      "paragraphProgress": {
        "jobs": [
          {
            "id": 1697,
            "jobUrl": "https://azure.qubole.com/cluster-proxy?encodedUrl\u003dhttp%3A%2F%2F10.0.0.4%3A8088%2Fproxy%2Fapplication_1515416833021_0001/jobs/job?spark\u003dtrue\u0026id\u003d1697",
            "numTasks": 19,
            "numCompletedTasks": 19,
            "stages": [
              {
                "id": 3251,
                "completed": true,
                "stageUrl": "https://azure.qubole.com/cluster-proxy?encodedUrl\u003dhttp%3A%2F%2F10.0.0.4%3A8088%2Fproxy%2Fapplication_1515416833021_0001/stages/stage/?id\u003d3251\u0026attempt\u003d0",
                "numCompleteTasks": 19,
                "numActiveTasks": 0,
                "numFailedTasks": 0,
                "numTotalTasks": 19
              }
            ],
            "status": "Success"
          },
          {
            "id": 1698,
            "jobUrl": "https://azure.qubole.com/cluster-proxy?encodedUrl\u003dhttp%3A%2F%2F10.0.0.4%3A8088%2Fproxy%2Fapplication_1515416833021_0001/jobs/job?spark\u003dtrue\u0026id\u003d1698",
            "numTasks": 1,
            "numCompletedTasks": 1,
            "stages": [
              {
                "id": 3252,
                "completed": true,
                "stageUrl": "https://azure.qubole.com/cluster-proxy?encodedUrl\u003dhttp%3A%2F%2F10.0.0.4%3A8088%2Fproxy%2Fapplication_1515416833021_0001/stages/stage/?id\u003d3252\u0026attempt\u003d0",
                "numCompleteTasks": 1,
                "numActiveTasks": 0,
                "numFailedTasks": 0,
                "numTotalTasks": 1
              }
            ],
            "status": "Success"
          }
        ],
        "numCompletedTasks": 20,
        "numTasks": 20,
        "truncated": false
      },
      "jobName": "paragraph_1515468840285_899750535",
      "id": "20180109-033400_1305154642_q_8YVGJMASEQ1515692831",
      "result": {
        "code": "SUCCESS",
        "type": "TEXT",
        "msg": "\nwordsRDD: org.apache.spark.rdd.RDD[String] \u003d ParallelCollectionRDD[7169] at parallelize at \u003cconsole\u003e:256\n\nwordDF: org.apache.spark.sql.DataFrame \u003d [word: string, wordIndex: bigint]\n+-------+---------+\n|   word|wordIndex|\n+-------+---------+\n|    one|        0|\n| camera|        1|\n|    use|        2|\n|   like|        3|\n|   good|        4|\n|  great|        5|\n|    get|        6|\n|  would|        7|\n|   also|        8|\n|   well|        9|\n|      2|       10|\n|quality|       11|\n|   time|       12|\n|      1|       13|\n|  sound|       14|\n|   even|       15|\n|   much|       16|\n|   lens|       17|\n| really|       18|\n| better|       19|\n+-------+---------+\nonly showing top 20 rows\n\n"
      },
      "dateCreated": "Jan 9, 2018 3:34:00 AM",
      "dateStarted": "Jan 9, 2018 3:36:46 AM",
      "dateFinished": "Jan 9, 2018 3:36:52 AM",
      "status": "FINISHED",
      "progressUpdateIntervalMs": 500
    },
    {
      "text": "rowMeansDF.join(wordDF,\"wordIndex\").sort($\"meanIDF\".desc).show()",
      "user": "davidgillen@precocityllc.com",
      "dateUpdated": "Jan 9, 2018 3:56:55 AM",
      "config": {
        "colWidth": 12.0,
        "graph": {
          "mode": "table",
          "height": 300.0,
          "optionOpen": false,
          "keys": [],
          "values": [],
          "groups": [],
          "scatter": {}
        },
        "enabled": true,
        "editorMode": "ace/mode/scala"
      },
      "settings": {
        "params": {},
        "forms": {}
      },
      "paragraphProgress": {
        "jobs": [
          {
            "id": 1708,
            "jobUrl": "https://azure.qubole.com/cluster-proxy?encodedUrl\u003dhttp%3A%2F%2F10.0.0.4%3A8088%2Fproxy%2Fapplication_1515416833021_0001/jobs/job?spark\u003dtrue\u0026id\u003d1708",
            "numTasks": 260,
            "numCompletedTasks": 240,
            "stages": [
              {
                "id": 3275,
                "completed": true,
                "stageUrl": "https://azure.qubole.com/cluster-proxy?encodedUrl\u003dhttp%3A%2F%2F10.0.0.4%3A8088%2Fproxy%2Fapplication_1515416833021_0001/stages/stage/?id\u003d3275\u0026attempt\u003d0",
                "numCompleteTasks": 200,
                "numActiveTasks": 0,
                "numFailedTasks": 0,
                "numTotalTasks": 200
              },
              {
                "id": 3272,
                "completed": true,
                "stageUrl": "https://azure.qubole.com/cluster-proxy?encodedUrl\u003dhttp%3A%2F%2F10.0.0.4%3A8088%2Fproxy%2Fapplication_1515416833021_0001/stages/stage/?id\u003d3272\u0026attempt\u003d0",
                "numCompleteTasks": 20,
                "numActiveTasks": 0,
                "numFailedTasks": 0,
                "numTotalTasks": 20
              },
              {
                "id": 3273,
                "completed": true,
                "stageUrl": "https://azure.qubole.com/cluster-proxy?encodedUrl\u003dhttp%3A%2F%2F10.0.0.4%3A8088%2Fproxy%2Fapplication_1515416833021_0001/stages/stage/?id\u003d3273\u0026attempt\u003d0",
                "numCompleteTasks": 0,
                "numActiveTasks": 0,
                "numFailedTasks": 0,
                "numTotalTasks": 0
              },
              {
                "id": 3274,
                "completed": true,
                "stageUrl": "https://azure.qubole.com/cluster-proxy?encodedUrl\u003dhttp%3A%2F%2F10.0.0.4%3A8088%2Fproxy%2Fapplication_1515416833021_0001/stages/stage/?id\u003d3274\u0026attempt\u003d0",
                "numCompleteTasks": 20,
                "numActiveTasks": 0,
                "numFailedTasks": 0,
                "numTotalTasks": 20
              }
            ],
            "status": "Success"
          }
        ],
        "numCompletedTasks": 240,
        "numTasks": 260,
        "truncated": false
      },
      "jobName": "paragraph_1515469014165_-997401963",
      "id": "20180109-033654_158461958_q_8YVGJMASEQ1515692831",
      "result": {
        "code": "SUCCESS",
        "type": "TEXT",
        "msg": "+---------+-------------------+-------+\n|wordIndex|            meanIDF|   word|\n+---------+-------------------+-------+\n|        1| 1.0153228566436887| camera|\n|       17|  0.747722569699424|   lens|\n|       23| 0.6368335839328759|     tv|\n|       14| 0.5709364331788565|  sound|\n|       39| 0.5352429919317704|  drive|\n|       22|   0.50259587363992| screen|\n|        0|0.48941980512689154|    one|\n|       36|0.48625719516612326|   unit|\n|       25| 0.4853858704865715|   case|\n|       10|0.48530226390014286|      2|\n|       30|0.48444058840410814|  video|\n|       13|0.48432627307706366|      1|\n|        2|0.48420893039178253|    use|\n|        3|0.47679226521882456|   like|\n|       31| 0.4705236014230895|battery|\n|        4|0.45939890004750883|   good|\n|       11| 0.4591824522038419|quality|\n|        6| 0.4525098743987286|    get|\n|       41|0.45012779857158225|    usb|\n|        7|0.44655040351669933|  would|\n+---------+-------------------+-------+\nonly showing top 20 rows\n\n"
      },
      "dateCreated": "Jan 9, 2018 3:36:54 AM",
      "dateStarted": "Jan 9, 2018 3:56:55 AM",
      "dateFinished": "Jan 9, 2018 3:57:07 AM",
      "status": "FINISHED",
      "progressUpdateIntervalMs": 500
    },
    {
      "text": "import org.apache.spark.ml.linalg._\nimport org.apache.spark.mllib.linalg.distributed._\nvar rdd \u003d featurizedData.rdd.map(row \u003d\u003e org.apache.spark.mllib.linalg.Vectors.fromML(row.getAs[org.apache.spark.ml.linalg.SparseVector](\"countFeatures\")))\nvar newRDD \u003d rdd.zipWithIndex()\n\n//var rdd \u003d featurizedData.rdd.map(row \u003d\u003e row.getAs(\"countFeatures\").asInstanceOf[org.apache.spark.ml.linalg.SparseVector])\n//val mat: IndexedRowMatrix \u003d new IndexedRowMatrix(rdd)\n//mat.numCols()\n",
      "user": "davidgillen@precocityllc.com",
      "dateUpdated": "Jan 9, 2018 2:37:52 AM",
      "config": {
        "colWidth": 12.0,
        "graph": {
          "mode": "table",
          "height": 300.0,
          "optionOpen": false,
          "keys": [],
          "values": [],
          "groups": [],
          "scatter": {}
        },
        "enabled": true,
        "editorMode": "ace/mode/scala"
      },
      "settings": {
        "params": {},
        "forms": {}
      },
      "paragraphProgress": {
        "jobs": [
          {
            "id": 1677,
            "jobUrl": "https://azure.qubole.com/cluster-proxy?encodedUrl\u003dhttp%3A%2F%2F10.0.0.4%3A8088%2Fproxy%2Fapplication_1515416833021_0001/jobs/job?spark\u003dtrue\u0026id\u003d1677",
            "numTasks": 19,
            "numCompletedTasks": 19,
            "stages": [
              {
                "id": 3222,
                "completed": true,
                "stageUrl": "https://azure.qubole.com/cluster-proxy?encodedUrl\u003dhttp%3A%2F%2F10.0.0.4%3A8088%2Fproxy%2Fapplication_1515416833021_0001/stages/stage/?id\u003d3222\u0026attempt\u003d0",
                "numCompleteTasks": 19,
                "numActiveTasks": 0,
                "numFailedTasks": 0,
                "numTotalTasks": 19
              }
            ],
            "status": "Success"
          }
        ],
        "numCompletedTasks": 19,
        "numTasks": 19,
        "truncated": false
      },
      "jobName": "paragraph_1515459701333_1046304358",
      "id": "20180109-010141_37082494_q_8YVGJMASEQ1515692831",
      "result": {
        "code": "ERROR",
        "type": "TEXT",
        "msg": "\nimport org.apache.spark.ml.linalg._\n\nimport org.apache.spark.mllib.linalg.distributed._\n\nrdd: org.apache.spark.rdd.RDD[org.apache.spark.mllib.linalg.Vector] \u003d MapPartitionsRDD[7087] at map at \u003cconsole\u003e:256\n\nnewRDD: org.apache.spark.rdd.RDD[(org.apache.spark.mllib.linalg.Vector, Long)] \u003d ZippedWithIndexRDD[7088] at zipWithIndex at \u003cconsole\u003e:258\n\n\n\n\n\n\u003cconsole\u003e:260: error: type mismatch;\n found   : org.apache.spark.mllib.linalg.Vector\n required: Long\n       var ir \u003d newRDD.map(x \u003d\u003e new IndexedRow(x._1,x._2))\n                                                 ^\n\n\n\n\n\n\u003cconsole\u003e:260: error: type mismatch;\n found   : Long\n required: org.apache.spark.mllib.linalg.Vector\n       var ir \u003d newRDD.map(x \u003d\u003e new IndexedRow(x._1,x._2))\n                                                      ^\n"
      },
      "dateCreated": "Jan 9, 2018 1:01:41 AM",
      "dateStarted": "Jan 9, 2018 2:35:30 AM",
      "dateFinished": "Jan 9, 2018 2:37:11 AM",
      "status": "ERROR",
      "progressUpdateIntervalMs": 500
    },
    {
      "text": "var ir \u003d newRDD.map(x \u003d\u003e new IndexedRow(x._2,x._1))\nval mat: IndexedRowMatrix \u003d new IndexedRowMatrix(ir)\nvar corMat \u003d mat.toCoordinateMatrix()\nvar corMatT \u003d corMat.transpose()\nprintln(\"mat.numCols() \u003d \" + mat.numCols())\nprintln(\"mat.numRows() \u003d \" + mat.numRows())\n//var res \u003d corMatT.rows.map{ case IndexedRow(i, values) \u003d\u003e (i, values.toArray.sum) }",
      "user": "davidgillen@precocityllc.com",
      "dateUpdated": "Jan 9, 2018 2:53:52 AM",
      "config": {
        "colWidth": 12.0,
        "graph": {
          "mode": "table",
          "height": 300.0,
          "optionOpen": false,
          "keys": [],
          "values": [],
          "groups": [],
          "scatter": {}
        },
        "enabled": true,
        "editorMode": "ace/mode/scala"
      },
      "settings": {
        "params": {},
        "forms": {}
      },
      "paragraphProgress": {
        "jobs": [
          {
            "id": 1681,
            "jobUrl": "https://azure.qubole.com/cluster-proxy?encodedUrl\u003dhttp%3A%2F%2F10.0.0.4%3A8088%2Fproxy%2Fapplication_1515416833021_0001/jobs/job?spark\u003dtrue\u0026id\u003d1681",
            "numTasks": 20,
            "numCompletedTasks": 20,
            "stages": [
              {
                "id": 3226,
                "completed": true,
                "stageUrl": "https://azure.qubole.com/cluster-proxy?encodedUrl\u003dhttp%3A%2F%2F10.0.0.4%3A8088%2Fproxy%2Fapplication_1515416833021_0001/stages/stage/?id\u003d3226\u0026attempt\u003d0",
                "numCompleteTasks": 20,
                "numActiveTasks": 0,
                "numFailedTasks": 0,
                "numTotalTasks": 20
              }
            ],
            "status": "Success"
          },
          {
            "id": 1682,
            "jobUrl": "https://azure.qubole.com/cluster-proxy?encodedUrl\u003dhttp%3A%2F%2F10.0.0.4%3A8088%2Fproxy%2Fapplication_1515416833021_0001/jobs/job?spark\u003dtrue\u0026id\u003d1682",
            "numTasks": 1,
            "numCompletedTasks": 1,
            "stages": [
              {
                "id": 3227,
                "completed": true,
                "stageUrl": "https://azure.qubole.com/cluster-proxy?encodedUrl\u003dhttp%3A%2F%2F10.0.0.4%3A8088%2Fproxy%2Fapplication_1515416833021_0001/stages/stage/?id\u003d3227\u0026attempt\u003d0",
                "numCompleteTasks": 1,
                "numActiveTasks": 0,
                "numFailedTasks": 0,
                "numTotalTasks": 1
              }
            ],
            "status": "Success"
          }
        ],
        "numCompletedTasks": 21,
        "numTasks": 21,
        "truncated": false
      },
      "jobName": "paragraph_1515465460274_1504752595",
      "id": "20180109-023740_961251743_q_8YVGJMASEQ1515692831",
      "result": {
        "code": "SUCCESS",
        "type": "TEXT",
        "msg": "\nir: org.apache.spark.rdd.RDD[org.apache.spark.mllib.linalg.distributed.IndexedRow] \u003d MapPartitionsRDD[7098] at map at \u003cconsole\u003e:260\n\nmat: org.apache.spark.mllib.linalg.distributed.IndexedRowMatrix \u003d org.apache.spark.mllib.linalg.distributed.IndexedRowMatrix@5b57961e\n\ncorMat: org.apache.spark.mllib.linalg.distributed.CoordinateMatrix \u003d org.apache.spark.mllib.linalg.distributed.CoordinateMatrix@1a4045b3\n\ncorMatT: org.apache.spark.mllib.linalg.distributed.CoordinateMatrix \u003d org.apache.spark.mllib.linalg.distributed.CoordinateMatrix@52f3266b\nmat.numCols() \u003d 207449\nmat.numRows() \u003d 136788\n"
      },
      "dateCreated": "Jan 9, 2018 2:37:40 AM",
      "dateStarted": "Jan 9, 2018 2:53:52 AM",
      "dateFinished": "Jan 9, 2018 2:55:38 AM",
      "status": "FINISHED",
      "progressUpdateIntervalMs": 500
    },
    {
      "text": "val rowSums \u003d corMatT.entries.map{case MatrixEntry(row, _, value) \u003d\u003e (row, value)}.reduceByKey(_ + _)\nvar rowMeans \u003d rowSums.map{case (index,sum) \u003d\u003e (index, sum / countModel.vocabulary.length)}\n//rowMeans.take(3)\nvar rowMeansDF \u003d rowMeans.toDF(\"wordIndex\",\"meanIDF\")\nrowMeansDF.show()",
      "user": "davidgillen@precocityllc.com",
      "dateUpdated": "Jan 9, 2018 3:17:11 AM",
      "config": {
        "colWidth": 12.0,
        "graph": {
          "mode": "table",
          "height": 300.0,
          "optionOpen": false,
          "keys": [],
          "values": [],
          "groups": [],
          "scatter": {}
        },
        "enabled": true,
        "editorMode": "ace/mode/scala"
      },
      "settings": {
        "params": {},
        "forms": {}
      },
      "paragraphProgress": {
        "jobs": [
          {
            "id": 1685,
            "jobUrl": "https://azure.qubole.com/cluster-proxy?encodedUrl\u003dhttp%3A%2F%2F10.0.0.4%3A8088%2Fproxy%2Fapplication_1515416833021_0001/jobs/job?spark\u003dtrue\u0026id\u003d1685",
            "numTasks": 21,
            "numCompletedTasks": 21,
            "stages": [
              {
                "id": 3232,
                "completed": true,
                "stageUrl": "https://azure.qubole.com/cluster-proxy?encodedUrl\u003dhttp%3A%2F%2F10.0.0.4%3A8088%2Fproxy%2Fapplication_1515416833021_0001/stages/stage/?id\u003d3232\u0026attempt\u003d0",
                "numCompleteTasks": 20,
                "numActiveTasks": 0,
                "numFailedTasks": 0,
                "numTotalTasks": 20
              },
              {
                "id": 3233,
                "completed": true,
                "stageUrl": "https://azure.qubole.com/cluster-proxy?encodedUrl\u003dhttp%3A%2F%2F10.0.0.4%3A8088%2Fproxy%2Fapplication_1515416833021_0001/stages/stage/?id\u003d3233\u0026attempt\u003d0",
                "numCompleteTasks": 1,
                "numActiveTasks": 0,
                "numFailedTasks": 0,
                "numTotalTasks": 1
              }
            ],
            "status": "Success"
          }
        ],
        "numCompletedTasks": 21,
        "numTasks": 21,
        "truncated": false
      },
      "jobName": "paragraph_1515466503307_716100548",
      "id": "20180109-025503_1476014364_q_8YVGJMASEQ1515692831",
      "result": {
        "code": "SUCCESS",
        "type": "TEXT",
        "msg": "\nrowSums: org.apache.spark.rdd.RDD[(Long, Double)] \u003d ShuffledRDD[7114] at reduceByKey at \u003cconsole\u003e:268\n\nrowMeans: org.apache.spark.rdd.RDD[(Long, Double)] \u003d MapPartitionsRDD[7115] at map at \u003cconsole\u003e:270\n\nrowMeansDF: org.apache.spark.sql.DataFrame \u003d [wordIndex: bigint, meanIDF: double]\n+---------+--------------------+\n|wordIndex|             meanIDF|\n+---------+--------------------+\n|     9200|6.363009703589798E-4|\n|    54040|1.928184758663575...|\n|    31760|5.302508086324831...|\n|    76360|9.640923793317876E-6|\n|   202220|4.820461896658938E-6|\n|    18500|1.590752425897449...|\n|    81100|9.640923793317876E-6|\n|   172600|4.820461896658938E-6|\n|   204100|4.820461896658938E-6|\n|   138460|4.820461896658938E-6|\n|    70640|9.640923793317876E-6|\n|   178680|4.820461896658938E-6|\n|   194020|4.820461896658938E-6|\n|   105040|4.820461896658938E-6|\n|    88400|9.640923793317876E-6|\n|    51620|1.928184758663575...|\n|   161980|4.820461896658938E-6|\n|    24360|8.676831413986089E-5|\n|   115420|4.820461896658938E-6|\n|   127940|4.820461896658938E-6|\n+---------+--------------------+\nonly showing top 20 rows\n\n"
      },
      "dateCreated": "Jan 9, 2018 2:55:03 AM",
      "dateStarted": "Jan 9, 2018 3:17:12 AM",
      "dateFinished": "Jan 9, 2018 3:19:03 AM",
      "status": "FINISHED",
      "progressUpdateIntervalMs": 500
    },
    {
      "text": "countModel.vocabulary.length",
      "user": "davidgillen@precocityllc.com",
      "dateUpdated": "Jan 9, 2018 2:45:21 AM",
      "config": {
        "colWidth": 12.0,
        "graph": {
          "mode": "table",
          "height": 300.0,
          "optionOpen": false,
          "keys": [],
          "values": [],
          "groups": [],
          "scatter": {}
        },
        "enabled": true,
        "editorMode": "ace/mode/scala"
      },
      "settings": {
        "params": {},
        "forms": {}
      },
      "paragraphProgress": {
        "jobs": [],
        "numCompletedTasks": 0,
        "numTasks": 0,
        "truncated": false
      },
      "jobName": "paragraph_1515465917393_1550195648",
      "id": "20180109-024517_1265758638_q_8YVGJMASEQ1515692831",
      "result": {
        "code": "SUCCESS",
        "type": "TEXT",
        "msg": "\nres238: Int \u003d 207449\n"
      },
      "dateCreated": "Jan 9, 2018 2:45:17 AM",
      "dateStarted": "Jan 9, 2018 2:45:21 AM",
      "dateFinished": "Jan 9, 2018 2:45:23 AM",
      "status": "FINISHED",
      "progressUpdateIntervalMs": 500
    },
    {
      "text": "%spark.pyspark\nfrom pyspark.ml.feature import HashingTF, IDF, Tokenizer\nfrom pyspark.ml.feature import CountVectorizer\nfrom pyspark.ml import Pipeline\nimport pandas as pd\n\nptf \u003d sqlContext.sql(\"select * from pred where score \u003e\u003d 0.8\")\nptf \u003d ptf.sample(False,0.01,11L)\nprint \"Sampled # of reviews \u003d %d\" % sampledIDF.count()\ncountTF \u003d CountVectorizer(minTF\u003d1.0, minDF\u003d1.0, vocabSize\u003d1000000, \n                                  inputCol\u003d\u0027stopWordsOutput\u0027, outputCol\u003d\u0027countFeatures\u0027)\ncountModel \u003d countTF.fit(ptf)\nfeaturizedData \u003d countModel.transform(ptf)\nprint \"VocabSize \u003d %d\" % len(countModel.vocabulary)\npWords \u003d pd.DataFrame({\u0027words\u0027:countModel.vocabulary})\nidf \u003d IDF(inputCol\u003d\"countFeatures\", outputCol\u003d\"idfFeatures\")\nidfModel \u003d idf.fit(featurizedData)\nrescaledData \u003d idfModel.transform(featurizedData)\n# idfFeatures is a SparseVector \u0026 toArray method makes in dense\n# idfList \u003d rescaledData.rdd.map(lambda x : x.idfFeatures.toArray())\n# sampledIDF \u003d rescaledData.sample(False,.005,11L)\nidfList \u003d rescaledData.rdd.map(lambda x : x.idfFeatures.toArray()).collect()\nidfDF \u003d pd.DataFrame(idfList)\nidfDF \u003d idfDF.transpose()\nmeanIDF \u003d idfDF.mean(axis\u003d1)\nidfDF \u003d pd.concat([pWords,meanIDF], axis\u003d1)\nidfDF.columns \u003d [\u0027word\u0027,\u0027meanIDF\u0027]\nidfDF.sort_values(\"meanIDF\",ascending\u003dFalse)",
      "user": "davidgillen@precocityllc.com",
      "dateUpdated": "Jan 8, 2018 11:42:29 PM",
      "config": {
        "colWidth": 12.0,
        "graph": {
          "mode": "table",
          "height": 300.0,
          "optionOpen": false,
          "keys": [],
          "values": [],
          "groups": [],
          "scatter": {}
        },
        "enabled": true,
        "editorMode": "ace/mode/scala"
      },
      "settings": {
        "params": {},
        "forms": {}
      },
      "paragraphProgress": {
        "jobs": [
          {
            "id": 1663,
            "jobUrl": "https://azure.qubole.com/cluster-proxy?encodedUrl\u003dhttp%3A%2F%2F10.0.0.4%3A8088%2Fproxy%2Fapplication_1515416833021_0001/jobs/job?spark\u003dtrue\u0026id\u003d1663",
            "numTasks": 21,
            "numCompletedTasks": 21,
            "stages": [
              {
                "id": 3199,
                "completed": true,
                "stageUrl": "https://azure.qubole.com/cluster-proxy?encodedUrl\u003dhttp%3A%2F%2F10.0.0.4%3A8088%2Fproxy%2Fapplication_1515416833021_0001/stages/stage/?id\u003d3199\u0026attempt\u003d0",
                "numCompleteTasks": 1,
                "numActiveTasks": 0,
                "numFailedTasks": 0,
                "numTotalTasks": 1
              },
              {
                "id": 3198,
                "completed": true,
                "stageUrl": "https://azure.qubole.com/cluster-proxy?encodedUrl\u003dhttp%3A%2F%2F10.0.0.4%3A8088%2Fproxy%2Fapplication_1515416833021_0001/stages/stage/?id\u003d3198\u0026attempt\u003d0",
                "numCompleteTasks": 20,
                "numActiveTasks": 0,
                "numFailedTasks": 0,
                "numTotalTasks": 20
              }
            ],
            "status": "Success"
          },
          {
            "id": 1664,
            "jobUrl": "https://azure.qubole.com/cluster-proxy?encodedUrl\u003dhttp%3A%2F%2F10.0.0.4%3A8088%2Fproxy%2Fapplication_1515416833021_0001/jobs/job?spark\u003dtrue\u0026id\u003d1664",
            "numTasks": 40,
            "numCompletedTasks": 40,
            "stages": [
              {
                "id": 3200,
                "completed": true,
                "stageUrl": "https://azure.qubole.com/cluster-proxy?encodedUrl\u003dhttp%3A%2F%2F10.0.0.4%3A8088%2Fproxy%2Fapplication_1515416833021_0001/stages/stage/?id\u003d3200\u0026attempt\u003d0",
                "numCompleteTasks": 20,
                "numActiveTasks": 0,
                "numFailedTasks": 0,
                "numTotalTasks": 20
              },
              {
                "id": 3201,
                "completed": true,
                "stageUrl": "https://azure.qubole.com/cluster-proxy?encodedUrl\u003dhttp%3A%2F%2F10.0.0.4%3A8088%2Fproxy%2Fapplication_1515416833021_0001/stages/stage/?id\u003d3201\u0026attempt\u003d0",
                "numCompleteTasks": 20,
                "numActiveTasks": 0,
                "numFailedTasks": 0,
                "numTotalTasks": 20
              }
            ],
            "status": "Success"
          },
          {
            "id": 1665,
            "jobUrl": "https://azure.qubole.com/cluster-proxy?encodedUrl\u003dhttp%3A%2F%2F10.0.0.4%3A8088%2Fproxy%2Fapplication_1515416833021_0001/jobs/job?spark\u003dtrue\u0026id\u003d1665",
            "numTasks": 40,
            "numCompletedTasks": 20,
            "stages": [
              {
                "id": 3203,
                "completed": true,
                "stageUrl": "https://azure.qubole.com/cluster-proxy?encodedUrl\u003dhttp%3A%2F%2F10.0.0.4%3A8088%2Fproxy%2Fapplication_1515416833021_0001/stages/stage/?id\u003d3203\u0026attempt\u003d0",
                "numCompleteTasks": 20,
                "numActiveTasks": 0,
                "numFailedTasks": 0,
                "numTotalTasks": 20
              },
              {
                "id": 3202,
                "completed": true,
                "stageUrl": "https://azure.qubole.com/cluster-proxy?encodedUrl\u003dhttp%3A%2F%2F10.0.0.4%3A8088%2Fproxy%2Fapplication_1515416833021_0001/stages/stage/?id\u003d3202\u0026attempt\u003d0",
                "numCompleteTasks": 0,
                "numActiveTasks": 0,
                "numFailedTasks": 0,
                "numTotalTasks": 0
              }
            ],
            "status": "Success"
          },
          {
            "id": 1666,
            "jobUrl": "https://azure.qubole.com/cluster-proxy?encodedUrl\u003dhttp%3A%2F%2F10.0.0.4%3A8088%2Fproxy%2Fapplication_1515416833021_0001/jobs/job?spark\u003dtrue\u0026id\u003d1666",
            "numTasks": 24,
            "numCompletedTasks": 24,
            "stages": [
              {
                "id": 3204,
                "completed": true,
                "stageUrl": "https://azure.qubole.com/cluster-proxy?encodedUrl\u003dhttp%3A%2F%2F10.0.0.4%3A8088%2Fproxy%2Fapplication_1515416833021_0001/stages/stage/?id\u003d3204\u0026attempt\u003d0",
                "numCompleteTasks": 20,
                "numActiveTasks": 0,
                "numFailedTasks": 0,
                "numTotalTasks": 20
              },
              {
                "id": 3205,
                "completed": true,
                "stageUrl": "https://azure.qubole.com/cluster-proxy?encodedUrl\u003dhttp%3A%2F%2F10.0.0.4%3A8088%2Fproxy%2Fapplication_1515416833021_0001/stages/stage/?id\u003d3205\u0026attempt\u003d0",
                "numCompleteTasks": 4,
                "numActiveTasks": 0,
                "numFailedTasks": 0,
                "numTotalTasks": 4
              }
            ],
            "status": "Success"
          },
          {
            "id": 1667,
            "jobUrl": "https://azure.qubole.com/cluster-proxy?encodedUrl\u003dhttp%3A%2F%2F10.0.0.4%3A8088%2Fproxy%2Fapplication_1515416833021_0001/jobs/job?spark\u003dtrue\u0026id\u003d1667",
            "numTasks": 20,
            "numCompletedTasks": 20,
            "stages": [
              {
                "id": 3206,
                "completed": true,
                "stageUrl": "https://azure.qubole.com/cluster-proxy?encodedUrl\u003dhttp%3A%2F%2F10.0.0.4%3A8088%2Fproxy%2Fapplication_1515416833021_0001/stages/stage/?id\u003d3206\u0026attempt\u003d0",
                "numCompleteTasks": 20,
                "numActiveTasks": 0,
                "numFailedTasks": 0,
                "numTotalTasks": 20
              }
            ],
            "status": "Success"
          }
        ],
        "numCompletedTasks": 125,
        "numTasks": 145,
        "truncated": false
      },
      "jobName": "paragraph_1515431063628_582215925",
      "id": "20180108-170423_1247818370_q_8YVGJMASEQ1515692831",
      "result": {
        "code": "SUCCESS",
        "type": "TEXT",
        "msg": "Sampled # of reviews \u003d 701\nVocabSize \u003d 16933\n               word   meanIDF\n1            camera  1.647411\n17               tv  1.047884\n24             lens  0.998844\n13            sound  0.903424\n28            video  0.811315\n21             case  0.797031\n20           screen  0.782689\n3              like  0.768663\n45            drive  0.757586\n32             unit  0.746018\n12                1  0.743549\n2               use  0.734668\n0               one  0.727075\n9                 2  0.717702\n35          battery  0.702584\n6               get  0.695945\n44           device  0.686234\n4              good  0.684175\n52             card  0.681827\n7             would  0.680005\n5             great  0.675121\n42            cable  0.671111\n11          quality  0.670082\n8              also  0.667055\n43              usb  0.646864\n67           player  0.627285\n14           really  0.625810\n15             much  0.615519\n31                4  0.611271\n22                3  0.610638\n...             ...       ...\n11887  transferable  0.004680\n11888    toothpaste  0.004680\n11889           iem  0.004680\n11890  walkthroughs  0.004680\n11915        eldest  0.004680\n11914         corny  0.004680\n11913      heritage  0.004680\n11912   appreciates  0.004680\n11911         tiene  0.004680\n11910  characterize  0.004680\n11909  manufaturing  0.004680\n11908      proscope  0.004680\n11907           40g  0.004680\n11906    refinement  0.004680\n11905          leak  0.004680\n11904         anapc  0.004680\n11903    overheated  0.004680\n11902       visuals  0.004680\n11901        whould  0.004680\n11900      bulletin  0.004680\n11899     valuewith  0.004680\n11898       spacers  0.004680\n11897            ut  0.004680\n11896       toolbar  0.004680\n11895        gaffer  0.004680\n11894      quarters  0.004680\n11893     overjoyed  0.004680\n11892       skimped  0.004680\n11891     unparking  0.004680\n16932           109  0.004680\n\n[16933 rows x 2 columns]\n"
      },
      "dateCreated": "Jan 8, 2018 5:04:23 PM",
      "dateStarted": "Jan 8, 2018 11:42:29 PM",
      "dateFinished": "Jan 8, 2018 11:42:55 PM",
      "status": "FINISHED",
      "progressUpdateIntervalMs": 500
    },
    {
      "text": "%spark.pyspark\nidfDF \u003d pd.concat([pWords,meanIDF], axis\u003d1)\nidfDF.columns \u003d [\u0027word\u0027,\u0027meanIDF\u0027]\nidfDF.sort_values(\"meanIDF\",ascending\u003dFalse)",
      "user": "davidgillen@precocityllc.com",
      "dateUpdated": "Jan 8, 2018 7:34:59 PM",
      "config": {
        "colWidth": 12.0,
        "graph": {
          "mode": "table",
          "height": 300.0,
          "optionOpen": false,
          "keys": [],
          "values": [],
          "groups": [],
          "scatter": {}
        },
        "enabled": true,
        "editorMode": "ace/mode/scala"
      },
      "settings": {
        "params": {},
        "forms": {}
      },
      "paragraphProgress": {
        "jobs": [],
        "numCompletedTasks": 0,
        "numTasks": 0,
        "truncated": false
      },
      "jobName": "paragraph_1515440081838_2046146839",
      "id": "20180108-193441_25279014_q_8YVGJMASEQ1515692831",
      "result": {
        "code": "SUCCESS",
        "type": "TEXT",
        "msg": "                 word   meanIDF\n2              camera  1.158067\n19               lens  1.068102\n13              sound  1.059960\n34               unit  0.996003\n15181           remix  0.920558\n18             better  0.848717\n21                 tv  0.828528\n33              drive  0.820344\n5038             moda  0.815965\n22             screen  0.786592\n84               sony  0.753470\n314               gps  0.736702\n32              video  0.727571\n137        headphones  0.720337\n10               well  0.706163\n125             flash  0.698029\n4609       chromecast  0.694162\n9                   2  0.692481\n1                 use  0.677570\n0                 one  0.673419\n1650           yamaha  0.672452\n9049             a510  0.669388\n16               much  0.668103\n115              less  0.659126\n11103          excite  0.659109\n11            quality  0.656451\n4                good  0.650390\n110            remote  0.641401\n3                like  0.637563\n49              power  0.633009\n...               ...       ...\n89688       grabbable  0.000000\n89687         difxapi  0.000000\n89672        fragrant  0.000000\n89660            n470  0.000000\n89661       falsescan  0.000000\n89662             vco  0.000000\n89663    cablehelpful  0.000000\n89664       molexthis  0.000000\n89665        valuefor  0.000000\n89666   wdbaaz0020hnc  0.000000\n89667            naww  0.000000\n89668      inovations  0.000000\n89669            qpkg  0.000000\n89670          video7  0.000000\n89671          caseas  0.000000\n89673         stc2000  0.000000\n89686            xxds  0.000000\n89674         100evga  0.000000\n89675       scnc2607w  0.000000\n89676     raspberries  0.000000\n89677          12mins  0.000000\n89678     avgassassin  0.000000\n89679        eos1100d  0.000000\n89680             dr2  0.000000\n89681         botches  0.000000\n89682           00168  0.000000\n89683       ipscanner  0.000000\n89684           a1466  0.000000\n89685             p46  0.000000\n257842        weirton  0.000000\n\n[257843 rows x 2 columns]\n"
      },
      "dateCreated": "Jan 8, 2018 7:34:41 PM",
      "dateStarted": "Jan 8, 2018 7:34:59 PM",
      "dateFinished": "Jan 8, 2018 7:34:59 PM",
      "status": "FINISHED",
      "progressUpdateIntervalMs": 500
    },
    {
      "text": "sqlContext.sql(\"select reviewerName,summary,overall,upVotes,totalVotes from reviews where asin \u003d \u0027B00CV9MITY\u0027 order by score asc\").show()\n",
      "user": "davidgillen@precocityllc.com",
      "dateUpdated": "Jan 8, 2018 3:25:44 PM",
      "config": {
        "colWidth": 12.0,
        "graph": {
          "mode": "table",
          "height": 300.0,
          "optionOpen": false,
          "keys": [],
          "values": [],
          "groups": [],
          "scatter": {}
        },
        "enabled": true,
        "editorMode": "ace/mode/scala"
      },
      "settings": {
        "params": {},
        "forms": {}
      },
      "paragraphProgress": {
        "jobs": [
          {
            "id": 1578,
            "jobUrl": "https://azure.qubole.com/cluster-proxy?encodedUrl\u003dhttp%3A%2F%2F10.0.0.4%3A8088%2Fproxy%2Fapplication_1515416833021_0001/jobs/job?spark\u003dtrue\u0026id\u003d1578",
            "numTasks": 20,
            "numCompletedTasks": 20,
            "stages": [
              {
                "id": 3077,
                "completed": true,
                "stageUrl": "https://azure.qubole.com/cluster-proxy?encodedUrl\u003dhttp%3A%2F%2F10.0.0.4%3A8088%2Fproxy%2Fapplication_1515416833021_0001/stages/stage/?id\u003d3077\u0026attempt\u003d0",
                "numCompleteTasks": 20,
                "numActiveTasks": 0,
                "numFailedTasks": 0,
                "numTotalTasks": 20
              }
            ],
            "status": "Success"
          }
        ],
        "numCompletedTasks": 20,
        "numTasks": 20,
        "truncated": false
      },
      "jobName": "paragraph_1515425103286_1080178477",
      "id": "20180108-152503_1318455654_q_8YVGJMASEQ1515692831",
      "result": {
        "code": "SUCCESS",
        "type": "TEXT",
        "msg": "+--------------------+--------------------+-------+-------+----------+\n|        reviewerName|             summary|overall|upVotes|totalVotes|\n+--------------------+--------------------+-------+-------+----------+\n|        kristin Beam|purchased with my...|    4.0|      0|        12|\n|                Ruth|           Good Plan|    4.0|      0|         8|\n|   Allen Borcherding|Thankfully, haven...|    4.0|      0|         6|\n|      Bruce G. Watts|    Camera insuramce|    5.0|      0|         9|\n|          J. Dresser|4-Year Camera/Cam...|    1.0|      1|        13|\n|       David Knisley|     Hope not to use|    5.0|      1|         8|\n|            Dannyboy|4 Year Camera War...|    5.0|      1|         8|\n|             Ryu Jin|    DID NOT PURCHASE|    1.0|      2|         8|\n|            M. Camp.|Verbage in downlo...|    5.0|     19|        23|\n|David Marks \"norc...|You need to read ...|    2.0|     37|        40|\n+--------------------+--------------------+-------+-------+----------+\n\n"
      },
      "dateCreated": "Jan 8, 2018 3:25:03 PM",
      "dateStarted": "Jan 8, 2018 3:25:44 PM",
      "dateFinished": "Jan 8, 2018 3:25:49 PM",
      "status": "FINISHED",
      "progressUpdateIntervalMs": 500
    },
    {
      "text": "var testAsin \u003d sqlContext.sql(\"select asin,summary,overall,upVotes,totalVotes,score,predScore,prediction from pred where asin \u003d \u0027B001F7AHOG\u0027 order by score asc\")\ntestAsin.show(false)\n",
      "user": "davidgillen@precocityllc.com",
      "dateUpdated": "Jan 8, 2018 1:47:47 PM",
      "config": {
        "colWidth": 12.0,
        "graph": {
          "mode": "table",
          "height": 300.0,
          "optionOpen": false,
          "keys": [],
          "values": [],
          "groups": [],
          "scatter": {}
        },
        "enabled": true,
        "editorMode": "ace/mode/scala"
      },
      "settings": {
        "params": {},
        "forms": {}
      },
      "paragraphProgress": {
        "jobs": [
          {
            "id": 826,
            "jobUrl": "https://azure.qubole.com/cluster-proxy?encodedUrl\u003dhttp%3A%2F%2F10.0.0.4%3A8088%2Fproxy%2Fapplication_1515416833021_0001/jobs/job?spark\u003dtrue\u0026id\u003d826",
            "numTasks": 20,
            "numCompletedTasks": 20,
            "stages": [
              {
                "id": 1567,
                "completed": true,
                "stageUrl": "https://azure.qubole.com/cluster-proxy?encodedUrl\u003dhttp%3A%2F%2F10.0.0.4%3A8088%2Fproxy%2Fapplication_1515416833021_0001/stages/stage/?id\u003d1567\u0026attempt\u003d0",
                "numCompleteTasks": 20,
                "numActiveTasks": 0,
                "numFailedTasks": 0,
                "numTotalTasks": 20
              }
            ],
            "status": "Success"
          }
        ],
        "numCompletedTasks": 20,
        "numTasks": 20,
        "truncated": false
      },
      "jobName": "paragraph_1514931503788_1732435055",
      "id": "20180102-221823_1504742210_q_8YVGJMASEQ1515692831",
      "result": {
        "code": "SUCCESS",
        "type": "TEXT",
        "msg": "\ntestAsin: org.apache.spark.sql.DataFrame \u003d [asin: string, summary: string ... 6 more fields]\n+----------+----------------------------------------------+-------+-------+----------+-------------------+-------------------+----------+\n|asin      |summary                                       |overall|upVotes|totalVotes|score              |predScore          |prediction|\n+----------+----------------------------------------------+-------+-------+----------+-------------------+-------------------+----------+\n|B001F7AHOG|It is a black box                             |2.0    |2      |37        |0.05405405405405406|0.29032397998671633|0.0       |\n|B001F7AHOG|DON\u0027T BUY THIS!!!!  Not even for your enemies!|1.0    |2      |19        |0.10526315789473684|0.3563185666053984 |0.0       |\n|B001F7AHOG|piece of junk                                 |1.0    |1      |9         |0.1111111111111111 |0.3351814232929804 |0.0       |\n|B001F7AHOG|aEg - I didn\u0027t like it                        |2.0    |1      |8         |0.125              |0.1778709651427161 |0.0       |\n|B001F7AHOG|You will hate Itunes.                         |1.0    |1      |8         |0.125              |0.28525701106421647|0.0       |\n|B001F7AHOG|An Unevolved iPod                             |1.0    |85     |173       |0.4913294797687861 |0.3115904713021767 |0.0       |\n|B001F7AHOG|Big things come in small packages...          |5.0    |6      |6         |1.0                |0.9575447518017256 |1.0       |\n+----------+----------------------------------------------+-------+-------+----------+-------------------+-------------------+----------+\n\n"
      },
      "dateCreated": "Jan 2, 2018 10:18:23 PM",
      "dateStarted": "Jan 8, 2018 1:47:47 PM",
      "dateFinished": "Jan 8, 2018 1:47:47 PM",
      "status": "FINISHED",
      "progressUpdateIntervalMs": 500
    },
    {
      "text": "%spark.sql\nselect asin,summary,reviewText,upVotes,totalVotes,score,predScore from pred where asin \u003d \u0027B001F7AHOG\u0027 order by score asc",
      "user": "davidgillen@precocityllc.com",
      "dateUpdated": "Jan 8, 2018 1:40:15 PM",
      "config": {
        "colWidth": 12.0,
        "graph": {
          "mode": "table",
          "height": 300.0,
          "optionOpen": false,
          "keys": [
            {
              "name": "asin",
              "index": 0.0,
              "aggr": "sum"
            }
          ],
          "values": [
            {
              "name": "summary",
              "index": 1.0,
              "aggr": "sum"
            }
          ],
          "groups": [],
          "scatter": {
            "xAxis": {
              "name": "asin",
              "index": 0.0,
              "aggr": "sum"
            },
            "yAxis": {
              "name": "summary",
              "index": 1.0,
              "aggr": "sum"
            }
          }
        },
        "enabled": true,
        "editorMode": "ace/mode/sql"
      },
      "settings": {
        "params": {},
        "forms": {}
      },
      "paragraphProgress": {
        "jobs": [
          {
            "id": 745,
            "jobUrl": "https://azure.qubole.com/cluster-proxy?encodedUrl\u003dhttp%3A%2F%2F10.0.0.4%3A8088%2Fproxy%2Fapplication_1515416833021_0001/jobs/job?spark\u003dtrue\u0026id\u003d745",
            "numTasks": 20,
            "numCompletedTasks": 20,
            "stages": [
              {
                "id": 1486,
                "completed": true,
                "stageUrl": "https://azure.qubole.com/cluster-proxy?encodedUrl\u003dhttp%3A%2F%2F10.0.0.4%3A8088%2Fproxy%2Fapplication_1515416833021_0001/stages/stage/?id\u003d1486\u0026attempt\u003d0",
                "numCompleteTasks": 20,
                "numActiveTasks": 0,
                "numFailedTasks": 0,
                "numTotalTasks": 20
              }
            ],
            "status": "Success"
          }
        ],
        "numCompletedTasks": 20,
        "numTasks": 20,
        "truncated": false
      },
      "jobName": "paragraph_1515203450531_1233644214",
      "id": "20180106-015050_1985570233_q_8YVGJMASEQ1515692831",
      "result": {
        "code": "SUCCESS",
        "type": "TABLE",
        "msg": "asin\tsummary\treviewText\tupVotes\ttotalVotes\tscore\tpredScore\nB001F7AHOG\tIt is a black box\tRealy i have more spectatives from it, you always need the itunes (program from apple) tu acces to the music inside of your ipod, the itunes is like a machine from promotions and it tired my, the batery of a new ipod have poor hours of use, etc...\t2\t37\t0.05405405405405406\t0.29032397998671633\nB001F7AHOG\tDON\u0027T BUY THIS!!!!  Not even for your enemies!\tI don\u0027t have a lot of money, so this was a major purchase for me a few years ago.  The only good thing I can say is that it actually does work, sort of.  It sync\u0027s parts of songs, adds the same song multiple times and all kinds of fun things.  I think I can honestly say that in all the time I have had it, I have not had one trouble free day with it or Itunes.  I HATE Apple and I will devote my life to destroying them.  Finally, I was able to \"fix\" my itunes, but it wouldn\u0027t allow me to add new music.  The drive is only half-full.  I finally gave it what it had coming all along.  Threw it as hard as I could into some rocks.  It\u0027s the only time that piece of crap ever gave me a bit of satisfaction.  I\u0027d rather have a no-name chinese knock off than this garbage.  Seriously, if you receive one as a gift, don\u0027t even open it.  Just put it in the circular file where it belongs.\t2\t19\t0.10526315789473684\t0.3563185666053984\nB001F7AHOG\tpiece of junk\tafter one year of use, I get the info \"your ipod is corrupted\", I tried everything I could and still cannot get it to work, (I tried different Pcs, macs, restoring it, etc), nothing helped and it is out of warranty, many people on the web claim to have same problem with it.\t1\t9\t0.1111111111111111\t0.3351814232929804\nB001F7AHOG\taEg - I didn\u0027t like it\tThis is a high quality product that will meet your needs. The seller was excellent. However, I\u0027v decided that I don\u0027t like \"i\" products or software. This is strictly my personal preference.\t1\t8\t0.125\t0.1778709651427161\nB001F7AHOG\tYou will hate Itunes.\tBought the Ipod Classic mp3 player with an incredible 160GB of memory. It was very nicely made, very high quality construction, very jewlery like. The main reason I returned it is due to having to use Itunes software. You will hate Itunes. I have an extensive library of albums in my computer in Windows Media Player ripped from my cd collection. Media Player automatically captures all album art and song list information from the internet without having to tell it to do so but, with Itunes you are forced to belong to the Itunes store and log in if you want album art even though you already have it in media player. Also, Itunes will force your computer to make duplicate copies of all the music you move over to it escentially doubling your hard disc space useage. I tunes broke apart all my nicely organized albums and loaded them as just random separate songs, making it impossable to find anything, let alone losing all the album art. If you are used to a Sandisk or something other than an Ipod that can use Media Player I think you will find Itunes really stupid. It is so backwards and forces you into registering with Itunes for everything so they can track what you have and send you advertisments. STAY AWAY FROM IPODS, ITUNES AND APPLE IN GENERAL, they want to control what you do!\t1\t8\t0.125\t0.28525701106421647\nB001F7AHOG\tAn Unevolved iPod\tThe new iPod classic is a huge disappointment with only one positive note. When Apple had their live music event last week, Apple should have trimmed the scroll wheel to the size of the nano\u0027s wheel, increased the screen size, or increase memory capacity beyond 160GB. Instead they failed to do everything that would improve the iPod classic. Yes, we now have a 160GB model as oppose to the 120GB model. However, the 160GB model was already released two years ago despite the fact that it was a bit on the bulkier side. On top of that, the black model still has that cheap AWFUL looking plastic casing on the top that seems to have been manufactured at a dollar store. The iPod is a decent MP3 player and its ease of use is great. But its flaw comes in the fact that its failed to EVOLVE properly. The Zune atleast has a huge 3.2 inch screen while the iPod size has remained the same. Another sad note is that Apple of course has gone ahead and poured all their creative ideas into the iPod Nano by giving them those great fashion colors and now they even have the luxury of a built in camcorder that records video in High Def from what i hear. The videos can also easily upload to Facebook or YouTube. Plus, the Nano now has a FM Radio.If Apple couldn\u0027t provide the Classic model with Fashion colors they could have at least given this so-called new model a built in camera/camcorder or the FM Radio. Apple, does this make any sense?Pros: Big memory for music lovers with an extensive music libraryBattery LifeCons: No evolution whatsoeverSmall Screen Size that has not changed in over 6 yearsNo camcorder/cameraCheap Plastic CoverNo Fashion ColorsNo radioNo wi-fiNo FM RadioNo customizable backgroundsMetal back still gets scratched easilyCheap ear phones etc\t85\t173\t0.4913294797687861\t0.3115904713021767\nB001F7AHOG\tBig things come in small packages...\tLet me start of saying that I didn\u0027t purchase this iPod on amazon, but I got it around 2 months ago at an Apple Store. Let me just say that this iPod is more than great, it is truly something amazing. With the most memory out of all other iPods and for its size, let me just say that big things can sometimes come in small packages. Now for the main review...\u003d\u003d\u003d\u003d Storage \u003d\u003d\u003d\u003dWith 160 GB of Storage, this its self should be a very good reason to get this iPod. It has a lot of memory! To give you an idea of how much 160 GB is, its 80 times as much as Apple\u0027s iPod Shuffle. All of that memory on to this small device. With 160 GB of memory you can have approximately 40,000 songs or 200 hours of video or 25,000 photos... That is a lot of memory! I have only used about 15 GB on my iPod and I can\u0027t really see me using up the entire storage. It is just that big!\u003d\u003d\u003d\u003d Battery Life \u003d\u003d\u003d\u003dWith this iPod you don\u0027t have to worry about having it run out of battery on you. It has an incredible 36 hours of battery life! That\u0027s 26 more hours than Apple\u0027s New iPad! You are going to enjoy having this iPod with that much storage and that much battery life. It\u0027s perfect for those long road trips or when you are going on a plane. It\u0027s small, convenient, tons of storage, and a very long lasting battery.\u003d\u003d\u003d\u003d The Display \u003d\u003d\u003d\u003dThe display has a size of 2.5 inches. It\u0027s great for navigation through the iPod to find different songs, movies, or see slideshows of photos that you can transfer onto it. I personally find the screen being O.K., but other people say that it can be kind of small to watch movies and videos. considering the storage and the battery life I don\u0027t have a problem with the screen size. It is still great for watching movies whenever I get the urge to do so. As for finding specific songs or albums, the wheel makes it easy to do it. You can separate your music by albums, genre, etc. It makes it easy to find the music that you want to listen to. Most of the time though, I leave mine on shuffle. Shuffle generates random songs for a different choice of music.\u003d\u003d\u003d\u003d Genius \u003d\u003d\u003d\u003dIf you have tons of songs on your iPod then Genius is going to come in handy. If you really like the song that you are listening to, simply turn Genius on and it will find other similar songs on the iPod to the one that you are listening to. You can also create Genius Mixes that you can listen to in the future.\u003d\u003d\u003d\u003d Durability \u003d\u003d\u003d\u003dThe iPod is very sturdy and it looks very strong. This iPod has fallen about twice and it hit straight concrete from about 4 feet and it survived. It did get a couple of scratches, but everything still works perfectly. Unlike the iPod Touch this iPod is definitely stronger and it will sustain more damage. I am not saying to go drop your iPod everywhere you go. I am just saying this is more durable than iPods that have a fragile screen/body.Overall: This is a really great iPod that is not that expensive considering what you get out of it. I recommend this iPod for all those people that really love music and movies. You will no longer have to leave out your music because it will all fit on this iPod\u0027s storage! I rate this iPod 5 stars out of 5 stars!I hope this review helped you out!\t6\t6\t1.0\t0.9575447518017256\n"
      },
      "dateCreated": "Jan 6, 2018 1:50:50 AM",
      "dateStarted": "Jan 8, 2018 1:40:15 PM",
      "dateFinished": "Jan 8, 2018 1:40:16 PM",
      "status": "FINISHED",
      "progressUpdateIntervalMs": 500
    },
    {
      "text": "import org.apache.spark.ml.{Pipeline, PipelineModel}\nval manualDF \u003d Seq(\n  (\"Big things come in small packages...\", \"Let me start of saying that I didn\u0027t purchase this iPod on amazon, but I got it around 2 months ago at an Apple Store. Let me just say that this iPod is more than great, it is truly something amazing. With the most memory out of all other iPods and for its size, let me just say that big things can sometimes come in small packages. Now for the main review...\u003d\u003d\u003d\u003d Storage \u003d\u003d\u003d\u003dWith 160 GB of Storage, this its self should be a very good reason to get this iPod. It has a lot of memory! To give you an idea of how much 160 GB is, its 80 times as much as Apple\u0027s iPod Shuffle. All of that memory on to this small device. With 160 GB of memory you can have approximately 40,000 songs or 200 hours of video or 25,000 photos... That is a lot of memory! I have only used about 15 GB on my iPod and I can\u0027t really see me using up the entire storage. It is just that big!\u003d\u003d\u003d\u003d Battery Life \u003d\u003d\u003d\u003dWith this iPod you don\u0027t have to worry about having it run out of battery on you. It has an incredible 36 hours of battery life! That\u0027s 26 more hours than Apple\u0027s New iPad! You are going to enjoy having this iPod with that much storage and that much battery life. It\u0027s perfect for those long road trips or when you are going on a plane. It\u0027s small, convenient, tons of storage, and a very long lasting battery.\u003d\u003d\u003d\u003d The Display \u003d\u003d\u003d\u003dThe display has a size of 2.5 inches. It\u0027s great for navigation through the iPod to find different songs, movies, or see slideshows of photos that you can transfer onto it. I personally find the screen being O.K., but other people say that it can be kind of small to watch movies and videos. considering the storage and the battery life I don\u0027t have a problem with the screen size. It is still great for watching movies whenever I get the urge to do so. As for finding specific songs or albums, the wheel makes it easy to do it. You can separate your music by albums, genre, etc. It makes it easy to find the music that you want to listen to. Most of the time though, I leave mine on shuffle. Shuffle generates random songs for a different choice of music.\u003d\u003d\u003d\u003d Genius \u003d\u003d\u003d\u003dIf you have tons of songs on your iPod then Genius is going to come in handy. If you really like the song that you are listening to, simply turn Genius on and it will find other similar songs on the iPod to the one that you are listening to. You can also create Genius Mixes that you can listen to in the future.\u003d\u003d\u003d\u003d Durability \u003d\u003d\u003d\u003dThe iPod is very sturdy and it looks very strong. This iPod has fallen about twice and it hit straight concrete from about 4 feet and it survived. It did get a couple of scratches, but everything still works perfectly. Unlike the iPod Touch this iPod is definitely stronger and it will sustain more damage. I am not saying to go drop your iPod everywhere you go. I am just saying this is more durable than iPods that have a fragile screen/body.Overall: This is a really great iPod that is not that expensive considering what you get out of it. I recommend this iPod for all those people that really love music and movies. You will no longer have to leave out your music because it will all fit on this iPod\u0027s storage! I rate this iPod 5 stars out of 5 stars!I hope this review helped you out!\"),\n  (\"This is a short summary\",\"This product sucks\"),\n  (\"This is a good product\",\"I liked this product very much. I imagine nothing shy of nuclear war could dent this thing. A small boost of the first two sliders gave my amp more bottom-end than it could ever manage on its own.\")\n).toDF(\"summary\", \"reviewText\")\nvar fullReviewDF \u003d manualDF.withColumn(\"fullReview\", concat(manualDF(\"summary\"), lit(\" \"), manualDF(\"reviewText\")))\nvar preTrainedModel \u003d PipelineModel.read.load(\"wasb://trained-model@precocityquboleout.blob.core.windows.net/cvModelUniAndBi\")\nvar predictionManual \u003d preTrainedModel.transform(fullReviewDF)\npredictionManual \u003d predictionManual.withColumn(\"predScore\",getPOne($\"probability\"))\npredictionManual.select(\"summary\",\"predScore\").show()",
      "user": "davidgillen@precocityllc.com",
      "dateUpdated": "Jan 8, 2018 1:45:46 PM",
      "config": {
        "colWidth": 12.0,
        "graph": {
          "mode": "table",
          "height": 300.0,
          "optionOpen": false,
          "keys": [],
          "values": [],
          "groups": [],
          "scatter": {}
        },
        "enabled": true,
        "editorMode": "ace/mode/scala"
      },
      "settings": {
        "params": {},
        "forms": {}
      },
      "paragraphProgress": {
        "jobs": [
          {
            "id": 805,
            "jobUrl": "https://azure.qubole.com/cluster-proxy?encodedUrl\u003dhttp%3A%2F%2F10.0.0.4%3A8088%2Fproxy%2Fapplication_1515416833021_0001/jobs/job?spark\u003dtrue\u0026id\u003d805",
            "numTasks": 1,
            "numCompletedTasks": 1,
            "stages": [
              {
                "id": 1546,
                "completed": true,
                "stageUrl": "https://azure.qubole.com/cluster-proxy?encodedUrl\u003dhttp%3A%2F%2F10.0.0.4%3A8088%2Fproxy%2Fapplication_1515416833021_0001/stages/stage/?id\u003d1546\u0026attempt\u003d0",
                "numCompleteTasks": 1,
                "numActiveTasks": 0,
                "numFailedTasks": 0,
                "numTotalTasks": 1
              }
            ],
            "status": "Success"
          },
          {
            "id": 806,
            "jobUrl": "https://azure.qubole.com/cluster-proxy?encodedUrl\u003dhttp%3A%2F%2F10.0.0.4%3A8088%2Fproxy%2Fapplication_1515416833021_0001/jobs/job?spark\u003dtrue\u0026id\u003d806",
            "numTasks": 1,
            "numCompletedTasks": 1,
            "stages": [
              {
                "id": 1547,
                "completed": true,
                "stageUrl": "https://azure.qubole.com/cluster-proxy?encodedUrl\u003dhttp%3A%2F%2F10.0.0.4%3A8088%2Fproxy%2Fapplication_1515416833021_0001/stages/stage/?id\u003d1547\u0026attempt\u003d0",
                "numCompleteTasks": 1,
                "numActiveTasks": 0,
                "numFailedTasks": 0,
                "numTotalTasks": 1
              }
            ],
            "status": "Success"
          },
          {
            "id": 807,
            "jobUrl": "https://azure.qubole.com/cluster-proxy?encodedUrl\u003dhttp%3A%2F%2F10.0.0.4%3A8088%2Fproxy%2Fapplication_1515416833021_0001/jobs/job?spark\u003dtrue\u0026id\u003d807",
            "numTasks": 1,
            "numCompletedTasks": 1,
            "stages": [
              {
                "id": 1548,
                "completed": true,
                "stageUrl": "https://azure.qubole.com/cluster-proxy?encodedUrl\u003dhttp%3A%2F%2F10.0.0.4%3A8088%2Fproxy%2Fapplication_1515416833021_0001/stages/stage/?id\u003d1548\u0026attempt\u003d0",
                "numCompleteTasks": 1,
                "numActiveTasks": 0,
                "numFailedTasks": 0,
                "numTotalTasks": 1
              }
            ],
            "status": "Success"
          },
          {
            "id": 808,
            "jobUrl": "https://azure.qubole.com/cluster-proxy?encodedUrl\u003dhttp%3A%2F%2F10.0.0.4%3A8088%2Fproxy%2Fapplication_1515416833021_0001/jobs/job?spark\u003dtrue\u0026id\u003d808",
            "numTasks": 1,
            "numCompletedTasks": 1,
            "stages": [
              {
                "id": 1549,
                "completed": true,
                "stageUrl": "https://azure.qubole.com/cluster-proxy?encodedUrl\u003dhttp%3A%2F%2F10.0.0.4%3A8088%2Fproxy%2Fapplication_1515416833021_0001/stages/stage/?id\u003d1549\u0026attempt\u003d0",
                "numCompleteTasks": 1,
                "numActiveTasks": 0,
                "numFailedTasks": 0,
                "numTotalTasks": 1
              }
            ],
            "status": "Success"
          },
          {
            "id": 809,
            "jobUrl": "https://azure.qubole.com/cluster-proxy?encodedUrl\u003dhttp%3A%2F%2F10.0.0.4%3A8088%2Fproxy%2Fapplication_1515416833021_0001/jobs/job?spark\u003dtrue\u0026id\u003d809",
            "numTasks": 1,
            "numCompletedTasks": 1,
            "stages": [
              {
                "id": 1550,
                "completed": true,
                "stageUrl": "https://azure.qubole.com/cluster-proxy?encodedUrl\u003dhttp%3A%2F%2F10.0.0.4%3A8088%2Fproxy%2Fapplication_1515416833021_0001/stages/stage/?id\u003d1550\u0026attempt\u003d0",
                "numCompleteTasks": 1,
                "numActiveTasks": 0,
                "numFailedTasks": 0,
                "numTotalTasks": 1
              }
            ],
            "status": "Success"
          },
          {
            "id": 810,
            "jobUrl": "https://azure.qubole.com/cluster-proxy?encodedUrl\u003dhttp%3A%2F%2F10.0.0.4%3A8088%2Fproxy%2Fapplication_1515416833021_0001/jobs/job?spark\u003dtrue\u0026id\u003d810",
            "numTasks": 1,
            "numCompletedTasks": 1,
            "stages": [
              {
                "id": 1551,
                "completed": true,
                "stageUrl": "https://azure.qubole.com/cluster-proxy?encodedUrl\u003dhttp%3A%2F%2F10.0.0.4%3A8088%2Fproxy%2Fapplication_1515416833021_0001/stages/stage/?id\u003d1551\u0026attempt\u003d0",
                "numCompleteTasks": 1,
                "numActiveTasks": 0,
                "numFailedTasks": 0,
                "numTotalTasks": 1
              }
            ],
            "status": "Success"
          },
          {
            "id": 811,
            "jobUrl": "https://azure.qubole.com/cluster-proxy?encodedUrl\u003dhttp%3A%2F%2F10.0.0.4%3A8088%2Fproxy%2Fapplication_1515416833021_0001/jobs/job?spark\u003dtrue\u0026id\u003d811",
            "numTasks": 1,
            "numCompletedTasks": 1,
            "stages": [
              {
                "id": 1552,
                "completed": true,
                "stageUrl": "https://azure.qubole.com/cluster-proxy?encodedUrl\u003dhttp%3A%2F%2F10.0.0.4%3A8088%2Fproxy%2Fapplication_1515416833021_0001/stages/stage/?id\u003d1552\u0026attempt\u003d0",
                "numCompleteTasks": 1,
                "numActiveTasks": 0,
                "numFailedTasks": 0,
                "numTotalTasks": 1
              }
            ],
            "status": "Success"
          },
          {
            "id": 812,
            "jobUrl": "https://azure.qubole.com/cluster-proxy?encodedUrl\u003dhttp%3A%2F%2F10.0.0.4%3A8088%2Fproxy%2Fapplication_1515416833021_0001/jobs/job?spark\u003dtrue\u0026id\u003d812",
            "numTasks": 1,
            "numCompletedTasks": 1,
            "stages": [
              {
                "id": 1553,
                "completed": true,
                "stageUrl": "https://azure.qubole.com/cluster-proxy?encodedUrl\u003dhttp%3A%2F%2F10.0.0.4%3A8088%2Fproxy%2Fapplication_1515416833021_0001/stages/stage/?id\u003d1553\u0026attempt\u003d0",
                "numCompleteTasks": 1,
                "numActiveTasks": 0,
                "numFailedTasks": 0,
                "numTotalTasks": 1
              }
            ],
            "status": "Success"
          },
          {
            "id": 813,
            "jobUrl": "https://azure.qubole.com/cluster-proxy?encodedUrl\u003dhttp%3A%2F%2F10.0.0.4%3A8088%2Fproxy%2Fapplication_1515416833021_0001/jobs/job?spark\u003dtrue\u0026id\u003d813",
            "numTasks": 1,
            "numCompletedTasks": 1,
            "stages": [
              {
                "id": 1554,
                "completed": true,
                "stageUrl": "https://azure.qubole.com/cluster-proxy?encodedUrl\u003dhttp%3A%2F%2F10.0.0.4%3A8088%2Fproxy%2Fapplication_1515416833021_0001/stages/stage/?id\u003d1554\u0026attempt\u003d0",
                "numCompleteTasks": 1,
                "numActiveTasks": 0,
                "numFailedTasks": 0,
                "numTotalTasks": 1
              }
            ],
            "status": "Success"
          },
          {
            "id": 814,
            "jobUrl": "https://azure.qubole.com/cluster-proxy?encodedUrl\u003dhttp%3A%2F%2F10.0.0.4%3A8088%2Fproxy%2Fapplication_1515416833021_0001/jobs/job?spark\u003dtrue\u0026id\u003d814",
            "numTasks": 1,
            "numCompletedTasks": 1,
            "stages": [
              {
                "id": 1555,
                "completed": true,
                "stageUrl": "https://azure.qubole.com/cluster-proxy?encodedUrl\u003dhttp%3A%2F%2F10.0.0.4%3A8088%2Fproxy%2Fapplication_1515416833021_0001/stages/stage/?id\u003d1555\u0026attempt\u003d0",
                "numCompleteTasks": 1,
                "numActiveTasks": 0,
                "numFailedTasks": 0,
                "numTotalTasks": 1
              }
            ],
            "status": "Success"
          },
          {
            "id": 815,
            "jobUrl": "https://azure.qubole.com/cluster-proxy?encodedUrl\u003dhttp%3A%2F%2F10.0.0.4%3A8088%2Fproxy%2Fapplication_1515416833021_0001/jobs/job?spark\u003dtrue\u0026id\u003d815",
            "numTasks": 1,
            "numCompletedTasks": 1,
            "stages": [
              {
                "id": 1556,
                "completed": true,
                "stageUrl": "https://azure.qubole.com/cluster-proxy?encodedUrl\u003dhttp%3A%2F%2F10.0.0.4%3A8088%2Fproxy%2Fapplication_1515416833021_0001/stages/stage/?id\u003d1556\u0026attempt\u003d0",
                "numCompleteTasks": 1,
                "numActiveTasks": 0,
                "numFailedTasks": 0,
                "numTotalTasks": 1
              }
            ],
            "status": "Success"
          },
          {
            "id": 816,
            "jobUrl": "https://azure.qubole.com/cluster-proxy?encodedUrl\u003dhttp%3A%2F%2F10.0.0.4%3A8088%2Fproxy%2Fapplication_1515416833021_0001/jobs/job?spark\u003dtrue\u0026id\u003d816",
            "numTasks": 1,
            "numCompletedTasks": 1,
            "stages": [
              {
                "id": 1557,
                "completed": true,
                "stageUrl": "https://azure.qubole.com/cluster-proxy?encodedUrl\u003dhttp%3A%2F%2F10.0.0.4%3A8088%2Fproxy%2Fapplication_1515416833021_0001/stages/stage/?id\u003d1557\u0026attempt\u003d0",
                "numCompleteTasks": 1,
                "numActiveTasks": 0,
                "numFailedTasks": 0,
                "numTotalTasks": 1
              }
            ],
            "status": "Success"
          },
          {
            "id": 817,
            "jobUrl": "https://azure.qubole.com/cluster-proxy?encodedUrl\u003dhttp%3A%2F%2F10.0.0.4%3A8088%2Fproxy%2Fapplication_1515416833021_0001/jobs/job?spark\u003dtrue\u0026id\u003d817",
            "numTasks": 1,
            "numCompletedTasks": 1,
            "stages": [
              {
                "id": 1558,
                "completed": true,
                "stageUrl": "https://azure.qubole.com/cluster-proxy?encodedUrl\u003dhttp%3A%2F%2F10.0.0.4%3A8088%2Fproxy%2Fapplication_1515416833021_0001/stages/stage/?id\u003d1558\u0026attempt\u003d0",
                "numCompleteTasks": 1,
                "numActiveTasks": 0,
                "numFailedTasks": 0,
                "numTotalTasks": 1
              }
            ],
            "status": "Success"
          },
          {
            "id": 818,
            "jobUrl": "https://azure.qubole.com/cluster-proxy?encodedUrl\u003dhttp%3A%2F%2F10.0.0.4%3A8088%2Fproxy%2Fapplication_1515416833021_0001/jobs/job?spark\u003dtrue\u0026id\u003d818",
            "numTasks": 1,
            "numCompletedTasks": 1,
            "stages": [
              {
                "id": 1559,
                "completed": true,
                "stageUrl": "https://azure.qubole.com/cluster-proxy?encodedUrl\u003dhttp%3A%2F%2F10.0.0.4%3A8088%2Fproxy%2Fapplication_1515416833021_0001/stages/stage/?id\u003d1559\u0026attempt\u003d0",
                "numCompleteTasks": 1,
                "numActiveTasks": 0,
                "numFailedTasks": 0,
                "numTotalTasks": 1
              }
            ],
            "status": "Success"
          },
          {
            "id": 819,
            "jobUrl": "https://azure.qubole.com/cluster-proxy?encodedUrl\u003dhttp%3A%2F%2F10.0.0.4%3A8088%2Fproxy%2Fapplication_1515416833021_0001/jobs/job?spark\u003dtrue\u0026id\u003d819",
            "numTasks": 1,
            "numCompletedTasks": 1,
            "stages": [
              {
                "id": 1560,
                "completed": true,
                "stageUrl": "https://azure.qubole.com/cluster-proxy?encodedUrl\u003dhttp%3A%2F%2F10.0.0.4%3A8088%2Fproxy%2Fapplication_1515416833021_0001/stages/stage/?id\u003d1560\u0026attempt\u003d0",
                "numCompleteTasks": 1,
                "numActiveTasks": 0,
                "numFailedTasks": 0,
                "numTotalTasks": 1
              }
            ],
            "status": "Success"
          },
          {
            "id": 820,
            "jobUrl": "https://azure.qubole.com/cluster-proxy?encodedUrl\u003dhttp%3A%2F%2F10.0.0.4%3A8088%2Fproxy%2Fapplication_1515416833021_0001/jobs/job?spark\u003dtrue\u0026id\u003d820",
            "numTasks": 1,
            "numCompletedTasks": 1,
            "stages": [
              {
                "id": 1561,
                "completed": true,
                "stageUrl": "https://azure.qubole.com/cluster-proxy?encodedUrl\u003dhttp%3A%2F%2F10.0.0.4%3A8088%2Fproxy%2Fapplication_1515416833021_0001/stages/stage/?id\u003d1561\u0026attempt\u003d0",
                "numCompleteTasks": 1,
                "numActiveTasks": 0,
                "numFailedTasks": 0,
                "numTotalTasks": 1
              }
            ],
            "status": "Success"
          },
          {
            "id": 821,
            "jobUrl": "https://azure.qubole.com/cluster-proxy?encodedUrl\u003dhttp%3A%2F%2F10.0.0.4%3A8088%2Fproxy%2Fapplication_1515416833021_0001/jobs/job?spark\u003dtrue\u0026id\u003d821",
            "numTasks": 1,
            "numCompletedTasks": 1,
            "stages": [
              {
                "id": 1562,
                "completed": true,
                "stageUrl": "https://azure.qubole.com/cluster-proxy?encodedUrl\u003dhttp%3A%2F%2F10.0.0.4%3A8088%2Fproxy%2Fapplication_1515416833021_0001/stages/stage/?id\u003d1562\u0026attempt\u003d0",
                "numCompleteTasks": 1,
                "numActiveTasks": 0,
                "numFailedTasks": 0,
                "numTotalTasks": 1
              }
            ],
            "status": "Success"
          },
          {
            "id": 822,
            "jobUrl": "https://azure.qubole.com/cluster-proxy?encodedUrl\u003dhttp%3A%2F%2F10.0.0.4%3A8088%2Fproxy%2Fapplication_1515416833021_0001/jobs/job?spark\u003dtrue\u0026id\u003d822",
            "numTasks": 1,
            "numCompletedTasks": 1,
            "stages": [
              {
                "id": 1563,
                "completed": true,
                "stageUrl": "https://azure.qubole.com/cluster-proxy?encodedUrl\u003dhttp%3A%2F%2F10.0.0.4%3A8088%2Fproxy%2Fapplication_1515416833021_0001/stages/stage/?id\u003d1563\u0026attempt\u003d0",
                "numCompleteTasks": 1,
                "numActiveTasks": 0,
                "numFailedTasks": 0,
                "numTotalTasks": 1
              }
            ],
            "status": "Success"
          },
          {
            "id": 823,
            "jobUrl": "https://azure.qubole.com/cluster-proxy?encodedUrl\u003dhttp%3A%2F%2F10.0.0.4%3A8088%2Fproxy%2Fapplication_1515416833021_0001/jobs/job?spark\u003dtrue\u0026id\u003d823",
            "numTasks": 1,
            "numCompletedTasks": 1,
            "stages": [
              {
                "id": 1564,
                "completed": true,
                "stageUrl": "https://azure.qubole.com/cluster-proxy?encodedUrl\u003dhttp%3A%2F%2F10.0.0.4%3A8088%2Fproxy%2Fapplication_1515416833021_0001/stages/stage/?id\u003d1564\u0026attempt\u003d0",
                "numCompleteTasks": 1,
                "numActiveTasks": 0,
                "numFailedTasks": 0,
                "numTotalTasks": 1
              }
            ],
            "status": "Success"
          },
          {
            "id": 824,
            "jobUrl": "https://azure.qubole.com/cluster-proxy?encodedUrl\u003dhttp%3A%2F%2F10.0.0.4%3A8088%2Fproxy%2Fapplication_1515416833021_0001/jobs/job?spark\u003dtrue\u0026id\u003d824",
            "numTasks": 1,
            "numCompletedTasks": 1,
            "stages": [
              {
                "id": 1565,
                "completed": true,
                "stageUrl": "https://azure.qubole.com/cluster-proxy?encodedUrl\u003dhttp%3A%2F%2F10.0.0.4%3A8088%2Fproxy%2Fapplication_1515416833021_0001/stages/stage/?id\u003d1565\u0026attempt\u003d0",
                "numCompleteTasks": 1,
                "numActiveTasks": 0,
                "numFailedTasks": 0,
                "numTotalTasks": 1
              }
            ],
            "status": "Success"
          },
          {
            "id": 825,
            "jobUrl": "https://azure.qubole.com/cluster-proxy?encodedUrl\u003dhttp%3A%2F%2F10.0.0.4%3A8088%2Fproxy%2Fapplication_1515416833021_0001/jobs/job?spark\u003dtrue\u0026id\u003d825",
            "numTasks": 1,
            "numCompletedTasks": 1,
            "stages": [
              {
                "id": 1566,
                "completed": true,
                "stageUrl": "https://azure.qubole.com/cluster-proxy?encodedUrl\u003dhttp%3A%2F%2F10.0.0.4%3A8088%2Fproxy%2Fapplication_1515416833021_0001/stages/stage/?id\u003d1566\u0026attempt\u003d0",
                "numCompleteTasks": 1,
                "numActiveTasks": 0,
                "numFailedTasks": 0,
                "numTotalTasks": 1
              }
            ],
            "status": "Success"
          }
        ],
        "numCompletedTasks": 21,
        "numTasks": 21,
        "truncated": false
      },
      "jobName": "paragraph_1515418881299_-2062750968",
      "id": "20180108-134121_607125360_q_8YVGJMASEQ1515692831",
      "result": {
        "code": "SUCCESS",
        "type": "TEXT",
        "msg": "\nimport org.apache.spark.ml.{Pipeline, PipelineModel}\n\nmanualDF: org.apache.spark.sql.DataFrame \u003d [summary: string, reviewText: string]\n\nfullReviewDF: org.apache.spark.sql.DataFrame \u003d [summary: string, reviewText: string ... 1 more field]\n\npreTrainedModel: org.apache.spark.ml.PipelineModel \u003d pipeline_c245828bd2c0\n\npredictionManual: org.apache.spark.sql.DataFrame \u003d [summary: string, reviewText: string ... 11 more fields]\n\npredictionManual: org.apache.spark.sql.DataFrame \u003d [summary: string, reviewText: string ... 12 more fields]\n+--------------------+--------------------+\n|             summary|           predScore|\n+--------------------+--------------------+\n|Big things come i...|                 1.0|\n|This is a short s...|    0.99373261666692|\n|This is a good pr...|4.105252919671828...|\n+--------------------+--------------------+\n\n"
      },
      "dateCreated": "Jan 8, 2018 1:41:21 PM",
      "dateStarted": "Jan 8, 2018 1:45:46 PM",
      "dateFinished": "Jan 8, 2018 1:45:53 PM",
      "status": "FINISHED",
      "progressUpdateIntervalMs": 500
    },
    {
      "text": "import org.apache.spark.ml.{Pipeline, PipelineModel}\nval bestPipelineModel \u003d cvModel.bestModel.asInstanceOf[PipelineModel]\nbestPipelineModel.save(\"wasb://trained-model@precocityquboleout.blob.core.windows.net/cvModelUniAndBi\")",
      "user": "davidgillen@precocityllc.com",
      "dateUpdated": "Jan 4, 2018 6:08:32 PM",
      "config": {
        "colWidth": 12.0,
        "graph": {
          "mode": "table",
          "height": 300.0,
          "optionOpen": false,
          "keys": [],
          "values": [],
          "groups": [],
          "scatter": {}
        },
        "enabled": true,
        "editorMode": "ace/mode/scala"
      },
      "settings": {
        "params": {},
        "forms": {}
      },
      "paragraphProgress": {
        "jobs": [
          {
            "id": 936,
            "jobUrl": "https://azure.qubole.com/cluster-proxy?encodedUrl\u003dhttp%3A%2F%2F10.0.0.4%3A8088%2Fproxy%2Fapplication_1515077698350_0002/jobs/job?spark\u003dtrue\u0026id\u003d936",
            "numTasks": 1,
            "numCompletedTasks": 1,
            "stages": [
              {
                "id": 1838,
                "completed": true,
                "stageUrl": "https://azure.qubole.com/cluster-proxy?encodedUrl\u003dhttp%3A%2F%2F10.0.0.4%3A8088%2Fproxy%2Fapplication_1515077698350_0002/stages/stage/?id\u003d1838\u0026attempt\u003d0",
                "numCompleteTasks": 1,
                "numActiveTasks": 0,
                "numFailedTasks": 0,
                "numTotalTasks": 1
              }
            ],
            "status": "Success"
          },
          {
            "id": 937,
            "jobUrl": "https://azure.qubole.com/cluster-proxy?encodedUrl\u003dhttp%3A%2F%2F10.0.0.4%3A8088%2Fproxy%2Fapplication_1515077698350_0002/jobs/job?spark\u003dtrue\u0026id\u003d937",
            "numTasks": 1,
            "numCompletedTasks": 1,
            "stages": [
              {
                "id": 1839,
                "completed": true,
                "stageUrl": "https://azure.qubole.com/cluster-proxy?encodedUrl\u003dhttp%3A%2F%2F10.0.0.4%3A8088%2Fproxy%2Fapplication_1515077698350_0002/stages/stage/?id\u003d1839\u0026attempt\u003d0",
                "numCompleteTasks": 1,
                "numActiveTasks": 0,
                "numFailedTasks": 0,
                "numTotalTasks": 1
              }
            ],
            "status": "Success"
          },
          {
            "id": 938,
            "jobUrl": "https://azure.qubole.com/cluster-proxy?encodedUrl\u003dhttp%3A%2F%2F10.0.0.4%3A8088%2Fproxy%2Fapplication_1515077698350_0002/jobs/job?spark\u003dtrue\u0026id\u003d938",
            "numTasks": 1,
            "numCompletedTasks": 1,
            "stages": [
              {
                "id": 1840,
                "completed": true,
                "stageUrl": "https://azure.qubole.com/cluster-proxy?encodedUrl\u003dhttp%3A%2F%2F10.0.0.4%3A8088%2Fproxy%2Fapplication_1515077698350_0002/stages/stage/?id\u003d1840\u0026attempt\u003d0",
                "numCompleteTasks": 1,
                "numActiveTasks": 0,
                "numFailedTasks": 0,
                "numTotalTasks": 1
              }
            ],
            "status": "Success"
          },
          {
            "id": 939,
            "jobUrl": "https://azure.qubole.com/cluster-proxy?encodedUrl\u003dhttp%3A%2F%2F10.0.0.4%3A8088%2Fproxy%2Fapplication_1515077698350_0002/jobs/job?spark\u003dtrue\u0026id\u003d939",
            "numTasks": 1,
            "numCompletedTasks": 1,
            "stages": [
              {
                "id": 1841,
                "completed": true,
                "stageUrl": "https://azure.qubole.com/cluster-proxy?encodedUrl\u003dhttp%3A%2F%2F10.0.0.4%3A8088%2Fproxy%2Fapplication_1515077698350_0002/stages/stage/?id\u003d1841\u0026attempt\u003d0",
                "numCompleteTasks": 1,
                "numActiveTasks": 0,
                "numFailedTasks": 0,
                "numTotalTasks": 1
              }
            ],
            "status": "Success"
          },
          {
            "id": 940,
            "jobUrl": "https://azure.qubole.com/cluster-proxy?encodedUrl\u003dhttp%3A%2F%2F10.0.0.4%3A8088%2Fproxy%2Fapplication_1515077698350_0002/jobs/job?spark\u003dtrue\u0026id\u003d940",
            "numTasks": 1,
            "numCompletedTasks": 1,
            "stages": [
              {
                "id": 1842,
                "completed": true,
                "stageUrl": "https://azure.qubole.com/cluster-proxy?encodedUrl\u003dhttp%3A%2F%2F10.0.0.4%3A8088%2Fproxy%2Fapplication_1515077698350_0002/stages/stage/?id\u003d1842\u0026attempt\u003d0",
                "numCompleteTasks": 1,
                "numActiveTasks": 0,
                "numFailedTasks": 0,
                "numTotalTasks": 1
              }
            ],
            "status": "Success"
          },
          {
            "id": 941,
            "jobUrl": "https://azure.qubole.com/cluster-proxy?encodedUrl\u003dhttp%3A%2F%2F10.0.0.4%3A8088%2Fproxy%2Fapplication_1515077698350_0002/jobs/job?spark\u003dtrue\u0026id\u003d941",
            "numTasks": 1,
            "numCompletedTasks": 1,
            "stages": [
              {
                "id": 1843,
                "completed": true,
                "stageUrl": "https://azure.qubole.com/cluster-proxy?encodedUrl\u003dhttp%3A%2F%2F10.0.0.4%3A8088%2Fproxy%2Fapplication_1515077698350_0002/stages/stage/?id\u003d1843\u0026attempt\u003d0",
                "numCompleteTasks": 1,
                "numActiveTasks": 0,
                "numFailedTasks": 0,
                "numTotalTasks": 1
              }
            ],
            "status": "Success"
          },
          {
            "id": 942,
            "jobUrl": "https://azure.qubole.com/cluster-proxy?encodedUrl\u003dhttp%3A%2F%2F10.0.0.4%3A8088%2Fproxy%2Fapplication_1515077698350_0002/jobs/job?spark\u003dtrue\u0026id\u003d942",
            "numTasks": 1,
            "numCompletedTasks": 1,
            "stages": [
              {
                "id": 1844,
                "completed": true,
                "stageUrl": "https://azure.qubole.com/cluster-proxy?encodedUrl\u003dhttp%3A%2F%2F10.0.0.4%3A8088%2Fproxy%2Fapplication_1515077698350_0002/stages/stage/?id\u003d1844\u0026attempt\u003d0",
                "numCompleteTasks": 1,
                "numActiveTasks": 0,
                "numFailedTasks": 0,
                "numTotalTasks": 1
              }
            ],
            "status": "Success"
          },
          {
            "id": 943,
            "jobUrl": "https://azure.qubole.com/cluster-proxy?encodedUrl\u003dhttp%3A%2F%2F10.0.0.4%3A8088%2Fproxy%2Fapplication_1515077698350_0002/jobs/job?spark\u003dtrue\u0026id\u003d943",
            "numTasks": 1,
            "numCompletedTasks": 1,
            "stages": [
              {
                "id": 1845,
                "completed": true,
                "stageUrl": "https://azure.qubole.com/cluster-proxy?encodedUrl\u003dhttp%3A%2F%2F10.0.0.4%3A8088%2Fproxy%2Fapplication_1515077698350_0002/stages/stage/?id\u003d1845\u0026attempt\u003d0",
                "numCompleteTasks": 1,
                "numActiveTasks": 0,
                "numFailedTasks": 0,
                "numTotalTasks": 1
              }
            ],
            "status": "Success"
          },
          {
            "id": 944,
            "jobUrl": "https://azure.qubole.com/cluster-proxy?encodedUrl\u003dhttp%3A%2F%2F10.0.0.4%3A8088%2Fproxy%2Fapplication_1515077698350_0002/jobs/job?spark\u003dtrue\u0026id\u003d944",
            "numTasks": 2,
            "numCompletedTasks": 2,
            "stages": [
              {
                "id": 1846,
                "completed": true,
                "stageUrl": "https://azure.qubole.com/cluster-proxy?encodedUrl\u003dhttp%3A%2F%2F10.0.0.4%3A8088%2Fproxy%2Fapplication_1515077698350_0002/stages/stage/?id\u003d1846\u0026attempt\u003d0",
                "numCompleteTasks": 1,
                "numActiveTasks": 0,
                "numFailedTasks": 0,
                "numTotalTasks": 1
              },
              {
                "id": 1847,
                "completed": true,
                "stageUrl": "https://azure.qubole.com/cluster-proxy?encodedUrl\u003dhttp%3A%2F%2F10.0.0.4%3A8088%2Fproxy%2Fapplication_1515077698350_0002/stages/stage/?id\u003d1847\u0026attempt\u003d0",
                "numCompleteTasks": 1,
                "numActiveTasks": 0,
                "numFailedTasks": 0,
                "numTotalTasks": 1
              }
            ],
            "status": "Success"
          },
          {
            "id": 945,
            "jobUrl": "https://azure.qubole.com/cluster-proxy?encodedUrl\u003dhttp%3A%2F%2F10.0.0.4%3A8088%2Fproxy%2Fapplication_1515077698350_0002/jobs/job?spark\u003dtrue\u0026id\u003d945",
            "numTasks": 1,
            "numCompletedTasks": 1,
            "stages": [
              {
                "id": 1848,
                "completed": true,
                "stageUrl": "https://azure.qubole.com/cluster-proxy?encodedUrl\u003dhttp%3A%2F%2F10.0.0.4%3A8088%2Fproxy%2Fapplication_1515077698350_0002/stages/stage/?id\u003d1848\u0026attempt\u003d0",
                "numCompleteTasks": 1,
                "numActiveTasks": 0,
                "numFailedTasks": 0,
                "numTotalTasks": 1
              }
            ],
            "status": "Success"
          },
          {
            "id": 946,
            "jobUrl": "https://azure.qubole.com/cluster-proxy?encodedUrl\u003dhttp%3A%2F%2F10.0.0.4%3A8088%2Fproxy%2Fapplication_1515077698350_0002/jobs/job?spark\u003dtrue\u0026id\u003d946",
            "numTasks": 2,
            "numCompletedTasks": 2,
            "stages": [
              {
                "id": 1849,
                "completed": true,
                "stageUrl": "https://azure.qubole.com/cluster-proxy?encodedUrl\u003dhttp%3A%2F%2F10.0.0.4%3A8088%2Fproxy%2Fapplication_1515077698350_0002/stages/stage/?id\u003d1849\u0026attempt\u003d0",
                "numCompleteTasks": 1,
                "numActiveTasks": 0,
                "numFailedTasks": 0,
                "numTotalTasks": 1
              },
              {
                "id": 1850,
                "completed": true,
                "stageUrl": "https://azure.qubole.com/cluster-proxy?encodedUrl\u003dhttp%3A%2F%2F10.0.0.4%3A8088%2Fproxy%2Fapplication_1515077698350_0002/stages/stage/?id\u003d1850\u0026attempt\u003d0",
                "numCompleteTasks": 1,
                "numActiveTasks": 0,
                "numFailedTasks": 0,
                "numTotalTasks": 1
              }
            ],
            "status": "Success"
          }
        ],
        "numCompletedTasks": 13,
        "numTasks": 13,
        "truncated": false
      },
      "jobName": "paragraph_1514931654431_-924039917",
      "id": "20180102-222054_555150273_q_8YVGJMASEQ1515692831",
      "result": {
        "code": "SUCCESS",
        "type": "TEXT",
        "msg": "\nimport org.apache.spark.ml.{Pipeline, PipelineModel}\n\nbestPipelineModel: org.apache.spark.ml.PipelineModel \u003d pipeline_c245828bd2c0\n"
      },
      "dateCreated": "Jan 2, 2018 10:20:54 PM",
      "dateStarted": "Jan 4, 2018 6:08:33 PM",
      "dateFinished": "Jan 4, 2018 6:08:53 PM",
      "status": "FINISHED",
      "progressUpdateIntervalMs": 500
    },
    {
      "text": "cvModel.save(\"wasb://trained-model@precocityquboleout.blob.core.windows.net/cvModelAsPipeline\")",
      "user": "davidgillen@precocityllc.com",
      "dateUpdated": "Jan 2, 2018 10:19:45 PM",
      "config": {
        "colWidth": 12.0,
        "graph": {
          "mode": "table",
          "height": 300.0,
          "optionOpen": false,
          "keys": [],
          "values": [],
          "groups": [],
          "scatter": {}
        },
        "enabled": true,
        "editorMode": "ace/mode/scala"
      },
      "settings": {
        "params": {},
        "forms": {}
      },
      "paragraphProgress": {
        "jobs": [],
        "numCompletedTasks": 0,
        "numTasks": 0,
        "truncated": false
      },
      "jobName": "paragraph_1514931572746_-1379136569",
      "id": "20180102-221932_1463336551_q_8YVGJMASEQ1515692831",
      "result": {
        "code": "ERROR",
        "type": "TEXT",
        "msg": "\n\n\n\n\n\n\n\n\n\n\n\n\n\n\n\njava.lang.IllegalArgumentException: requirement failed: ValidatorParams save requires all Params in estimatorParamMaps to apply to this ValidatorParams, its Estimator, or its Evaluator. An extraneous Param was found: logreg_07c641c04b7d__regParam\n  at scala.Predef$.require(Predef.scala:224)\n  at org.apache.spark.ml.tuning.ValidatorParams$$anonfun$validateParams$1$$anonfun$apply$1.apply(ValidatorParams.scala:101)\n  at org.apache.spark.ml.tuning.ValidatorParams$$anonfun$validateParams$1$$anonfun$apply$1.apply(ValidatorParams.scala:100)\n  at scala.collection.mutable.ResizableArray$class.foreach(ResizableArray.scala:59)\n  at scala.collection.mutable.ArrayBuffer.foreach(ArrayBuffer.scala:48)\n  at org.apache.spark.ml.tuning.ValidatorParams$$anonfun$validateParams$1.apply(ValidatorParams.scala:100)\n  at org.apache.spark.ml.tuning.ValidatorParams$$anonfun$validateParams$1.apply(ValidatorParams.scala:99)\n  at scala.collection.IndexedSeqOptimized$class.foreach(IndexedSeqOptimized.scala:33)\n  at scala.collection.mutable.ArrayOps$ofRef.foreach(ArrayOps.scala:186)\n  at org.apache.spark.ml.tuning.ValidatorParams$.validateParams(ValidatorParams.scala:99)\n  at org.apache.spark.ml.tuning.CrossValidatorModel$CrossValidatorModelWriter.\u003cinit\u003e(CrossValidator.scala:251)\n  at org.apache.spark.ml.tuning.CrossValidatorModel.write(CrossValidator.scala:236)\n  at org.apache.spark.ml.util.MLWritable$class.save(ReadWrite.scala:154)\n  at org.apache.spark.ml.tuning.CrossValidatorModel.save(CrossValidator.scala:204)\n  ... 52 elided\n"
      },
      "dateCreated": "Jan 2, 2018 10:19:32 PM",
      "dateStarted": "Jan 2, 2018 10:19:46 PM",
      "dateFinished": "Jan 2, 2018 10:19:46 PM",
      "status": "ERROR",
      "progressUpdateIntervalMs": 500
    },
    {
      "text": "def nlpPreProcessRajivMod(inputDf:DataFrame, sqlContext: SQLContext):DataFrame\u003d {\n    val inputDf2 \u003d inputDf.withColumn(\"fullReview\", concat(inputDf(\"summary\"), lit(\" \"), inputDf(\"reviewText\")))\n    val regexTokenizer \u003d new RegexTokenizer()\n      .setInputCol(\"fullReview\")\n      .setOutputCol(\"fullReviewWords\")\n      .setPattern(\"\\\\W\")\n    val regexTokenized \u003d regexTokenizer.transform(inputDf2)\n    val remover \u003d new StopWordsRemover()\n      .setInputCol(\"fullReviewWords\")\n      .setOutputCol(\"filteredReviewWords\")\n    val cleanDf \u003d remover.transform(regexTokenized)\n    val filterByLengthUDF \u003d sqlContext.udf.register(\"filterByLength\", (x:WrappedArray[String], y:Int) \u003d\u003e x.filter(_.length \u003e\u003d y))\n    cleanDf.createOrReplaceTempView(\"cleanDf\")\n    val cleanDf2 \u003d cleanDf.sqlContext.sql(\"select *, filterByLength(filteredReviewWords, 3) as goodWords from cleanDf\")\n    val unigram \u003d new NGram().setN(1).setInputCol(\"goodWords\").setOutputCol(\"unigrams\")\n    val bigram \u003d new NGram().setN(2).setInputCol(\"goodWords\").setOutputCol(\"bigrams\")\n    val trigram \u003d new NGram().setN(3).setInputCol(\"goodWords\").setOutputCol(\"trigrams\")\n    val unigramDf \u003d unigram.transform(cleanDf2)\n    val bigramDf \u003d bigram.transform(unigramDf)\n    var ngramDf \u003d trigram.transform(bigramDf)\n    val concat2ArraysUDF \u003d udf { (uni: WrappedArray[String],bi:WrappedArray[String]) \u003d\u003e uni ++ bi }\n    ngramDf \u003d ngramDf.withColumn(\"uniAndBi\",concat2ArraysUDF(ngramDf(\"unigrams\"), ngramDf(\"bigrams\")))\n    ngramDf \u003d ngramDf.withColumn(\"allGrams\",concat2ArraysUDF(ngramDf(\"uniAndBi\"), ngramDf(\"trigrams\")))\n    val hashingTF \u003d new HashingTF().setInputCol(\"allGrams\").setOutputCol(\"rawFeatures\").setNumFeatures(300)\n    val featurizedData \u003d hashingTF.transform(ngramDf)\n    val idf \u003d new IDF().setInputCol(\"rawFeatures\").setOutputCol(\"features\")\n    val idfModel \u003d idf.fit(featurizedData)\n    val rescaledData \u003d idfModel.transform(featurizedData)\n    rescaledData.createOrReplaceTempView(\"rescaledData\")\n    //val scoreUDF \u003d sqlContext.udf.register(\"score\", (x:WrappedArray[Long]) \u003d\u003e if(x(1) \u003d\u003d 0) 0 else 1.0*x(0)/(1.0*x(1)))\n    //val scoredDf \u003d sqlContext.sql(\"select features, score(helpful) as score from rescaledData\")\n    //scoredDf.createOrReplaceTempView(\"scoredDf\")\n    val goodDf \u003d sqlContext.sql(\"select features from rescaledData\")\n    //val badDf \u003d sqlContext.sql(\"select features, case when score \u003e 0.2 then 0 else 1 end as label from rescaledData \")\n    goodDf\n  }",
      "user": "davidgillen@precocityllc.com",
      "dateUpdated": "Jan 2, 2018 7:24:58 PM",
      "config": {
        "colWidth": 12.0,
        "graph": {
          "mode": "table",
          "height": 300.0,
          "optionOpen": false,
          "keys": [],
          "values": [],
          "groups": [],
          "scatter": {}
        },
        "enabled": true,
        "editorMode": "ace/mode/scala"
      },
      "settings": {
        "params": {},
        "forms": {}
      },
      "paragraphProgress": {
        "jobs": [],
        "numCompletedTasks": 0,
        "numTasks": 0,
        "truncated": false
      },
      "jobName": "paragraph_1514920766230_-1369162552",
      "id": "20180102-191926_1126819311_q_8YVGJMASEQ1515692831",
      "result": {
        "code": "SUCCESS",
        "type": "TEXT",
        "msg": "\nnlpPreProcessRajivMod: (inputDf: org.apache.spark.sql.DataFrame, sqlContext: org.apache.spark.sql.SQLContext)org.apache.spark.sql.DataFrame\n"
      },
      "dateCreated": "Jan 2, 2018 7:19:26 PM",
      "dateStarted": "Jan 2, 2018 7:24:58 PM",
      "dateFinished": "Jan 2, 2018 7:25:00 PM",
      "status": "FINISHED",
      "progressUpdateIntervalMs": 500
    },
    {
      "text": "def prepForIDF(inputDf:DataFrame, sqlContext: SQLContext):DataFrame\u003d {\n    val inputDf2 \u003d inputDf.withColumn(\"fullReview\", concat(inputDf(\"summary\"), lit(\" \"), inputDf(\"reviewText\")))\n    val regexTokenizer \u003d new RegexTokenizer()\n      .setInputCol(\"fullReview\")\n      .setOutputCol(\"fullReviewWords\")\n      .setPattern(\"\\\\W\")\n    val regexTokenized \u003d regexTokenizer.transform(inputDf2)\n    val remover \u003d new StopWordsRemover()\n      .setInputCol(\"fullReviewWords\")\n      .setOutputCol(\"filteredReviewWords\")\n    val cleanDf \u003d remover.transform(regexTokenized)\n    val filterByLengthUDF \u003d sqlContext.udf.register(\"filterByLength\", (x:WrappedArray[String], y:Int) \u003d\u003e x.filter(_.length \u003e\u003d y))\n    cleanDf.createOrReplaceTempView(\"cleanDf\")\n    val cleanDf2 \u003d cleanDf.sqlContext.sql(\"select *, filterByLength(filteredReviewWords, 3) as goodWords from cleanDf\")\n    val unigram \u003d new NGram().setN(1).setInputCol(\"goodWords\").setOutputCol(\"unigrams\")\n    val bigram \u003d new NGram().setN(2).setInputCol(\"goodWords\").setOutputCol(\"bigrams\")\n    val trigram \u003d new NGram().setN(3).setInputCol(\"goodWords\").setOutputCol(\"trigrams\")\n    val unigramDf \u003d unigram.transform(cleanDf2)\n    val bigramDf \u003d bigram.transform(unigramDf)\n    var ngramDf \u003d trigram.transform(bigramDf)\n    val concat2ArraysUDF \u003d udf { (uni: WrappedArray[String],bi:WrappedArray[String]) \u003d\u003e uni ++ bi }\n    ngramDf \u003d ngramDf.withColumn(\"uniAndBi\",concat2ArraysUDF(ngramDf(\"unigrams\"), ngramDf(\"bigrams\")))\n    ngramDf \u003d ngramDf.withColumn(\"allGrams\",concat2ArraysUDF(ngramDf(\"uniAndBi\"), ngramDf(\"trigrams\")))\n    val hashingTF \u003d new HashingTF().setInputCol(\"allGrams\").setOutputCol(\"rawFeatures\").setNumFeatures(300)\n    val featurizedData \u003d hashingTF.transform(ngramDf)\n    //val idf \u003d new IDF().setInputCol(\"rawFeatures\").setOutputCol(\"features\")\n    //val idfModel \u003d idf.fit(featurizedData)\n    //val rescaledData \u003d idfModel.transform(featurizedData)\n    featurizedData\n  }",
      "user": "davidgillen@precocityllc.com",
      "dateUpdated": "Jan 2, 2018 9:28:10 PM",
      "config": {
        "colWidth": 12.0,
        "graph": {
          "mode": "table",
          "height": 300.0,
          "optionOpen": false,
          "keys": [],
          "values": [],
          "groups": [],
          "scatter": {}
        },
        "enabled": true,
        "editorMode": "ace/mode/scala"
      },
      "settings": {
        "params": {},
        "forms": {}
      },
      "jobName": "paragraph_1514928398793_-1146111720",
      "id": "20180102-212638_1488689735_q_8YVGJMASEQ1515692831",
      "dateCreated": "Jan 2, 2018 9:26:38 PM",
      "status": "READY",
      "progressUpdateIntervalMs": 500
    },
    {
      "config": {},
      "settings": {
        "params": {},
        "forms": {}
      },
      "jobName": "paragraph_1514928397840_-629794020",
      "id": "20180102-212637_1934682021_q_8YVGJMASEQ1515692831",
      "dateCreated": "Jan 2, 2018 9:26:37 PM",
      "status": "READY",
      "progressUpdateIntervalMs": 500
    },
    {
      "text": "val inputDf2 \u003d inputDf.withColumn(\"fullReview\", concat(inputDf(\"summary\"), lit(\" \"), inputDf(\"reviewText\")))\nval regexTokenizer \u003d new RegexTokenizer()\n  .setInputCol(\"fullReview\")\n  .setOutputCol(\"fullReviewWords\")\n  .setPattern(\"\\\\W\")\nval regexTokenized \u003d regexTokenizer.transform(inputDf2)\nval remover \u003d new StopWordsRemover()\n  .setInputCol(\"fullReviewWords\")\n  .setOutputCol(\"filteredReviewWords\")\nval cleanDf \u003d remover.transform(regexTokenized)\nval filterByLengthUDF \u003d sqlContext.udf.register(\"filterByLength\", (x:WrappedArray[String], y:Int) \u003d\u003e x.filter(_.length \u003e\u003d y))\ncleanDf.createOrReplaceTempView(\"cleanDf\")\nval cleanDf2 \u003d cleanDf.sqlContext.sql(\"select *, filterByLength(filteredReviewWords, 3) as goodWords from cleanDf\")\nval unigram \u003d new NGram().setN(1).setInputCol(\"goodWords\").setOutputCol(\"unigrams\")\nval bigram \u003d new NGram().setN(2).setInputCol(\"goodWords\").setOutputCol(\"bigrams\")\nval trigram \u003d new NGram().setN(3).setInputCol(\"goodWords\").setOutputCol(\"trigrams\")\nval unigramDf \u003d unigram.transform(cleanDf2)\nval bigramDf \u003d bigram.transform(unigramDf)\nvar ngramDf \u003d trigram.transform(bigramDf)\nval concat2ArraysUDF \u003d udf { (uni: WrappedArray[String],bi:WrappedArray[String]) \u003d\u003e uni ++ bi }\nngramDf \u003d ngramDf.withColumn(\"uniAndBi\",concat2ArraysUDF(ngramDf(\"unigrams\"), ngramDf(\"bigrams\")))\nngramDf \u003d ngramDf.withColumn(\"allGrams\",concat2ArraysUDF(ngramDf(\"uniAndBi\"), ngramDf(\"trigrams\")))\nval hashingTF \u003d new HashingTF().setInputCol(\"allGrams\").setOutputCol(\"rawFeatures\").setNumFeatures(300)\nval featurizedData \u003d hashingTF.transform(ngramDf)\nval idf \u003d new IDF().setInputCol(\"rawFeatures\").setOutputCol(\"features\")\nval idfModel \u003d idf.fit(featurizedData)\nidfModel.save(\"wasb://trained-model@precocityquboleout.blob.core.windows.net/idfModel\")",
      "user": "davidgillen@precocityllc.com",
      "dateUpdated": "Jan 2, 2018 9:21:32 PM",
      "config": {
        "colWidth": 12.0,
        "graph": {
          "mode": "table",
          "height": 300.0,
          "optionOpen": false,
          "keys": [],
          "values": [],
          "groups": [],
          "scatter": {}
        },
        "enabled": true,
        "editorMode": "ace/mode/scala"
      },
      "settings": {
        "params": {},
        "forms": {}
      },
      "paragraphProgress": {
        "jobs": [
          {
            "id": 116,
            "jobUrl": "https://azure.qubole.com/cluster-proxy?encodedUrl\u003dhttp%3A%2F%2F10.0.0.4%3A8088%2Fproxy%2Fapplication_1514915334805_0001/jobs/job?spark\u003dtrue\u0026id\u003d116",
            "numTasks": 373,
            "numCompletedTasks": 373,
            "stages": [
              {
                "id": 133,
                "completed": true,
                "stageUrl": "https://azure.qubole.com/cluster-proxy?encodedUrl\u003dhttp%3A%2F%2F10.0.0.4%3A8088%2Fproxy%2Fapplication_1514915334805_0001/stages/stage/?id\u003d133\u0026attempt\u003d0",
                "numCompleteTasks": 355,
                "numActiveTasks": 0,
                "numFailedTasks": 0,
                "numTotalTasks": 355
              },
              {
                "id": 134,
                "completed": true,
                "stageUrl": "https://azure.qubole.com/cluster-proxy?encodedUrl\u003dhttp%3A%2F%2F10.0.0.4%3A8088%2Fproxy%2Fapplication_1514915334805_0001/stages/stage/?id\u003d134\u0026attempt\u003d0",
                "numCompleteTasks": 18,
                "numActiveTasks": 0,
                "numFailedTasks": 0,
                "numTotalTasks": 18
              }
            ],
            "status": "Success"
          },
          {
            "id": 117,
            "jobUrl": "https://azure.qubole.com/cluster-proxy?encodedUrl\u003dhttp%3A%2F%2F10.0.0.4%3A8088%2Fproxy%2Fapplication_1514915334805_0001/jobs/job?spark\u003dtrue\u0026id\u003d117",
            "numTasks": 1,
            "numCompletedTasks": 1,
            "stages": [
              {
                "id": 135,
                "completed": true,
                "stageUrl": "https://azure.qubole.com/cluster-proxy?encodedUrl\u003dhttp%3A%2F%2F10.0.0.4%3A8088%2Fproxy%2Fapplication_1514915334805_0001/stages/stage/?id\u003d135\u0026attempt\u003d0",
                "numCompleteTasks": 1,
                "numActiveTasks": 0,
                "numFailedTasks": 0,
                "numTotalTasks": 1
              }
            ],
            "status": "Success"
          },
          {
            "id": 118,
            "jobUrl": "https://azure.qubole.com/cluster-proxy?encodedUrl\u003dhttp%3A%2F%2F10.0.0.4%3A8088%2Fproxy%2Fapplication_1514915334805_0001/jobs/job?spark\u003dtrue\u0026id\u003d118",
            "numTasks": 2,
            "numCompletedTasks": 2,
            "stages": [
              {
                "id": 136,
                "completed": true,
                "stageUrl": "https://azure.qubole.com/cluster-proxy?encodedUrl\u003dhttp%3A%2F%2F10.0.0.4%3A8088%2Fproxy%2Fapplication_1514915334805_0001/stages/stage/?id\u003d136\u0026attempt\u003d0",
                "numCompleteTasks": 1,
                "numActiveTasks": 0,
                "numFailedTasks": 0,
                "numTotalTasks": 1
              },
              {
                "id": 137,
                "completed": true,
                "stageUrl": "https://azure.qubole.com/cluster-proxy?encodedUrl\u003dhttp%3A%2F%2F10.0.0.4%3A8088%2Fproxy%2Fapplication_1514915334805_0001/stages/stage/?id\u003d137\u0026attempt\u003d0",
                "numCompleteTasks": 1,
                "numActiveTasks": 0,
                "numFailedTasks": 0,
                "numTotalTasks": 1
              }
            ],
            "status": "Success"
          }
        ],
        "numCompletedTasks": 376,
        "numTasks": 376,
        "truncated": false
      },
      "jobName": "paragraph_1514927877993_-1731837987",
      "id": "20180102-211757_722418453_q_8YVGJMASEQ1515692831",
      "result": {
        "code": "SUCCESS",
        "type": "TEXT",
        "msg": "\ninputDf2: org.apache.spark.sql.DataFrame \u003d [asin: string, helpful: array\u003cbigint\u003e ... 11 more fields]\n\nregexTokenizer: org.apache.spark.ml.feature.RegexTokenizer \u003d regexTok_f2e7894fe27a\n\nregexTokenized: org.apache.spark.sql.DataFrame \u003d [asin: string, helpful: array\u003cbigint\u003e ... 12 more fields]\n\nremover: org.apache.spark.ml.feature.StopWordsRemover \u003d stopWords_b947fd7192ec\n\ncleanDf: org.apache.spark.sql.DataFrame \u003d [asin: string, helpful: array\u003cbigint\u003e ... 13 more fields]\n\nfilterByLengthUDF: org.apache.spark.sql.expressions.UserDefinedFunction \u003d UserDefinedFunction(\u003cfunction2\u003e,ArrayType(StringType,true),Some(List(ArrayType(StringType,true), IntegerType)))\n\ncleanDf2: org.apache.spark.sql.DataFrame \u003d [asin: string, helpful: array\u003cbigint\u003e ... 14 more fields]\n\nunigram: org.apache.spark.ml.feature.NGram \u003d ngram_40e1cebf7e53\n\nbigram: org.apache.spark.ml.feature.NGram \u003d ngram_cd90e5c9aa70\n\ntrigram: org.apache.spark.ml.feature.NGram \u003d ngram_552b063e2ed4\n\nunigramDf: org.apache.spark.sql.DataFrame \u003d [asin: string, helpful: array\u003cbigint\u003e ... 15 more fields]\n\nbigramDf: org.apache.spark.sql.DataFrame \u003d [asin: string, helpful: array\u003cbigint\u003e ... 16 more fields]\n\nngramDf: org.apache.spark.sql.DataFrame \u003d [asin: string, helpful: array\u003cbigint\u003e ... 17 more fields]\n\nconcat2ArraysUDF: org.apache.spark.sql.expressions.UserDefinedFunction \u003d UserDefinedFunction(\u003cfunction2\u003e,ArrayType(StringType,true),Some(List(ArrayType(StringType,true), ArrayType(StringType,true))))\n\nngramDf: org.apache.spark.sql.DataFrame \u003d [asin: string, helpful: array\u003cbigint\u003e ... 18 more fields]\n\nngramDf: org.apache.spark.sql.DataFrame \u003d [asin: string, helpful: array\u003cbigint\u003e ... 19 more fields]\n\nhashingTF: org.apache.spark.ml.feature.HashingTF \u003d hashingTF_7016b548324b\n\nfeaturizedData: org.apache.spark.sql.DataFrame \u003d [asin: string, helpful: array\u003cbigint\u003e ... 20 more fields]\n\nidf: org.apache.spark.ml.feature.IDF \u003d idf_72419fd387dc\n\nidfModel: org.apache.spark.ml.feature.IDFModel \u003d idf_72419fd387dc\n"
      },
      "dateCreated": "Jan 2, 2018 9:17:57 PM",
      "dateStarted": "Jan 2, 2018 9:21:33 PM",
      "dateFinished": "Jan 2, 2018 9:30:40 PM",
      "status": "FINISHED",
      "progressUpdateIntervalMs": 500
    },
    {
      "text": "val manualDF \u003d Seq(\n  (\"summary header\", \"Very surprised by this little gem.\\nI\u0027ll keep it short: I owned a Boss EQ pedal in the past and didn\u0027t have much luck with it. I tried and tried and tried to hone in the sound I was looking for but the Boss just wouldn\u0027t do it for me. Fast forward a few years and I purchase this little baby on a whim. Man, am I glad I did. The 6 sliders made it very easy to dial in the exact tone I was looking for. A small boost of the first two sliders gave my amp more bottom-end than it could ever manage on its own, and a small boost of the last two provided more of a balanced, well-rounded sound. Love it and wouldn\u0027t wanna part with it.The pedal itself is built like a rock. I imagine nothing shy of nuclear war could dent this thing. The individual sliders, although not quite as Ford-tough as the rest of the pedal (haha), feel nice and slide easy. Each slider lights up red when engaged, which not only looks cool but makes it very easy to see on a dimly lit stage.If you\u0027re on the fence about an EQ or which EQ brand to buy, I recommend you give this little monster a stomp\"),\n  (\"This is a short summary\",\"This product sucks\"),\n  (\"This is a good product\",\"I liked this product very much. I imagine nothing shy of nuclear war could dent this thing. A small boost of the first two sliders gave my amp more bottom-end than it could ever manage on its own.\")\n).toDF(\"summary\", \"reviewText\")\nvar fullReviewDF \u003d manualDF.withColumn(\"fullReview\", concat(manualDF(\"summary\"), lit(\" \"), manualDF(\"reviewText\")))\nvar preTrainedModel \u003d PipelineModel.read.load(\"wasb://trained-model@precocityquboleout.blob.core.windows.net/cvModelAsPipeline\")\nvar predictions \u003d preTrainedModel.transform(fullReviewDF)\npredictions.show()\n",
      "user": "davidgillen@precocityllc.com",
      "dateUpdated": "Jan 2, 2018 10:36:15 PM",
      "config": {
        "colWidth": 12.0,
        "graph": {
          "mode": "table",
          "height": 300.0,
          "optionOpen": false,
          "keys": [],
          "values": [],
          "groups": [],
          "scatter": {}
        },
        "enabled": true,
        "editorMode": "ace/mode/scala"
      },
      "settings": {
        "params": {},
        "forms": {}
      },
      "paragraphProgress": {
        "jobs": [
          {
            "id": 519,
            "jobUrl": "https://azure.qubole.com/cluster-proxy?encodedUrl\u003dhttp%3A%2F%2F10.0.0.4%3A8088%2Fproxy%2Fapplication_1514915334805_0001/jobs/job?spark\u003dtrue\u0026id\u003d519",
            "numTasks": 1,
            "numCompletedTasks": 1,
            "stages": [
              {
                "id": 932,
                "completed": true,
                "stageUrl": "https://azure.qubole.com/cluster-proxy?encodedUrl\u003dhttp%3A%2F%2F10.0.0.4%3A8088%2Fproxy%2Fapplication_1514915334805_0001/stages/stage/?id\u003d932\u0026attempt\u003d0",
                "numCompleteTasks": 1,
                "numActiveTasks": 0,
                "numFailedTasks": 0,
                "numTotalTasks": 1
              }
            ],
            "status": "Success"
          },
          {
            "id": 520,
            "jobUrl": "https://azure.qubole.com/cluster-proxy?encodedUrl\u003dhttp%3A%2F%2F10.0.0.4%3A8088%2Fproxy%2Fapplication_1514915334805_0001/jobs/job?spark\u003dtrue\u0026id\u003d520",
            "numTasks": 1,
            "numCompletedTasks": 1,
            "stages": [
              {
                "id": 933,
                "completed": true,
                "stageUrl": "https://azure.qubole.com/cluster-proxy?encodedUrl\u003dhttp%3A%2F%2F10.0.0.4%3A8088%2Fproxy%2Fapplication_1514915334805_0001/stages/stage/?id\u003d933\u0026attempt\u003d0",
                "numCompleteTasks": 1,
                "numActiveTasks": 0,
                "numFailedTasks": 0,
                "numTotalTasks": 1
              }
            ],
            "status": "Success"
          },
          {
            "id": 521,
            "jobUrl": "https://azure.qubole.com/cluster-proxy?encodedUrl\u003dhttp%3A%2F%2F10.0.0.4%3A8088%2Fproxy%2Fapplication_1514915334805_0001/jobs/job?spark\u003dtrue\u0026id\u003d521",
            "numTasks": 1,
            "numCompletedTasks": 1,
            "stages": [
              {
                "id": 934,
                "completed": true,
                "stageUrl": "https://azure.qubole.com/cluster-proxy?encodedUrl\u003dhttp%3A%2F%2F10.0.0.4%3A8088%2Fproxy%2Fapplication_1514915334805_0001/stages/stage/?id\u003d934\u0026attempt\u003d0",
                "numCompleteTasks": 1,
                "numActiveTasks": 0,
                "numFailedTasks": 0,
                "numTotalTasks": 1
              }
            ],
            "status": "Success"
          },
          {
            "id": 522,
            "jobUrl": "https://azure.qubole.com/cluster-proxy?encodedUrl\u003dhttp%3A%2F%2F10.0.0.4%3A8088%2Fproxy%2Fapplication_1514915334805_0001/jobs/job?spark\u003dtrue\u0026id\u003d522",
            "numTasks": 1,
            "numCompletedTasks": 1,
            "stages": [
              {
                "id": 935,
                "completed": true,
                "stageUrl": "https://azure.qubole.com/cluster-proxy?encodedUrl\u003dhttp%3A%2F%2F10.0.0.4%3A8088%2Fproxy%2Fapplication_1514915334805_0001/stages/stage/?id\u003d935\u0026attempt\u003d0",
                "numCompleteTasks": 1,
                "numActiveTasks": 0,
                "numFailedTasks": 0,
                "numTotalTasks": 1
              }
            ],
            "status": "Success"
          },
          {
            "id": 523,
            "jobUrl": "https://azure.qubole.com/cluster-proxy?encodedUrl\u003dhttp%3A%2F%2F10.0.0.4%3A8088%2Fproxy%2Fapplication_1514915334805_0001/jobs/job?spark\u003dtrue\u0026id\u003d523",
            "numTasks": 1,
            "numCompletedTasks": 1,
            "stages": [
              {
                "id": 936,
                "completed": true,
                "stageUrl": "https://azure.qubole.com/cluster-proxy?encodedUrl\u003dhttp%3A%2F%2F10.0.0.4%3A8088%2Fproxy%2Fapplication_1514915334805_0001/stages/stage/?id\u003d936\u0026attempt\u003d0",
                "numCompleteTasks": 1,
                "numActiveTasks": 0,
                "numFailedTasks": 0,
                "numTotalTasks": 1
              }
            ],
            "status": "Success"
          },
          {
            "id": 524,
            "jobUrl": "https://azure.qubole.com/cluster-proxy?encodedUrl\u003dhttp%3A%2F%2F10.0.0.4%3A8088%2Fproxy%2Fapplication_1514915334805_0001/jobs/job?spark\u003dtrue\u0026id\u003d524",
            "numTasks": 1,
            "numCompletedTasks": 1,
            "stages": [
              {
                "id": 937,
                "completed": true,
                "stageUrl": "https://azure.qubole.com/cluster-proxy?encodedUrl\u003dhttp%3A%2F%2F10.0.0.4%3A8088%2Fproxy%2Fapplication_1514915334805_0001/stages/stage/?id\u003d937\u0026attempt\u003d0",
                "numCompleteTasks": 1,
                "numActiveTasks": 0,
                "numFailedTasks": 0,
                "numTotalTasks": 1
              }
            ],
            "status": "Success"
          },
          {
            "id": 525,
            "jobUrl": "https://azure.qubole.com/cluster-proxy?encodedUrl\u003dhttp%3A%2F%2F10.0.0.4%3A8088%2Fproxy%2Fapplication_1514915334805_0001/jobs/job?spark\u003dtrue\u0026id\u003d525",
            "numTasks": 1,
            "numCompletedTasks": 1,
            "stages": [
              {
                "id": 938,
                "completed": true,
                "stageUrl": "https://azure.qubole.com/cluster-proxy?encodedUrl\u003dhttp%3A%2F%2F10.0.0.4%3A8088%2Fproxy%2Fapplication_1514915334805_0001/stages/stage/?id\u003d938\u0026attempt\u003d0",
                "numCompleteTasks": 1,
                "numActiveTasks": 0,
                "numFailedTasks": 0,
                "numTotalTasks": 1
              }
            ],
            "status": "Success"
          },
          {
            "id": 526,
            "jobUrl": "https://azure.qubole.com/cluster-proxy?encodedUrl\u003dhttp%3A%2F%2F10.0.0.4%3A8088%2Fproxy%2Fapplication_1514915334805_0001/jobs/job?spark\u003dtrue\u0026id\u003d526",
            "numTasks": 1,
            "numCompletedTasks": 1,
            "stages": [
              {
                "id": 939,
                "completed": true,
                "stageUrl": "https://azure.qubole.com/cluster-proxy?encodedUrl\u003dhttp%3A%2F%2F10.0.0.4%3A8088%2Fproxy%2Fapplication_1514915334805_0001/stages/stage/?id\u003d939\u0026attempt\u003d0",
                "numCompleteTasks": 1,
                "numActiveTasks": 0,
                "numFailedTasks": 0,
                "numTotalTasks": 1
              }
            ],
            "status": "Success"
          },
          {
            "id": 527,
            "jobUrl": "https://azure.qubole.com/cluster-proxy?encodedUrl\u003dhttp%3A%2F%2F10.0.0.4%3A8088%2Fproxy%2Fapplication_1514915334805_0001/jobs/job?spark\u003dtrue\u0026id\u003d527",
            "numTasks": 1,
            "numCompletedTasks": 1,
            "stages": [
              {
                "id": 940,
                "completed": true,
                "stageUrl": "https://azure.qubole.com/cluster-proxy?encodedUrl\u003dhttp%3A%2F%2F10.0.0.4%3A8088%2Fproxy%2Fapplication_1514915334805_0001/stages/stage/?id\u003d940\u0026attempt\u003d0",
                "numCompleteTasks": 1,
                "numActiveTasks": 0,
                "numFailedTasks": 0,
                "numTotalTasks": 1
              }
            ],
            "status": "Success"
          },
          {
            "id": 528,
            "jobUrl": "https://azure.qubole.com/cluster-proxy?encodedUrl\u003dhttp%3A%2F%2F10.0.0.4%3A8088%2Fproxy%2Fapplication_1514915334805_0001/jobs/job?spark\u003dtrue\u0026id\u003d528",
            "numTasks": 1,
            "numCompletedTasks": 1,
            "stages": [
              {
                "id": 941,
                "completed": true,
                "stageUrl": "https://azure.qubole.com/cluster-proxy?encodedUrl\u003dhttp%3A%2F%2F10.0.0.4%3A8088%2Fproxy%2Fapplication_1514915334805_0001/stages/stage/?id\u003d941\u0026attempt\u003d0",
                "numCompleteTasks": 1,
                "numActiveTasks": 0,
                "numFailedTasks": 0,
                "numTotalTasks": 1
              }
            ],
            "status": "Success"
          },
          {
            "id": 529,
            "jobUrl": "https://azure.qubole.com/cluster-proxy?encodedUrl\u003dhttp%3A%2F%2F10.0.0.4%3A8088%2Fproxy%2Fapplication_1514915334805_0001/jobs/job?spark\u003dtrue\u0026id\u003d529",
            "numTasks": 1,
            "numCompletedTasks": 1,
            "stages": [
              {
                "id": 942,
                "completed": true,
                "stageUrl": "https://azure.qubole.com/cluster-proxy?encodedUrl\u003dhttp%3A%2F%2F10.0.0.4%3A8088%2Fproxy%2Fapplication_1514915334805_0001/stages/stage/?id\u003d942\u0026attempt\u003d0",
                "numCompleteTasks": 1,
                "numActiveTasks": 0,
                "numFailedTasks": 0,
                "numTotalTasks": 1
              }
            ],
            "status": "Success"
          },
          {
            "id": 530,
            "jobUrl": "https://azure.qubole.com/cluster-proxy?encodedUrl\u003dhttp%3A%2F%2F10.0.0.4%3A8088%2Fproxy%2Fapplication_1514915334805_0001/jobs/job?spark\u003dtrue\u0026id\u003d530",
            "numTasks": 1,
            "numCompletedTasks": 1,
            "stages": [
              {
                "id": 943,
                "completed": true,
                "stageUrl": "https://azure.qubole.com/cluster-proxy?encodedUrl\u003dhttp%3A%2F%2F10.0.0.4%3A8088%2Fproxy%2Fapplication_1514915334805_0001/stages/stage/?id\u003d943\u0026attempt\u003d0",
                "numCompleteTasks": 1,
                "numActiveTasks": 0,
                "numFailedTasks": 0,
                "numTotalTasks": 1
              }
            ],
            "status": "Success"
          },
          {
            "id": 531,
            "jobUrl": "https://azure.qubole.com/cluster-proxy?encodedUrl\u003dhttp%3A%2F%2F10.0.0.4%3A8088%2Fproxy%2Fapplication_1514915334805_0001/jobs/job?spark\u003dtrue\u0026id\u003d531",
            "numTasks": 1,
            "numCompletedTasks": 1,
            "stages": [
              {
                "id": 944,
                "completed": true,
                "stageUrl": "https://azure.qubole.com/cluster-proxy?encodedUrl\u003dhttp%3A%2F%2F10.0.0.4%3A8088%2Fproxy%2Fapplication_1514915334805_0001/stages/stage/?id\u003d944\u0026attempt\u003d0",
                "numCompleteTasks": 1,
                "numActiveTasks": 0,
                "numFailedTasks": 0,
                "numTotalTasks": 1
              }
            ],
            "status": "Success"
          },
          {
            "id": 532,
            "jobUrl": "https://azure.qubole.com/cluster-proxy?encodedUrl\u003dhttp%3A%2F%2F10.0.0.4%3A8088%2Fproxy%2Fapplication_1514915334805_0001/jobs/job?spark\u003dtrue\u0026id\u003d532",
            "numTasks": 1,
            "numCompletedTasks": 1,
            "stages": [
              {
                "id": 945,
                "completed": true,
                "stageUrl": "https://azure.qubole.com/cluster-proxy?encodedUrl\u003dhttp%3A%2F%2F10.0.0.4%3A8088%2Fproxy%2Fapplication_1514915334805_0001/stages/stage/?id\u003d945\u0026attempt\u003d0",
                "numCompleteTasks": 1,
                "numActiveTasks": 0,
                "numFailedTasks": 0,
                "numTotalTasks": 1
              }
            ],
            "status": "Success"
          },
          {
            "id": 533,
            "jobUrl": "https://azure.qubole.com/cluster-proxy?encodedUrl\u003dhttp%3A%2F%2F10.0.0.4%3A8088%2Fproxy%2Fapplication_1514915334805_0001/jobs/job?spark\u003dtrue\u0026id\u003d533",
            "numTasks": 1,
            "numCompletedTasks": 1,
            "stages": [
              {
                "id": 946,
                "completed": true,
                "stageUrl": "https://azure.qubole.com/cluster-proxy?encodedUrl\u003dhttp%3A%2F%2F10.0.0.4%3A8088%2Fproxy%2Fapplication_1514915334805_0001/stages/stage/?id\u003d946\u0026attempt\u003d0",
                "numCompleteTasks": 1,
                "numActiveTasks": 0,
                "numFailedTasks": 0,
                "numTotalTasks": 1
              }
            ],
            "status": "Success"
          },
          {
            "id": 534,
            "jobUrl": "https://azure.qubole.com/cluster-proxy?encodedUrl\u003dhttp%3A%2F%2F10.0.0.4%3A8088%2Fproxy%2Fapplication_1514915334805_0001/jobs/job?spark\u003dtrue\u0026id\u003d534",
            "numTasks": 1,
            "numCompletedTasks": 1,
            "stages": [
              {
                "id": 947,
                "completed": true,
                "stageUrl": "https://azure.qubole.com/cluster-proxy?encodedUrl\u003dhttp%3A%2F%2F10.0.0.4%3A8088%2Fproxy%2Fapplication_1514915334805_0001/stages/stage/?id\u003d947\u0026attempt\u003d0",
                "numCompleteTasks": 1,
                "numActiveTasks": 0,
                "numFailedTasks": 0,
                "numTotalTasks": 1
              }
            ],
            "status": "Success"
          },
          {
            "id": 535,
            "jobUrl": "https://azure.qubole.com/cluster-proxy?encodedUrl\u003dhttp%3A%2F%2F10.0.0.4%3A8088%2Fproxy%2Fapplication_1514915334805_0001/jobs/job?spark\u003dtrue\u0026id\u003d535",
            "numTasks": 1,
            "numCompletedTasks": 1,
            "stages": [
              {
                "id": 948,
                "completed": true,
                "stageUrl": "https://azure.qubole.com/cluster-proxy?encodedUrl\u003dhttp%3A%2F%2F10.0.0.4%3A8088%2Fproxy%2Fapplication_1514915334805_0001/stages/stage/?id\u003d948\u0026attempt\u003d0",
                "numCompleteTasks": 1,
                "numActiveTasks": 0,
                "numFailedTasks": 0,
                "numTotalTasks": 1
              }
            ],
            "status": "Success"
          }
        ],
        "numCompletedTasks": 17,
        "numTasks": 17,
        "truncated": false
      },
      "jobName": "paragraph_1514927347845_-863041033",
      "id": "20180102-210907_914702646_q_8YVGJMASEQ1515692831",
      "result": {
        "code": "SUCCESS",
        "type": "TEXT",
        "msg": "\nmanualDF: org.apache.spark.sql.DataFrame \u003d [summary: string, reviewText: string]\n\nfullReviewDF: org.apache.spark.sql.DataFrame \u003d [summary: string, reviewText: string ... 1 more field]\n\npreTrainedModel: org.apache.spark.ml.PipelineModel \u003d pipeline_18ce51b7d497\n\npredictions: org.apache.spark.sql.DataFrame \u003d [summary: string, reviewText: string ... 9 more fields]\n+--------------------+--------------------+--------------------+--------------------+--------------------+--------------------+--------------------+--------------------+--------------------+--------------------+----------+\n|             summary|          reviewText|          fullReview|         regexOutput|     stopWordsOutput|             bigrams|         rawFeatures|            features|       rawPrediction|         probability|prediction|\n+--------------------+--------------------+--------------------+--------------------+--------------------+--------------------+--------------------+--------------------+--------------------+--------------------+----------+\n|      summary header|Very surprised by...|summary header Ve...|[summary, header,...|[summary, header,...|[summary header, ...|(300,[0,1,4,8,10,...|(300,[0,1,4,8,10,...|[0.13343923593439...|[0.53331039648667...|       0.0|\n|This is a short s...|  This product sucks|This is a short s...|[this, is, a, sho...|[short, summary, ...|[short summary, s...|(300,[9,55,86],[1...|(300,[9,55,86],[1...|[0.62264943334255...|[0.65082088074680...|       0.0|\n|This is a good pr...|I liked this prod...|This is a good pr...|[this, is, a, goo...|[good, product, l...|[good product, pr...|(300,[22,23,51,59...|(300,[22,23,51,59...|[0.42591069832522...|[0.60489675936026...|       0.0|\n+--------------------+--------------------+--------------------+--------------------+--------------------+--------------------+--------------------+--------------------+--------------------+--------------------+----------+\n\n"
      },
      "dateCreated": "Jan 2, 2018 9:09:07 PM",
      "dateStarted": "Jan 2, 2018 10:36:16 PM",
      "dateFinished": "Jan 2, 2018 10:36:23 PM",
      "status": "FINISHED",
      "progressUpdateIntervalMs": 500
    },
    {
      "text": "var preTrainedModel \u003d PipelineModel.read.load(\"wasb://trained-model@precocityquboleout.blob.core.windows.net/cvModelElectronic2\")",
      "user": "davidgillen@precocityllc.com",
      "dateUpdated": "Jan 9, 2018 6:54:06 PM",
      "config": {
        "colWidth": 12.0,
        "graph": {
          "mode": "table",
          "height": 300.0,
          "optionOpen": false,
          "keys": [],
          "values": [],
          "groups": [],
          "scatter": {}
        },
        "enabled": true,
        "editorMode": "ace/mode/scala"
      },
      "settings": {
        "params": {},
        "forms": {}
      },
      "paragraphProgress": {
        "jobs": [],
        "numCompletedTasks": 0,
        "numTasks": 0,
        "truncated": false
      },
      "jobName": "paragraph_1515524033503_-567159095",
      "id": "20180109-185353_1029519715_q_8YVGJMASEQ1515692831",
      "result": {
        "code": "ERROR",
        "type": "TEXT",
        "msg": "\n\n\n\u003cconsole\u003e:128: error: not found: value PipelineModel\n       var preTrainedModel \u003d PipelineModel.read.load(\"wasb://trained-model@precocityquboleout.blob.core.windows.net/cvModelElectronic2\")\n                             ^\n"
      },
      "dateCreated": "Jan 9, 2018 6:53:53 PM",
      "dateStarted": "Jan 9, 2018 6:54:06 PM",
      "dateFinished": "Jan 9, 2018 6:54:06 PM",
      "status": "ERROR",
      "progressUpdateIntervalMs": 500
    },
    {
      "text": "manualDF.show()",
      "user": "davidgillen@precocityllc.com",
      "dateUpdated": "Jan 2, 2018 10:35:23 PM",
      "config": {
        "colWidth": 12.0,
        "graph": {
          "mode": "table",
          "height": 300.0,
          "optionOpen": false,
          "keys": [],
          "values": [],
          "groups": [],
          "scatter": {}
        },
        "enabled": true,
        "editorMode": "ace/mode/scala"
      },
      "settings": {
        "params": {},
        "forms": {}
      },
      "paragraphProgress": {
        "jobs": [],
        "numCompletedTasks": 0,
        "numTasks": 0,
        "truncated": false
      },
      "jobName": "paragraph_1514932518710_-763849452",
      "id": "20180102-223518_1084230832_q_8YVGJMASEQ1515692831",
      "result": {
        "code": "SUCCESS",
        "type": "TEXT",
        "msg": "+--------------------+--------------------+\n|             summary|          reviewText|\n+--------------------+--------------------+\n|      summary header|Very surprised by...|\n|This is a short s...|  This product sucks|\n|This is a good pr...|I liked this prod...|\n+--------------------+--------------------+\n\n"
      },
      "dateCreated": "Jan 2, 2018 10:35:18 PM",
      "dateStarted": "Jan 2, 2018 10:35:24 PM",
      "dateFinished": "Jan 2, 2018 10:35:29 PM",
      "status": "FINISHED",
      "progressUpdateIntervalMs": 500
    },
    {
      "text": "manualDF",
      "user": "davidgillen@precocityllc.com",
      "dateUpdated": "Jan 2, 2018 10:35:32 PM",
      "config": {
        "colWidth": 12.0,
        "graph": {
          "mode": "table",
          "height": 300.0,
          "optionOpen": false,
          "keys": [],
          "values": [],
          "groups": [],
          "scatter": {}
        },
        "enabled": true,
        "editorMode": "ace/mode/scala"
      },
      "settings": {
        "params": {},
        "forms": {}
      },
      "jobName": "paragraph_1514932517216_-202885555",
      "id": "20180102-223517_2024724398_q_8YVGJMASEQ1515692831",
      "dateCreated": "Jan 2, 2018 10:35:17 PM",
      "status": "READY",
      "progressUpdateIntervalMs": 500
    },
    {
      "text": "val manualDF \u003d Seq(\n  (\"summary header\", \"Very surprised by this little gem.\\nI\u0027ll keep it short: I owned a Boss EQ pedal in the past and didn\u0027t have much luck with it. I tried and tried and tried to hone in the sound I was looking for but the Boss just wouldn\u0027t do it for me. Fast forward a few years and I purchase this little baby on a whim. Man, am I glad I did. The 6 sliders made it very easy to dial in the exact tone I was looking for. A small boost of the first two sliders gave my amp more bottom-end than it could ever manage on its own, and a small boost of the last two provided more of a balanced, well-rounded sound. Love it and wouldn\u0027t wanna part with it.The pedal itself is built like a rock. I imagine nothing shy of nuclear war could dent this thing. The individual sliders, although not quite as Ford-tough as the rest of the pedal (haha), feel nice and slide easy. Each slider lights up red when engaged, which not only looks cool but makes it very easy to see on a dimly lit stage.If you\u0027re on the fence about an EQ or which EQ brand to buy, I recommend you give this little monster a stomp\"),\n  (\"This is a short summary\",\"This product sucks\"),\n  (\"This is a good product\",\"I liked this product very much. I imagine nothing shy of nuclear war could dent this thing. A small boost of the first two sliders gave my amp more bottom-end than it could ever manage on its own.\")\n).toDF(\"summary\", \"reviewText\")\nval processedDf \u003d nlpPreProcessRajivMod(manualDF,sqlContext)\nvar preTrainedModel \u003d CrossValidatorModel.read.load(\"wasb://trained-model@precocityquboleout.blob.core.windows.net/cvModel_12_27\")\nvar predictions \u003d preTrainedModel.transform(processedDf)\npredictions.show(false)",
      "user": "davidgillen@precocityllc.com",
      "dateUpdated": "Jan 2, 2018 8:42:12 PM",
      "config": {
        "colWidth": 12.0,
        "graph": {
          "mode": "table",
          "height": 300.0,
          "optionOpen": false,
          "keys": [],
          "values": [],
          "groups": [],
          "scatter": {}
        },
        "enabled": true,
        "editorMode": "ace/mode/scala"
      },
      "settings": {
        "params": {},
        "forms": {}
      },
      "paragraphProgress": {
        "jobs": [
          {
            "id": 102,
            "jobUrl": "https://azure.qubole.com/cluster-proxy?encodedUrl\u003dhttp%3A%2F%2F10.0.0.4%3A8088%2Fproxy%2Fapplication_1514915334805_0001/jobs/job?spark\u003dtrue\u0026id\u003d102",
            "numTasks": 3,
            "numCompletedTasks": 3,
            "stages": [
              {
                "id": 119,
                "completed": true,
                "stageUrl": "https://azure.qubole.com/cluster-proxy?encodedUrl\u003dhttp%3A%2F%2F10.0.0.4%3A8088%2Fproxy%2Fapplication_1514915334805_0001/stages/stage/?id\u003d119\u0026attempt\u003d0",
                "numCompleteTasks": 3,
                "numActiveTasks": 0,
                "numFailedTasks": 0,
                "numTotalTasks": 3
              }
            ],
            "status": "Success"
          },
          {
            "id": 103,
            "jobUrl": "https://azure.qubole.com/cluster-proxy?encodedUrl\u003dhttp%3A%2F%2F10.0.0.4%3A8088%2Fproxy%2Fapplication_1514915334805_0001/jobs/job?spark\u003dtrue\u0026id\u003d103",
            "numTasks": 1,
            "numCompletedTasks": 1,
            "stages": [
              {
                "id": 120,
                "completed": true,
                "stageUrl": "https://azure.qubole.com/cluster-proxy?encodedUrl\u003dhttp%3A%2F%2F10.0.0.4%3A8088%2Fproxy%2Fapplication_1514915334805_0001/stages/stage/?id\u003d120\u0026attempt\u003d0",
                "numCompleteTasks": 1,
                "numActiveTasks": 0,
                "numFailedTasks": 0,
                "numTotalTasks": 1
              }
            ],
            "status": "Success"
          },
          {
            "id": 104,
            "jobUrl": "https://azure.qubole.com/cluster-proxy?encodedUrl\u003dhttp%3A%2F%2F10.0.0.4%3A8088%2Fproxy%2Fapplication_1514915334805_0001/jobs/job?spark\u003dtrue\u0026id\u003d104",
            "numTasks": 1,
            "numCompletedTasks": 1,
            "stages": [
              {
                "id": 121,
                "completed": true,
                "stageUrl": "https://azure.qubole.com/cluster-proxy?encodedUrl\u003dhttp%3A%2F%2F10.0.0.4%3A8088%2Fproxy%2Fapplication_1514915334805_0001/stages/stage/?id\u003d121\u0026attempt\u003d0",
                "numCompleteTasks": 1,
                "numActiveTasks": 0,
                "numFailedTasks": 0,
                "numTotalTasks": 1
              }
            ],
            "status": "Success"
          },
          {
            "id": 105,
            "jobUrl": "https://azure.qubole.com/cluster-proxy?encodedUrl\u003dhttp%3A%2F%2F10.0.0.4%3A8088%2Fproxy%2Fapplication_1514915334805_0001/jobs/job?spark\u003dtrue\u0026id\u003d105",
            "numTasks": 1,
            "numCompletedTasks": 1,
            "stages": [
              {
                "id": 122,
                "completed": true,
                "stageUrl": "https://azure.qubole.com/cluster-proxy?encodedUrl\u003dhttp%3A%2F%2F10.0.0.4%3A8088%2Fproxy%2Fapplication_1514915334805_0001/stages/stage/?id\u003d122\u0026attempt\u003d0",
                "numCompleteTasks": 1,
                "numActiveTasks": 0,
                "numFailedTasks": 0,
                "numTotalTasks": 1
              }
            ],
            "status": "Success"
          },
          {
            "id": 106,
            "jobUrl": "https://azure.qubole.com/cluster-proxy?encodedUrl\u003dhttp%3A%2F%2F10.0.0.4%3A8088%2Fproxy%2Fapplication_1514915334805_0001/jobs/job?spark\u003dtrue\u0026id\u003d106",
            "numTasks": 1,
            "numCompletedTasks": 1,
            "stages": [
              {
                "id": 123,
                "completed": true,
                "stageUrl": "https://azure.qubole.com/cluster-proxy?encodedUrl\u003dhttp%3A%2F%2F10.0.0.4%3A8088%2Fproxy%2Fapplication_1514915334805_0001/stages/stage/?id\u003d123\u0026attempt\u003d0",
                "numCompleteTasks": 1,
                "numActiveTasks": 0,
                "numFailedTasks": 0,
                "numTotalTasks": 1
              }
            ],
            "status": "Success"
          },
          {
            "id": 107,
            "jobUrl": "https://azure.qubole.com/cluster-proxy?encodedUrl\u003dhttp%3A%2F%2F10.0.0.4%3A8088%2Fproxy%2Fapplication_1514915334805_0001/jobs/job?spark\u003dtrue\u0026id\u003d107",
            "numTasks": 1,
            "numCompletedTasks": 1,
            "stages": [
              {
                "id": 124,
                "completed": true,
                "stageUrl": "https://azure.qubole.com/cluster-proxy?encodedUrl\u003dhttp%3A%2F%2F10.0.0.4%3A8088%2Fproxy%2Fapplication_1514915334805_0001/stages/stage/?id\u003d124\u0026attempt\u003d0",
                "numCompleteTasks": 1,
                "numActiveTasks": 0,
                "numFailedTasks": 0,
                "numTotalTasks": 1
              }
            ],
            "status": "Success"
          },
          {
            "id": 108,
            "jobUrl": "https://azure.qubole.com/cluster-proxy?encodedUrl\u003dhttp%3A%2F%2F10.0.0.4%3A8088%2Fproxy%2Fapplication_1514915334805_0001/jobs/job?spark\u003dtrue\u0026id\u003d108",
            "numTasks": 1,
            "numCompletedTasks": 1,
            "stages": [
              {
                "id": 125,
                "completed": true,
                "stageUrl": "https://azure.qubole.com/cluster-proxy?encodedUrl\u003dhttp%3A%2F%2F10.0.0.4%3A8088%2Fproxy%2Fapplication_1514915334805_0001/stages/stage/?id\u003d125\u0026attempt\u003d0",
                "numCompleteTasks": 1,
                "numActiveTasks": 0,
                "numFailedTasks": 0,
                "numTotalTasks": 1
              }
            ],
            "status": "Success"
          },
          {
            "id": 109,
            "jobUrl": "https://azure.qubole.com/cluster-proxy?encodedUrl\u003dhttp%3A%2F%2F10.0.0.4%3A8088%2Fproxy%2Fapplication_1514915334805_0001/jobs/job?spark\u003dtrue\u0026id\u003d109",
            "numTasks": 1,
            "numCompletedTasks": 1,
            "stages": [
              {
                "id": 126,
                "completed": true,
                "stageUrl": "https://azure.qubole.com/cluster-proxy?encodedUrl\u003dhttp%3A%2F%2F10.0.0.4%3A8088%2Fproxy%2Fapplication_1514915334805_0001/stages/stage/?id\u003d126\u0026attempt\u003d0",
                "numCompleteTasks": 1,
                "numActiveTasks": 0,
                "numFailedTasks": 0,
                "numTotalTasks": 1
              }
            ],
            "status": "Success"
          },
          {
            "id": 110,
            "jobUrl": "https://azure.qubole.com/cluster-proxy?encodedUrl\u003dhttp%3A%2F%2F10.0.0.4%3A8088%2Fproxy%2Fapplication_1514915334805_0001/jobs/job?spark\u003dtrue\u0026id\u003d110",
            "numTasks": 1,
            "numCompletedTasks": 1,
            "stages": [
              {
                "id": 127,
                "completed": true,
                "stageUrl": "https://azure.qubole.com/cluster-proxy?encodedUrl\u003dhttp%3A%2F%2F10.0.0.4%3A8088%2Fproxy%2Fapplication_1514915334805_0001/stages/stage/?id\u003d127\u0026attempt\u003d0",
                "numCompleteTasks": 1,
                "numActiveTasks": 0,
                "numFailedTasks": 0,
                "numTotalTasks": 1
              }
            ],
            "status": "Success"
          },
          {
            "id": 111,
            "jobUrl": "https://azure.qubole.com/cluster-proxy?encodedUrl\u003dhttp%3A%2F%2F10.0.0.4%3A8088%2Fproxy%2Fapplication_1514915334805_0001/jobs/job?spark\u003dtrue\u0026id\u003d111",
            "numTasks": 1,
            "numCompletedTasks": 1,
            "stages": [
              {
                "id": 128,
                "completed": true,
                "stageUrl": "https://azure.qubole.com/cluster-proxy?encodedUrl\u003dhttp%3A%2F%2F10.0.0.4%3A8088%2Fproxy%2Fapplication_1514915334805_0001/stages/stage/?id\u003d128\u0026attempt\u003d0",
                "numCompleteTasks": 1,
                "numActiveTasks": 0,
                "numFailedTasks": 0,
                "numTotalTasks": 1
              }
            ],
            "status": "Success"
          },
          {
            "id": 112,
            "jobUrl": "https://azure.qubole.com/cluster-proxy?encodedUrl\u003dhttp%3A%2F%2F10.0.0.4%3A8088%2Fproxy%2Fapplication_1514915334805_0001/jobs/job?spark\u003dtrue\u0026id\u003d112",
            "numTasks": 1,
            "numCompletedTasks": 1,
            "stages": [
              {
                "id": 129,
                "completed": true,
                "stageUrl": "https://azure.qubole.com/cluster-proxy?encodedUrl\u003dhttp%3A%2F%2F10.0.0.4%3A8088%2Fproxy%2Fapplication_1514915334805_0001/stages/stage/?id\u003d129\u0026attempt\u003d0",
                "numCompleteTasks": 1,
                "numActiveTasks": 0,
                "numFailedTasks": 0,
                "numTotalTasks": 1
              }
            ],
            "status": "Success"
          },
          {
            "id": 113,
            "jobUrl": "https://azure.qubole.com/cluster-proxy?encodedUrl\u003dhttp%3A%2F%2F10.0.0.4%3A8088%2Fproxy%2Fapplication_1514915334805_0001/jobs/job?spark\u003dtrue\u0026id\u003d113",
            "numTasks": 1,
            "numCompletedTasks": 1,
            "stages": [
              {
                "id": 130,
                "completed": true,
                "stageUrl": "https://azure.qubole.com/cluster-proxy?encodedUrl\u003dhttp%3A%2F%2F10.0.0.4%3A8088%2Fproxy%2Fapplication_1514915334805_0001/stages/stage/?id\u003d130\u0026attempt\u003d0",
                "numCompleteTasks": 1,
                "numActiveTasks": 0,
                "numFailedTasks": 0,
                "numTotalTasks": 1
              }
            ],
            "status": "Success"
          },
          {
            "id": 114,
            "jobUrl": "https://azure.qubole.com/cluster-proxy?encodedUrl\u003dhttp%3A%2F%2F10.0.0.4%3A8088%2Fproxy%2Fapplication_1514915334805_0001/jobs/job?spark\u003dtrue\u0026id\u003d114",
            "numTasks": 1,
            "numCompletedTasks": 1,
            "stages": [
              {
                "id": 131,
                "completed": true,
                "stageUrl": "https://azure.qubole.com/cluster-proxy?encodedUrl\u003dhttp%3A%2F%2F10.0.0.4%3A8088%2Fproxy%2Fapplication_1514915334805_0001/stages/stage/?id\u003d131\u0026attempt\u003d0",
                "numCompleteTasks": 1,
                "numActiveTasks": 0,
                "numFailedTasks": 0,
                "numTotalTasks": 1
              }
            ],
            "status": "Success"
          },
          {
            "id": 115,
            "jobUrl": "https://azure.qubole.com/cluster-proxy?encodedUrl\u003dhttp%3A%2F%2F10.0.0.4%3A8088%2Fproxy%2Fapplication_1514915334805_0001/jobs/job?spark\u003dtrue\u0026id\u003d115",
            "numTasks": 1,
            "numCompletedTasks": 1,
            "stages": [
              {
                "id": 132,
                "completed": true,
                "stageUrl": "https://azure.qubole.com/cluster-proxy?encodedUrl\u003dhttp%3A%2F%2F10.0.0.4%3A8088%2Fproxy%2Fapplication_1514915334805_0001/stages/stage/?id\u003d132\u0026attempt\u003d0",
                "numCompleteTasks": 1,
                "numActiveTasks": 0,
                "numFailedTasks": 0,
                "numTotalTasks": 1
              }
            ],
            "status": "Success"
          }
        ],
        "numCompletedTasks": 16,
        "numTasks": 16,
        "truncated": false
      },
      "jobName": "paragraph_1514921123475_563737657",
      "id": "20180102-192523_297401696_q_8YVGJMASEQ1515692831",
      "result": {
        "code": "SUCCESS",
        "type": "TEXT",
        "msg": "\nmanualDF: org.apache.spark.sql.DataFrame \u003d [summary: string, reviewText: string]\n\nprocessedDf: org.apache.spark.sql.DataFrame \u003d [features: vector]\n\npreTrainedModel: org.apache.spark.ml.tuning.CrossValidatorModel \u003d cv_5357bde9b102\n\npredictions: org.apache.spark.sql.DataFrame \u003d [features: vector, rawPrediction: vector ... 2 more fields]\n+--------------------------------------------------------------------------------------------------------------------------------------------------------------------------------------------------------------------------------------------------------------------------------------------------------------------------------------------------------------------------------------------------------------------------------------------------------------------------------------------------------------------------------------------------------------------------------------------------------------------------------------------------------------------------------------------------------------------------------------------------------------------------------------------------------------------------------------------------------------------------------------------------------------------------------------------------------------------------------------------------------------------------------------------------------------------------------------------------------------------------------------------------------------------------------------------------------------------------------------------------------------------------------------------------------------------------------------------------------------------------------------------------------------------------------------------------------------------------------------------------------------------------------------------------------------------------------------------------------------------------------------------------------------------------------------------------------------------------------------------------------------------------------------------------------------------------------------------------------------------------------------------------------------------------------------------------------------------------------------------------------------------------------------------------------------------------------------------------------------------------------------------------------------------------------------------------------------------------------------------------------------------------------------------------------------------------------------------------------------------------------------------------------------------------------------------------------------------------------------------------------------------------------------------------------------------------------------------------------------------------------------------------------------------------------------------------------------------------------------------------------------------------------------------------------------------------------------------------------------------------------------------------------------------------------------------------------------------------------------------------------------------------------------------------------------------------------------------------------------------------------------------------------------------------------------------------------------------------------------------------------------------------------------------------------------------------------------------------------------------------------------------------------------------------------------------------------------------------------------------------------------------------------------------------------------------------------------------------------------------------------------------------------------------------------------------------------------------------------------------------------------------------------------------------------------------------------------------------------------------------------------------------------------------------------------------------------------------------------------------------------------------------------------------------------------------------------------------------------------------------------------------------------------------------------------------------------------------------------------------------------------------------------------------------------------------------------------------------------------------------------------------------------+------------------------------------------+----------------------------------------+----------+\n|features                                                                                                                                                                                                                                                                                                                                                                                                                                                                                                                                                                                                                                                                                                                                                                                                                                                                                                                                                                                                                                                                                                                                                                                                                                                                                                                                                                                                                                                                                                                                                                                                                                                                                                                                                                                                                                                                                                                                                                                                                                                                                                                                                                                                                                                                                                                                                                                                                                                                                                                                                                                                                                                                                                                                                                                                                                                                                                                                                                                                                                                                                                                                                                                                                                                                                                                                                                                                                                                                                                                                                                                                                                                                                                                                                                                                                                                                                                                                                                                                                                                                                                                                                                                                                                                                                                                                                                                                |rawPrediction                             |probability                             |prediction|\n+--------------------------------------------------------------------------------------------------------------------------------------------------------------------------------------------------------------------------------------------------------------------------------------------------------------------------------------------------------------------------------------------------------------------------------------------------------------------------------------------------------------------------------------------------------------------------------------------------------------------------------------------------------------------------------------------------------------------------------------------------------------------------------------------------------------------------------------------------------------------------------------------------------------------------------------------------------------------------------------------------------------------------------------------------------------------------------------------------------------------------------------------------------------------------------------------------------------------------------------------------------------------------------------------------------------------------------------------------------------------------------------------------------------------------------------------------------------------------------------------------------------------------------------------------------------------------------------------------------------------------------------------------------------------------------------------------------------------------------------------------------------------------------------------------------------------------------------------------------------------------------------------------------------------------------------------------------------------------------------------------------------------------------------------------------------------------------------------------------------------------------------------------------------------------------------------------------------------------------------------------------------------------------------------------------------------------------------------------------------------------------------------------------------------------------------------------------------------------------------------------------------------------------------------------------------------------------------------------------------------------------------------------------------------------------------------------------------------------------------------------------------------------------------------------------------------------------------------------------------------------------------------------------------------------------------------------------------------------------------------------------------------------------------------------------------------------------------------------------------------------------------------------------------------------------------------------------------------------------------------------------------------------------------------------------------------------------------------------------------------------------------------------------------------------------------------------------------------------------------------------------------------------------------------------------------------------------------------------------------------------------------------------------------------------------------------------------------------------------------------------------------------------------------------------------------------------------------------------------------------------------------------------------------------------------------------------------------------------------------------------------------------------------------------------------------------------------------------------------------------------------------------------------------------------------------------------------------------------------------------------------------------------------------------------------------------------------------------------------------------------------------------------------+------------------------------------------+----------------------------------------+----------+\n|(300,[0,1,3,4,6,8,9,11,13,15,17,19,22,23,24,27,28,29,30,32,35,36,37,38,39,41,42,44,47,48,49,51,53,59,60,61,62,64,65,67,68,70,71,74,75,76,77,78,80,81,83,84,85,86,87,88,89,91,92,95,96,99,100,101,103,105,106,113,115,116,117,121,123,124,125,126,129,130,131,132,138,139,140,141,142,144,146,147,149,152,154,155,156,159,160,161,163,164,165,168,169,170,172,174,175,176,178,179,181,183,184,187,189,191,193,194,195,197,198,200,201,202,204,205,206,208,212,213,214,215,216,219,222,224,225,226,227,228,229,230,231,233,235,236,237,238,239,240,244,245,248,249,250,252,253,254,255,256,257,258,259,260,261,262,263,264,265,266,268,272,273,275,276,279,283,284,285,286,288,290,291,292,293,294,296,297,298],[1.3862943611198906,0.6931471805599453,1.3862943611198906,1.3862943611198906,2.0794415416798357,0.6931471805599453,0.5753641449035617,0.6931471805599453,0.6931471805599453,0.28768207245178085,0.6931471805599453,1.3862943611198906,0.5753641449035617,0.8630462173553426,0.28768207245178085,2.0794415416798357,0.6931471805599453,1.3862943611198906,0.6931471805599453,0.6931471805599453,0.6931471805599453,0.5753641449035617,0.6931471805599453,0.28768207245178085,0.6931471805599453,1.3862943611198906,1.1507282898071234,1.3862943611198906,0.6931471805599453,0.6931471805599453,1.1507282898071234,0.5753641449035617,0.6931471805599453,0.5753641449035617,3.4657359027997265,0.6931471805599453,0.28768207245178085,0.6931471805599453,1.3862943611198906,0.6931471805599453,0.28768207245178085,0.6931471805599453,1.3862943611198906,0.6931471805599453,0.6931471805599453,2.0794415416798357,0.28768207245178085,0.28768207245178085,1.3862943611198906,0.6931471805599453,0.5753641449035617,0.5753641449035617,0.28768207245178085,0.0,0.5753641449035617,0.6931471805599453,1.3862943611198906,2.772588722239781,0.6931471805599453,0.28768207245178085,0.6931471805599453,0.28768207245178085,0.28768207245178085,2.772588722239781,1.3862943611198906,0.6931471805599453,0.6931471805599453,0.8630462173553426,2.772588722239781,0.6931471805599453,0.6931471805599453,0.6931471805599453,2.0794415416798357,0.28768207245178085,0.8630462173553426,0.28768207245178085,0.28768207245178085,1.3862943611198906,0.8630462173553426,2.0794415416798357,0.5753641449035617,0.6931471805599453,0.6931471805599453,0.5753641449035617,0.6931471805599453,1.3862943611198906,0.6931471805599453,0.6931471805599453,0.6931471805599453,0.6931471805599453,0.6931471805599453,0.6931471805599453,0.5753641449035617,1.3862943611198906,0.6931471805599453,1.3862943611198906,1.3862943611198906,0.28768207245178085,1.3862943611198906,0.6931471805599453,0.6931471805599453,0.6931471805599453,0.6931471805599453,0.6931471805599453,0.8630462173553426,0.6931471805599453,0.6931471805599453,0.6931471805599453,1.3862943611198906,1.3862943611198906,0.0,0.6931471805599453,0.5753641449035617,2.772588722239781,0.28768207245178085,0.8630462173553426,1.3862943611198906,0.6931471805599453,0.6931471805599453,0.6931471805599453,0.8630462173553426,0.5753641449035617,1.1507282898071234,2.772588722239781,0.6931471805599453,0.8630462173553426,1.3862943611198906,0.28768207245178085,0.28768207245178085,0.6931471805599453,0.6931471805599453,2.772588722239781,0.6931471805599453,0.28768207245178085,0.6931471805599453,0.6931471805599453,1.4384103622589042,1.3862943611198906,0.28768207245178085,0.6931471805599453,3.4657359027997265,2.0794415416798357,0.6931471805599453,0.5753641449035617,2.772588722239781,0.6931471805599453,0.6931471805599453,0.6931471805599453,0.6931471805599453,1.3862943611198906,0.6931471805599453,0.28768207245178085,0.6931471805599453,0.28768207245178085,0.6931471805599453,0.6931471805599453,1.3862943611198906,0.28768207245178085,0.28768207245178085,0.6931471805599453,2.772588722239781,0.6931471805599453,0.6931471805599453,0.6931471805599453,0.5753641449035617,0.6931471805599453,2.0794415416798357,0.6931471805599453,0.6931471805599453,2.0794415416798357,0.6931471805599453,0.6931471805599453,0.28768207245178085,2.0794415416798357,0.6931471805599453,0.8630462173553426,0.28768207245178085,2.0794415416798357,0.6931471805599453,0.6931471805599453,0.6931471805599453,0.6931471805599453,0.28768207245178085,0.6931471805599453,0.6931471805599453,0.28768207245178085,0.28768207245178085])|[0.2043764229571533,-0.2043764229571533]  |[0.5509169965986563,0.44908300340134377]|0.0       |\n|(300,[9,15,36,38,55,86,141,164,184],[0.28768207245178085,0.28768207245178085,0.28768207245178085,0.28768207245178085,0.6931471805599453,0.0,0.28768207245178085,0.28768207245178085,0.0])                                                                                                                                                                                                                                                                                                                                                                                                                                                                                                                                                                                                                                                                                                                                                                                                                                                                                                                                                                                                                                                                                                                                                                                                                                                                                                                                                                                                                                                                                                                                                                                                                                                                                                                                                                                                                                                                                                                                                                                                                                                                                                                                                                                                                                                                                                                                                                                                                                                                                                                                                                                                                                                                                                                                                                                                                                                                                                                                                                                                                                                                                                                                                                                                                                                                                                                                                                                                                                                                                                                                                                                                                                                                                                                                                                                                                                                                                                                                                                                                                                                                                                                                                                                                               |[0.2607712334032199,-0.2607712334032199]  |[0.5648258685964556,0.43517413140354444]|0.0       |\n|(300,[22,23,24,42,49,51,59,62,68,77,78,83,84,85,86,87,95,98,99,100,113,124,125,126,128,129,131,138,156,175,184,189,190,193,194,201,202,204,208,213,214,224,227,229,236,249,252,256,257,263,267,276,281,284,285,287,293,297,298],[0.28768207245178085,0.28768207245178085,0.28768207245178085,0.28768207245178085,1.1507282898071234,0.28768207245178085,0.28768207245178085,0.28768207245178085,0.28768207245178085,0.28768207245178085,0.28768207245178085,0.5753641449035617,0.28768207245178085,0.28768207245178085,0.0,0.28768207245178085,0.28768207245178085,0.6931471805599453,0.28768207245178085,0.28768207245178085,0.5753641449035617,0.28768207245178085,0.5753641449035617,0.28768207245178085,0.6931471805599453,0.28768207245178085,0.28768207245178085,0.5753641449035617,0.5753641449035617,0.28768207245178085,0.0,0.28768207245178085,0.6931471805599453,0.28768207245178085,0.28768207245178085,0.5753641449035617,0.28768207245178085,0.28768207245178085,0.28768207245178085,0.28768207245178085,0.28768207245178085,0.28768207245178085,0.28768207245178085,0.28768207245178085,0.28768207245178085,0.5753641449035617,0.28768207245178085,0.28768207245178085,0.28768207245178085,0.28768207245178085,0.6931471805599453,0.28768207245178085,0.6931471805599453,0.28768207245178085,0.28768207245178085,0.6931471805599453,0.28768207245178085,0.28768207245178085,0.28768207245178085])                                                                                                                                                                                                                                                                                                                                                                                                                                                                                                                                                                                                                                                                                                                                                                                                                                                                                                                                                                                                                                                                                                                                                                                                                                                                                                                                                                                                                                                                                                                                                                                                                                                                                                                                                                                                                                                                                                                                                                                                                                                                                                                                                                                                                                                                                                                                                                                                                                                                                                                                                                                                                                                                                                                                                                                                                                                                                                                                                                                        |[0.25744950492680396,-0.25744950492680396]|[0.5640092205855144,0.4359907794144855] |0.0       |\n+--------------------------------------------------------------------------------------------------------------------------------------------------------------------------------------------------------------------------------------------------------------------------------------------------------------------------------------------------------------------------------------------------------------------------------------------------------------------------------------------------------------------------------------------------------------------------------------------------------------------------------------------------------------------------------------------------------------------------------------------------------------------------------------------------------------------------------------------------------------------------------------------------------------------------------------------------------------------------------------------------------------------------------------------------------------------------------------------------------------------------------------------------------------------------------------------------------------------------------------------------------------------------------------------------------------------------------------------------------------------------------------------------------------------------------------------------------------------------------------------------------------------------------------------------------------------------------------------------------------------------------------------------------------------------------------------------------------------------------------------------------------------------------------------------------------------------------------------------------------------------------------------------------------------------------------------------------------------------------------------------------------------------------------------------------------------------------------------------------------------------------------------------------------------------------------------------------------------------------------------------------------------------------------------------------------------------------------------------------------------------------------------------------------------------------------------------------------------------------------------------------------------------------------------------------------------------------------------------------------------------------------------------------------------------------------------------------------------------------------------------------------------------------------------------------------------------------------------------------------------------------------------------------------------------------------------------------------------------------------------------------------------------------------------------------------------------------------------------------------------------------------------------------------------------------------------------------------------------------------------------------------------------------------------------------------------------------------------------------------------------------------------------------------------------------------------------------------------------------------------------------------------------------------------------------------------------------------------------------------------------------------------------------------------------------------------------------------------------------------------------------------------------------------------------------------------------------------------------------------------------------------------------------------------------------------------------------------------------------------------------------------------------------------------------------------------------------------------------------------------------------------------------------------------------------------------------------------------------------------------------------------------------------------------------------------------------------------------------------------------------------------------------------+------------------------------------------+----------------------------------------+----------+\n\n"
      },
      "dateCreated": "Jan 2, 2018 7:25:23 PM",
      "dateStarted": "Jan 2, 2018 8:42:12 PM",
      "dateFinished": "Jan 2, 2018 8:42:21 PM",
      "status": "FINISHED",
      "progressUpdateIntervalMs": 500
    },
    {
      "text": "preTrainedModel.",
      "user": "davidgillen@precocityllc.com",
      "dateUpdated": "Jan 2, 2018 8:26:56 PM",
      "config": {
        "colWidth": 12.0,
        "graph": {
          "mode": "table",
          "height": 300.0,
          "optionOpen": false,
          "keys": [],
          "values": [],
          "groups": [],
          "scatter": {}
        },
        "enabled": true,
        "editorMode": "ace/mode/scala"
      },
      "settings": {
        "params": {},
        "forms": {}
      },
      "paragraphProgress": {
        "jobs": [],
        "numCompletedTasks": 0,
        "numTasks": 0,
        "truncated": false
      },
      "jobName": "paragraph_1514429980172_-1629145235",
      "id": "20171228-025940_1836624795_q_8YVGJMASEQ1515692831",
      "result": {
        "code": "SUCCESS",
        "type": "TEXT",
        "msg": "\nres33: org.apache.spark.ml.tuning.CrossValidatorModel \u003d cv_5357bde9b102\n"
      },
      "dateCreated": "Dec 28, 2017 2:59:40 AM",
      "dateStarted": "Jan 2, 2018 8:26:34 PM",
      "dateFinished": "Jan 2, 2018 8:26:35 PM",
      "status": "FINISHED",
      "progressUpdateIntervalMs": 500
    },
    {
      "text": "var featurizedDF \u003d nlpPreProcess(stratSampled)",
      "user": "davidgillen@precocityllc.com",
      "dateUpdated": "Jan 2, 2018 6:52:11 PM",
      "config": {
        "colWidth": 12.0,
        "graph": {
          "mode": "table",
          "height": 300.0,
          "optionOpen": false,
          "keys": [],
          "values": [],
          "groups": [],
          "scatter": {}
        },
        "enabled": true,
        "editorMode": "ace/mode/scala"
      },
      "settings": {
        "params": {},
        "forms": {}
      },
      "paragraphProgress": {
        "jobs": [
          {
            "id": 38,
            "jobUrl": "https://azure.qubole.com/cluster-proxy?encodedUrl\u003dhttp%3A%2F%2F10.0.0.4%3A8088%2Fproxy%2Fapplication_1514915334805_0001/jobs/job?spark\u003dtrue\u0026id\u003d38",
            "numTasks": 373,
            "numCompletedTasks": 373,
            "stages": [
              {
                "id": 54,
                "completed": true,
                "stageUrl": "https://azure.qubole.com/cluster-proxy?encodedUrl\u003dhttp%3A%2F%2F10.0.0.4%3A8088%2Fproxy%2Fapplication_1514915334805_0001/stages/stage/?id\u003d54\u0026attempt\u003d0",
                "numCompleteTasks": 355,
                "numActiveTasks": 0,
                "numFailedTasks": 0,
                "numTotalTasks": 355
              },
              {
                "id": 55,
                "completed": true,
                "stageUrl": "https://azure.qubole.com/cluster-proxy?encodedUrl\u003dhttp%3A%2F%2F10.0.0.4%3A8088%2Fproxy%2Fapplication_1514915334805_0001/stages/stage/?id\u003d55\u0026attempt\u003d0",
                "numCompleteTasks": 18,
                "numActiveTasks": 0,
                "numFailedTasks": 0,
                "numTotalTasks": 18
              }
            ],
            "status": "Success"
          }
        ],
        "numCompletedTasks": 373,
        "numTasks": 373,
        "truncated": false
      },
      "jobName": "paragraph_1514400615714_1891418577",
      "id": "20171227-185015_1966075236_q_8YVGJMASEQ1515692831",
      "result": {
        "code": "SUCCESS",
        "type": "TEXT",
        "msg": "\nfeaturizedDF: org.apache.spark.sql.DataFrame \u003d [features: vector, label: int]\n"
      },
      "dateCreated": "Dec 27, 2017 6:50:15 PM",
      "dateStarted": "Jan 2, 2018 6:52:11 PM",
      "dateFinished": "Jan 2, 2018 6:53:42 PM",
      "status": "FINISHED",
      "progressUpdateIntervalMs": 500
    },
    {
      "text": "//For each of the two binary classification tasks (identifying good and bad reviews), we normalized the input helpfulness\n//distribution so that random guessing would yield an expected accuracy of 0.5. For instance, when training and evaluating\n//a good review classifier, we picked review entries such that 50% of the input samples have sr \u003e 0.8, 25% have sr ≤ 0.2,\n//and 25% have 0.2 \u003c sr ≤ 0.8.\nval binnerForGoodDataSet \u003d new Bucketizer()\n    .setInputCol(\"score\")\n    .setOutputCol(\"good_bin\")\n    .setSplits( Array(0.0, 0.20, 0.80, 1.0 ) )\nvar binnedForGood \u003d binnerForGoodDataSet.transform(stratSampled)\nbinnedForGood.groupBy(\"good_bin\").count().show()",
      "user": "rajivkalapala@precocityllc.com",
      "dateUpdated": "Dec 15, 2017 4:17:32 AM",
      "config": {
        "colWidth": 12.0,
        "graph": {
          "mode": "table",
          "height": 300.0,
          "optionOpen": false,
          "keys": [],
          "values": [],
          "groups": [],
          "scatter": {}
        },
        "enabled": true,
        "editorMode": "ace/mode/scala"
      },
      "settings": {
        "params": {},
        "forms": {}
      },
      "paragraphProgress": {
        "jobs": [
          {
            "id": 44,
            "jobUrl": "https://azure.qubole.com/cluster-proxy?encodedUrl\u003dhttp%3A%2F%2F10.0.0.5%3A8088%2Fproxy%2Fapplication_1513309580436_0001/jobs/job?spark\u003dtrue\u0026id\u003d44",
            "numTasks": 356,
            "numCompletedTasks": 356,
            "stages": [
              {
                "id": 66,
                "completed": true,
                "stageUrl": "https://azure.qubole.com/cluster-proxy?encodedUrl\u003dhttp%3A%2F%2F10.0.0.5%3A8088%2Fproxy%2Fapplication_1513309580436_0001/stages/stage/?id\u003d66\u0026attempt\u003d0",
                "numCompleteTasks": 355,
                "numActiveTasks": 0,
                "numFailedTasks": 0,
                "numTotalTasks": 355
              },
              {
                "id": 67,
                "completed": true,
                "stageUrl": "https://azure.qubole.com/cluster-proxy?encodedUrl\u003dhttp%3A%2F%2F10.0.0.5%3A8088%2Fproxy%2Fapplication_1513309580436_0001/stages/stage/?id\u003d67\u0026attempt\u003d0",
                "numCompleteTasks": 1,
                "numActiveTasks": 0,
                "numFailedTasks": 0,
                "numTotalTasks": 1
              }
            ],
            "status": "Success"
          },
          {
            "id": 45,
            "jobUrl": "https://azure.qubole.com/cluster-proxy?encodedUrl\u003dhttp%3A%2F%2F10.0.0.5%3A8088%2Fproxy%2Fapplication_1513309580436_0001/jobs/job?spark\u003dtrue\u0026id\u003d45",
            "numTasks": 359,
            "numCompletedTasks": 4,
            "stages": [
              {
                "id": 68,
                "completed": true,
                "stageUrl": "https://azure.qubole.com/cluster-proxy?encodedUrl\u003dhttp%3A%2F%2F10.0.0.5%3A8088%2Fproxy%2Fapplication_1513309580436_0001/stages/stage/?id\u003d68\u0026attempt\u003d0",
                "numCompleteTasks": 0,
                "numActiveTasks": 0,
                "numFailedTasks": 0,
                "numTotalTasks": 0
              },
              {
                "id": 69,
                "completed": true,
                "stageUrl": "https://azure.qubole.com/cluster-proxy?encodedUrl\u003dhttp%3A%2F%2F10.0.0.5%3A8088%2Fproxy%2Fapplication_1513309580436_0001/stages/stage/?id\u003d69\u0026attempt\u003d0",
                "numCompleteTasks": 4,
                "numActiveTasks": 0,
                "numFailedTasks": 0,
                "numTotalTasks": 4
              }
            ],
            "status": "Success"
          },
          {
            "id": 46,
            "jobUrl": "https://azure.qubole.com/cluster-proxy?encodedUrl\u003dhttp%3A%2F%2F10.0.0.5%3A8088%2Fproxy%2Fapplication_1513309580436_0001/jobs/job?spark\u003dtrue\u0026id\u003d46",
            "numTasks": 375,
            "numCompletedTasks": 20,
            "stages": [
              {
                "id": 70,
                "completed": true,
                "stageUrl": "https://azure.qubole.com/cluster-proxy?encodedUrl\u003dhttp%3A%2F%2F10.0.0.5%3A8088%2Fproxy%2Fapplication_1513309580436_0001/stages/stage/?id\u003d70\u0026attempt\u003d0",
                "numCompleteTasks": 0,
                "numActiveTasks": 0,
                "numFailedTasks": 0,
                "numTotalTasks": 0
              },
              {
                "id": 71,
                "completed": true,
                "stageUrl": "https://azure.qubole.com/cluster-proxy?encodedUrl\u003dhttp%3A%2F%2F10.0.0.5%3A8088%2Fproxy%2Fapplication_1513309580436_0001/stages/stage/?id\u003d71\u0026attempt\u003d0",
                "numCompleteTasks": 20,
                "numActiveTasks": 0,
                "numFailedTasks": 0,
                "numTotalTasks": 20
              }
            ],
            "status": "Success"
          },
          {
            "id": 47,
            "jobUrl": "https://azure.qubole.com/cluster-proxy?encodedUrl\u003dhttp%3A%2F%2F10.0.0.5%3A8088%2Fproxy%2Fapplication_1513309580436_0001/jobs/job?spark\u003dtrue\u0026id\u003d47",
            "numTasks": 455,
            "numCompletedTasks": 100,
            "stages": [
              {
                "id": 72,
                "completed": true,
                "stageUrl": "https://azure.qubole.com/cluster-proxy?encodedUrl\u003dhttp%3A%2F%2F10.0.0.5%3A8088%2Fproxy%2Fapplication_1513309580436_0001/stages/stage/?id\u003d72\u0026attempt\u003d0",
                "numCompleteTasks": 0,
                "numActiveTasks": 0,
                "numFailedTasks": 0,
                "numTotalTasks": 0
              },
              {
                "id": 73,
                "completed": true,
                "stageUrl": "https://azure.qubole.com/cluster-proxy?encodedUrl\u003dhttp%3A%2F%2F10.0.0.5%3A8088%2Fproxy%2Fapplication_1513309580436_0001/stages/stage/?id\u003d73\u0026attempt\u003d0",
                "numCompleteTasks": 100,
                "numActiveTasks": 0,
                "numFailedTasks": 0,
                "numTotalTasks": 100
              }
            ],
            "status": "Success"
          },
          {
            "id": 48,
            "jobUrl": "https://azure.qubole.com/cluster-proxy?encodedUrl\u003dhttp%3A%2F%2F10.0.0.5%3A8088%2Fproxy%2Fapplication_1513309580436_0001/jobs/job?spark\u003dtrue\u0026id\u003d48",
            "numTasks": 430,
            "numCompletedTasks": 75,
            "stages": [
              {
                "id": 74,
                "completed": true,
                "stageUrl": "https://azure.qubole.com/cluster-proxy?encodedUrl\u003dhttp%3A%2F%2F10.0.0.5%3A8088%2Fproxy%2Fapplication_1513309580436_0001/stages/stage/?id\u003d74\u0026attempt\u003d0",
                "numCompleteTasks": 0,
                "numActiveTasks": 0,
                "numFailedTasks": 0,
                "numTotalTasks": 0
              },
              {
                "id": 75,
                "completed": true,
                "stageUrl": "https://azure.qubole.com/cluster-proxy?encodedUrl\u003dhttp%3A%2F%2F10.0.0.5%3A8088%2Fproxy%2Fapplication_1513309580436_0001/stages/stage/?id\u003d75\u0026attempt\u003d0",
                "numCompleteTasks": 75,
                "numActiveTasks": 0,
                "numFailedTasks": 0,
                "numTotalTasks": 75
              }
            ],
            "status": "Success"
          }
        ],
        "numCompletedTasks": 555,
        "numTasks": 1975,
        "truncated": false
      },
      "jobName": "paragraph_1513311233372_1390969767",
      "id": "20171215-041353_1072288240_q_8YVGJMASEQ1515692831",
      "result": {
        "code": "SUCCESS",
        "type": "TEXT",
        "msg": "\nbinnerForGoodDataSet: org.apache.spark.ml.feature.Bucketizer \u003d bucketizer_717dd07e1650\n\nbinnedForGood: org.apache.spark.sql.DataFrame \u003d [asin: string, helpful: array\u003cbigint\u003e ... 13 more fields]\n+--------+------+\n|good_bin| count|\n+--------+------+\n|     0.0| 76443|\n|     1.0|229081|\n|     2.0| 76244|\n+--------+------+\n\n"
      },
      "dateCreated": "Dec 15, 2017 4:13:53 AM",
      "dateStarted": "Dec 15, 2017 4:17:32 AM",
      "dateFinished": "Dec 15, 2017 4:17:37 AM",
      "status": "FINISHED",
      "progressUpdateIntervalMs": 500
    },
    {
      "text": "var ar \u003d od.select(\"ratio\").collect()\nvar ar2 \u003d ar.map(x \u003d\u003e x.getDouble(0))\nvar fractionKeyMap \u003d ar2.zipWithIndex.map(x \u003d\u003e (x._2,x._1)).toMap\nval fractionKeyMap \u003d Map(0 -\u003e 0.008704061895551257, 1 -\u003e 1.0,2 -\u003e 0.21875,3 -\u003e 0.19626168224299065,4 -\u003e 0.02679710761378137 )\nval fiftyPerFrom80orHigher \u003d Map(0 -\u003e 0.008704061895551257, 1 -\u003e 1.0,2 -\u003e 0.21875,3 -\u003e 0.19626168224299065,4 -\u003e 0.5 )\nvar stratSampled \u003d binnedData.stat.sampleBy(\"score_bin\", fractionKeyMap, 7L)\nstratSampled.groupBy(\"score_bin\").count().show()",
      "user": "rajivkalapala@precocityllc.com",
      "dateUpdated": "Dec 15, 2017 4:18:07 AM",
      "config": {
        "colWidth": 12.0,
        "graph": {
          "mode": "table",
          "height": 300.0,
          "optionOpen": false,
          "keys": [],
          "values": [],
          "groups": [],
          "scatter": {}
        },
        "enabled": true,
        "editorMode": "ace/mode/scala"
      },
      "settings": {
        "params": {},
        "forms": {}
      },
      "paragraphProgress": {
        "jobs": [
          {
            "id": 49,
            "jobUrl": "https://azure.qubole.com/cluster-proxy?encodedUrl\u003dhttp%3A%2F%2F10.0.0.5%3A8088%2Fproxy%2Fapplication_1513309580436_0001/jobs/job?spark\u003dtrue\u0026id\u003d49",
            "numTasks": 390,
            "numCompletedTasks": 200,
            "stages": [
              {
                "id": 76,
                "completed": true,
                "stageUrl": "https://azure.qubole.com/cluster-proxy?encodedUrl\u003dhttp%3A%2F%2F10.0.0.5%3A8088%2Fproxy%2Fapplication_1513309580436_0001/stages/stage/?id\u003d76\u0026attempt\u003d0",
                "numCompleteTasks": 0,
                "numActiveTasks": 0,
                "numFailedTasks": 0,
                "numTotalTasks": 0
              },
              {
                "id": 77,
                "completed": true,
                "stageUrl": "https://azure.qubole.com/cluster-proxy?encodedUrl\u003dhttp%3A%2F%2F10.0.0.5%3A8088%2Fproxy%2Fapplication_1513309580436_0001/stages/stage/?id\u003d77\u0026attempt\u003d0",
                "numCompleteTasks": 200,
                "numActiveTasks": 0,
                "numFailedTasks": 0,
                "numTotalTasks": 200
              }
            ],
            "status": "Success"
          },
          {
            "id": 50,
            "jobUrl": "https://azure.qubole.com/cluster-proxy?encodedUrl\u003dhttp%3A%2F%2F10.0.0.5%3A8088%2Fproxy%2Fapplication_1513309580436_0001/jobs/job?spark\u003dtrue\u0026id\u003d50",
            "numTasks": 396,
            "numCompletedTasks": 206,
            "stages": [
              {
                "id": 78,
                "completed": true,
                "stageUrl": "https://azure.qubole.com/cluster-proxy?encodedUrl\u003dhttp%3A%2F%2F10.0.0.5%3A8088%2Fproxy%2Fapplication_1513309580436_0001/stages/stage/?id\u003d78\u0026attempt\u003d0",
                "numCompleteTasks": 0,
                "numActiveTasks": 0,
                "numFailedTasks": 0,
                "numTotalTasks": 0
              },
              {
                "id": 79,
                "completed": true,
                "stageUrl": "https://azure.qubole.com/cluster-proxy?encodedUrl\u003dhttp%3A%2F%2F10.0.0.5%3A8088%2Fproxy%2Fapplication_1513309580436_0001/stages/stage/?id\u003d79\u0026attempt\u003d0",
                "numCompleteTasks": 200,
                "numActiveTasks": 0,
                "numFailedTasks": 0,
                "numTotalTasks": 200
              },
              {
                "id": 80,
                "completed": true,
                "stageUrl": "https://azure.qubole.com/cluster-proxy?encodedUrl\u003dhttp%3A%2F%2F10.0.0.5%3A8088%2Fproxy%2Fapplication_1513309580436_0001/stages/stage/?id\u003d80\u0026attempt\u003d0",
                "numCompleteTasks": 6,
                "numActiveTasks": 0,
                "numFailedTasks": 0,
                "numTotalTasks": 6
              }
            ],
            "status": "Success"
          },
          {
            "id": 51,
            "jobUrl": "https://azure.qubole.com/cluster-proxy?encodedUrl\u003dhttp%3A%2F%2F10.0.0.5%3A8088%2Fproxy%2Fapplication_1513309580436_0001/jobs/job?spark\u003dtrue\u0026id\u003d51",
            "numTasks": 356,
            "numCompletedTasks": 356,
            "stages": [
              {
                "id": 81,
                "completed": true,
                "stageUrl": "https://azure.qubole.com/cluster-proxy?encodedUrl\u003dhttp%3A%2F%2F10.0.0.5%3A8088%2Fproxy%2Fapplication_1513309580436_0001/stages/stage/?id\u003d81\u0026attempt\u003d0",
                "numCompleteTasks": 355,
                "numActiveTasks": 0,
                "numFailedTasks": 0,
                "numTotalTasks": 355
              },
              {
                "id": 82,
                "completed": true,
                "stageUrl": "https://azure.qubole.com/cluster-proxy?encodedUrl\u003dhttp%3A%2F%2F10.0.0.5%3A8088%2Fproxy%2Fapplication_1513309580436_0001/stages/stage/?id\u003d82\u0026attempt\u003d0",
                "numCompleteTasks": 1,
                "numActiveTasks": 0,
                "numFailedTasks": 0,
                "numTotalTasks": 1
              }
            ],
            "status": "Success"
          },
          {
            "id": 52,
            "jobUrl": "https://azure.qubole.com/cluster-proxy?encodedUrl\u003dhttp%3A%2F%2F10.0.0.5%3A8088%2Fproxy%2Fapplication_1513309580436_0001/jobs/job?spark\u003dtrue\u0026id\u003d52",
            "numTasks": 359,
            "numCompletedTasks": 4,
            "stages": [
              {
                "id": 84,
                "completed": true,
                "stageUrl": "https://azure.qubole.com/cluster-proxy?encodedUrl\u003dhttp%3A%2F%2F10.0.0.5%3A8088%2Fproxy%2Fapplication_1513309580436_0001/stages/stage/?id\u003d84\u0026attempt\u003d0",
                "numCompleteTasks": 4,
                "numActiveTasks": 0,
                "numFailedTasks": 0,
                "numTotalTasks": 4
              },
              {
                "id": 83,
                "completed": true,
                "stageUrl": "https://azure.qubole.com/cluster-proxy?encodedUrl\u003dhttp%3A%2F%2F10.0.0.5%3A8088%2Fproxy%2Fapplication_1513309580436_0001/stages/stage/?id\u003d83\u0026attempt\u003d0",
                "numCompleteTasks": 0,
                "numActiveTasks": 0,
                "numFailedTasks": 0,
                "numTotalTasks": 0
              }
            ],
            "status": "Success"
          },
          {
            "id": 53,
            "jobUrl": "https://azure.qubole.com/cluster-proxy?encodedUrl\u003dhttp%3A%2F%2F10.0.0.5%3A8088%2Fproxy%2Fapplication_1513309580436_0001/jobs/job?spark\u003dtrue\u0026id\u003d53",
            "numTasks": 375,
            "numCompletedTasks": 20,
            "stages": [
              {
                "id": 85,
                "completed": true,
                "stageUrl": "https://azure.qubole.com/cluster-proxy?encodedUrl\u003dhttp%3A%2F%2F10.0.0.5%3A8088%2Fproxy%2Fapplication_1513309580436_0001/stages/stage/?id\u003d85\u0026attempt\u003d0",
                "numCompleteTasks": 0,
                "numActiveTasks": 0,
                "numFailedTasks": 0,
                "numTotalTasks": 0
              },
              {
                "id": 86,
                "completed": true,
                "stageUrl": "https://azure.qubole.com/cluster-proxy?encodedUrl\u003dhttp%3A%2F%2F10.0.0.5%3A8088%2Fproxy%2Fapplication_1513309580436_0001/stages/stage/?id\u003d86\u0026attempt\u003d0",
                "numCompleteTasks": 20,
                "numActiveTasks": 0,
                "numFailedTasks": 0,
                "numTotalTasks": 20
              }
            ],
            "status": "Success"
          },
          {
            "id": 54,
            "jobUrl": "https://azure.qubole.com/cluster-proxy?encodedUrl\u003dhttp%3A%2F%2F10.0.0.5%3A8088%2Fproxy%2Fapplication_1513309580436_0001/jobs/job?spark\u003dtrue\u0026id\u003d54",
            "numTasks": 455,
            "numCompletedTasks": 100,
            "stages": [
              {
                "id": 88,
                "completed": true,
                "stageUrl": "https://azure.qubole.com/cluster-proxy?encodedUrl\u003dhttp%3A%2F%2F10.0.0.5%3A8088%2Fproxy%2Fapplication_1513309580436_0001/stages/stage/?id\u003d88\u0026attempt\u003d0",
                "numCompleteTasks": 100,
                "numActiveTasks": 0,
                "numFailedTasks": 0,
                "numTotalTasks": 100
              },
              {
                "id": 87,
                "completed": true,
                "stageUrl": "https://azure.qubole.com/cluster-proxy?encodedUrl\u003dhttp%3A%2F%2F10.0.0.5%3A8088%2Fproxy%2Fapplication_1513309580436_0001/stages/stage/?id\u003d87\u0026attempt\u003d0",
                "numCompleteTasks": 0,
                "numActiveTasks": 0,
                "numFailedTasks": 0,
                "numTotalTasks": 0
              }
            ],
            "status": "Success"
          },
          {
            "id": 55,
            "jobUrl": "https://azure.qubole.com/cluster-proxy?encodedUrl\u003dhttp%3A%2F%2F10.0.0.5%3A8088%2Fproxy%2Fapplication_1513309580436_0001/jobs/job?spark\u003dtrue\u0026id\u003d55",
            "numTasks": 430,
            "numCompletedTasks": 75,
            "stages": [
              {
                "id": 89,
                "completed": true,
                "stageUrl": "https://azure.qubole.com/cluster-proxy?encodedUrl\u003dhttp%3A%2F%2F10.0.0.5%3A8088%2Fproxy%2Fapplication_1513309580436_0001/stages/stage/?id\u003d89\u0026attempt\u003d0",
                "numCompleteTasks": 0,
                "numActiveTasks": 0,
                "numFailedTasks": 0,
                "numTotalTasks": 0
              },
              {
                "id": 90,
                "completed": true,
                "stageUrl": "https://azure.qubole.com/cluster-proxy?encodedUrl\u003dhttp%3A%2F%2F10.0.0.5%3A8088%2Fproxy%2Fapplication_1513309580436_0001/stages/stage/?id\u003d90\u0026attempt\u003d0",
                "numCompleteTasks": 75,
                "numActiveTasks": 0,
                "numFailedTasks": 0,
                "numTotalTasks": 75
              }
            ],
            "status": "Success"
          }
        ],
        "numCompletedTasks": 961,
        "numTasks": 2761,
        "truncated": false
      },
      "jobName": "paragraph_1513311452050_-607909683",
      "id": "20171215-041732_1998250973_q_8YVGJMASEQ1515692831",
      "result": {
        "code": "SUCCESS",
        "type": "TEXT",
        "msg": "\nar: Array[org.apache.spark.sql.Row] \u003d Array([0.6], [0.3294805451993697], [0.2239387165111951], [0.12779062564181343], [0.046903014985450894])\n\nar2: Array[Double] \u003d Array(0.6, 0.3294805451993697, 0.2239387165111951, 0.12779062564181343, 0.046903014985450894)\n\nfractionKeyMap: scala.collection.immutable.Map[Int,Double] \u003d Map(0 -\u003e 0.6, 1 -\u003e 0.3294805451993697, 2 -\u003e 0.2239387165111951, 3 -\u003e 0.12779062564181343, 4 -\u003e 0.046903014985450894)\n\nfractionKeyMap: scala.collection.immutable.Map[Int,Double] \u003d Map(0 -\u003e 0.008704061895551257, 1 -\u003e 1.0, 2 -\u003e 0.21875, 3 -\u003e 0.19626168224299065, 4 -\u003e 0.02679710761378137)\n\nfiftyPerFrom80orHigher: scala.collection.immutable.Map[Int,Double] \u003d Map(0 -\u003e 0.008704061895551257, 1 -\u003e 1.0, 2 -\u003e 0.21875, 3 -\u003e 0.19626168224299065, 4 -\u003e 0.5)\n\nstratSampled: org.apache.spark.sql.DataFrame \u003d [asin: string, helpful: array\u003cbigint\u003e ... 12 more fields]\n+---------+------+\n|score_bin| count|\n+---------+------+\n|      0.0|  1122|\n|      1.0|232282|\n|      4.0| 43662|\n|      3.0|117010|\n|      2.0| 74805|\n+---------+------+\n\n"
      },
      "dateCreated": "Dec 15, 2017 4:17:32 AM",
      "dateStarted": "Dec 15, 2017 4:18:07 AM",
      "dateFinished": "Dec 15, 2017 4:19:33 AM",
      "status": "FINISHED",
      "progressUpdateIntervalMs": 500
    },
    {
      "text": "stratSampled.count",
      "user": "rajivkalapala@precocityllc.com",
      "dateUpdated": "Dec 15, 2017 4:19:42 AM",
      "config": {
        "colWidth": 12.0,
        "graph": {
          "mode": "table",
          "height": 300.0,
          "optionOpen": false,
          "keys": [],
          "values": [],
          "groups": [],
          "scatter": {}
        },
        "enabled": true,
        "editorMode": "ace/mode/scala"
      },
      "settings": {
        "params": {},
        "forms": {}
      },
      "paragraphProgress": {
        "jobs": [
          {
            "id": 56,
            "jobUrl": "https://azure.qubole.com/cluster-proxy?encodedUrl\u003dhttp%3A%2F%2F10.0.0.5%3A8088%2Fproxy%2Fapplication_1513309580436_0001/jobs/job?spark\u003dtrue\u0026id\u003d56",
            "numTasks": 427,
            "numCompletedTasks": 427,
            "stages": [
              {
                "id": 91,
                "completed": true,
                "stageUrl": "https://azure.qubole.com/cluster-proxy?encodedUrl\u003dhttp%3A%2F%2F10.0.0.5%3A8088%2Fproxy%2Fapplication_1513309580436_0001/stages/stage/?id\u003d91\u0026attempt\u003d0",
                "numCompleteTasks": 426,
                "numActiveTasks": 0,
                "numFailedTasks": 0,
                "numTotalTasks": 426
              },
              {
                "id": 92,
                "completed": true,
                "stageUrl": "https://azure.qubole.com/cluster-proxy?encodedUrl\u003dhttp%3A%2F%2F10.0.0.5%3A8088%2Fproxy%2Fapplication_1513309580436_0001/stages/stage/?id\u003d92\u0026attempt\u003d0",
                "numCompleteTasks": 1,
                "numActiveTasks": 0,
                "numFailedTasks": 0,
                "numTotalTasks": 1
              }
            ],
            "status": "Success"
          }
        ],
        "numCompletedTasks": 427,
        "numTasks": 427,
        "truncated": false
      },
      "jobName": "paragraph_1513311487289_-1814036188",
      "id": "20171215-041807_1516250291_q_8YVGJMASEQ1515692831",
      "result": {
        "code": "SUCCESS",
        "type": "TEXT",
        "msg": "\nres24: Long \u003d 469312\n"
      },
      "dateCreated": "Dec 15, 2017 4:18:07 AM",
      "dateStarted": "Dec 15, 2017 4:19:42 AM",
      "dateFinished": "Dec 15, 2017 4:20:53 AM",
      "status": "FINISHED",
      "progressUpdateIntervalMs": 500
    },
    {
      "text": "val inputDf2 \u003d stratSampled.withColumn(\"fullReview\", concat(inputDf(\"summary\"), lit(\" \"), inputDf(\"reviewText\")))\nval regexTokenizer \u003d new RegexTokenizer()\n  .setInputCol(\"fullReview\")\n  .setOutputCol(\"fullReviewWords\")\n  .setPattern(\"\\\\W\")\nval regexTokenized \u003d regexTokenizer.transform(inputDf2)\nval remover \u003d new StopWordsRemover()\n  .setInputCol(\"fullReviewWords\")\n  .setOutputCol(\"filteredReviewWords\")\nval cleanDf \u003d remover.transform(regexTokenized)\ncleanDf.select(\"filteredReviewWords\").first",
      "user": "rajivkalapala@precocityllc.com",
      "dateUpdated": "Dec 15, 2017 4:23:39 AM",
      "config": {
        "colWidth": 12.0,
        "graph": {
          "mode": "table",
          "height": 300.0,
          "optionOpen": false,
          "keys": [],
          "values": [],
          "groups": [],
          "scatter": {}
        },
        "enabled": true,
        "editorMode": "ace/mode/scala"
      },
      "settings": {
        "params": {},
        "forms": {}
      },
      "paragraphProgress": {
        "jobs": [
          {
            "id": 57,
            "jobUrl": "https://azure.qubole.com/cluster-proxy?encodedUrl\u003dhttp%3A%2F%2F10.0.0.5%3A8088%2Fproxy%2Fapplication_1513309580436_0001/jobs/job?spark\u003dtrue\u0026id\u003d57",
            "numTasks": 1,
            "numCompletedTasks": 1,
            "stages": [
              {
                "id": 93,
                "completed": true,
                "stageUrl": "https://azure.qubole.com/cluster-proxy?encodedUrl\u003dhttp%3A%2F%2F10.0.0.5%3A8088%2Fproxy%2Fapplication_1513309580436_0001/stages/stage/?id\u003d93\u0026attempt\u003d0",
                "numCompleteTasks": 1,
                "numActiveTasks": 0,
                "numFailedTasks": 0,
                "numTotalTasks": 1
              }
            ],
            "status": "Success"
          }
        ],
        "numCompletedTasks": 1,
        "numTasks": 1,
        "truncated": false
      },
      "jobName": "paragraph_1513311582815_-1895078644",
      "id": "20171215-041942_30920094_q_8YVGJMASEQ1515692831",
      "result": {
        "code": "SUCCESS",
        "type": "TEXT",
        "msg": "\ninputDf2: org.apache.spark.sql.DataFrame \u003d [asin: string, helpful: array\u003cbigint\u003e ... 13 more fields]\n\nregexTokenizer: org.apache.spark.ml.feature.RegexTokenizer \u003d regexTok_b139235167bc\n\nregexTokenized: org.apache.spark.sql.DataFrame \u003d [asin: string, helpful: array\u003cbigint\u003e ... 14 more fields]\n\nremover: org.apache.spark.ml.feature.StopWordsRemover \u003d stopWords_1f5a5f86b340\n\ncleanDf: org.apache.spark.sql.DataFrame \u003d [asin: string, helpful: array\u003cbigint\u003e ... 15 more fields]\nres26: org.apache.spark.sql.Row \u003d [WrappedArray(dumb, sleazy, funny, show, plain, dumb, funny, sad, much, tv, comedy, deteriorated, gone, days, fantastic, shows, like, seinfeld, cheers, frasier, everybody, loves, raymond, tool, time, etc, replaces, shows, like, one, 2, dimensional, stupid, characters, bad, acting, idiotic, writing, sleazy, behavior, supposed, funny, 3, guys, characters, exactly, personality, unlikeable, dumb, juvenile, infantile, sleazy, lack, redeeming, qualities, girl, shallow, personality, female, version, stories, theme, juvenile, pursuits, cheap, thrills, like, one, night, stands, referred, banging, getting, quick, cash, without, effort, get, thrills, 4, characters, even, father, season, 2, willing, anything, banging, guy, mom, selling, alcohol, minors, threatening..."
      },
      "dateCreated": "Dec 15, 2017 4:19:42 AM",
      "dateStarted": "Dec 15, 2017 4:23:39 AM",
      "dateFinished": "Dec 15, 2017 4:23:48 AM",
      "status": "FINISHED",
      "progressUpdateIntervalMs": 500
    },
    {
      "text": "val filterByLengthUDF \u003d sqlContext.udf.register(\"filterByLength\", (x:WrappedArray[String], y:Int) \u003d\u003e x.filter(_.length \u003e\u003d y))\ncleanDf.createOrReplaceTempView(\"cleanDf\")\nval cleanDf2 \u003d cleanDf.sqlContext.sql(\"select *, filterByLength(filteredReviewWords, 3) as goodWords from cleanDf\")\nval unigram \u003d new NGram().setN(1).setInputCol(\"goodWords\").setOutputCol(\"unigrams\")\nval bigram \u003d new NGram().setN(2).setInputCol(\"goodWords\").setOutputCol(\"bigrams\")\nval trigram \u003d new NGram().setN(3).setInputCol(\"goodWords\").setOutputCol(\"trigrams\")\nval unigramDf \u003d unigram.transform(cleanDf2)\nval bigramDf \u003d bigram.transform(unigramDf)\nvar ngramDf \u003d trigram.transform(bigramDf)\nval concat2ArraysUDF \u003d udf { (uni: WrappedArray[String],bi:WrappedArray[String]) \u003d\u003e uni ++ bi }\nngramDf \u003d ngramDf.withColumn(\"uniAndBi\",concat2ArraysUDF(ngramDf(\"unigrams\"), ngramDf(\"bigrams\")))\nngramDf \u003d ngramDf.withColumn(\"allGrams\",concat2ArraysUDF(ngramDf(\"uniAndBi\"), ngramDf(\"trigrams\")))\nval hashingTF \u003d new HashingTF().setInputCol(\"allGrams\").setOutputCol(\"rawFeatures\").setNumFeatures(300)\nval featurizedData \u003d hashingTF.transform(ngramDf)\nval idf \u003d new IDF().setInputCol(\"rawFeatures\").setOutputCol(\"features\")\nval idfModel \u003d idf.fit(featurizedData)\nval rescaledData \u003d idfModel.transform(featurizedData)",
      "user": "rajivkalapala@precocityllc.com",
      "dateUpdated": "Dec 15, 2017 4:23:58 AM",
      "config": {
        "colWidth": 12.0,
        "graph": {
          "mode": "table",
          "height": 300.0,
          "optionOpen": false,
          "keys": [],
          "values": [],
          "groups": [],
          "scatter": {}
        },
        "enabled": true,
        "editorMode": "ace/mode/scala"
      },
      "settings": {
        "params": {},
        "forms": {}
      },
      "paragraphProgress": {
        "jobs": [
          {
            "id": 58,
            "jobUrl": "https://azure.qubole.com/cluster-proxy?encodedUrl\u003dhttp%3A%2F%2F10.0.0.5%3A8088%2Fproxy%2Fapplication_1513309580436_0001/jobs/job?spark\u003dtrue\u0026id\u003d58",
            "numTasks": 373,
            "numCompletedTasks": 373,
            "stages": [
              {
                "id": 94,
                "completed": true,
                "stageUrl": "https://azure.qubole.com/cluster-proxy?encodedUrl\u003dhttp%3A%2F%2F10.0.0.5%3A8088%2Fproxy%2Fapplication_1513309580436_0001/stages/stage/?id\u003d94\u0026attempt\u003d0",
                "numCompleteTasks": 355,
                "numActiveTasks": 0,
                "numFailedTasks": 0,
                "numTotalTasks": 355
              },
              {
                "id": 95,
                "completed": true,
                "stageUrl": "https://azure.qubole.com/cluster-proxy?encodedUrl\u003dhttp%3A%2F%2F10.0.0.5%3A8088%2Fproxy%2Fapplication_1513309580436_0001/stages/stage/?id\u003d95\u0026attempt\u003d0",
                "numCompleteTasks": 18,
                "numActiveTasks": 0,
                "numFailedTasks": 0,
                "numTotalTasks": 18
              }
            ],
            "status": "Success"
          }
        ],
        "numCompletedTasks": 373,
        "numTasks": 373,
        "truncated": false
      },
      "jobName": "paragraph_1513311614136_1755095468",
      "id": "20171215-042014_955025893_q_8YVGJMASEQ1515692831",
      "result": {
        "code": "SUCCESS",
        "type": "TEXT",
        "msg": "\nfilterByLengthUDF: org.apache.spark.sql.expressions.UserDefinedFunction \u003d UserDefinedFunction(\u003cfunction2\u003e,ArrayType(StringType,true),Some(List(ArrayType(StringType,true), IntegerType)))\n\ncleanDf2: org.apache.spark.sql.DataFrame \u003d [asin: string, helpful: array\u003cbigint\u003e ... 16 more fields]\n\nunigram: org.apache.spark.ml.feature.NGram \u003d ngram_28f4ccfe9c3e\n\nbigram: org.apache.spark.ml.feature.NGram \u003d ngram_2065f2db90e6\n\ntrigram: org.apache.spark.ml.feature.NGram \u003d ngram_72f13bba1e99\n\nunigramDf: org.apache.spark.sql.DataFrame \u003d [asin: string, helpful: array\u003cbigint\u003e ... 17 more fields]\n\nbigramDf: org.apache.spark.sql.DataFrame \u003d [asin: string, helpful: array\u003cbigint\u003e ... 18 more fields]\n\nngramDf: org.apache.spark.sql.DataFrame \u003d [asin: string, helpful: array\u003cbigint\u003e ... 19 more fields]\n\nconcat2ArraysUDF: org.apache.spark.sql.expressions.UserDefinedFunction \u003d UserDefinedFunction(\u003cfunction2\u003e,ArrayType(StringType,true),Some(List(ArrayType(StringType,true), ArrayType(StringType,true))))\n\nngramDf: org.apache.spark.sql.DataFrame \u003d [asin: string, helpful: array\u003cbigint\u003e ... 20 more fields]\n\nngramDf: org.apache.spark.sql.DataFrame \u003d [asin: string, helpful: array\u003cbigint\u003e ... 21 more fields]\n\nhashingTF: org.apache.spark.ml.feature.HashingTF \u003d hashingTF_6a8327f57541\n\nfeaturizedData: org.apache.spark.sql.DataFrame \u003d [asin: string, helpful: array\u003cbigint\u003e ... 22 more fields]\n\nidf: org.apache.spark.ml.feature.IDF \u003d idf_5aa756da7aa0\n\nidfModel: org.apache.spark.ml.feature.IDFModel \u003d idf_5aa756da7aa0\n\nrescaledData: org.apache.spark.sql.DataFrame \u003d [asin: string, helpful: array\u003cbigint\u003e ... 23 more fields]\n"
      },
      "dateCreated": "Dec 15, 2017 4:20:14 AM",
      "dateStarted": "Dec 15, 2017 4:23:58 AM",
      "dateFinished": "Dec 15, 2017 4:26:27 AM",
      "status": "FINISHED",
      "progressUpdateIntervalMs": 500
    },
    {
      "text": "//val scoreUDF \u003d sqlContext.udf.register(\"score\", (x:WrappedArray[Long]) \u003d\u003e if(x(1) \u003d\u003d 0) 0 else 1.0*x(0)/(1.0*x(1)))\nrescaledData.createOrReplaceTempView(\"rescaledData\")\n//val scoredDf \u003d sqlContext.sql(\"select *, score(helpful) as score from rescaledData\")\n//scoredDf.createOrReplaceTempView(\"scoredDf\")\nval goodDf \u003d sqlContext.sql(\"select features, case when score \u003c\u003d 0.8 then 0 else 1 end as label from rescaledData \")\nval badDf \u003d sqlContext.sql(\"select features, case when score \u003e 0.2 then 0 else 1 end as label from rescaledData \")",
      "user": "rajivkalapala@precocityllc.com",
      "dateUpdated": "Dec 15, 2017 4:27:44 AM",
      "config": {
        "colWidth": 12.0,
        "graph": {
          "mode": "table",
          "height": 300.0,
          "optionOpen": false,
          "keys": [],
          "values": [],
          "groups": [],
          "scatter": {}
        },
        "enabled": true,
        "editorMode": "ace/mode/scala"
      },
      "settings": {
        "params": {},
        "forms": {}
      },
      "paragraphProgress": {
        "jobs": [],
        "numCompletedTasks": 0,
        "numTasks": 0,
        "truncated": false
      },
      "jobName": "paragraph_1513311620102_2069450644",
      "id": "20171215-042020_395885050_q_8YVGJMASEQ1515692831",
      "result": {
        "code": "SUCCESS",
        "type": "TEXT",
        "msg": "\ngoodDf: org.apache.spark.sql.DataFrame \u003d [features: vector, label: int]\n\nbadDf: org.apache.spark.sql.DataFrame \u003d [features: vector, label: int]\n"
      },
      "dateCreated": "Dec 15, 2017 4:20:20 AM",
      "dateStarted": "Dec 15, 2017 4:27:44 AM",
      "dateFinished": "Dec 15, 2017 4:27:46 AM",
      "status": "FINISHED",
      "progressUpdateIntervalMs": 500
    },
    {
      "text": "val goodSplits \u003d featurizedDF.randomSplit(Array(0.8, 0.2), seed \u003d 11L)\nval goodTraining \u003d goodSplits(0).cache()\nval goodTest \u003d goodSplits(1)",
      "user": "davidgillen@precocityllc.com",
      "dateUpdated": "Jan 2, 2018 6:54:13 PM",
      "config": {
        "colWidth": 12.0,
        "graph": {
          "mode": "table",
          "height": 300.0,
          "optionOpen": false,
          "keys": [],
          "values": [],
          "groups": [],
          "scatter": {}
        },
        "enabled": true,
        "editorMode": "ace/mode/scala"
      },
      "settings": {
        "params": {},
        "forms": {}
      },
      "paragraphProgress": {
        "jobs": [],
        "numCompletedTasks": 0,
        "numTasks": 0,
        "truncated": false
      },
      "jobName": "paragraph_1513311640029_1045850003",
      "id": "20171215-042040_2029423294_q_8YVGJMASEQ1515692831",
      "result": {
        "code": "SUCCESS",
        "type": "TEXT",
        "msg": "\ngoodSplits: Array[org.apache.spark.sql.Dataset[org.apache.spark.sql.Row]] \u003d Array([features: vector, label: int], [features: vector, label: int])\n\ngoodTraining: org.apache.spark.sql.Dataset[org.apache.spark.sql.Row] \u003d [features: vector, label: int]\n\ngoodTest: org.apache.spark.sql.Dataset[org.apache.spark.sql.Row] \u003d [features: vector, label: int]\n"
      },
      "dateCreated": "Dec 15, 2017 4:20:40 AM",
      "dateStarted": "Jan 2, 2018 6:54:13 PM",
      "dateFinished": "Jan 2, 2018 6:54:17 PM",
      "status": "FINISHED",
      "progressUpdateIntervalMs": 500
    },
    {
      "text": "var lr \u003d new LogisticRegression()\nvar evaluator \u003d new BinaryClassificationEvaluator()\nval pipeline \u003d new Pipeline().setStages(Array(lr))\n//val paramGrid \u003d new ParamGridBuilder().addGrid(lr.regParam, Array(0.01, 0.1, 1.0, 10, 100)).build()\nval paramGrid \u003d new ParamGridBuilder()\n             .addGrid(lr.regParam, Array(0.01, 0.5, 2.0))\n             .addGrid(lr.elasticNetParam,Array(0.0, 0.5, 1.0))\n             .addGrid(lr.maxIter, Array(1, 5, 10))\n             .build()\nval cv \u003d new CrossValidator()\n  .setEstimator(pipeline)\n  .setEvaluator(evaluator)\n  .setEstimatorParamMaps(paramGrid)\n  .setNumFolds(3)  // Use 3+ in practice\nval cvModel \u003d cv.fit(goodTraining)\nvar predictions \u003d cvModel.transform(goodTest)\nevaluator.evaluate(predictions)",
      "user": "davidgillen@precocityllc.com",
      "dateUpdated": "Dec 27, 2017 8:12:09 PM",
      "config": {
        "colWidth": 12.0,
        "graph": {
          "mode": "table",
          "height": 300.0,
          "optionOpen": false,
          "keys": [],
          "values": [],
          "groups": [],
          "scatter": {}
        },
        "enabled": true,
        "editorMode": "ace/mode/scala"
      },
      "settings": {
        "params": {},
        "forms": {}
      },
      "paragraphProgress": {
        "jobs": [
          {
            "id": 2373,
            "jobUrl": "https://azure.qubole.com/cluster-proxy?encodedUrl\u003dhttp%3A%2F%2F10.0.0.4%3A8088%2Fproxy%2Fapplication_1514389998215_0001/jobs/job?spark\u003dtrue\u0026id\u003d2373",
            "numTasks": 924,
            "numCompletedTasks": 924,
            "stages": [
              {
                "id": 5190,
                "completed": true,
                "stageUrl": "https://azure.qubole.com/cluster-proxy?encodedUrl\u003dhttp%3A%2F%2F10.0.0.4%3A8088%2Fproxy%2Fapplication_1514389998215_0001/stages/stage/?id\u003d5190\u0026attempt\u003d0",
                "numCompleteTasks": 462,
                "numActiveTasks": 0,
                "numFailedTasks": 0,
                "numTotalTasks": 462
              },
              {
                "id": 5191,
                "completed": true,
                "stageUrl": "https://azure.qubole.com/cluster-proxy?encodedUrl\u003dhttp%3A%2F%2F10.0.0.4%3A8088%2Fproxy%2Fapplication_1514389998215_0001/stages/stage/?id\u003d5191\u0026attempt\u003d0",
                "numCompleteTasks": 462,
                "numActiveTasks": 0,
                "numFailedTasks": 0,
                "numTotalTasks": 462
              }
            ],
            "status": "Success"
          },
          {
            "id": 2374,
            "jobUrl": "https://azure.qubole.com/cluster-proxy?encodedUrl\u003dhttp%3A%2F%2F10.0.0.4%3A8088%2Fproxy%2Fapplication_1514389998215_0001/jobs/job?spark\u003dtrue\u0026id\u003d2374",
            "numTasks": 926,
            "numCompletedTasks": 464,
            "stages": [
              {
                "id": 5192,
                "completed": true,
                "stageUrl": "https://azure.qubole.com/cluster-proxy?encodedUrl\u003dhttp%3A%2F%2F10.0.0.4%3A8088%2Fproxy%2Fapplication_1514389998215_0001/stages/stage/?id\u003d5192\u0026attempt\u003d0",
                "numCompleteTasks": 0,
                "numActiveTasks": 0,
                "numFailedTasks": 0,
                "numTotalTasks": 0
              },
              {
                "id": 5193,
                "completed": true,
                "stageUrl": "https://azure.qubole.com/cluster-proxy?encodedUrl\u003dhttp%3A%2F%2F10.0.0.4%3A8088%2Fproxy%2Fapplication_1514389998215_0001/stages/stage/?id\u003d5193\u0026attempt\u003d0",
                "numCompleteTasks": 462,
                "numActiveTasks": 0,
                "numFailedTasks": 0,
                "numTotalTasks": 462
              },
              {
                "id": 5194,
                "completed": true,
                "stageUrl": "https://azure.qubole.com/cluster-proxy?encodedUrl\u003dhttp%3A%2F%2F10.0.0.4%3A8088%2Fproxy%2Fapplication_1514389998215_0001/stages/stage/?id\u003d5194\u0026attempt\u003d0",
                "numCompleteTasks": 2,
                "numActiveTasks": 0,
                "numFailedTasks": 0,
                "numTotalTasks": 2
              }
            ],
            "status": "Success"
          },
          {
            "id": 2375,
            "jobUrl": "https://azure.qubole.com/cluster-proxy?encodedUrl\u003dhttp%3A%2F%2F10.0.0.4%3A8088%2Fproxy%2Fapplication_1514389998215_0001/jobs/job?spark\u003dtrue\u0026id\u003d2375",
            "numTasks": 928,
            "numCompletedTasks": 4,
            "stages": [
              {
                "id": 5195,
                "completed": true,
                "stageUrl": "https://azure.qubole.com/cluster-proxy?encodedUrl\u003dhttp%3A%2F%2F10.0.0.4%3A8088%2Fproxy%2Fapplication_1514389998215_0001/stages/stage/?id\u003d5195\u0026attempt\u003d0",
                "numCompleteTasks": 0,
                "numActiveTasks": 0,
                "numFailedTasks": 0,
                "numTotalTasks": 0
              },
              {
                "id": 5196,
                "completed": true,
                "stageUrl": "https://azure.qubole.com/cluster-proxy?encodedUrl\u003dhttp%3A%2F%2F10.0.0.4%3A8088%2Fproxy%2Fapplication_1514389998215_0001/stages/stage/?id\u003d5196\u0026attempt\u003d0",
                "numCompleteTasks": 0,
                "numActiveTasks": 0,
                "numFailedTasks": 0,
                "numTotalTasks": 0
              },
              {
                "id": 5197,
                "completed": true,
                "stageUrl": "https://azure.qubole.com/cluster-proxy?encodedUrl\u003dhttp%3A%2F%2F10.0.0.4%3A8088%2Fproxy%2Fapplication_1514389998215_0001/stages/stage/?id\u003d5197\u0026attempt\u003d0",
                "numCompleteTasks": 4,
                "numActiveTasks": 0,
                "numFailedTasks": 0,
                "numTotalTasks": 4
              }
            ],
            "status": "Success"
          },
          {
            "id": 2376,
            "jobUrl": "https://azure.qubole.com/cluster-proxy?encodedUrl\u003dhttp%3A%2F%2F10.0.0.4%3A8088%2Fproxy%2Fapplication_1514389998215_0001/jobs/job?spark\u003dtrue\u0026id\u003d2376",
            "numTasks": 926,
            "numCompletedTasks": 2,
            "stages": [
              {
                "id": 5198,
                "completed": true,
                "stageUrl": "https://azure.qubole.com/cluster-proxy?encodedUrl\u003dhttp%3A%2F%2F10.0.0.4%3A8088%2Fproxy%2Fapplication_1514389998215_0001/stages/stage/?id\u003d5198\u0026attempt\u003d0",
                "numCompleteTasks": 0,
                "numActiveTasks": 0,
                "numFailedTasks": 0,
                "numTotalTasks": 0
              },
              {
                "id": 5199,
                "completed": true,
                "stageUrl": "https://azure.qubole.com/cluster-proxy?encodedUrl\u003dhttp%3A%2F%2F10.0.0.4%3A8088%2Fproxy%2Fapplication_1514389998215_0001/stages/stage/?id\u003d5199\u0026attempt\u003d0",
                "numCompleteTasks": 0,
                "numActiveTasks": 0,
                "numFailedTasks": 0,
                "numTotalTasks": 0
              },
              {
                "id": 5200,
                "completed": true,
                "stageUrl": "https://azure.qubole.com/cluster-proxy?encodedUrl\u003dhttp%3A%2F%2F10.0.0.4%3A8088%2Fproxy%2Fapplication_1514389998215_0001/stages/stage/?id\u003d5200\u0026attempt\u003d0",
                "numCompleteTasks": 2,
                "numActiveTasks": 0,
                "numFailedTasks": 0,
                "numTotalTasks": 2
              }
            ],
            "status": "Success"
          },
          {
            "id": 2377,
            "jobUrl": "https://azure.qubole.com/cluster-proxy?encodedUrl\u003dhttp%3A%2F%2F10.0.0.4%3A8088%2Fproxy%2Fapplication_1514389998215_0001/jobs/job?spark\u003dtrue\u0026id\u003d2377",
            "numTasks": 924,
            "numCompletedTasks": 924,
            "stages": [
              {
                "id": 5201,
                "completed": true,
                "stageUrl": "https://azure.qubole.com/cluster-proxy?encodedUrl\u003dhttp%3A%2F%2F10.0.0.4%3A8088%2Fproxy%2Fapplication_1514389998215_0001/stages/stage/?id\u003d5201\u0026attempt\u003d0",
                "numCompleteTasks": 462,
                "numActiveTasks": 0,
                "numFailedTasks": 0,
                "numTotalTasks": 462
              },
              {
                "id": 5202,
                "completed": true,
                "stageUrl": "https://azure.qubole.com/cluster-proxy?encodedUrl\u003dhttp%3A%2F%2F10.0.0.4%3A8088%2Fproxy%2Fapplication_1514389998215_0001/stages/stage/?id\u003d5202\u0026attempt\u003d0",
                "numCompleteTasks": 462,
                "numActiveTasks": 0,
                "numFailedTasks": 0,
                "numTotalTasks": 462
              }
            ],
            "status": "Success"
          },
          {
            "id": 2378,
            "jobUrl": "https://azure.qubole.com/cluster-proxy?encodedUrl\u003dhttp%3A%2F%2F10.0.0.4%3A8088%2Fproxy%2Fapplication_1514389998215_0001/jobs/job?spark\u003dtrue\u0026id\u003d2378",
            "numTasks": 926,
            "numCompletedTasks": 464,
            "stages": [
              {
                "id": 5203,
                "completed": true,
                "stageUrl": "https://azure.qubole.com/cluster-proxy?encodedUrl\u003dhttp%3A%2F%2F10.0.0.4%3A8088%2Fproxy%2Fapplication_1514389998215_0001/stages/stage/?id\u003d5203\u0026attempt\u003d0",
                "numCompleteTasks": 0,
                "numActiveTasks": 0,
                "numFailedTasks": 0,
                "numTotalTasks": 0
              },
              {
                "id": 5204,
                "completed": true,
                "stageUrl": "https://azure.qubole.com/cluster-proxy?encodedUrl\u003dhttp%3A%2F%2F10.0.0.4%3A8088%2Fproxy%2Fapplication_1514389998215_0001/stages/stage/?id\u003d5204\u0026attempt\u003d0",
                "numCompleteTasks": 462,
                "numActiveTasks": 0,
                "numFailedTasks": 0,
                "numTotalTasks": 462
              },
              {
                "id": 5205,
                "completed": true,
                "stageUrl": "https://azure.qubole.com/cluster-proxy?encodedUrl\u003dhttp%3A%2F%2F10.0.0.4%3A8088%2Fproxy%2Fapplication_1514389998215_0001/stages/stage/?id\u003d5205\u0026attempt\u003d0",
                "numCompleteTasks": 2,
                "numActiveTasks": 0,
                "numFailedTasks": 0,
                "numTotalTasks": 2
              }
            ],
            "status": "Success"
          },
          {
            "id": 2379,
            "jobUrl": "https://azure.qubole.com/cluster-proxy?encodedUrl\u003dhttp%3A%2F%2F10.0.0.4%3A8088%2Fproxy%2Fapplication_1514389998215_0001/jobs/job?spark\u003dtrue\u0026id\u003d2379",
            "numTasks": 928,
            "numCompletedTasks": 4,
            "stages": [
              {
                "id": 5207,
                "completed": true,
                "stageUrl": "https://azure.qubole.com/cluster-proxy?encodedUrl\u003dhttp%3A%2F%2F10.0.0.4%3A8088%2Fproxy%2Fapplication_1514389998215_0001/stages/stage/?id\u003d5207\u0026attempt\u003d0",
                "numCompleteTasks": 0,
                "numActiveTasks": 0,
                "numFailedTasks": 0,
                "numTotalTasks": 0
              },
              {
                "id": 5208,
                "completed": true,
                "stageUrl": "https://azure.qubole.com/cluster-proxy?encodedUrl\u003dhttp%3A%2F%2F10.0.0.4%3A8088%2Fproxy%2Fapplication_1514389998215_0001/stages/stage/?id\u003d5208\u0026attempt\u003d0",
                "numCompleteTasks": 4,
                "numActiveTasks": 0,
                "numFailedTasks": 0,
                "numTotalTasks": 4
              },
              {
                "id": 5206,
                "completed": true,
                "stageUrl": "https://azure.qubole.com/cluster-proxy?encodedUrl\u003dhttp%3A%2F%2F10.0.0.4%3A8088%2Fproxy%2Fapplication_1514389998215_0001/stages/stage/?id\u003d5206\u0026attempt\u003d0",
                "numCompleteTasks": 0,
                "numActiveTasks": 0,
                "numFailedTasks": 0,
                "numTotalTasks": 0
              }
            ],
            "status": "Success"
          },
          {
            "id": 2380,
            "jobUrl": "https://azure.qubole.com/cluster-proxy?encodedUrl\u003dhttp%3A%2F%2F10.0.0.4%3A8088%2Fproxy%2Fapplication_1514389998215_0001/jobs/job?spark\u003dtrue\u0026id\u003d2380",
            "numTasks": 926,
            "numCompletedTasks": 2,
            "stages": [
              {
                "id": 5210,
                "completed": true,
                "stageUrl": "https://azure.qubole.com/cluster-proxy?encodedUrl\u003dhttp%3A%2F%2F10.0.0.4%3A8088%2Fproxy%2Fapplication_1514389998215_0001/stages/stage/?id\u003d5210\u0026attempt\u003d0",
                "numCompleteTasks": 0,
                "numActiveTasks": 0,
                "numFailedTasks": 0,
                "numTotalTasks": 0
              },
              {
                "id": 5211,
                "completed": true,
                "stageUrl": "https://azure.qubole.com/cluster-proxy?encodedUrl\u003dhttp%3A%2F%2F10.0.0.4%3A8088%2Fproxy%2Fapplication_1514389998215_0001/stages/stage/?id\u003d5211\u0026attempt\u003d0",
                "numCompleteTasks": 2,
                "numActiveTasks": 0,
                "numFailedTasks": 0,
                "numTotalTasks": 2
              },
              {
                "id": 5209,
                "completed": true,
                "stageUrl": "https://azure.qubole.com/cluster-proxy?encodedUrl\u003dhttp%3A%2F%2F10.0.0.4%3A8088%2Fproxy%2Fapplication_1514389998215_0001/stages/stage/?id\u003d5209\u0026attempt\u003d0",
                "numCompleteTasks": 0,
                "numActiveTasks": 0,
                "numFailedTasks": 0,
                "numTotalTasks": 0
              }
            ],
            "status": "Success"
          },
          {
            "id": 2381,
            "jobUrl": "https://azure.qubole.com/cluster-proxy?encodedUrl\u003dhttp%3A%2F%2F10.0.0.4%3A8088%2Fproxy%2Fapplication_1514389998215_0001/jobs/job?spark\u003dtrue\u0026id\u003d2381",
            "numTasks": 924,
            "numCompletedTasks": 924,
            "stages": [
              {
                "id": 5213,
                "completed": true,
                "stageUrl": "https://azure.qubole.com/cluster-proxy?encodedUrl\u003dhttp%3A%2F%2F10.0.0.4%3A8088%2Fproxy%2Fapplication_1514389998215_0001/stages/stage/?id\u003d5213\u0026attempt\u003d0",
                "numCompleteTasks": 462,
                "numActiveTasks": 0,
                "numFailedTasks": 0,
                "numTotalTasks": 462
              },
              {
                "id": 5212,
                "completed": true,
                "stageUrl": "https://azure.qubole.com/cluster-proxy?encodedUrl\u003dhttp%3A%2F%2F10.0.0.4%3A8088%2Fproxy%2Fapplication_1514389998215_0001/stages/stage/?id\u003d5212\u0026attempt\u003d0",
                "numCompleteTasks": 462,
                "numActiveTasks": 0,
                "numFailedTasks": 0,
                "numTotalTasks": 462
              }
            ],
            "status": "Success"
          },
          {
            "id": 2382,
            "jobUrl": "https://azure.qubole.com/cluster-proxy?encodedUrl\u003dhttp%3A%2F%2F10.0.0.4%3A8088%2Fproxy%2Fapplication_1514389998215_0001/jobs/job?spark\u003dtrue\u0026id\u003d2382",
            "numTasks": 926,
            "numCompletedTasks": 464,
            "stages": [
              {
                "id": 5216,
                "completed": true,
                "stageUrl": "https://azure.qubole.com/cluster-proxy?encodedUrl\u003dhttp%3A%2F%2F10.0.0.4%3A8088%2Fproxy%2Fapplication_1514389998215_0001/stages/stage/?id\u003d5216\u0026attempt\u003d0",
                "numCompleteTasks": 2,
                "numActiveTasks": 0,
                "numFailedTasks": 0,
                "numTotalTasks": 2
              },
              {
                "id": 5214,
                "completed": true,
                "stageUrl": "https://azure.qubole.com/cluster-proxy?encodedUrl\u003dhttp%3A%2F%2F10.0.0.4%3A8088%2Fproxy%2Fapplication_1514389998215_0001/stages/stage/?id\u003d5214\u0026attempt\u003d0",
                "numCompleteTasks": 0,
                "numActiveTasks": 0,
                "numFailedTasks": 0,
                "numTotalTasks": 0
              },
              {
                "id": 5215,
                "completed": true,
                "stageUrl": "https://azure.qubole.com/cluster-proxy?encodedUrl\u003dhttp%3A%2F%2F10.0.0.4%3A8088%2Fproxy%2Fapplication_1514389998215_0001/stages/stage/?id\u003d5215\u0026attempt\u003d0",
                "numCompleteTasks": 462,
                "numActiveTasks": 0,
                "numFailedTasks": 0,
                "numTotalTasks": 462
              }
            ],
            "status": "Success"
          },
          {
            "id": 2383,
            "jobUrl": "https://azure.qubole.com/cluster-proxy?encodedUrl\u003dhttp%3A%2F%2F10.0.0.4%3A8088%2Fproxy%2Fapplication_1514389998215_0001/jobs/job?spark\u003dtrue\u0026id\u003d2383",
            "numTasks": 928,
            "numCompletedTasks": 4,
            "stages": [
              {
                "id": 5217,
                "completed": true,
                "stageUrl": "https://azure.qubole.com/cluster-proxy?encodedUrl\u003dhttp%3A%2F%2F10.0.0.4%3A8088%2Fproxy%2Fapplication_1514389998215_0001/stages/stage/?id\u003d5217\u0026attempt\u003d0",
                "numCompleteTasks": 0,
                "numActiveTasks": 0,
                "numFailedTasks": 0,
                "numTotalTasks": 0
              },
              {
                "id": 5218,
                "completed": true,
                "stageUrl": "https://azure.qubole.com/cluster-proxy?encodedUrl\u003dhttp%3A%2F%2F10.0.0.4%3A8088%2Fproxy%2Fapplication_1514389998215_0001/stages/stage/?id\u003d5218\u0026attempt\u003d0",
                "numCompleteTasks": 0,
                "numActiveTasks": 0,
                "numFailedTasks": 0,
                "numTotalTasks": 0
              },
              {
                "id": 5219,
                "completed": true,
                "stageUrl": "https://azure.qubole.com/cluster-proxy?encodedUrl\u003dhttp%3A%2F%2F10.0.0.4%3A8088%2Fproxy%2Fapplication_1514389998215_0001/stages/stage/?id\u003d5219\u0026attempt\u003d0",
                "numCompleteTasks": 4,
                "numActiveTasks": 0,
                "numFailedTasks": 0,
                "numTotalTasks": 4
              }
            ],
            "status": "Success"
          },
          {
            "id": 2384,
            "jobUrl": "https://azure.qubole.com/cluster-proxy?encodedUrl\u003dhttp%3A%2F%2F10.0.0.4%3A8088%2Fproxy%2Fapplication_1514389998215_0001/jobs/job?spark\u003dtrue\u0026id\u003d2384",
            "numTasks": 926,
            "numCompletedTasks": 2,
            "stages": [
              {
                "id": 5221,
                "completed": true,
                "stageUrl": "https://azure.qubole.com/cluster-proxy?encodedUrl\u003dhttp%3A%2F%2F10.0.0.4%3A8088%2Fproxy%2Fapplication_1514389998215_0001/stages/stage/?id\u003d5221\u0026attempt\u003d0",
                "numCompleteTasks": 0,
                "numActiveTasks": 0,
                "numFailedTasks": 0,
                "numTotalTasks": 0
              },
              {
                "id": 5222,
                "completed": true,
                "stageUrl": "https://azure.qubole.com/cluster-proxy?encodedUrl\u003dhttp%3A%2F%2F10.0.0.4%3A8088%2Fproxy%2Fapplication_1514389998215_0001/stages/stage/?id\u003d5222\u0026attempt\u003d0",
                "numCompleteTasks": 2,
                "numActiveTasks": 0,
                "numFailedTasks": 0,
                "numTotalTasks": 2
              },
              {
                "id": 5220,
                "completed": true,
                "stageUrl": "https://azure.qubole.com/cluster-proxy?encodedUrl\u003dhttp%3A%2F%2F10.0.0.4%3A8088%2Fproxy%2Fapplication_1514389998215_0001/stages/stage/?id\u003d5220\u0026attempt\u003d0",
                "numCompleteTasks": 0,
                "numActiveTasks": 0,
                "numFailedTasks": 0,
                "numTotalTasks": 0
              }
            ],
            "status": "Success"
          },
          {
            "id": 2385,
            "jobUrl": "https://azure.qubole.com/cluster-proxy?encodedUrl\u003dhttp%3A%2F%2F10.0.0.4%3A8088%2Fproxy%2Fapplication_1514389998215_0001/jobs/job?spark\u003dtrue\u0026id\u003d2385",
            "numTasks": 924,
            "numCompletedTasks": 924,
            "stages": [
              {
                "id": 5223,
                "completed": true,
                "stageUrl": "https://azure.qubole.com/cluster-proxy?encodedUrl\u003dhttp%3A%2F%2F10.0.0.4%3A8088%2Fproxy%2Fapplication_1514389998215_0001/stages/stage/?id\u003d5223\u0026attempt\u003d0",
                "numCompleteTasks": 462,
                "numActiveTasks": 0,
                "numFailedTasks": 0,
                "numTotalTasks": 462
              },
              {
                "id": 5224,
                "completed": true,
                "stageUrl": "https://azure.qubole.com/cluster-proxy?encodedUrl\u003dhttp%3A%2F%2F10.0.0.4%3A8088%2Fproxy%2Fapplication_1514389998215_0001/stages/stage/?id\u003d5224\u0026attempt\u003d0",
                "numCompleteTasks": 462,
                "numActiveTasks": 0,
                "numFailedTasks": 0,
                "numTotalTasks": 462
              }
            ],
            "status": "Success"
          },
          {
            "id": 2386,
            "jobUrl": "https://azure.qubole.com/cluster-proxy?encodedUrl\u003dhttp%3A%2F%2F10.0.0.4%3A8088%2Fproxy%2Fapplication_1514389998215_0001/jobs/job?spark\u003dtrue\u0026id\u003d2386",
            "numTasks": 926,
            "numCompletedTasks": 464,
            "stages": [
              {
                "id": 5225,
                "completed": true,
                "stageUrl": "https://azure.qubole.com/cluster-proxy?encodedUrl\u003dhttp%3A%2F%2F10.0.0.4%3A8088%2Fproxy%2Fapplication_1514389998215_0001/stages/stage/?id\u003d5225\u0026attempt\u003d0",
                "numCompleteTasks": 0,
                "numActiveTasks": 0,
                "numFailedTasks": 0,
                "numTotalTasks": 0
              },
              {
                "id": 5226,
                "completed": true,
                "stageUrl": "https://azure.qubole.com/cluster-proxy?encodedUrl\u003dhttp%3A%2F%2F10.0.0.4%3A8088%2Fproxy%2Fapplication_1514389998215_0001/stages/stage/?id\u003d5226\u0026attempt\u003d0",
                "numCompleteTasks": 462,
                "numActiveTasks": 0,
                "numFailedTasks": 0,
                "numTotalTasks": 462
              },
              {
                "id": 5227,
                "completed": true,
                "stageUrl": "https://azure.qubole.com/cluster-proxy?encodedUrl\u003dhttp%3A%2F%2F10.0.0.4%3A8088%2Fproxy%2Fapplication_1514389998215_0001/stages/stage/?id\u003d5227\u0026attempt\u003d0",
                "numCompleteTasks": 2,
                "numActiveTasks": 0,
                "numFailedTasks": 0,
                "numTotalTasks": 2
              }
            ],
            "status": "Success"
          },
          {
            "id": 2387,
            "jobUrl": "https://azure.qubole.com/cluster-proxy?encodedUrl\u003dhttp%3A%2F%2F10.0.0.4%3A8088%2Fproxy%2Fapplication_1514389998215_0001/jobs/job?spark\u003dtrue\u0026id\u003d2387",
            "numTasks": 928,
            "numCompletedTasks": 4,
            "stages": [
              {
                "id": 5228,
                "completed": true,
                "stageUrl": "https://azure.qubole.com/cluster-proxy?encodedUrl\u003dhttp%3A%2F%2F10.0.0.4%3A8088%2Fproxy%2Fapplication_1514389998215_0001/stages/stage/?id\u003d5228\u0026attempt\u003d0",
                "numCompleteTasks": 0,
                "numActiveTasks": 0,
                "numFailedTasks": 0,
                "numTotalTasks": 0
              },
              {
                "id": 5229,
                "completed": true,
                "stageUrl": "https://azure.qubole.com/cluster-proxy?encodedUrl\u003dhttp%3A%2F%2F10.0.0.4%3A8088%2Fproxy%2Fapplication_1514389998215_0001/stages/stage/?id\u003d5229\u0026attempt\u003d0",
                "numCompleteTasks": 0,
                "numActiveTasks": 0,
                "numFailedTasks": 0,
                "numTotalTasks": 0
              },
              {
                "id": 5230,
                "completed": true,
                "stageUrl": "https://azure.qubole.com/cluster-proxy?encodedUrl\u003dhttp%3A%2F%2F10.0.0.4%3A8088%2Fproxy%2Fapplication_1514389998215_0001/stages/stage/?id\u003d5230\u0026attempt\u003d0",
                "numCompleteTasks": 4,
                "numActiveTasks": 0,
                "numFailedTasks": 0,
                "numTotalTasks": 4
              }
            ],
            "status": "Success"
          },
          {
            "id": 2388,
            "jobUrl": "https://azure.qubole.com/cluster-proxy?encodedUrl\u003dhttp%3A%2F%2F10.0.0.4%3A8088%2Fproxy%2Fapplication_1514389998215_0001/jobs/job?spark\u003dtrue\u0026id\u003d2388",
            "numTasks": 926,
            "numCompletedTasks": 2,
            "stages": [
              {
                "id": 5231,
                "completed": true,
                "stageUrl": "https://azure.qubole.com/cluster-proxy?encodedUrl\u003dhttp%3A%2F%2F10.0.0.4%3A8088%2Fproxy%2Fapplication_1514389998215_0001/stages/stage/?id\u003d5231\u0026attempt\u003d0",
                "numCompleteTasks": 0,
                "numActiveTasks": 0,
                "numFailedTasks": 0,
                "numTotalTasks": 0
              },
              {
                "id": 5232,
                "completed": true,
                "stageUrl": "https://azure.qubole.com/cluster-proxy?encodedUrl\u003dhttp%3A%2F%2F10.0.0.4%3A8088%2Fproxy%2Fapplication_1514389998215_0001/stages/stage/?id\u003d5232\u0026attempt\u003d0",
                "numCompleteTasks": 0,
                "numActiveTasks": 0,
                "numFailedTasks": 0,
                "numTotalTasks": 0
              },
              {
                "id": 5233,
                "completed": true,
                "stageUrl": "https://azure.qubole.com/cluster-proxy?encodedUrl\u003dhttp%3A%2F%2F10.0.0.4%3A8088%2Fproxy%2Fapplication_1514389998215_0001/stages/stage/?id\u003d5233\u0026attempt\u003d0",
                "numCompleteTasks": 2,
                "numActiveTasks": 0,
                "numFailedTasks": 0,
                "numTotalTasks": 2
              }
            ],
            "status": "Success"
          },
          {
            "id": 2389,
            "jobUrl": "https://azure.qubole.com/cluster-proxy?encodedUrl\u003dhttp%3A%2F%2F10.0.0.4%3A8088%2Fproxy%2Fapplication_1514389998215_0001/jobs/job?spark\u003dtrue\u0026id\u003d2389",
            "numTasks": 924,
            "numCompletedTasks": 924,
            "stages": [
              {
                "id": 5235,
                "completed": true,
                "stageUrl": "https://azure.qubole.com/cluster-proxy?encodedUrl\u003dhttp%3A%2F%2F10.0.0.4%3A8088%2Fproxy%2Fapplication_1514389998215_0001/stages/stage/?id\u003d5235\u0026attempt\u003d0",
                "numCompleteTasks": 462,
                "numActiveTasks": 0,
                "numFailedTasks": 0,
                "numTotalTasks": 462
              },
              {
                "id": 5234,
                "completed": true,
                "stageUrl": "https://azure.qubole.com/cluster-proxy?encodedUrl\u003dhttp%3A%2F%2F10.0.0.4%3A8088%2Fproxy%2Fapplication_1514389998215_0001/stages/stage/?id\u003d5234\u0026attempt\u003d0",
                "numCompleteTasks": 462,
                "numActiveTasks": 0,
                "numFailedTasks": 0,
                "numTotalTasks": 462
              }
            ],
            "status": "Success"
          },
          {
            "id": 2390,
            "jobUrl": "https://azure.qubole.com/cluster-proxy?encodedUrl\u003dhttp%3A%2F%2F10.0.0.4%3A8088%2Fproxy%2Fapplication_1514389998215_0001/jobs/job?spark\u003dtrue\u0026id\u003d2390",
            "numTasks": 926,
            "numCompletedTasks": 464,
            "stages": [
              {
                "id": 5236,
                "completed": true,
                "stageUrl": "https://azure.qubole.com/cluster-proxy?encodedUrl\u003dhttp%3A%2F%2F10.0.0.4%3A8088%2Fproxy%2Fapplication_1514389998215_0001/stages/stage/?id\u003d5236\u0026attempt\u003d0",
                "numCompleteTasks": 0,
                "numActiveTasks": 0,
                "numFailedTasks": 0,
                "numTotalTasks": 0
              },
              {
                "id": 5237,
                "completed": true,
                "stageUrl": "https://azure.qubole.com/cluster-proxy?encodedUrl\u003dhttp%3A%2F%2F10.0.0.4%3A8088%2Fproxy%2Fapplication_1514389998215_0001/stages/stage/?id\u003d5237\u0026attempt\u003d0",
                "numCompleteTasks": 462,
                "numActiveTasks": 0,
                "numFailedTasks": 0,
                "numTotalTasks": 462
              },
              {
                "id": 5238,
                "completed": true,
                "stageUrl": "https://azure.qubole.com/cluster-proxy?encodedUrl\u003dhttp%3A%2F%2F10.0.0.4%3A8088%2Fproxy%2Fapplication_1514389998215_0001/stages/stage/?id\u003d5238\u0026attempt\u003d0",
                "numCompleteTasks": 2,
                "numActiveTasks": 0,
                "numFailedTasks": 0,
                "numTotalTasks": 2
              }
            ],
            "status": "Success"
          },
          {
            "id": 2391,
            "jobUrl": "https://azure.qubole.com/cluster-proxy?encodedUrl\u003dhttp%3A%2F%2F10.0.0.4%3A8088%2Fproxy%2Fapplication_1514389998215_0001/jobs/job?spark\u003dtrue\u0026id\u003d2391",
            "numTasks": 928,
            "numCompletedTasks": 4,
            "stages": [
              {
                "id": 5239,
                "completed": true,
                "stageUrl": "https://azure.qubole.com/cluster-proxy?encodedUrl\u003dhttp%3A%2F%2F10.0.0.4%3A8088%2Fproxy%2Fapplication_1514389998215_0001/stages/stage/?id\u003d5239\u0026attempt\u003d0",
                "numCompleteTasks": 0,
                "numActiveTasks": 0,
                "numFailedTasks": 0,
                "numTotalTasks": 0
              },
              {
                "id": 5240,
                "completed": true,
                "stageUrl": "https://azure.qubole.com/cluster-proxy?encodedUrl\u003dhttp%3A%2F%2F10.0.0.4%3A8088%2Fproxy%2Fapplication_1514389998215_0001/stages/stage/?id\u003d5240\u0026attempt\u003d0",
                "numCompleteTasks": 0,
                "numActiveTasks": 0,
                "numFailedTasks": 0,
                "numTotalTasks": 0
              },
              {
                "id": 5241,
                "completed": true,
                "stageUrl": "https://azure.qubole.com/cluster-proxy?encodedUrl\u003dhttp%3A%2F%2F10.0.0.4%3A8088%2Fproxy%2Fapplication_1514389998215_0001/stages/stage/?id\u003d5241\u0026attempt\u003d0",
                "numCompleteTasks": 4,
                "numActiveTasks": 0,
                "numFailedTasks": 0,
                "numTotalTasks": 4
              }
            ],
            "status": "Success"
          },
          {
            "id": 2392,
            "jobUrl": "https://azure.qubole.com/cluster-proxy?encodedUrl\u003dhttp%3A%2F%2F10.0.0.4%3A8088%2Fproxy%2Fapplication_1514389998215_0001/jobs/job?spark\u003dtrue\u0026id\u003d2392",
            "numTasks": 926,
            "numCompletedTasks": 2,
            "stages": [
              {
                "id": 5243,
                "completed": true,
                "stageUrl": "https://azure.qubole.com/cluster-proxy?encodedUrl\u003dhttp%3A%2F%2F10.0.0.4%3A8088%2Fproxy%2Fapplication_1514389998215_0001/stages/stage/?id\u003d5243\u0026attempt\u003d0",
                "numCompleteTasks": 0,
                "numActiveTasks": 0,
                "numFailedTasks": 0,
                "numTotalTasks": 0
              },
              {
                "id": 5244,
                "completed": true,
                "stageUrl": "https://azure.qubole.com/cluster-proxy?encodedUrl\u003dhttp%3A%2F%2F10.0.0.4%3A8088%2Fproxy%2Fapplication_1514389998215_0001/stages/stage/?id\u003d5244\u0026attempt\u003d0",
                "numCompleteTasks": 2,
                "numActiveTasks": 0,
                "numFailedTasks": 0,
                "numTotalTasks": 2
              },
              {
                "id": 5242,
                "completed": true,
                "stageUrl": "https://azure.qubole.com/cluster-proxy?encodedUrl\u003dhttp%3A%2F%2F10.0.0.4%3A8088%2Fproxy%2Fapplication_1514389998215_0001/stages/stage/?id\u003d5242\u0026attempt\u003d0",
                "numCompleteTasks": 0,
                "numActiveTasks": 0,
                "numFailedTasks": 0,
                "numTotalTasks": 0
              }
            ],
            "status": "Success"
          },
          {
            "id": 2393,
            "jobUrl": "https://azure.qubole.com/cluster-proxy?encodedUrl\u003dhttp%3A%2F%2F10.0.0.4%3A8088%2Fproxy%2Fapplication_1514389998215_0001/jobs/job?spark\u003dtrue\u0026id\u003d2393",
            "numTasks": 483,
            "numCompletedTasks": 483,
            "stages": [
              {
                "id": 5246,
                "completed": true,
                "stageUrl": "https://azure.qubole.com/cluster-proxy?encodedUrl\u003dhttp%3A%2F%2F10.0.0.4%3A8088%2Fproxy%2Fapplication_1514389998215_0001/stages/stage/?id\u003d5246\u0026attempt\u003d0",
                "numCompleteTasks": 21,
                "numActiveTasks": 0,
                "numFailedTasks": 0,
                "numTotalTasks": 21
              },
              {
                "id": 5245,
                "completed": true,
                "stageUrl": "https://azure.qubole.com/cluster-proxy?encodedUrl\u003dhttp%3A%2F%2F10.0.0.4%3A8088%2Fproxy%2Fapplication_1514389998215_0001/stages/stage/?id\u003d5245\u0026attempt\u003d0",
                "numCompleteTasks": 462,
                "numActiveTasks": 0,
                "numFailedTasks": 0,
                "numTotalTasks": 462
              }
            ],
            "status": "Success"
          },
          {
            "id": 2394,
            "jobUrl": "https://azure.qubole.com/cluster-proxy?encodedUrl\u003dhttp%3A%2F%2F10.0.0.4%3A8088%2Fproxy%2Fapplication_1514389998215_0001/jobs/job?spark\u003dtrue\u0026id\u003d2394",
            "numTasks": 483,
            "numCompletedTasks": 483,
            "stages": [
              {
                "id": 5247,
                "completed": true,
                "stageUrl": "https://azure.qubole.com/cluster-proxy?encodedUrl\u003dhttp%3A%2F%2F10.0.0.4%3A8088%2Fproxy%2Fapplication_1514389998215_0001/stages/stage/?id\u003d5247\u0026attempt\u003d0",
                "numCompleteTasks": 462,
                "numActiveTasks": 0,
                "numFailedTasks": 0,
                "numTotalTasks": 462
              },
              {
                "id": 5248,
                "completed": true,
                "stageUrl": "https://azure.qubole.com/cluster-proxy?encodedUrl\u003dhttp%3A%2F%2F10.0.0.4%3A8088%2Fproxy%2Fapplication_1514389998215_0001/stages/stage/?id\u003d5248\u0026attempt\u003d0",
                "numCompleteTasks": 21,
                "numActiveTasks": 0,
                "numFailedTasks": 0,
                "numTotalTasks": 21
              }
            ],
            "status": "Success"
          },
          {
            "id": 2395,
            "jobUrl": "https://azure.qubole.com/cluster-proxy?encodedUrl\u003dhttp%3A%2F%2F10.0.0.4%3A8088%2Fproxy%2Fapplication_1514389998215_0001/jobs/job?spark\u003dtrue\u0026id\u003d2395",
            "numTasks": 483,
            "numCompletedTasks": 483,
            "stages": [
              {
                "id": 5249,
                "completed": true,
                "stageUrl": "https://azure.qubole.com/cluster-proxy?encodedUrl\u003dhttp%3A%2F%2F10.0.0.4%3A8088%2Fproxy%2Fapplication_1514389998215_0001/stages/stage/?id\u003d5249\u0026attempt\u003d0",
                "numCompleteTasks": 462,
                "numActiveTasks": 0,
                "numFailedTasks": 0,
                "numTotalTasks": 462
              },
              {
                "id": 5250,
                "completed": true,
                "stageUrl": "https://azure.qubole.com/cluster-proxy?encodedUrl\u003dhttp%3A%2F%2F10.0.0.4%3A8088%2Fproxy%2Fapplication_1514389998215_0001/stages/stage/?id\u003d5250\u0026attempt\u003d0",
                "numCompleteTasks": 21,
                "numActiveTasks": 0,
                "numFailedTasks": 0,
                "numTotalTasks": 21
              }
            ],
            "status": "Success"
          },
          {
            "id": 2396,
            "jobUrl": "https://azure.qubole.com/cluster-proxy?encodedUrl\u003dhttp%3A%2F%2F10.0.0.4%3A8088%2Fproxy%2Fapplication_1514389998215_0001/jobs/job?spark\u003dtrue\u0026id\u003d2396",
            "numTasks": 483,
            "numCompletedTasks": 483,
            "stages": [
              {
                "id": 5251,
                "completed": true,
                "stageUrl": "https://azure.qubole.com/cluster-proxy?encodedUrl\u003dhttp%3A%2F%2F10.0.0.4%3A8088%2Fproxy%2Fapplication_1514389998215_0001/stages/stage/?id\u003d5251\u0026attempt\u003d0",
                "numCompleteTasks": 462,
                "numActiveTasks": 0,
                "numFailedTasks": 0,
                "numTotalTasks": 462
              },
              {
                "id": 5252,
                "completed": true,
                "stageUrl": "https://azure.qubole.com/cluster-proxy?encodedUrl\u003dhttp%3A%2F%2F10.0.0.4%3A8088%2Fproxy%2Fapplication_1514389998215_0001/stages/stage/?id\u003d5252\u0026attempt\u003d0",
                "numCompleteTasks": 21,
                "numActiveTasks": 0,
                "numFailedTasks": 0,
                "numTotalTasks": 21
              }
            ],
            "status": "Success"
          },
          {
            "id": 2397,
            "jobUrl": "https://azure.qubole.com/cluster-proxy?encodedUrl\u003dhttp%3A%2F%2F10.0.0.4%3A8088%2Fproxy%2Fapplication_1514389998215_0001/jobs/job?spark\u003dtrue\u0026id\u003d2397",
            "numTasks": 483,
            "numCompletedTasks": 483,
            "stages": [
              {
                "id": 5253,
                "completed": true,
                "stageUrl": "https://azure.qubole.com/cluster-proxy?encodedUrl\u003dhttp%3A%2F%2F10.0.0.4%3A8088%2Fproxy%2Fapplication_1514389998215_0001/stages/stage/?id\u003d5253\u0026attempt\u003d0",
                "numCompleteTasks": 462,
                "numActiveTasks": 0,
                "numFailedTasks": 0,
                "numTotalTasks": 462
              },
              {
                "id": 5254,
                "completed": true,
                "stageUrl": "https://azure.qubole.com/cluster-proxy?encodedUrl\u003dhttp%3A%2F%2F10.0.0.4%3A8088%2Fproxy%2Fapplication_1514389998215_0001/stages/stage/?id\u003d5254\u0026attempt\u003d0",
                "numCompleteTasks": 21,
                "numActiveTasks": 0,
                "numFailedTasks": 0,
                "numTotalTasks": 21
              }
            ],
            "status": "Success"
          },
          {
            "id": 2398,
            "jobUrl": "https://azure.qubole.com/cluster-proxy?encodedUrl\u003dhttp%3A%2F%2F10.0.0.4%3A8088%2Fproxy%2Fapplication_1514389998215_0001/jobs/job?spark\u003dtrue\u0026id\u003d2398",
            "numTasks": 483,
            "numCompletedTasks": 483,
            "stages": [
              {
                "id": 5255,
                "completed": true,
                "stageUrl": "https://azure.qubole.com/cluster-proxy?encodedUrl\u003dhttp%3A%2F%2F10.0.0.4%3A8088%2Fproxy%2Fapplication_1514389998215_0001/stages/stage/?id\u003d5255\u0026attempt\u003d0",
                "numCompleteTasks": 462,
                "numActiveTasks": 0,
                "numFailedTasks": 0,
                "numTotalTasks": 462
              },
              {
                "id": 5256,
                "completed": true,
                "stageUrl": "https://azure.qubole.com/cluster-proxy?encodedUrl\u003dhttp%3A%2F%2F10.0.0.4%3A8088%2Fproxy%2Fapplication_1514389998215_0001/stages/stage/?id\u003d5256\u0026attempt\u003d0",
                "numCompleteTasks": 21,
                "numActiveTasks": 0,
                "numFailedTasks": 0,
                "numTotalTasks": 21
              }
            ],
            "status": "Success"
          },
          {
            "id": 2399,
            "jobUrl": "https://azure.qubole.com/cluster-proxy?encodedUrl\u003dhttp%3A%2F%2F10.0.0.4%3A8088%2Fproxy%2Fapplication_1514389998215_0001/jobs/job?spark\u003dtrue\u0026id\u003d2399",
            "numTasks": 483,
            "numCompletedTasks": 483,
            "stages": [
              {
                "id": 5257,
                "completed": true,
                "stageUrl": "https://azure.qubole.com/cluster-proxy?encodedUrl\u003dhttp%3A%2F%2F10.0.0.4%3A8088%2Fproxy%2Fapplication_1514389998215_0001/stages/stage/?id\u003d5257\u0026attempt\u003d0",
                "numCompleteTasks": 462,
                "numActiveTasks": 0,
                "numFailedTasks": 0,
                "numTotalTasks": 462
              },
              {
                "id": 5258,
                "completed": true,
                "stageUrl": "https://azure.qubole.com/cluster-proxy?encodedUrl\u003dhttp%3A%2F%2F10.0.0.4%3A8088%2Fproxy%2Fapplication_1514389998215_0001/stages/stage/?id\u003d5258\u0026attempt\u003d0",
                "numCompleteTasks": 21,
                "numActiveTasks": 0,
                "numFailedTasks": 0,
                "numTotalTasks": 21
              }
            ],
            "status": "Success"
          },
          {
            "id": 2400,
            "jobUrl": "https://azure.qubole.com/cluster-proxy?encodedUrl\u003dhttp%3A%2F%2F10.0.0.4%3A8088%2Fproxy%2Fapplication_1514389998215_0001/jobs/job?spark\u003dtrue\u0026id\u003d2400",
            "numTasks": 483,
            "numCompletedTasks": 483,
            "stages": [
              {
                "id": 5259,
                "completed": true,
                "stageUrl": "https://azure.qubole.com/cluster-proxy?encodedUrl\u003dhttp%3A%2F%2F10.0.0.4%3A8088%2Fproxy%2Fapplication_1514389998215_0001/stages/stage/?id\u003d5259\u0026attempt\u003d0",
                "numCompleteTasks": 462,
                "numActiveTasks": 0,
                "numFailedTasks": 0,
                "numTotalTasks": 462
              },
              {
                "id": 5260,
                "completed": true,
                "stageUrl": "https://azure.qubole.com/cluster-proxy?encodedUrl\u003dhttp%3A%2F%2F10.0.0.4%3A8088%2Fproxy%2Fapplication_1514389998215_0001/stages/stage/?id\u003d5260\u0026attempt\u003d0",
                "numCompleteTasks": 21,
                "numActiveTasks": 0,
                "numFailedTasks": 0,
                "numTotalTasks": 21
              }
            ],
            "status": "Success"
          },
          {
            "id": 2401,
            "jobUrl": "https://azure.qubole.com/cluster-proxy?encodedUrl\u003dhttp%3A%2F%2F10.0.0.4%3A8088%2Fproxy%2Fapplication_1514389998215_0001/jobs/job?spark\u003dtrue\u0026id\u003d2401",
            "numTasks": 483,
            "numCompletedTasks": 483,
            "stages": [
              {
                "id": 5261,
                "completed": true,
                "stageUrl": "https://azure.qubole.com/cluster-proxy?encodedUrl\u003dhttp%3A%2F%2F10.0.0.4%3A8088%2Fproxy%2Fapplication_1514389998215_0001/stages/stage/?id\u003d5261\u0026attempt\u003d0",
                "numCompleteTasks": 462,
                "numActiveTasks": 0,
                "numFailedTasks": 0,
                "numTotalTasks": 462
              },
              {
                "id": 5262,
                "completed": true,
                "stageUrl": "https://azure.qubole.com/cluster-proxy?encodedUrl\u003dhttp%3A%2F%2F10.0.0.4%3A8088%2Fproxy%2Fapplication_1514389998215_0001/stages/stage/?id\u003d5262\u0026attempt\u003d0",
                "numCompleteTasks": 21,
                "numActiveTasks": 0,
                "numFailedTasks": 0,
                "numTotalTasks": 21
              }
            ],
            "status": "Success"
          },
          {
            "id": 2402,
            "jobUrl": "https://azure.qubole.com/cluster-proxy?encodedUrl\u003dhttp%3A%2F%2F10.0.0.4%3A8088%2Fproxy%2Fapplication_1514389998215_0001/jobs/job?spark\u003dtrue\u0026id\u003d2402",
            "numTasks": 924,
            "numCompletedTasks": 924,
            "stages": [
              {
                "id": 5264,
                "completed": true,
                "stageUrl": "https://azure.qubole.com/cluster-proxy?encodedUrl\u003dhttp%3A%2F%2F10.0.0.4%3A8088%2Fproxy%2Fapplication_1514389998215_0001/stages/stage/?id\u003d5264\u0026attempt\u003d0",
                "numCompleteTasks": 462,
                "numActiveTasks": 0,
                "numFailedTasks": 0,
                "numTotalTasks": 462
              },
              {
                "id": 5263,
                "completed": true,
                "stageUrl": "https://azure.qubole.com/cluster-proxy?encodedUrl\u003dhttp%3A%2F%2F10.0.0.4%3A8088%2Fproxy%2Fapplication_1514389998215_0001/stages/stage/?id\u003d5263\u0026attempt\u003d0",
                "numCompleteTasks": 462,
                "numActiveTasks": 0,
                "numFailedTasks": 0,
                "numTotalTasks": 462
              }
            ],
            "status": "Success"
          },
          {
            "id": 2403,
            "jobUrl": "https://azure.qubole.com/cluster-proxy?encodedUrl\u003dhttp%3A%2F%2F10.0.0.4%3A8088%2Fproxy%2Fapplication_1514389998215_0001/jobs/job?spark\u003dtrue\u0026id\u003d2403",
            "numTasks": 1386,
            "numCompletedTasks": 924,
            "stages": [
              {
                "id": 5267,
                "completed": true,
                "stageUrl": "https://azure.qubole.com/cluster-proxy?encodedUrl\u003dhttp%3A%2F%2F10.0.0.4%3A8088%2Fproxy%2Fapplication_1514389998215_0001/stages/stage/?id\u003d5267\u0026attempt\u003d0",
                "numCompleteTasks": 462,
                "numActiveTasks": 0,
                "numFailedTasks": 0,
                "numTotalTasks": 462
              },
              {
                "id": 5265,
                "completed": true,
                "stageUrl": "https://azure.qubole.com/cluster-proxy?encodedUrl\u003dhttp%3A%2F%2F10.0.0.4%3A8088%2Fproxy%2Fapplication_1514389998215_0001/stages/stage/?id\u003d5265\u0026attempt\u003d0",
                "numCompleteTasks": 0,
                "numActiveTasks": 0,
                "numFailedTasks": 0,
                "numTotalTasks": 0
              },
              {
                "id": 5266,
                "completed": true,
                "stageUrl": "https://azure.qubole.com/cluster-proxy?encodedUrl\u003dhttp%3A%2F%2F10.0.0.4%3A8088%2Fproxy%2Fapplication_1514389998215_0001/stages/stage/?id\u003d5266\u0026attempt\u003d0",
                "numCompleteTasks": 462,
                "numActiveTasks": 0,
                "numFailedTasks": 0,
                "numTotalTasks": 462
              }
            ],
            "status": "Success"
          },
          {
            "id": 2404,
            "jobUrl": "https://azure.qubole.com/cluster-proxy?encodedUrl\u003dhttp%3A%2F%2F10.0.0.4%3A8088%2Fproxy%2Fapplication_1514389998215_0001/jobs/job?spark\u003dtrue\u0026id\u003d2404",
            "numTasks": 1388,
            "numCompletedTasks": 464,
            "stages": [
              {
                "id": 5268,
                "completed": true,
                "stageUrl": "https://azure.qubole.com/cluster-proxy?encodedUrl\u003dhttp%3A%2F%2F10.0.0.4%3A8088%2Fproxy%2Fapplication_1514389998215_0001/stages/stage/?id\u003d5268\u0026attempt\u003d0",
                "numCompleteTasks": 0,
                "numActiveTasks": 0,
                "numFailedTasks": 0,
                "numTotalTasks": 0
              },
              {
                "id": 5269,
                "completed": true,
                "stageUrl": "https://azure.qubole.com/cluster-proxy?encodedUrl\u003dhttp%3A%2F%2F10.0.0.4%3A8088%2Fproxy%2Fapplication_1514389998215_0001/stages/stage/?id\u003d5269\u0026attempt\u003d0",
                "numCompleteTasks": 0,
                "numActiveTasks": 0,
                "numFailedTasks": 0,
                "numTotalTasks": 0
              },
              {
                "id": 5270,
                "completed": true,
                "stageUrl": "https://azure.qubole.com/cluster-proxy?encodedUrl\u003dhttp%3A%2F%2F10.0.0.4%3A8088%2Fproxy%2Fapplication_1514389998215_0001/stages/stage/?id\u003d5270\u0026attempt\u003d0",
                "numCompleteTasks": 464,
                "numActiveTasks": 0,
                "numFailedTasks": 0,
                "numTotalTasks": 464
              }
            ],
            "status": "Success"
          },
          {
            "id": 2405,
            "jobUrl": "https://azure.qubole.com/cluster-proxy?encodedUrl\u003dhttp%3A%2F%2F10.0.0.4%3A8088%2Fproxy%2Fapplication_1514389998215_0001/jobs/job?spark\u003dtrue\u0026id\u003d2405",
            "numTasks": 1387,
            "numCompletedTasks": 463,
            "stages": [
              {
                "id": 5272,
                "completed": true,
                "stageUrl": "https://azure.qubole.com/cluster-proxy?encodedUrl\u003dhttp%3A%2F%2F10.0.0.4%3A8088%2Fproxy%2Fapplication_1514389998215_0001/stages/stage/?id\u003d5272\u0026attempt\u003d0",
                "numCompleteTasks": 0,
                "numActiveTasks": 0,
                "numFailedTasks": 0,
                "numTotalTasks": 0
              },
              {
                "id": 5273,
                "completed": true,
                "stageUrl": "https://azure.qubole.com/cluster-proxy?encodedUrl\u003dhttp%3A%2F%2F10.0.0.4%3A8088%2Fproxy%2Fapplication_1514389998215_0001/stages/stage/?id\u003d5273\u0026attempt\u003d0",
                "numCompleteTasks": 463,
                "numActiveTasks": 0,
                "numFailedTasks": 0,
                "numTotalTasks": 463
              },
              {
                "id": 5271,
                "completed": true,
                "stageUrl": "https://azure.qubole.com/cluster-proxy?encodedUrl\u003dhttp%3A%2F%2F10.0.0.4%3A8088%2Fproxy%2Fapplication_1514389998215_0001/stages/stage/?id\u003d5271\u0026attempt\u003d0",
                "numCompleteTasks": 0,
                "numActiveTasks": 0,
                "numFailedTasks": 0,
                "numTotalTasks": 0
              }
            ],
            "status": "Success"
          }
        ],
        "numCompletedTasks": 14092,
        "numTasks": 27952,
        "truncated": false
      },
      "jobName": "paragraph_1513311650173_906601550",
      "id": "20171215-042050_890212223_q_8YVGJMASEQ1515692831",
      "result": {
        "code": "SUCCESS",
        "type": "TEXT",
        "msg": "\nlr: org.apache.spark.ml.classification.LogisticRegression \u003d logreg_2d8d0d4670c3\n\nevaluator: org.apache.spark.ml.evaluation.BinaryClassificationEvaluator \u003d binEval_29cd237cdc33\n\npipeline: org.apache.spark.ml.Pipeline \u003d pipeline_fc798a1663ce\n\n\n\n\n\n\n\n\n\n\n\n\n\n\n\n\n\n\n\n\n\n\n\n\n\n\nparamGrid: Array[org.apache.spark.ml.param.ParamMap] \u003d\nArray({\n\tlogreg_2d8d0d4670c3-elasticNetParam: 0.0,\n\tlogreg_2d8d0d4670c3-maxIter: 1,\n\tlogreg_2d8d0d4670c3-regParam: 0.01\n}, {\n\tlogreg_2d8d0d4670c3-elasticNetParam: 0.0,\n\tlogreg_2d8d0d4670c3-maxIter: 5,\n\tlogreg_2d8d0d4670c3-regParam: 0.01\n}, {\n\tlogreg_2d8d0d4670c3-elasticNetParam: 0.0,\n\tlogreg_2d8d0d4670c3-maxIter: 10,\n\tlogreg_2d8d0d4670c3-regParam: 0.01\n}, {\n\tlogreg_2d8d0d4670c3-elasticNetParam: 0.0,\n\tlogreg_2d8d0d4670c3-maxIter: 1,\n\tlogreg_2d8d0d4670c3-regParam: 0.5\n}, {\n\tlogreg_2d8d0d4670c3-elasticNetParam: 0.0,\n\tlogreg_2d8d0d4670c3-maxIter: 5,\n\tlogreg_2d8d0d4670c3-regParam: 0.5\n}, {\n\tlogreg_2d8d0d4670c3-elasticNetParam: 0.0,\n\tlogreg_2d8d0d4670c3-maxIter: 10,\n\tlogreg_2d8d0d4670c3-regParam: 0.5\n}, {\n\tlogreg_2d8d0d4670c3-elasticNetPa...\ncv: org.apache.spark.ml.tuning.CrossValidator \u003d cv_5357bde9b102\n\ncvModel: org.apache.spark.ml.tuning.CrossValidatorModel \u003d cv_5357bde9b102\n\npredictions: org.apache.spark.sql.DataFrame \u003d [features: vector, label: int ... 3 more fields]\n\nres86: Double \u003d 0.6926141970392119\n"
      },
      "dateCreated": "Dec 15, 2017 4:20:50 AM",
      "dateStarted": "Dec 27, 2017 8:12:10 PM",
      "dateFinished": "Dec 27, 2017 8:34:43 PM",
      "status": "FINISHED",
      "progressUpdateIntervalMs": 500
    },
    {
      "text": "var rddStrings \u003d sc.parallelize(Seq(\"{    \\\"summary\\\": \\\"summary header\\\",    \\\"reviewerName\\\": \\\"Bradley 2\\\",    \\\"reviewerID\\\": \\\"ATB2PLCVQ2XC9\\\",    \\\"good_label\\\": 0,    \\\"overall\\\": 4,    \\\"good_score\\\": 0.43425552613296725,    \\\"asin\\\": \\\"B0002GXV3A\\\",    \\\"unixReviewTime\\\": 1514918006,    \\\"helpful\\\": [        0,        0    ],    \\\"id\\\": \\\"778e495e-53b2-4c1d-ab12-89b5946c1a0c\\\",    \\\"reviewText\\\": \\\"Very surprised by this little gem.\\nI\u0027ll keep it short: I owned a Boss EQ pedal in the past and didn\u0027t have much luck with it. I tried and tried and tried to hone in the sound I was looking for but the Boss just wouldn\u0027t do it for me. Fast forward a few years and I purchase this little baby on a whim. Man, am I glad I did. The 6 sliders made it very easy to dial in the exact tone I was looking for. A small boost of the first two sliders gave my amp more bottom-end than it could ever manage on its own, and a small boost of the last two provided more of a balanced, well-rounded sound. Love it and wouldn\u0027t wanna part with it.The pedal itself is built like a rock. I imagine nothing shy of nuclear war could dent this thing. The individual sliders, although not quite as Ford-tough as the rest of the pedal (haha), feel nice and slide easy. Each slider lights up red when engaged, which not only looks cool but makes it very easy to see on a dimly lit stage.If you\u0027re on the fence about an EQ or which EQ brand to buy, I recommend you give this little monster a stomp.\\\",    \\\"reviewTime\\\": \\\"01 2, 2018\\\"}\"))",
      "user": "davidgillen@precocityllc.com",
      "dateUpdated": "Jan 2, 2018 7:10:10 PM",
      "config": {
        "colWidth": 12.0,
        "graph": {
          "mode": "table",
          "height": 300.0,
          "optionOpen": false,
          "keys": [],
          "values": [],
          "groups": [],
          "scatter": {}
        },
        "enabled": true,
        "editorMode": "ace/mode/scala"
      },
      "settings": {
        "params": {},
        "forms": {}
      },
      "paragraphProgress": {
        "jobs": [],
        "numCompletedTasks": 0,
        "numTasks": 0,
        "truncated": false
      },
      "jobName": "paragraph_1514920015661_1787632654",
      "id": "20180102-190655_273076583_q_8YVGJMASEQ1515692831",
      "result": {
        "code": "SUCCESS",
        "type": "TEXT",
        "msg": "\nrddStrings: org.apache.spark.rdd.RDD[String] \u003d ParallelCollectionRDD[252] at parallelize at \u003cconsole\u003e:53\n"
      },
      "dateCreated": "Jan 2, 2018 7:06:55 PM",
      "dateStarted": "Jan 2, 2018 7:10:10 PM",
      "dateFinished": "Jan 2, 2018 7:10:12 PM",
      "status": "FINISHED",
      "progressUpdateIntervalMs": 500
    },
    {
      "text": "val manualDF \u003d Seq(\n  (\"summary header\", \"Very surprised by this little gem.\\nI\u0027ll keep it short: I owned a Boss EQ pedal in the past and didn\u0027t have much luck with it. I tried and tried and tried to hone in the sound I was looking for but the Boss just wouldn\u0027t do it for me. Fast forward a few years and I purchase this little baby on a whim. Man, am I glad I did. The 6 sliders made it very easy to dial in the exact tone I was looking for. A small boost of the first two sliders gave my amp more bottom-end than it could ever manage on its own, and a small boost of the last two provided more of a balanced, well-rounded sound. Love it and wouldn\u0027t wanna part with it.The pedal itself is built like a rock. I imagine nothing shy of nuclear war could dent this thing. The individual sliders, although not quite as Ford-tough as the rest of the pedal (haha), feel nice and slide easy. Each slider lights up red when engaged, which not only looks cool but makes it very easy to see on a dimly lit stage.If you\u0027re on the fence about an EQ or which EQ brand to buy, I recommend you give this little monster a stomp\")\n).toDF(\"summary\", \"reviewText\")\nval processedDf \u003d nlpPreProcessRajiv(manualDF,sqlContext)\nvar preTrainedModel \u003d CrossValidatorModel.read.load(\"wasb://trained-model@precocityquboleout.blob.core.windows.net/cvModel_12_27\")\nvar predictions \u003d preTrainedModel.transform(processedDf)\npredictions.show()",
      "user": "davidgillen@precocityllc.com",
      "dateUpdated": "Jan 2, 2018 7:25:10 PM",
      "config": {
        "colWidth": 12.0,
        "graph": {
          "mode": "table",
          "height": 300.0,
          "optionOpen": false,
          "keys": [],
          "values": [],
          "groups": [],
          "scatter": {}
        },
        "enabled": true,
        "editorMode": "ace/mode/scala"
      },
      "settings": {
        "params": {},
        "forms": {}
      },
      "paragraphProgress": {
        "jobs": [
          {
            "id": 59,
            "jobUrl": "https://azure.qubole.com/cluster-proxy?encodedUrl\u003dhttp%3A%2F%2F10.0.0.4%3A8088%2Fproxy%2Fapplication_1514915334805_0001/jobs/job?spark\u003dtrue\u0026id\u003d59",
            "numTasks": 1,
            "numCompletedTasks": 1,
            "stages": [
              {
                "id": 76,
                "completed": true,
                "stageUrl": "https://azure.qubole.com/cluster-proxy?encodedUrl\u003dhttp%3A%2F%2F10.0.0.4%3A8088%2Fproxy%2Fapplication_1514915334805_0001/stages/stage/?id\u003d76\u0026attempt\u003d0",
                "numCompleteTasks": 1,
                "numActiveTasks": 0,
                "numFailedTasks": 0,
                "numTotalTasks": 1
              }
            ],
            "status": "Success"
          }
        ],
        "numCompletedTasks": 1,
        "numTasks": 1,
        "truncated": false
      },
      "jobName": "paragraph_1514920222329_973010319",
      "id": "20180102-191022_1911069049_q_8YVGJMASEQ1515692831",
      "result": {
        "code": "ERROR",
        "type": "TEXT",
        "msg": "\nmanualDF: org.apache.spark.sql.DataFrame \u003d [summary: string, reviewText: string]\n\n\n\n\n\n\n\n\n\n\n\n\n\n\n\n\n\n\n\n\n\n\n\n\n\n\n\n\n\n\n\n\n\n\n\n\n\n\n\n\n\n\n\n\n\n\n\n\n\n\n\n\n\n\n\n\n\n\n\n\n\n\n\n\n\n\n\n\n\n\norg.apache.spark.sql.AnalysisException: cannot resolve \u0027`helpful`\u0027 given input columns: [unigrams, features, goodWords, fullReview, uniAndBi, summary, allGrams, bigrams, trigrams, rawFeatures, fullReviewWords, reviewText, filteredReviewWords]; line 1 pos 23;\n\u0027Project [features#2835, \u0027score(\u0027helpful) AS score#2851]\n+- SubqueryAlias rescaleddata\n   +- Project [summary#2731, reviewText#2732, fullReview#2736, fullReviewWords#2741, filteredReviewWords#2747, goodWords#2755, unigrams#2763, bigrams#2772, trigrams#2782, uniAndBi#2793, allGrams#2805, rawFeatures#2818, UDF(rawFeatures#2818) AS features#2835]\n      +- Project [summary#2731, reviewText#2732, fullReview#2736, fullReviewWords#2741, filteredReviewWords#2747, goodWords#2755, unigrams#2763, bigrams#2772, trigrams#2782, uniAndBi#2793, allGrams#2805, UDF(allGrams#2805) AS rawFeatures#2818]\n         +- Project [summary#2731, reviewText#2732, fullReview#2736, fullReviewWords#2741, filteredReviewWords#2747, goodWords#2755, unigrams#2763, bigrams#2772, trigrams#2782, uniAndBi#2793, UDF(uniAndBi#2793, trigrams#2782) AS allGrams#2805]\n            +- Project [summary#2731, reviewText#2732, fullReview#2736, fullReviewWords#2741, filteredReviewWords#2747, goodWords#2755, unigrams#2763, bigrams#2772, trigrams#2782, UDF(unigrams#2763, bigrams#2772) AS uniAndBi#2793]\n               +- Project [summary#2731, reviewText#2732, fullReview#2736, fullReviewWords#2741, filteredReviewWords#2747, goodWords#2755, unigrams#2763, bigrams#2772, UDF(goodWords#2755) AS trigrams#2782]\n                  +- Project [summary#2731, reviewText#2732, fullReview#2736, fullReviewWords#2741, filteredReviewWords#2747, goodWords#2755, unigrams#2763, UDF(goodWords#2755) AS bigrams#2772]\n                     +- Project [summary#2731, reviewText#2732, fullReview#2736, fullReviewWords#2741, filteredReviewWords#2747, goodWords#2755, UDF(goodWords#2755) AS unigrams#2763]\n                        +- Project [summary#2731, reviewText#2732, fullReview#2736, fullReviewWords#2741, filteredReviewWords#2747, if (isnull(3)) null else UDF:filterByLength(filteredReviewWords#2747, 3) AS goodWords#2755]\n                           +- SubqueryAlias cleandf\n                              +- Project [summary#2731, reviewText#2732, fullReview#2736, fullReviewWords#2741, UDF(fullReviewWords#2741) AS filteredReviewWords#2747]\n                                 +- Project [summary#2731, reviewText#2732, fullReview#2736, UDF(fullReview#2736) AS fullReviewWords#2741]\n                                    +- Project [summary#2731, reviewText#2732, concat(summary#2731,  , reviewText#2732) AS fullReview#2736]\n                                       +- Project [_1#2728 AS summary#2731, _2#2729 AS reviewText#2732]\n                                          +- LocalRelation [_1#2728, _2#2729]\n\n  at org.apache.spark.sql.catalyst.analysis.package$AnalysisErrorAt.failAnalysis(package.scala:42)\n  at org.apache.spark.sql.catalyst.analysis.CheckAnalysis$$anonfun$checkAnalysis$1$$anonfun$apply$2.applyOrElse(CheckAnalysis.scala:86)\n  at org.apache.spark.sql.catalyst.analysis.CheckAnalysis$$anonfun$checkAnalysis$1$$anonfun$apply$2.applyOrElse(CheckAnalysis.scala:83)\n  at org.apache.spark.sql.catalyst.trees.TreeNode$$anonfun$transformUp$1.apply(TreeNode.scala:290)\n  at org.apache.spark.sql.catalyst.trees.TreeNode$$anonfun$transformUp$1.apply(TreeNode.scala:290)\n  at org.apache.spark.sql.catalyst.trees.CurrentOrigin$.withOrigin(TreeNode.scala:70)\n  at org.apache.spark.sql.catalyst.trees.TreeNode.transformUp(TreeNode.scala:289)\n  at org.apache.spark.sql.catalyst.trees.TreeNode$$anonfun$3.apply(TreeNode.scala:287)\n  at org.apache.spark.sql.catalyst.trees.TreeNode$$anonfun$3.apply(TreeNode.scala:287)\n  at org.apache.spark.sql.catalyst.trees.TreeNode$$anonfun$4$$anonfun$apply$11.apply(TreeNode.scala:336)\n  at scala.collection.TraversableLike$$anonfun$map$1.apply(TraversableLike.scala:234)\n  at scala.collection.TraversableLike$$anonfun$map$1.apply(TraversableLike.scala:234)\n  at scala.collection.mutable.ResizableArray$class.foreach(ResizableArray.scala:59)\n  at scala.collection.mutable.ArrayBuffer.foreach(ArrayBuffer.scala:48)\n  at scala.collection.TraversableLike$class.map(TraversableLike.scala:234)\n  at scala.collection.AbstractTraversable.map(Traversable.scala:104)\n  at org.apache.spark.sql.catalyst.trees.TreeNode$$anonfun$4.apply(TreeNode.scala:334)\n  at org.apache.spark.sql.catalyst.trees.TreeNode.mapProductIterator(TreeNode.scala:188)\n  at org.apache.spark.sql.catalyst.trees.TreeNode.mapChildren(TreeNode.scala:305)\n  at org.apache.spark.sql.catalyst.trees.TreeNode.transformUp(TreeNode.scala:287)\n  at org.apache.spark.sql.catalyst.trees.TreeNode$$anonfun$3.apply(TreeNode.scala:287)\n  at org.apache.spark.sql.catalyst.trees.TreeNode$$anonfun$3.apply(TreeNode.scala:287)\n  at org.apache.spark.sql.catalyst.trees.TreeNode$$anonfun$4.apply(TreeNode.scala:307)\n  at org.apache.spark.sql.catalyst.trees.TreeNode.mapProductIterator(TreeNode.scala:188)\n  at org.apache.spark.sql.catalyst.trees.TreeNode.mapChildren(TreeNode.scala:305)\n  at org.apache.spark.sql.catalyst.trees.TreeNode.transformUp(TreeNode.scala:287)\n  at org.apache.spark.sql.catalyst.plans.QueryPlan$$anonfun$transformExpressionsUp$1.apply(QueryPlan.scala:255)\n  at org.apache.spark.sql.catalyst.plans.QueryPlan$$anonfun$transformExpressionsUp$1.apply(QueryPlan.scala:255)\n  at org.apache.spark.sql.catalyst.plans.QueryPlan.transformExpression$1(QueryPlan.scala:266)\n  at org.apache.spark.sql.catalyst.plans.QueryPlan.org$apache$spark$sql$catalyst$plans$QueryPlan$$recursiveTransform$1(QueryPlan.scala:276)\n  at org.apache.spark.sql.catalyst.plans.QueryPlan$$anonfun$org$apache$spark$sql$catalyst$plans$QueryPlan$$recursiveTransform$1$1.apply(QueryPlan.scala:280)\n  at scala.collection.TraversableLike$$anonfun$map$1.apply(TraversableLike.scala:234)\n  at scala.collection.TraversableLike$$anonfun$map$1.apply(TraversableLike.scala:234)\n  at scala.collection.immutable.List.foreach(List.scala:381)\n  at scala.collection.TraversableLike$class.map(TraversableLike.scala:234)\n  at scala.collection.immutable.List.map(List.scala:285)\n  at org.apache.spark.sql.catalyst.plans.QueryPlan.org$apache$spark$sql$catalyst$plans$QueryPlan$$recursiveTransform$1(QueryPlan.scala:280)\n  at org.apache.spark.sql.catalyst.plans.QueryPlan$$anonfun$6.apply(QueryPlan.scala:285)\n  at org.apache.spark.sql.catalyst.trees.TreeNode.mapProductIterator(TreeNode.scala:188)\n  at org.apache.spark.sql.catalyst.plans.QueryPlan.mapExpressions(QueryPlan.scala:285)\n  at org.apache.spark.sql.catalyst.plans.QueryPlan.transformExpressionsUp(QueryPlan.scala:255)\n  at org.apache.spark.sql.catalyst.analysis.CheckAnalysis$$anonfun$checkAnalysis$1.apply(CheckAnalysis.scala:83)\n  at org.apache.spark.sql.catalyst.analysis.CheckAnalysis$$anonfun$checkAnalysis$1.apply(CheckAnalysis.scala:76)\n  at org.apache.spark.sql.catalyst.trees.TreeNode.foreachUp(TreeNode.scala:128)\n  at org.apache.spark.sql.catalyst.analysis.CheckAnalysis$class.checkAnalysis(CheckAnalysis.scala:76)\n  at org.apache.spark.sql.catalyst.analysis.Analyzer.checkAnalysis(Analyzer.scala:58)\n  at org.apache.spark.sql.execution.QueryExecution.assertAnalyzed(QueryExecution.scala:52)\n  at org.apache.spark.sql.Dataset$.ofRows(Dataset.scala:63)\n  at org.apache.spark.sql.SparkSession.sql(SparkSession.scala:594)\n  at org.apache.spark.sql.SQLContext.sql(SQLContext.scala:699)\n  at nlpPreProcessRajiv(\u003cconsole\u003e:89)\n  ... 52 elided\n"
      },
      "dateCreated": "Jan 2, 2018 7:10:22 PM",
      "dateStarted": "Jan 2, 2018 7:25:10 PM",
      "dateFinished": "Jan 2, 2018 7:25:12 PM",
      "status": "ERROR",
      "progressUpdateIntervalMs": 500
    },
    {
      "text": "import org.apache.spark.ml.tuning.CrossValidatorModel\nvar preTrainedModel \u003d CrossValidatorModel.read.load(\"wasb://trained-model@precocityquboleout.blob.core.windows.net/cvModel_12_27\")\nvar predictions \u003d preTrainedModel.transform(goodTest)\npredictions.show()\n",
      "user": "davidgillen@precocityllc.com",
      "dateUpdated": "Jan 2, 2018 7:02:09 PM",
      "config": {
        "colWidth": 12.0,
        "graph": {
          "mode": "table",
          "height": 300.0,
          "optionOpen": false,
          "keys": [],
          "values": [],
          "groups": [],
          "scatter": {}
        },
        "enabled": true,
        "editorMode": "ace/mode/scala"
      },
      "settings": {
        "params": {},
        "forms": {}
      },
      "paragraphProgress": {
        "jobs": [
          {
            "id": 39,
            "jobUrl": "https://azure.qubole.com/cluster-proxy?encodedUrl\u003dhttp%3A%2F%2F10.0.0.4%3A8088%2Fproxy%2Fapplication_1514915334805_0001/jobs/job?spark\u003dtrue\u0026id\u003d39",
            "numTasks": 1,
            "numCompletedTasks": 1,
            "stages": [
              {
                "id": 56,
                "completed": true,
                "stageUrl": "https://azure.qubole.com/cluster-proxy?encodedUrl\u003dhttp%3A%2F%2F10.0.0.4%3A8088%2Fproxy%2Fapplication_1514915334805_0001/stages/stage/?id\u003d56\u0026attempt\u003d0",
                "numCompleteTasks": 1,
                "numActiveTasks": 0,
                "numFailedTasks": 0,
                "numTotalTasks": 1
              }
            ],
            "status": "Success"
          },
          {
            "id": 40,
            "jobUrl": "https://azure.qubole.com/cluster-proxy?encodedUrl\u003dhttp%3A%2F%2F10.0.0.4%3A8088%2Fproxy%2Fapplication_1514915334805_0001/jobs/job?spark\u003dtrue\u0026id\u003d40",
            "numTasks": 1,
            "numCompletedTasks": 1,
            "stages": [
              {
                "id": 57,
                "completed": true,
                "stageUrl": "https://azure.qubole.com/cluster-proxy?encodedUrl\u003dhttp%3A%2F%2F10.0.0.4%3A8088%2Fproxy%2Fapplication_1514915334805_0001/stages/stage/?id\u003d57\u0026attempt\u003d0",
                "numCompleteTasks": 1,
                "numActiveTasks": 0,
                "numFailedTasks": 0,
                "numTotalTasks": 1
              }
            ],
            "status": "Success"
          },
          {
            "id": 41,
            "jobUrl": "https://azure.qubole.com/cluster-proxy?encodedUrl\u003dhttp%3A%2F%2F10.0.0.4%3A8088%2Fproxy%2Fapplication_1514915334805_0001/jobs/job?spark\u003dtrue\u0026id\u003d41",
            "numTasks": 1,
            "numCompletedTasks": 1,
            "stages": [
              {
                "id": 58,
                "completed": true,
                "stageUrl": "https://azure.qubole.com/cluster-proxy?encodedUrl\u003dhttp%3A%2F%2F10.0.0.4%3A8088%2Fproxy%2Fapplication_1514915334805_0001/stages/stage/?id\u003d58\u0026attempt\u003d0",
                "numCompleteTasks": 1,
                "numActiveTasks": 0,
                "numFailedTasks": 0,
                "numTotalTasks": 1
              }
            ],
            "status": "Success"
          },
          {
            "id": 42,
            "jobUrl": "https://azure.qubole.com/cluster-proxy?encodedUrl\u003dhttp%3A%2F%2F10.0.0.4%3A8088%2Fproxy%2Fapplication_1514915334805_0001/jobs/job?spark\u003dtrue\u0026id\u003d42",
            "numTasks": 1,
            "numCompletedTasks": 1,
            "stages": [
              {
                "id": 59,
                "completed": true,
                "stageUrl": "https://azure.qubole.com/cluster-proxy?encodedUrl\u003dhttp%3A%2F%2F10.0.0.4%3A8088%2Fproxy%2Fapplication_1514915334805_0001/stages/stage/?id\u003d59\u0026attempt\u003d0",
                "numCompleteTasks": 1,
                "numActiveTasks": 0,
                "numFailedTasks": 0,
                "numTotalTasks": 1
              }
            ],
            "status": "Success"
          },
          {
            "id": 43,
            "jobUrl": "https://azure.qubole.com/cluster-proxy?encodedUrl\u003dhttp%3A%2F%2F10.0.0.4%3A8088%2Fproxy%2Fapplication_1514915334805_0001/jobs/job?spark\u003dtrue\u0026id\u003d43",
            "numTasks": 1,
            "numCompletedTasks": 1,
            "stages": [
              {
                "id": 60,
                "completed": true,
                "stageUrl": "https://azure.qubole.com/cluster-proxy?encodedUrl\u003dhttp%3A%2F%2F10.0.0.4%3A8088%2Fproxy%2Fapplication_1514915334805_0001/stages/stage/?id\u003d60\u0026attempt\u003d0",
                "numCompleteTasks": 1,
                "numActiveTasks": 0,
                "numFailedTasks": 0,
                "numTotalTasks": 1
              }
            ],
            "status": "Success"
          },
          {
            "id": 44,
            "jobUrl": "https://azure.qubole.com/cluster-proxy?encodedUrl\u003dhttp%3A%2F%2F10.0.0.4%3A8088%2Fproxy%2Fapplication_1514915334805_0001/jobs/job?spark\u003dtrue\u0026id\u003d44",
            "numTasks": 1,
            "numCompletedTasks": 1,
            "stages": [
              {
                "id": 61,
                "completed": true,
                "stageUrl": "https://azure.qubole.com/cluster-proxy?encodedUrl\u003dhttp%3A%2F%2F10.0.0.4%3A8088%2Fproxy%2Fapplication_1514915334805_0001/stages/stage/?id\u003d61\u0026attempt\u003d0",
                "numCompleteTasks": 1,
                "numActiveTasks": 0,
                "numFailedTasks": 0,
                "numTotalTasks": 1
              }
            ],
            "status": "Success"
          },
          {
            "id": 45,
            "jobUrl": "https://azure.qubole.com/cluster-proxy?encodedUrl\u003dhttp%3A%2F%2F10.0.0.4%3A8088%2Fproxy%2Fapplication_1514915334805_0001/jobs/job?spark\u003dtrue\u0026id\u003d45",
            "numTasks": 1,
            "numCompletedTasks": 1,
            "stages": [
              {
                "id": 62,
                "completed": true,
                "stageUrl": "https://azure.qubole.com/cluster-proxy?encodedUrl\u003dhttp%3A%2F%2F10.0.0.4%3A8088%2Fproxy%2Fapplication_1514915334805_0001/stages/stage/?id\u003d62\u0026attempt\u003d0",
                "numCompleteTasks": 1,
                "numActiveTasks": 0,
                "numFailedTasks": 0,
                "numTotalTasks": 1
              }
            ],
            "status": "Success"
          },
          {
            "id": 46,
            "jobUrl": "https://azure.qubole.com/cluster-proxy?encodedUrl\u003dhttp%3A%2F%2F10.0.0.4%3A8088%2Fproxy%2Fapplication_1514915334805_0001/jobs/job?spark\u003dtrue\u0026id\u003d46",
            "numTasks": 1,
            "numCompletedTasks": 1,
            "stages": [
              {
                "id": 63,
                "completed": true,
                "stageUrl": "https://azure.qubole.com/cluster-proxy?encodedUrl\u003dhttp%3A%2F%2F10.0.0.4%3A8088%2Fproxy%2Fapplication_1514915334805_0001/stages/stage/?id\u003d63\u0026attempt\u003d0",
                "numCompleteTasks": 1,
                "numActiveTasks": 0,
                "numFailedTasks": 0,
                "numTotalTasks": 1
              }
            ],
            "status": "Success"
          },
          {
            "id": 47,
            "jobUrl": "https://azure.qubole.com/cluster-proxy?encodedUrl\u003dhttp%3A%2F%2F10.0.0.4%3A8088%2Fproxy%2Fapplication_1514915334805_0001/jobs/job?spark\u003dtrue\u0026id\u003d47",
            "numTasks": 1,
            "numCompletedTasks": 1,
            "stages": [
              {
                "id": 64,
                "completed": true,
                "stageUrl": "https://azure.qubole.com/cluster-proxy?encodedUrl\u003dhttp%3A%2F%2F10.0.0.4%3A8088%2Fproxy%2Fapplication_1514915334805_0001/stages/stage/?id\u003d64\u0026attempt\u003d0",
                "numCompleteTasks": 1,
                "numActiveTasks": 0,
                "numFailedTasks": 0,
                "numTotalTasks": 1
              }
            ],
            "status": "Success"
          },
          {
            "id": 48,
            "jobUrl": "https://azure.qubole.com/cluster-proxy?encodedUrl\u003dhttp%3A%2F%2F10.0.0.4%3A8088%2Fproxy%2Fapplication_1514915334805_0001/jobs/job?spark\u003dtrue\u0026id\u003d48",
            "numTasks": 1,
            "numCompletedTasks": 1,
            "stages": [
              {
                "id": 65,
                "completed": true,
                "stageUrl": "https://azure.qubole.com/cluster-proxy?encodedUrl\u003dhttp%3A%2F%2F10.0.0.4%3A8088%2Fproxy%2Fapplication_1514915334805_0001/stages/stage/?id\u003d65\u0026attempt\u003d0",
                "numCompleteTasks": 1,
                "numActiveTasks": 0,
                "numFailedTasks": 0,
                "numTotalTasks": 1
              }
            ],
            "status": "Success"
          },
          {
            "id": 49,
            "jobUrl": "https://azure.qubole.com/cluster-proxy?encodedUrl\u003dhttp%3A%2F%2F10.0.0.4%3A8088%2Fproxy%2Fapplication_1514915334805_0001/jobs/job?spark\u003dtrue\u0026id\u003d49",
            "numTasks": 1,
            "numCompletedTasks": 1,
            "stages": [
              {
                "id": 66,
                "completed": true,
                "stageUrl": "https://azure.qubole.com/cluster-proxy?encodedUrl\u003dhttp%3A%2F%2F10.0.0.4%3A8088%2Fproxy%2Fapplication_1514915334805_0001/stages/stage/?id\u003d66\u0026attempt\u003d0",
                "numCompleteTasks": 1,
                "numActiveTasks": 0,
                "numFailedTasks": 0,
                "numTotalTasks": 1
              }
            ],
            "status": "Success"
          },
          {
            "id": 50,
            "jobUrl": "https://azure.qubole.com/cluster-proxy?encodedUrl\u003dhttp%3A%2F%2F10.0.0.4%3A8088%2Fproxy%2Fapplication_1514915334805_0001/jobs/job?spark\u003dtrue\u0026id\u003d50",
            "numTasks": 1,
            "numCompletedTasks": 1,
            "stages": [
              {
                "id": 67,
                "completed": true,
                "stageUrl": "https://azure.qubole.com/cluster-proxy?encodedUrl\u003dhttp%3A%2F%2F10.0.0.4%3A8088%2Fproxy%2Fapplication_1514915334805_0001/stages/stage/?id\u003d67\u0026attempt\u003d0",
                "numCompleteTasks": 1,
                "numActiveTasks": 0,
                "numFailedTasks": 0,
                "numTotalTasks": 1
              }
            ],
            "status": "Success"
          },
          {
            "id": 51,
            "jobUrl": "https://azure.qubole.com/cluster-proxy?encodedUrl\u003dhttp%3A%2F%2F10.0.0.4%3A8088%2Fproxy%2Fapplication_1514915334805_0001/jobs/job?spark\u003dtrue\u0026id\u003d51",
            "numTasks": 1,
            "numCompletedTasks": 1,
            "stages": [
              {
                "id": 68,
                "completed": true,
                "stageUrl": "https://azure.qubole.com/cluster-proxy?encodedUrl\u003dhttp%3A%2F%2F10.0.0.4%3A8088%2Fproxy%2Fapplication_1514915334805_0001/stages/stage/?id\u003d68\u0026attempt\u003d0",
                "numCompleteTasks": 1,
                "numActiveTasks": 0,
                "numFailedTasks": 0,
                "numTotalTasks": 1
              }
            ],
            "status": "Success"
          },
          {
            "id": 52,
            "jobUrl": "https://azure.qubole.com/cluster-proxy?encodedUrl\u003dhttp%3A%2F%2F10.0.0.4%3A8088%2Fproxy%2Fapplication_1514915334805_0001/jobs/job?spark\u003dtrue\u0026id\u003d52",
            "numTasks": 1,
            "numCompletedTasks": 1,
            "stages": [
              {
                "id": 69,
                "completed": true,
                "stageUrl": "https://azure.qubole.com/cluster-proxy?encodedUrl\u003dhttp%3A%2F%2F10.0.0.4%3A8088%2Fproxy%2Fapplication_1514915334805_0001/stages/stage/?id\u003d69\u0026attempt\u003d0",
                "numCompleteTasks": 1,
                "numActiveTasks": 0,
                "numFailedTasks": 0,
                "numTotalTasks": 1
              }
            ],
            "status": "Success"
          },
          {
            "id": 53,
            "jobUrl": "https://azure.qubole.com/cluster-proxy?encodedUrl\u003dhttp%3A%2F%2F10.0.0.4%3A8088%2Fproxy%2Fapplication_1514915334805_0001/jobs/job?spark\u003dtrue\u0026id\u003d53",
            "numTasks": 1,
            "numCompletedTasks": 1,
            "stages": [
              {
                "id": 70,
                "completed": true,
                "stageUrl": "https://azure.qubole.com/cluster-proxy?encodedUrl\u003dhttp%3A%2F%2F10.0.0.4%3A8088%2Fproxy%2Fapplication_1514915334805_0001/stages/stage/?id\u003d70\u0026attempt\u003d0",
                "numCompleteTasks": 1,
                "numActiveTasks": 0,
                "numFailedTasks": 0,
                "numTotalTasks": 1
              }
            ],
            "status": "Success"
          }
        ],
        "numCompletedTasks": 15,
        "numTasks": 15,
        "truncated": false
      },
      "jobName": "paragraph_1514919278535_341517546",
      "id": "20180102-185438_997487542_q_8YVGJMASEQ1515692831",
      "result": {
        "code": "SUCCESS",
        "type": "TEXT",
        "msg": "\nimport org.apache.spark.ml.tuning.CrossValidatorModel\n\npreTrainedModel: org.apache.spark.ml.tuning.CrossValidatorModel \u003d cv_5357bde9b102\n\npredictions: org.apache.spark.sql.DataFrame \u003d [features: vector, label: int ... 3 more fields]\n+--------------------+-----+--------------------+--------------------+----------+\n|            features|label|       rawPrediction|         probability|prediction|\n+--------------------+-----+--------------------+--------------------+----------+\n|(300,[0,1,2,3,4,5...|    0|[0.17687970945474...|[0.54410499661646...|       0.0|\n|(300,[0,1,2,3,4,5...|    1|[-0.0035544857312...|[0.49911137950279...|       1.0|\n|(300,[0,1,2,3,4,5...|    0|[0.17480166881957...|[0.54358948170527...|       0.0|\n|(300,[0,1,2,3,4,5...|    1|[0.02066953728434...|[0.50516720035724...|       0.0|\n|(300,[0,1,2,3,5,6...|    0|[0.28705380867504...|[0.57127470401192...|       0.0|\n|(300,[0,1,2,5,7,1...|    0|[0.20442686344183...|[0.55092947591877...|       0.0|\n|(300,[1,2,3,6,9,1...|    0|[0.24241404099503...|[0.56030846568955...|       0.0|\n|(300,[1,2,6,7,10,...|    1|[0.19962600096614...|[0.54974142462914...|       0.0|\n|(300,[1,2,6,8,9,1...|    0|[0.06583830383041...|[0.51645363294771...|       0.0|\n|(300,[1,4,13,15,2...|    0|[0.25251234299814...|[0.56279477721982...|       0.0|\n|(300,[2,5,7,19,20...|    0|[0.26513229812383...|[0.56589750320765...|       0.0|\n|(300,[5,9,13,19,2...|    0|[0.24001508091250...|[0.55971736571766...|       0.0|\n|(300,[0,1,2,3,4,5...|    0|[0.03166414153677...|[0.50791537405396...|       0.0|\n|(300,[0,1,2,3,4,5...|    1|[-0.2184836177886...|[0.44559534118244...|       1.0|\n|(300,[0,1,2,3,4,5...|    0|[0.21102463748149...|[0.55256125181579...|       0.0|\n|(300,[0,1,2,5,6,7...|    0|[0.11460476281811...|[0.52861987250890...|       0.0|\n|(300,[0,3,4,5,6,7...|    1|[0.11085266278291...|[0.52768482152125...|       0.0|\n|(300,[0,4,7,8,11,...|    1|[0.26443788301507...|[0.56572690711517...|       0.0|\n|(300,[1,2,4,5,8,9...|    1|[-0.0151931354608...|[0.49620178919667...|       1.0|\n|(300,[1,3,6,8,12,...|    0|[0.22220387579494...|[0.55532352481291...|       0.0|\n+--------------------+-----+--------------------+--------------------+----------+\nonly showing top 20 rows\n\n"
      },
      "dateCreated": "Jan 2, 2018 6:54:38 PM",
      "dateStarted": "Jan 2, 2018 7:02:09 PM",
      "dateFinished": "Jan 2, 2018 7:02:28 PM",
      "status": "FINISHED",
      "progressUpdateIntervalMs": 500
    },
    {
      "text": "predictions.show()",
      "user": "davidgillen@precocityllc.com",
      "dateUpdated": "Dec 27, 2017 8:41:42 PM",
      "config": {
        "colWidth": 12.0,
        "graph": {
          "mode": "table",
          "height": 300.0,
          "optionOpen": false,
          "keys": [],
          "values": [],
          "groups": [],
          "scatter": {}
        },
        "enabled": true,
        "editorMode": "ace/mode/scala"
      },
      "settings": {
        "params": {},
        "forms": {}
      },
      "paragraphProgress": {
        "jobs": [
          {
            "id": 2417,
            "jobUrl": "https://azure.qubole.com/cluster-proxy?encodedUrl\u003dhttp%3A%2F%2F10.0.0.4%3A8088%2Fproxy%2Fapplication_1514389998215_0001/jobs/job?spark\u003dtrue\u0026id\u003d2417",
            "numTasks": 1,
            "numCompletedTasks": 1,
            "stages": [
              {
                "id": 5293,
                "completed": true,
                "stageUrl": "https://azure.qubole.com/cluster-proxy?encodedUrl\u003dhttp%3A%2F%2F10.0.0.4%3A8088%2Fproxy%2Fapplication_1514389998215_0001/stages/stage/?id\u003d5293\u0026attempt\u003d0",
                "numCompleteTasks": 1,
                "numActiveTasks": 0,
                "numFailedTasks": 0,
                "numTotalTasks": 1
              }
            ],
            "status": "Success"
          },
          {
            "id": 2418,
            "jobUrl": "https://azure.qubole.com/cluster-proxy?encodedUrl\u003dhttp%3A%2F%2F10.0.0.4%3A8088%2Fproxy%2Fapplication_1514389998215_0001/jobs/job?spark\u003dtrue\u0026id\u003d2418",
            "numTasks": 1,
            "numCompletedTasks": 1,
            "stages": [
              {
                "id": 5294,
                "completed": true,
                "stageUrl": "https://azure.qubole.com/cluster-proxy?encodedUrl\u003dhttp%3A%2F%2F10.0.0.4%3A8088%2Fproxy%2Fapplication_1514389998215_0001/stages/stage/?id\u003d5294\u0026attempt\u003d0",
                "numCompleteTasks": 1,
                "numActiveTasks": 0,
                "numFailedTasks": 0,
                "numTotalTasks": 1
              }
            ],
            "status": "Success"
          }
        ],
        "numCompletedTasks": 2,
        "numTasks": 2,
        "truncated": false
      },
      "jobName": "paragraph_1514402577104_-143177411",
      "id": "20171227-192257_1645457179_q_8YVGJMASEQ1515692831",
      "result": {
        "code": "SUCCESS",
        "type": "TEXT",
        "msg": "+--------------------+-----+--------------------+--------------------+----------+\n|            features|label|       rawPrediction|         probability|prediction|\n+--------------------+-----+--------------------+--------------------+----------+\n|(300,[0,1,2,3,4,5...|    0|[0.17609595086490...|[0.54391057486521...|       0.0|\n|(300,[0,1,2,3,4,5...|    1|[-0.0042729895017...|[0.49893175424994...|       1.0|\n|(300,[0,1,2,3,4,5...|    0|[0.17415423342095...|[0.54342884848298...|       0.0|\n|(300,[0,1,2,3,4,5...|    1|[0.01955367355275...|[0.50488826263848...|       0.0|\n|(300,[0,1,2,3,5,6...|    0|[0.28684362868273...|[0.57122322597477...|       0.0|\n|(300,[0,1,2,5,7,1...|    0|[0.20425654348336...|[0.55088733734160...|       0.0|\n|(300,[1,2,3,6,9,1...|    0|[0.24216252649986...|[0.56024650091232...|       0.0|\n|(300,[1,2,6,7,10,...|    1|[0.19930931892660...|[0.54966303642277...|       0.0|\n|(300,[1,2,6,8,9,1...|    0|[0.06514441646714...|[0.51628034698605...|       0.0|\n|(300,[1,4,13,15,2...|    0|[0.25242632777227...|[0.56277361247291...|       0.0|\n|(300,[2,5,7,19,20...|    0|[0.26510192984507...|[0.56589004299670...|       0.0|\n|(300,[5,9,13,19,2...|    0|[0.23997830889598...|[0.55970830382866...|       0.0|\n|(300,[0,1,2,3,4,5...|    0|[0.03051725784165...|[0.50762872241524...|       0.0|\n|(300,[0,1,2,3,4,5...|    1|[-0.2202883029782...|[0.44514955540270...|       1.0|\n|(300,[0,1,2,3,4,5...|    0|[0.21019024587819...|[0.55235495004055...|       0.0|\n|(300,[0,1,2,5,6,7...|    0|[0.11398646513557...|[0.52846580181264...|       0.0|\n|(300,[0,3,4,5,6,7...|    1|[0.11023092043765...|[0.52752985980661...|       0.0|\n|(300,[0,4,7,8,11,...|    1|[0.26431868198548...|[0.56569762157995...|       0.0|\n|(300,[1,2,4,5,8,9...|    1|[-0.0160385268355...|[0.49599045424015...|       1.0|\n|(300,[1,3,6,8,12,...|    0|[0.22198882801059...|[0.55527042043036...|       0.0|\n+--------------------+-----+--------------------+--------------------+----------+\nonly showing top 20 rows\n\n"
      },
      "dateCreated": "Dec 27, 2017 7:22:57 PM",
      "dateStarted": "Dec 27, 2017 8:41:42 PM",
      "dateFinished": "Dec 27, 2017 8:41:45 PM",
      "status": "FINISHED",
      "progressUpdateIntervalMs": 500
    },
    {
      "text": "cvModel.avgMetrics",
      "user": "davidgillen@precocityllc.com",
      "dateUpdated": "Dec 27, 2017 8:55:58 PM",
      "config": {
        "colWidth": 12.0,
        "graph": {
          "mode": "table",
          "height": 300.0,
          "optionOpen": false,
          "keys": [],
          "values": [],
          "groups": [],
          "scatter": {}
        },
        "enabled": true,
        "editorMode": "ace/mode/scala"
      },
      "settings": {
        "params": {},
        "forms": {}
      },
      "paragraphProgress": {
        "jobs": [],
        "numCompletedTasks": 0,
        "numTasks": 0,
        "truncated": false
      },
      "jobName": "paragraph_1514403074692_-481254558",
      "id": "20171227-193114_1637815776_q_8YVGJMASEQ1515692831",
      "result": {
        "code": "SUCCESS",
        "type": "TEXT",
        "msg": "\nres103: Array[Double] \u003d Array(0.6555305967639664, 0.6915144668165027, 0.6837243611337933, 0.6555305967639663, 0.6911044455187185, 0.6902659259614842, 0.655530596763966, 0.6780538516102801, 0.6672111362361731, 0.6555894309481187, 0.6668187415422966, 0.6826362647196881, 0.5, 0.5, 0.5, 0.5, 0.5, 0.5, 0.6556592194792309, 0.6640012272943252, 0.6744897231622782, 0.5, 0.5, 0.5, 0.5, 0.5, 0.5)\n"
      },
      "dateCreated": "Dec 27, 2017 7:31:14 PM",
      "dateStarted": "Dec 27, 2017 8:55:59 PM",
      "dateFinished": "Dec 27, 2017 8:56:05 PM",
      "status": "FINISHED",
      "progressUpdateIntervalMs": 500
    },
    {
      "text": "evaluator.evaluate(predictions)",
      "user": "davidgillen@precocityllc.com",
      "dateUpdated": "Dec 27, 2017 8:36:15 PM",
      "config": {
        "colWidth": 12.0,
        "graph": {
          "mode": "table",
          "height": 300.0,
          "optionOpen": false,
          "keys": [],
          "values": [],
          "groups": [],
          "scatter": {}
        },
        "enabled": true,
        "editorMode": "ace/mode/scala"
      },
      "settings": {
        "params": {},
        "forms": {}
      },
      "paragraphProgress": {
        "jobs": [
          {
            "id": 2406,
            "jobUrl": "https://azure.qubole.com/cluster-proxy?encodedUrl\u003dhttp%3A%2F%2F10.0.0.4%3A8088%2Fproxy%2Fapplication_1514389998215_0001/jobs/job?spark\u003dtrue\u0026id\u003d2406",
            "numTasks": 924,
            "numCompletedTasks": 924,
            "stages": [
              {
                "id": 5275,
                "completed": true,
                "stageUrl": "https://azure.qubole.com/cluster-proxy?encodedUrl\u003dhttp%3A%2F%2F10.0.0.4%3A8088%2Fproxy%2Fapplication_1514389998215_0001/stages/stage/?id\u003d5275\u0026attempt\u003d0",
                "numCompleteTasks": 462,
                "numActiveTasks": 0,
                "numFailedTasks": 0,
                "numTotalTasks": 462
              },
              {
                "id": 5274,
                "completed": true,
                "stageUrl": "https://azure.qubole.com/cluster-proxy?encodedUrl\u003dhttp%3A%2F%2F10.0.0.4%3A8088%2Fproxy%2Fapplication_1514389998215_0001/stages/stage/?id\u003d5274\u0026attempt\u003d0",
                "numCompleteTasks": 462,
                "numActiveTasks": 0,
                "numFailedTasks": 0,
                "numTotalTasks": 462
              }
            ],
            "status": "Success"
          },
          {
            "id": 2407,
            "jobUrl": "https://azure.qubole.com/cluster-proxy?encodedUrl\u003dhttp%3A%2F%2F10.0.0.4%3A8088%2Fproxy%2Fapplication_1514389998215_0001/jobs/job?spark\u003dtrue\u0026id\u003d2407",
            "numTasks": 1386,
            "numCompletedTasks": 924,
            "stages": [
              {
                "id": 5276,
                "completed": true,
                "stageUrl": "https://azure.qubole.com/cluster-proxy?encodedUrl\u003dhttp%3A%2F%2F10.0.0.4%3A8088%2Fproxy%2Fapplication_1514389998215_0001/stages/stage/?id\u003d5276\u0026attempt\u003d0",
                "numCompleteTasks": 0,
                "numActiveTasks": 0,
                "numFailedTasks": 0,
                "numTotalTasks": 0
              },
              {
                "id": 5277,
                "completed": true,
                "stageUrl": "https://azure.qubole.com/cluster-proxy?encodedUrl\u003dhttp%3A%2F%2F10.0.0.4%3A8088%2Fproxy%2Fapplication_1514389998215_0001/stages/stage/?id\u003d5277\u0026attempt\u003d0",
                "numCompleteTasks": 462,
                "numActiveTasks": 0,
                "numFailedTasks": 0,
                "numTotalTasks": 462
              },
              {
                "id": 5278,
                "completed": true,
                "stageUrl": "https://azure.qubole.com/cluster-proxy?encodedUrl\u003dhttp%3A%2F%2F10.0.0.4%3A8088%2Fproxy%2Fapplication_1514389998215_0001/stages/stage/?id\u003d5278\u0026attempt\u003d0",
                "numCompleteTasks": 462,
                "numActiveTasks": 0,
                "numFailedTasks": 0,
                "numTotalTasks": 462
              }
            ],
            "status": "Success"
          },
          {
            "id": 2408,
            "jobUrl": "https://azure.qubole.com/cluster-proxy?encodedUrl\u003dhttp%3A%2F%2F10.0.0.4%3A8088%2Fproxy%2Fapplication_1514389998215_0001/jobs/job?spark\u003dtrue\u0026id\u003d2408",
            "numTasks": 1388,
            "numCompletedTasks": 464,
            "stages": [
              {
                "id": 5279,
                "completed": true,
                "stageUrl": "https://azure.qubole.com/cluster-proxy?encodedUrl\u003dhttp%3A%2F%2F10.0.0.4%3A8088%2Fproxy%2Fapplication_1514389998215_0001/stages/stage/?id\u003d5279\u0026attempt\u003d0",
                "numCompleteTasks": 0,
                "numActiveTasks": 0,
                "numFailedTasks": 0,
                "numTotalTasks": 0
              },
              {
                "id": 5280,
                "completed": true,
                "stageUrl": "https://azure.qubole.com/cluster-proxy?encodedUrl\u003dhttp%3A%2F%2F10.0.0.4%3A8088%2Fproxy%2Fapplication_1514389998215_0001/stages/stage/?id\u003d5280\u0026attempt\u003d0",
                "numCompleteTasks": 0,
                "numActiveTasks": 0,
                "numFailedTasks": 0,
                "numTotalTasks": 0
              },
              {
                "id": 5281,
                "completed": true,
                "stageUrl": "https://azure.qubole.com/cluster-proxy?encodedUrl\u003dhttp%3A%2F%2F10.0.0.4%3A8088%2Fproxy%2Fapplication_1514389998215_0001/stages/stage/?id\u003d5281\u0026attempt\u003d0",
                "numCompleteTasks": 464,
                "numActiveTasks": 0,
                "numFailedTasks": 0,
                "numTotalTasks": 464
              }
            ],
            "status": "Success"
          },
          {
            "id": 2409,
            "jobUrl": "https://azure.qubole.com/cluster-proxy?encodedUrl\u003dhttp%3A%2F%2F10.0.0.4%3A8088%2Fproxy%2Fapplication_1514389998215_0001/jobs/job?spark\u003dtrue\u0026id\u003d2409",
            "numTasks": 1387,
            "numCompletedTasks": 463,
            "stages": [
              {
                "id": 5282,
                "completed": true,
                "stageUrl": "https://azure.qubole.com/cluster-proxy?encodedUrl\u003dhttp%3A%2F%2F10.0.0.4%3A8088%2Fproxy%2Fapplication_1514389998215_0001/stages/stage/?id\u003d5282\u0026attempt\u003d0",
                "numCompleteTasks": 0,
                "numActiveTasks": 0,
                "numFailedTasks": 0,
                "numTotalTasks": 0
              },
              {
                "id": 5283,
                "completed": true,
                "stageUrl": "https://azure.qubole.com/cluster-proxy?encodedUrl\u003dhttp%3A%2F%2F10.0.0.4%3A8088%2Fproxy%2Fapplication_1514389998215_0001/stages/stage/?id\u003d5283\u0026attempt\u003d0",
                "numCompleteTasks": 0,
                "numActiveTasks": 0,
                "numFailedTasks": 0,
                "numTotalTasks": 0
              },
              {
                "id": 5284,
                "completed": true,
                "stageUrl": "https://azure.qubole.com/cluster-proxy?encodedUrl\u003dhttp%3A%2F%2F10.0.0.4%3A8088%2Fproxy%2Fapplication_1514389998215_0001/stages/stage/?id\u003d5284\u0026attempt\u003d0",
                "numCompleteTasks": 463,
                "numActiveTasks": 0,
                "numFailedTasks": 0,
                "numTotalTasks": 463
              }
            ],
            "status": "Success"
          }
        ],
        "numCompletedTasks": 2775,
        "numTasks": 5085,
        "truncated": false
      },
      "jobName": "paragraph_1514401526257_-1513742173",
      "id": "20171227-190526_997029878_q_8YVGJMASEQ1515692831",
      "result": {
        "code": "SUCCESS",
        "type": "TEXT",
        "msg": "\nres88: Double \u003d 0.6926141970392123\n"
      },
      "dateCreated": "Dec 27, 2017 7:05:26 PM",
      "dateStarted": "Dec 27, 2017 8:36:15 PM",
      "dateFinished": "Dec 27, 2017 8:37:21 PM",
      "status": "FINISHED",
      "progressUpdateIntervalMs": 500
    },
    {
      "text": "cvModel.save(\"wasb://trained-model@precocityquboleout.blob.core.windows.net/cvModel_12_27\")",
      "user": "davidgillen@precocityllc.com",
      "dateUpdated": "Dec 27, 2017 8:40:51 PM",
      "config": {
        "colWidth": 12.0,
        "graph": {
          "mode": "table",
          "height": 300.0,
          "optionOpen": false,
          "keys": [],
          "values": [],
          "groups": [],
          "scatter": {}
        },
        "enabled": true,
        "editorMode": "ace/mode/scala"
      },
      "settings": {
        "params": {},
        "forms": {}
      },
      "paragraphProgress": {
        "jobs": [
          {
            "id": 2410,
            "jobUrl": "https://azure.qubole.com/cluster-proxy?encodedUrl\u003dhttp%3A%2F%2F10.0.0.4%3A8088%2Fproxy%2Fapplication_1514389998215_0001/jobs/job?spark\u003dtrue\u0026id\u003d2410",
            "numTasks": 1,
            "numCompletedTasks": 1,
            "stages": [
              {
                "id": 5285,
                "completed": true,
                "stageUrl": "https://azure.qubole.com/cluster-proxy?encodedUrl\u003dhttp%3A%2F%2F10.0.0.4%3A8088%2Fproxy%2Fapplication_1514389998215_0001/stages/stage/?id\u003d5285\u0026attempt\u003d0",
                "numCompleteTasks": 1,
                "numActiveTasks": 0,
                "numFailedTasks": 0,
                "numTotalTasks": 1
              }
            ],
            "status": "Success"
          },
          {
            "id": 2411,
            "jobUrl": "https://azure.qubole.com/cluster-proxy?encodedUrl\u003dhttp%3A%2F%2F10.0.0.4%3A8088%2Fproxy%2Fapplication_1514389998215_0001/jobs/job?spark\u003dtrue\u0026id\u003d2411",
            "numTasks": 1,
            "numCompletedTasks": 1,
            "stages": [
              {
                "id": 5286,
                "completed": true,
                "stageUrl": "https://azure.qubole.com/cluster-proxy?encodedUrl\u003dhttp%3A%2F%2F10.0.0.4%3A8088%2Fproxy%2Fapplication_1514389998215_0001/stages/stage/?id\u003d5286\u0026attempt\u003d0",
                "numCompleteTasks": 1,
                "numActiveTasks": 0,
                "numFailedTasks": 0,
                "numTotalTasks": 1
              }
            ],
            "status": "Success"
          },
          {
            "id": 2412,
            "jobUrl": "https://azure.qubole.com/cluster-proxy?encodedUrl\u003dhttp%3A%2F%2F10.0.0.4%3A8088%2Fproxy%2Fapplication_1514389998215_0001/jobs/job?spark\u003dtrue\u0026id\u003d2412",
            "numTasks": 1,
            "numCompletedTasks": 1,
            "stages": [
              {
                "id": 5287,
                "completed": true,
                "stageUrl": "https://azure.qubole.com/cluster-proxy?encodedUrl\u003dhttp%3A%2F%2F10.0.0.4%3A8088%2Fproxy%2Fapplication_1514389998215_0001/stages/stage/?id\u003d5287\u0026attempt\u003d0",
                "numCompleteTasks": 1,
                "numActiveTasks": 0,
                "numFailedTasks": 0,
                "numTotalTasks": 1
              }
            ],
            "status": "Success"
          },
          {
            "id": 2413,
            "jobUrl": "https://azure.qubole.com/cluster-proxy?encodedUrl\u003dhttp%3A%2F%2F10.0.0.4%3A8088%2Fproxy%2Fapplication_1514389998215_0001/jobs/job?spark\u003dtrue\u0026id\u003d2413",
            "numTasks": 1,
            "numCompletedTasks": 1,
            "stages": [
              {
                "id": 5288,
                "completed": true,
                "stageUrl": "https://azure.qubole.com/cluster-proxy?encodedUrl\u003dhttp%3A%2F%2F10.0.0.4%3A8088%2Fproxy%2Fapplication_1514389998215_0001/stages/stage/?id\u003d5288\u0026attempt\u003d0",
                "numCompleteTasks": 1,
                "numActiveTasks": 0,
                "numFailedTasks": 0,
                "numTotalTasks": 1
              }
            ],
            "status": "Success"
          },
          {
            "id": 2414,
            "jobUrl": "https://azure.qubole.com/cluster-proxy?encodedUrl\u003dhttp%3A%2F%2F10.0.0.4%3A8088%2Fproxy%2Fapplication_1514389998215_0001/jobs/job?spark\u003dtrue\u0026id\u003d2414",
            "numTasks": 1,
            "numCompletedTasks": 1,
            "stages": [
              {
                "id": 5289,
                "completed": true,
                "stageUrl": "https://azure.qubole.com/cluster-proxy?encodedUrl\u003dhttp%3A%2F%2F10.0.0.4%3A8088%2Fproxy%2Fapplication_1514389998215_0001/stages/stage/?id\u003d5289\u0026attempt\u003d0",
                "numCompleteTasks": 1,
                "numActiveTasks": 0,
                "numFailedTasks": 0,
                "numTotalTasks": 1
              }
            ],
            "status": "Success"
          },
          {
            "id": 2415,
            "jobUrl": "https://azure.qubole.com/cluster-proxy?encodedUrl\u003dhttp%3A%2F%2F10.0.0.4%3A8088%2Fproxy%2Fapplication_1514389998215_0001/jobs/job?spark\u003dtrue\u0026id\u003d2415",
            "numTasks": 1,
            "numCompletedTasks": 1,
            "stages": [
              {
                "id": 5290,
                "completed": true,
                "stageUrl": "https://azure.qubole.com/cluster-proxy?encodedUrl\u003dhttp%3A%2F%2F10.0.0.4%3A8088%2Fproxy%2Fapplication_1514389998215_0001/stages/stage/?id\u003d5290\u0026attempt\u003d0",
                "numCompleteTasks": 1,
                "numActiveTasks": 0,
                "numFailedTasks": 0,
                "numTotalTasks": 1
              }
            ],
            "status": "Success"
          },
          {
            "id": 2416,
            "jobUrl": "https://azure.qubole.com/cluster-proxy?encodedUrl\u003dhttp%3A%2F%2F10.0.0.4%3A8088%2Fproxy%2Fapplication_1514389998215_0001/jobs/job?spark\u003dtrue\u0026id\u003d2416",
            "numTasks": 2,
            "numCompletedTasks": 2,
            "stages": [
              {
                "id": 5291,
                "completed": true,
                "stageUrl": "https://azure.qubole.com/cluster-proxy?encodedUrl\u003dhttp%3A%2F%2F10.0.0.4%3A8088%2Fproxy%2Fapplication_1514389998215_0001/stages/stage/?id\u003d5291\u0026attempt\u003d0",
                "numCompleteTasks": 1,
                "numActiveTasks": 0,
                "numFailedTasks": 0,
                "numTotalTasks": 1
              },
              {
                "id": 5292,
                "completed": true,
                "stageUrl": "https://azure.qubole.com/cluster-proxy?encodedUrl\u003dhttp%3A%2F%2F10.0.0.4%3A8088%2Fproxy%2Fapplication_1514389998215_0001/stages/stage/?id\u003d5292\u0026attempt\u003d0",
                "numCompleteTasks": 1,
                "numActiveTasks": 0,
                "numFailedTasks": 0,
                "numTotalTasks": 1
              }
            ],
            "status": "Success"
          }
        ],
        "numCompletedTasks": 8,
        "numTasks": 8,
        "truncated": false
      },
      "jobName": "paragraph_1513311649329_1467165373",
      "id": "20171215-042049_978435142_q_8YVGJMASEQ1515692831",
      "result": {
        "code": "SUCCESS",
        "type": "TEXT",
        "msg": ""
      },
      "dateCreated": "Dec 15, 2017 4:20:49 AM",
      "dateStarted": "Dec 27, 2017 8:40:51 PM",
      "dateFinished": "Dec 27, 2017 8:41:03 PM",
      "status": "FINISHED",
      "progressUpdateIntervalMs": 500
    },
    {
      "text": "scoredDf.printSchema",
      "user": "rajivkalapala@precocityllc.com",
      "dateUpdated": "Dec 15, 2017 4:42:16 AM",
      "config": {
        "colWidth": 12.0,
        "graph": {
          "mode": "table",
          "height": 300.0,
          "optionOpen": false,
          "keys": [],
          "values": [],
          "groups": [],
          "scatter": {}
        },
        "enabled": true,
        "editorMode": "ace/mode/scala"
      },
      "settings": {
        "params": {},
        "forms": {}
      },
      "paragraphProgress": {
        "jobs": [],
        "numCompletedTasks": 0,
        "numTasks": 0,
        "truncated": false
      },
      "jobName": "paragraph_1513311681019_-1838566528",
      "id": "20171215-042121_254603669_q_8YVGJMASEQ1515692831",
      "result": {
        "code": "SUCCESS",
        "type": "TEXT",
        "msg": "root\n |-- asin: string (nullable \u003d true)\n |-- helpful: array (nullable \u003d true)\n |    |-- element: long (containsNull \u003d true)\n |-- overall: double (nullable \u003d true)\n |-- reviewText: string (nullable \u003d true)\n |-- reviewTime: string (nullable \u003d true)\n |-- reviewerID: string (nullable \u003d true)\n |-- reviewerName: string (nullable \u003d true)\n |-- summary: string (nullable \u003d true)\n |-- unixReviewTime: long (nullable \u003d true)\n |-- Category: string (nullable \u003d false)\n |-- upVotes: long (nullable \u003d true)\n |-- totalVotes: long (nullable \u003d true)\n |-- score: double (nullable \u003d true)\n\n"
      },
      "dateCreated": "Dec 15, 2017 4:21:21 AM",
      "dateStarted": "Dec 15, 2017 4:42:16 AM",
      "dateFinished": "Dec 15, 2017 4:42:17 AM",
      "status": "FINISHED",
      "progressUpdateIntervalMs": 500
    },
    {
      "text": "val (startValues,counts) \u003d scoredDf.filter(\"score \u003e 0\").select(\"score\").map(value \u003d\u003e value.getDouble(0)).rdd.histogram(5)\nval zippedValues \u003d startValues.zip(counts)\ncase class HistRow(startPoint:Double,count:Long)\nval rowRDD \u003d zippedValues.map( value \u003d\u003e HistRow(value._1,value._2))\nval histDf \u003d spark.createDataFrame(rowRDD)\nhistDf.createOrReplaceTempView(\"histogramTable\")",
      "user": "rajivkalapala@precocityllc.com",
      "dateUpdated": "Dec 15, 2017 4:42:24 AM",
      "config": {
        "colWidth": 12.0,
        "graph": {
          "mode": "table",
          "height": 300.0,
          "optionOpen": false,
          "keys": [],
          "values": [],
          "groups": [],
          "scatter": {}
        },
        "enabled": true,
        "editorMode": "ace/mode/scala"
      },
      "settings": {
        "params": {},
        "forms": {}
      },
      "paragraphProgress": {
        "jobs": [
          {
            "id": 498,
            "jobUrl": "https://azure.qubole.com/cluster-proxy?encodedUrl\u003dhttp%3A%2F%2F10.0.0.5%3A8088%2Fproxy%2Fapplication_1513309580436_0001/jobs/job?spark\u003dtrue\u0026id\u003d498",
            "numTasks": 462,
            "numCompletedTasks": 462,
            "stages": [
              {
                "id": 1001,
                "completed": true,
                "stageUrl": "https://azure.qubole.com/cluster-proxy?encodedUrl\u003dhttp%3A%2F%2F10.0.0.5%3A8088%2Fproxy%2Fapplication_1513309580436_0001/stages/stage/?id\u003d1001\u0026attempt\u003d0",
                "numCompleteTasks": 462,
                "numActiveTasks": 0,
                "numFailedTasks": 0,
                "numTotalTasks": 462
              }
            ],
            "status": "Success"
          },
          {
            "id": 499,
            "jobUrl": "https://azure.qubole.com/cluster-proxy?encodedUrl\u003dhttp%3A%2F%2F10.0.0.5%3A8088%2Fproxy%2Fapplication_1513309580436_0001/jobs/job?spark\u003dtrue\u0026id\u003d499",
            "numTasks": 462,
            "numCompletedTasks": 462,
            "stages": [
              {
                "id": 1002,
                "completed": true,
                "stageUrl": "https://azure.qubole.com/cluster-proxy?encodedUrl\u003dhttp%3A%2F%2F10.0.0.5%3A8088%2Fproxy%2Fapplication_1513309580436_0001/stages/stage/?id\u003d1002\u0026attempt\u003d0",
                "numCompleteTasks": 462,
                "numActiveTasks": 0,
                "numFailedTasks": 0,
                "numTotalTasks": 462
              }
            ],
            "status": "Success"
          }
        ],
        "numCompletedTasks": 924,
        "numTasks": 924,
        "truncated": false
      },
      "jobName": "paragraph_1513311694983_-406500474",
      "id": "20171215-042134_752650506_q_8YVGJMASEQ1515692831",
      "result": {
        "code": "SUCCESS",
        "type": "TEXT",
        "msg": "\n\nstartValues: Array[Double] \u003d Array(0.0034602076124567475, 0.2027681660899654, 0.40207612456747405, 0.6013840830449827, 0.8006920415224914, 1.0)\ncounts: Array[Long] \u003d Array(166880, 256342, 389517, 655738, 1463720)\n\nzippedValues: Array[(Double, Long)] \u003d Array((0.0034602076124567475,166880), (0.2027681660899654,256342), (0.40207612456747405,389517), (0.6013840830449827,655738), (0.8006920415224914,1463720))\n\ndefined class HistRow\n\nrowRDD: Array[HistRow] \u003d Array(HistRow(0.0034602076124567475,166880), HistRow(0.2027681660899654,256342), HistRow(0.40207612456747405,389517), HistRow(0.6013840830449827,655738), HistRow(0.8006920415224914,1463720))\n\nhistDf: org.apache.spark.sql.DataFrame \u003d [startPoint: double, count: bigint]\n"
      },
      "dateCreated": "Dec 15, 2017 4:21:34 AM",
      "dateStarted": "Dec 15, 2017 4:42:24 AM",
      "dateFinished": "Dec 15, 2017 4:44:36 AM",
      "status": "FINISHED",
      "progressUpdateIntervalMs": 500
    },
    {
      "text": "%sql\nselect * from histogramTable",
      "user": "rajivkalapala@precocityllc.com",
      "dateUpdated": "Dec 15, 2017 4:45:56 AM",
      "config": {
        "colWidth": 12.0,
        "graph": {
          "mode": "multiBarChart",
          "height": 300.0,
          "optionOpen": false,
          "keys": [
            {
              "name": "startPoint",
              "index": 0.0,
              "aggr": "sum"
            }
          ],
          "values": [
            {
              "name": "count",
              "index": 1.0,
              "aggr": "sum"
            }
          ],
          "groups": [],
          "scatter": {
            "xAxis": {
              "name": "startPoint",
              "index": 0.0,
              "aggr": "sum"
            },
            "yAxis": {
              "name": "count",
              "index": 1.0,
              "aggr": "sum"
            }
          }
        },
        "enabled": true,
        "editorMode": "ace/mode/scala"
      },
      "settings": {
        "params": {},
        "forms": {}
      },
      "paragraphProgress": {
        "jobs": [],
        "numCompletedTasks": 0,
        "numTasks": 0,
        "truncated": false
      },
      "jobName": "paragraph_1513312944576_611934799",
      "id": "20171215-044224_663781415_q_8YVGJMASEQ1515692831",
      "result": {
        "code": "SUCCESS",
        "type": "TABLE",
        "msg": "startPoint\tcount\n0.0034602076124567475\t166880\n0.2027681660899654\t256342\n0.40207612456747405\t389517\n0.6013840830449827\t655738\n0.8006920415224914\t1463720\n"
      },
      "dateCreated": "Dec 15, 2017 4:42:24 AM",
      "dateStarted": "Dec 15, 2017 4:45:43 AM",
      "dateFinished": "Dec 15, 2017 4:45:43 AM",
      "status": "FINISHED",
      "progressUpdateIntervalMs": 500
    },
    {
      "config": {},
      "settings": {
        "params": {},
        "forms": {}
      },
      "jobName": "paragraph_1514926961944_-1524740743",
      "id": "20180102-210241_267837947_q_8YVGJMASEQ1515692831",
      "dateCreated": "Jan 2, 2018 9:02:41 PM",
      "status": "READY",
      "progressUpdateIntervalMs": 500
    }
  ],
  "name": "DryRun1",
  "id": "8YVGJMASEQ1515692831",
  "angularObjects": {
    "2D2QWKN8P6631515718565166:8YVGJMASEQ1515692831": [],
    "2D5JBYWBJ6631515694945141:8YVGJMASEQ1515692831": [],
    "2CZWJU1KG6631510262503868:shared_process": [],
    "2CX6ZKXWX6631510262503831:shared_process": [],
    "2CZXHXM1R6631510262503821:shared_process": []
  },
  "config": {
    "isDashboard": false
  },
  "info": {},
  "source": "FCN"
}